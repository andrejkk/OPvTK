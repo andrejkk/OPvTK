{
 "cells": [
  {
   "cell_type": "markdown",
   "metadata": {
    "collapsed": true,
    "slideshow": {
     "slide_type": "slide"
    }
   },
   "source": [
    "<img style=\"float: center; width: 100%\" src=\"https://raw.githubusercontent.com/andrejkk/TalksImgs/master/FrontSlideUpperBan.png\">\n",
    "<p style=\"margin-bottom:2cm;\"></p>\n",
    "\n",
    "<center>\n",
    "    <H1> 7. Nelinearna optimizacija </H1>\n",
    "   \n",
    "\n",
    "\n",
    "<br><br>\n",
    "    <H3> Andrej Košir, Lucami, FE </H3>\n",
    "    <H4> Kontakt: prof. dr. Andrej Košir, andrej.kosir@fe.uni-lj.si, ZOOM https://uni-lj-si.zoom.us/j/97654707084 </H4>\n",
    "</center>\n",
    "\n",
    "\n",
    "<p style=\"margin-bottom:2cm;\"></p>\n",
    "<div style=\"width:100%;text-align:right;font-weight:bold;font-size:1.2em;\"> 1 </div>\n",
    "<img src=\"https://raw.githubusercontent.com/andrejkk/ORvTK_SlidesImgs/master/footer_full.jpg\">"
   ]
  },
  {
   "cell_type": "markdown",
   "metadata": {
    "collapsed": true,
    "slideshow": {
     "slide_type": "slide"
    }
   },
   "source": [
    "<div style=\"display:flex;font-weight:bold;font-size:0.9em;\">\n",
    "<div style=\"flex:1;width:50%;\"> 7. Nelinearna optimizacija  </div>\n",
    "<div style=\"flex:1;width:50%;text-align:right;\"> Učni izidi </div>\n",
    "</div>\n",
    "\n",
    "\n",
    "## ■ Učni izidi\n",
    "\n",
    "- Prepoznati problem celoštevilskega in mešanega programiranja v praksi\n",
    "- Spoznati pristop deli in omeji\n",
    "- Uporabiti programska orodja za reševanje problemov celoštevilskega in mešanega programiranja v praksi\n",
    "- Spoznati pomembne primere v IKT praksi\n",
    "\n",
    "ToDo: \n",
    " - dodaj Newtonovo metodo\n",
    " - Konstrukcija vaje v Py, nov problem s podatki (prileganje, psi signali, ....)\n",
    "\n",
    "\n",
    "\n",
    "<p style=\"margin-bottom:2cm;\"></p>\n",
    "<div style=\"width:100%;text-align:right;font-weight:bold;font-size:1.2em;\"> 2 </div>\n",
    "<img src=\"https://raw.githubusercontent.com/andrejkk/ORvTK_SlidesImgs/master/footer_full.jpg\">"
   ]
  },
  {
   "cell_type": "markdown",
   "metadata": {},
   "source": [
    "<div style=\"display:flex;font-weight:bold;font-size:0.9em;\">\n",
    "<div style=\"flex:1;width:50%;\"> 7. Nelinearna optimizacija  </div>\n",
    "<div style=\"flex:1;width:50%;text-align:right;\"> Umestitev </div>\n",
    "</div>\n",
    "\n",
    "\n",
    "## ■ Umestitev\n",
    "\n",
    "Optimizacijska naloga je nelinearna če ima nelinearno kriterijsko funkcijo ali nelinearne omejitve ali oboje. Ena sama nelinearnost v kriterijski funkciji ali v omejitvah onemogoči simpleksni algoritem. Nelinearne kriterijske funkcije so v praksi navadno dovoljkrat (vsaj dvakrat) zvezno odvedljive in tedaj so uporabni iterativni postopki na osnovi gradineta.\n",
    "\n",
    "Gradient kriterijske funkcije daje smer njene največjega naraščanja. Ker se pri nelinearni optimizaciji brez škode za splošnost omejimo na iskanje minimuma, je dober približek smeri, ki vodi proti minimumu, nasprotna smeri gradienta. Tako je korak ene iteracije gradinetnih postopkov v nasprotno smer gradienta.   \n",
    "\n",
    "Linearna kriterijska funkcija je geometrijsko ravnina in tako ne more imeti lokalnih ekstremov. Nelinearna funkcija ima laahko več lokalnih ekstremov, zato definicijo lokalnih in globalnih ekstremov vpeljemo šele v tem poglavju. \n",
    "\n",
    "Glavna izziva iteracijskih metod za reševanje nelinearnih problemov sta iskanje zaačetnegaaa približka in ugotavljanje ali je najden ekstrem globalen ali ne. Zaačetni približek navadno poiščemo z drugimi optimizacijskimi metodami. Ugotalvjanje ali je dobljeni ekstrem globalni ali ne, je večinoma odvisno od posameznega primera. Dejstvo je, da so gradientne metode lokalne in v teku same iteracije ni na voljo nobene informacije, ki bi bila uporabna pri ugotavljanju globalnega ekstrema.  \n",
    "\n",
    "\n",
    "\n",
    "<p style=\"margin-bottom:2cm;\"></p>\n",
    "<div style=\"width:100%;text-align:right;font-weight:bold;font-size:1.2em;\"> 2 </div>\n",
    "<img src=\"https://raw.githubusercontent.com/andrejkk/ORvTK_SlidesImgs/master/footer_full.jpg\">"
   ]
  },
  {
   "cell_type": "markdown",
   "metadata": {},
   "source": [
    "<div style=\"display:flex;font-weight:bold;font-size:0.9em;\">\n",
    "<div style=\"flex:1;width:50%;\"> 7. Nelinearna optimizacija  </div>\n",
    "<div style=\"flex:1;width:50%;text-align:right;\"> Cilji </div>\n",
    "</div>\n",
    "\n",
    "\n",
    "## ■ Cilj, vsebina\n",
    "\n",
    "- Cilj:\n",
    "    - Prepoznati nelineanre optimizacijske algoritme\n",
    "    - Izbrati in uporabiti primeren algoritem za reševanje\n",
    "\n",
    "\n",
    "- Geometrijska interpretacija\n",
    "    - Taylorjeva formula\n",
    "    - Ravnina, kvadratična forma\n",
    "\n",
    "\n",
    "- Gladke kriterijske funkcije\n",
    "- Kvadratično programiranje\n",
    "- Lagrangejev izrek\n",
    "- Iteracijske metode\n",
    "    - Gradinetna metoda\n",
    "    - Metoda konjugiranega gradienta\n",
    "- Problem začetnih približkov\n",
    "- Primer:\n",
    "    - Prileganja modela razširjanja brezžičnega signala\n",
    "\n",
    "\n",
    "<p style=\"margin-bottom:2cm;\"></p>\n",
    "<div style=\"width:100%;text-align:right;font-weight:bold;font-size:1.2em;\"> 2 </div>\n",
    "<img src=\"https://raw.githubusercontent.com/andrejkk/ORvTK_SlidesImgs/master/footer_full.jpg\">"
   ]
  },
  {
   "cell_type": "markdown",
   "metadata": {
    "collapsed": true,
    "slideshow": {
     "slide_type": "slide"
    }
   },
   "source": [
    "<div style=\"display:flex;font-weight:bold;font-size:0.9em;\">\n",
    "<div style=\"flex:1;width:50%;\"> 7. Nelinearna optimizacija  </div>\n",
    "<div style=\"flex:1;width:50%;text-align:right;\"> Poglavja </div>\n",
    "</div>\n",
    "\n",
    "\n",
    "## ■ Poglavja (1)\n",
    "\n",
    "7.1. Definicija, tipi ekstremov\n",
    "\n",
    "■ Nelinearni optimizacijski problem $\\large{*}$\n",
    "\n",
    "■ Primer: prileganje parametričnega modela\n",
    "\n",
    "■ Lokalni in globalni ekstrem $\\large{*}$\n",
    "\n",
    "■ Optimizacija z enim parametrom $\\large{*}$\n",
    "\n",
    "\n",
    "7.2. Kvadratična optimizacija, opt. pri pogoju\n",
    "\n",
    "■ Ravnina in kvadratična forma\n",
    "\n",
    "■ Kvadratična forma in ekstremi\n",
    "\n",
    "■ Taylorjeva formula\n",
    "\n",
    "■ Problem kvadratične optimizacija $\\large{*}$\n",
    "\n",
    "■ Optimizacija pri pogoju, Lagrangejev izrek $\\large{*}$\n",
    "\n",
    "\n",
    "<p style=\"margin-bottom:2cm;\"></p>\n",
    "<div style=\"width:100%;text-align:right;font-weight:bold;font-size:1.2em;\"> 3 </div>\n",
    "<img src=\"https://raw.githubusercontent.com/andrejkk/ORvTK_SlidesImgs/master/footer_full.jpg\">"
   ]
  },
  {
   "cell_type": "markdown",
   "metadata": {
    "collapsed": true,
    "slideshow": {
     "slide_type": "slide"
    }
   },
   "source": [
    "<div style=\"display:flex;font-weight:bold;font-size:0.9em;\">\n",
    "<div style=\"flex:1;width:50%;\"> 7. Nelinearna optimizacija  </div>\n",
    "<div style=\"flex:1;width:50%;text-align:right;\"> Poglavja </div>\n",
    "</div>\n",
    "\n",
    "## ■ Poglavja (2)\n",
    "\n",
    "7.3. Algoritmi nelinearne optimizacije\n",
    "\n",
    "■ Postopek iskanja ekstremov $\\large{*}$\n",
    "\n",
    "■ Okvir postopka iskanja ekstremov $\\large{*}$\n",
    "\n",
    "■ Gradientna metoda $\\large{*}$\n",
    "\n",
    "■ Metoda konjugiranega gradienta\n",
    "\n",
    "■ Realnost reševanja nelinearne optimizacije\n",
    "\n",
    "\n",
    "7.4. Aplikacije\n",
    "\n",
    "■ Prileganje krivulje\n",
    "\n",
    "■ Prileganje modela brezžičnega omrežja\n",
    "\n",
    "■ Priporočilni sistemi\n",
    "\n",
    "\n",
    "<p style=\"margin-bottom:2cm;\"></p>\n",
    "<div style=\"width:100%;text-align:right;font-weight:bold;font-size:1.2em;\"> 4 </div>\n",
    "<img src=\"https://raw.githubusercontent.com/andrejkk/ORvTK_SlidesImgs/master/footer_full.jpg\">"
   ]
  },
  {
   "cell_type": "markdown",
   "metadata": {
    "collapsed": true,
    "slideshow": {
     "slide_type": "slide"
    }
   },
   "source": [
    "<div style=\"display:flex;font-weight:bold;font-size:0.9em;\">\n",
    "<div style=\"flex:1;width:50%;\"> 7. Nelinearna optimizacija  </div>\n",
    "<div style=\"flex:1;width:50%;text-align:right;\"> 7.1 Definicija, tipi ekstremov </div>\n",
    "</div>\n",
    "\n",
    "## 7.1 Definicija, tipi ekstremov\n",
    "\n",
    "■ Nelinearni optimizacijski problem\n",
    "\n",
    "■ Primer: prileganje parametričnega modela\n",
    "\n",
    "■ Lokalni in globalni ekstrem\n",
    "\n",
    "\n",
    "<p style=\"margin-bottom:2cm;\"></p>\n",
    "<div style=\"width:100%;text-align:right;font-weight:bold;font-size:1.2em;\"> 5 </div>\n",
    "<img src=\"https://raw.githubusercontent.com/andrejkk/ORvTK_SlidesImgs/master/footer_full.jpg\">"
   ]
  },
  {
   "attachments": {},
   "cell_type": "markdown",
   "metadata": {
    "collapsed": true,
    "slideshow": {
     "slide_type": "slide"
    }
   },
   "source": [
    "<div style=\"display:flex;font-weight:bold;font-size:0.9em;\">\n",
    "<div style=\"flex:1;width:50%;\"> 7. Nelinearna optimizacija  </div>\n",
    "<div style=\"flex:1;width:50%;text-align:right;\"> 7.1 Definicija, tipi ekstremov </div>\n",
    "</div>\n",
    "\n",
    "\n",
    "## ■ Nelinearni optimizacijski problem\n",
    "\n",
    "- Definicija (kanonična oblika)\n",
    "$$ \\begin{matrix}\n",
    " & argmax_x c(x) \\cr\n",
    " s.t. &  \\cr\n",
    " & g_i(x) = 0, \\;i=1,\\ldots,p \\cr\n",
    " & h_j(x) \\leq 0, \\;j=1,\\ldots,m\n",
    "\\end{matrix}\n",
    "$$\n",
    "\n",
    "\n",
    "- Kriterijska funkcija je nelinearna;\n",
    "- Omejitve (predikat dopustnosti $\\Phi(x)$) so nelinearne, dveh oblik;\n",
    "\n",
    "\n",
    "- Reševanje: odvisno od lastnosti kriterijske funkcije \n",
    "\n",
    "\n",
    "<p style=\"margin-bottom:2cm;\"></p>\n",
    "<div style=\"width:100%;text-align:right;font-weight:bold;font-size:1.2em;\"> 6 </div>\n",
    "<img src=\"https://raw.githubusercontent.com/andrejkk/ORvTK_SlidesImgs/master/footer_full.jpg\">"
   ]
  },
  {
   "cell_type": "markdown",
   "metadata": {
    "collapsed": true,
    "slideshow": {
     "slide_type": "slide"
    }
   },
   "source": [
    "<div style=\"display:flex;font-weight:bold;font-size:0.9em;\">\n",
    "<div style=\"flex:1;width:50%;\"> 7. Nelinearna optimizacija  </div>\n",
    "<div style=\"flex:1;width:50%;text-align:right;\"> 7.1 Definicija, tipi ekstremov </div>\n",
    "</div>\n",
    "\n",
    "## ■ Primer: prileganje parametričnega modela\n",
    "\n",
    "- Model:\n",
    "$$ f(t;A, \\beta_1, \\beta_2) = A (1 - e^{-\\beta_1 t}) e^{-\\beta_2 t} $$\n",
    "\n",
    "\n",
    "\n",
    "- Podatki: \n",
    "    * $t = [0, 83, 166, 249, 332, 415]$;\n",
    "    * $y = [0, 80, 89, 86, 83, 81]$;\n",
    "    \n",
    "    \n",
    "- Kriterij: Najmanjša kvadratična napaka\n",
    "$$ c(A, \\beta_1, \\beta_2) = \\sum_{i=1}^6 |y_i - f(t_i; A, \\beta_1, \\beta_2)|^2. $$\n",
    "\n",
    "<img style=\"float: center; width: 350px; margin: 20px 20px 50px 0;\" src=\"https://raw.githubusercontent.com/andrejkk/ORvTK_SlidesImgs/master/FittedModel.png\">\n",
    "\n",
    "\n",
    "\n",
    "<p style=\"margin-bottom:2cm;\"></p>\n",
    "<div style=\"width:100%;text-align:right;font-weight:bold;font-size:1.2em;\"> 7 </div>\n",
    "<img src=\"https://raw.githubusercontent.com/andrejkk/ORvTK_SlidesImgs/master/footer_full.jpg\">"
   ]
  },
  {
   "cell_type": "markdown",
   "metadata": {
    "collapsed": true,
    "slideshow": {
     "slide_type": "slide"
    }
   },
   "source": [
    "<div style=\"display:flex;font-weight:bold;font-size:0.9em;\">\n",
    "<div style=\"flex:1;width:50%;\"> 7. Nelinearna optimizacija  </div>\n",
    "<div style=\"flex:1;width:50%;text-align:right;\"> 7.1 Definicija, tipi ekstremov </div>\n",
    "</div>\n",
    "\n",
    "## ■ Lokalni in globalni ekstrem\n",
    "\n",
    "\n",
    "- Funkcija $c: ℝ^n \\to ℝ$\n",
    "- Lokalni minimum v $x_0$:\n",
    "  $$ \\exists\\varepsilon > 0: \\forall x\\in K(x_0, \\varepsilon): c(x)\\geq c(x_0) $$\n",
    "- Strogi lokalni minimum v $x_0$:\n",
    "  $$ \\exists\\varepsilon > 0: \\forall x\\ne x_0\\in K(x_0, \\varepsilon): c(x)> c(x_0)  $$\n",
    "- Lokalni maksimum v $x_0$:\n",
    "  $$ \\exists\\varepsilon > 0: \\forall x\\in K(x_0, \\varepsilon): c(x)\\leq c(x_0) $$\n",
    "- Strogi lokalni maksimum v $x_0$:\n",
    "  $$ \\exists\\varepsilon > 0: \\forall x\\ne x_0\\in K(x_0, \\varepsilon): c(x)< c(x_0)  $$\n",
    "- Globalni minimum v $x_0$:\n",
    "  $$ \\forall x\\in ℝ^n: c(x)\\geq c(x_0) $$\n",
    "- Strogi globalni minimum v $x_0$:\n",
    "  $$ \\forall x\\ne 0\\in ℝ^n: c(x) > c(x_0) $$\n",
    "- Globalni maksimum v $x_0$:\n",
    "  $$ \\forall x\\in ℝ^n: c(x)\\leq c(x_0) $$\n",
    "- Strogi globalni maksimum v $x_0$:\n",
    "  $$ \\forall x\\ne 0\\in ℝ^n: c(x) < c(x_0) $$\n",
    "\n",
    "\n",
    "\n",
    "<img style=\"float: right; width: 300px; margin: -150px -20px 50px 0;\" src=\"https://raw.githubusercontent.com/andrejkk/ORvTK_SlidesImgs/master/LocalMinimas.png\">\n",
    "\n",
    "\n",
    "<p style=\"margin-bottom:4cm;\"></p>\n",
    "<div style=\"width:100%;text-align:right;font-weight:bold;font-size:1.2em;\"> 8 </div>\n",
    "<img src=\"https://raw.githubusercontent.com/andrejkk/ORvTK_SlidesImgs/master/footer_full.jpg\">"
   ]
  },
  {
   "cell_type": "markdown",
   "metadata": {
    "collapsed": true,
    "slideshow": {
     "slide_type": "slide"
    }
   },
   "source": [
    "<div style=\"display:flex;font-weight:bold;font-size:0.9em;\">\n",
    "<div style=\"flex:1;width:50%;\"> 7. Nelinearna optimizacija  </div>\n",
    "<div style=\"flex:1;width:50%;text-align:right;\"> 7.1 Definicija, tipi ekstremov </div>\n",
    "</div>\n",
    "\n",
    "## ■ Optimizacija z enim parametrom\n",
    "\n",
    "\n",
    "#### Kriterijska funkcija\n",
    "\n",
    " - Kriterijska funkcija $c: \\mathbb{R} \\to \\mathbb{R}$\n",
    " - Pogosto je to polinom, ni nujno\n",
    " - pomembne lastnosti: enkrat zvezno odvedljiva, dvakrat zvezno odvedljiva\n",
    " \n",
    " \n",
    "#### Potek iskanja ekstremov\n",
    "\n",
    "Za dvakrat zvezno odvedljivo funkcijo:\n",
    "1. Rešitev enačbe $c'(x)=0$ da kandidate za eksteme: $x_1, x_2, \\ldots, x_m$\n",
    "2. Preverimo tip ekstrema:\n",
    "    - $c''(x_i) < 0$: maksimum\n",
    "    - $c''(x_i) > 0$: minimul\n",
    "    - $c''(x_i) = 0$: ni ekstrema - prevoj\n",
    "\n",
    "\n",
    " \n",
    "\n",
    " \n",
    "\n",
    "\n",
    "\n",
    "\n",
    "<p style=\"margin-bottom:4cm;\"></p>\n",
    "<div style=\"width:100%;text-align:right;font-weight:bold;font-size:1.2em;\"> 8 </div>\n",
    "<img src=\"https://raw.githubusercontent.com/andrejkk/ORvTK_SlidesImgs/master/footer_full.jpg\">"
   ]
  },
  {
   "cell_type": "markdown",
   "metadata": {
    "collapsed": true,
    "slideshow": {
     "slide_type": "slide"
    }
   },
   "source": [
    "<div style=\"display:flex;font-weight:bold;font-size:0.9em;\">\n",
    "<div style=\"flex:1;width:50%;\"> 7. Nelinearna optimizacija  </div>\n",
    "<div style=\"flex:1;width:50%;text-align:right;\"> 7.2. Kvadratična optimizacija, opt. pri pogoju </div>\n",
    "</div>\n",
    "\n",
    "\n",
    "## 7.2. Kvadratična optimizacija, opt. pri pogoju\n",
    "\n",
    "\n",
    "■ Ravnina in kvadratična forma\n",
    "\n",
    "■ Kvadratična forma in ekstremi\n",
    "\n",
    "■ Taylorjeva formula\n",
    "\n",
    "■ Problem kvadratične optimizacija\n",
    "\n",
    "■ Optimizacija pri pogoju, Lagrangejev izrek\n",
    "\n",
    "\n",
    "\n",
    "<p style=\"margin-bottom:2cm;\"></p>\n",
    "<div style=\"width:100%;text-align:right;font-weight:bold;font-size:1.2em;\"> 9 </div>\n",
    "<img src=\"https://raw.githubusercontent.com/andrejkk/ORvTK_SlidesImgs/master/footer_full.jpg\">"
   ]
  },
  {
   "attachments": {},
   "cell_type": "markdown",
   "metadata": {
    "collapsed": true,
    "slideshow": {
     "slide_type": "slide"
    }
   },
   "source": [
    "<div style=\"display:flex;font-weight:bold;font-size:0.9em;\">\n",
    "<div style=\"flex:1;width:50%;\"> 7. Nelinearna optimizacija  </div>\n",
    "<div style=\"flex:1;width:50%;text-align:right;\"> 7.2. Kvadratična optimizacija, opt. pri pogoju </div>\n",
    "</div>\n",
    "\n",
    "\n",
    "\n",
    "## ■ Gradient, ravnina in kvadratična forma\n",
    "\n",
    "- Gradient $\\vec{\\nabla} c(\\vec{x})$ je smer največjega naraščanja funkcije $c$ v točki $\\vec{x}$.\n",
    "\n",
    "- Funkcija \n",
    "$$ c(\\vec{x}) = a_0 + \\sum_{i=1}^n a_i (x_i - x_{i0}) = a_0 + \\vec{a}^\\top.(\\vec{x}-\\vec{x}_0). $$\n",
    "je ravnina. Smer njenega največjega naraščanja je\n",
    "$$ \\vec{\\nabla} c(\\vec{x}) = \\vec{a}. $$\n",
    "\n",
    "- Če gradient $\\vec{\\nabla} c(\\vec{x}_0)$ obstaja, potem ima funkcija $c$ ekstremno točko v $\\vec{x}_0$ če in samo če je njena tangentna ravnina <br> v točki $\\vec{x}_0$ vzporedna ravnino neodvisne spremenljivke (vodoravna), to je če in samo če je \n",
    "$$ \\vec{\\nabla} c(\\vec{x}_0) = \\vec{0} $$\n",
    "\n",
    "\n",
    "<img style=\"float: right; width: 200px; margin: -200px -20px 50px 0;\" src=\"https://raw.githubusercontent.com/andrejkk/ORvTK_SlidesImgs/master/FunMinima.png\">\n",
    "\n",
    "\n",
    "- Kvadratična forma\n",
    "$$ c(\\vec{x}) = a_0 + \\sum_{i=1}^n a_i (x_i-x_{i0}) + \\sum_{i=1}^n\\sum_{j=1}^n a_{ij} (x_i-x_{i0})(x_j-x_{0j}) $$\n",
    "$$ = a_0 + \\vec{a}_1^\\top.(\\vec{x}-\\vec{x}_0) + (\\vec{x}-\\vec{x}_0)^\\top.A.(\\vec{x}-\\vec{x}_0) $$\n",
    "je ali\n",
    "    - Paraboloid, spodaj omejen: ima minimum\n",
    "    - Paraboloid, zgoraj omejen: ima maksimum\n",
    "    - Sedlo: nima ekstrema\n",
    "    \n",
    "Če ima funkcija $c$ ekstrem, ga ima v $\\vec{x}_0$, kjer je $\\vec{\\nabla} c(\\vec{x}_0)=\\vec{0}$.\n",
    "    \n",
    "    \n",
    "\n",
    "- pri predstavitvi kavadratične norme z matriko $A$ brez škode za splošnost predpostavimo $A^\\top = A$. \n",
    "\n",
    "<img style=\"float: right; width: 200px; margin: -120px -20px 50px 0;\" src=\"https://raw.githubusercontent.com/andrejkk/ORvTK_SlidesImgs/master/FunMaxima.png\">\n",
    "\n",
    "<img style=\"float: right; width: 200px; margin: 0px -20px 50px 0;\" src=\"https://raw.githubusercontent.com/andrejkk/ORvTK_SlidesImgs/master/FunSaddle.png\">\n",
    "\n",
    "\n",
    "\n",
    "<p style=\"margin-bottom:6cm;\"></p>\n",
    "<div style=\"width:100%;text-align:right;font-weight:bold;font-size:1.2em;\"> 10 </div>\n",
    "<img src=\"https://raw.githubusercontent.com/andrejkk/ORvTK_SlidesImgs/master/footer_full.jpg\">"
   ]
  },
  {
   "cell_type": "markdown",
   "metadata": {
    "collapsed": true,
    "slideshow": {
     "slide_type": "slide"
    }
   },
   "source": [
    "<div style=\"display:flex;font-weight:bold;font-size:0.9em;\">\n",
    "<div style=\"flex:1;width:50%;\"> 7. Nelinearna optimizacija  </div>\n",
    "<div style=\"flex:1;width:50%;text-align:right;\"> 7.2. Kvadratična optimizacija, opt. pri pogoju </div>\n",
    "</div>\n",
    "\n",
    "\n",
    "\n",
    "## ■ Kvadratična forma in ekstremi\n",
    "\n",
    "\n",
    "- Ravnina nima ekstrema, razen na robu\n",
    "- Prevedba kvadratične forme na kanonično obliko:\n",
    "    - Matrika $A$ je brez škode za splošnost simetričma\n",
    "    - Matrika $A$ ima realen spekter (realne lastne vrednosti): $\\{\\lambda_1, \\ldots, \\lambda_n\\}$\n",
    "    - Shurov razcep simetrične matrike: $A=Q.D.Q^\\top$, $D=diag(\\lambda_1, \\ldots, \\lambda_n)$ je le uvedba nove baze:\n",
    "    $$ c(\\vec{x}) = \\vec{x}^\\top.A.\\vec{x} = \\vec{y}^\\top.D.\\vec{y} = \\sum_{i=1}^n \\lambda_i y_i^2. $$\n",
    "    \n",
    "\n",
    "\n",
    "- Tip ekstrema ni odvisen od uvedbe nove baze, torej odločajo lastne vrednosti (za iskanje lastnih vrednosti ne potrebujemo Shurovega razcepa):\n",
    "    - $\\lambda_i \\geq 0 \\forall i$ ($A$ je pozitivno definitna): lokalni minimum\n",
    "    - $\\lambda_i > 0 \\forall i$ ($A$ je strogo pozitivno definitna): strogi lokalni minimum\n",
    "    - $\\lambda_i \\leq 0 \\forall i$ ($A$ je negativno definitna): lokalni maksimum\n",
    "    - $\\lambda_i < 0 \\forall i$ ($A$ je pozitivno definitna): strogi lokalni maksimum\n",
    "    - $\\lambda_i$ različnih predznakov ($A$ ni definitna): ni ekstrema\n",
    "\n",
    "\n",
    "<p style=\"margin-bottom:2cm;\"></p>\n",
    "<div style=\"width:100%;text-align:right;font-weight:bold;font-size:1.2em;\"> 12 </div>\n",
    "<img src=\"https://raw.githubusercontent.com/andrejkk/ORvTK_SlidesImgs/master/footer_full.jpg\">"
   ]
  },
  {
   "cell_type": "code",
   "execution_count": 1,
   "metadata": {},
   "outputs": [
    {
     "name": "stdout",
     "output_type": "stream",
     "text": [
      "Eigenvalues D\n",
      " [[1.37867966 0.        ]\n",
      " [0.         5.62132034]]\n",
      "Axes\n",
      " [[-0.92387953 -0.38268343]\n",
      " [ 0.38268343 -0.92387953]]\n",
      "Eigenvalues eigA\n",
      " (array([1.37867966+0.j, 5.62132034+0.j]), array([[-0.92387953, -0.38268343],\n",
      "       [ 0.38268343, -0.92387953]]))\n"
     ]
    }
   ],
   "source": [
    "# This is to demonstrate Schur matrix decomposition in the interpretation of \n",
    "# extreme points - signs of eigenvalues decides between minimum, maximum and saddle\n",
    "\n",
    "import numpy as np\n",
    "from scipy import linalg\n",
    "\n",
    "# Case c(x) = 2 x_1^2 + 3 x_1 x_2 + 5 x_2^2\n",
    "\n",
    "A = np.array([[2, 1.5], [1.5, 5]])\n",
    "\n",
    "\n",
    "schA = linalg.schur(A)\n",
    "D = schA[0]\n",
    "axs = schA[1]\n",
    "\n",
    "print (\"Eigenvalues D\\n\", D)\n",
    "print (\"Axes\\n\", axs)\n",
    "\n",
    "\n",
    "# It is enough and more computatinally effective to find only eigenvalues\n",
    "eigA = linalg.eig(A)\n",
    "print (\"Eigenvalues eigA\\n\", eigA)\n",
    "\n",
    "\n",
    "# Interpretation: \\lambda_i > 0 => minimum\n"
   ]
  },
  {
   "cell_type": "markdown",
   "metadata": {
    "collapsed": true,
    "slideshow": {
     "slide_type": "slide"
    }
   },
   "source": [
    "<div style=\"display:flex;font-weight:bold;font-size:0.9em;\">\n",
    "<div style=\"flex:1;width:50%;\"> 7. Nelinearna optimizacija  </div>\n",
    "<div style=\"flex:1;width:50%;text-align:right;\"> 7.2. Kvadratična optimizacija, opt. pri pogoju </div>\n",
    "</div>\n",
    "\n",
    "\n",
    "\n",
    "## ■ Taylorjeva formula\n",
    "\n",
    "\n",
    "- Taylorjeva formula nam da **kvadratično formo poljubne dvakrat zvezno odvedljive kriterijske funkcije**\n",
    "\n",
    "- Taylorjeva formula funkcije večih spremenljivk v $\\vec{x}$ okoli $\\vec{x}_0$ (v vlogi kriterijske funkcije $c$ je tu $f$): \n",
    "$$ f(\\vec{x}) = f(\\vec{x}_0) + \\vec{\\nabla} f(\\vec{x}_0)^\\top.(\\vec{x}-\\vec{x}_0) \n",
    "+ .(\\vec{x}-\\vec{x}_0)^\\top.Hf(\\vec{x}_0).(\\vec{x}-\\vec{x}_0) + O(|\\vec{x}-\\vec{x}_0|^3) $$\n",
    "kjer je\n",
    "    - Gradinet  $\\vec{\\nabla} f(\\vec{x}) = [\\frac{\\partial f(\\vec{x})}{\\partial x_1}, \\ldots, \\frac{\\partial f(\\vec{x})}{\\partial x_n}]$ \n",
    "    - Hessejeva matrika: $Hf(\\vec{x}) = [\\frac{\\partial^2 f(\\vec{x})}{\\partial x_i \\partial x_j}]_{ij}$. Simetrična če je $f\\in \\cal C^{(2)}$\n",
    "\n",
    "\n",
    "- Geometrijski pomen\n",
    "- Za dovolj majhne $\\vec{h}$ je dovolj analizirati kvadratično formo\n",
    "\n",
    "\n",
    "\n",
    "- Povezava z optimizacijo: $f\\in \\cal C^{(2)}$\n",
    "    - Ekstrem v notranjosti $\\Rightarrow$ $\\vec{\\nabla} f(\\vec{x}_0)$ (le potreben pogoj – seznam kandidatov)\n",
    "    - Ali je ekstrem in če je, tip: spektralna analiza $Hf(\\vec{x}_0)$.\n",
    "\n",
    "\n",
    "<p style=\"margin-bottom:2cm;\"></p>\n",
    "<div style=\"width:100%;text-align:right;font-weight:bold;font-size:1.2em;\"> 13 </div>\n",
    "<img src=\"https://raw.githubusercontent.com/andrejkk/ORvTK_SlidesImgs/master/footer_full.jpg\">"
   ]
  },
  {
   "cell_type": "markdown",
   "metadata": {
    "collapsed": true,
    "slideshow": {
     "slide_type": "slide"
    }
   },
   "source": [
    "<div style=\"display:flex;font-weight:bold;font-size:0.9em;\">\n",
    "<div style=\"flex:1;width:50%;\"> 7. Nelinearna optimizacija  </div>\n",
    "<div style=\"flex:1;width:50%;text-align:right;\"> 7.2. Kvadratična optimizacija, opt. pri pogoju </div>\n",
    "</div>\n",
    "\n",
    "\n",
    "\n",
    "## ■ Problem kvadratične optimizacije\n",
    "\n",
    "- Kvadratična optimizacija: kriterijska funkcija oblike (s središčem v $\\vec{0}$)\n",
    "$$ c(\\vec{x}) = a_0 + \\vec{a}^\\top.\\vec{x} + \\frac{1}{2} \\vec{x}^\\top.A.\\vec{x}  $$\n",
    "\n",
    "\n",
    "\n",
    "- Simetrična matrika je pozitivno definitna:\n",
    "    - Def: če za vsak $\\vec{x}\\ne\\vec{0}$ velja $\\vec{x}^\\top.A.\\vec{x} > 0$.\n",
    "    - Ekvivalentno: lastne vrednosti so strogo pozitivne: $\\lambda_i > 0$\n",
    "\n",
    "\n",
    "\n",
    "- Kvadratična forma je strogo konveksna, če in samo če je matrika A pozitivno definitna.  \n",
    "\n",
    "\n",
    "\n",
    "- Velja: Naj bo matrika $A$ pozitivno definitna. Funkcija \n",
    "$$ c(\\vec{x}) = a_0 + \\vec{a}^\\top.\\vec{x} + \\frac{1}{2} \\vec{x}^\\top.A.\\vec{x} $$\n",
    "ima ekstrem $\\vec{x}^*$ natanko tedaj ko $\\vec{x}^*$ reši enačbo\n",
    "$$ \\vec{\\nabla} c(\\vec{x}^*) = A.\\vec{x}^* + \\vec{a} = \\vec{0}. $$\n",
    "\n",
    "\n",
    "\n",
    "<p style=\"margin-bottom:2cm;\"></p>\n",
    "<div style=\"width:100%;text-align:right;font-weight:bold;font-size:1.2em;\"> 14 </div>\n",
    "<img src=\"https://raw.githubusercontent.com/andrejkk/ORvTK_SlidesImgs/master/footer_full.jpg\">"
   ]
  },
  {
   "attachments": {},
   "cell_type": "markdown",
   "metadata": {
    "collapsed": true,
    "slideshow": {
     "slide_type": "slide"
    }
   },
   "source": [
    "<div style=\"display:flex;font-weight:bold;font-size:0.9em;\">\n",
    "<div style=\"flex:1;width:50%;\"> 7. Nelinearna optimizacija  </div>\n",
    "<div style=\"flex:1;width:50%;text-align:right;\"> 7.2. Kvadratična optimizacija, opt. pri pogoju </div>\n",
    "</div>\n",
    "\n",
    "\n",
    "## ■ Optimizacija krit. funkcije s kvadratično normo\n",
    "\n",
    "\n",
    "- Kriterijska funkcija \n",
    "$$ c(\\vec{x}) = \\|\\vec{f}(\\vec{x}) - \\vec{b}\\|_2 $$ \n",
    "- Kvadratična norma predstavlja „energijo“\n",
    "- Kvadratična norma je dobljena iz skalarnega produkta \n",
    "$$ \\|\\vec{x}\\|_2^2 = \\vec{x}^\\top.\\vec{x}  $$\n",
    "- Najkrajša razdalja je pravokotna razdalja\n",
    "\n",
    "\n",
    "\n",
    "- Kaj je vektor $\\vec{x}$, funkcija $f$ in vektor $\\vec{b}$:\n",
    "    * $\\vec{x}$ je vzorčen signal, funkcija $f$ predstavlja zgoščevanje in rekonstrukcijo, vektor $\\vec{b}$ pa originalen signal\n",
    "    * $\\vec{x}$ je čas, funkcija $f$ je teoretični model in vektor $\\vec{b}$ so znane vrednosti - meritve;\n",
    " \n",
    "\n",
    "\n",
    "- Linearen / lineariziran primer optimizacije: imamo eksplicitno rešitev\n",
    "    $$ \\vec{x}^* = A^\\dagger.\\vec{x} = (A^\\top.A)^{-1}.A.\\vec{b}\n",
    "     = argmin_x \\|A.\\vec{x} - \\vec{b}\\|_2.  $$\n",
    "    - Moore-Penroseov posplošeni inverz matrike (Python: numpy.linalg.pinv): rekonstrukcija iz projekcije\n",
    "    - Če je matrika $A$ obrnljiva, je rešitev $\\vec{x}^* = A^{-1}.\\vec{b}$ in vrednost v minimumu je enaka $c(\\vec{x}^*)=0$.\n",
    "\n",
    "\n",
    "\n",
    "- Opazimo: Matriko $A$ v linearizaciji lahko določimo za vsako $\\cal C^{(2)}$ funkcijo $f$, pri čemer upoštevamo prve člene Taylorjeve formule. \n",
    "\n",
    "\n",
    "<p style=\"margin-bottom:2cm;\"></p>\n",
    "<div style=\"width:100%;text-align:right;font-weight:bold;font-size:1.2em;\"> 15 </div>\n",
    "<img src=\"https://raw.githubusercontent.com/andrejkk/ORvTK_SlidesImgs/master/footer_full.jpg\">"
   ]
  },
  {
   "cell_type": "code",
   "execution_count": 14,
   "metadata": {},
   "outputs": [
    {
     "name": "stdout",
     "output_type": "stream",
     "text": [
      "Generalized inverse: \n",
      " [[-0.24637681  0.47826087]\n",
      " [-0.01449275  0.08695652]\n",
      " [ 0.37681159 -0.26086957]]\n",
      "Optimal solution \n",
      " [ 0.71014493  0.15942029 -0.14492754]\n"
     ]
    }
   ],
   "source": [
    "# This is to demonstrate that the solution to the quadratic norm objective function \n",
    "# optimisation problem is solved by a generalised (Penrose) inverse of linearised function $f$. \n",
    "\n",
    "import numpy as np\n",
    "\n",
    "A = np.array([[2, 1, 4], [3, 1, 2]])\n",
    "b = np.array([1, 2])\n",
    "\n",
    "Ap = np.linalg.pinv(A)\n",
    "\n",
    "x_o = np.dot(Ap,b)\n",
    "\n",
    "print (\"Generalized inverse: \\n\", Ap)\n",
    "print (\"Optimal solution \\n\", x_o)"
   ]
  },
  {
   "cell_type": "markdown",
   "metadata": {
    "collapsed": true,
    "slideshow": {
     "slide_type": "slide"
    }
   },
   "source": [
    "<div style=\"display:flex;font-weight:bold;font-size:0.9em;\">\n",
    "<div style=\"flex:1;width:50%;\"> 7. Nelinearna optimizacija  </div>\n",
    "<div style=\"flex:1;width:50%;text-align:right;\"> 7.2. Kvadratična optimizacija, opt. pri pogoju </div>\n",
    "</div>\n",
    "\n",
    "\n",
    "\n",
    "## Optimizacija pri pogoju, Lagrangejev izrek\n",
    "\n",
    "-  **Izrek** Naj bo $c, g_i:ℝ^n\\to ℝ$ in $c, g_i\\in \\cal C^{(2)}$ za vse $i=1,\\ldots,m$. Tedaj je nevezan ekstrem Lagrangejeve funkcije \n",
    "$$ C(\\vec{x}, \\lambda_1, \\ldots, \\lambda_m) = c(\\vec{x}) + \\sum_{i=1}^m \\lambda_i g_i(\\vec{x}) $$\n",
    "enak vezanemu ekstremu funkcije $c$ pri pogojih\n",
    "$$ g_i(\\vec{x})=0, \\quad i=1,\\ldots,m $$\n",
    "\n",
    "\n",
    "- Posplošitev je Karush–Kuhn–Tuckerjev izrek, ki obvladuje še pogoje v obliki neenačb:\n",
    "$$  g_i(x) = 0, \\;i=1,\\ldots,p $$\n",
    "$$  h_j(x) \\leq 0, \\;j=1,\\ldots,m $$\n",
    "\n",
    "\n",
    "\n",
    "<p style=\"margin-bottom:2cm;\"></p>\n",
    "<div style=\"width:100%;text-align:right;font-weight:bold;font-size:1.2em;\"> 16 </div>\n",
    "<img src=\"https://raw.githubusercontent.com/andrejkk/ORvTK_SlidesImgs/master/footer_full.jpg\">"
   ]
  },
  {
   "cell_type": "code",
   "execution_count": 15,
   "metadata": {},
   "outputs": [],
   "source": [
    "# This is to do calculations of the case 7.5 demonstrating the application of Lagrange's theorem transforming \n",
    "# constraint optimisation into a non-constraint one \n",
    "\n",
    "import numpy as np\n",
    "from scipy.optimize import minimize, rosen, rosen_der\n",
    "\n",
    "# Cost function\n",
    "def c(X):\n",
    "    return 4*(X[0]-2)**2 + 3*(X[1]-1)**2 + 2\n",
    "\n",
    "# Constrain\n",
    "def g(X):\n",
    "    return (X[0]-3)**2 + 3*(X[1]-2)**2 - 1\n",
    "\n",
    "\n",
    "# Gradient\n",
    "def grad(X):\n",
    "    px1 = 4*(X[0]-2)\n",
    "    px2 = 6*(X[1]-1)\n",
    "    return [px1, px2]\n",
    "\n",
    "# Hessian\n",
    "def Hc(X):\n",
    "    H = [[4, 0], [0, 6]]\n",
    "    return H\n",
    "\n"
   ]
  },
  {
   "cell_type": "code",
   "execution_count": 16,
   "metadata": {},
   "outputs": [
    {
     "name": "stdout",
     "output_type": "stream",
     "text": [
      "Candidate solution: [1.99999979 1.00000017]\n",
      "Grad:  [-8.586755839701254e-07, 9.967837035773641e-07]\n",
      "Eigs of H(X1) [4. 6.]\n"
     ]
    }
   ],
   "source": [
    "# Unconditional optimisation\n",
    "x0 = np.array([1,1])\n",
    "res = minimize(c, x0, method='Nelder-Mead', tol=1e-6)\n",
    "\n",
    "xS = res.x\n",
    "print ('Candidate solution:', xS)\n",
    "\n",
    "# Test grdient\n",
    "print ('Grad: ', grad(xS))\n",
    "\n",
    "\n",
    "# Identify types of extreme points\n",
    "las, eigvs = np.linalg.eig(Hc(xS))\n",
    "print (\"Eigs of H(X1)\", las)\n",
    "\n",
    "\n",
    "\n",
    "# Conclussion\n",
    "# True solution is [2,1] as seen from function\n",
    "# grad(xS) is close to zero => the solution xS is OK\n",
    "# Eigenvalues of Hc(xS) are all positive => xS is a Minimum"
   ]
  },
  {
   "cell_type": "code",
   "execution_count": 11,
   "metadata": {},
   "outputs": [
    {
     "name": "stdout",
     "output_type": "stream",
     "text": [
      "Candidate solution: [2.27478447 1.60248162]\n",
      "Grad:  [1.099137890607322, 3.6148897022026314]\n",
      "Eigs of H(X1) [4. 6.]\n"
     ]
    }
   ],
   "source": [
    "# Conditional solution\n",
    "\n",
    "# Condition\n",
    "cons = {'type':'eq', 'fun': g}\n",
    "x0 = np.array([1,1])\n",
    "res = minimize(c, x0, constraints=cons, tol=1e-6)\n",
    "\n",
    "xS = res.x\n",
    "print ('Candidate solution:', xS)\n",
    "\n",
    "# Test grdient\n",
    "print ('Grad: ', grad(xS))\n",
    "\n",
    "\n",
    "# Identify types of extreme points\n",
    "las, eigvs = np.linalg.eig(Hc(xS))\n",
    "print (\"Eigs of H(X1)\", las)\n",
    "\n",
    "# Conclusion: Gradient is not close to zero what is OK for conditional solution"
   ]
  },
  {
   "cell_type": "code",
   "execution_count": 17,
   "metadata": {},
   "outputs": [
    {
     "name": "stdout",
     "output_type": "stream",
     "text": [
      "      fun: -3256512.410913789\n",
      " hess_inv: array([[ 0.13826167, -0.03335401, -0.09240454],\n",
      "       [-0.03335401,  0.01838926, -0.02874768],\n",
      "       [-0.09240454, -0.02874768,  0.24825159]])\n",
      "      jac: array([21185.1875 , 53034.96875, 13003.9375 ])\n",
      "  message: 'Desired error not necessarily achieved due to precision loss.'\n",
      "     nfev: 480\n",
      "      nit: 5\n",
      "     njev: 117\n",
      "   status: 2\n",
      "  success: False\n",
      "        x: array([ -39.15540555, -103.96153179, -253.22761072])\n",
      "Conditional solution: [ -39.15540555 -103.96153179 -253.22761072]\n",
      "Eigs of H(X1) [  88.31262361 -502.17730819 -589.04575829]\n"
     ]
    }
   ],
   "source": [
    "# Conditional solution using Lagrange multiplicators\n",
    "\n",
    "# Lagrange function\n",
    "def C(X):\n",
    "    return 2*(X[0]-2)**2 + 3*(X[1]-1)**2 + 2 + X[2]*((X[0]-3)**2 + (X[1]-2)**2 - 1)\n",
    "    #return c(X[0:2]) + X[2]*g(X[0:2])\n",
    "\n",
    "# Gradient\n",
    "def grad(X):\n",
    "    return [4*(X[0]-2) + 2*X[2]*(X[0]-3), 6*(X[1]-1) + 2*X[2]*(X[1]-2), (X[0]-3)**2 + (X[1]-2)**2 - 1]\n",
    "    \n",
    "# Hessian\n",
    "def Hc(X):\n",
    "    H = [[4 + 2*X[2], 0, 2*(X[0]-3)], [0, 6+2*X[2], 2*(X[1]-2)], [2*(X[0]-3), 2*(X[1]-2), 0]]\n",
    "    return H\n",
    "\n",
    "\n",
    "\n",
    "X0 = np.array([3,0,1])\n",
    "res = minimize(C, X0, tol=1e-6)\n",
    "print (res)\n",
    "\n",
    "XS = res.x\n",
    "print ('Conditional solution:', XS)\n",
    "\n",
    "las, eigvs = np.linalg.eig(Hc(XS))\n",
    "print (\"Eigs of H(X1)\", las)"
   ]
  },
  {
   "cell_type": "markdown",
   "metadata": {
    "collapsed": true,
    "slideshow": {
     "slide_type": "slide"
    }
   },
   "source": [
    "<div style=\"display:flex;font-weight:bold;font-size:0.9em;\">\n",
    "<div style=\"flex:1;width:50%;\"> 7. Nelinearna optimizacija  </div>\n",
    "<div style=\"flex:1;width:50%;text-align:right;\"> 7.3. Algoritmi nelinearne optimizacije </div>\n",
    "</div>\n",
    "\n",
    "\n",
    "## 7.3. Algoritmi nelinearne optimizacije\n",
    "\n",
    "■ Postopek iskanja ekstremov\n",
    "\n",
    "■ Okvir postopka iskanja ekstremov\n",
    "\n",
    "■ Gradientna metoda\n",
    "\n",
    "■ Metoda konjugiranega gradienta\n",
    "\n",
    "■ Realnost reševanja nelinearne optimizacije\n",
    "\n",
    "\n",
    "<p style=\"margin-bottom:2cm;\"></p>\n",
    "<div style=\"width:100%;text-align:right;font-weight:bold;font-size:1.2em;\"> 17 </div>\n",
    "<img src=\"https://raw.githubusercontent.com/andrejkk/ORvTK_SlidesImgs/master/footer_full.jpg\">"
   ]
  },
  {
   "cell_type": "markdown",
   "metadata": {
    "collapsed": true,
    "slideshow": {
     "slide_type": "slide"
    }
   },
   "source": [
    "<div style=\"display:flex;font-weight:bold;font-size:0.9em;\">\n",
    "<div style=\"flex:1;width:50%;\"> 7. Nelinearna optimizacija  </div>\n",
    "<div style=\"flex:1;width:50%;text-align:right;\"> 7.3. Algoritmi nelinearne optimizacije </div>\n",
    "</div>\n",
    "\n",
    "\n",
    "## ■ Okvir postopka iskanja ekstremov (1)\n",
    "\n",
    "Gradient zajame le ekstreme v notranjosti območja dopustnih rešitev\n",
    "1. Notranjost območja:\n",
    "   1. Kandidati za ekstrem: $\\vec{\\nabla} c(\\vec{x})=0: \\vec{x}_1^*, \\vec{x}_2^*, \\ldots$\n",
    "   2. Tip ekstrema: analiza $H c(\\vec{x}_1^*), H c(\\vec{x}_2^*), \\ldots $\n",
    "    \n",
    "    \n",
    "2. Rob območja dopustnih rešitev:\n",
    "   1. Parametrizacija roba dopustnih rešitev: dimenzije ;\n",
    "   2. Reševanje ekstremov na robu z enakimi postopki;\n",
    "\n",
    "\n",
    "\n",
    "<p style=\"margin-bottom:2cm;\"></p>\n",
    "<div style=\"width:100%;text-align:right;font-weight:bold;font-size:1.2em;\"> 18 </div>\n",
    "<img src=\"https://raw.githubusercontent.com/andrejkk/ORvTK_SlidesImgs/master/footer_full.jpg\">"
   ]
  },
  {
   "cell_type": "markdown",
   "metadata": {
    "collapsed": true,
    "slideshow": {
     "slide_type": "slide"
    }
   },
   "source": [
    "<div style=\"display:flex;font-weight:bold;font-size:0.9em;\">\n",
    "<div style=\"flex:1;width:50%;\"> 7. Nelinearna optimizacija  </div>\n",
    "<div style=\"flex:1;width:50%;text-align:right;\"> 7.3. Algoritmi nelinearne optimizacije </div>\n",
    "</div>\n",
    "\n",
    "\n",
    "## ■ Okvir postopka iskanja ekstremov (2)\n",
    "\n",
    "\n",
    "- Kdaj: ko enačba $\\vec{\\nabla} c(\\vec{x})=0$ ni rešljiva (rešljiva je le izjemoma)\n",
    "- Kaj je iterativna metoda:\n",
    "    - Približek na koraku $k$ je $\\vec{x}_k$;\n",
    "    - Začetni približek $\\vec{x}_0$;\n",
    "    - Korak iskanja: $\\vec{x}_{k+1} = F(\\vec{x}_k, c)$;\n",
    "\n",
    "\n",
    "- Računska zahtevnost enega koraka\n",
    "\n",
    "\n",
    "- Tip konvergence: \n",
    "    - linearna (1 decimalno mesto na korak), \n",
    "    - kvadratična (2 decimalni mesti na korak) \n",
    "\n",
    "\n",
    "\n",
    "- Težave z začetnimi približki\n",
    "    - Samostojen robusten algoritem za začetni probližek\n",
    "\n",
    "\n",
    "<p style=\"margin-bottom:2cm;\"></p>\n",
    "<div style=\"width:100%;text-align:right;font-weight:bold;font-size:1.2em;\"> 19 </div>\n",
    "<img src=\"https://raw.githubusercontent.com/andrejkk/ORvTK_SlidesImgs/master/footer_full.jpg\">"
   ]
  },
  {
   "cell_type": "markdown",
   "metadata": {
    "collapsed": true,
    "slideshow": {
     "slide_type": "slide"
    }
   },
   "source": [
    "<div style=\"display:flex;font-weight:bold;font-size:0.9em;\">\n",
    "<div style=\"flex:1;width:50%;\"> 7. Nelinearna optimizacija  </div>\n",
    "<div style=\"flex:1;width:50%;text-align:right;\"> 7.3. Algoritmi nelinearne optimizacije </div>\n",
    "</div>\n",
    "\n",
    "\n",
    "## ■ Gradientna metoda\n",
    "\n",
    "\n",
    "- Formulacija: minimizacije kriterijske funkcije $c(\\vec{x})$\n",
    "- Postopek:\n",
    "    - Začetni približek $\\vec{x}_0$: druge metode ali ugibanje\n",
    "    - Smer iskanja $\\vec{r}_k=-\\vec{\\nabla}c(\\vec{x}_k)$ \n",
    "    - Korak: $\\vec{x}_{k+1} = \\vec{x}_k  - \\alpha_k \\vec{\\nabla}c(\\vec{x}_k)$\n",
    "    - Izbira velikosti koraka – več načinov:\n",
    "        - Linearizacija: \n",
    "        $$ \\alpha_k = \\frac{\\vec{x}_k^\\top.Hc(\\vec{x}_k).\\vec{x}_k}{\\vec{x}_k^\\top.\\vec{x}_k} $$ \n",
    "        - Minimizacija v eni dimenziji: minimiziramo funkcijo\n",
    "        $$ \\alpha \\mapsto c(\\vec{x}_k + \\alpha \\vec{r}_k) $$\n",
    "        - Iskanje ničel: rešujemo enačbo\n",
    "        $$ \\vec{x}_k^\\top.\\vec{\\nabla}c(\\vec{x}_k + \\alpha \\vec{r}_k) = 0  $$\n",
    "\n",
    "\n",
    "\n",
    "- Konvergenca: linearna (ena decimalka na korak)\n",
    "\n",
    "\n",
    "<p style=\"margin-bottom:2cm;\"></p>\n",
    "<div style=\"width:100%;text-align:right;font-weight:bold;font-size:1.2em;\"> 20 </div>\n",
    "<img src=\"https://raw.githubusercontent.com/andrejkk/ORvTK_SlidesImgs/master/footer_full.jpg\">"
   ]
  },
  {
   "cell_type": "markdown",
   "metadata": {
    "collapsed": true,
    "slideshow": {
     "slide_type": "slide"
    }
   },
   "source": [
    "<div style=\"display:flex;font-weight:bold;font-size:0.9em;\">\n",
    "<div style=\"flex:1;width:50%;\"> 7. Nelinearna optimizacija  </div>\n",
    "<div style=\"flex:1;width:50%;text-align:right;\"> 7.3. Algoritmi nelinearne optimizacije </div>\n",
    "</div>\n",
    "\n",
    "\n",
    "## ■ Metoda konjugiranega gradienta (1)\n",
    "\n",
    "- Formulacija: minimizacije kriterijske funkcije $c(\\vec{x})$\n",
    "- Postopek:\n",
    "    - Začetni približek $c(\\vec{x})_k$: druge metode ali ugibanje\n",
    "    - Smer iskanja $\\vec{d}_k = \\vec{r}_k + \\beta \\vec{d}_{k-1}$, \n",
    "    $\\vec{r}_k = -\\vec{\\nabla} c(\\vec{x}_k)$;\n",
    "    - Izbira $\\beta$\n",
    "        - Polak-Ribiere: \n",
    "        $$ \\beta_k = \\frac{\\vec{r}_k^\\top.\\vec{r}_k}{(\\vec{r}_k - \\vec{r}_{k-1})^\\top.\\vec{r}_{k-1}} $$\n",
    "        - Fletcher-Reeves: \n",
    "        $$ \\beta_k = \\frac{\\vec{r}_k^\\top.\\vec{r}_k}{\\vec{r}_{k-1}^\\top.\\vec{r}_{k-1}} $$\n",
    "    - Korak: \n",
    "    $$ \\vec{x}_{k+1} = \\vec{x}_k - \\alpha_k \\vec{d}_k $$\n",
    "\n",
    "\n",
    "<p style=\"margin-bottom:2cm;\"></p>\n",
    "<div style=\"width:100%;text-align:right;font-weight:bold;font-size:1.2em;\"> 21 </div>\n",
    "<img src=\"https://raw.githubusercontent.com/andrejkk/ORvTK_SlidesImgs/master/footer_full.jpg\">"
   ]
  },
  {
   "cell_type": "markdown",
   "metadata": {
    "collapsed": true,
    "slideshow": {
     "slide_type": "slide"
    }
   },
   "source": [
    "<div style=\"display:flex;font-weight:bold;font-size:0.9em;\">\n",
    "<div style=\"flex:1;width:50%;\"> 7. Nelinearna optimizacija  </div>\n",
    "<div style=\"flex:1;width:50%;text-align:right;\"> 7.3. Algoritmi nelinearne optimizacije </div>\n",
    "</div>\n",
    "\n",
    "## ■ Metoda konjugiranega gradienta (2)\n",
    "\n",
    "\n",
    "- Postopek (nadaljevanje):\n",
    "    - Izbira velikosti koraka – več načinov:\n",
    "        - Linearizacija:\n",
    "        $$ \\alpha_k = \\frac{\\vec{d}_k^\\top.Hc(\\vec{x}_k).\\vec{d}_k}{\\vec{r}_k^\\top.\\vec{d}_k} $$\n",
    "        - Minimizacija v eni dimenziji: minimiziramo funkcijo\n",
    "        $$ \\alpha \\mapsto c(\\vec{x}_k + \\alpha \\vec{r}_k) $$\n",
    "        - Iskanje ničel: rešujemo enačbo\n",
    "        $$ \\vec{d}_k^\\top.\\vec{\\nabla}(\\vec{x}_k + \\alpha \\vec{d}_k) = 0 $$\n",
    "    - Ponavljaj dokler nisi dovolj blizu rešitve\n",
    "\n",
    "\n",
    "\n",
    "<p style=\"margin-bottom:2cm;\"></p>\n",
    "<div style=\"width:100%;text-align:right;font-weight:bold;font-size:1.2em;\"> 22 </div>\n",
    "<img src=\"https://raw.githubusercontent.com/andrejkk/ORvTK_SlidesImgs/master/footer_full.jpg\">"
   ]
  },
  {
   "cell_type": "markdown",
   "metadata": {
    "collapsed": true,
    "slideshow": {
     "slide_type": "slide"
    }
   },
   "source": [
    "<div style=\"display:flex;font-weight:bold;font-size:0.9em;\">\n",
    "<div style=\"flex:1;width:50%;\"> 7. Nelinearna optimizacija  </div>\n",
    "<div style=\"flex:1;width:50%;text-align:right;\"> 7.3. Algoritmi nelinearne optimizacije </div>\n",
    "</div>\n",
    "\n",
    "## ■ Realnost reševanja nelinearne optimizacije\n",
    "\n",
    "- Iskanje ugodne oblike kriterijske funkcije\n",
    "- Iskanje ugodnega algoritma – „cook and look method“\n",
    "- Kombinacija dveh metod:\n",
    "    1. Grob pregled optimizacijskega prostora: npr. genetski algoritme\n",
    "    2. Rešitev ad. 1. je začetni približek natančne metode: npr. gradientna metoda\n",
    "    \n",
    "    \n",
    "- Avtomatizacija formulacije problema z razčlenjevalniki\n",
    "\n",
    "\n",
    "\n",
    "- Naravno zaporedje\n",
    "    1. Poskus analitične rešitve enačbe $\\vec{\\nabla}c(\\vec{x})=\\vec{0}$\n",
    "    2. Če (ker) ne gre, preizkušanje obstoječih metod\n",
    "    3. Iskanja kombinacije dveh metod\n",
    "    4. Veliko število poskusov z različnimi \n",
    "        1. Nastavitvami parametrov algoritma\n",
    "        2. Kriterijskimi funkcijami\n",
    "        3. Začetnimi približki  \n",
    "    5. Izjemoma razvoj novih algoritmov\n",
    "\n",
    "\n",
    "<p style=\"margin-bottom:2cm;\"></p>\n",
    "<div style=\"width:100%;text-align:right;font-weight:bold;font-size:1.2em;\"> 23 </div>\n",
    "<img src=\"https://raw.githubusercontent.com/andrejkk/ORvTK_SlidesImgs/master/footer_full.jpg\">"
   ]
  },
  {
   "cell_type": "markdown",
   "metadata": {
    "collapsed": true,
    "slideshow": {
     "slide_type": "slide"
    }
   },
   "source": [
    "<div style=\"display:flex;font-weight:bold;font-size:0.9em;\">\n",
    "<div style=\"flex:1;width:50%;\"> 7. Nelinearna optimizacija  </div>\n",
    "<div style=\"flex:1;width:50%;text-align:right;\"> 7.3. Algoritmi nelinearne optimizacije </div>\n",
    "</div>\n",
    "\n",
    "## ■ Realnost reševanja nelinearne optimizacije\n",
    "\n",
    "\n",
    "- IBM CPLEX\n",
    "    - Najboljše orodje\n",
    "    - Vključuje selektor\n",
    "    najboljšega algoritma\n",
    "\n",
    "<img style=\"float: right; width: 350px; margin: 0px 20px 20px 0px;\" src=\"https://raw.githubusercontent.com/andrejkk/ORvTK_SlidesImgs/master/CPLEX_UI.png\">\n",
    "\n",
    "\n",
    "\n",
    "<p style=\"margin-bottom:2cm;\"></p>\n",
    "<div style=\"width:100%;text-align:right;font-weight:bold;font-size:1.2em;\"> 24 </div>\n",
    "<img src=\"https://raw.githubusercontent.com/andrejkk/ORvTK_SlidesImgs/master/footer_full.jpg\">"
   ]
  },
  {
   "cell_type": "markdown",
   "metadata": {},
   "source": [
    "<div style=\"display:flex;font-weight:bold;font-size:0.9em;\">\n",
    "<div style=\"flex:1;width:50%;\"> 7. Nelinearna optimizacija  </div>\n",
    "<div style=\"flex:1;width:50%;text-align:right;\"> 7.4. Aplikacije </div>\n",
    "</div>\n",
    "\n",
    "## 7.4. Aplikacije\n",
    "\n",
    "■ Prileganje krivulje\n",
    "\n",
    "■ Prileganje modela brezžičnega omrežja (ločen zvezek)\n",
    "\n",
    "■ Priporočilni sistemi (ločen zvezek)\n",
    "\n",
    "\n",
    "\n",
    "<p style=\"margin-bottom:2cm;\"></p>\n",
    "<div style=\"width:100%;text-align:right;font-weight:bold;font-size:1.2em;\"> 25 </div>\n",
    "<img src=\"https://raw.githubusercontent.com/andrejkk/ORvTK_SlidesImgs/master/footer_full.jpg\">"
   ]
  },
  {
   "cell_type": "markdown",
   "metadata": {
    "collapsed": true,
    "slideshow": {
     "slide_type": "slide"
    }
   },
   "source": [
    "<div style=\"display:flex;font-weight:bold;font-size:0.9em;\">\n",
    "<div style=\"flex:1;width:50%;\"> 7. Nelinearna optimizacija  </div>\n",
    "<div style=\"flex:1;width:50%;text-align:right;\"> 7.4. Aplikacije </div>\n",
    "</div>\n",
    "\n",
    "\n",
    "## ■ Rešitev uvodnega primera – prileganje krivulje\n",
    "\n",
    "\n",
    "- Kriterijska funkcija, model\n",
    "$$ f(t;A, \\beta_1, \\beta_2) = A (1 - e^{-\\beta_1 t}) e^{-\\beta_2 t} $$\n",
    "$$ c(A, \\beta_1, \\beta_2) = \\sum_{i=1}^6 |y_i - f(t_i; A, \\beta_1, \\beta_2)|^2. $$\n",
    "\n",
    "\n",
    "- Rešitev: gradientna metoda, \n",
    "    - $A_0=150$\n",
    "    - $\\beta_{10}=0.01$;\n",
    "    - $\\beta_{20}=0.001$;\n",
    "\n",
    "\n",
    "- Rešitev: ocena + interval zaupanja\n",
    "    - $A=97.2$ $(91.59, 102.8)$;\n",
    "    - $\\beta_1=0.02339$ $(0.019, 0.027)$;\n",
    "    - $\\beta_2=0.0004545$ $(0.00028, 0.00063)$;\n",
    "\n",
    "\n",
    "<p style=\"margin-bottom:2cm;\"></p>\n",
    "<div style=\"width:100%;text-align:right;font-weight:bold;font-size:1.2em;\"> 26 </div>\n",
    "<img src=\"https://raw.githubusercontent.com/andrejkk/ORvTK_SlidesImgs/master/footer_full.jpg\">"
   ]
  },
  {
   "cell_type": "code",
   "execution_count": 21,
   "metadata": {},
   "outputs": [
    {
     "name": "stdout",
     "output_type": "stream",
     "text": [
      "Warning: Desired error not necessarily achieved due to precision loss.\n",
      "         Current function value: 1.408172\n",
      "         Iterations: 22\n",
      "         Function evaluations: 336\n",
      "         Gradient evaluations: 81\n",
      "Results:  [9.71935622e+01 2.33899353e-02 4.54424755e-04]\n"
     ]
    },
    {
     "data": {
      "image/png": "[encoded data removed]",
      "text/plain": [
       "<Figure size 432x288 with 1 Axes>"
      ]
     },
     "metadata": {
      "needs_background": "light"
     },
     "output_type": "display_data"
    }
   ],
   "source": [
    "# Curve fitting\n",
    "import numpy as np\n",
    "import matplotlib.pyplot as plt\n",
    "from scipy.optimize import minimize\n",
    "\n",
    "t = [0, 83, 166, 249, 332, 415]\n",
    "y = [0, 80, 89, 86, 83, 81]\n",
    "\n",
    "# Cost function\n",
    "def f(t, x):\n",
    "    return x[0]*(1 - np.e**(-x[1]*t))*np.e**(-x[2]*t)\n",
    "                 \n",
    "def c(x):\n",
    "    err = 0\n",
    "    for ii in range(6):\n",
    "        err += (y[ii] - f(t[ii], x))**2 \n",
    "    return err\n",
    "\n",
    "\n",
    "# Initial value\n",
    "A0 = 200\n",
    "b10 = 0.01\n",
    "b20 = 0.001\n",
    "x0 = np.array([A0, b10, b20])\n",
    "\n",
    "# Optimisation\n",
    "res = minimize(c, x0, options={'disp': True})\n",
    "print ('Results: ', res.x)\n",
    "\n",
    "\n",
    "# Plot results\n",
    "t_s = np.arange(0.0, 415, 1.0)\n",
    "y_s = f(t_s, res.x)\n",
    "\n",
    "fig, ax = plt.subplots()\n",
    "ax.plot(t, y, 'bo')\n",
    "ax.plot(t_s, y_s, color = 'm')\n",
    "ax.set(xlabel='time [s]', ylabel='Conc.',\n",
    "       title='Concentration')\n",
    "ax.grid()\n",
    "plt.show()"
   ]
  },
  {
   "cell_type": "markdown",
   "metadata": {
    "collapsed": true,
    "slideshow": {
     "slide_type": "slide"
    }
   },
   "source": [
    "<div style=\"display:flex;font-weight:bold;font-size:0.9em;\">\n",
    "<div style=\"flex:1;width:50%;\"> 7. Nelinearna optimizacija  </div>\n",
    "<div style=\"flex:1;width:50%;text-align:right;\"> 7.4. Aplikacije </div>\n",
    "</div>\n",
    "\n",
    "\n",
    "## ■ Zaključek\n",
    "\n",
    "\n",
    "- Ključno je poznavanje\n",
    "    - Specifičnosti problema\n",
    "    - Osnovnih lastnosti obstoječih algoritmov\n",
    "    - Osnovnih lastnosti obstoječih orodij\n",
    "\n",
    "\n",
    "\n",
    "\n",
    "\n",
    "<p style=\"margin-bottom:2cm;\"></p>\n",
    "<div style=\"width:100%;text-align:right;font-weight:bold;font-size:1.2em;\"> 35 </div>\n",
    "<img src=\"https://raw.githubusercontent.com/andrejkk/ORvTK_SlidesImgs/master/footer_full.jpg\">"
   ]
  },
  {
   "cell_type": "code",
   "execution_count": null,
   "metadata": {},
   "outputs": [],
   "source": []
  }
 ],
 "metadata": {
  "celltoolbar": "Slideshow",
  "kernelspec": {
   "display_name": "Python 3",
   "language": "python",
   "name": "python3"
  },
  "language_info": {
   "codemirror_mode": {
    "name": "ipython",
    "version": 3
   },
   "file_extension": ".py",
   "mimetype": "text/x-python",
   "name": "python",
   "nbconvert_exporter": "python",
   "pygments_lexer": "ipython3",
   "version": "3.10.5"
  },
  "polyglot_notebook": {
   "kernelInfo": {
    "defaultKernelName": "csharp",
    "items": [
     {
      "aliases": [],
      "name": "csharp"
     }
    ]
   }
  }
 },
 "nbformat": 4,
 "nbformat_minor": 2
}
