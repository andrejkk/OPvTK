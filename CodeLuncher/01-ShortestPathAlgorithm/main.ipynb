{
 "cells": [
  {
   "cell_type": "markdown",
   "metadata": {
    "slideshow": {
     "slide_type": "slide"
    }
   },
   "source": [
    "<div style=\"display:flex;font-weight:bold;font-size:0.9em;\">\n",
    "</div>\n",
    "\n",
    "\n",
    "## Shortest path algorithm\n",
    "\n",
    "### Submitted algorithm must contain \n",
    "\n",
    "1. Main function in the jupyter notebook cell as given bellow;\n",
    "2. Algorithm implementation in external file (algorithm.py), all required test data (loaded by benchmark.py) must be provided in the subdirectory Data;\n",
    "3. Algorithm implementation must, beside other fucntions, include function is_correctQ(input_x, output_y) verifying the correctness of the algorithm result output_y for a given inpit data input_x;\n",
    "\n",
    "\n",
    "### How to submit and run\n",
    "\n",
    "1. Provide submission and upload it to Git (URL)\n",
    "2. Open it through myBinder, run the cell with \n",
    "3. Run cel with main function. The result should be \"Correctness: True\" printed from the cell.\n",
    "\n",
    "\n",
    "\n",
    "### Notes\n",
    "\n",
    "1. The development can be done in Jupyter or any Python environment. The only adaptation is to build the Notebook cell with main function as given bellow\n",
    "2. Questions at _andrej.kosir@fe.uni-lj.si_\n",
    "\n",
    "\n",
    "\n",
    "<p style=\"margin-bottom:1cm;\"></p>\n",
    "<div style=\"width:100%;text-align:right;font-weight:bold;font-size:1.2em;\"> 2 </div>\n",
    "<img src=\"https://raw.githubusercontent.com/andrejkk/ORvTK_SlidesImgs/master/footer_full.jpg\">"
   ]
  },
  {
   "cell_type": "code",
   "execution_count": 1,
   "metadata": {},
   "outputs": [
    {
     "name": "stdout",
     "output_type": "stream",
     "text": [
      "Correct:  True\n"
     ]
    },
    {
     "data": {
      "text/plain": [
       "True"
      ]
     },
     "execution_count": 1,
     "metadata": {},
     "output_type": "execute_result"
    },
    {
     "data": {
      "image/png": "[encoded data removed]",
      "text/plain": [
       "<Figure size 432x288 with 1 Axes>"
      ]
     },
     "metadata": {},
     "output_type": "display_data"
    }
   ],
   "source": [
    "# Code Luncher\n",
    "\n",
    "import numpy as np\n",
    "import pandas as pd\n",
    "import networkx as nx\n",
    "\n",
    "import algorithm as alg\n",
    "import benchmark as bnc\n",
    "\n",
    "# Main function\n",
    "def main():\n",
    "    \n",
    "    # Get benchmark - test graph\n",
    "    plotQ = True\n",
    "    params_lst = ['Custom_5', plotQ]\n",
    "    #params_lst = ['K_n', 4, plotQ]\n",
    "    \n",
    "    \n",
    "    G, s_v, t_v = bnc.get_shortestPathAlg_benchmark(params_lst)\n",
    "\n",
    "    \n",
    "    # Run algorithm: get shortest path\n",
    "    shortest_p = alg.get_ShortestPath(G, s_v, t_v)\n",
    "    \n",
    "    \n",
    "    # Plot plot solution\n",
    "    if plotQ:\n",
    "        pos=nx.planar_layout(G)\n",
    "        path_edges = list(zip(shortest_p,shortest_p[1:]))\n",
    "        #nx.draw_networkx_nodes(G,pos,nodelist=shortest_p,node_color='r')\n",
    "        nx.draw_networkx_edges(G,pos,edgelist=path_edges,edge_color='r',width=3)\n",
    "    \n",
    "    \n",
    "    # Check if correct\n",
    "    correctQ = alg.is_correctQ(G, s_v, t_v, shortest_p)\n",
    "        \n",
    "    print ('Correct: ',  correctQ)   \n",
    "        \n",
    "    \n",
    "    return correctQ\n",
    "        \n",
    "# Run main\n",
    "main()"
   ]
  },
  {
   "cell_type": "code",
   "execution_count": null,
   "metadata": {},
   "outputs": [],
   "source": []
  }
 ],
 "metadata": {
  "celltoolbar": "Slideshow",
  "kernelspec": {
   "display_name": "Python 3",
   "language": "python",
   "name": "python3"
  },
  "language_info": {
   "codemirror_mode": {
    "name": "ipython",
    "version": 3
   },
   "file_extension": ".py",
   "mimetype": "text/x-python",
   "name": "python",
   "nbconvert_exporter": "python",
   "pygments_lexer": "ipython3",
   "version": "3.7.10"
  }
 },
 "nbformat": 4,
 "nbformat_minor": 2
}
