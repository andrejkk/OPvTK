{
 "cells": [
  {
   "cell_type": "markdown",
   "metadata": {
    "collapsed": true,
    "slideshow": {
     "slide_type": "slide"
    }
   },
   "source": [
    "<img style=\"float: center; width: 100%\" src=\"https://raw.githubusercontent.com/andrejkk/TalksImgs/master/FrontSlideUpperBan.png\">\n",
    "<p style=\"margin-bottom:2cm;\"></p>\n",
    "\n",
    "<center>\n",
    "    <H1> Problem postavljanja cene storitve </H1>\n",
    "   \n",
    "\n",
    "\n",
    "<br><br>\n",
    "    <H3> Andrej Košir, Lucami, FE </H3>\n",
    "    <H4> Kontakt: prof. dr. Andrej Košir, andrej.kosir@lucami.fe.uni-lj.si, skype=akosir_sid </H4>\n",
    "</center>\n",
    "\n",
    "\n",
    "<p style=\"margin-bottom:2cm;\"></p>\n",
    "<div style=\"width:100%;text-align:right;font-weight:bold;font-size:1.2em;\"> 1 </div>\n",
    "<img src=\"https://raw.githubusercontent.com/andrejkk/ORvTK_SlidesImgs/master/footer_full.jpg\">"
   ]
  },
  {
   "cell_type": "markdown",
   "metadata": {
    "slideshow": {
     "slide_type": "slide"
    }
   },
   "source": [
    "<div style=\"display:flex;font-weight:bold;font-size:0.9em;\">\n",
    "<div style=\"flex:1;width:50%;text-align:right;\"> Cilji, ponudba </div>\n",
    "</div>\n",
    "\n",
    "\n",
    "## Cilji\n",
    "\n",
    "\n",
    "- seznaniti se s problemom optimalne cene\n",
    "- spoznati način postavitve problema optimalne cene\n",
    "\n",
    "\n",
    "\n",
    "<p style=\"margin-bottom:1cm;\"></p>\n",
    "<div style=\"width:100%;text-align:right;font-weight:bold;font-size:1.2em;\"> 2 </div>\n",
    "<img src=\"https://raw.githubusercontent.com/andrejkk/ORvTK_SlidesImgs/master/footer_full.jpg\">"
   ]
  },
  {
   "cell_type": "markdown",
   "metadata": {
    "slideshow": {
     "slide_type": "slide"
    }
   },
   "source": [
    "<div style=\"display:flex;font-weight:bold;font-size:0.9em;\">\n",
    "<div style=\"flex:1;width:50%;text-align:right;\"> Problem postavljanja cene storitve </div>\n",
    "</div>\n",
    "\n",
    "## ■ Uvod\n",
    "\n",
    "- Članek: Mustapha Bouhtou and Jean-Robin Medori and Michel Minoux: Mixed Integer Programming model for pricing in telecommunication, 2011.\n",
    "- Upravljanje dobička (yield management)\n",
    "- Cena kot regulator omrežja: odvisna je od obremenitve\n",
    "\n",
    "\n",
    "- Primer prometa:\n",
    "\n",
    "<img style=\"float: center; width: 350px; margin: 0px 20px 20px 0px;\" src=\"https://raw.githubusercontent.com/andrejkk/ORvTK_SlidesImgs/master/TelecommunicationTrafic.png\">\n",
    "\n",
    "\n",
    "<p style=\"margin-bottom:1cm;\"></p>\n",
    "<div style=\"width:100%;text-align:right;font-weight:bold;font-size:1.2em;\"> 3 </div>\n",
    "<img src=\"https://raw.githubusercontent.com/andrejkk/ORvTK_SlidesImgs/master/footer_full.jpg\">"
   ]
  },
  {
   "cell_type": "markdown",
   "metadata": {
    "slideshow": {
     "slide_type": "slide"
    }
   },
   "source": [
    "<div style=\"display:flex;font-weight:bold;font-size:0.9em;\">\n",
    "<div style=\"flex:1;width:50%;text-align:right;\"> Problem postavljanja cene storitve </div>\n",
    "</div>\n",
    "\n",
    "## ■ Podatki in spremenljivke\n",
    "\n",
    "\n",
    "- Vhodni podatki:\n",
    "    - Število časovnih intervalov: $n_T$\n",
    "    - Število nivojev prometa: $n_I$\n",
    "    - Pragi prometa: $L_i$\n",
    "    - Cena zadnjega intervala prejšnjega dne: $p_{-1}$ \n",
    "    - Časovna funkcija obremenitve: $\\rho(k, p_{k-1})$, $k$ indeks časovnega intervala\n",
    "    - Časovna funkcija zahtevkov: $D(k, p_k)$ \n",
    "    - Časovna funkcija prihodkov: $R(k, p_k)$\n",
    "\n",
    "\n",
    "\n",
    "- Spremenljivke:\n",
    "    - Cene po časovnih intervalih: $p_k\\in [P_{min}, P_{max}]$\n",
    "    - Cene po nivojih prometa $[L_{i-1}, L_i]$: $r_i\\in [P_{min}, P_{max}]$, $i$ indeks intervala obremenitve;\n",
    "    - Logična spremenljivka $\\beta_i^k=1$ če je obremenitev časovnega intervala $k$ enaka $L_i$ in $0$ sicer\n",
    "    - Obremenitev $\\alpha_i^k$: enaka obremenitvi če je v časovnem intervalu $k$ obrementev na nivoju $L_i$ in $0$ sicer;\n",
    "\n",
    "<p style=\"margin-bottom:1cm;\"></p>\n",
    "<div style=\"width:100%;text-align:right;font-weight:bold;font-size:1.2em;\"> 3 </div>\n",
    "<img src=\"https://raw.githubusercontent.com/andrejkk/ORvTK_SlidesImgs/master/footer_full.jpg\">"
   ]
  },
  {
   "cell_type": "markdown",
   "metadata": {
    "slideshow": {
     "slide_type": "slide"
    }
   },
   "source": [
    "<div style=\"display:flex;font-weight:bold;font-size:0.9em;\">\n",
    "<div style=\"flex:1;width:50%;text-align:right;\"> Problem postavljanja cene storitve </div>\n",
    "</div>\n",
    "\n",
    "## ■ Postavitev optimizacijskega problema\n",
    "\n",
    "\n",
    "\n",
    "- Problem\n",
    "$$ \\matrix{\n",
    " & & argmax_{p_k, r_i} \\sum_{k=1}^{n_T-1} R(k, p_k) \\cr \n",
    " & s.t. & \\cr}\n",
    "$$\n",
    " \n",
    "<table width = 90%>\n",
    "  <tr>\n",
    "    <th> $\\sum_{i=0}^{n_I} \\alpha_i^k = \\rho(k, p_{k-1})$, $\\forall k$</th>\n",
    "    <th> (1) </th> \n",
    "  </tr>\n",
    "  <tr>\n",
    "    <td>$\\beta_i^k L_{i-1} \\leq \\alpha_i^k \\leq \\beta_i^k L_i$, $\\forall i, k$ </td>\n",
    "    <td>(2)</td> \n",
    "  </tr>\n",
    "  <tr>\n",
    "    <td> $\\sum_{i=0}^{n_I} \\beta_i^k = 1$, $\\forall k$ </td>\n",
    "    <td> (3) </td> \n",
    "  </tr>\n",
    "  <tr>\n",
    "    <td> $(\\beta_i^k-1)M \\leq p_k - r_i \\leq (1-\\beta_i^k)M$, $\\forall i, k$ </td>\n",
    "    <td> (4) </td> \n",
    "  </tr>\n",
    "  <tr>\n",
    "    <td> $\\beta_{n_I}^{k-1} + \\beta_{n_I}^k \\leq 1$, $\\forall k\\ne 0$ </td>\n",
    "    <td> (5) </td> \n",
    "  </tr>\n",
    "  <tr>\n",
    "    <td> $\\beta_i^k\\in\\{0, 1\\}$, $\\forall i, k$ </td>\n",
    "    <td> (6) </td> \n",
    "  </tr>\n",
    "  <tr>\n",
    "    <td> $\\alpha_i^k \\geq 0$, $\\forall i, k$ </td>\n",
    "    <td> (7) </td> \n",
    "  </tr>\n",
    "  <tr>\n",
    "    <td> $r_i \\in [P_{min}, P_{max}]$, $\\forall i$, $p_k \\in [P_{min}, P_{max}]$, $\\forall k$ </td>\n",
    "    <td> (8) </td> \n",
    "  </tr>\n",
    "</table>\n",
    "\n",
    "\n",
    "\n",
    "\n",
    "<p style=\"margin-bottom:1cm;\"></p>\n",
    "<div style=\"width:100%;text-align:right;font-weight:bold;font-size:1.2em;\"> 3 </div>\n",
    "<img src=\"https://raw.githubusercontent.com/andrejkk/ORvTK_SlidesImgs/master/footer_full.jpg\">"
   ]
  },
  {
   "cell_type": "markdown",
   "metadata": {
    "slideshow": {
     "slide_type": "slide"
    }
   },
   "source": [
    "<div style=\"display:flex;font-weight:bold;font-size:0.9em;\">\n",
    "<div style=\"flex:1;width:50%;text-align:right;\"> Problem postavljanja cene storitve </div>\n",
    "</div>\n",
    "\n",
    "## ■ Kriteriji in pogoji - razlaga\n",
    "\n",
    "\n",
    "- Razlaga kriterija in pogojev:\n",
    "    - Kriterijska funkcija: prihodki po eni periodi, v zaporednih intervalih \n",
    "    - (1): Konstante $\\alpha_i^k$, ki predstavljajo obremenitev, so enake pravim obremenitvam;  \n",
    "    - (2): Nastavite nivoja obremenitve med prednastavljene prage;\n",
    "    - (3): V vsakem trenutku je izbran natanko en nivo obremenitve;\n",
    "    - (4): Časovne intervale prilagodi nivojem obremenitve: tedaj je $p_k=r_i$;\n",
    "    - (5): Preprečuje zasičenje v dveh zaporednih intervalih (zasičenje pomeni obremenitev čez zadnji prag obremenitve);\n",
    "    - (6): Spremenljivke $\\beta_i^k$ so binarne – indikatorske;\n",
    "    - (7): Nivoji obremenitve so nenegativni;\n",
    "    - (8): Cene so vnaprej omejene;\n",
    "\n",
    "\n",
    "<p style=\"margin-bottom:1cm;\"></p>\n",
    "<div style=\"width:100%;text-align:right;font-weight:bold;font-size:1.2em;\"> 3 </div>\n",
    "<img src=\"https://raw.githubusercontent.com/andrejkk/ORvTK_SlidesImgs/master/footer_full.jpg\">"
   ]
  },
  {
   "cell_type": "markdown",
   "metadata": {
    "slideshow": {
     "slide_type": "slide"
    }
   },
   "source": [
    "<div style=\"display:flex;font-weight:bold;font-size:0.9em;\">\n",
    "<div style=\"flex:1;width:50%;text-align:right;\"> Problem postavljanja cene storitve </div>\n",
    "</div>\n",
    "\n",
    "## ■ Model obremenitve in pogojev\n",
    "\n",
    "- Privzamemo model obremenitve in prihodka:\n",
    "    - Obremenitev pada s ceno: $\\rho(k, p_{k-1}) = d_k - c_k p_{k-1}$\n",
    "    - Prihodek $R(k, p_k) = D(p_k) p_k = b_k p_k - a_k p_k^2$ \n",
    "\n",
    "\n",
    "- Privzamemo čaovne ontervale in območja obremenitev\n",
    "    - Časovni intervali: $[0,t_0=6]$, $[6,t_1=18]$, $[18,t_2=24]$;\n",
    "    - Intervali obremenitev: $[0, L_1=10]$, $[10, L_2=30]$, $[30, L_3=50]$, $[50, \\infty)$;\n",
    "\n",
    "\n",
    "\n",
    "- Pripadajoče konstante modela obremenitve in prihodka – statistično modelirannje prometa:\n",
    "\n",
    "<table style=\"width:40%\" border=\"1\">\n",
    "  <tr>\n",
    "    <th> inter. $k$ </th>\n",
    "    <th> $a_k$ </th> \n",
    "    <th> $b_k$ </th>\n",
    "    <th> $c_k$ </th>\n",
    "    <th> $d_k$ </th>\n",
    "  </tr>\n",
    "  <tr>\n",
    "    <td>$0$</td>\n",
    "    <td>$10$</td> \n",
    "    <td>$20$</td>\n",
    "    <td>$6$</td>\n",
    "    <td>$12$</td>\n",
    "  </tr>\n",
    "  <tr>\n",
    "    <td>$1$</td>\n",
    "    <td>$15$</td> \n",
    "    <td>$25$</td>\n",
    "    <td>$8$</td>\n",
    "    <td>$16$</td>\n",
    "  </tr>\n",
    "  <tr>\n",
    "    <td>$2$</td>\n",
    "    <td>$12$</td> \n",
    "    <td>$22$</td>\n",
    "    <td>$7$</td>\n",
    "    <td>$11$</td>\n",
    "  </tr>\n",
    "</table>\n",
    "\n",
    "- Omejitve cene: $P_{min}=30$, $P_{max}=90$\n",
    "- „Big M“ $M=10000$\n",
    "\n",
    "\n",
    "\n",
    "\n",
    "\n",
    "<p style=\"margin-bottom:1cm;\"></p>\n",
    "<div style=\"width:100%;text-align:right;font-weight:bold;font-size:1.2em;\"> 3 </div>\n",
    "<img src=\"https://raw.githubusercontent.com/andrejkk/ORvTK_SlidesImgs/master/footer_full.jpg\">"
   ]
  },
  {
   "cell_type": "markdown",
   "metadata": {
    "slideshow": {
     "slide_type": "slide"
    }
   },
   "source": [
    "<div style=\"display:flex;font-weight:bold;font-size:0.9em;\">\n",
    "<div style=\"flex:1;width:50%;text-align:right;\"> Problem postavljanja cene storitve </div>\n",
    "</div>\n",
    "\n",
    "## ■ Rezultati\n",
    "\n",
    "Rezultati:\n",
    "\n",
    "<table style=\"width:30%\">\n",
    "  <tr>\n",
    "    <th>$p_0=90$</th>\n",
    "    <th>$p_1=90$</th> \n",
    "    <th>$p_2=90$</th>\n",
    "  </tr>\n",
    "  <tr>\n",
    "    <td>$r_0=90$</td>\n",
    "    <td>$r_1=90$</td> \n",
    "    <td>$r_2=90$</td>\n",
    "  </tr>\n",
    "</table>\n",
    "\n",
    "\n",
    "\n",
    "\n",
    "<p style=\"margin-bottom:1cm;\"></p>\n",
    "<div style=\"width:100%;text-align:right;font-weight:bold;font-size:1.2em;\"> 3 </div>\n",
    "<img src=\"https://raw.githubusercontent.com/andrejkk/ORvTK_SlidesImgs/master/footer_full.jpg\">"
   ]
  },
  {
   "cell_type": "markdown",
   "metadata": {
    "slideshow": {
     "slide_type": "slide"
    }
   },
   "source": [
    "<div style=\"display:flex;font-weight:bold;font-size:0.9em;\">\n",
    "<div style=\"flex:1;width:50%;text-align:right;\"> Problem postavljanja cene storitve </div>\n",
    "</div>\n",
    "\n",
    "## ■ \n",
    "\n",
    "\n",
    "\n",
    "\n",
    "<p style=\"margin-bottom:1cm;\"></p>\n",
    "<div style=\"width:100%;text-align:right;font-weight:bold;font-size:1.2em;\"> 3 </div>\n",
    "<img src=\"https://raw.githubusercontent.com/andrejkk/ORvTK_SlidesImgs/master/footer_full.jpg\">"
   ]
  },
  {
   "cell_type": "markdown",
   "metadata": {
    "slideshow": {
     "slide_type": "slide"
    }
   },
   "source": [
    "<div style=\"display:flex;font-weight:bold;font-size:0.9em;\">\n",
    "<div style=\"flex:1;width:50%;text-align:right;\"> Problem postavljanja cene storitve </div>\n",
    "</div>\n",
    "\n",
    "## ■ \n",
    "\n",
    "\n",
    "\n",
    "\n",
    "<p style=\"margin-bottom:1cm;\"></p>\n",
    "<div style=\"width:100%;text-align:right;font-weight:bold;font-size:1.2em;\"> 3 </div>\n",
    "<img src=\"https://raw.githubusercontent.com/andrejkk/ORvTK_SlidesImgs/master/footer_full.jpg\">"
   ]
  },
  {
   "cell_type": "markdown",
   "metadata": {
    "slideshow": {
     "slide_type": "slide"
    }
   },
   "source": [
    "<div style=\"display:flex;font-weight:bold;font-size:0.9em;\">\n",
    "<div style=\"flex:1;width:50%;text-align:right;\"> Problem postavljanja cene storitve </div>\n",
    "</div>\n",
    "\n",
    "## ■ \n",
    "\n",
    "\n",
    "\n",
    "\n",
    "<p style=\"margin-bottom:1cm;\"></p>\n",
    "<div style=\"width:100%;text-align:right;font-weight:bold;font-size:1.2em;\"> 3 </div>\n",
    "<img src=\"https://raw.githubusercontent.com/andrejkk/ORvTK_SlidesImgs/master/footer_full.jpg\">"
   ]
  },
  {
   "cell_type": "markdown",
   "metadata": {
    "slideshow": {
     "slide_type": "slide"
    }
   },
   "source": [
    "<div style=\"display:flex;font-weight:bold;font-size:0.9em;\">\n",
    "<div style=\"flex:1;width:50%;text-align:right;\"> Problem postavljanja cene storitve </div>\n",
    "</div>\n",
    "\n",
    "## ■ \n",
    "\n",
    "\n",
    "\n",
    "\n",
    "<p style=\"margin-bottom:1cm;\"></p>\n",
    "<div style=\"width:100%;text-align:right;font-weight:bold;font-size:1.2em;\"> 3 </div>\n",
    "<img src=\"https://raw.githubusercontent.com/andrejkk/ORvTK_SlidesImgs/master/footer_full.jpg\">"
   ]
  },
  {
   "cell_type": "markdown",
   "metadata": {
    "slideshow": {
     "slide_type": "slide"
    }
   },
   "source": [
    "<div style=\"display:flex;font-weight:bold;font-size:0.9em;\">\n",
    "<div style=\"flex:1;width:50%;text-align:right;\"> Problem postavljanja cene storitve </div>\n",
    "</div>\n",
    "\n",
    "## ■ \n",
    "\n",
    "\n",
    "\n",
    "\n",
    "<p style=\"margin-bottom:1cm;\"></p>\n",
    "<div style=\"width:100%;text-align:right;font-weight:bold;font-size:1.2em;\"> 3 </div>\n",
    "<img src=\"https://raw.githubusercontent.com/andrejkk/ORvTK_SlidesImgs/master/footer_full.jpg\">"
   ]
  },
  {
   "cell_type": "code",
   "execution_count": null,
   "metadata": {},
   "outputs": [],
   "source": []
  }
 ],
 "metadata": {
  "celltoolbar": "Slideshow",
  "kernelspec": {
   "display_name": "Python 3",
   "language": "python",
   "name": "python3"
  },
  "language_info": {
   "codemirror_mode": {
    "name": "ipython",
    "version": 3
   },
   "file_extension": ".py",
   "mimetype": "text/x-python",
   "name": "python",
   "nbconvert_exporter": "python",
   "pygments_lexer": "ipython3",
   "version": "3.7.10"
  }
 },
 "nbformat": 4,
 "nbformat_minor": 2
}
