{
 "cells": [
  {
   "cell_type": "markdown",
   "metadata": {
    "collapsed": true,
    "slideshow": {
     "slide_type": "slide"
    }
   },
   "source": [
    "<img style=\"float: center; width: 100%\" src=\"https://raw.githubusercontent.com/andrejkk/TalksImgs/master/FrontSlideUpperBan.png\">\n",
    "<p style=\"margin-bottom:2cm;\"></p>\n",
    "\n",
    "<center>\n",
    "    <H1> 1. Introduction to Optimization (OP) in telecommunications (TC) </H1>\n",
    "   \n",
    "\n",
    "\n",
    "<br><br>\n",
    "    <H3> Andrej Košir, Lucami, FE </H3>\n",
    "    <H4> Contact: prof. dr. Andrej Košir, andrej.kosir@fe.uni-lj.si, ZOOM https://uni-lj-si.zoom.us/j/97654707084 </H4>\n",
    "</center>\n",
    "\n",
    "\n",
    "<p style=\"margin-bottom:2cm;\"></p>\n",
    "<div style=\"width:100%;text-align:right;font-weight:bold;font-size:1.2em;\"> 1 </div>\n",
    "<img src=\"https://raw.githubusercontent.com/andrejkk/ORvTK_SlidesImgs/master/footer_full.jpg\">"
   ]
  },
  {
   "cell_type": "markdown",
   "metadata": {
    "slideshow": {
     "slide_type": "fragment"
    }
   },
   "source": [
    "<div style=\"display:flex;font-weight:bold;font-size:0.9em;\">\n",
    "<div style=\"flex:1;width:50%;\"> 1. Introduction to Optimization in telecommunications </div>\n",
    "<div style=\"flex:1;width:50%;text-align:right;\"> Goals, materials </div>\n",
    "</div>\n",
    "\n",
    "\n",
    "## ■ Goals, materials, exams\n",
    "\n",
    "- Goals: Identify optimization problems in real practice AFTER SEVERAL YEARS and shorten time to their solutions:\n",
    "    - to familiarize with the procedures optimization\n",
    "    - trained to separate simple analysis, computer use\n",
    "    - trained in cooperation with experts in complex analysis\n",
    "    - aware of the potential of OR\n",
    "\n",
    "<p>\n",
    "    \n",
    "- Course materials:\t\n",
    "    - EFE\n",
    "\n",
    "<p>\n",
    "    \n",
    "- Exams:\n",
    "    - Projects exercises (30%) + project (30%) + oral exam (40%), participation of all three contributions is required\n",
    "    - Exam Rules FE\n",
    "    - Competition: team, themes, rules later\n",
    "\n",
    "<p style=\"margin-bottom:1cm;\"></p>\n",
    "<div style=\"width:100%;text-align:right;font-weight:bold;font-size:1.2em;\"> 2 </div>\n",
    "<img src=\"https://raw.githubusercontent.com/andrejkk/ORvTK_SlidesImgs/master/footer_full.jpg\">"
   ]
  },
  {
   "cell_type": "markdown",
   "metadata": {
    "slideshow": {
     "slide_type": "slide"
    }
   },
   "source": [
    "<div style=\"display:flex;font-weight:bold;font-size:0.9em;\">\n",
    "<div style=\"flex:1;width:50%;\"> 1. Introduction to Optimization in telecommunications </div>\n",
    "<div style=\"flex:1;width:50%;text-align:right;\"> 1.1. The role of Optimization in ICT </div>\n",
    "</div>\n",
    "\n",
    "\n",
    "\n",
    "# 1.1. The role of Optimization in ICT\n",
    "\n",
    "■ Basic terms and examples\n",
    "\n",
    "■ Modern day ICT and optimization\n",
    "\n",
    "■ What is ICT, historical overview\n",
    "\n",
    "\n",
    "<p style=\"margin-bottom:1cm;\"></p>\n",
    "<div style=\"width:100%;text-align:right;font-weight:bold;font-size:1.2em;\"> 3 </div>\n",
    "<img src=\"https://raw.githubusercontent.com/andrejkk/ORvTK_SlidesImgs/master/footer_full.jpg\">"
   ]
  },
  {
   "cell_type": "markdown",
   "metadata": {
    "slideshow": {
     "slide_type": "slide"
    }
   },
   "source": [
    "<div style=\"display:flex;font-weight:bold;font-size:0.9em;\">\n",
    "<div style=\"flex:1;width:50%;\"> 1. Introduction to Optimization in telecommunications </div>\n",
    "<div style=\"flex:1;width:50%;text-align:right;\"> 1.1. The role of Optimization in ICT </div>\n",
    "</div>\n",
    "\n",
    "\n",
    "## ■ Challenges in telecommunications\n",
    "\n",
    "\n",
    "1. Criteria:\n",
    "   - Data storage\n",
    "   - speed of information transmission\n",
    "   - energy consumption?\n",
    "   - user experience\n",
    "   - data protection and ethics\n",
    "\n",
    "\n",
    "2. Approaches and solutions\n",
    "    - Hardware and software optimisation \n",
    "        * ---> Classical optimisation, algorithms: \n",
    "        * ---> Time series, event prediction\n",
    "    - Optimisation with end users \n",
    "        * ---> Measuring users: instruments, psycho-physiological signals\n",
    "        * ---> User modelling with graphs:\n",
    "        * ---> User metrics: \n",
    "        * ---> Experiments with end users:\n",
    "\n",
    "\n",
    "3. Application areas we will learn about:\n",
    "    - Smart home for the elderly\n",
    "        * Home assistant: https://www.home-assistant.io/\n",
    "        * Sensor networks\n",
    "        * Smart services: activity recommendation system, cognitive training\n",
    "    - Technologies for learning and teaching\n",
    "        * Student Activity Recommender System\n",
    "        * Attention measurement and modelling\n",
    "    - Multimedia exposure\n",
    "        * Short term exposure to ads MMAES\n",
    "    - Robots with social intelligence: embodiment of smart services\n",
    "        * Social Signal Robot: https://luxai.com/ \n",
    "    - Experiments with end-users: \n",
    "        * Test room - smart home simulation\n",
    "\n",
    "4. Specific chalenges - classroom https://ucilnica-fe.uni-lj.si/\n",
    "\n",
    "\n",
    "\n",
    "<p style=\"margin-bottom:1cm;\"></p>\n",
    "<div style=\"width:100%;text-align:right;font-weight:bold;font-size:1.2em;\"> 4 </div>\n",
    "<img src=\"https://raw.githubusercontent.com/andrejkk/ORvTK_SlidesImgs/master/footer_full.jpg\">"
   ]
  },
  {
   "cell_type": "markdown",
   "metadata": {},
   "source": [
    "<div style=\"display:flex;font-weight:bold;font-size:0.9em;\">\n",
    "<div style=\"flex:1;width:50%;\"> 1. Introduction to Optimization in telecommunications </div>\n",
    "<div style=\"flex:1;width:50%;text-align:right;\"> 1.1. The role of Optimization in ICT </div>\n",
    "</div>\n",
    "\n",
    "\n",
    "## ■ Basic concepts and structure\n",
    "\n",
    "- What is optimisation:\n",
    "    - An optimisation problem\n",
    "    - Example of optimization: \n",
    "        1. optimal container shape\n",
    "        2. shortest (cheapest) path problem;\n",
    "    - Applications in logistics, transport, industrial processes, etc.\n",
    "\n",
    "- Important concepts\n",
    "    - Optimisation problems\n",
    "    - Optimisation problem\n",
    "    - Algorithm \n",
    "    - Data structures (graph, type, stack)\n",
    "    - Problems: optimal classification, optimal resource allocation, ...  \n",
    "\n",
    "- Optimisation with end users\n",
    "\n",
    "\n",
    "<p style=\"margin-bottom:1cm;\"></p>\n",
    "<div style=\"width:100%;text-align:right;font-weight:bold;font-size:1.2em;\"> 4 </div>\n",
    "<img src=\"https://raw.githubusercontent.com/andrejkk/ORvTK_SlidesImgs/master/footer_full.jpg\">"
   ]
  },
  {
   "cell_type": "markdown",
   "metadata": {
    "slideshow": {
     "slide_type": "slide"
    }
   },
   "source": [
    "<div style=\"display:flex;font-weight:bold;font-size:0.9em;\">\n",
    "<div style=\"flex:1;width:50%;\"> 1. Introduction to Optimization in telecommunications </div>\n",
    "<div style=\"flex:1;width:50%;text-align:right;\"> 1.1. The role of Optimization in ICT </div>\n",
    "</div>\n",
    "\n",
    "\n",
    "\n",
    "## ■ Modern ICT and optimization\n",
    "\n",
    "- The user is at the center: to management aspect\n",
    "    - The management of large telecommunication companies \"are no longer managed the administration, but users\":\n",
    "    - Design and selection of services\n",
    "    - A direct impact on the performance of companies\n",
    "    - Dependence on social network based opinion spreading\n",
    "\n",
    "<p>\n",
    "- Today we do not pay „minutes and Mb ', but packets within which the users themselves determine use. \n",
    "\n",
    "<p>\n",
    "- Gurus moto: \"User data is the oil of the future\"\n",
    "\n",
    "\n",
    "<p style=\"margin-bottom:1cm;\"></p>\n",
    "<div style=\"width:100%;text-align:right;font-weight:bold;font-size:1.2em;\"> 6 </div>\n",
    "</div><img src=\"https://raw.githubusercontent.com/andrejkk/ORvTK_SlidesImgs/master/footer_full.jpg\">"
   ]
  },
  {
   "cell_type": "markdown",
   "metadata": {
    "slideshow": {
     "slide_type": "slide"
    }
   },
   "source": [
    "<div style=\"display:flex;font-weight:bold;font-size:0.9em;\">\n",
    "<div style=\"flex:1;width:50%;\"> 1. Introduction to Optimization in telecommunications </div>\n",
    "<div style=\"flex:1;width:50%;text-align:right;\"> 1.1. The role of Optimization in ICT </div>\n",
    "</div>\n",
    "\n",
    "\n",
    "## ■ What is ICT, historical overview (1)\n",
    "\n",
    "- Rapidly changing definition\n",
    "    - Communication: exchange of information with symbols\n",
    "    - Tele -: with the help of electrical systems\n",
    "    - changing civilization\n",
    "\n",
    "<p>\n",
    "\n",
    "- History - Communication Technology:\n",
    "    - -4. Century: Greek hydraulic systems semaphore;\n",
    "    - 1792: Claude Chappe, built the first permanent visual telegraphy;\n",
    "    - 1839: commercial electric telegraph;\n",
    "    - 1858: Atlantic telegraph cable\n",
    "    - 1878: Phone\n",
    "    - 1900: Start of telegraphy, radiocommunication\n",
    "    - 1920: Launch of radiocommunications\n",
    "    - 1940 frequency division multiplexing\n",
    "    - 1960: Satellite Communications\n",
    "    - 1980 optical fiber\n",
    "    - 2000 Gigabit transmission over optical fibers\n",
    "\n",
    "\n",
    "<p style=\"margin-bottom:1cm;\"></p>\n",
    "<div style=\"width:100%;text-align:right;font-weight:bold;font-size:1.2em;\"> 7 </div>\n",
    "<img src=\"https://raw.githubusercontent.com/andrejkk/ORvTK_SlidesImgs/master/footer_full.jpg\">"
   ]
  },
  {
   "cell_type": "markdown",
   "metadata": {
    "slideshow": {
     "slide_type": "slide"
    }
   },
   "source": [
    "<div style=\"display:flex;font-weight:bold;font-size:0.9em;\">\n",
    "<div style=\"flex:1;width:50%;\"> 1. Introduction to Optimization in telecommunications </div>\n",
    "<div style=\"flex:1;width:50%;text-align:right;\"> 1.1. The role of Optimization in ICT </div>\n",
    "</div>\n",
    "\n",
    "\n",
    "## ■ What is ICT, historical overview (2)\n",
    "\n",
    "- Optimization \n",
    "    - Eneida, Didon, Carthage, ox skin, try using a belt round\n",
    "    - Plato (Republic) - basic division of labor - a man who does only one job has become in this great\n",
    "    - Tyrant in Syracuse entrusted defense to Archimedes\n",
    "    - Leonardo Da Vinci\n",
    "    - 17 cent. Fermat, Pascal, Bernoulli; probability\n",
    "    - 1758 Francois Quesnay - economic plate\n",
    "    - 1764 James Watt - steam engine\n",
    "    - 1776 Monge - maintenance problem affects the way the price of services\n",
    "    - 1776 Adam Smith (Wealth of Nations) - about the benefits of the division of labor\n",
    "    - 1802 Ampere - the beginnings of the theory of games\n",
    "    - 1824 Fourier - systems of linear inequality - LP\n",
    "    - 1832 Charles Babbage (On Economy of Machines and Manufactures)\n",
    "\n",
    "\n",
    "<p style=\"margin-bottom:1cm;\"></p>\n",
    "<div style=\"width:100%;text-align:right;font-weight:bold;font-size:1.2em;\"> 8 </div>\n",
    "<img src=\"https://raw.githubusercontent.com/andrejkk/ORvTK_SlidesImgs/master/footer_full.jpg\">"
   ]
  },
  {
   "cell_type": "markdown",
   "metadata": {
    "slideshow": {
     "slide_type": "slide"
    }
   },
   "source": [
    "<div style=\"display:flex;font-weight:bold;font-size:0.9em;\">\n",
    "<div style=\"flex:1;width:50%;\"> 1. Introduction to Optimization in telecommunications </div>\n",
    "<div style=\"flex:1;width:50%;text-align:right;\"> 1.1. The role of Optimization in ICT </div>\n",
    "</div>\n",
    "\n",
    "\n",
    "## ■ What is ICT, historical overview (3) \n",
    "\n",
    "- History with OR related events\t\n",
    "    - 18 ?? Hamilton - problems in Graph theory\n",
    "    - gas engine\n",
    "    - electric motor\n",
    "    - 1874 Walras - balance in economics\n",
    "    - 18-- Pareto – Multicriteria\n",
    "    - 18-- Kirchoff – circuits\n",
    "    - 1911 Frederick Taylor - scientific management of production (training, time analysis, standards);\n",
    "    - Standardization was already used in Venetian shipyards\n",
    "    - 1913 Henry Gantt - machine scheduling, Henry Ford - conveyor belt\n",
    "    - 1914 Frederick W. Lanchaster, equations for predicting the exit of battles with respect to the numerical strength and firepower of opponents\n",
    "    - 1915 F.W. Harris, the basic form for the order size in stock theory\n",
    "\n",
    "\n",
    "\n",
    "<p style=\"margin-bottom:1cm;\"></p>\n",
    "<div style=\"width:100%;text-align:right;font-weight:bold;font-size:1.2em;\"> 9 </div>\n",
    "<img src=\"https://raw.githubusercontent.com/andrejkk/ORvTK_SlidesImgs/master/footer_full.jpg\">"
   ]
  },
  {
   "cell_type": "markdown",
   "metadata": {
    "slideshow": {
     "slide_type": "slide"
    }
   },
   "source": [
    "<div style=\"display:flex;font-weight:bold;font-size:0.9em;\">\n",
    "<div style=\"flex:1;width:50%;\"> 1. Introduction to Optimization in telecommunications </div>\n",
    "<div style=\"flex:1;width:50%;text-align:right;\"> 1.1. The role of Optimization in ICT </div>\n",
    "</div>\n",
    "\n",
    "\n",
    "## ■ What is ICT, historical overview (4)\n",
    "\n",
    "- 19-- A.K. Erlang, Markov processes\n",
    "- 1925 Leontijev - the balance of the national economy SZ\n",
    "- 1921-27 Borel - Game Theory\n",
    "- 1928 Janos (John) von Neumann - the fundamental theorem of game theory\n",
    "- 1930 Horace C. Levinson, link advertising, sales, income and residence customers\n",
    "- 193- Elton Mayo, an emphasis on human factors mitigate the technical approach\n",
    "- 1936 Konig - graph theory\n",
    "- 1938 the first group of OR in England in RAFu\n",
    "- 1939 P.M.S. Blackett group\n",
    "- 1939 Kantorovič - method for solving LP\n",
    "\n",
    "\n",
    "<p style=\"margin-bottom:1cm;\"></p>\n",
    "<div style=\"width:100%;text-align:right;font-weight:bold;font-size:1.2em;\"> 10 </div>\n",
    "<img src=\"https://raw.githubusercontent.com/andrejkk/ORvTK_SlidesImgs/master/footer_full.jpg\">"
   ]
  },
  {
   "cell_type": "markdown",
   "metadata": {
    "slideshow": {
     "slide_type": "slide"
    }
   },
   "source": [
    "<div style=\"display:flex;font-weight:bold;font-size:0.9em;\">\n",
    "<div style=\"flex:1;width:50%;\"> 1. Introduction to Optimization in telecommunications </div>\n",
    "<div style=\"flex:1;width:50%;text-align:right;\"> 1.1. The role of Optimization in ICT </div>\n",
    "</div>\n",
    "\n",
    "\n",
    "## ■ What is ICT, historical overview (5)\n",
    "\n",
    "- 1939-45 von Neumann, O. Morgenstern - theory\n",
    "- 1940 Tolstoy, Kantorovič, Hitchcock - transport problem; computers\n",
    "- 194- Metropolis, Ulam - Monte Carlo\n",
    "- 1947 George Dantzig - LP\n",
    "- 195- Ford, Fulkerson - network\n",
    "- 195- Karush, Kuhn, Tucker - nonlinear programming\n",
    "- 195- Mc Cormick - criminal methods\n",
    "- 195- Bellman - dynamic programming\n",
    "- 195- POLARIS - CPM, PERT\n",
    "- 1950 onwards: statistical / probabilistic methods for quality control, modeling - Computers\n",
    "- Founded in 1950: (British) Operational Research Society\n",
    "- Founded in 1952: Operations Research Society of America\n",
    "\n",
    "\n",
    "\n",
    "<p style=\"margin-bottom:1cm;\"></p>\n",
    "<div style=\"width:100%;text-align:right;font-weight:bold;font-size:1.2em;\"> 11 </div>\n",
    "<img src=\"https://raw.githubusercontent.com/andrejkk/ORvTK_SlidesImgs/master/footer_full.jpg\">"
   ]
  },
  {
   "cell_type": "markdown",
   "metadata": {
    "slideshow": {
     "slide_type": "slide"
    }
   },
   "source": [
    "<div style=\"display:flex;font-weight:bold;font-size:0.9em;\">\n",
    "<div style=\"flex:1;width:50%;\"> 1. Introduction to Optimization in telecommunications </div>\n",
    "<div style=\"flex:1;width:50%;text-align:right;\"> 1.1. The role of Optimization in ICT </div>\n",
    "</div>\n",
    "\n",
    "\n",
    "## ■ What is ICT, historical overview (6)\n",
    "\n",
    "- 1953 The Institute of Management Science was established\n",
    "- Founded in 1959 by the International Federation of ORS\n",
    "- 1960 university studies\n",
    "- from 1960 to decision theory, target programming, multi-criteria optimization\n",
    "- since 1970 links to information systems - decision support systems;\n",
    "- artificial intelligence\n",
    "\n",
    "\n",
    "\n",
    "<p style=\"margin-bottom:1cm;\"></p>\n",
    "<div style=\"width:100%;text-align:right;font-weight:bold;font-size:1.2em;\"> 12 </div>\n",
    "<img src=\"https://raw.githubusercontent.com/andrejkk/ORvTK_SlidesImgs/master/footer_full.jpg\">"
   ]
  },
  {
   "cell_type": "markdown",
   "metadata": {},
   "source": [
    "<div style=\"display:flex;font-weight:bold;font-size:0.9em;\">\n",
    "<div style=\"flex:1;width:50%;\"> 1. Introduction to Optimization in telecommunications </div>\n",
    "<div style=\"flex:1;width:50%;text-align:right;\"> 1.1. The role of Optimization in ICT </div>\n",
    "</div>\n",
    "\n",
    "\n",
    "## ■ What is telecoms, where are we now\n",
    "\n",
    "- fibre optic train: 400 Tb/s\n",
    "- Optical computer: 100 ps to calculate, minimum energy\n",
    "- quantum computer\n",
    "- quantum cryptography\n",
    "- memory in DNA\n",
    "- large language models: bridge between AI components and humans\n",
    "\n",
    "\n",
    "\n",
    "<p style=\"margin-bottom:1cm;\"></p>\n",
    "<div style=\"width:100%;text-align:right;font-weight:bold;font-size:1.2em;\"> 12 </div>\n",
    "<img src=\"https://raw.githubusercontent.com/andrejkk/ORvTK_SlidesImgs/master/footer_full.jpg\">"
   ]
  },
  {
   "cell_type": "markdown",
   "metadata": {
    "slideshow": {
     "slide_type": "slide"
    }
   },
   "source": [
    "<div style=\"display:flex;font-weight:bold;font-size:0.9em;\">\n",
    "<div style=\"flex:1;width:50%;\"> 1. Introduction to Optimization in telecommunications </div>\n",
    "<div style=\"flex:1;width:50%;text-align:right;\"> 1.2. Some cases, what is special in TC? </div>\n",
    "</div>\n",
    "\n",
    "\n",
    "# 1.2. Some cases, what is special in TC?\n",
    "\n",
    "■ Logistic examples\n",
    "\n",
    "■ Special cases of OP in ICT (1): traffic specifics\n",
    "\n",
    "■ Special cases of OP in ICT (2): system complexity\n",
    "\n",
    "■ Special cases of OP in ICT (3): cost function and measurement of end users \n",
    "\n",
    "■ Typical problem solving procedure\n",
    "\n",
    "\n",
    "<p style=\"margin-bottom:1cm;\"></p>\n",
    "<div style=\"width:100%;text-align:right;font-weight:bold;font-size:1.2em;\"> 13 </div>\n",
    "<img src=\"https://raw.githubusercontent.com/andrejkk/ORvTK_SlidesImgs/master/footer_full.jpg\">"
   ]
  },
  {
   "cell_type": "markdown",
   "metadata": {
    "slideshow": {
     "slide_type": "slide"
    }
   },
   "source": [
    "<div style=\"display:flex;font-weight:bold;font-size:0.9em;\">\n",
    "<div style=\"flex:1;width:50%;\"> 1. Introduction to Optimization in telecommunications </div>\n",
    "<div style=\"flex:1;width:50%;text-align:right;\">  1.2. Some cases, what is special in TC? </div>\n",
    "</div>\n",
    "\n",
    "\n",
    "## ■ Logistic examples\n",
    "\n",
    "- Problem: the minimum cost of transport <p>\n",
    "    Express shipping\n",
    "    \n",
    "    \n",
    "- The optimization of space: a model of the <p>\n",
    "    road network covered\n",
    "    \n",
    "    \n",
    "- The objective function: costs, which consists <p>\n",
    "    from\n",
    "    - Amortisation of vehicles\n",
    "    - Labor costs\n",
    "    - Fuel consumption\n",
    "- Constraints:\n",
    "    - Physical limitations of vehicles and networks\n",
    "    - Legal restrictions?\n",
    "\n",
    "\n",
    "- Is it solvable?\n",
    "    \n",
    "<img style=\"float: right; width: 300px; margin:-250px 0 0 0;\" src=\"https://raw.githubusercontent.com/andrejkk/ORvTK_SlidesImgs/master/CityMap.jpg\">\n",
    "\n",
    "\n",
    "\n",
    "<p style=\"margin-bottom:1cm;\"><br><br><br></p>\n",
    "<div style=\"width:100%;text-align:right;font-weight:bold;font-size:1.2em;\"> 14 </div>\n",
    "<img src=\"https://raw.githubusercontent.com/andrejkk/ORvTK_SlidesImgs/master/footer_full.jpg\">"
   ]
  },
  {
   "cell_type": "markdown",
   "metadata": {
    "slideshow": {
     "slide_type": "slide"
    }
   },
   "source": [
    "<div style=\"display:flex;font-weight:bold;font-size:0.9em;\">\n",
    "<div style=\"flex:1;width:50%;\"> 1. Introduction to Optimization in telecommunications </div>\n",
    "<div style=\"flex:1;width:50%;text-align:right;\">  1.2. Some cases, what is special in TC? </div>\n",
    "</div>\n",
    "\n",
    "\n",
    "## ■ Special cases of OR in ICT (1): traffic specifics\n",
    "\n",
    "- Statistical properties of traffic\n",
    "    - Poisson model does not apply\n",
    "    - Self-similarity\n",
    "    - Hurst parameter (exponent)?\n",
    "\n",
    "\n",
    "- When and why?\n",
    "    - When we have a larger number of users, <p>\n",
    "    for instance browsing web pages\n",
    "\n",
    "<img style=\"float: right; width: 300px; margin:-150px 0 0 0;\" src=\"https://raw.githubusercontent.com/andrejkk/ORvTK_SlidesImgs/master/SelfSimilarTr_slo.png\">\n",
    "\n",
    "\n",
    "\n",
    "<p style=\"margin-bottom:1cm;\"><br><br><br><br><br><br><br><br><br><br></p>\n",
    "<div style=\"width:100%;text-align:right;font-weight:bold;font-size:1.2em;\"> 15 </div>\n",
    "<img src=\"https://raw.githubusercontent.com/andrejkk/ORvTK_SlidesImgs/master/footer_full.jpg\">"
   ]
  },
  {
   "cell_type": "markdown",
   "metadata": {
    "slideshow": {
     "slide_type": "slide"
    }
   },
   "source": [
    "<div style=\"display:flex;font-weight:bold;font-size:0.9em;\">\n",
    "<div style=\"flex:1;width:50%;\"> 1. Introduction to Optimization in telecommunications </div>\n",
    "<div style=\"flex:1;width:50%;text-align:right;\">  1.2. Some cases, what is special in TC? </div>\n",
    "</div>\n",
    "\n",
    "## ■ Special cases of OR in ICT (2): system complexity\n",
    "\n",
    "- Users are humans:\n",
    "    - QoE\n",
    "    - MOS: Mean opinion score\n",
    "\n",
    "\n",
    "- Statistical evaluation of the questionnaires?\n",
    "    - System with feedback binding\n",
    "    - Package droping\n",
    "\n",
    "\n",
    "<img style=\"float: right; width: 500px; margin:-80px 20px 10px 0;\" src=\"https://raw.githubusercontent.com/andrejkk/ORvTK_SlidesImgs/master/ComplexNetSys_ang.png\">\n",
    "\n",
    "\n",
    "\n",
    "<p style=\"margin-bottom:1cm;\"><br><br><br><br><br><br></p>\n",
    "<div style=\"width:100%;text-align:right;font-weight:bold;font-size:1.2em;\"> 16 </div>\n",
    "<img src=\"https://raw.githubusercontent.com/andrejkk/ORvTK_SlidesImgs/master/footer_full.jpg\">"
   ]
  },
  {
   "cell_type": "markdown",
   "metadata": {
    "slideshow": {
     "slide_type": "slide"
    }
   },
   "source": [
    "<div style=\"display:flex;font-weight:bold;font-size:0.9em;\">\n",
    "<div style=\"flex:1;width:50%;\"> 1. Introduction to Optimization in telecommunications </div>\n",
    "<div style=\"flex:1;width:50%;text-align:right;\">  1.2. Some cases, what is special in TC? </div>\n",
    "</div>\n",
    "\n",
    "## ■ Special cases of OR in ICT (3): cost function and measurement of end users \n",
    "\n",
    "\n",
    "- Cost function a service development is very complex: an effect of a given service to users' need\n",
    "- Efects and effectiveness are \n",
    "  - not exactly defined;\n",
    "  - difficult to measure;\n",
    "  - requires complicated user experiments\n",
    "\n",
    "- We will devote one chapter to this issues;\n",
    "\n",
    "\n",
    "<p style=\"margin-bottom:1cm;\"><br><br><br><br><br><br></p>\n",
    "<div style=\"width:100%;text-align:right;font-weight:bold;font-size:1.2em;\"> 17 </div>\n",
    "<img src=\"https://raw.githubusercontent.com/andrejkk/ORvTK_SlidesImgs/master/footer_full.jpg\">"
   ]
  },
  {
   "cell_type": "markdown",
   "metadata": {
    "slideshow": {
     "slide_type": "slide"
    }
   },
   "source": [
    "<div style=\"display:flex;font-weight:bold;font-size:0.9em;\">\n",
    "<div style=\"flex:1;width:50%;\"> 1. Introduction to Optimization in telecommunications </div>\n",
    "<div style=\"flex:1;width:50%;text-align:right;\">  1.2. Some cases, what is special in TC? </div>\n",
    "</div>\n",
    "\n",
    "## ■ Typical problem solving procedure\n",
    "\n",
    "- Domain knowledge\n",
    "- Several iterations\n",
    "- Human factors: optimization results <p>\n",
    "    implementaion is very hard\n",
    "    \n",
    "<img style=\"float: right; width: 250px; margin:-140px 20px 10px 0;\" \n",
    "src=\"https://raw.githubusercontent.com/andrejkk/ORvTK_SlidesImgs/master/OptimizProc_ang.png\">\n",
    "\n",
    "\n",
    "\n",
    "\n",
    "<p style=\"margin-bottom:1cm;\"><br><br><br><br><br><br><br><br><br><br><br><br><br><br><br><br><br></p>\n",
    "<div style=\"width:100%;text-align:right;font-weight:bold;font-size:1.2em;\"> 18 </div>\n",
    "<img src=\"https://raw.githubusercontent.com/andrejkk/ORvTK_SlidesImgs/master/footer_full.jpg\">"
   ]
  },
  {
   "cell_type": "markdown",
   "metadata": {
    "slideshow": {
     "slide_type": "slide"
    }
   },
   "source": [
    "<div style=\"display:flex;font-weight:bold;font-size:0.9em;\">\n",
    "<div style=\"flex:1;width:50%;\"> 1. Introduction to Optimization in telecommunications </div>\n",
    "<div style=\"flex:1;width:50%;text-align:right;\">  1.2. Some cases, what is special in TC? </div>\n",
    "</div>\n",
    "\n",
    "\n",
    "## ■ Wikipedia links (1)\n",
    "\n",
    "<table style = \"width: 80%\" align = \"left\">\n",
    "  <tr>\n",
    "    <th> Algorithm and computational complexity (algorithm layout, calculation of complexity, problem of numerical errors)\n",
    "    </th>\n",
    "    <th>\n",
    "http://en.wikipedia.org/wiki/Algorithm\n",
    "http://en.wikipedia.org/wiki/Computational_complexity\n",
    "http://en.wikipedia.org/wiki/Analysis_of_algorithms\n",
    "http://en.wikipedia.org/wiki/Numerical_error </th>\n",
    "  </tr>\n",
    "  <tr>\n",
    "    <td> Theory of graphs (description, operations on graphs, basic graph algorithms, selected graph properties) and data structures.\n",
    "    </td>\n",
    "    <td>\n",
    "http://en.wikipedia.org/wiki/Graph_theory\n",
    "http://en.wikipedia.org/wiki/Data_structures\n",
    "    </td>\n",
    "  </tr>\n",
    "  <tr>\n",
    "    <td> Introduction to operational research and optimization. Optimization task (formulation, criteria functions, types of solutions).\n",
    "    </td>\n",
    "    <td> http://en.wikipedia.org/wiki/Operations_research\n",
    "http://en.wikipedia.org/wiki/Optimization </td>\n",
    "  </tr>\n",
    "  <tr>\n",
    "    <td> Combination optimization, linear programming and integer programming (presentation, simplex method, merchant traveler and rucksack).\n",
    "    </td>\n",
    "    <td> http://en.wikipedia.org/wiki/Combinatorial_optimization\n",
    "http://en.wikipedia.org/wiki/Linear_programming\n",
    "http://en.wikipedia.org/wiki/Simplex_algorithm\n",
    "http://en.wikipedia.org/wiki/Traveling_salesman_problem\n",
    "  </tr>\n",
    "  <tr>\n",
    "    <td> Network analysis (maximum flow, minimum price, shortest path, optimal labeling).\n",
    "    </td>\n",
    "    <td> http://en.wikipedia.org/wiki/Maximal_flow\n",
    "http://en.wikipedia.org/wiki/Minimum_cost_flow_problem\n",
    "http://en.wikipedia.org/wiki/Shortest_path\n",
    "  </tr>\n",
    "</table>\n",
    "\n",
    "\n",
    "<p style=\"margin-bottom:1cm;\"></p>\n",
    "<div style=\"width:100%;text-align:right;font-weight:bold;font-size:1.2em;\"> 19 </div>\n",
    "<img src=\"https://raw.githubusercontent.com/andrejkk/ORvTK_SlidesImgs/master/footer_full.jpg\">"
   ]
  },
  {
   "cell_type": "markdown",
   "metadata": {
    "slideshow": {
     "slide_type": "slide"
    }
   },
   "source": [
    "<div style=\"display:flex;font-weight:bold;font-size:0.9em;\">\n",
    "<div style=\"flex:1;width:50%;\"> 1. Introduction to Optimization in telecommunications </div>\n",
    "<div style=\"flex:1;width:50%;text-align:right;\">  1.2. Some cases, what is special in TC? </div>\n",
    "</div>\n",
    "\n",
    "\n",
    "## ■ Wikipedia links (2) \n",
    "\n",
    "<table style = \"width: 80%\" align = \"left\">\n",
    "  <tr>\n",
    "    <th>\n",
    "Nonlinear optimization (gradient and Newton's method, condition optimization).\n",
    "    </th>\n",
    "    <th>\n",
    "http://en.wikipedia.org/wiki/Nonlinear_programming\n",
    "http://en.wikipedia.org/wiki/Constraint_optimization\n",
    "http://en.wikipedia.org/wiki/Nonlinear_conjugate_gradient_method\n",
    "    </th>\n",
    "  </tr>\n",
    "  <tr>\n",
    "    <th>\n",
    "Dynamic programming and game theory.\n",
    "    </th>\n",
    "    <th>\n",
    "http://en.wikipedia.org/wiki/Dynamic_programming\n",
    "http://en.wikipedia.org/wiki/Game_theory\n",
    "    </th>\n",
    "  </tr>\n",
    "  <tr>\n",
    "    <th>\n",
    "Markov chain (classification of states, ergodicity, use).\n",
    "    </th>\n",
    "    <th>\n",
    "http://en.wikipedia.org/wiki/Markov_chain\n",
    "    </th>\n",
    "  </tr>\n",
    "  <tr>\n",
    "    <th>\n",
    "Theory theory (basic analysis).\n",
    "    </th>\n",
    "    <th>\n",
    "http://en.wikipedia.org/wiki/Time_series\n",
    "http://en.wikipedia.org/wiki/Traffic_generation_model\n",
    "http://en.wikipedia.org/wiki/Autoregressive_fractionally_integrated_moving_average\n",
    "http://en.wikipedia.org/wiki/Self-similar_process\n",
    "    </th>\n",
    "  </tr>\n",
    "  <tr>\n",
    "    <th>\n",
    "The theory of decisions (presentation, use).\n",
    "    </th>\n",
    "    <th>\n",
    "http://en.wikipedia.org/wiki/Decision_theory\n",
    "    </th>\n",
    "  </tr>\n",
    "  <tr>\n",
    "    <th>\n",
    "Heuristic optimization techniques.\n",
    "    </th>\n",
    "    <th>\n",
    "http://en.wikipedia.org/wiki/Heuristic_algorithm\n",
    "    </th>\n",
    "  </tr>\n",
    "  <tr>\n",
    "    <th>\n",
    "Important applications in TK (topology control, optimal resource allocation, optimal routing, optimum recovery after error).\n",
    "    </th>\n",
    "    <th>\n",
    "http://en.wikipedia.org/wiki/Routing\n",
    "http://en.wikipedia.org/wiki/Scheduling\n",
    "    </th>\n",
    "  </tr>\n",
    "</table>\n",
    "\n",
    "\n",
    "\n",
    "<p style=\"margin-bottom:1cm;\"></p>\n",
    "<div style=\"width:100%;text-align:right;font-weight:bold;font-size:1.2em;\"> 20 </div>\n",
    "<img src=\"https://raw.githubusercontent.com/andrejkk/ORvTK_SlidesImgs/master/footer_full.jpg\">"
   ]
  },
  {
   "cell_type": "code",
   "execution_count": null,
   "metadata": {},
   "outputs": [],
   "source": []
  }
 ],
 "metadata": {
  "celltoolbar": "Slideshow",
  "kernelspec": {
   "display_name": "Python 3",
   "language": "python",
   "name": "python3"
  },
  "language_info": {
   "codemirror_mode": {
    "name": "ipython",
    "version": 3
   },
   "file_extension": ".py",
   "mimetype": "text/x-python",
   "name": "python",
   "nbconvert_exporter": "python",
   "pygments_lexer": "ipython3",
   "version": "3.10.5 (tags/v3.10.5:f377153, Jun  6 2022, 16:14:13) [MSC v.1929 64 bit (AMD64)]"
  },
  "vscode": {
   "interpreter": {
    "hash": "66d245bc0aa345411577de3f292b9e6a6906f0558af2a59212c3c2455e5d14f2"
   }
  }
 },
 "nbformat": 4,
 "nbformat_minor": 2
}
