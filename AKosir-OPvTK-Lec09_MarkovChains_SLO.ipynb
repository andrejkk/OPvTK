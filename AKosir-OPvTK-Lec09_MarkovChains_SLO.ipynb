{
  "cells": [
    {
      "metadata": {
        "collapsed": true,
        "slideshow": {
          "slide_type": "slide"
        }
      },
      "cell_type": "markdown",
      "source": "<img style=\"float: center; width: 100%\" src=\"https://raw.githubusercontent.com/andrejkk/TalksImgs/master/FrontSlideUpperBan.png\">\n<p style=\"margin-bottom:2cm;\"></p>\n\n<center>\n    <H1> 9. Markovske verige </H1>\n   \n\n\n<br><br>\n    <H3> Andrej Košir, Lucami, FE </H4>\n    \n    <H4> Kontakt: prof. dr. Andrej Košir, andrej.kosir@lucami.fe.uni-lj.si, skype=akosir_sid </H4>\n</center>\n\n\n<p style=\"margin-bottom:2cm;\"></p>\n<div style=\"width:100%;text-align:right;font-weight:bold;font-size:1.2em;\"> 1 </div>\n<img src=\"https://raw.githubusercontent.com/andrejkk/ORvTK_SlidesImgs/master/footer_full.jpg\">"
    },
    {
      "metadata": {
        "collapsed": true,
        "slideshow": {
          "slide_type": "slide"
        }
      },
      "cell_type": "markdown",
      "source": "<div style=\"display:flex;font-weight:bold;font-size:0.9em;\">\n<div style=\"flex:1;width:50%;\"> 9. Markovske verige  </div>\n<div style=\"flex:1;width:50%;text-align:right;\"> Cilji </div>\n</div>\n\n\n## ■ Cilji\n\n- Cilj: \n    - Modeliranje z markovskimi verigami\n    - Osnove analize stanj markovske verige\n\n\n- Slučajni proces na končno stanjih, ki je najbolje poznan in uporaben. Omejimo se na:\n    - Diskreten čas\n    - Diskreten prostor stanj (končno ali števno neskončno stanj)\n\n\n- Primer: uporabniki in njihovo obnašanje\n- Primeri uporabe\n    - Analiza končnega avtomata: analizaobnašanja TK sistema, ...\n    - Ekonomski modeli\n\n\n- Kaj nas zanima:\n    - Pogostnost obiskov\n    - Stanje po dolgem času\n    - Pojavi kot je absorbcija\n\n\n<figure>\n<img style=\"float: center; width: 300px; margin: 0px 20px 20px 0px;\" src=\"https://raw.githubusercontent.com/andrejkk/ORvTK_SlidesImgs/master/MarkovChain_Emotions.png\">\n  <figcaption></figcaption>\n</figure>\n\n<figure>\n<img style=\"float: right; width: 200px; margin: -320px 20px 20px 0px;\" src=\"https://raw.githubusercontent.com/andrejkk/ORvTK_SlidesImgs/master/MarkovChain_Marker.png\">\n  <figcaption></figcaption>\n</figure>\n\n\n<p style=\"margin-bottom:2cm;\"></p>\n<div style=\"width:100%;text-align:right;font-weight:bold;font-size:1.2em;\"> 2 </div>\n<img src=\"https://raw.githubusercontent.com/andrejkk/ORvTK_SlidesImgs/master/footer_full.jpg\">"
    },
    {
      "metadata": {
        "collapsed": true,
        "slideshow": {
          "slide_type": "slide"
        }
      },
      "cell_type": "markdown",
      "source": "<div style=\"display:flex;font-weight:bold;font-size:0.9em;\">\n<div style=\"flex:1;width:50%;\"> 9. Markovske verige  </div>\n<div style=\"flex:1;width:50%;text-align:right;\"> Cilji </div>\n</div>\n\n\n## ■ Poglavja \n\n\n9.1. Definicija, osnovne lastnosti\n\n■ Definicija markovske verige $\\large{*}$\n\n■ O prehodni matriki, porazdelitev stanj $\\large{*}$\n\n\n9.2. Klasifikacija stanj\n\n■ Povezanost stanj in perioda $\\large{*}$\n\n■ Povrnljivo in minljivo stanje $\\large{*}$\n\n■ Ergodijska mar. veriga in časi vračanja v stanje\n\n■ Stacionarna (limitna) porazdelitev $\\large{*}$\n\n■ Končna markovska veriga $\\large{*}$\n\n\n9.3. Ocenjevanje prehodne matrike\n\n■ Ocene prehodnih verjetnosti\n\n■ Interval zaupanja in grafikov kvantilov\n\n■ Določane velikosti vzorca\n\n■ Numerični vidik\n\n■ Primer: razredi uporabnikov TK storitev\n\n\n<p style=\"margin-bottom:2cm;\"></p>\n<div style=\"width:100%;text-align:right;font-weight:bold;font-size:1.2em;\"> 3 </div>\n<img src=\"https://raw.githubusercontent.com/andrejkk/ORvTK_SlidesImgs/master/footer_full.jpg\">"
    },
    {
      "metadata": {
        "collapsed": true,
        "slideshow": {
          "slide_type": "slide"
        }
      },
      "cell_type": "markdown",
      "source": "<div style=\"display:flex;font-weight:bold;font-size:0.9em;\">\n<div style=\"flex:1;width:50%;\"> 9. Markovske verige  </div>\n<div style=\"flex:1;width:50%;text-align:right;\"> 9.1. Definicija, osnovne lastnosti </div>\n</div>\n\n\n## 9.1. Definicija, osnovne lastnosti\n\n■ Definicija markovske verige\n\n■ O prehodni matriki, porazdelitev stanj\n\n\n<p style=\"margin-bottom:2cm;\"></p>\n<div style=\"width:100%;text-align:right;font-weight:bold;font-size:1.2em;\"> 4 </div>\n<img src=\"https://raw.githubusercontent.com/andrejkk/ORvTK_SlidesImgs/master/footer_full.jpg\">"
    },
    {
      "metadata": {
        "collapsed": true,
        "slideshow": {
          "slide_type": "slide"
        }
      },
      "cell_type": "markdown",
      "source": "<div style=\"display:flex;font-weight:bold;font-size:0.9em;\">\n<div style=\"flex:1;width:50%;\"> 9. Markovske verige  </div>\n<div style=\"flex:1;width:50%;text-align:right;\"> 9.1. Definicija, osnovne lastnosti </div>\n</div>\n\n## ■ Definicija markovske verige\n\n\n- Prostor stanj $S$, $m=|S|$\n    - Končen, neskončen (števen)\n- Čas $T$\n    - Diskreten, zvezen\n\n- Slučajni proces: \n$$ X_n : T \\to S $$\n\n- Diskretna Markovska veriga je slučajni proces na diskretnem času in diskretnim prostorom stanj, za katerega velja pravilo prehodne verjetnosti enega koraka\n$$ P[X_{n+1}|_{X_n, X_{n-1}, \\ldots, X_0}] = P[X_{n+1}|_{X_n}] = P[X_1|_{X_0}] $$\n\n\n- Prehodna verjetnost enega koraka\n$$ p_{ij} = P[X_{n+1}=j|_{X_n=i}] $$\n\n\n- Končen prostor stanj – matrika prehodnih verjetnosti = prehodna matrija\n$$ P = [p_{ij}], \\; i,j\\in S. $$\n\nVrstične vsote ima enake 1.\n\n\n<p style=\"margin-bottom:2cm;\"></p>\n<div style=\"width:100%;text-align:right;font-weight:bold;font-size:1.2em;\"> 5 </div>\n<img src=\"https://raw.githubusercontent.com/andrejkk/ORvTK_SlidesImgs/master/footer_full.jpg\">"
    },
    {
      "metadata": {
        "trusted": true
      },
      "cell_type": "code",
      "source": "import numpy as np\nfrom sympy import Matrix\nfrom sympy.functions import re\n\n# Case 1 \n# Transition matrix\nP = np.array([[0.7, 0.2, 0.1, 0.0], \n              [0.2, 0.5, 0.2, 0.1], \n              [0.05, 0.15, 0.6, 0.2], \n              [0.0, 0.2, 0.0, 0.8]])\n\nP",
      "execution_count": 6,
      "outputs": [
        {
          "output_type": "execute_result",
          "execution_count": 6,
          "data": {
            "text/plain": "array([[0.7 , 0.2 , 0.1 , 0.  ],\n       [0.2 , 0.5 , 0.2 , 0.1 ],\n       [0.05, 0.15, 0.6 , 0.2 ],\n       [0.  , 0.2 , 0.  , 0.8 ]])"
          },
          "metadata": {}
        }
      ]
    },
    {
      "metadata": {
        "collapsed": true,
        "slideshow": {
          "slide_type": "slide"
        }
      },
      "cell_type": "markdown",
      "source": "<div style=\"display:flex;font-weight:bold;font-size:0.9em;\">\n<div style=\"flex:1;width:50%;\"> 9. Markovske verige  </div>\n<div style=\"flex:1;width:50%;text-align:right;\"> 9.1. Definicija, osnovne lastnosti </div>\n</div>\n\n\n## ■ O prehodni matriki, porazdelitev stanj\n\n\n- Prehodna matrika za $n$ korakov\n    - $p_{ij}^{(n)} = P[X_{k+n}=j|_{X_k=i}]$, $P^{(n)}=[p_{ij}^{(n)}]$\n    - Formula o popolni verjetnosti\n    $$ P^{(n)} = P^n $$\n    \n    \n   \n- Porazdelitev stanj: \n  $$ \\pi_i^n = P[X_n=i], \\pi^n = [\\pi_1^n, \\ldots, \\pi_i^n] $$\n    - To je delež časa sistema v danem stanju na dolgi rok? Ne vedno.\n    - Začetna porazdelitev: $\\pi^0$. Če je stanje $X_0=i_0$ znano, je         \n    $$ \\pi^0=\\delta_{i_0 i} $$ \n    - Formula o popolni verjetnosti:\n    $$ \\pi^n = P^{(n)} \\pi^0 $$\n    - O limitni porazdelitvi kasneje\n\n<p style=\"margin-bottom:2cm;\"></p>\n<div style=\"width:100%;text-align:right;font-weight:bold;font-size:1.2em;\"> 6 </div>\n<img src=\"https://raw.githubusercontent.com/andrejkk/ORvTK_SlidesImgs/master/footer_full.jpg\">"
    },
    {
      "metadata": {
        "collapsed": true,
        "slideshow": {
          "slide_type": "slide"
        }
      },
      "cell_type": "markdown",
      "source": "<div style=\"display:flex;font-weight:bold;font-size:0.9em;\">\n<div style=\"flex:1;width:50%;\"> 9. Markovske verige  </div>\n<div style=\"flex:1;width:50%;text-align:right;\"> 9.2. Klasifikacija stanj </div>\n</div>\n\n\n## 9.2. Klasifikacija stanj\n\n\n■ Povezanost stanj in perioda\n\n■ Povrnljivo in minljivo stanje\n\n■ Ergodijska mar. veriga in časi vračanja v stanje\n\n■ Stacionarna (limitna) porazdelitev\n\n■ Končna markovska veriga\n\n\n<p style=\"margin-bottom:2cm;\"></p>\n<div style=\"width:100%;text-align:right;font-weight:bold;font-size:1.2em;\"> 7 </div>\n<img src=\"https://raw.githubusercontent.com/andrejkk/ORvTK_SlidesImgs/master/footer_full.jpg\">"
    },
    {
      "metadata": {
        "collapsed": true,
        "slideshow": {
          "slide_type": "slide"
        }
      },
      "cell_type": "markdown",
      "source": "<div style=\"display:flex;font-weight:bold;font-size:0.9em;\">\n<div style=\"flex:1;width:50%;\"> 9. Markovske verige  </div>\n<div style=\"flex:1;width:50%;text-align:right;\"> 9.2. Klasifikacija stanj </div>\n</div>\n\n\n## ■ Povezanost stanj in perioda\n\n\n- Dosegljivo stanje\n    - Stanje $j$ je dosegljivo iz stanja $i$, če $\\exists n: p_{ij}^{(n)}>0$\n    - Stanji sta povezani, če sta vzajemno dosegljivi, označimo $i\\leftrightarrow j$\n    - Povezanost je ekvivalenčna relacija\n\n\n- Markovska veriga je nerazcepna, če ima en sam razred stanj;\n    - Prehodna matrika je bločno diagonalna\n\n\n- Perioda stanja $d(i)$ je največji skupni delitelj vseh $n$, za katere velja $P_{ii}^{(n)} > 0$ \n    - Če je $i\\leftrightarrow j$, potem $d(i) = d(j)$;\n    - Stanje je neperiodično, če je $d(i)=1$;\n    \n    \n- Stanje je ničelno, če je   \n$$ \\lim_{n\\to\\infty} P_{ii}^{(n)} = 0. $$\n\n\n<p style=\"margin-bottom:2cm;\"></p>\n<div style=\"width:100%;text-align:right;font-weight:bold;font-size:1.2em;\"> 8 </div>\n<img src=\"https://raw.githubusercontent.com/andrejkk/ORvTK_SlidesImgs/master/footer_full.jpg\">"
    },
    {
      "metadata": {
        "trusted": true
      },
      "cell_type": "code",
      "source": "# ---------------------------------------------------------------------------------------------------\n# Classification of states\nprint ('Transition matrix P=\\n', P)\nprint ('\\nTransition matrix P^2=\\n', np.linalg.matrix_power(P, 2))\n\n# All entries of P^2 are non-zero\n# => All atates are connected",
      "execution_count": 7,
      "outputs": [
        {
          "output_type": "stream",
          "text": "Transition matrix P=\n [[0.7  0.2  0.1  0.  ]\n [0.2  0.5  0.2  0.1 ]\n [0.05 0.15 0.6  0.2 ]\n [0.   0.2  0.   0.8 ]]\n\nTransition matrix P^2=\n [[0.535 0.255 0.17  0.04 ]\n [0.25  0.34  0.24  0.17 ]\n [0.095 0.215 0.395 0.295]\n [0.04  0.26  0.04  0.66 ]]\n",
          "name": "stdout"
        }
      ]
    },
    {
      "metadata": {
        "trusted": true
      },
      "cell_type": "code",
      "source": "# ---------------------------------------------------------------------------------------------------\n# Decompose transition matrix\n# Use Jordan decomposition\n#mP = Matrix(P)\n#mB, mJ = mP.jordan_form()\n#B, J = np.array(mB), np.array(mJ)\nB = np.array([[-0.5,-0.776313,0.659526,-0.413722],\n              [-0.5,-0.212847,-0.11514,0.830469],\n              [-0.5,0.283275,-0.73692,-0.123153],\n              [-0.5,0.521335,0.0933625,-0.352121]])\nJ = np.array([[1.,0,0,0],\n              [0,0.718345,0,0],\n              [0,0,0.553349,0],\n              [0,0,0,0.328305]])\n\n# Test decomposition\nerr_mat = P - np.dot(B, np.dot(J, np.linalg.inv(B)))\nprint ('\\nDecomposition error norm = ', np.linalg.norm(err_mat))",
      "execution_count": 22,
      "outputs": [
        {
          "output_type": "stream",
          "text": "\nDecomposition error norm =  7.249920892047682e-07\n",
          "name": "stdout"
        }
      ]
    },
    {
      "metadata": {
        "collapsed": true,
        "slideshow": {
          "slide_type": "slide"
        }
      },
      "cell_type": "markdown",
      "source": "<div style=\"display:flex;font-weight:bold;font-size:0.9em;\">\n<div style=\"flex:1;width:50%;\"> 9. Markovske verige  </div>\n<div style=\"flex:1;width:50%;text-align:right;\"> 9.2. Klasifikacija stanj </div>\n</div>\n\n\n## ■ Povrnljivo in minljivo stanje\n\n\n- Verjetnost prve vrnitve po $n$ korakih\n$$ f_{ij}^n = P[X_n=j|_{X_{n-1}\\ne j, \\ldots, X_1\\ne j, X_0=i}] $$\n\n\n- Slučajna spremenljivka števila korakov prehoda iz $i$ v $j$ označimo s $T_{ij}$ in ima porazdelitev \n$$ T_{ij} \\sim \\left(\\matrix{0 & 1 & 2 & \\ldots \\cr f_{ij}^0 & f_{ij}^1 & f_{ij}^2 & \\ldots}\\right) $$\n    - Posebej označimo $T_i = T_{ii}$\n    - Označimo: $\\sum_{n=0}^\\infty f_{ii}^n = f_{ii}^*$. Vrednost \n    $$ 1- f_{ii}^* $$\n    je verjetnost, da se nikoli več ne vrnemo v stanje $i$ potem ko smo stanje $i$ zapustili.\n\n- Stanje $i$ je **povrnljivo**, če je $f_{ii}^* = 1$. Stanje je **minljivo**, če ni povrnljivo.\n    - Obe lastnosti se ohranjata pri povezanosti, torej definirata ekvivalenčne razrede.\n\n- Velja: stanje $i$ povrnljivo je natanko tedaj, ko je\n$$ \\sum_{n=1}^\\infty P_{ii}^{(n)} = \\infty $$\n\n\n- Velja : če $i\\leftrightarrow j$, sta obe stanji ali minljivi ali povarnljivi\n\n\n<p style=\"margin-bottom:2cm;\"></p>\n<div style=\"width:100%;text-align:right;font-weight:bold;font-size:1.2em;\"> 9 </div>\n<img src=\"https://raw.githubusercontent.com/andrejkk/ORvTK_SlidesImgs/master/footer_full.jpg\">"
    },
    {
      "metadata": {
        "trusted": true
      },
      "cell_type": "code",
      "source": "# Recurent, transient? \n\n# Eigenvalues\neigVals, eigVecs = np.linalg.eig(P.T)\n\n# Get it sorted\nidx = eigVals.argsort()[::-1]   \neigVa = eigVals[idx]\neigVc = eigVecs[:,idx]\n\nlas_bf =  (1./(1-eigVa[1:4]))-1\nprint ('las_bf', las_bf)\n           \nsumJn = np.diag(np.insert(las_bf, 0, np.inf))\nprint ('\\nSum J^n\\n', sumJn)\n\nsumPn = np.dot(B, np.dot(sumJn, np.linalg.inv(B)))\nprint ('\\nSum P^n\\n', sumPn)\n\n# Since all diagonal elements of sum P^n are infinity\n#  => all states are recurrent\n",
      "execution_count": 23,
      "outputs": [
        {
          "output_type": "stream",
          "text": "las_bf [2.55044912 1.23888596 0.48877142]\n\nSum J^n\n [[       inf 0.         0.         0.        ]\n [0.         2.55044912 0.         0.        ]\n [0.         0.         1.23888596 0.        ]\n [0.         0.         0.         0.48877142]]\n\nSum P^n\n [[inf inf inf inf]\n [inf inf inf inf]\n [inf inf inf inf]\n [inf inf inf inf]]\n",
          "name": "stdout"
        }
      ]
    },
    {
      "metadata": {
        "trusted": true
      },
      "cell_type": "code",
      "source": "def inf_sum(a_lst):\n    return [(la/(1.0-la) if la < 1 else np.infty) for la in a_lst]\n\n# ---------------------------------------------------------------------------------------------------\n# Are states recurrent?\n# Compute sum of P^n\nsumJ = np.diag(inf_sum(np.diag(J)))\nsumP = np.dot(B, np.dot(sumJ, np.linalg.inv(B)))\n\nprint ('\\nSum of P^n = \\n', sumP)\n# => All states are reccurent ",
      "execution_count": 24,
      "outputs": [
        {
          "output_type": "stream",
          "text": "\nSum of P^n = \n [[inf inf inf inf]\n [inf inf inf inf]\n [inf inf inf inf]\n [inf inf inf inf]]\n",
          "name": "stdout"
        }
      ]
    },
    {
      "metadata": {
        "collapsed": true,
        "slideshow": {
          "slide_type": "slide"
        }
      },
      "cell_type": "markdown",
      "source": "<div style=\"display:flex;font-weight:bold;font-size:0.9em;\">\n<div style=\"flex:1;width:50%;\"> 9. Markovske verige  </div>\n<div style=\"flex:1;width:50%;text-align:right;\"> 9.2. Klasifikacija stanj </div>\n</div>\n\n\n## ■ Ergodijska mar. veriga in časi vračanja v stanje\n\n\n- Markovska veriga je Ergodijska, če je\n    - Nerazcepna\n    - Povrnljiva (vsa stanja so povrnljiva)\n    - Neperiodična (vsa stanja so nepriodična)\n    - Neničelna (vsa stanja so neničelna)\n    \n    \n- Pričakovan čas vračanja: \n$$ E(T_i) = \\sum_{n=0}^\\infty n f_{ii}^{(n)} $$\n\n\n- Za vsa stanja Ergodijske markovske verige velja\n$$ \\lim_{n\\to\\infty} P_{ii}^{(n)} = \\frac{1}{E(T_i)} $$\n$$ \\lim_{n\\to\\infty} P_{ij}^{(n)} = \\lim_{n\\to\\infty} P_{ii}^{(n)} $$ \n\n\n\n- Povrnljivo **ničelno** stanje $i$\n$$ \\lim_{n\\to\\infty} P_{ii}^{(n)} = 0 \\; \\Leftrightarrow \\;  E(T_i) = \\infty  $$\n\n\n- **Povrnljivo pozitivno** = **ergodijsko stanje** $i$: \n$$ \\lim_{n\\to\\infty} P_{ii}^{(n)} > 0 \\; \\Leftrightarrow \\; E(T_i) < \\infty  $$\n\n\n<p style=\"margin-bottom:2cm;\"></p>\n<div style=\"width:100%;text-align:right;font-weight:bold;font-size:1.2em;\"> 10 </div>\n<img src=\"https://raw.githubusercontent.com/andrejkk/ORvTK_SlidesImgs/master/footer_full.jpg\">"
    },
    {
      "metadata": {
        "trusted": true
      },
      "cell_type": "code",
      "source": "def inf_lim(a_lst):\n    return [(0 if la < 1 else 1) for la in a_lst]\n\n# ---------------------------------------------------------------------------------------------------\n# Zero or positive states?\n# Compute lim of P^n\nlimJ = np.diag(inf_lim(np.diag(J)))\nlimP = np.dot(B, np.dot(limJ, np.linalg.inv(B)))\n\nprint ('\\nlim of P^n = \\n', limP)\n\n# Since all lim P^n are positive\n# => all states are positive\n\n# Expected times of visits\nETi = 1.0/np.diag(limP)\n\nprint ('\\nExpected number of visits py states:\\n', ETi)\n",
      "execution_count": 25,
      "outputs": [
        {
          "output_type": "stream",
          "text": "\nlim of P^n = \n [[0.21301781 0.27218919 0.18934915 0.32544385]\n [0.21301781 0.27218919 0.18934915 0.32544385]\n [0.21301781 0.27218919 0.18934915 0.32544385]\n [0.21301781 0.27218919 0.18934915 0.32544385]]\n\nExpected number of visits py states:\n [4.69444311 3.67391519 5.28124903 3.07272668]\n",
          "name": "stdout"
        }
      ]
    },
    {
      "metadata": {
        "collapsed": true,
        "slideshow": {
          "slide_type": "slide"
        }
      },
      "cell_type": "markdown",
      "source": "<div style=\"display:flex;font-weight:bold;font-size:0.9em;\">\n<div style=\"flex:1;width:50%;\"> 9. Markovske verige  </div>\n<div style=\"flex:1;width:50%;text-align:right;\"> 9.2. Klasifikacija stanj </div>\n</div>\n\n\n## ■ Stacionarna (limitna) porazdelitev\n\n\n- Spomnimo se \n$$ \\pi_i^n = P[X_n=i], \\qquad \\pi^n = [\\pi_1^n, \\ldots, \\pi_i^n] $$\n\n\n- Stacionarna (limitna) porazdelitev: \n  $$ \\pi = \\lim_{n\\to\\infty} \\pi^n $$\n    - Enolično določena: vsa stanja so povrnljiva neničelna\n\n\n- Za ergodijsko markovsko verigo obstaja limitna porazdelitev\n- Velja: limitna porazdelitev Ergodijske Markovske verige je levi lastni vektor prehodne matrike:\n  $$ \\pi^\\top = \\pi^\\top P. $$\n\n\n\n- Opazimo: V ergodijsk verigi je limitna porazdelitev neodvisna od začetne porazdelitve $\\pi^0$.\n\n\n<p style=\"margin-bottom:2cm;\"></p>\n<div style=\"width:100%;text-align:right;font-weight:bold;font-size:1.2em;\"> 11 </div>\n<img src=\"https://raw.githubusercontent.com/andrejkk/ORvTK_SlidesImgs/master/footer_full.jpg\">"
    },
    {
      "metadata": {
        "trusted": true
      },
      "cell_type": "code",
      "source": "# ---------------------------------------------------------------------------------------------------\n# Limit distribuion\neigVals, eigVecs = np.linalg.eig(P.T)\npi = eigVecs[:, 0]/sum(eigVecs[:, 0])\n\nprint ('\\neigVals=\\n', eigVals)\n#print '\\neigVecs=\\n', eigVecs\nprint ('\\nLimit distribution =\\n', pi)",
      "execution_count": 26,
      "outputs": [
        {
          "output_type": "stream",
          "text": "\neigVals=\n [1.         0.32830522 0.71834549 0.55334929]\n\nLimit distribution =\n [0.21301775 0.27218935 0.18934911 0.32544379]\n",
          "name": "stdout"
        }
      ]
    },
    {
      "metadata": {
        "collapsed": true,
        "slideshow": {
          "slide_type": "slide"
        }
      },
      "cell_type": "markdown",
      "source": "<div style=\"display:flex;font-weight:bold;font-size:0.9em;\">\n<div style=\"flex:1;width:50%;\"> 9. Markovske verige  </div>\n<div style=\"flex:1;width:50%;text-align:right;\"> 9.2. Klasifikacija stanj </div>\n</div>\n\n\n\n## ■ Verjetnost absorbcije\n\n\n- Absorbcija: veriga dane podmnožice stanj $S_0 \\subset S$ ne zapusti več \n- Verjetnost absorpcije: verjetnost, da se to zgodi\n- Če je veriga na začetku v minljivem stanje, se vedno zgodi:\n    1. Slučajni proces z verjetnostjo 1 zapusti množico minljivih stanj\n    2. Slučajni proces z verjetnostjo 1 ostane v množici povrnljivih stanj, v katera je vstopil;\n\n\n- Absorbcijsko stanje $i$: edino stanje povrnljivega razreda. \n    Velja: $i$ absorbirajoče če in samo če $P_{ii}=1$.\n    \n    \n- Naj bo $i\\in S$ minljivo stanje, $S_e$ razred povrnljivih stanj: <br>\n**Verjetnost absorbcije:** $\\pi_i(S_e)$ je verjetnost, da je veriga z $X_0=i$ absorbirana v $S_e$ \n\n\n- Velja – formula za izračun - za vsak $i$\n$$ \\lim_{n\\to\\infty} P_{ij}^{(n)} = \\pi_i(S_e)\\pi_j. $$\n\n\n<p style=\"margin-bottom:2cm;\"></p>\n<div style=\"width:100%;text-align:right;font-weight:bold;font-size:1.2em;\"> 12 </div>\n<img src=\"https://raw.githubusercontent.com/andrejkk/ORvTK_SlidesImgs/master/footer_full.jpg\">"
    },
    {
      "metadata": {
        "collapsed": true,
        "slideshow": {
          "slide_type": "slide"
        }
      },
      "cell_type": "markdown",
      "source": "<div style=\"display:flex;font-weight:bold;font-size:0.9em;\">\n<div style=\"flex:1;width:50%;\"> 9. Markovske verige  </div>\n<div style=\"flex:1;width:50%;text-align:right;\"> 9.2. Klasifikacija stanj </div>\n</div>\n\n\n## ■ Končna markovska veriga\n\n- Ima končno množico stanj $|S|=m < \\infty$.\n- Vsaka končna Markovska veriga stanja vsebuje tudi povrnljiva stanja.\n- Vsa povrnljiva stanja so pozitivna, torej **ergodijska** in imajo končen pričakovan čas vrnitve\n$$ \\lim_{n\\to\\infty} P_{ii}^{(n)} > 0. $$\n\n\n- Klasifikacija stanj: vsa stanja so $S=S_m\\cup S_e$, kjer je \n    - Minljiva stanja: $S_m$\n    - Ergodijska (povrnljiva neničelna): $S_e$\n    \n    \n- Bločna razdelitev prehodne matrike: uredimo indekse stanj\n    - Ergodisjka stanja: $1, \\ldots, m-K$\n    - Minljiva stanja: $m-K+1, \\ldots, m$\n    $$ P = \\left[\\matrix{S & 0 \\cr R & Q}\\right] $$\n    \n    \n- Fundamentalna matrika: \n    $$ N = (I - Q)^{-1}.  $$\n\n\n<p style=\"margin-bottom:2cm;\"></p>\n<div style=\"width:100%;text-align:right;font-weight:bold;font-size:1.2em;\"> 13 </div>\n<img src=\"https://raw.githubusercontent.com/andrejkk/ORvTK_SlidesImgs/master/footer_full.jpg\">"
    },
    {
      "metadata": {
        "trusted": false
      },
      "cell_type": "code",
      "source": "import numpy as np\n# Case 2\nc2P = np.array(\n    [[0.7, 0.3, 0.0, 0.0], \n     [0.2, 0.8, 0.0, 0.0], \n     [0.05,0.15, 0.6, 0.2], \n     [0.0, 0.2, 0.0, 0.8]])\nprint ('Transition matrix P=\\n', c2P)\n",
      "execution_count": 2,
      "outputs": [
        {
          "name": "stdout",
          "output_type": "stream",
          "text": "Transition matrix P=\n[[0.7  0.3  0.   0.  ]\n [0.2  0.8  0.   0.  ]\n [0.05 0.15 0.6  0.2 ]\n [0.   0.2  0.   0.8 ]]\n"
        }
      ]
    },
    {
      "metadata": {
        "trusted": false
      },
      "cell_type": "code",
      "source": "# ---------------------------------------------------------------------------------------------------\n# Classification of states\nprint ('Transition matrix P=\\n', c2P)\nprint ('\\nTransition matrix P^2=\\n', np.linalg.matrix_power(c2P, 2))\nprint ('\\nTransition matrix P^3=\\n', np.linalg.matrix_power(c2P, 3))\n\n# Matrix multiplications by blocks\n# => 2 x 2 block of zeros stayes the same\n# => There are two connected classes of states\n",
      "execution_count": 3,
      "outputs": [
        {
          "name": "stdout",
          "output_type": "stream",
          "text": "Transition matrix P=\n[[0.7  0.3  0.   0.  ]\n [0.2  0.8  0.   0.  ]\n [0.05 0.15 0.6  0.2 ]\n [0.   0.2  0.   0.8 ]]\n\nTransition matrix P^2=\n[[0.55  0.45  0.    0.   ]\n [0.3   0.7   0.    0.   ]\n [0.095 0.265 0.36  0.28 ]\n [0.04  0.32  0.    0.64 ]]\n\nTransition matrix P^3=\n[[0.475  0.525  0.     0.    ]\n [0.35   0.65   0.     0.    ]\n [0.1375 0.3505 0.216  0.296 ]\n [0.092  0.396  0.     0.512 ]]\n"
        }
      ]
    },
    {
      "metadata": {
        "trusted": false
      },
      "cell_type": "code",
      "source": "# ---------------------------------------------------------------------------------------------------\n# Decompose transition matrix\n# Use Jordan decomposition\n#mP = Matrix(c2P)\n#mB, mJ = mP.jordan_form()\n#B, J = np.array(mB), np.array(mJ)\nc2B = np.array([[1.0, 0, 0, 9.0/4],\n              [1.0, 0, 0, -3.0/2],\n              [1.0, 1.0, 1.0, -7.0/8],\n              [1.0, 1.0, 0, 1.0]])\nc2J = np.array([[1.0,0,0,0],\n              [0,4.0/5,0,0],\n              [0,0,3.0/5,0],\n              [0,0,0,1.0/2]])\n\n# Test decomposition\nerr_mat = c2P - np.dot(c2B, np.dot(c2J, np.linalg.inv(c2B)))\nprint ('\\nDecomposition error norm = ', np.linalg.norm(err_mat))",
      "execution_count": 4,
      "outputs": [
        {
          "name": "stdout",
          "output_type": "stream",
          "text": "\nDecomposition error norm =  1.9675159943996247e-16\n"
        }
      ]
    },
    {
      "metadata": {
        "trusted": false
      },
      "cell_type": "code",
      "source": "def prd(a,b):\n    if np.isinf(a) and b == 0:\n        return 0\n    if np.isinf(b) and a == 0:\n        return 0\n    return a*b\n\ndef myDot(A,B):\n    nA1, nA2, nB2 = A.shape[0], A.shape[1], B.shape[1]\n    AB = np.zeros((nA1,nB2))\n    for i in range(nA1):\n        for j in range(nB2):\n            curr = 0\n            for k in range(nA2):\n                curr += prd(A[i,k], B[k,j])\n            AB[i, j] = curr\n    return AB\n\n# Classification of states\n# Recurent, transient? \n\n# Eigenvalues\neigVals, eigVecs = np.linalg.eig(c2P.T)\n\n# Get it sorted\nidx = eigVals.argsort()[::-1]   \neigVa = eigVals[idx]\neigVc = eigVecs[:,idx]\n\nlas_bf =  (1./(1-eigVa[1:4]))-1\nsumJn = np.diag(np.insert(las_bf, 0, np.inf))\n\nsumPn = myDot(c2B, myDot(sumJn, np.linalg.inv(c2B)))\nprint ('\\nSum P^n\\n', sumPn)\n\n# Since diagonal elements of sum P^n i=1 and i=2 are infinity\n#  => states i=1 and i=2 are recurrent\n# Since diagonal elements of sum P^n i=3 and i=4 are finite\n#  => states i=3 and i=4 are transient\n",
      "execution_count": 5,
      "outputs": [
        {
          "name": "stdout",
          "output_type": "stream",
          "text": "\nSum P^n\n[[inf inf 0.  0. ]\n [inf inf 0.  0. ]\n [inf inf 1.5 2.5]\n [inf inf 0.  4. ]]\n"
        }
      ]
    },
    {
      "metadata": {
        "trusted": false
      },
      "cell_type": "code",
      "source": "def inf_lim(a_lst):\n    return [(0 if la < 1 else 1) for la in a_lst]\n\n# ---------------------------------------------------------------------------------------------------\n# Zero or positive states?\n# Compute lim of P^n\nlimJ = np.diag(inf_lim(np.diag(c2J)))\nlimP = np.dot(c2B, np.dot(limJ, np.linalg.inv(c2B)))\n\nprint ('\\nlim of P^n = \\n', limP)\n\n# Since all lim P^n are positive\n# => all states are positive\n\n# Expected times of visits\nETi = 1.0/np.diag(limP)\n\nprint ('\\nExpected number of visits py states:\\n', ETi)",
      "execution_count": 6,
      "outputs": [
        {
          "name": "stdout",
          "output_type": "stream",
          "text": "\nlim of P^n = \n[[0.4 0.6 0.  0. ]\n [0.4 0.6 0.  0. ]\n [0.4 0.6 0.  0. ]\n [0.4 0.6 0.  0. ]]\n\nExpected number of visits py states:\n[2.5        1.66666667        inf        inf]\n"
        },
        {
          "name": "stderr",
          "output_type": "stream",
          "text": "/home/nbuser/anaconda2_501/lib/python2.7/site-packages/ipykernel/__main__.py:16: RuntimeWarning: divide by zero encountered in divide\n"
        }
      ]
    },
    {
      "metadata": {
        "trusted": false
      },
      "cell_type": "code",
      "source": "# ---------------------------------------------------------------------------------------------------\n# Limit distribuion\neigVals, eigVecs = np.linalg.eig(c2P.T)\n\n\n# Get it sorted\nidx = eigVals.argsort()[::-1]   \neigenValues = eigVals[idx]\neigenVectors = eigVecs[:,idx]\n\n# Normalize eigenvector\npi = eigenVectors[:, 0]/sum(eigenVectors[:, 0])\n\nprint ('\\neigVals=\\n', eigenValues)\n#print '\\neigVecs=\\n', eigenVectors\nprint ('\\nLimit distribution =', pi)",
      "execution_count": 7,
      "outputs": [
        {
          "name": "stdout",
          "output_type": "stream",
          "text": "\neigVals=\n[1.  0.8 0.6 0.5]\n\nLimit distribution = [ 0.4  0.6 -0.  -0. ]\n"
        }
      ]
    },
    {
      "metadata": {
        "collapsed": true,
        "slideshow": {
          "slide_type": "slide"
        }
      },
      "cell_type": "markdown",
      "source": "<div style=\"display:flex;font-weight:bold;font-size:0.9em;\">\n<div style=\"flex:1;width:50%;\"> 9. Markovske verige  </div>\n<div style=\"flex:1;width:50%;text-align:right;\"> 9.2. Klasifikacija stanj </div>\n</div>\n\n\n\n## ■ Število obiskov minljivega stanja\n\n- Slučajna spremenljivka $n_i$: število obiskov stanja $i$ v poljubno dolgem času\n- Matematično upanje števila obiskov $j$ če je začetno stanje $i$: \n $$ E_i[n_j] < \\infty $$\n\n\n- Velja: če je stanje $i$ minljivo, je \n $$ E_i[n_j] = \\sum_{k=1}^\\infty P_{ij}^{(k)} $$\n\n\n- Velja: fundamentalna matrika vsebuje pričakovana števila vračanj:\n$$ \\left[E_i[n_j]\\right] = N $$ \n\n\n\n<p style=\"margin-bottom:2cm;\"></p>\n<div style=\"width:100%;text-align:right;font-weight:bold;font-size:1.2em;\"> 14 </div>\n<img src=\"https://raw.githubusercontent.com/andrejkk/ORvTK_SlidesImgs/master/footer_full.jpg\">"
    },
    {
      "metadata": {
        "trusted": false
      },
      "cell_type": "code",
      "source": "# Expected number of visits of recurent states\nm = 4 # |S|\nK = 2 # number of recurent states\n\nQ = c2P[K:m, K:m]\nprint ('Part of transition matrix Q = \\n', Q)\n\nN = np.linalg.inv(np.eye(m-K)-Q)\nprint ('\\nFundamental matrix N =\\n', N)",
      "execution_count": 8,
      "outputs": [
        {
          "name": "stdout",
          "output_type": "stream",
          "text": "Part of transition matrix Q = \n[[0.6 0.2]\n [0.  0.8]]\n\nFundamental matrix N =\n[[2.5 2.5]\n [0.  5. ]]\n"
        }
      ]
    },
    {
      "metadata": {
        "collapsed": true,
        "slideshow": {
          "slide_type": "slide"
        }
      },
      "cell_type": "markdown",
      "source": "<div style=\"display:flex;font-weight:bold;font-size:0.9em;\">\n<div style=\"flex:1;width:50%;\"> 9. Markovske verige  </div>\n<div style=\"flex:1;width:50%;text-align:right;\"> 9.3 Ocenjevanje prehodne matrike </div>\n</div>\n\n\n## 9.3 Ocenjevanje prehodne matrike\n\n■ Ocene prehodnih verjetnosti\n\n■ Interval zaupanja in grafikov kvantilov\n\n■ Določane velikosti vzorca\n\n■ Numerični vidik\n\n■ Primer: razredi uporabnikov TK storitev\n\n\n<p style=\"margin-bottom:2cm;\"></p>\n<div style=\"width:100%;text-align:right;font-weight:bold;font-size:1.2em;\"> 15 </div>\n<img src=\"https://raw.githubusercontent.com/andrejkk/ORvTK_SlidesImgs/master/footer_full.jpg\">"
    },
    {
      "metadata": {
        "collapsed": true,
        "slideshow": {
          "slide_type": "slide"
        }
      },
      "cell_type": "markdown",
      "source": "<div style=\"display:flex;font-weight:bold;font-size:0.9em;\">\n<div style=\"flex:1;width:50%;\"> 9. Markovske verige  </div>\n<div style=\"flex:1;width:50%;text-align:right;\"> 9.3 Ocenjevanje prehodne matrike </div>\n</div>\n\n\n\n## ■ Ocene prehodnih verjetnosti\n\n- Preodna verjetnost\n$$ p_{ij} = \\frac{n_k}{n} $$\nje statistična ocena;\n\n\n- Ocena parametra (npr. povprečje ali delež): \n    - ocenimo in določimo\n        - povprečje - pričakovano vrednost: $\\overline{x}$\n        - standardni odklon: $\\sigma$\n        - za stopnjo tveganja $\\alpha$ določimo $z_\\alpha$ (za normalno porazdelitev je $z_{0.05}=1.96$)\n    - Interval zaupanja: \n    $$ CI = [\\overline{x} - z_\\alpha\\frac{\\sigma}{\\sqrt{n}}, \\overline{x} + z_\\alpha\\frac{\\sigma}{\\sqrt{n}}] $$\n    - Velikost vzorca: določimo ga glede na predpisano velikost intervala zaupanja\n    $$ |CI| = 2 z_\\alpha\\frac{\\sigma}{\\sqrt{n}} $$\n\n\n<img style=\"float: right; width: 250px; margin: 0px 20px 20px 0px;\" src=\"https://raw.githubusercontent.com/andrejkk/ORvTK_SlidesImgs/master/EstimationConfInterval.png\">\n\n\n\n<p style=\"margin-bottom:7cm;\"></p>\n<div style=\"width:100%;text-align:right;font-weight:bold;font-size:1.2em;\"> 16 </div>\n<img src=\"https://raw.githubusercontent.com/andrejkk/ORvTK_SlidesImgs/master/footer_full.jpg\">"
    },
    {
      "metadata": {
        "collapsed": true,
        "slideshow": {
          "slide_type": "slide"
        }
      },
      "cell_type": "markdown",
      "source": "<div style=\"display:flex;font-weight:bold;font-size:0.9em;\">\n<div style=\"flex:1;width:50%;\"> 9. Markovske verige  </div>\n<div style=\"flex:1;width:50%;text-align:right;\"> 9.3 Ocenjevanje prehodne matrike </div>\n</div>\n\n\n\n## ■ Interval zaupanja in grafikov kvantilov\n\n\n- Vizualizacija intervala zaupanja\n\n<img style=\"float: center; width: 350px; margin: 0px 20px 20px 0px;\" src=\"https://raw.githubusercontent.com/andrejkk/ORvTK_SlidesImgs/master/EstimationConfIntervalVsSampleSize.png\">\n\n\n\n<p style=\"margin-bottom:2cm;\"></p>\n<div style=\"width:100%;text-align:right;font-weight:bold;font-size:1.2em;\"> 17 </div>\n<img src=\"https://raw.githubusercontent.com/andrejkk/ORvTK_SlidesImgs/master/footer_full.jpg\">"
    },
    {
      "metadata": {
        "collapsed": true,
        "slideshow": {
          "slide_type": "slide"
        }
      },
      "cell_type": "markdown",
      "source": "<div style=\"display:flex;font-weight:bold;font-size:0.9em;\">\n<div style=\"flex:1;width:50%;\"> 9. Markovske verige  </div>\n<div style=\"flex:1;width:50%;text-align:right;\"> 9.3 Ocenjevanje prehodne matrike </div>\n</div>\n\n\n\n## ■ Določane velikosti vzorca\n\n- Iz zahteve po širini intervala zaupanja\n- Graf velikosti vzorca za oceno deleža $\\alpha=0.05$ ($z_\\alpha=1.96$)\n$$ CI = [p_0 - z_\\alpha\\sqrt{p_0(1-p_0)/n}, p_0 + z_\\alpha\\sqrt{p_0(1-p_0)/n}] $$\n\n\n- Za primer $p=0.65$ in $|CI|=\\Delta p$ pri $\\alpha=0.05$ velja neenačba\n$$ n\\geq \\frac{4 z_\\alpha^2}{\\Delta p^2} p_0 (1-p_0) $$\n\n- Od tod dobimo:\n    - Za $\\Delta p=0.01:$ $n\\geq 34959$,\n    - Za $\\Delta p=0.02:$ $n\\geq 175$,\n    - Za $\\Delta p=0.04:$ $n\\geq 88$.\n\n\n<p style=\"margin-bottom:2cm;\"></p>\n<div style=\"width:100%;text-align:right;font-weight:bold;font-size:1.2em;\"> 18 </div>\n<img src=\"https://raw.githubusercontent.com/andrejkk/ORvTK_SlidesImgs/master/footer_full.jpg\">"
    },
    {
      "metadata": {
        "collapsed": true,
        "slideshow": {
          "slide_type": "slide"
        }
      },
      "cell_type": "markdown",
      "source": "<div style=\"display:flex;font-weight:bold;font-size:0.9em;\">\n<div style=\"flex:1;width:50%;\"> 9. Markovske verige  </div>\n<div style=\"flex:1;width:50%;text-align:right;\"> 9.3 Ocenjevanje prehodne matrike </div>\n</div>\n\n\n\n## ■ Numerični vidik - matrični račun\n\n\n- Potrebujemo izračun spektra in potenc \n$$ P^n = P^{(n)} $$\n\n\n- Jordanova dekompozicija\n$$ P = B J B^{-1},  $$\nkjer je $J$ Jordanova kanonična forma.\n\n\n- Za vsak razred stanj posebej velja\n$$ J = \\lambda I + R $$\n\n\n- Velja\n$$ P^n = B J^n B^{-1} $$\n\n\n<p style=\"margin-bottom:2cm;\"></p>\n<div style=\"width:100%;text-align:right;font-weight:bold;font-size:1.2em;\"> 19 </div>\n<img src=\"https://raw.githubusercontent.com/andrejkk/ORvTK_SlidesImgs/master/footer_full.jpg\">"
    },
    {
      "metadata": {
        "collapsed": true,
        "slideshow": {
          "slide_type": "slide"
        }
      },
      "cell_type": "markdown",
      "source": "<div style=\"display:flex;font-weight:bold;font-size:0.9em;\">\n<div style=\"flex:1;width:50%;\"> 9. Markovske verige  </div>\n<div style=\"flex:1;width:50%;text-align:right;\"> 9.3 Ocenjevanje prehodne matrike </div>\n</div>\n\n\n\n## ■ Primer: razredi uporabnikov TK storitev\n\n\n- Množica uporabnikov TK storitve $U$\n- Razdelimo jih po zadovoljstvu: $U=U_1 \\cup U_2 \\cup U_3 \\cup U_4$\n    - Zelo zadovoljni: $U_1$\n    - Zadovoljni: $U_2$\n    - Nezadovoljni: $U_3$\n    - Zapuščajo ponudnika: $U_4$\n\n\n- Začetna porazdelitev: ocena trenutnega stanja uporabnikov\n- Rezultati:\n    - Povrnljivost - minljivost stanj in razredi teh stanj\n    - Limitna porazdelitev\n\n\n\n<p style=\"margin-bottom:2cm;\"></p>\n<div style=\"width:100%;text-align:right;font-weight:bold;font-size:1.2em;\"> 20 </div>\n<img src=\"https://raw.githubusercontent.com/andrejkk/ORvTK_SlidesImgs/master/footer_full.jpg\">"
    },
    {
      "metadata": {
        "collapsed": true,
        "slideshow": {
          "slide_type": "slide"
        }
      },
      "cell_type": "markdown",
      "source": "<div style=\"display:flex;font-weight:bold;font-size:0.9em;\">\n<div style=\"flex:1;width:50%;\"> 9. Markovske verige  </div>\n<div style=\"flex:1;width:50%;text-align:right;\"> 9.3 Ocenjevanje prehodne matrike </div>\n</div>\n\n\n\n## ■ Zaključek\n\n- Preprosta in uporabna analiza končnih stanj\n- Preverjanje pogojev pri oceni začetne porazdelitve in prehodne matrike\n\n<p style=\"margin-bottom:2cm;\"></p>\n<div style=\"width:100%;text-align:right;font-weight:bold;font-size:1.2em;\"> 21 </div>\n<img src=\"https://raw.githubusercontent.com/andrejkk/ORvTK_SlidesImgs/master/footer_full.jpg\">"
    }
  ],
  "metadata": {
    "celltoolbar": "Slideshow",
    "kernelspec": {
      "name": "python36",
      "display_name": "Python 3.6",
      "language": "python"
    },
    "language_info": {
      "mimetype": "text/x-python",
      "nbconvert_exporter": "python",
      "name": "python",
      "pygments_lexer": "ipython3",
      "version": "3.6.6",
      "file_extension": ".py",
      "codemirror_mode": {
        "version": 3,
        "name": "ipython"
      }
    }
  },
  "nbformat": 4,
  "nbformat_minor": 2
}