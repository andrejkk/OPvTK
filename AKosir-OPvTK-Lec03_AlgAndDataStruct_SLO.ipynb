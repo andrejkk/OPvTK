{
 "cells": [
  {
   "cell_type": "markdown",
   "metadata": {
    "collapsed": true,
    "slideshow": {
     "slide_type": "slide"
    }
   },
   "source": [
    "<img style=\"float: center; width: 100%\" src=\"https://raw.githubusercontent.com/andrejkk/TalksImgs/master/FrontSlideUpperBan.png\">\n",
    "<p style=\"margin-bottom:2cm;\"></p>\n",
    "\n",
    "<center>\n",
    "    <H1> 3. Podatkovne strukture in algoritmi </H1>\n",
    "   \n",
    "\n",
    "\n",
    "<br><br>\n",
    "    <H3> Andrej Košir, Lucami, FE </H3>\n",
    "    <H4> Kontakt: prof. dr. Andrej Košir, andrej.kosir@fe.uni-lj.si, ZOOM https://uni-lj-si.zoom.us/j/97654707084 </H4>\n",
    "</center>\n",
    "\n",
    "\n",
    "<p style=\"margin-bottom:2cm;\"></p>\n",
    "<div style=\"width:100%;text-align:right;font-weight:bold;font-size:1.2em;\"> 1 </div>\n",
    "<img src=\"https://raw.githubusercontent.com/andrejkk/ORvTK_SlidesImgs/master/footer_full.jpg\">"
   ]
  },
  {
   "cell_type": "markdown",
   "metadata": {
    "collapsed": true,
    "slideshow": {
     "slide_type": "slide"
    }
   },
   "source": [
    "<div style=\"display:flex;font-weight:bold;font-size:0.9em;\">\n",
    "<div style=\"flex:1;width:50%;\"> 3. Podatkovne strukture in algoritmi </div>\n",
    "<div style=\"flex:1;width:50%;text-align:right;\"> Učni izidi </div>\n",
    "</div>\n",
    "\n",
    "\n",
    "## ■ Učni izidi\n",
    "\n",
    "- Poznati zahteve za algoritem kot postopek\n",
    "- Poznati pomen podatkovnih struktur in algoritmov v optimizaciji\n",
    "- Poznati pomen psevdokode \n",
    "- Znati določiti računsko zahtevnost algoritma\n",
    "- Razumeti razrede računskih zahtevnosti\n",
    "\n",
    "\n",
    "\n",
    "\n",
    "<p style=\"margin-bottom:1cm;\"></p>\n",
    "<div style=\"width:100%;text-align:right;font-weight:bold;font-size:1.2em;\"> 2 </div>\n",
    "<img src=\"https://raw.githubusercontent.com/andrejkk/ORvTK_SlidesImgs/master/footer_full.jpg\">"
   ]
  },
  {
   "cell_type": "markdown",
   "metadata": {},
   "source": [
    "<div style=\"display:flex;font-weight:bold;font-size:0.9em;\">\n",
    "<div style=\"flex:1;width:50%;\"> 3. Podatkovne strukture in algoritmi </div>\n",
    "<div style=\"flex:1;width:50%;text-align:right;\"> Umestitev </div>\n",
    "</div>\n",
    "\n",
    "\n",
    "## ■ Umestitev\n",
    "\n",
    "Eno od osnovnih spoznanj računalniške znanosti je, da algoritma ne začeno načrtovati s postopkom (koraki), ampak z načrtom, kako bomo vhodne podatke, vmesne rezultate in končen rezulate učinkovito shranili v računalniškem pomnilniku. Obvladljivost (stabilno delovanje in razhroščevanje) kompleksnih sodobnih algoritmov zahteva nadzorovan dostop in manipulacijo teh podatkov v pomnilniku. Od tod izhaja vpeljava podatkovnih struktur, ki omogoča formulacijo take nadzorovane manipulacije podatkov. Kot podatkovno strukturo npr. predstavimo vrsto in graf, ki sta pomembna igralca v optimizaciji. Načrtovanje algoritmov se tako začne z izborom ustrezne podatkovne strukture. \n",
    "\n",
    "Zgodovina razvoja računalnikov in algritmov je pokazala povezanost strojne in programske opreme. Tako so se sami programski jeziki v vseh vidikih (sintaksa, implementacija prevajalnikov itd) sorazmerno hitro spreminjali. Za stabilen razvoj področja algoritmov skupaj s teoretičnimi dokazi korektnega delovanja je bila tako nujna ločitev algoritmov od programskih jezikov. Tako so vpeljali psevdokodo, ki omogoča od implementacije (tudi od programskega jezika) neodvisen opis algoritma. Tako npr. algoritem najkrajše poti opišemo neodvisno od programskega jezika in tako univerzalno dokažemo korektnost njegovega delovanja, to je da vedno najde korektno rešitev. \n",
    "\n",
    "Računska zahtevnost algoritma je odvisnost števila potrebnih korakov za njegovo izvedbo v odvisnosti od velikosti vhodnih podatkov. Ena od koristi od vpeljave psevdokode v opis algoritmov je tudi univerzalno veljavna ocena računske zahtevnosti algoritma. Računsko zahtevnost podajamo z razredi zahtevnosti, ki podajajo bistveni del računske zahtevnosti in izkaže se, da je računska zahtevnost optimizacijskega algoritma bistvena za njegovo praktično uporabnost. \n",
    "\n",
    "Algoritem Sestopanje lahko reši vsak optimizacijski problem, a z eksponentno računsko zahtevnostjo in je zato popolnoma neuporaben za reševanje relanih problemov. Zato je sprejemljiva računska zahtevnost (polinomska z eksponentom do 3) pogoj za uporabnost optimizacijskega algoritma v praksi. \n",
    "\n",
    "\n",
    "\n",
    "\n",
    "\n",
    "\n",
    "<p style=\"margin-bottom:1cm;\"></p>\n",
    "<div style=\"width:100%;text-align:right;font-weight:bold;font-size:1.2em;\"> 2 </div>\n",
    "<img src=\"https://raw.githubusercontent.com/andrejkk/ORvTK_SlidesImgs/master/footer_full.jpg\">"
   ]
  },
  {
   "cell_type": "markdown",
   "metadata": {},
   "source": [
    "<div style=\"display:flex;font-weight:bold;font-size:0.9em;\">\n",
    "<div style=\"flex:1;width:50%;\"> 3. Podatkovne strukture in algoritmi </div>\n",
    "<div style=\"flex:1;width:50%;text-align:right;\"> Cilji </div>\n",
    "</div>\n",
    "\n",
    "\n",
    "\n",
    "\n",
    "## ■ Cilji\n",
    "\n",
    "- Spoznati pomen podatkovnih struktur in algoritmov v optimizaciji\n",
    "- Pomen računske in prostorske zahtevnosti\n",
    "\n",
    "\n",
    "- Umestitev\t  \n",
    "\n",
    "<center><h3> Računalniški program = podatkovna struktura + algoritem </h3></center>\n",
    "\n",
    "    \n",
    "- Osnovno spoznanje:\n",
    "    Načrtovanje algoritmov se ne začne pri postopku, ampak pri podatkovni strukturi!\n",
    "\n",
    "\n",
    "#### Pomembni pojmi\n",
    "- Podatkovne strukture\n",
    "- Algoritmi\n",
    "    - Računska in prostorska zahtevnost algoritmov \n",
    "    - Velikost podatkov\n",
    "    - Razredi zahtevnosti \n",
    "\n",
    "\n",
    "\n",
    "<p style=\"margin-bottom:1cm;\"></p>\n",
    "<div style=\"width:100%;text-align:right;font-weight:bold;font-size:1.2em;\"> 2 </div>\n",
    "<img src=\"https://raw.githubusercontent.com/andrejkk/ORvTK_SlidesImgs/master/footer_full.jpg\">"
   ]
  },
  {
   "cell_type": "markdown",
   "metadata": {
    "collapsed": true,
    "slideshow": {
     "slide_type": "slide"
    }
   },
   "source": [
    "<div style=\"display:flex;font-weight:bold;font-size:0.9em;\">\n",
    "<div style=\"flex:1;width:50%;\"> 3. Podatkovne strukture in algoritmi </div>\n",
    "<div style=\"flex:1;width:50%;text-align:right;\"> Poglavja </div>\n",
    "</div>\n",
    "\n",
    "## Poglavja (1)\n",
    "\n",
    "### 3.1.Algoritem in psevdokoda\n",
    "\n",
    "■ Definicija in osnovne lastnosti algoritma $\\large{*}$\n",
    "\n",
    "■ Psevdokoda $\\large{*}$\n",
    "\n",
    "\n",
    "### 3.2. Podatkovne strukture\n",
    "\n",
    "■ Opis podatkovne strukture $\\large{*}$\n",
    " \n",
    "■ Vrste podatkovnih struktur $\\large{*}$\n",
    "\n",
    "■ Podatkovna struktura Sklad\n",
    "\n",
    "■ Podatkovna struktura Seznam\n",
    "\n",
    "■ Podatkovna struktura Vrsta\n",
    "\n",
    "■ Podatkovna struktura Graf\n",
    "\n",
    "■ Primer uporabe podatkovne strukture: sprehod po grafu v širino\n",
    "\n",
    "\n",
    "\n",
    "<p style=\"margin-bottom:1cm;\"></p>\n",
    "<div style=\"width:100%;text-align:right;font-weight:bold;font-size:1.2em;\"> 3 </div>\n",
    "<img src=\"https://raw.githubusercontent.com/andrejkk/ORvTK_SlidesImgs/master/footer_full.jpg\">"
   ]
  },
  {
   "cell_type": "markdown",
   "metadata": {
    "collapsed": true,
    "slideshow": {
     "slide_type": "slide"
    }
   },
   "source": [
    "<div style=\"display:flex;font-weight:bold;font-size:0.9em;\">\n",
    "<div style=\"flex:1;width:50%;\"> 3. Podatkovne strukture in algoritmi </div>\n",
    "<div style=\"flex:1;width:50%;text-align:right;\"> Poglavja </div>\n",
    "</div>\n",
    "\n",
    "## Poglavja (2)\n",
    "\n",
    "### 3.3. Računska in prostorska zahtevnost algoritma\n",
    "\n",
    "■ Opis računske in prostorske zahtevnosti algoritma $\\large{*}$ \n",
    "\n",
    "■ Velikost vhodnih podatkov $\\large{*}$\n",
    "\n",
    "■ Definicija razredov zahtevnosti $\\large{*}$\n",
    "\n",
    "■ Razredi zahtevnosti – seznam \n",
    "\n",
    "■ Časovna in prostorska (spominska) zahtevnost \n",
    "\n",
    "■ Izvedba analize zahtevnosti algoritma \n",
    "\n",
    "■ Primer: razcep simetrične matrike \n",
    "\n",
    "■ Zahtevnost algoritma - opažanja \n",
    "\n",
    "\n",
    "<p style=\"margin-bottom:1cm;\"></p>\n",
    "<div style=\"width:100%;text-align:right;font-weight:bold;font-size:1.2em;\"> 4 </div>\n",
    "<img src=\"https://raw.githubusercontent.com/andrejkk/ORvTK_SlidesImgs/master/footer_full.jpg\">"
   ]
  },
  {
   "cell_type": "markdown",
   "metadata": {
    "collapsed": true,
    "slideshow": {
     "slide_type": "slide"
    }
   },
   "source": [
    "<div style=\"display:flex;font-weight:bold;font-size:0.9em;\">\n",
    "<div style=\"flex:1;width:50%;\"> 3. Podatkovne strukture in algoritmi </div>\n",
    "<div style=\"flex:1;width:50%;text-align:right;\"> 3. 1. Algoritem in psevdokoda </div>\n",
    "</div>\n",
    "\n",
    "\n",
    "## 3. 1. Algoritem in psevdokoda\n",
    "\n",
    "■ Uvod\n",
    "\n",
    "■ Definicija in osnovne lastnosti algoritma\n",
    "\n",
    "■ Psevdokoda\n",
    "\n",
    "\n",
    "<p style=\"margin-bottom:1cm;\"></p>\n",
    "<div style=\"width:100%;text-align:right;font-weight:bold;font-size:1.2em;\"> 5 </div>\n",
    "<img src=\"https://raw.githubusercontent.com/andrejkk/ORvTK_SlidesImgs/master/footer_full.jpg\">"
   ]
  },
  {
   "cell_type": "markdown",
   "metadata": {
    "collapsed": true,
    "slideshow": {
     "slide_type": "slide"
    }
   },
   "source": [
    "<div style=\"display:flex;font-weight:bold;font-size:0.9em;\">\n",
    "<div style=\"flex:1;width:50%;\"> 3. Podatkovne strukture in algoritmi </div>\n",
    "<div style=\"flex:1;width:50%;text-align:right;\"> 3. 1. Algoritem in psevdokoda </div>\n",
    "</div>\n",
    "\n",
    "\n",
    "\n",
    "## ■ Uvod\n",
    "\n",
    "\n",
    "\n",
    "- Zakaj je računska in prostorska zahtevnost bistvena\n",
    "- Algoritem sestopanje (angl. backtracking) reši vse probleme\n",
    "- Postopek \n",
    "\n",
    "```python\n",
    " 1: def sestopiR(n, S, k, x, resitev):\n",
    " 2:    # n globina drevesa S množica odločitev, S[k] možne odločitve na k-tem koraku, k trenutni korak\n",
    " 3:    # x vektor, ki vsebuje naše dosedanje odločitve, x[0] je odločitev na prvem koraku, x[1] na drugem...\n",
    " 4:    for (i = 0; i < S[k].length; i++) {\n",
    " 5:        x = S[k][i];                    # i-ti element množice S[k]\n",
    " 6:        if lahkoVodiKCilju(k, x) {\n",
    " 7:            if (k == n) {                  \n",
    " 9:            resitev.dodajNovoResitev(x); \n",
    "10:        }                              \n",
    "11:        else {\n",
    "12:        # gremo na naslednji nivo z odločitvijo x[i] = S[k][i]\n",
    "13:        sestopiR(n, S, k + 1, x, resitev);\n",
    "14:      }\n",
    "15:    }\n",
    "16:  }\n",
    "\n",
    "```\n",
    "\n",
    "\n",
    "- Ta algoritem ima eksponentno zahtevnost in je praktično neuporaben\n",
    "- Zato je iskanje algoritmov z uporabno zajtevnostjo bistveno pri optimizaciji \n",
    "\n",
    "<img style=\"float: right; width: 400; margin: -300px 50px 0 0;\" src=\"https://raw.githubusercontent.com/andrejkk/ORvTK_SlidesImgs/master/BackTrackAlg.png\">\n",
    "\n",
    "\n",
    "\n",
    "<p style=\"margin-bottom:1cm;\"></p>\n",
    "<div style=\"width:100%;text-align:right;font-weight:bold;font-size:1.2em;\"> 6 </div>\n",
    "<img src=\"https://raw.githubusercontent.com/andrejkk/ORvTK_SlidesImgs/master/footer_full.jpg\">"
   ]
  },
  {
   "cell_type": "markdown",
   "metadata": {
    "collapsed": true,
    "slideshow": {
     "slide_type": "slide"
    }
   },
   "source": [
    "<div style=\"display:flex;font-weight:bold;font-size:0.9em;\">\n",
    "<div style=\"flex:1;width:50%;\"> 3. Podatkovne strukture in algoritmi </div>\n",
    "<div style=\"flex:1;width:50%;text-align:right;\"> 3. 1. Algoritem in psevdokoda </div>\n",
    "</div>\n",
    "\n",
    "## ■ Definicija in osnovne lastnosti algoritma\n",
    "\n",
    "\n",
    "- **Definicija (Algoritem):** _Algoritem je končno zaporedje natančno določenih korakov na vhodnih podatkih._\n",
    "\n",
    "\n",
    "- Osnovne lastnosti in zahteve algoritmov\n",
    "    - Vhodni podatki: vhodni podatki so podani;\n",
    "    - Rezultati:rezultati so vedno na voljo ob koncu izvajanja;\n",
    "    - Natančnost: koraki so za vse vhodne podatke natančno določeni;\n",
    "    - Determičnost: vmesni in končni rezultati so natančno določeni in odvisni le od vhodnih podatkov (izjema so stohastični algoritmi); \n",
    "    - Končno korakov: za vsak nabor vhodnih podatkov le končno korakov;\n",
    "    - Korektnost: rezultati ustrezajo nalogi;\n",
    "    - Splošnost: algoritem je izvedljiv za vse nabore vhodnih podatkov;\n",
    "    \n",
    "\n",
    "- Odvisnost od stroja:\n",
    "    - Omejimo se na eno procesorski računalnik (znanje bo uporabno tudi na HPC)\n",
    "    - Turingov stroj \n",
    "\n",
    "\n",
    "\n",
    "<p style=\"margin-bottom:1cm;\"></p>\n",
    "<div style=\"width:100%;text-align:right;font-weight:bold;font-size:1.2em;\"> 7 </div>\n",
    "<img src=\"https://raw.githubusercontent.com/andrejkk/ORvTK_SlidesImgs/master/footer_full.jpg\">"
   ]
  },
  {
   "cell_type": "markdown",
   "metadata": {
    "collapsed": true,
    "slideshow": {
     "slide_type": "slide"
    }
   },
   "source": [
    "<div style=\"display:flex;font-weight:bold;font-size:0.9em;\">\n",
    "<div style=\"flex:1;width:50%;\"> 3. Podatkovne strukture in algoritmi </div>\n",
    "<div style=\"flex:1;width:50%;text-align:right;\"> 3. 1. Algoritem in psevdokoda </div>\n",
    "</div>\n",
    "\n",
    "\n",
    "## ■ Psevdokoda\n",
    "\n",
    "- **Opis (Psevdkoda)** _Zapis abstraktne podatkovne strukture ali algoritma, neodvisen od programske implementacije (od programskega jezika)._\n",
    "\n",
    "\n",
    "- Podaja\n",
    "    - Vhodne podatke\n",
    "    - Rezultate\n",
    "    - Postopek do izbranega nivoja \n",
    " \n",
    " \n",
    "<img style=\"float: right; width: 250px; margin: -80px 20px 50px 0;\" src=\"https://raw.githubusercontent.com/andrejkk/ORvTK_SlidesImgs/master/PseudoC_Cholesky.png\">\n",
    " \n",
    "\n",
    "\n",
    "<p style=\"margin-bottom:1cm;\"><br><br><br><br><br><br><br></p>\n",
    "<div style=\"width:100%;text-align:right;font-weight:bold;font-size:1.2em;\"> 8 </div>\n",
    "<img src=\"https://raw.githubusercontent.com/andrejkk/ORvTK_SlidesImgs/master/footer_full.jpg\">"
   ]
  },
  {
   "cell_type": "markdown",
   "metadata": {
    "collapsed": true,
    "slideshow": {
     "slide_type": "slide"
    }
   },
   "source": [
    "<div style=\"display:flex;font-weight:bold;font-size:0.9em;\">\n",
    "<div style=\"flex:1;width:50%;\"> 3. Podatkovne strukture in algoritmi </div>\n",
    "<div style=\"flex:1;width:50%;text-align:right;\"> 3.2. Podatkovne strukture </div>\n",
    "</div>\n",
    "\n",
    "\n",
    "# 3.2. Podatkovne strukture\n",
    "\n",
    "■ Opis podatkovne strukture\n",
    "\n",
    "■ Vrste podatkovnih struktur\n",
    "\n",
    "■ Podatkovna struktura Sklad\n",
    "\n",
    "■ Podatkovna struktura Seznam\n",
    "\n",
    "■ Podatkovna struktura Vrsta\n",
    "\n",
    "■ Podatkovna struktura Graf\n",
    "\n",
    "■ Primer uporabe podatkovne strukture: sprehod po grafu v širino\n",
    "\n",
    "\n",
    "\n",
    "<p style=\"margin-bottom:1cm;\"></p>\n",
    "<div style=\"width:100%;text-align:right;font-weight:bold;font-size:1.2em;\"> 9 </div>\n",
    "<img src=\"https://raw.githubusercontent.com/andrejkk/ORvTK_SlidesImgs/master/footer_full.jpg\">"
   ]
  },
  {
   "cell_type": "markdown",
   "metadata": {
    "collapsed": true,
    "slideshow": {
     "slide_type": "slide"
    }
   },
   "source": [
    "<div style=\"display:flex;font-weight:bold;font-size:0.9em;\">\n",
    "<div style=\"flex:1;width:50%;\"> 3. Podatkovne strukture in algoritmi </div>\n",
    "<div style=\"flex:1;width:50%;text-align:right;\"> 3.2. Podatkovne strukture </div>\n",
    "</div>\n",
    "\n",
    "\n",
    "## ■ Opis podatkovne strukture\n",
    "\n",
    "\n",
    "**Opis (Podatkovna struktura)** _Podatkovna struktura je način organizacije podatkov v računalniku._\n",
    "\n",
    "- Podatkovna struktura je opis\n",
    "    - Shranjevanja sestavljenih podatkov\n",
    "    - Osnovnih operacij na teh podatkih: dostop, manipulacija\n",
    "\n",
    "\n",
    "- Namen vpeljave podatkovnih struktur je:\n",
    "    - Ločitev opisa podatkov od konkretne implementacije v programskem jeziku;\n",
    "    - Omogoča univerzalne študije lastnosti: korektnost\n",
    "    - Določanje zahtevnosti algoritmov\n",
    "    \n",
    "    \n",
    "- Poznamo\n",
    "    - Primitivni tipi: char, int, ...\n",
    "    - Sestavljeni tipi: array, ...\n",
    "    - Abstraktne podatkovne strukture: sklad, vrsta, ....\n",
    "\n",
    "\n",
    "<p style=\"margin-bottom:1cm;\"></p>\n",
    "<div style=\"width:100%;text-align:right;font-weight:bold;font-size:1.2em;\"> 10 </div>\n",
    "<img src=\"https://raw.githubusercontent.com/andrejkk/ORvTK_SlidesImgs/master/footer_full.jpg\">"
   ]
  },
  {
   "cell_type": "markdown",
   "metadata": {
    "collapsed": true,
    "slideshow": {
     "slide_type": "slide"
    }
   },
   "source": [
    "<div style=\"display:flex;font-weight:bold;font-size:0.9em;\">\n",
    "<div style=\"flex:1;width:50%;\"> 3. Podatkovne strukture in algoritmi </div>\n",
    "<div style=\"flex:1;width:50%;text-align:right;\"> 3.2. Podatkovne strukture </div>\n",
    "</div>\n",
    "\n",
    "## ■ Vrste podatkovnih struktur\n",
    "\n",
    "\n",
    "- Primitivni tipi\n",
    "    - Obstajajo: Logični (binarni), Char, Float, Double, Integer, Enumerated;\n",
    "    - Namen: Predstavitev števil\n",
    "\n",
    "\n",
    "- Sestavljeni:\n",
    "    - Obstajajo: Array, Struct,Union, ...\n",
    "    - Namen: Predstavitev polj podatkov (matrik, ...)\n",
    "\n",
    "\n",
    "- Abstraktni podatkovni tipi - za nas pomembni abstraktni tipi\n",
    "    - Seznam (List)\n",
    "    - Vrsta (Queue)\n",
    "    - Sklad (Stack)\n",
    "    - Graf (Graph)\n",
    "    - Namen: predstavitev kompleksnih podatkov \n",
    "    \n",
    "\n",
    "<p style=\"margin-bottom:1cm;\"></p>\n",
    "<div style=\"width:100%;text-align:right;font-weight:bold;font-size:1.2em;\"> 11 </div>\n",
    "<img src=\"https://raw.githubusercontent.com/andrejkk/ORvTK_SlidesImgs/master/footer_full.jpg\">"
   ]
  },
  {
   "cell_type": "markdown",
   "metadata": {
    "collapsed": true,
    "slideshow": {
     "slide_type": "slide"
    }
   },
   "source": [
    "<div style=\"display:flex;font-weight:bold;font-size:0.9em;\">\n",
    "<div style=\"flex:1;width:50%;\"> 3. Podatkovne strukture in algoritmi </div>\n",
    "<div style=\"flex:1;width:50%;text-align:right;\"> 3.2. Podatkovne strukture </div>\n",
    "</div>\n",
    "\n",
    "## ■ Podatkovna struktura Sklad\n",
    "\n",
    "- Uporaba:\n",
    "    - modeli procesorjev: Von Neumanovi procesor\n",
    "    - „Reverse Polish notion “ RPN\n",
    "\n",
    "\n",
    "\n",
    "<img style=\"float: right; width: 200px; margin: -40px 20px 50px 0;\" src=\"https://raw.githubusercontent.com/andrejkk/ORvTK_SlidesImgs/master/PseudoC_Stack.png\">\n",
    "\n",
    "<img style=\"float: left; width: 150px; margin: 20px 50px 50px 0;\" src=\"https://raw.githubusercontent.com/andrejkk/ORvTK_SlidesImgs/master/DataStructStack.png\">\n",
    "\n",
    "\n",
    "\n",
    "<p style=\"margin-bottom:1cm;\"><br><br><br><br><br><br><br><br><br><br><br><br></p>\n",
    "<div style=\"width:100%;text-align:right;font-weight:bold;font-size:1.2em;\"> 12 </div>\n",
    "<img src=\"https://raw.githubusercontent.com/andrejkk/ORvTK_SlidesImgs/master/footer_full.jpg\">"
   ]
  },
  {
   "cell_type": "markdown",
   "metadata": {
    "collapsed": true,
    "slideshow": {
     "slide_type": "slide"
    }
   },
   "source": [
    "<div style=\"display:flex;font-weight:bold;font-size:0.9em;\">\n",
    "<div style=\"flex:1;width:50%;\"> 3. Podatkovne strukture in algoritmi </div>\n",
    "<div style=\"flex:1;width:50%;text-align:right;\"> 3.2. Podatkovne strukture </div>\n",
    "</div>\n",
    "\n",
    "## ■ Podatkovna struktura Vrsta (ang. queue)\n",
    "\n",
    "- Uporaba\n",
    "    - Čakalne vrste\n",
    "    - Sprehodi po grafih\n",
    "    \n",
    "\n",
    "<img style=\"float: right; width: 250px; margin: 20px 50px 50px 0;\" src=\"https://raw.githubusercontent.com/andrejkk/ORvTK_SlidesImgs/master/PseudoC_Queue.png\">\n",
    "    \n",
    "\n",
    "<p style=\"margin-bottom:1cm;\"><br><br><br><br><br><br><br><br><br><br><br><br><br><br><br></p>\n",
    "<div style=\"width:100%;text-align:right;font-weight:bold;font-size:1.2em;\"> 13 </div>\n",
    "<img src=\"https://raw.githubusercontent.com/andrejkk/ORvTK_SlidesImgs/master/footer_full.jpg\">"
   ]
  },
  {
   "cell_type": "markdown",
   "metadata": {
    "collapsed": true,
    "slideshow": {
     "slide_type": "slide"
    }
   },
   "source": [
    "<div style=\"display:flex;font-weight:bold;font-size:0.9em;\">\n",
    "<div style=\"flex:1;width:50%;\"> 3. Podatkovne strukture in algoritmi </div>\n",
    "<div style=\"flex:1;width:50%;text-align:right;\"> 3.2. Podatkovne strukture </div>\n",
    "</div>\n",
    "\n",
    "\n",
    "## ■ Podatkovna struktura Graf (ang. graph)\n",
    "\n",
    "- Oznaka \n",
    "$ G = (V ,E)$\n",
    "\n",
    "    - Vozlišča $V$:  oznake z naravnimi števili\n",
    "    - Povezave $E=\\{(u,v): u,v\\in V\\}$ \n",
    "    \n",
    "    \n",
    "- Uporaba\n",
    "    - Predstavitev omrežja\n",
    "    - Podatkovna struktura optimizacijskih algoritmov\n",
    "\n",
    "\n",
    "<img style=\"float: right; width: 250px; margin: 20px 50px 50px 0;\" src=\"https://raw.githubusercontent.com/andrejkk/ORvTK_SlidesImgs/master/PseudoC_Graph.png\">\n",
    "    \n",
    "<img style=\"float: left; width: 200px; margin: 20px 50px 50px 0;\" src=\"https://raw.githubusercontent.com/andrejkk/ORvTK_SlidesImgs/master/DataStructGraph.jpg\">\n",
    "\n",
    "\n",
    "\n",
    "<p style=\"margin-bottom:1cm;\"><br><br><br><br><br><br><br><br><br><br><br><br><br><br><br><br></p>\n",
    "<div style=\"width:100%;text-align:right;font-weight:bold;font-size:1.2em;\"> 14 </div>\n",
    "<img src=\"https://raw.githubusercontent.com/andrejkk/ORvTK_SlidesImgs/master/footer_full.jpg\">"
   ]
  },
  {
   "cell_type": "markdown",
   "metadata": {
    "collapsed": true,
    "slideshow": {
     "slide_type": "slide"
    }
   },
   "source": [
    "<div style=\"display:flex;font-weight:bold;font-size:0.9em;\">\n",
    "<div style=\"flex:1;width:50%;\"> 3. Podatkovne strukture in algoritmi </div>\n",
    "<div style=\"flex:1;width:50%;text-align:right;\"> 3.2. Podatkovne strukture </div>\n",
    "</div>\n",
    "\n",
    "\n",
    "## ■ Primer uporabe podatkovne strukture: sprehod po grafu v širino\n",
    "\n",
    "- Teoretična analiza: algoritem je korekten = (obišče vsa vozlišča)\n",
    "- Neodvisno od implementacije\n",
    "- Uvedba novih osnovnih operacij za analizo zahtevnosti\n",
    "\n",
    "\n",
    "- Graf $G=(E, V)$\n",
    "\n",
    "    $E=\\{1,2,3,4,5\\}$ <br>\n",
    "    $V=\\{(12),(13),(23),(24),(34),(35),(45)\\}$\n",
    "    \n",
    "    \n",
    "<img style=\"float: right; width: 200px; margin: -150px 20px 50px 0;\" src=\"https://raw.githubusercontent.com/andrejkk/ORvTK_SlidesImgs/master/Algorithm_BFS.png\">\n",
    "\n",
    "<p style=\"margin-bottom:1cm;\"><br><br><br><br><br><br><br><br><br><br></p>\n",
    "<div style=\"width:100%;text-align:right;font-weight:bold;font-size:1.2em;\"> 15 </div>\n",
    "</div><img src=\"https://raw.githubusercontent.com/andrejkk/ORvTK_SlidesImgs/master/footer_full.jpg\">"
   ]
  },
  {
   "cell_type": "markdown",
   "metadata": {
    "collapsed": true,
    "slideshow": {
     "slide_type": "slide"
    }
   },
   "source": [
    "<div style=\"display:flex;font-weight:bold;font-size:0.9em;\">\n",
    "<div style=\"flex:1;width:50%;\"> 3. Podatkovne strukture in algoritmi </div>\n",
    "<div style=\"flex:1;width:50%;text-align:right;\"> 3.3. Računska in prostorska zahtevnost algoritma </div>\n",
    "</div>\n",
    "\n",
    "\n",
    "# 3.3. Računska in prostorska zahtevnost algoritma\n",
    "\n",
    "■ Opis računske in prostorske zahtevnosti algoritma  \n",
    "\n",
    "■ Velikost vhodnih podatkov \n",
    "\n",
    "■ Definicija razredov zahtevnosti \n",
    "\n",
    "■ Razredi zahtevnosti – seznam \n",
    "\n",
    "■ Časovna in prostorska (spominska) zahtevnost \n",
    "\n",
    "■ Izvedba analize zahtevnosti algoritma \n",
    "\n",
    "■ Primer: razcep simetrične matrike \n",
    "\n",
    "■ Zahtevnost algoritma - opažanja \n",
    "\n",
    "\n",
    "\n",
    "<p style=\"margin-bottom:1cm;\"></p>\n",
    "<div style=\"width:100%;text-align:right;font-weight:bold;font-size:1.2em;\"> 16 </div>\n",
    "<img src=\"https://raw.githubusercontent.com/andrejkk/ORvTK_SlidesImgs/master/footer_full.jpg\">"
   ]
  },
  {
   "cell_type": "markdown",
   "metadata": {
    "collapsed": true,
    "slideshow": {
     "slide_type": "slide"
    }
   },
   "source": [
    "<div style=\"display:flex;font-weight:bold;font-size:0.9em;\">\n",
    "<div style=\"flex:1;width:50%;\"> 3. Podatkovne strukture in algoritmi </div>\n",
    "<div style=\"flex:1;width:50%;text-align:right;\"> 3.3. Računska in prostorska zahtevnost algoritma </div>\n",
    "</div>\n",
    "\n",
    "\n",
    "\n",
    "## ■ Opis računske in prostorske zahtevnosti algoritma \n",
    "\n",
    "- Zakaj: \n",
    "    - Bistveno za praktično uporabnost algoritmov;\n",
    "    - Algoritem „sestopanje“ reši vsak problem, a prepočasi;\n",
    "\n",
    "\n",
    "- Namen:\n",
    "    - Izvedba analize konkretnega algoritma\n",
    "    - Osnovni razredi zahtevnosti\n",
    "    - Orientacija med znanimi algoritmi\n",
    "    \n",
    "    \n",
    "- Tipi zahtevnosti\n",
    "    - **Najslabša (angl: worst case) zahtevnost**: število korakov, ki za noben nabor vhodnih podatkov ne bo preseženo;\n",
    "    - **Povprečna zahtevnost (angl: average case)**: povprečno število korakov za pričakovane nabore vhodnih podatkov, torej število, okoli katerega bo največ realnih izidov. Izkaže se, da je lahko med najslabšo in povprečno zahtevnostjo velika in bistvena razlika.  \n",
    "\n",
    "\n",
    "\n",
    "<p style=\"margin-bottom:1cm;\"></p>\n",
    "<div style=\"width:100%;text-align:right;font-weight:bold;font-size:1.2em;\"> 17 </div>\n",
    "<img src=\"https://raw.githubusercontent.com/andrejkk/ORvTK_SlidesImgs/master/footer_full.jpg\">"
   ]
  },
  {
   "attachments": {},
   "cell_type": "markdown",
   "metadata": {
    "collapsed": true,
    "slideshow": {
     "slide_type": "slide"
    }
   },
   "source": [
    "<div style=\"display:flex;font-weight:bold;font-size:0.9em;\">\n",
    "<div style=\"flex:1;width:50%;\"> 3. Podatkovne strukture in algoritmi </div>\n",
    "<div style=\"flex:1;width:50%;text-align:right;\"> 3.3. Računska in prostorska zahtevnost algoritma </div>\n",
    "</div>\n",
    "\n",
    "\n",
    "## ■ Velikost vhodnih podatkov\n",
    "\n",
    "- Velikost vhodnih podatkov v analizo zahtevnosti algoritma\n",
    "- Odvisno od tipa podatkov in algoritma\n",
    "- Tipi vhodnih podatkov in merjenje\n",
    "\n",
    "| Tip podatka | Velikost | Primer algoritma | \n",
    "| ----------- | ----------- | ----------- |\n",
    "| Število $n$  | $\\log_2(n)$ | Razcep na praštevila |\n",
    "| Seznam $L$  | $\\|L\\|$| Urejanje |\n",
    "| Matrika $A$ | $\\|A_1\\|$ | Inverz |\n",
    "| Graf $G$=($V$,$E$)  | max($\\|V\\|$) | Največje vpeto drevo  |\n",
    "\n",
    "\n",
    "\n",
    "<p style=\"margin-bottom:1cm;\"></p>\n",
    "<div style=\"width:100%;text-align:right;font-weight:bold;font-size:1.2em;\"> 18 </div>\n",
    "<img src=\"https://raw.githubusercontent.com/andrejkk/ORvTK_SlidesImgs/master/footer_full.jpg\">"
   ]
  },
  {
   "attachments": {},
   "cell_type": "markdown",
   "metadata": {
    "collapsed": true,
    "slideshow": {
     "slide_type": "slide"
    }
   },
   "source": [
    "<div style=\"display:flex;font-weight:bold;font-size:0.9em;\">\n",
    "<div style=\"flex:1;width:50%;\"> 3. Podatkovne strukture in algoritmi </div>\n",
    "<div style=\"flex:1;width:50%;text-align:right;\"> 3.3. Računska in prostorska zahtevnost algoritma </div>\n",
    "</div>\n",
    "\n",
    "\n",
    "\n",
    "## ■ Definicija razredov zahtevnosti\n",
    "\n",
    "- Zanima nas zahtevnost za velike količine vhodnih podatkov\n",
    "\n",
    "\n",
    "\n",
    "- **Definicija** Naj bosta $f,g:ℕ\\to ℝ_+$ nenegativni funkciji na pozitivnih naravnih številih. <br>\n",
    "Funkcija $f$ je v razredu $O(g(n))$, če obstajata konstanti $C_1>0$ in $N_1>0$ tako, da velja\n",
    "$$ f(n)\\leq C_1 g(n) \\text{ za vse } n>N_1. $$\n",
    "Funkcija $f$ je v razredu $o(g(n))$, če velja\n",
    "$$ \\lim_{n\\to\\infty} \\frac{f(n)}{g(n)} = 0.  $$\n",
    "\n",
    "\n",
    "- Opazimo:\n",
    "    - Veliki $O$ pomeni, da funkcija $f$ narašča enako hitro kot predstavnik razreda $g$\n",
    "    - Mali $o$ pomeni, da funkcija $f$ narašča počasneje kot predstavnik razreda $g$\n",
    "\n",
    "\n",
    "\n",
    "<p style=\"margin-bottom:1cm;\"></p>\n",
    "<div style=\"width:100%;text-align:right;font-weight:bold;font-size:1.2em;\"> 19 </div>\n",
    "<img src=\"https://raw.githubusercontent.com/andrejkk/ORvTK_SlidesImgs/master/footer_full.jpg\">"
   ]
  },
  {
   "cell_type": "markdown",
   "metadata": {
    "collapsed": true,
    "slideshow": {
     "slide_type": "slide"
    }
   },
   "source": [
    "<div style=\"display:flex;font-weight:bold;font-size:0.9em;\">\n",
    "<div style=\"flex:1;width:50%;\"> 3. Podatkovne strukture in algoritmi </div>\n",
    "<div style=\"flex:1;width:50%;text-align:right;\"> 3.3. Računska in prostorska zahtevnost algoritma </div>\n",
    "</div>\n",
    "\n",
    "\n",
    "\n",
    "## ■ Časovna in prostorska (spominska) zahtevnost\n",
    "\n",
    "- Časovna zahtevnost\n",
    "    - Oznaka $𝑇(𝑎𝑙𝑔𝑜𝑟𝑖𝑡𝑒𝑚)$ [število osnovnih operacij = ciklov]\n",
    "    - Osnovne operacije: $+, -, *, /, \\ldots$ - odvisno od strojne opreme\n",
    "    - Razmerje med $𝑇(𝑜𝑝)$ in $𝑇(𝑝𝑟𝑜𝑐)$;\n",
    "        - Python primer: koren\n",
    "        <br><br>\n",
    "    - **Definicija:** _Časovna zahtevnost algoritma je število osnovnih operacij v odvisnosti od velikosti vhodnih podatkov._\n",
    "    \n",
    "    \n",
    "    \n",
    "- Prostorska (spominska) zahtevnost\n",
    "    - Oznaka $𝑀(𝑎𝑙𝑔𝑜𝑟𝑖𝑡𝑒𝑚)$ [število osnovnih spominskih enot ]\n",
    "    - Osnovne spominske enote: bajt ali spomin za eno npr. decimalno število\n",
    "        - Python primer: kasneje Cholesky\n",
    "        <br><br>\n",
    "    - **Definicija:** _Prostorska zahtevnost algoritma je število osnovnih spominskih enot v odvisnosti od velikosti vhodnih podatkov._\n",
    "    \n",
    "\n",
    "\n",
    "<p style=\"margin-bottom:1cm;\"></p>\n",
    "<div style=\"width:100%;text-align:right;font-weight:bold;font-size:1.2em;\"> 20 </div>\n",
    "<img src=\"https://raw.githubusercontent.com/andrejkk/ORvTK_SlidesImgs/master/footer_full.jpg\">"
   ]
  },
  {
   "attachments": {},
   "cell_type": "markdown",
   "metadata": {
    "collapsed": true,
    "slideshow": {
     "slide_type": "slide"
    }
   },
   "source": [
    "<div style=\"display:flex;font-weight:bold;font-size:0.9em;\">\n",
    "<div style=\"flex:1;width:50%;\"> 3. Podatkovne strukture in algoritmi </div>\n",
    "<div style=\"flex:1;width:50%;text-align:right;\"> 3.3. Računska in prostorska zahtevnost algoritma </div>\n",
    "</div>\n",
    "\n",
    "\n",
    "## ■ Razredi zahtevnosti – seznam\n",
    "\n",
    "| Ime      | Razred | Opomba |\n",
    "| ----------- | ----------- | -------- |\n",
    "| Konstantni  | $O(1)$ |  |\n",
    "| Log log   | $O(\\log(\\log(n))$        |\n",
    "| Log  |  $O(\\log(n))$ |   |\n",
    "| Sublinearen  | $O(n^c)$, $c<1$  |   |\n",
    "| Linearen  | $O(n)$  |   |\n",
    "| N Log n  | $O(n\\log(n))$  | Zelo uporabno  |\n",
    "| Kvadratični  | $O(n^2)$  |   |\n",
    "| Kubični  | $O(n^3)$  |   |\n",
    "| Polinomski  | $O(n^k)$, $k\\geq 1$  |   |\n",
    "| Eksponentni  | $O(c^n)$, $c>1$  | Neuporabno  |\n",
    "| Fakultetni  | $O(n!)$  |   |\n",
    "\n",
    "\n",
    "\n",
    "\n",
    "\n",
    "<p style=\"margin-bottom:1cm;\"></p>\n",
    "<div style=\"width:100%;text-align:right;font-weight:bold;font-size:1.2em;\"> 21 </div>\n",
    "<p style=\"margin-bottom:1cm;\"></p>\n",
    "<img src=\"https://raw.githubusercontent.com/andrejkk/ORvTK_SlidesImgs/master/footer_full.jpg\">"
   ]
  },
  {
   "cell_type": "markdown",
   "metadata": {
    "collapsed": true,
    "slideshow": {
     "slide_type": "slide"
    }
   },
   "source": [
    "<div style=\"display:flex;font-weight:bold;font-size:0.9em;\">\n",
    "<div style=\"flex:1;width:50%;\"> 3. Podatkovne strukture in algoritmi </div>\n",
    "<div style=\"flex:1;width:50%;text-align:right;\"> 3.3. Računska in prostorska zahtevnost algoritma </div>\n",
    "</div>\n",
    "\n",
    "\n",
    "## ■ Razredi zahtevnosti - grafi\n",
    "\n",
    "\n",
    "Razredi naraščanja zahtevnosti povedo, da močnejša strojna oprema ni rešitev, ker čas izvajanja ni praktično dostopen;\n",
    "\n",
    "\n",
    "\n",
    "<p style=\"margin-bottom:1cm;\"></p>\n",
    "<div style=\"width:100%;text-align:right;font-weight:bold;font-size:1.2em;\"> 22 </div>\n",
    "<img src=\"https://raw.githubusercontent.com/andrejkk/ORvTK_SlidesImgs/master/footer_full.jpg\">"
   ]
  },
  {
   "cell_type": "code",
   "execution_count": 2,
   "metadata": {
    "slideshow": {
     "slide_type": "slide"
    }
   },
   "outputs": [
    {
     "data": {
      "text/plain": [
       "<function matplotlib.pyplot.show(close=None, block=None)>"
      ]
     },
     "execution_count": 2,
     "metadata": {},
     "output_type": "execute_result"
    },
    {
     "data": {
      "image/png": "[encoded data removed]",
      "text/plain": [
       "<Figure size 800x600 with 1 Axes>"
      ]
     },
     "metadata": {},
     "output_type": "display_data"
    }
   ],
   "source": [
    "## Time complexity of slected classes\n",
    "import numpy as np\n",
    "import matplotlib.pyplot as plt\n",
    "\n",
    "\n",
    "fig, ax = plt.subplots(figsize=(8, 6))\n",
    "\n",
    "n_max = 12\n",
    "n_lst = np.arange(n_max)+1\n",
    "lin10n_lst = [10*n for n in n_lst]\n",
    "lin20n_lst = [20*n for n in n_lst]\n",
    "nlogn_lst = [n*np.log(n) for n in n_lst]\n",
    "quadr_lst = [n**2 for n in n_lst]\n",
    "qubic_lst = [n**3 for n in n_lst]\n",
    "exp_lst = [2**n for n in n_lst]\n",
    "\n",
    "ax.plot(n_lst, lin10n_lst, label='$10 n$')\n",
    "ax.plot(n_lst, lin20n_lst, label='$20 n$')\n",
    "ax.plot(n_lst, nlogn_lst, label='$n \\\\log(n)$')\n",
    "ax.plot(n_lst, quadr_lst, label='$n^2$')\n",
    "ax.plot(n_lst, qubic_lst, label='$n^3$')\n",
    "ax.plot(n_lst, exp_lst, label='$2^n$')\n",
    "plt.legend()\n",
    "plt.show\n"
   ]
  },
  {
   "cell_type": "markdown",
   "metadata": {
    "collapsed": true,
    "slideshow": {
     "slide_type": "slide"
    }
   },
   "source": [
    "<div style=\"display:flex;font-weight:bold;font-size:0.9em;\">\n",
    "<div style=\"flex:1;width:50%;\"> 3. Podatkovne strukture in algoritmi </div>\n",
    "<div style=\"flex:1;width:50%;text-align:right;\"> 3.3. Računska in prostorska zahtevnost algoritma </div>\n",
    "</div>\n",
    "\n",
    "\n",
    "## ■ Izvedba analize zahtevnosti algoritma: najslabša\n",
    "\n",
    "- Postopek teoretične analize zahtevnosti algoritma\n",
    "    1. Določitev merjenja velikosti vhodnih podatkov;\n",
    "    2. Določitev osnovnih operacij in njihovih zahtevnosti;\n",
    "    3. Analiza psevdokode po korakih\n",
    "    4. Seštevanje zahtevnosti\n",
    "    5. Analiza vodilnih členov in uvrstitev algoritma v razred zahtevnosti\n",
    "\n",
    "\n",
    "- Merjenje na podlagi implementacije – merjenje časa na podlagi implementacije\n",
    "    - Merjenje časa izvajanja na izbranih velikosti podatkov\n",
    "    - Analiza primerjave z osnovno operacijo\n",
    "    - Prileganje modelov\n",
    "\n",
    "\n",
    "- Rezultat analize je uvrstitev algoritma v zahtevnostni razred;\n",
    "- Je osnova za odločitev glede praktične uporabnosti algoritma\n",
    "\n",
    "\n",
    "\n",
    "<p style=\"margin-bottom:1cm;\"></p>\n",
    "<div style=\"width:100%;text-align:right;font-weight:bold;font-size:1.2em;\"> 23 </div>\n",
    "<img src=\"https://raw.githubusercontent.com/andrejkk/ORvTK_SlidesImgs/master/footer_full.jpg\">"
   ]
  },
  {
   "cell_type": "markdown",
   "metadata": {
    "collapsed": true,
    "slideshow": {
     "slide_type": "slide"
    }
   },
   "source": [
    "<div style=\"display:flex;font-weight:bold;font-size:0.9em;\">\n",
    "<div style=\"flex:1;width:50%;\"> 3. Podatkovne strukture in algoritmi </div>\n",
    "<div style=\"flex:1;width:50%;text-align:right;\"> 3.3. Računska in prostorska zahtevnost algoritma </div>\n",
    "</div>\n",
    "\n",
    "\n",
    "\n",
    "## ■ Primer: razcep simetrične matrike\n",
    "\n",
    "- Primer: algoritem Choleskega za razcep matrike $A = V.V^\\top$\n",
    "- Časovna zahtevnost $n^3/3 + O(n^2)$\n",
    "- Prostorska zahtevnost $n^2/2 + O(n)$\n",
    "- Ocenjena zahtevnost korena:\n",
    "    $c = O(1)$, $c=1,037$ \n",
    "\n",
    "\n",
    " - Matlab: linearno, glejte sliko\n",
    " \n",
    "<img style=\"float: right; width: 250px; margin: 20px 50px 50px 0;\" src=\"https://raw.githubusercontent.com/andrejkk/ORvTK_SlidesImgs/master/PseudoC_Cholesky.png\">\n",
    "\n",
    "\n",
    " - Python: glejte kodo in sliko naslednje celice\n",
    "\n",
    "<img style=\"float: left; width: 250px; margin: 20px 50px 50px 0;\" src=\"https://raw.githubusercontent.com/andrejkk/ORvTK_SlidesImgs/master/CholeskyComComp.png\">\n",
    "\n",
    "\n",
    "\n",
    "<p style=\"margin-bottom:1cm;\"><br><br><br><br><br><br><br><br><br><br><br><br><br><br></p>\n",
    "<div style=\"width:100%;text-align:right;font-weight:bold;font-size:1.2em;\"> 24 </div>\n",
    "<img src=\"https://raw.githubusercontent.com/andrejkk/ORvTK_SlidesImgs/master/footer_full.jpg\">"
   ]
  },
  {
   "cell_type": "code",
   "execution_count": 9,
   "metadata": {},
   "outputs": [
    {
     "data": {
      "image/png": "[encoded data removed]",
      "text/plain": [
       "<Figure size 600x600 with 1 Axes>"
      ]
     },
     "metadata": {},
     "output_type": "display_data"
    }
   ],
   "source": [
    "# Zahtevnost kvadratnega korena - merjenje konstante c\n",
    "\n",
    "\n",
    "import numpy as np\n",
    "from timeit import default_timer as timer\n",
    "import matplotlib.pyplot as plt\n",
    "\n",
    "\n",
    "p_num = 100\n",
    "N = 1000000000000000\n",
    "dN = int(N/p_num)\n",
    "\n",
    "# One operation time\n",
    "y = np.sqrt(2)\n",
    "start = timer()\n",
    "y = 1 + 1\n",
    "end = timer()\n",
    "op_time = end - start\n",
    "\n",
    "x_lst = range(1, N, dN)\n",
    "time_lst = np.zeros(p_num)\n",
    "n_count = 0\n",
    "for x in x_lst:\n",
    "    start = timer()\n",
    "    y = np.sqrt(x)\n",
    "    end = timer()\n",
    "    time_lst[n_count] = (end - start) / op_time\n",
    "    n_count += 1\n",
    "\n",
    "fig, ax = plt.subplots(figsize=(6, 6))\n",
    "ax.plot(x_lst, time_lst, label='')\n",
    "plt.show()\n"
   ]
  },
  {
   "cell_type": "code",
   "execution_count": 10,
   "metadata": {},
   "outputs": [
    {
     "data": {
      "image/png": "[encoded data removed]",
      "text/plain": [
       "<Figure size 600x600 with 1 Axes>"
      ]
     },
     "metadata": {},
     "output_type": "display_data"
    }
   ],
   "source": [
    "# Določitev C1 in N1: Celoten izraz\n",
    "\n",
    "import numpy as np\n",
    "import matplotlib.pyplot as plt\n",
    "\n",
    "N = 35\n",
    "n_lst = range(N)\n",
    "\n",
    "def f(n):\n",
    "    return (2.0/3)*n**3 + n**2 + (c-5.0/3)\n",
    "\n",
    "    \n",
    "c = 1 \n",
    "C1 = 1\n",
    "f_lst = [f(n) for n in n_lst]\n",
    "g_lst = [C1*n**3 for n in n_lst]\n",
    "    \n",
    "fig, ax = plt.subplots(figsize=(6, 6))\n",
    "ax.plot(n_lst, f_lst, label='f')\n",
    "ax.plot(n_lst, g_lst, label='g')\n",
    "plt.legend()\n",
    "plt.show()\n"
   ]
  },
  {
   "cell_type": "code",
   "execution_count": 11,
   "metadata": {},
   "outputs": [
    {
     "data": {
      "image/png": "[encoded data removed]",
      "text/plain": [
       "<Figure size 600x600 with 1 Axes>"
      ]
     },
     "metadata": {},
     "output_type": "display_data"
    }
   ],
   "source": [
    "# Določitev C1 in N1: celoten izraz\n",
    "\n",
    "import numpy as np\n",
    "import matplotlib.pyplot as plt\n",
    "\n",
    "N = 35\n",
    "n_lst = range(N)\n",
    "\n",
    "def f(n):\n",
    "    return n**2 + (c-5.0/3)\n",
    "\n",
    "    \n",
    "c = 1 \n",
    "C1 = 2\n",
    "f_lst = [f(n) for n in n_lst]\n",
    "g_lst = [C1*n**2 for n in n_lst]\n",
    "    \n",
    "fig, ax = plt.subplots(figsize=(6, 6))\n",
    "ax.plot(n_lst, f_lst, label='f')\n",
    "ax.plot(n_lst, g_lst, label='g')\n",
    "plt.legend()\n",
    "plt.show()\n"
   ]
  },
  {
   "cell_type": "markdown",
   "metadata": {
    "collapsed": true,
    "slideshow": {
     "slide_type": "slide"
    }
   },
   "source": [
    "<div style=\"display:flex;font-weight:bold;font-size:0.9em;\">\n",
    "<div style=\"flex:1;width:50%;\"> 3. Podatkovne strukture in algoritmi </div>\n",
    "<div style=\"flex:1;width:50%;text-align:right;\"> 3.3. Računska in prostorska zahtevnost algoritma </div>\n",
    "</div>\n",
    "\n",
    "\n",
    "\n",
    "## ■ Izvedba analize zahtevnosti algoritma: povprečna\n",
    "\n",
    "- Postopek z računalnikom - simulacija\n",
    "    1. Izdelaj generator / selektor testnih podatkov: $\\{D_1, \\ldots, D_N\\}$ \n",
    "        - Reprezentativnost?\n",
    "    2. Ocena zahtevnosti $T(D_1), \\dots, T(D_N)$ \n",
    "    3. Povprečna zahtevnost: \n",
    "        - $\\overline{T}=\\frac{1}{N}\\sum_{i=1}^N T(D_i)$\n",
    "        - interval zaupanja\n",
    "\n",
    "\n",
    "\n",
    "<p style=\"margin-bottom:1cm;\"></p>\n",
    "<div style=\"width:100%;text-align:right;font-weight:bold;font-size:1.2em;\"> 25 </div>\n",
    "<img src=\"https://raw.githubusercontent.com/andrejkk/ORvTK_SlidesImgs/master/footer_full.jpg\">"
   ]
  },
  {
   "cell_type": "markdown",
   "metadata": {
    "collapsed": true,
    "slideshow": {
     "slide_type": "slide"
    }
   },
   "source": [
    "<div style=\"display:flex;font-weight:bold;font-size:0.9em;\">\n",
    "<div style=\"flex:1;width:50%;\"> 3. Podatkovne strukture in algoritmi </div>\n",
    "<div style=\"flex:1;width:50%;text-align:right;\"> 3.3. Računska in prostorska zahtevnost algoritma </div>\n",
    "</div>\n",
    "\n",
    "\n",
    "\n",
    "## ■ Zahtevnost algoritma - opažanja\n",
    "\n",
    "- Če so v telesu **for** / **while** zanke funkcije konstantne zahtevnosti $O(1)$, potem\n",
    "    - Zanka **for** (i=1 to n) ima zahtevnost $O(𝑛)$\n",
    "    - Gnezdeni zanki <br>\n",
    "    **for** (i=1 to n) <br>\n",
    "        **for** (j=1 to n) <br>\n",
    "    zahtevnost $O(𝑛^2)$ itd. <br>\n",
    "    - ==> vsak zanka doda potenco v zahtevnosti\n",
    "    \n",
    "    \n",
    "- Glavni izvor eksponentne zahtevnosti $O(2^𝑛)$ je iskanje podmnožic v množici moči $|𝐴|=𝑛$:\n",
    "    - Iskanje podmnožice velikosti $𝑘$ je $n\\choose k$. \n",
    "    - Za male $k$ je to $n^k$ (polinomsko), za $k$ blizu $𝑛/2$ pa eksponentno\n",
    "    - Vseh podmnožic je $2^𝑘$\n",
    "    \n",
    "\n",
    "<p style=\"margin-bottom:1cm;\"></p>\n",
    "<div style=\"width:100%;text-align:right;font-weight:bold;font-size:1.2em;\"> 26 </div>\n",
    "<img src=\"https://raw.githubusercontent.com/andrejkk/ORvTK_SlidesImgs/master/footer_full.jpg\">"
   ]
  },
  {
   "cell_type": "markdown",
   "metadata": {
    "collapsed": true,
    "slideshow": {
     "slide_type": "slide"
    }
   },
   "source": [
    "<div style=\"display:flex;font-weight:bold;font-size:0.9em;\">\n",
    "<div style=\"flex:1;width:50%;\"> 3. Podatkovne strukture in algoritmi </div>\n",
    "<div style=\"flex:1;width:50%;text-align:right;\"> 3.4. Programska oprema v optimizaciji </div>\n",
    "</div>\n",
    "\n",
    "\n",
    "\n",
    "# 3.4. Programska oprema v optimizaciji\n",
    "\n",
    "## ■ Seznam (1)\n",
    "\n",
    "**Programsko orodje IBM CPLEX** <br>\n",
    "CPLEX je orodje za reševanje optimizacijskih nalog zelo širokega spektra [http://www-03.ibm.com/software/products/us/en/ibmilogcpleoptistud/]. Neuradno velja za najboljše splošno orodje, ki so ga uporabili pri uspešnem reševanju velikih realnih problemov. Gre za skupino različnih algoritmov za reševanje, ki jih stalno dopolnjujejo in izboljšujejo. Odlikuje ga avtomatski selektor algoritmov za reševanje, ki po predhodni analizi problema samostojno izbere ustrezen algoritem. Gre za licenčno orodje z zelo visokimi licenčninami, obstaja tudi akademska licenca.\n",
    "\n",
    "**Programsko orodje LP_solve** <br>\n",
    "Orodje LP_solve [http://sourceforge.net/projects/lpsolve/] je namenjeno reševanju problemov linearnega, celoštevilskega in mešanega programiranja, glejte poglavje 4. Čeprav gre za preprosto orodje, je z njim mogoče reševati realne probleme. Zaradi preproste uporabe je veliko v rabi, predvsem pri razvoju formulacije optimizacijskega problema. Na voljo je v odprtokodni obliki in za različne operacijske sisteme. Podpira format vhodne datoteke LP.\n",
    "\n",
    "**Programsko orodje Gurobi** <br>\n",
    "Orodje Gurobi je licenčna programska oprema za reševanje različnih optimizacijskih nalog [http://www.gurobi.com/]. Odlikuje ga učinkovit uporabniški vmesnik za razvoj formulacije in reševanja optimizacijske naloge. Na voljo so akademske licence. Podpira konfiguracijo strežnik odjemalec.\n",
    "\n",
    "**Programsko orodje XPRESS** <br>\n",
    "Programsko orodje za reševanje optimizacijskih problemov XPRESS [http://www.fico.com/en/Products/DMTools/Pages/FICO-Xpress-Optimization-Suite.aspx] se odlikuje po učinkoviti implementaciji v smislu obvladovanja zelo velikih in kompleksnih problemov. Med svoje reference uvrščajo rešitve izjemno velikih logističnih problemov.\n",
    "\n",
    "\n",
    "\n",
    "<p style=\"margin-bottom:1cm;\"></p>\n",
    "<div style=\"width:100%;text-align:right;font-weight:bold;font-size:1.2em;\"> 27 </div>\n",
    "<img src=\"https://raw.githubusercontent.com/andrejkk/ORvTK_SlidesImgs/master/footer_full.jpg\">"
   ]
  },
  {
   "cell_type": "markdown",
   "metadata": {
    "collapsed": true,
    "slideshow": {
     "slide_type": "slide"
    }
   },
   "source": [
    "<div style=\"display:flex;font-weight:bold;font-size:0.9em;\">\n",
    "<div style=\"flex:1;width:50%;\"> 3. Podatkovne strukture in algoritmi </div>\n",
    "<div style=\"flex:1;width:50%;text-align:right;\"> 3.4. Programska oprema v optimizaciji </div>\n",
    "</div>\n",
    "\n",
    "\n",
    "\n",
    "\n",
    "## ■ Seznam (2)\n",
    "\n",
    "**Programsko orodje CASS**<br>\n",
    "Programsko okolje CASS (ang. combinatorial auction solving suite) [http://www.cs.ubc.ca/~kevinlb/downloads.html] je namenjeno reševanju kombinatorične dražbe. Problem kombinatorične dražbe je algoritmično težak. V tem učbeniku ga nismo predstavili, čeprav je pomemben za področju telekomunikacij v smislu izvedbe dražb komunikacijskih virov kot je npr. dodeljevanje frekvenc. Na voljo je v odprtokodni obliki.\n",
    "\n",
    "**Računalniška infrastruktura COIN-OR**<br> \n",
    "Računalniška infrastruktura COIN-OR [http://www.coin-or.org/] (ang. COmputational INfrastructure for Operations Research) je iniciativa v smer razvoja odprtokodne programske opreme na področju operacijskih raziskav. Združuje več deset univerz, inštitutov in podjetij.\n",
    "\n",
    "**Omrežni simulator OPNET**<br> \n",
    "Simulator telekomunikacijskih omrežij OPNET [http://www.opnet.com/] velja za vodilni produkt na podro-čju. Gre za zahtevno orodje, ki omogoča simulacijo realnega okolja v smislu vključevanja realnih TK gradnikov (npr. usmerjevalnikov, ki so na trgu) in realne konfiguracije terena. Uspešno so ga uporabili v velikem številu načrtovanja in optimizacije realnih omrežij. Na voljo je pod visokimi licencami, dostopna je tudi akademska licenca.\n",
    "\n",
    "**Omrežni simulator NS-3**<br>\n",
    "Odprtokodni simulator [http://www.nsnam.org/] je nastal v raziskovalnem okolju in je namenjen za konceptualne simulacije. S časom so uporabniki izdelali tudi simulacije, ki so bližje realnemu okolju. Njegov predhodnik NS-2 je še v uporabi. Na voljo je v odprtokodni obliki, udobneje ga je uporabljat na operacijskem sistemu Linux. Od uporabnika zahteva poznavanje programskih jezikov C/C++ in Tcl/Tk.\n",
    "\n",
    "\n",
    "\n",
    "<p style=\"margin-bottom:1cm;\"></p>\n",
    "<div style=\"width:100%;text-align:right;font-weight:bold;font-size:1.2em;\"> 28 </div>\n",
    "<img src=\"https://raw.githubusercontent.com/andrejkk/ORvTK_SlidesImgs/master/footer_full.jpg\">"
   ]
  },
  {
   "cell_type": "markdown",
   "metadata": {
    "collapsed": true,
    "slideshow": {
     "slide_type": "slide"
    }
   },
   "source": [
    "<div style=\"display:flex;font-weight:bold;font-size:0.9em;\">\n",
    "<div style=\"flex:1;width:50%;\"> 3. Podatkovne strukture in algoritmi </div>\n",
    "<div style=\"flex:1;width:50%;text-align:right;\"> 3.4. Programska oprema v optimizaciji </div>\n",
    "</div>\n",
    "\n",
    "\n",
    "\n",
    "\n",
    "## ■ Seznam (3)\n",
    "\n",
    "**Programsko orodje Gretl**<br>\n",
    "Gretl [http://gretl.sourceforge.net/] je odprtokodno programsko orodje za analizo časovnih vrst in ekonometrijo. Izkazuje dobro numerično stabilnost težavnih metod (npr. ocene Hurstovega parametra) in je v profesionalni uporabi.\n",
    "\n",
    "**Programsko orodje Gephi**<br>\n",
    "Gephi je odprtokodni program za analizo in risanje grafov [https://gephi.org]. Posebej je primeren za analizo in vizualizacijo velikih grafov kot so socialna omrežja velikega števila uporabnikov. Implementiran je v programskem okolju Java in z razmahom socialnih omrežij doživlja hiter razvoj.\n",
    "\n",
    "**Programsko orodje Pajk**<br>\n",
    "Orodje Pajk je namensko razvito za analizo velikih omrežij in je slovenski proizvod [http://pajek.imfm.si/doku.php]. Njegova odlika je računska učinkovitost. V našem okviru je uporaben za analizo socialnih omrežij uporabnikov telekomunikacijskih storitev.\n",
    "\n",
    "**Programsko orodje GraphViz**<br>\n",
    "Orodje GraphViz je namenjeno lepemu risanju grafov [http://www.graphviz.org]. To je zelo težavna naloga saj ob raznolikosti oznak vozlišč in povezav ni enostavno narisati pregledne slike. Vizualizacija grafov pri analizi podatkov je zelo pomembna in boljše rešitve omogočajo risanje večjih grafov in lažje povzemanje bistvenih značilnosti.\n",
    "\n",
    "\n",
    "\n",
    "<p style=\"margin-bottom:1cm;\"></p>\n",
    "<div style=\"width:100%;text-align:right;font-weight:bold;font-size:1.2em;\"> 29 </div>\n",
    "<img src=\"https://raw.githubusercontent.com/andrejkk/ORvTK_SlidesImgs/master/footer_full.jpg\">"
   ]
  },
  {
   "cell_type": "markdown",
   "metadata": {
    "collapsed": true,
    "slideshow": {
     "slide_type": "slide"
    }
   },
   "source": [
    "<div style=\"display:flex;font-weight:bold;font-size:0.9em;\">\n",
    "<div style=\"flex:1;width:50%;\"> 3. Podatkovne strukture in algoritmi </div>\n",
    "<div style=\"flex:1;width:50%;text-align:right;\"> 3.4. Programska oprema v optimizaciji </div>\n",
    "</div>\n",
    "\n",
    "\n",
    "\n",
    "## ■ Seznam (4)\n",
    "\n",
    "**Programsko orodje IBM SPSS Modeler**<br>\n",
    "Učinkovito orodje za strojno učenje IBM SPSS Modeler [http://www-01.ibm.com/software/analytics/spss/products/modeler] se odlikuje po grafičnem uporabniškem vmesniku, ki pokrije celotno analizo podatkov (brez programiranja). Gre za eno od vodilnih orodij na področju poslovne inteligence s poudarkom na reševanju problemov velikih podatkov. Na voljo je v licenčni obliki.\n",
    "\n",
    "**Programsko orodje SAS** <br>\n",
    "Orodje SAS [http://www.sas.com/] je eno od vodilnih orodij na področju poslovne analitike in poslovne inteligence. Obsega več kot deset specializiranih orodij, me drugim tudi za zaznavo goljufij in varnosti uporabnikov. Na voljo je pod licenčnimi pogoji in je namenjeno za profesionalno rabo.\n",
    "\n",
    "\n",
    "**Programsko orodje Weka**<br>\n",
    "Weka [http://www.cs.waikato.ac.nz/ml/weka/] je orodje za strojno učenje, ki ga uporabljajo predvsem raziskovalci za kar je bilo tudi razvito. Odlikuje ga dobra podpora za različne načrte poskusov. Implementirano je v programskem okolju Java in je na voljo v odprtokodni obliki.\n",
    "\n",
    "**Programsko orodje RapidMiner**<br>\n",
    "Orodji RapidMiner in RapidAnalytics sta odprtokodni orodji za rudarjenje podatkov in analitiko [http://rapid-i.com/]. Na voljo sta v odprtokodni obliki in imata popolno podporo preko grafičnega uporabniškega vmesnika (brez programiranja).\n",
    "\n",
    "\n",
    "\n",
    "<p style=\"margin-bottom:1cm;\"></p>\n",
    "<div style=\"width:100%;text-align:right;font-weight:bold;font-size:1.2em;\"> 30 </div>\n",
    "<img src=\"https://raw.githubusercontent.com/andrejkk/ORvTK_SlidesImgs/master/footer_full.jpg\">"
   ]
  },
  {
   "cell_type": "markdown",
   "metadata": {
    "collapsed": true,
    "slideshow": {
     "slide_type": "slide"
    }
   },
   "source": [
    "<div style=\"display:flex;font-weight:bold;font-size:0.9em;\">\n",
    "<div style=\"flex:1;width:50%;\"> 3. Podatkovne strukture in algoritmi </div>\n",
    "<div style=\"flex:1;width:50%;text-align:right;\"> 3.4. Programska oprema v optimizaciji </div>\n",
    "</div>\n",
    "\n",
    "\n",
    "\n",
    "## ■ Seznam (5)\n",
    "\n",
    "**Programsko orodje Matlab**<br>\n",
    "Matlab [http://www.mathworks.com] je splošno uporabno orodje za numerično analizo, uporablja se tako v raziskovalne kot industrijske namene. Ponuja tudi pakete za optimizacijo in prediktivno analitiko. Posebej se odlikuje pri reševanju nelinearne optimizacije.\n",
    "\n",
    "**Programsko orodje Mathematica**<br>\n",
    "Programsko okolje [http://www.wolfram.com/mathematica/] je namenjeno predvsem raziskovalnemu delu. Velja za najboljše orodje za simbolično računanje. Primerno je za preoblikovanje kriterijske funkcije v učinkovitejšo obliko ter študij omejitev optimizacijske naloge. Do uporabnika je precej zahtevno v smislu poznavanja konceptov, na katerih je zgrajeno.\n",
    "\n",
    "**Programsko orodje R** <br>\n",
    "Oprtokodno programsko orodje R [http://www.r-project.org/] je prvenstveno namenjeno statistični obdelavi podatkov in vizualizaciji. Vključuje tudi elemente strojnega učenja in analitike. V raziskovalnih krogih je zelo popularen.\n",
    "\n",
    "**Programsko orodje Orange** <br>\n",
    "Orodje Orange [http://orange.biolab.si/] je namenjeno rudarjenju in vizualizaciji podatkov. Gre za slovenski proizvod, ki postopoma vključuje tudi elemente strojnega učenja. Implementiran je v programskem jeziku Python.\n",
    "\n",
    "\n",
    "\n",
    "<p style=\"margin-bottom:1cm;\"></p>\n",
    "<div style=\"width:100%;text-align:right;font-weight:bold;font-size:1.2em;\"> 31 </div>\n",
    "<img src=\"https://raw.githubusercontent.com/andrejkk/ORvTK_SlidesImgs/master/footer_full.jpg\">"
   ]
  },
  {
   "cell_type": "markdown",
   "metadata": {
    "collapsed": true,
    "slideshow": {
     "slide_type": "slide"
    }
   },
   "source": [
    "<div style=\"display:flex;font-weight:bold;font-size:0.9em;\">\n",
    "<div style=\"flex:1;width:50%;\"> 3. Podatkovne strukture in algoritmi </div>\n",
    "<div style=\"flex:1;width:50%;text-align:right;\"> Zaključek </div>\n",
    "</div>\n",
    "\n",
    "\n",
    "## ■ Zaključek\n",
    "\n",
    "- „Program = podatkovna struktura + algoritem“\n",
    "    - Načrt algoritma se začne s podatkovno strukturo;\n",
    "    - Osnovne operacije algoritma so operacije podatkovne strukture\n",
    "    - Analiza korektnosti algoritma poteka na operacijah podatkovne strukture\n",
    "\n",
    "\n",
    "- Računska zahtevnost je bistvena: \n",
    "    - Praktična uporabnost le za algoritme obvladljive zahtevnosti\n",
    "    - Algoritem sestopanje reši vse\n",
    "    \n",
    "\n",
    "- Načrtovanje in implementacija algoritmov\n",
    "    - Najprej prepoznavanje ZNANIH REŠITEV \n",
    "\n",
    "\n",
    "- Odlična referenca: Numerical recipies in C++: http://www.nr.com/ \n",
    "    - Koda + dokazi korektnosti in optimalnosti\n",
    "    - Zanesljiva dokumentacija in koda\n",
    "\n",
    "<p style=\"margin-bottom:1cm;\"></p>\n",
    "<div style=\"width:100%;text-align:right;font-weight:bold;font-size:1.2em;\"> 32 </div>\n",
    "<img src=\"https://raw.githubusercontent.com/andrejkk/ORvTK_SlidesImgs/master/footer_full.jpg\">"
   ]
  },
  {
   "cell_type": "code",
   "execution_count": null,
   "metadata": {},
   "outputs": [],
   "source": []
  }
 ],
 "metadata": {
  "celltoolbar": "Slideshow",
  "kernelspec": {
   "display_name": "Python 3",
   "language": "python",
   "name": "python3"
  },
  "language_info": {
   "codemirror_mode": {
    "name": "ipython",
    "version": 3
   },
   "file_extension": ".py",
   "mimetype": "text/x-python",
   "name": "python",
   "nbconvert_exporter": "python",
   "pygments_lexer": "ipython3",
   "version": "3.12.5"
  },
  "vscode": {
   "interpreter": {
    "hash": "39db316db9761e257bdee1753ffe77075a3d1bd2d26cf1cdd7fab9938bfc2516"
   }
  }
 },
 "nbformat": 4,
 "nbformat_minor": 2
}
