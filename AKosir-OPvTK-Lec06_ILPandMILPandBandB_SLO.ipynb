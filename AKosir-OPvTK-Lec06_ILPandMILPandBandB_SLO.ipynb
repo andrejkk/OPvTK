{
 "cells": [
  {
   "cell_type": "markdown",
   "metadata": {
    "collapsed": true,
    "slideshow": {
     "slide_type": "slide"
    }
   },
   "source": [
    "<img style=\"float: center; width: 100%\" src=\"https://raw.githubusercontent.com/andrejkk/TalksImgs/master/FrontSlideUpperBan.png\">\n",
    "<p style=\"margin-bottom:2cm;\"></p>\n",
    "\n",
    "<center>\n",
    "    <H1> 6. Celoštevilsko (ILP), mešano programiranje (MILP) in Razveji in omeji (B in B) </H1>\n",
    "   \n",
    "\n",
    "\n",
    "<br><br>\n",
    "    <H3> Andrej Košir, Lucami, FE </H3>    \n",
    "    <H4> Kontakt: prof. dr. Andrej Košir, andrej.kosir@fe.uni-lj.si, ZOOM https://uni-lj-si.zoom.us/j/97654707084 </H4>\n",
    "</center>\n",
    "\n",
    "\n",
    "<p style=\"margin-bottom:2cm;\"></p>\n",
    "<div style=\"width:100%;text-align:right;font-weight:bold;font-size:1.2em;\"> 1 </div>\n",
    "<img src=\"https://raw.githubusercontent.com/andrejkk/ORvTK_SlidesImgs/master/footer_full.jpg\">"
   ]
  },
  {
   "cell_type": "markdown",
   "metadata": {
    "collapsed": true,
    "slideshow": {
     "slide_type": "slide"
    }
   },
   "source": [
    "<div style=\"display:flex;font-weight:bold;font-size:0.9em;\">\n",
    "<div style=\"flex:1;width:50%;\"> 6. Celoštevilsko (ILP), mešano programiranje (MILP) in Razveji in omeji (B in B)  </div>\n",
    "<div style=\"flex:1;width:50%;text-align:right;\"> Učni izidi </div>\n",
    "</div>\n",
    "\n",
    "\n",
    "\n",
    "## ■ Učni izidi\n",
    "\n",
    "- Prepoznati problem celoštevilskega in mešanega programiranja v praksi\n",
    "- Znati uporabiti programska orodja za reševanje problemov nelinearnega programiranja\n",
    "- Spoznati pomembne primere v IKT praksi\n",
    "\n",
    "\n",
    "<p style=\"margin-bottom:2cm;\"></p>\n",
    "<div style=\"width:100%;text-align:right;font-weight:bold;font-size:1.2em;\"> 2 </div>\n",
    "<img src=\"https://raw.githubusercontent.com/andrejkk/ORvTK_SlidesImgs/master/footer_full.jpg\">"
   ]
  },
  {
   "cell_type": "markdown",
   "metadata": {},
   "source": [
    "<div style=\"display:flex;font-weight:bold;font-size:0.9em;\">\n",
    "<div style=\"flex:1;width:50%;\"> 6. Celoštevilsko (ILP), mešano programiranje (MILP) in Razveji in omeji (B in B)  </div>\n",
    "<div style=\"flex:1;width:50%;text-align:right;\"> Umestitev </div>\n",
    "</div>\n",
    "\n",
    "## ■ Umestitev\n",
    "\n",
    "Postavitev realnega problema kot optimizacijske naloge lahko zahteva uvedbo celoštevilskih ali binarnih spremenljivk (npr. pripadnost množici ipd) in tedaj problem linearnega programiranja (LP) postane problem celoštevilskega programiranja (ILP). Če nekatere spremenljivke pri tem ostanejo realne, dobimo problem mešanega programiranja (MILP).\n",
    "\n",
    "Izkaže se, se da je reševanje problemov ILP in MILP bistveno zahtevnejše kot reševanje problema LP. Naivna rešitev, pri kateri uporabimo algoritem reševanja za LP in nato to rešitev zaokrožimo, je navadna napačno in navadno neuporabna. Zato potrebujemo drugačne metode. \n",
    "\n",
    "Izkaže se, da Simpleksnega algoritma za LP ni mogoče modificirati v algoritem za reševanje problemov ILP in MILP. Teorija unimodularnosti, ki razloži pogoje, pri katerih je mogoče simpleksni algoritem uporabiti za reševanje problema ILP. Žal so ti pogoji tako omejevalni, da je ta pristop v praksi navadno neuporaben. \n",
    "\n",
    "Posledično za reševanje problemov ILP in MILP potrebujemo povsem nove pristope. Ti so lahko specifični za posamezna področja. Splošnejši pristop je pristop Razveji in omeji (BB), ki je uporaben za te primere. \n",
    "\n",
    "Pristop BB je uporaben tudi za druge probleme in večkrat je edina učinkovita alternativa linearnemu programiranju. Izjema so problemi nelinearnega programiranja, ki temeljijo na izračunu gradienta kriterijske funkcije. \n",
    "\n",
    "\n",
    "\n",
    "\n",
    "\n",
    "<p style=\"margin-bottom:2cm;\"></p>\n",
    "<div style=\"width:100%;text-align:right;font-weight:bold;font-size:1.2em;\"> 2 </div>\n",
    "<img src=\"https://raw.githubusercontent.com/andrejkk/ORvTK_SlidesImgs/master/footer_full.jpg\">"
   ]
  },
  {
   "cell_type": "markdown",
   "metadata": {},
   "source": [
    "<div style=\"display:flex;font-weight:bold;font-size:0.9em;\">\n",
    "<div style=\"flex:1;width:50%;\"> 6. Celoštevilsko (ILP), mešano programiranje (MILP) in Razveji in omeji (B in B)  </div>\n",
    "<div style=\"flex:1;width:50%;text-align:right;\"> Uvod, cilji </div>\n",
    "</div>\n",
    "\n",
    "\n",
    "\n",
    "## ■ Uvod, cilj:\n",
    "\n",
    "\n",
    "- Angl. Integer linear programming (ILP)\n",
    "- Cilj\n",
    "    - Spoznati specifičnost celoštevilskega programiranja glede na LP\n",
    "    - Spoznati algoritmične posebnosti\n",
    "    - Primeri v TK\n",
    "\n",
    "\n",
    "- Naivna rešitev:\n",
    "    - Rešim problem LP za realna števila, nato zaokrožim;\n",
    "    - Narobe: ni optimalna, ni nujno dopustna!\n",
    "\n",
    "\n",
    "\n",
    "- Zakaj omejitev na cela števila\n",
    "    - Logične spremenljivke\n",
    "    - Pripadnost množici\n",
    "\n",
    "\n",
    "<p style=\"margin-bottom:2cm;\"></p>\n",
    "<div style=\"width:100%;text-align:right;font-weight:bold;font-size:1.2em;\"> 2 </div>\n",
    "<img src=\"https://raw.githubusercontent.com/andrejkk/ORvTK_SlidesImgs/master/footer_full.jpg\">"
   ]
  },
  {
   "cell_type": "markdown",
   "metadata": {
    "collapsed": true,
    "slideshow": {
     "slide_type": "slide"
    }
   },
   "source": [
    "<div style=\"display:flex;font-weight:bold;font-size:0.9em;\">\n",
    "<div style=\"flex:1;width:50%;\"> 6. Celoštevilsko (ILP), mešano programiranje (MILP) in Razveji in omeji (B in B)  </div>\n",
    "<div style=\"flex:1;width:50%;text-align:right;\"> Poglavja </div>\n",
    "</div>\n",
    "\n",
    "## ■ Poglavja\n",
    "\n",
    "\n",
    "6.1. Definicija, rešljivost, algoritem \n",
    "\n",
    "■ Definicija celoštevilskega in mešanega programiranja $\\large{*}$\n",
    "\n",
    "■ Teorija: popolna unimodularnost \n",
    "\n",
    "■ Algoritem za rešitev ILP\n",
    "\n",
    "\n",
    "\n",
    "6.2 Primeri uporabe IPL v TK\n",
    "\n",
    "■ Nekatere naloge ILP v TK $\\large{*}$\n",
    "\n",
    "■ Problem postavljanja cene storitve \n",
    "\n",
    "■ Problem optimizacije elastičnega optičnega omrežja\n",
    "\n",
    "\n",
    "6.3. Algoritem Razveji in omeji\n",
    "\n",
    "■ B&B: shema algoritmov\n",
    "\n",
    "■ B&B rešitev problema MILP\n",
    "\n",
    "\n",
    "\n",
    "<p style=\"margin-bottom:2cm;\"></p>\n",
    "<div style=\"width:100%;text-align:right;font-weight:bold;font-size:1.2em;\"> 3 </div>\n",
    "<img src=\"https://raw.githubusercontent.com/andrejkk/ORvTK_SlidesImgs/master/footer_full.jpg\">"
   ]
  },
  {
   "cell_type": "markdown",
   "metadata": {
    "collapsed": true,
    "slideshow": {
     "slide_type": "slide"
    }
   },
   "source": [
    "<div style=\"display:flex;font-weight:bold;font-size:0.9em;\">\n",
    "<div style=\"flex:1;width:50%;\"> 6. Celoštevilsko (ILP), mešano programiranje (MILP) in Razveji in omeji (B in B)  </div>\n",
    "<div style=\"flex:1;width:50%;text-align:right;\"> 6.1. Definicija, rešljivost, algoritem </div>\n",
    "</div>\n",
    "\n",
    "## ■ 6.1. Definicija, rešljivost, algoritem\n",
    "\n",
    "\n",
    "■ Definicija celoštevilskega in mešanega programiranja\n",
    "\n",
    "■ Teorija: popolna unimodularnost\n",
    "\n",
    "■ Algoritem za rešitev ILP\n",
    "\n",
    "\n",
    "\n",
    "<p style=\"margin-bottom:2cm;\"></p>\n",
    "<div style=\"width:100%;text-align:right;font-weight:bold;font-size:1.2em;\"> 4 </div>\n",
    "<img src=\"https://raw.githubusercontent.com/andrejkk/ORvTK_SlidesImgs/master/footer_full.jpg\">"
   ]
  },
  {
   "attachments": {},
   "cell_type": "markdown",
   "metadata": {
    "collapsed": true,
    "slideshow": {
     "slide_type": "slide"
    }
   },
   "source": [
    "<div style=\"display:flex;font-weight:bold;font-size:0.9em;\">\n",
    "<div style=\"flex:1;width:50%;\"> 6. Celoštevilsko (ILP), mešano programiranje (MILP) in Razveji in omeji (B in B)  </div>\n",
    "<div style=\"flex:1;width:50%;text-align:right;\"> 6.1. Definicija, rešljivost, algoritem </div>\n",
    "</div>\n",
    "\n",
    "## ■ Definicija celoštevilskega in mešanega programiranja\n",
    "\n",
    "- Definicija: le celoštevilske rešitve\n",
    "$$ \\begin{matrix}\n",
    " & & argmax_x w^\\top.x \\cr \n",
    " & s.t. & \\cr\n",
    " & & A.x \\leq b \\cr\n",
    " & & x\\in ℕ \n",
    "\\end{matrix} $$\n",
    "\n",
    "\n",
    "- Mešani primeri:\n",
    "    - Mešano celoštevilsko linearno programiranje\n",
    "    - Nič – ena linearno programiranje: spremenljivke so logične, navadno se nanašajo na vsebovanost v množici\n",
    "\n",
    "\n",
    "\n",
    "- Zakaj?\n",
    "    - Narava problemov\n",
    "\n",
    "\n",
    "<p style=\"margin-bottom:2cm;\"></p>\n",
    "<div style=\"width:100%;text-align:right;font-weight:bold;font-size:1.2em;\"> 5 </div>\n",
    "<img src=\"https://raw.githubusercontent.com/andrejkk/ORvTK_SlidesImgs/master/footer_full.jpg\">"
   ]
  },
  {
   "cell_type": "markdown",
   "metadata": {
    "collapsed": true,
    "slideshow": {
     "slide_type": "slide"
    }
   },
   "source": [
    "<div style=\"display:flex;font-weight:bold;font-size:0.9em;\">\n",
    "<div style=\"flex:1;width:50%;\"> 6. Celoštevilsko (ILP), mešano programiranje (MILP) in Razveji in omeji (B in B)  </div>\n",
    "<div style=\"flex:1;width:50%;text-align:right;\"> 6.1. Definicija, rešljivost, algoritem </div>\n",
    "</div>\n",
    "\n",
    "\n",
    "## ■ Teorija: popolna unimodularnost\n",
    "\n",
    "- Popolnoma unimodularna matrika $A$:\n",
    "    - Unimodularna matrika: celoštevilska, $\\det(A)=\\pm 1$. Ekvivalentno: matrika ima celoštevilski inverz;\n",
    "    - Popolnoma unimodularna matrika: vsaka nesingularna podmatrika je unimodularna. Vedno ima elemente $−1,0,1$.\n",
    "\n",
    "\n",
    "\n",
    "- Kako preverimo unimodularnost:\n",
    "    - Članek: K. Truemper. A decomposition theory for matroids. V. Testing of matrix total unimodularity, J. Comb. Theory, Ser. B 49, 241-281, 1990.\n",
    "    - Algoritem: $O((𝑛+𝑚)^5)$\n",
    "\n",
    "\n",
    "\n",
    "- Če je matrika A popolnoma unimodularna in je stolpec $b$ celoštevilski:\n",
    "    - Bazne dopustne rešitve so celoštevilske\n",
    "    - Simpleksni algoritem da celoštevilske rešitve \n",
    "\n",
    "\n",
    "\n",
    "<p style=\"margin-bottom:2cm;\"></p>\n",
    "<div style=\"width:100%;text-align:right;font-weight:bold;font-size:1.2em;\"> 6 </div>\n",
    "<img src=\"https://raw.githubusercontent.com/andrejkk/ORvTK_SlidesImgs/master/footer_full.jpg\">"
   ]
  },
  {
   "attachments": {},
   "cell_type": "markdown",
   "metadata": {
    "collapsed": true,
    "slideshow": {
     "slide_type": "slide"
    }
   },
   "source": [
    "<div style=\"display:flex;font-weight:bold;font-size:0.9em;\">\n",
    "<div style=\"flex:1;width:50%;\"> 6. Celoštevilsko (ILP), mešano programiranje (MILP) in Razveji in omeji (B in B)  </div>\n",
    "<div style=\"flex:1;width:50%;text-align:right;\"> 6.1. Definicija, rešljivost, algoritem </div>\n",
    "</div>\n",
    "\n",
    "\n",
    "## ■ Teorija: popolna unimodularnost (2)\n",
    "\n",
    "Popolna unimodularnost je zadosten, ne pa potreben pogoj. Glejte primere. \n",
    "\n",
    "\n",
    "#### Primer 1:\n",
    "\n",
    "$$ w = [2, 4, 3]^\\top, \\qquad\n",
    "A_1 = \\left[\\begin{matrix}\n",
    "    1  & -1  &  0 \\cr \n",
    "    -1 &  0  &  1 \\cr\n",
    "    1  &  1  & -1\n",
    "    \\end{matrix}\\right], \\qquad b = [3, 2, 4]^\\top $$\n",
    "\n",
    "- is $A_1$ unimodular? No.\n",
    "- is the solution intiger? Yes: $x^* = [12, 9, 17]$\n",
    "\n",
    "#### Primer 2:\n",
    "\n",
    "$$ w = [2, 4, 3]^\\top, \\qquad\n",
    "A_2 = \\left[\\begin{matrix}\n",
    "    1  & -1  &  0 \\cr \n",
    "    -1 &  1  &  1 \\cr\n",
    "    1  &  1  & -1\n",
    "    \\end{matrix}\\right], \\qquad b = [3, 2, 4]^\\top $$\n",
    "\n",
    "\n",
    "\n",
    "#### Primer 3:\n",
    "\n",
    "$$ w = [2, 4, 3]^\\top, \\qquad\n",
    "A_2 = \\left[\\begin{matrix}\n",
    "    1  & -1  &  0 \\cr \n",
    "    -1 &  1  &  1 \\cr\n",
    "    1  &  1  & -1\n",
    "    \\end{matrix}\\right], \\qquad b = [3.8, 2, 4]^\\top $$\n",
    "\n",
    "\n",
    "- Če zahtevamo $x\\in \\mathbb{N}$, obimo $x^* = [6, 3, 5]$\n",
    "- Torej zaokroževanje daje napačen rezultat: $round([6.8, 3, 5.8]) \\ne [6, 3, 5]$\n",
    "\n",
    "\n",
    "\n",
    "<p style=\"margin-bottom:2cm;\"></p>\n",
    "<div style=\"width:100%;text-align:right;font-weight:bold;font-size:1.2em;\"> 7 </div>\n",
    "<img src=\"https://raw.githubusercontent.com/andrejkk/ORvTK_SlidesImgs/master/footer_full.jpg\">"
   ]
  },
  {
   "attachments": {},
   "cell_type": "markdown",
   "metadata": {
    "collapsed": true,
    "slideshow": {
     "slide_type": "slide"
    }
   },
   "source": [
    "<div style=\"display:flex;font-weight:bold;font-size:0.9em;\">\n",
    "<div style=\"flex:1;width:50%;\"> 6. Celoštevilsko (ILP), mešano programiranje (MILP) in Razveji in omeji (B in B)  </div>\n",
    "<div style=\"flex:1;width:50%;text-align:right;\"> 6.1. Definicija, rešljivost, algoritem </div>\n",
    "</div>\n",
    "\n",
    "\n",
    "## ■ Algoritem za rešitev ILP\n",
    "\n",
    "- Prva izbira: razveji in omeji (ang. branch and bound)\n",
    "- Simpleksni algoritem za popolnoma unimodularne matrike A\n",
    "- Varinate, namenske za posebne primere – velika razdrobljenost reširev\n",
    "\n",
    "\n",
    "\n",
    "<p style=\"margin-bottom:2cm;\"></p>\n",
    "<div style=\"width:100%;text-align:right;font-weight:bold;font-size:1.2em;\"> 8 </div>\n",
    "<img src=\"https://raw.githubusercontent.com/andrejkk/ORvTK_SlidesImgs/master/footer_full.jpg\">"
   ]
  },
  {
   "attachments": {},
   "cell_type": "markdown",
   "metadata": {
    "collapsed": true,
    "slideshow": {
     "slide_type": "slide"
    }
   },
   "source": [
    "<div style=\"display:flex;font-weight:bold;font-size:0.9em;\">\n",
    "<div style=\"flex:1;width:50%;\"> 6. Celoštevilsko (ILP), mešano programiranje (MILP) in Razveji in omeji (B in B)  </div>\n",
    "<div style=\"flex:1;width:50%;text-align:right;\"> 6.2 Primeri uporabe ILP v TK </div>\n",
    "</div>\n",
    "\n",
    "\n",
    "## 6.2 Primeri uporabe IPL v TK\n",
    "\n",
    "\n",
    "■ Problem postavljanja cene storitve (ločen zvezek)\n",
    "\n",
    "■ Problem optimizacije elastičnega optičnega omrežja (ločen zvezek)\n",
    "\n",
    "\n",
    "\n",
    "<p style=\"margin-bottom:2cm;\"></p>\n",
    "<div style=\"width:100%;text-align:right;font-weight:bold;font-size:1.2em;\"> 9 </div>\n",
    "<img src=\"https://raw.githubusercontent.com/andrejkk/ORvTK_SlidesImgs/master/footer_full.jpg\">"
   ]
  },
  {
   "attachments": {},
   "cell_type": "markdown",
   "metadata": {
    "collapsed": true,
    "slideshow": {
     "slide_type": "slide"
    }
   },
   "source": [
    "<div style=\"display:flex;font-weight:bold;font-size:0.9em;\">\n",
    "<div style=\"flex:1;width:50%;\"> 6. Celoštevilsko (ILP), mešano programiranje (MILP) in Razveji in omeji (B in B)  </div>\n",
    "<div style=\"flex:1;width:50%;text-align:right;\"> 6.3. Algoritem Razveji in omeji </div>\n",
    "</div>\n",
    "\n",
    "\n",
    "## 6.3. Algoritem Razveji in omeji\n",
    "\n",
    "■ B&B: shema algoritmov\n",
    "\n",
    "■ B&B rešitev problema MILP\n",
    "\n",
    "\n",
    "\n",
    "<p style=\"margin-bottom:2cm;\"></p>\n",
    "<div style=\"width:100%;text-align:right;font-weight:bold;font-size:1.2em;\"> 10 </div>\n",
    "<img src=\"https://raw.githubusercontent.com/andrejkk/ORvTK_SlidesImgs/master/footer_full.jpg\">"
   ]
  },
  {
   "attachments": {},
   "cell_type": "markdown",
   "metadata": {
    "collapsed": true,
    "slideshow": {
     "slide_type": "slide"
    }
   },
   "source": [
    "<div style=\"display:flex;font-weight:bold;font-size:0.9em;\">\n",
    "<div style=\"flex:1;width:50%;\"> 6. Celoštevilsko (ILP), mešano programiranje (MILP) in Razveji in omeji (B in B)  </div>\n",
    "<div style=\"flex:1;width:50%;text-align:right;\"> 6.3. Algoritem Razveji in omeji </div>\n",
    "</div>\n",
    "\n",
    "\n",
    "## ■ B&B: shema algoritmov\n",
    "\n",
    "\n",
    "- ne gre za dokončan algoritem, gre za zgornji nivo, ki ga je potrebno dodelat za vsak primer\n",
    "\n",
    "#### Koraki:\n",
    "\n",
    "Za optimizacijsko nalogo $OpT = (\\Omega, \\Phi, c, F)$\n",
    "\n",
    "1. Naložite optimizacijski problem $OpT$\n",
    "2. Določite spodnjo mejo $L = l(OpT)$ in zgornjo mejo $U = u(OpT)$\n",
    "3. Razvejite optimizacijski problem $OpT = OpT1 + OpT2$\n",
    "4. Določite spodnji meji $l(OpT1)$, $l(OpT2)$ in zgornji meji $u(OpT1)$ in $u(OpT2)$\n",
    "5. Posodobite spodnji in zgornji meji\n",
    "     - posodobite spodnjo mejo: $L = \\min(l(OpT1), l(OpT2))$ \n",
    "     - posodobite zgornjo mejo: $U = \\max(u(OpT1), u(OpT2))$\n",
    "     - če $U_2 - L_2 < \\varepsilon$, zaključite\n",
    "6. Pojdite na korak 3. z $OpT1$ in z $OpT2$ ločeno. \n",
    "\n",
    "\n",
    "<p style=\"margin-bottom:2cm;\"></p>\n",
    "<div style=\"width:100%;text-align:right;font-weight:bold;font-size:1.2em;\"> 11 </div>\n",
    "<img src=\"https://raw.githubusercontent.com/andrejkk/ORvTK_SlidesImgs/master/footer_full.jpg\">"
   ]
  },
  {
   "cell_type": "code",
   "execution_count": null,
   "metadata": {},
   "outputs": [],
   "source": [
    "# A simple implementation of B&B: project pybnb \n",
    "#  https://pypi.org/project/pybnb/\n",
    "\n",
    "# Required installs\n",
    "#  pip install pybnb\n",
    "#  pip install mpi4py\n",
    "\n",
    "\n",
    "import pybnb\n",
    "\n",
    "class Simple(pybnb.Problem):\n",
    "    def __init__(self):\n",
    "        self.bounds = [0.0,1.0]\n",
    "    def sense(self):\n",
    "        return pybnb.minimize\n",
    "    def objective(self):\n",
    "        return round(self.bounds[1] - self.bounds[0], 3)\n",
    "    def bound(self):\n",
    "        return -(self.bounds[1] - self.bounds[0])**2\n",
    "    def save_state(self, node):\n",
    "        node.state = self.bounds\n",
    "    def load_state(self, node):\n",
    "        self.bounds = node.state\n",
    "    def branch(self):\n",
    "        L, U = self.bounds\n",
    "        mid = 0.5 * (L + U)\n",
    "        for l,u in [(L,mid), (mid,U)]:\n",
    "            child = pybnb.Node()\n",
    "            child.state = (l,u)\n",
    "            yield child"
   ]
  },
  {
   "cell_type": "code",
   "execution_count": null,
   "metadata": {},
   "outputs": [
    {
     "name": "stdout",
     "output_type": "stream",
     "text": [
      "\n",
      "Using non-default solver options:\n",
      " - absolute_gap: 1e-09 (default: 0)\n",
      "\n",
      "Starting branch & bound solve:\n",
      " - dispatcher pid: 9292 (DESKTOP-N1K5F8O)\n",
      " - worker processes: 1\n",
      "---------------------------------------------------------------------------------------------------------------------------\n",
      "         Nodes        |                      Objective Bounds                        |              Work              \n",
      "      Expl    Unexpl  |      Incumbent           Bound    Rel. Gap          Abs. Gap | Time (s)  Nodes/Sec Imbalance   Idle\n",
      "         0         1  |            inf            -inf         inf%              inf |      0.0       0.00     0.00%      0\n",
      "*        1         2  |              1              -1  200.000000%                2 |      0.0     498.25     0.00%      0\n",
      "*        2         3  |            0.5              -1  150.000000%              1.5 |      0.0     957.49     0.00%      0\n",
      "*        4         5  |           0.25           -0.25   50.000000%              0.5 |      0.0     957.49     0.00%      0\n",
      "*        8         9  |          0.125         -0.0625   18.750000%           0.1875 |      0.0    3449.80     0.00%      0\n",
      "      Expl    Unexpl  |      Incumbent           Bound    Rel. Gap          Abs. Gap | Time (s)  Nodes/Sec Imbalance   Idle\n",
      "*       16        17  |          0.062       -0.015625    7.762500%         0.077625 |      0.0    7467.45     0.00%      0\n",
      "*       32        33  |          0.031     -0.00390625    3.490625%       0.03490625 |      0.0    4100.83     0.00%      0\n",
      "*       64        65  |          0.016   -0.0009765625    1.697656%     0.0169765625 |      0.0   13929.55     0.00%      0\n",
      "*      128       129  |          0.008   -0.0002441406    0.824414%   0.008244140625 |      0.0   30168.25     0.00%      0\n",
      "*      256       257  |          0.004   -6.103516e-05    0.406104%  0.0040610351563 |      0.0   21636.12     0.00%      0\n",
      "      Expl    Unexpl  |      Incumbent           Bound    Rel. Gap          Abs. Gap | Time (s)  Nodes/Sec Imbalance   Idle\n",
      "*      512       513  |          0.002   -1.525879e-05    0.201526%  0.0020152587891 |      0.0   16165.67     0.00%      0\n",
      "*     1024      1025  |          0.001   -3.814697e-06    0.100381%  0.0010038146973 |      0.1   16030.76     0.00%      0\n",
      "*     2048      2049  |              0   -9.536743e-07    0.000095% 9.5367431641e-07 |      0.1   27725.41     0.00%      0\n",
      "     50752     14783  |              0    -3.72529e-09    0.000000% 3.7252902985e-09 |      1.1   46329.96     0.00%      0\n",
      "     65535         0  |              0   -9.313226e-10    0.000000% 9.3132257462e-10 |      1.3   77978.43     0.00%      0\n",
      "---------------------------------------------------------------------------------------------------------------------------\n",
      "\n",
      "Absolute optimality tolerance met\n",
      "Optimal solution found!\n",
      "\n",
      "solver results:\n",
      " - solution_status: optimal\n",
      " - termination_condition: optimality\n",
      " - objective: 0\n",
      " - bound: -9.313226e-10\n",
      " - absolute_gap: 9.313226e-10\n",
      " - relative_gap: 9.313226e-10\n",
      " - nodes: 65535\n",
      " - wall_time: 1.30 s\n",
      " - best_node: Node(objective=0)\n",
      "\n",
      "Number of Workers:        1\n",
      "Load Imbalance:       0.00%\n",
      " - min: 65535 (proc rank=0)\n",
      " - max: 65535 (proc rank=0)\n",
      "Average Worker Timing:\n",
      " - queue:      48.04% [avg time:   9.6 us, count: 65535]\n",
      " - load_state:  1.95% [avg time: 387.5 ns, count: 65535]\n",
      " - bound:       2.78% [avg time: 554.1 ns, count: 65535]\n",
      " - objective:   2.70% [avg time:   1.1 us, count: 32767]\n",
      " - branch:      8.73% [avg time:   3.5 us, count: 32767]\n",
      " - other:      35.79% [avg time:   7.1 us, count: 65535]\n",
      "\n"
     ]
    }
   ],
   "source": [
    "problem = Simple()\n",
    "results = pybnb.solve(problem,\n",
    "                      absolute_gap=1e-9)"
   ]
  },
  {
   "cell_type": "code",
   "execution_count": 3,
   "metadata": {},
   "outputs": [
    {
     "data": {
      "text/plain": [
       "-9.313225746154785e-10"
      ]
     },
     "execution_count": 3,
     "metadata": {},
     "output_type": "execute_result"
    }
   ],
   "source": [
    "results.bound"
   ]
  },
  {
   "attachments": {},
   "cell_type": "markdown",
   "metadata": {
    "collapsed": true,
    "slideshow": {
     "slide_type": "slide"
    }
   },
   "source": [
    "<div style=\"display:flex;font-weight:bold;font-size:0.9em;\">\n",
    "<div style=\"flex:1;width:50%;\"> 6. Celoštevilsko (ILP), mešano programiranje (MILP) in Razveji in omeji (B in B)  </div>\n",
    "<div style=\"flex:1;width:50%;text-align:right;\"> 6.3. Algoritem Razveji in omeji </div>\n",
    "</div>\n",
    "\n",
    "\n",
    "## ■ B&B rešitev problema MILP\n",
    "\n",
    "- preučimo primer: \n",
    "\n",
    "$$ \\begin{matrix}\n",
    " & & argmax_x 2 x_1 + x_2 \\cr \n",
    " & s.t. & \\cr\n",
    " & & 5 x_1 + 2 x_2  \\leq 8  \\cr\n",
    " & & x_1 + x_2  \\leq 3  \\cr\n",
    " & & x_1, x_2 \\geq 0  \\cr\n",
    " & & x_1 \\in N \n",
    " \\end{matrix} \n",
    " $$\n",
    " \n",
    "\n",
    "\n",
    "#### Koraki:\n",
    "1. Nalogo rešimo za realna števila: $x^* = [2/3, 7/3] $\n",
    "2. Izberite spremenljivko, na katero razvejimo: $x_1$, in določite podprobleme\n",
    "     - $x_1 \\leq 0$: rešitev je $x^* = [0, 3]$\n",
    "     - $x_1 \\geq 1$: rešitev je $x^* = [1, 3/2]$\n",
    "3. Omejimo in odvržemo?\n",
    "4. Vrnite se na korak 1. z nalogami, ki niso odvržene. \n",
    "\n",
    "\n",
    "\n",
    "\n",
    "<p style=\"margin-bottom:2cm;\"></p>\n",
    "<div style=\"width:100%;text-align:right;font-weight:bold;font-size:1.2em;\"> 12 </div>\n",
    "<img src=\"https://raw.githubusercontent.com/andrejkk/ORvTK_SlidesImgs/master/footer_full.jpg\">"
   ]
  },
  {
   "attachments": {},
   "cell_type": "markdown",
   "metadata": {
    "collapsed": true,
    "slideshow": {
     "slide_type": "slide"
    }
   },
   "source": [
    "<div style=\"display:flex;font-weight:bold;font-size:0.9em;\">\n",
    "<div style=\"flex:1;width:50%;\"> 6. Celoštevilsko (ILP), mešano programiranje (MILP) in Razveji in omeji (B in B)  </div>\n",
    "<div style=\"flex:1;width:50%;text-align:right;\"> 6.2 Primeri uporabe IPL v TK </div>\n",
    "</div>\n",
    "\n",
    "\n",
    "## ■ Zaključek\n",
    "\n",
    "- ILP:\n",
    "    - Ko imamo pripadnost množicam in logične spremnljivke\n",
    "    - Realni problemi so navadno ILP in ne LP\n",
    "\n",
    "\n",
    "\n",
    "\n",
    "\n",
    "\n",
    "<p style=\"margin-bottom:2cm;\"></p>\n",
    "<div style=\"width:100%;text-align:right;font-weight:bold;font-size:1.2em;\"> 13 </div>\n",
    "<img src=\"https://raw.githubusercontent.com/andrejkk/ORvTK_SlidesImgs/master/footer_full.jpg\">"
   ]
  },
  {
   "cell_type": "markdown",
   "metadata": {},
   "source": []
  }
 ],
 "metadata": {
  "celltoolbar": "Slideshow",
  "kernelspec": {
   "display_name": "Python 3",
   "language": "python",
   "name": "python3"
  },
  "language_info": {
   "codemirror_mode": {
    "name": "ipython",
    "version": 3
   },
   "file_extension": ".py",
   "mimetype": "text/x-python",
   "name": "python",
   "nbconvert_exporter": "python",
   "pygments_lexer": "ipython3",
   "version": "3.10.5"
  },
  "vscode": {
   "interpreter": {
    "hash": "66d245bc0aa345411577de3f292b9e6a6906f0558af2a59212c3c2455e5d14f2"
   }
  }
 },
 "nbformat": 4,
 "nbformat_minor": 2
}
