{
  "cells": [
    {
      "metadata": {
        "collapsed": true,
        "slideshow": {
          "slide_type": "slide"
        }
      },
      "cell_type": "markdown",
      "source": "<img style=\"float: center; width: 100%\" src=\"https://raw.githubusercontent.com/andrejkk/TalksImgs/master/FrontSlideUpperBan.png\">\n<p style=\"margin-bottom:2cm;\"></p>\n\n<center>\n    <H1> 11. Teorija in uporaba čakalnih vrst </H1>\n   \n\n\n<br><br>\n    <H3> Andrej Košir, Lucami, FE </H4>\n    \n    <H4> Kontakt: prof. dr. Andrej Košir, andrej.kosir@lucami.fe.uni-lj.si, skype=akosir_sid </H4>\n</center>\n\n\n<p style=\"margin-bottom:2cm;\"></p>\n<div style=\"width:100%;text-align:right;font-weight:bold;font-size:1.2em;\"> 1 </div>\n<img src=\"https://raw.githubusercontent.com/andrejkk/ORvTK_SlidesImgs/master/footer_full.jpg\">"
    },
    {
      "metadata": {
        "collapsed": true,
        "slideshow": {
          "slide_type": "slide"
        }
      },
      "cell_type": "markdown",
      "source": "## Vsebina, cilji\n\n\n- Cilji:\n    - Spoznati kaj so čakalne vrste\n    - Kendallov opis čakalnih vrst – čakalne vrste in servisiranje\n    - Osnovni rezultati analize\n\n\n- Uporaba v TK\n    - Čakalna vrsta je model za predpomnilnik, ki je del prenosa podatkov na vseh nivojih sklada\n    - Upravljanje čakalnih vrst uporabnikov: interaktivne storitve\n    - Upravljanje učinkovitih uporabniških vmesnikov\n\n\n- Uporaba širše\n    - Modeli računalniških arhitektur (HD, procesor, ...)\n    - Promet\n    - Javne storitve (npr. zdravstvo)\n\n\n\n<p style=\"margin-bottom:2cm;\"></p>\n<div style=\"width:100%;text-align:right;font-weight:bold;font-size:1.2em;\"> 2 </div>\n<img src=\"https://raw.githubusercontent.com/andrejkk/ORvTK_SlidesImgs/master/footer_full.jpg\">"
    },
    {
      "metadata": {
        "collapsed": true,
        "slideshow": {
          "slide_type": "slide"
        }
      },
      "cell_type": "markdown",
      "source": "## ■ Poglavja\n\n\n\n11.1. Uvod v čakalne vrste\n\n■ Kaj je teorija čakalnih vrst\n\n■ Zgodovina\n\n■ Kje v TK nastopajo čakalne vrste\n\n■ O pomembnih verjetnostnih porazdelitvah\n\n\n\n11.2. Model in Kendallov opis čakalne vrste\n\n■ Model sistema z eno čakalno vrsto $\\large{*}$\n\n■ Sosledje dogodkov v čakalnem sistemu\n\n■ Standardni opis sistema: Kendallov opis $\\large{*}$\n\n■ Kendallov opis večih čakalnih vrst\n\n■ Porazdelitev časov prihodov in strežbe $\\large{*}$\n\n■ Vrstni red strežbe\n\n■ Pomembni primeri čakalnih sistemov \n\n■ Analiza M/M/1 $\\large{*}$\n\n■ Primer M/M/1: prenos paketnih podatkov\n\n■ Primer M/M/1: spletni strežnik\n\n■ Čakalni sistem M/G/1\n\n■ Kako izbrati model čakalnega sistema v realnem primeru? $\\large{*}$\n\n\n\n11.3. Algoritmi strežniških sistemov\n\n■ Algoritmi za optimalno strežbo več čakalnih vrst\n\n■ Primer: algoritem Weighted Round Robin $\\large{*}$\n\n■ Algoritmi za upravljanje čakalnih vrst\n\n■ Primer: algoritem Random early detection $\\large{*}$\n\n<p style=\"margin-bottom:2cm;\"></p>\n<div style=\"width:100%;text-align:right;font-weight:bold;font-size:1.2em;\"> 3 </div>\n<img src=\"https://raw.githubusercontent.com/andrejkk/ORvTK_SlidesImgs/master/footer_full.jpg\">"
    },
    {
      "metadata": {
        "collapsed": true,
        "slideshow": {
          "slide_type": "slide"
        }
      },
      "cell_type": "markdown",
      "source": "## ■ Kaj je teorija čakalnih vrst\n\n\n- Opisi z različnih vidikov:\n    - TK: angl. „We study the phenomena of standing, waiting, and serving, and we call this study Queueing Theory“;\n    - Sistemi: angl. „The basic phenomenon of queueing arises whenever a shared facility needs to be accessed for service by a large number of jobs or customers“;\n    - Matematika – teorija verjetnosti: angl. „The study of the waiting times, lengths, and other properties of queues.“\n\n\n- Potrebujemo osnovne pripomočke za opis realnega stanja z namenom optimalnega upravljanja – ponastavitev\n    - Matematični model\n    - Določanje parametrov $\\to$ konfiguracij realnih sistemov\n\n\n\n<p style=\"margin-bottom:2cm;\"></p>\n<div style=\"width:100%;text-align:right;font-weight:bold;font-size:1.2em;\"> 4 </div>\n<img src=\"https://raw.githubusercontent.com/andrejkk/ORvTK_SlidesImgs/master/footer_full.jpg\">"
    },
    {
      "metadata": {
        "collapsed": true,
        "slideshow": {
          "slide_type": "slide"
        }
      },
      "cell_type": "markdown",
      "source": "## ■ Zgodovina\n\n\n- 1909: A. K. Erlang: telefonija\n- 1920: G.F. O'Dell: \n- 1920: T. Fry:\n- 1927: Edward Charles Molina:\n- 1930: Felix Pollaczek: \n- 1931: Andrey Kolmogorov\n- 1932: Alexander Khinchin \n- 1932: C.D. Crommelin\n- 1951: David G. Kendall: Članek \"Some Problems in the Theory of Queues\n- 1961: John Little: Pričakovani časi strežbe\n- 1981: Marcel Netus: matrične metode\n\n\n<p style=\"margin-bottom:2cm;\"></p>\n<div style=\"width:100%;text-align:right;font-weight:bold;font-size:1.2em;\"> 5 </div>\n<img src=\"https://raw.githubusercontent.com/andrejkk/ORvTK_SlidesImgs/master/footer_full.jpg\">"
    },
    {
      "metadata": {
        "collapsed": true,
        "slideshow": {
          "slide_type": "slide"
        }
      },
      "cell_type": "markdown",
      "source": "## ■ Kje v TK nastopajo čakalne vrste\n\n\n- Omrežje je množica s komunikacijskimi kanali povezanih (realnih in virtualnih) čakalnih vrst\n- S teorijo čakalnih vrst:\n    - Ocenimo pričakov čas čakanja\n    - Zahtevano velikost predpomnilnikov\n    - Stanje predpomnilnikov po dolgem času\n    - Verjetnost izgube paketov\n    - Notranji mehanizmi protokolov: RED, ...\n    - Ocena zmogljivosti celotnega komunikacijskega sistema\n\n\n- Izrazoslovje:\n    - Paket (ang. packet)= IP paket, stranka, „job“\n    - Vrsta (ang. Queue)\n    - Čakalni sistem (ang. Queueing system)\n\n\n\n<p style=\"margin-bottom:2cm;\"></p>\n<div style=\"width:100%;text-align:right;font-weight:bold;font-size:1.2em;\"> 6 </div>\n<img src=\"https://raw.githubusercontent.com/andrejkk/ORvTK_SlidesImgs/master/footer_full.jpg\">"
    },
    {
      "metadata": {
        "collapsed": true,
        "slideshow": {
          "slide_type": "slide"
        }
      },
      "cell_type": "markdown",
      "source": "## ■ O pomembnih verjetnostnih porazdelitvah\n\n\n- Poissonova porazdelitev:\n    - Število paketov na časovnem intervalu pri danih povprečnih prihodih $\\lambda$\n    - Porazdelitev: \n    $$ p(k; \\lambda) = \\frac{\\lambda^k}{k!} e^{-\\lambda} $$\n\n- Exponentna porazdelitev:\n    - Tedaj so časi med prihodi eksponentni\n    - Gostota por.: \n    $$ p(t; \\lambda) = \\left\\{\\matrix{\\lambda e^{-\\lambda t}, & t \\geq 0 \\cr\n 0, \\hfill & t < 0.}\\right. $$\n\n\n- Erlangova porazdelitve:\n    - Porazdelitev časov strežb za $k$ zaporednih strežnikov, če je $R=k\\lambda$;\n    - Gostota por.: \n    $$ p(t; k, R) = \\left\\{\\matrix{\\frac{R(R t)^{k-1}}{(k-1)!} e^{-R t}, & t \\geq 0 \\cr\n 0, \\hfill & t < 0.}\\right. $$\n\n\n<img style=\"float: right; width: 300px; margin: 0px 20px 20px 0px;\" src=\"https://raw.githubusercontent.com/andrejkk/ORvTK_SlidesImgs/master/Queuing_ExpDistr.png\">\n\n\n<p style=\"margin-bottom:8cm;\"></p>\n<div style=\"width:100%;text-align:right;font-weight:bold;font-size:1.2em;\"> 7 </div>\n<img src=\"https://raw.githubusercontent.com/andrejkk/ORvTK_SlidesImgs/master/footer_full.jpg\">"
    },
    {
      "metadata": {
        "collapsed": true,
        "slideshow": {
          "slide_type": "slide"
        }
      },
      "cell_type": "markdown",
      "source": "## 11.2. Model in Kendallov opis čakalne vrste\n\n\n■ Model sistema z eno čakalno vrsto\n\n■ Sosledje dogodkov v čakalnem sistemu\n\n■ Standardni opis sistema: Kendallov opis\n\n■ Kendallov opis večih čakalnih vrst\n\n■ Porazdelitev časov prihodov in strežbe\n\n■ Vrstni red strežbe\n\n■ Pomembni primeri čakalnih sistemov\n\n■ Analiza M/M/1\n\n■ Primer M/M/1: prenos paketnih podatkov\n\n■ Primer M/M/1: spletni strežnik\n\n■ Čakalni sistem M/G/1\n\n■ Kako izbrati model čakalnega sistema v realnem primeru?\n\n\n\n<p style=\"margin-bottom:2cm;\"></p>\n<div style=\"width:100%;text-align:right;font-weight:bold;font-size:1.2em;\"> 8 </div>\n<img src=\"https://raw.githubusercontent.com/andrejkk/ORvTK_SlidesImgs/master/footer_full.jpg\">"
    },
    {
      "metadata": {
        "collapsed": true,
        "slideshow": {
          "slide_type": "slide"
        }
      },
      "cell_type": "markdown",
      "source": "## ■ Model sistema z eno čakalno vrsto\n\n\n<br><br>\n\n<img style=\"float: right; width: 400px; margin: 0px 20px 20px 0px;\" src=\"https://raw.githubusercontent.com/andrejkk/ORvTK_SlidesImgs/master/Queuing_QueueingSystemSingle.png\">\n\n\n<p style=\"margin-bottom:5cm;\"></p>\n<div style=\"width:100%;text-align:right;font-weight:bold;font-size:1.2em;\"> 9 </div>\n<img src=\"https://raw.githubusercontent.com/andrejkk/ORvTK_SlidesImgs/master/footer_full.jpg\">"
    },
    {
      "metadata": {
        "collapsed": true,
        "slideshow": {
          "slide_type": "slide"
        }
      },
      "cell_type": "markdown",
      "source": "## ■ Sosledje dogodkov v čakalnem sistemu\n\n\n<br><br>\n\n<img style=\"float: right; width: 500px; margin: 0px 20px 20px 0px;\" src=\"https://raw.githubusercontent.com/andrejkk/ORvTK_SlidesImgs/master/Queuing_EventSchedule.png\">\n\n\n\n<p style=\"margin-bottom:2cm;\"></p>\n<div style=\"width:100%;text-align:right;font-weight:bold;font-size:1.2em;\"> 10 </div>\n<img src=\"https://raw.githubusercontent.com/andrejkk/ORvTK_SlidesImgs/master/footer_full.jpg\">"
    },
    {
      "metadata": {
        "collapsed": true,
        "slideshow": {
          "slide_type": "slide"
        }
      },
      "cell_type": "markdown",
      "source": "## ■ Standardni opis sistema: Kendallov opis\n\n\n- Zapis A/B/C(/D/E/F)\n    - A: Porazdelitev časov prihodov;\n    - B: Porazdelitev časov strežbe;\n    - C: Število strežnikov (mest za strežbo)\n    - D: Celotna kapaciteta sistema (spomina) (∞ če ni podano)\n    - E: Velikost populacije (∞ če ni podano)\n    - F: Vrstni red strežbe (FCFS če ni podano)\n    \n\n- D, F, E navadno ni podano\n\n\n\n<img style=\"float: right; width: 300px; margin: 0px 20px 20px 0px;\" src=\"https://raw.githubusercontent.com/andrejkk/ORvTK_SlidesImgs/master/Queuing_QueuingMutipleServs.png\">\n\n\n<p style=\"margin-bottom:6cm;\"></p>\n<div style=\"width:100%;text-align:right;font-weight:bold;font-size:1.2em;\"> 11 </div>\n<img src=\"https://raw.githubusercontent.com/andrejkk/ORvTK_SlidesImgs/master/footer_full.jpg\">"
    },
    {
      "metadata": {
        "collapsed": true,
        "slideshow": {
          "slide_type": "slide"
        }
      },
      "cell_type": "markdown",
      "source": "## ■ Kendallov opis večih čakalnih vrst\n\n\n- Več čakalnih vrst v več strežnikov?\n- Posplošitev teorije, zapišemo npr. 5 A/B/C(/D/E/F)\n    - Zapletena teorija, izpustimo\n    - Glavne ugotovitve držijo s področja ene čakalne vrste\n\n\n<img style=\"float: right; width: 300px; margin: 0px 20px 20px 0px;\" src=\"https://raw.githubusercontent.com/andrejkk/ORvTK_SlidesImgs/master/Queuing_QueuingMultipleQuServs.png\">\n\n\n\n<p style=\"margin-bottom:6cm;\"></p>\n<div style=\"width:100%;text-align:right;font-weight:bold;font-size:1.2em;\"> 12 </div>\n<img src=\"https://raw.githubusercontent.com/andrejkk/ORvTK_SlidesImgs/master/footer_full.jpg\">"
    },
    {
      "metadata": {
        "collapsed": true,
        "slideshow": {
          "slide_type": "slide"
        }
      },
      "cell_type": "markdown",
      "source": "## ■ Porazdelitev časov prihodov in strežbe\n\n\n- Porazdeliev časov prihodov (porazdelitve se nanašajo na čase, ne na število paketov):\n    - $D$: deterministična\n    - $M$: Eksponentna porazdelitev (Poissonov promet)\n    - $E_k$: Erlang s k fazami (k strežnikov zaporedno)\n    - $H_k$: hipereksponentna tipa k (k strežnikov vzporedno)\n    - $Gl$: splošna neodvisna (neznana ali različna od zgornjih)\n\n\n- Porazdeliev časov strežbe\n    - $D$: deterministična\n    - $N$: normalna (Gaussova)\n    - $M$: Eksponentna porazdelitev\n    - $E_k$: Erlang s k fazami (k strežnikov zaporedno)\n    - $H_k$: hipereksponentna tipa k (k strežnikov vzporedno)\n    - $Gl$: splošna neodvisna (neznana ali različna od zgornjih)\n\n##### Opombe: \n- ti modeli so poenostavitve realnih sistemov, ki so v osnovi bolj kompleksni, vendarle so dobljeni rezultati analize uporabni v praksi;\n- ti modeli ne upoštevajo morebitne samopodobnosti prometa;\n \n\n<p style=\"margin-bottom:2cm;\"></p>\n<div style=\"width:100%;text-align:right;font-weight:bold;font-size:1.2em;\"> 13 </div>\n<img src=\"https://raw.githubusercontent.com/andrejkk/ORvTK_SlidesImgs/master/footer_full.jpg\">"
    },
    {
      "metadata": {
        "collapsed": true,
        "slideshow": {
          "slide_type": "slide"
        }
      },
      "cell_type": "markdown",
      "source": "## ■ Vrstni red strežbe\n\n\n- FIFO (ang. First In - First Out): po vrstnem redu prihodov\n- LIFO (ang. (Last In – First Out): prvi so zadnji\n- SIRO (ang. Service In Random Order): naključni ven\n- TS (ang. time sharing): uporabniki si delijo čas\n- PIR (ang. Priority in selection): prioritete glede na dogovore s strankami (ang. Service level agreement, SLA)\n- GD (ang. general) splošna - to je neznana;\n\n\n\n<p style=\"margin-bottom:2cm;\"></p>\n<div style=\"width:100%;text-align:right;font-weight:bold;font-size:1.2em;\"> 14 </div>\n<img src=\"https://raw.githubusercontent.com/andrejkk/ORvTK_SlidesImgs/master/footer_full.jpg\">"
    },
    {
      "metadata": {
        "collapsed": true,
        "slideshow": {
          "slide_type": "slide"
        }
      },
      "cell_type": "markdown",
      "source": "## ■ Pomembni primeri čakalnih sistemov\n\n\n- M/M/1: najpreprostejši realen primer (uporaben tudi za spletni strežnik)\n    - Poissonova porazdelitev paketov\n    - Eksponentna porazdelitev strežbe\n    - En sam strežnik\n\n\n- M/D/m: klasična telefonija\n    - Poissonova porazdelitev paketov\n    - Determični časi strežbe\n    - m strežnikov\n\n\n- M/G/1: trdi disk\n\n\n- G/G/m: realen spletni strežnik:\n    - Potreben je model „omrežja čakalnih vrst“\n    - Parametri modela: Network Arrival Rate (A), Average File Size (F), Buffer Size (B),  Initialization Time (I), Static Server Time (Y), Dynamic Server Rate (R), Server Network Bandwidth (S), Client Network Bandwidth (C)\n\n#### Opomba: \n\nKompleksnih realnih sistemov ne opisujemo z matematičnimi modeli, ampak jih simuliramo s simulatorji in na tak način pridobimo rezultate.\n\n<p style=\"margin-bottom:2cm;\"></p>\n<div style=\"width:100%;text-align:right;font-weight:bold;font-size:1.2em;\"> 15 </div>\n<img src=\"https://raw.githubusercontent.com/andrejkk/ORvTK_SlidesImgs/master/footer_full.jpg\">"
    },
    {
      "metadata": {
        "collapsed": true,
        "slideshow": {
          "slide_type": "slide"
        }
      },
      "cell_type": "markdown",
      "source": "## ■ Analiza M/M/1   (1)\n\n- Poznamo (izmerimo):\n    - $\\lambda$: povprečno število prispelih paketov na dano časovno enoto\n    - $\\mu$: povprečno število strežb na dano časovno enoto\n    - $N$: velikost čakalne vrste (če je znano)\n\n\n- Iščemo:\n    - $L$: Pričakovano število paketov v sistemu\n    - $L_q$: Pričakovano število paketov v čakalni vrsti\n    - $W$: Pričakovan čakalni čas v sistemu\n    - $W_q$: Pričakovan čakalni čas v čakalni vrsti\n    - $P_n$: verjetnost, da je v sistemu 𝑛 paketov\n    - $P(\\#p>n)$: verjetnost, da je število paketov v sistemu več kot 𝑛\n    - $N$: potrebna dolžina vrste, da je verjetnost odmeta manj od $p_0$ \n\n\n\n<p style=\"margin-bottom:2cm;\"></p>\n<div style=\"width:100%;text-align:right;font-weight:bold;font-size:1.2em;\"> 16 </div>\n<img src=\"https://raw.githubusercontent.com/andrejkk/ORvTK_SlidesImgs/master/footer_full.jpg\">"
    },
    {
      "metadata": {
        "collapsed": true,
        "slideshow": {
          "slide_type": "slide"
        }
      },
      "cell_type": "markdown",
      "source": "## ■ Analiza M/M/1   (2)\n\n\n- Rešitev:\n    - Definiramo izkoriščenost (ang. utility): \n    $$ \\rho=\\frac{\\lambda}{\\mu} $$ \n    - Z Markovskimi verigami izpeljemo:\n    $$ \\matrix{\n    L_q &=& \\frac{\\rho^2}{1-\\rho}, & L = \\frac{\\rho^2}{1-\\rho} \\hfill\\cr\n    W_q &=& \\frac{\\rho}{\\mu(1-\\rho)}, & W = \\frac{1}{\\mu(1-\\rho)} = \\frac{1}{\\mu - \\lambda}  \\hfill\\cr\n    P_n &=& (1-\\rho)\\rho^n \\hfill\\cr\n    P[\\#p > n] &=& \\rho^n \\hfill\\cr\n    N &\\geq& \\frac{\\log(p_0)}{\\log(\\rho)} \\hfill\\cr\n    } $$\n    \n    - Porazdelitev čakalnih časov in percentili so \n    $$ \\matrix{\n    p_W(t) &=& (\\mu - \\lambda) e^{-(\\mu-\\lambda) t} \\cr\n    \\alpha_W(r) &=& W \\ln\\left(\\frac{100}{100-r}\\right) \\cr \n    } $$\n\n\n<p style=\"margin-bottom:2cm;\"></p>\n<div style=\"width:100%;text-align:right;font-weight:bold;font-size:1.2em;\"> 17 </div>\n<img src=\"https://raw.githubusercontent.com/andrejkk/ORvTK_SlidesImgs/master/footer_full.jpg\">"
    },
    {
      "metadata": {
        "trusted": true
      },
      "cell_type": "code",
      "source": "import numpy as np\n\n# Basic queueing system functions\n\n\n# Utility\ndef util(la, mu):\n    return la/mu\n\n\n# expected number of packets in the system\ndef exp_num_of_packets_que(la, mu):\n    rho = la/mu\n    return rho**2/(1-rho)\n\n\n# expected number of packets in a waiting queue\ndef exp_num_of_packets_sys(la, mu):\n    rho = la/mu\n    return rho/(1-rho)\n\n\n# expected waiting time in the system\ndef exp_wait_time_que(la, mu):\n    rho = la/mu\n    return rho/(mu*(1-rho))\n\n# expected waiting time in rho in the system\ndef exp_wait_time_que_rho(rho, mu):\n    return 1/(mu*(1-rho))\n\n# expected waiting time in the waiting queue\ndef exp_wait_time_sys(la, mu):\n    return 1.0/(mu - la)\n\n\n# probability there are 15 packets in the system\ndef prob_num_packets_sys(la, mu, n):\n    rho = la/mu\n    return (1-rho)*(rho**n)\n\n# probability there are more than n packets in the system\ndef prob_more_num_packets_sys(la, mu, n):\n    rho = la/mu\n    return rho**n\n\n\n# required queue size to have probability of dropping les than $p_0$\ndef req_que_len(la, mu, p0):\n    rho = la/mu\n    return np.log(p0)/np.log(rho)",
      "execution_count": 5,
      "outputs": []
    },
    {
      "metadata": {
        "collapsed": true,
        "slideshow": {
          "slide_type": "slide"
        }
      },
      "cell_type": "markdown",
      "source": "## ■ Primer M/M/1: prenos paketnih podatkov (1)\n\n- Privzemimo podatke:\n    - $\\lambda=620$ (povprečno število prispelih paketov na dano časovno enoto)\n    - $\\mu=800$ (povprečno število strežb na dano časovno enoto)\n    - $N=20$  (velikost čakalne vrste)\n    - $p_0=10^{-9}$ (verjetnost izpada paketov)\n\n\n- Izračunamo:\n    - $\\rho=0,775$: (izkoriščenost)\n    - $L=3,444$: (pričakovano število paketov v sistemu)\n    - $L_q=2,669$: (pričakovano število paketov v čakalni vrsti)\n    - $W=0,0056$: (pričakovan čakalni čas v sistemu)\n    - $W_q=0,0043$: (pričakovan čakalni čas v čakalni vrsti)\n    - $P_{15}=0,0049$: (verjetnost, da je v sistemu 15 paketov)\n    - $P(\\#p > 15)=0,0061$: verjetnost, da je število paketov v sistemu več kot $15$\n    - $N(10^{−9})=81,3021$: potrebna dolžina vrste, da je verjetnost odmeta manj od $10^{−9}$.\n\n\n<p style=\"margin-bottom:2cm;\"></p>\n<div style=\"width:100%;text-align:right;font-weight:bold;font-size:1.2em;\"> 18 </div>\n<img src=\"https://raw.githubusercontent.com/andrejkk/ORvTK_SlidesImgs/master/footer_full.jpg\">"
    },
    {
      "metadata": {
        "trusted": true
      },
      "cell_type": "code",
      "source": "la = 620.0\nmu = 800.0\nN = 20\nn = 15\np0 = 10**(-9)\n\nprint (r'rho =', util(la, mu))\nprint (r'L = ', '% .3f' % exp_num_of_packets_sys(la, mu))\nprint (r'L_q = ', '% .3f' % exp_num_of_packets_que(la, mu))\nprint (r'W = ', '% .3f' % exp_wait_time_sys(la, mu))\nprint (r'W_q = ', '% .3f' % exp_wait_time_que(la, mu))\nprint (r'P_{15} = ', '% .3f' % prob_num_packets_sys(la, mu, n))\nprint (r'P(#P>15) = ', '% .3f' % prob_more_num_packets_sys(la, mu, n))\nprint (r'N(10^{-9}) = ', '% .3f' % req_que_len(la, mu, p0))",
      "execution_count": 7,
      "outputs": [
        {
          "output_type": "stream",
          "text": "rho = 0.775\nL =   3.444\nL_q =   2.669\nW =   0.006\nW_q =   0.004\nP_{15} =   0.005\nP(#P>15) =   0.022\nN(10^{-9}) =   81.302\n",
          "name": "stdout"
        }
      ]
    },
    {
      "metadata": {
        "collapsed": true,
        "slideshow": {
          "slide_type": "slide"
        }
      },
      "cell_type": "markdown",
      "source": "## ■ Primer M/M/1:  prenos paketnih podatkov (2)\n\n\nOdvisnost čakalnih časov od izkoriščenosti - glejte spodnji graf. \n\n\n<p style=\"margin-bottom:2cm;\"></p>\n<div style=\"width:100%;text-align:right;font-weight:bold;font-size:1.2em;\"> 19 </div>\n<img src=\"https://raw.githubusercontent.com/andrejkk/ORvTK_SlidesImgs/master/footer_full.jpg\">"
    },
    {
      "metadata": {
        "trusted": true
      },
      "cell_type": "code",
      "source": "import numpy as np\nimport matplotlib.pylab as plt\n\nmu = 10\nrho = np.arange(0, 0.99, 0.01)\nwt = exp_wait_time_que_rho(rho, mu)\n\n# Plot it\nplt.figure(figsize=(8,5))\nplt.plot(rho, wt)\nplt.show()",
      "execution_count": 17,
      "outputs": [
        {
          "output_type": "display_data",
          "data": {
            "image/png": "[encoded data removed]",
            "text/plain": "<Figure size 576x360 with 1 Axes>"
          },
          "metadata": {
            "needs_background": "light"
          }
        }
      ]
    },
    {
      "metadata": {
        "collapsed": true,
        "slideshow": {
          "slide_type": "slide"
        }
      },
      "cell_type": "markdown",
      "source": "## ■ Primer M/M/1: spletni strežnik\n\n- Problem:\n    - $1$ strežnik, $200$ odjemalcev;\n    - Povprečen čas strežbe $0,4 s$;\n    - Kakšen je povprečni odzivni čas pri povprečno $35$ zahtevkov na minuto?\n    - Kakšno izkoriščenost še dovolimo, če je zgornja meja čakanja $1,8 s$?\n\n\n- Rešitev:\n    - Povprečno število prihodov: $\\lambda=35/60$;\n    - Povprečno število strežbe: $\\mu=1/0,4$;\n    - Izkoriščenost: $\\rho=\\lambda/\\mu=0,2333$;\n    - Povprečni odzivni čas $W=0,52 s$;\n    - Kaj je zgornja meja: pri npr. $95\\%$, sicer zgornje meje ni!\n      Izpeljemo\n      $$ 1,8 = 1/(\\mu(1−\\rho)) \\ln⁡\\left(\\frac{100}{100−95}\\right) \\Rightarrow \\rho = 0,33. $$\n\n\n<p style=\"margin-bottom:2cm;\"></p>\n<div style=\"width:100%;text-align:right;font-weight:bold;font-size:1.2em;\"> 20 </div>\n<img src=\"https://raw.githubusercontent.com/andrejkk/ORvTK_SlidesImgs/master/footer_full.jpg\">"
    },
    {
      "metadata": {
        "collapsed": true,
        "slideshow": {
          "slide_type": "slide"
        }
      },
      "cell_type": "markdown",
      "source": "## ■ Čakalni sistem M/G/1\n\n- Porazdelitev v vrsti je Poissonova / exponentna (M), porazdelitev strežbe je poljubna.\n- Za porazdelitev časov strežbe predpostavimo, da poznamo pričakovano vrednost $\\mu_s$ in standardni odklon $\\sigma_s$.\n- Vpeljemo konstanto $C_b=\\frac{\\sigma_s}{\\mu_s}$ \n- Pričakovano število paketov v sistemu je (Pollaczek-Khinchine)\n$$ N = \\rho + \\rho^2\\frac{1+C_b^2}{2(1-\\rho)}.  $$\n\n\n- Bistveno zahtevnejša analiza\n\n\n<p style=\"margin-bottom:2cm;\"></p>\n<div style=\"width:100%;text-align:right;font-weight:bold;font-size:1.2em;\"> 21 </div>\n<img src=\"https://raw.githubusercontent.com/andrejkk/ORvTK_SlidesImgs/master/footer_full.jpg\">"
    },
    {
      "metadata": {
        "collapsed": true,
        "slideshow": {
          "slide_type": "slide"
        }
      },
      "cell_type": "markdown",
      "source": "## ■ Kako izbrati model v realnem primeru?\n\n\n- Realni primeri so do neke mere s teoretičnimi modeli že pokriti\n    - Iskanje modela\n    - Prileganje modela realnim podatkom\n\n\n- Odločilno: ali so časi med prihodi eksponentni?\n    - Statistični test značilnosti: prilagodimo $\\chi^2$ test\n    - Iz podatkov ocenimo parameter $\\lambda=\\overline{\\Delta_{t_i}}$, kjer so $\\Delta_{t_i}$ razlike časov;\n    - Čase razdelimo na $M$ intervalov $I_1, \\ldots, I_M$; \n    - Določimo pričakovano število časov $R(I_i)=e_i$\n    - Dejansko število časov v intervalu $I_i$ označimo z $o_i$\n    - Eksperimentalna statistika \n    $$ \\chi_e^2 = \\sum_{i=1}^M \\frac{(o_i-e_i)^2}{e_i}$$ \n    je porazdeljena po $\\chi^2(M-1)$ \n\n\n- Primer testiranja:\n    - Število intervalov $M=60$;\n    - Statistika $\\chi^2=80.172$, $p$ vrednost $p=0.0285\\leq\\alpha=0.05$.\n    - Časi niso porazdeljeni po eksponentni porazdelitvi, zato model s splošno porazdelitvijo;\n\n<img style=\"float: right; width: 400px; margin: 0px 20px 20px 0px;\" src=\"https://raw.githubusercontent.com/andrejkk/ORvTK_SlidesImgs/master/Queuing_TrafficTimeDistr.png\">\n\n\n\n<p style=\"margin-bottom:10cm;\"></p>\n<div style=\"width:100%;text-align:right;font-weight:bold;font-size:1.2em;\"> 22 </div>\n<img src=\"https://raw.githubusercontent.com/andrejkk/ORvTK_SlidesImgs/master/footer_full.jpg\">"
    },
    {
      "metadata": {
        "collapsed": true,
        "slideshow": {
          "slide_type": "slide"
        }
      },
      "cell_type": "markdown",
      "source": "## ■ Algoritmi strežniških sistemov\n\n\n- Algoritmi za optimalno strežbo več čakalnih vrst\n- Primer: algoritem Weighted Round Robin\n- Algoritmi za upravljanje čakalnih vrst\n- Primer: algoritem Random early detection \n\n\n\n<p style=\"margin-bottom:2cm;\"></p>\n<div style=\"width:100%;text-align:right;font-weight:bold;font-size:1.2em;\"> 23 </div>\n<img src=\"https://raw.githubusercontent.com/andrejkk/ORvTK_SlidesImgs/master/footer_full.jpg\">"
    },
    {
      "metadata": {
        "collapsed": true,
        "slideshow": {
          "slide_type": "slide"
        }
      },
      "cell_type": "markdown",
      "source": "## ■ Algoritmi za optimalno strežbo več čakalnih vrst\n\n\n- To je samostojno področje razvrščanja in dodeljevanja opravil\n\n\n- Algoritmi:\n    - **Round robin (RR):** vsaka vrsta dobi enako količino časa strežnika\n    - **Uteženi round robin (WRR):** vsaka vrsta dobi uteženo količino časa strežnika\n    - **Deficit round robin (DRR):** WRR brez poznavanja dolžin paketov;\n    - **Fair queueing (FQ):** paket s prvim ocenjenim koncem servisiranja je naslednji;\n    - **Weighted fair queuing (WFQ):** Razvrščanje z upoštevanjem prioritet vrst;\n    - **Weighted fair queuing +(WFQ+):** Razvrščanje z upoštevanjem prioritet vrst, ki je na dolgi rok doseže predpisane prioritete \n    - **Differentiated service (DiffServ):** arhitektura (topologija) omrežja, ki zagotavlja dan QoS. \n    - **Quality of Service (QoS) Class Identifiers (QCI)**: rešitev v 5G\n\n\n<img style=\"float: right; width: 350px; margin: 0px 20px 20px 0px;\" src=\"https://raw.githubusercontent.com/andrejkk/ORvTK_SlidesImgs/master/Queueing_MultipQueuesSingleServ.png\">\n\n\n<p style=\"margin-bottom:8cm;\"></p>\n<div style=\"width:100%;text-align:right;font-weight:bold;font-size:1.2em;\"> 24 </div>\n<img src=\"https://raw.githubusercontent.com/andrejkk/ORvTK_SlidesImgs/master/footer_full.jpg\">"
    },
    {
      "metadata": {
        "collapsed": true,
        "slideshow": {
          "slide_type": "slide"
        }
      },
      "cell_type": "markdown",
      "source": "## ■ Algoritmi za upravljanje čakalnih vrst\n\n- Kako preprečiti odmetavnje paketov ob preobremenitvi?\n\n\n- Algoritmi\n    - **Tail drop (TD):** Odmetava kar je čez kapaciteto čakalne vrste;\n    - **Random early detection (RED):** ocenjuje pričakovano število paketov in naključno odmetava (ne le na repu);\n    - **Weighted random early detection (WRED):** RED z upoštevanjem prioritet v smislu kvalitete storitev (QoS);\n    - **Active random early detection (ARED):** odpravlja težavo WRED, ki pri majhnem številu paketov začne prehitro odmetavat;\n    - **Robust random early detection (RRED):** Oopravlja posledice napadov različnih tipov kot so „denial of service“;\n\n    - **Leacky bucket (LB):** nadzor pasovne širine in izbruhov \n\n\n\n<p style=\"margin-bottom:2cm;\"></p>\n<div style=\"width:100%;text-align:right;font-weight:bold;font-size:1.2em;\"> 25 </div>\n<img src=\"https://raw.githubusercontent.com/andrejkk/ORvTK_SlidesImgs/master/footer_full.jpg\">"
    },
    {
      "metadata": {
        "collapsed": true,
        "slideshow": {
          "slide_type": "slide"
        }
      },
      "cell_type": "markdown",
      "source": "## ■ Zaključek\n\n- Omrežja in uporabniki so s komunikacijskimi kanali povezane čakalne vrste\n\n\n- Osnovni matematični modeli za analizo čakalnih so preprosti in uporabni. Modeli, bližje realnim sistemom, so sorazmerno zapleteni za prileganje podatkom in za uporabo.\n\n\n- Uporaba:\n    - Ponastavljanje realnih sistemov\n    - Napovedovanje obnašanja realnih sistemov\n\n\n- Proizvajalci opreme so že vse ponastavili?\n\n\n\n<p style=\"margin-bottom:2cm;\"></p>\n<div style=\"width:100%;text-align:right;font-weight:bold;font-size:1.2em;\"> 26 </div>\n<img src=\"https://raw.githubusercontent.com/andrejkk/ORvTK_SlidesImgs/master/footer_full.jpg\">"
    },
    {
      "metadata": {
        "trusted": false
      },
      "cell_type": "code",
      "source": "",
      "execution_count": null,
      "outputs": []
    }
  ],
  "metadata": {
    "celltoolbar": "Slideshow",
    "kernelspec": {
      "name": "python36",
      "display_name": "Python 3.6",
      "language": "python"
    },
    "language_info": {
      "mimetype": "text/x-python",
      "nbconvert_exporter": "python",
      "name": "python",
      "pygments_lexer": "ipython3",
      "version": "3.6.6",
      "file_extension": ".py",
      "codemirror_mode": {
        "version": 3,
        "name": "ipython"
      }
    }
  },
  "nbformat": 4,
  "nbformat_minor": 2
}