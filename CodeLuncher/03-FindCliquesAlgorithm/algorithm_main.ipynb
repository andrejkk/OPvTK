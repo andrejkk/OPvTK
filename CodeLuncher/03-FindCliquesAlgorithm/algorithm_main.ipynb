{
 "cells": [
  {
   "cell_type": "markdown",
   "metadata": {
    "slideshow": {
     "slide_type": "slide"
    }
   },
   "source": [
    "<div style=\"display:flex;font-weight:bold;font-size:0.9em;\">\n",
    "</div>\n",
    "\n",
    "\n",
    "## Find graph cliques algorithm\n",
    "\n",
    "### Basics\n",
    "\n",
    "Graph cliques algorithm finds cliques (maximal fully connected subgraph) of an undirected graph $G=(V,E)$. Among othe applications, cliques of user graphs of social networks such as Facebook have higher influence among members (users) of the clique.  \n",
    "\n",
    "Excelent reference to the Maximum flow problem and algorithm is Wikipedia page\n",
    "https://en.wikipedia.org/wiki/Clique_(graph_theory).\n",
    "\n",
    "The reference to the Python library Networkx containg the algorithm implementation is https://networkx.org/.\n",
    "<img src=\"./NetworkX.png\" width=\"300\"/>\n",
    "\n",
    "\n",
    "### How to run\n",
    "\n",
    "1. Run next cell where you select benchmark (input data) to the algorithm\n",
    "    - set plotQ to False if you do not want to plot results\n",
    "    - uncomment the benchmark option and configure it (see below)\n",
    "2. How to select benchmark - supported options are:\n",
    "    + Custom_5: Simple custom graph to test the algorithm\n",
    "        - key: 'Custom_5'\n",
    "        - configuration: none\n",
    "        - list of parameters: example params_lst = ['Custom_5', plotQ]\n",
    "    + Full graph $K_n$:\n",
    "        - key: 'K_n'\n",
    "        - configuration: number of points n\n",
    "        - list of parameters: params_lst = ['K_n', n, plotQ]\n",
    "        - example params_lst = ['K_n', 4, plotQ]\n",
    "    + Random graph: random graph\n",
    "        - key: 'RND'\n",
    "        - configuration:\n",
    "            + number of nodes: n\n",
    "            + prob. of edge creation: p\n",
    "        - list of parameters: params_lst = ['RND', n, p, plotQ]    \n",
    "        - example params_lst = ['RND', 6, 0.3, plotQ]\n",
    "    \n",
    "\n",
    "\n",
    "\n",
    "### Notes\n",
    "\n",
    "1. The development can be done in Jupyter or any Python environment. The only adaptation is to build the Notebook cell with main function as given bellow\n",
    "2. Questions at _andrej.kosir@fe.uni-lj.si_\n",
    "\n",
    "\n",
    "\n",
    "<p style=\"margin-bottom:1cm;\"></p>\n",
    "<div style=\"width:100%;text-align:right;font-weight:bold;font-size:1.2em;\"> 2 </div>\n",
    "<img src=\"https://raw.githubusercontent.com/andrejkk/ORvTK_SlidesImgs/master/footer_full.jpg\">"
   ]
  },
  {
   "cell_type": "code",
   "execution_count": 12,
   "metadata": {},
   "outputs": [
    {
     "name": "stdout",
     "output_type": "stream",
     "text": [
      "Correct:  True\n"
     ]
    },
    {
     "data": {
      "text/plain": [
       "True"
      ]
     },
     "execution_count": 12,
     "metadata": {},
     "output_type": "execute_result"
    },
    {
     "data": {
      "image/png": "[encoded data removed]",
      "text/plain": [
       "<Figure size 432x288 with 1 Axes>"
      ]
     },
     "metadata": {},
     "output_type": "display_data"
    }
   ],
   "source": [
    "# Code Luncher\n",
    "\n",
    "import numpy as np\n",
    "import pandas as pd\n",
    "import networkx as nx\n",
    "\n",
    "import algorithm as alg\n",
    "import benchmark as bnc\n",
    "\n",
    "\n",
    "\n",
    "# Main function\n",
    "def main():\n",
    "    \n",
    "    \n",
    "    # Get benchmark - test graph\n",
    "    plotQ = True\n",
    "    params_lst = ['Custom_5', plotQ]\n",
    "    #params_lst = ['K_n', 4, plotQ]\n",
    "    #params_lst = ['RND', 6, 0.3, plotQ]\n",
    "    \n",
    "    G = bnc.get_cliqueAlg_benchmark(params_lst)\n",
    "\n",
    "    \n",
    "    # Run algorithm: get clique\n",
    "    cliques_itr = alg.get_Cliques(G)\n",
    "    cliques_lst = list(cliques_itr)\n",
    "    \n",
    "    #print ('flow_value', flow_value)\n",
    "    #print('flow_dict', flow_dict)\n",
    "    \n",
    "    \n",
    "    if plotQ:\n",
    "\n",
    "        # Plot input graph\n",
    "        pos=nx.planar_layout(G)\n",
    "        nx.draw_networkx_nodes(G,pos,node_color='b')\n",
    "        nx.draw_networkx_edges(G,pos,edge_color='b',width=1)\n",
    "\n",
    "        # Plot cliques\n",
    "        for clq in cliques_lst:\n",
    "\n",
    "            # Plot \n",
    "            clq_G = nx.complete_graph(clq)\n",
    "            clq_pos=nx.planar_layout(clq_G)\n",
    "        \n",
    "            nx.draw_networkx_nodes(clq_G,clq_pos) #,node_color='r')\n",
    "            nx.draw_networkx_edges(clq_G,clq_pos) #,edge_color='r',width=3)\n",
    "\n",
    "\n",
    "\n",
    "    \n",
    "    \n",
    "    # Check if correct\n",
    "    correctQ = alg.is_correctQ(G, cliques_itr)\n",
    "        \n",
    "    print ('Correct: ',  correctQ)   \n",
    "        \n",
    "    \n",
    "    return correctQ\n",
    "        \n",
    "# Run main\n",
    "main()"
   ]
  },
  {
   "cell_type": "code",
   "execution_count": null,
   "metadata": {},
   "outputs": [],
   "source": []
  }
 ],
 "metadata": {
  "celltoolbar": "Slideshow",
  "kernelspec": {
   "display_name": "Python 3.10.5 64-bit",
   "language": "python",
   "name": "python3"
  },
  "language_info": {
   "codemirror_mode": {
    "name": "ipython",
    "version": 3
   },
   "file_extension": ".py",
   "mimetype": "text/x-python",
   "name": "python",
   "nbconvert_exporter": "python",
   "pygments_lexer": "ipython3",
   "version": "3.10.5"
  },
  "vscode": {
   "interpreter": {
    "hash": "66d245bc0aa345411577de3f292b9e6a6906f0558af2a59212c3c2455e5d14f2"
   }
  }
 },
 "nbformat": 4,
 "nbformat_minor": 2
}
