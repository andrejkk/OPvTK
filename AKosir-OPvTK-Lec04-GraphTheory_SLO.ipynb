{
  "cells": [
    {
      "metadata": {
        "collapsed": true,
        "slideshow": {
          "slide_type": "slide"
        }
      },
      "cell_type": "markdown",
      "source": "<img src=\"https://raw.githubusercontent.com/andrejkk/ORvTK_SlidesImgs/master/footer_full.jpg\">\n\n\n\n<img style=\"float: center; width: 100%\" src=\"https://raw.githubusercontent.com/andrejkk/TalksImgs/master/FrontSlideUpperBan.png\">\n<p style=\"margin-bottom:2cm;\"></p>\n\n<center>\n    <H1> 4. Teorija grafov </H1>\n   \n\n\n<br><br>\n    <H3> Andrej Košir, Lucami, FE </H4>\n    \n    <H4> Kontakt: prof. dr. Andrej Košir, andrej.kosir@lucami.fe.uni-lj.si, skype=akosir_sid </H4>\n</center>\n\n\n<p style=\"margin-bottom:2cm;\"></p>\n<div style=\"width:100%;text-align:right;font-weight:bold;font-size:1.2em;\"> 1 </div>\n<img src=\"https://raw.githubusercontent.com/andrejkk/ORvTK_SlidesImgs/master/footer_full.jpg\">"
    },
    {
      "metadata": {
        "slideshow": {
          "slide_type": "slide"
        }
      },
      "cell_type": "markdown",
      "source": "<div style=\"display:flex;font-weight:bold;font-size:0.9em;\">\n<div style=\"flex:1;width:50%;\"> 4. Teorija grafov </div>\n<div style=\"flex:1;width:50%;text-align:right;\"> Cilji </div>\n</div>\n\n\n## ■ Cilji\n\n- Spoznati podatkovno strukturo graf, ki je osnovna predstavitev omrežja in hkrati osnova za več optimizacijskih algoritmov\n- Spoznati predstavitev grafov v računalniku\n- Spoznati osnovna sprehoda po grafu\n- Spoznati pomembne pojme, relevantne za optimizacijo\n\n\n<p style=\"margin-bottom:2cm;\"></p>\n<div style=\"width:100%;text-align:right;font-weight:bold;font-size:1.2em;\"> 2 </div>\n<img src=\"https://raw.githubusercontent.com/andrejkk/ORvTK_SlidesImgs/master/footer_full.jpg\">"
    },
    {
      "metadata": {
        "slideshow": {
          "slide_type": "slide"
        }
      },
      "cell_type": "markdown",
      "source": "<div style=\"display:flex;font-weight:bold;font-size:0.9em;\">\n<div style=\"flex:1;width:50%;\"> 4. Teorija grafov </div>\n<div style=\"flex:1;width:50%;text-align:right;\"> Poglavja </div>\n</div>\n\n## ■ Poglavja\n\n### 4.1 Definicija, predstavitev in osnovne lastnosti\n\n■ Definicija grafa in podatkovna struktura graf $\\large{*}$ \n\n■ Vrste grafov $\\large{*}$ \n\n■ Predstavitev grafa $\\large{*}$ \n\n■ Matrika razdalj in Laplaceova matrika\n\n■ Stopnja vozlišča in regularnost\n\n■ Vložitev in označevanje grafa $\\large{*}$ \n\n\n<p style=\"margin-bottom:2cm;\"></p>\n<div style=\"width:100%;text-align:right;font-weight:bold;font-size:1.2em;\"> 3 </div>\n<img src=\"https://raw.githubusercontent.com/andrejkk/ORvTK_SlidesImgs/master/footer_full.jpg\">"
    },
    {
      "metadata": {
        "slideshow": {
          "slide_type": "slide"
        }
      },
      "cell_type": "markdown",
      "source": "<div style=\"display:flex;font-weight:bold;font-size:0.9em;\">\n<div style=\"flex:1;width:50%;\"> 4. Teorija grafov </div>\n<div style=\"flex:1;width:50%;text-align:right;\"> Poglavja </div>\n</div>\n\n\n### 4.2. Izbrani problemi in algoritmi na grafih \n\n■ Pregled grafa $\\large{*}$ \n\n■ Podgraf, sprehod, pot, cikel $\\large{*}$ \n\n■ Hamiltonova pot in cikel $\\large{*}$ \n\n■ Klika in neodvisna podmnožica\n\n■ Najmanjše vpeto drevo $\\large{*}$ \n\n■ Povezanost grafa $\\large{*}$ \n\n■ Ravninski grafi $\\large{*}$ \n\n■ Barvanje grafa\n\n■ Problem najkrajše (najcenejše) poti $\\large{*}$ \n\n■ Problem maksimalnega pretoka $\\large{*}$ \n\n■ Problem trgovskega potnika\n\n■ Risanje grafov\n\n\n<p style=\"margin-bottom:2cm;\"></p>\n<div style=\"width:100%;text-align:right;font-weight:bold;font-size:1.2em;\"> 4 </div>\n<img src=\"https://raw.githubusercontent.com/andrejkk/ORvTK_SlidesImgs/master/footer_full.jpg\">"
    },
    {
      "metadata": {
        "slideshow": {
          "slide_type": "slide"
        }
      },
      "cell_type": "markdown",
      "source": "<div style=\"display:flex;font-weight:bold;font-size:0.9em;\">\n<div style=\"flex:1;width:50%;\"> 4. Teorija grafov </div>\n<div style=\"flex:1;width:50%;text-align:right;\"> Uvod, zgodovina </div>\n</div>\n\n## ■ Uvod, zgodovina\n\n- 1736: Euler in mostovi v Königsbergu:\n    - Ali je mogoč sprehod, ki vsak most obišče natanko enkrat? Ne.\n    - Eulerjev graf\n    - Eulerjeva karakteristika\n   \n<img style=\"float: right; width: 200px; margin: -80px 20px 50px 0;\" src=\"https://raw.githubusercontent.com/andrejkk/ORvTK_SlidesImgs/master/KönigsbergBridges.png\">\n\n- 100 let kasneje: diferencialni račun, teorija grup, ...\n\n\n\n- Danes\n    - Diskretna matematika\n    - Optimizacija\n    - Algoritmi\n    - Kemija\n    - Teorija grup\n\n<img style=\"float: right; width: 100px; margin: -10px 100px 50px 0;\" src=\"https://raw.githubusercontent.com/andrejkk/ORvTK_SlidesImgs/master/SimpleGraph.png\">\n\n\n<p style=\"margin-bottom:2cm;\"><br><br><br><br><br><br></p>\n<div style=\"width:100%;text-align:right;font-weight:bold;font-size:1.2em;\"> 5 </div>\n<img src=\"https://raw.githubusercontent.com/andrejkk/ORvTK_SlidesImgs/master/footer_full.jpg\">"
    },
    {
      "metadata": {
        "slideshow": {
          "slide_type": "slide"
        }
      },
      "cell_type": "markdown",
      "source": "<div style=\"display:flex;font-weight:bold;font-size:0.9em;\">\n<div style=\"flex:1;width:50%;\"> 4. Teorija grafov </div>\n<div style=\"flex:1;width:50%;text-align:right;\"> Uvod, zgodovina </div>\n</div>\n\n\n## Uporaba grafov: vizualizacija odločitvenih dreves\n\n\n<img style=\"float: right; width: 120px; margin: 20px 120px 0px 30px;\" src=\"https://raw.githubusercontent.com/andrejkk/ORvTK_SlidesImgs/master/Colormaphot.png\">\n\n<img style=\"float: right; width: 600px; margin: 0px 0px 30px 0px;\" src=\"https://raw.githubusercontent.com/andrejkk/ORvTK_SlidesImgs/master/DecisionTreeEx.png\">\n\n\n<p style=\"margin-bottom:2cm;\"><br><br><br><br><br><br><br><br><br><br><br><br><br><br><br><br><br><br><br><br><br><br><br><br><br><br><br><br></p>\n<div style=\"width:100%;text-align:right;font-weight:bold;font-size:1.2em;\"> 6 </div>\n<img src=\"https://raw.githubusercontent.com/andrejkk/ORvTK_SlidesImgs/master/footer_full.jpg\">"
    },
    {
      "metadata": {
        "slideshow": {
          "slide_type": "slide"
        }
      },
      "cell_type": "markdown",
      "source": "<div style=\"display:flex;font-weight:bold;font-size:0.9em;\">\n<div style=\"flex:1;width:50%;\"> 4. Teorija grafov </div>\n<div style=\"flex:1;width:50%;text-align:right;\"> 4.1 Definicija, predstavitev in osnovne lastnosti </div>\n</div>\n\n## 4.1 Definicija, predstavitev in osnovne lastnosti\n\n■ Definicija grafa in podatkovna struktura graf\n\n■ Pomembni primeri grafov\n\n■ Predstavitev grafa - matrika sosesdnosti\n\n■ Predstavitev grafa - seznam sosesdnosti\n\n■ Matrika razdalj in Laplaceova matrika\n\n■ Stopnja vozlišča in regularnost\n\n■ Vložitev in označevanje grafa\n\n\n\n<p style=\"margin-bottom:2cm;\"></p>\n<div style=\"width:100%;text-align:right;font-weight:bold;font-size:1.2em;\"> 7 </div>\n<img src=\"https://raw.githubusercontent.com/andrejkk/ORvTK_SlidesImgs/master/footer_full.jpg\">"
    },
    {
      "metadata": {
        "slideshow": {
          "slide_type": "slide"
        }
      },
      "cell_type": "markdown",
      "source": "<div style=\"display:flex;font-weight:bold;font-size:0.9em;\">\n<div style=\"flex:1;width:50%;\"> 4. Teorija grafov </div>\n<div style=\"flex:1;width:50%;text-align:right;\"> 4.1 Definicija, predstavitev in osnovne lastnosti </div>\n</div>\n\n\n\n## ■ Definicija grafa in podatkovna struktura graf\n\n- Podatkovna struktura\n\n\n- Teoretični opis\n    $G=(V,E)$ <br>\n    $V=\\{1, \\ldots, |V|\\}$ <br>\n    $E=\\{(u,v): \\mbox{nekatere}\\; u,v\\in E\\}$ <br>\n    Izmenoma uporabljamo oznako <br>\n    za povezavo $(u,v)=(uv)=uv$\n\n<img style=\"float: right; width: 280px; margin: -100px 0px 0px 0px;\" src=\"https://raw.githubusercontent.com/andrejkk/ORvTK_SlidesImgs/master/PseudoC_Graph.png\">\n\n\n#### Vrste grafov\n\n- Neusmerjeni graf (graf) in usmerjeni graf (digraf)\n- Enostaven graf (nima zank in vzporednih povezav)\n- redek graf, gost graf\n\n\n<p style=\"margin-bottom:2cm;\"><br><br><br><br><br></p>\n<div style=\"width:100%;text-align:right;font-weight:bold;font-size:1.2em;\"> 8 </div>\n<img src=\"https://raw.githubusercontent.com/andrejkk/ORvTK_SlidesImgs/master/footer_full.jpg\">"
    },
    {
      "metadata": {
        "trusted": true
      },
      "cell_type": "code",
      "source": "import networkx as nx\nimport matplotlib.pyplot as plt\nimport graphviz as grv\n\n\n# Create network graph with distances\nG = nx.DiGraph()\nE = [('1','2',2), ('1','3',4), ('2','3',3), ('2','4',1), ('3','4',5), ('3','5',3), ('4','5',3)]\nG.add_weighted_edges_from(E)\n\n# Draw it\nplt.figure(1)\n#pos = nx.graphviz_layout(G)\n#pos = nx.spring_layout(G)\n#pos = nx.graphviz_layout(G)\n#pos = nx.pydot_layout(G)\npos = {'1': [1,2], '2': [2,3], '3': [2,1], '4':[3,2], '5':[4,2]}\nnx.draw_networkx_nodes(G,pos, node_size=100)\nnx.draw_networkx_edges(G,pos, width=6,alpha=0.5,edge_color='b') #,style='dashed')\nnx.draw_networkx_labels(G,pos,font_size=20)\n\nedge_labels=dict([((u,v,),d['weight']) for u,v,d in G.edges(data=True)])\nnx.draw_networkx_edge_labels(G,pos,edge_labels=edge_labels)\n\nplt.show()",
      "execution_count": 1,
      "outputs": [
        {
          "output_type": "stream",
          "text": "/home/nbuser/anaconda3_420/lib/python3.5/site-packages/matplotlib/font_manager.py:281: UserWarning: Matplotlib is building the font cache using fc-list. This may take a moment.\n  'Matplotlib is building the font cache using fc-list. '\n/home/nbuser/anaconda3_420/lib/python3.5/site-packages/networkx/drawing/nx_pylab.py:522: MatplotlibDeprecationWarning: The is_string_like function was deprecated in version 2.1.\n  if not cb.is_string_like(edge_color) \\\n/home/nbuser/anaconda3_420/lib/python3.5/site-packages/networkx/drawing/nx_pylab.py:543: MatplotlibDeprecationWarning: The is_string_like function was deprecated in version 2.1.\n  if cb.is_string_like(edge_color) or len(edge_color) == 1:\n/home/nbuser/anaconda3_420/lib/python3.5/site-packages/networkx/drawing/nx_pylab.py:724: MatplotlibDeprecationWarning: The is_string_like function was deprecated in version 2.1.\n  if not cb.is_string_like(label):\n/home/nbuser/anaconda3_420/lib/python3.5/site-packages/networkx/drawing/nx_pylab.py:861: MatplotlibDeprecationWarning: The is_string_like function was deprecated in version 2.1.\n  if not cb.is_string_like(label):\n",
          "name": "stderr"
        },
        {
          "output_type": "display_data",
          "data": {
            "text/plain": "<matplotlib.figure.Figure at 0x7f6e1bf26dd8>"
          },
          "metadata": {}
        }
      ]
    },
    {
      "metadata": {
        "slideshow": {
          "slide_type": "slide"
        }
      },
      "cell_type": "markdown",
      "source": "<div style=\"display:flex;font-weight:bold;font-size:0.9em;\">\n<div style=\"flex:1;width:50%;\"> 4. Teorija grafov </div>\n<div style=\"flex:1;width:50%;text-align:right;\"> 4.1 Definicija, predstavitev in osnovne lastnosti </div>\n</div>\n\n\n## ■ Pomembni primeri grafov\n\n- Označimo graf: $G=(V(G), E(G))$\n    - Prazen graf: $E=\\{\\}$\n    - Poln graf: $K_n = (\\{1,…,n\\}, \\{(u,v): u,v∈V\\})$\n    - Bipartitni graf: $K_{(n_1,n_2)}$\n    - K-partitni graf: $K_{(n_1,n_2,… n_K)}$\n    - Redek graf: blizu praznemu\n    - Gost graf: blizu polnemu\n    - Drevo, binarno drevo\n\n\n\n<p style=\"margin-bottom:2cm;\"></p>\n<div style=\"width:100%;text-align:right;font-weight:bold;font-size:1.2em;\"> 18 </div>\n<img src=\"https://raw.githubusercontent.com/andrejkk/ORvTK_SlidesImgs/master/footer_full.jpg\">"
    },
    {
      "metadata": {
        "slideshow": {
          "slide_type": "slide"
        }
      },
      "cell_type": "markdown",
      "source": "<div style=\"display:flex;font-weight:bold;font-size:0.9em;\">\n<div style=\"flex:1;width:50%;\"> 4. Teorija grafov </div>\n<div style=\"flex:1;width:50%;text-align:right;\"> 4.1 Definicija, predstavitev in osnovne lastnosti </div>\n</div>\n\n\n## ■ Predstavitev grafa - matrika sosednosti\n\n- Predstavitev z matriko sosednosti $A$\n    - $A=[a_{uv}], a_{uv}=1$ za $uv\\in E$ in $0$ sicer\n    - Primerno za grafe, bližje polnim grafom\n    - Za usmerjene in neusmerjene grafe: primer\n    - Implementacija z redkimi matrikami (ko je vsaj 90% ničel)\n\n- Predstavitev z vpadno matriko $M$, \n    - $M=[m_{ev}]$, $m_{ev} = \\left\\{\\matrix{1, & v=i \\cr -1, & v=j \\cr 0, & \\mbox{sicer}} \\right.$, <br>\n    kjer je $e=(ij)$.\n\n- Prednosti:\n    - Preprosta implementacija\n    - V času $O(1)$ preverimo, ali neka povezava obstaja (ali pa jo dodamo/pobrišemo)\n- Slabosti:\n    - Vedno zahteva $O(|V|^2)$ pomnilnika, tudi če je graf redek\n    - Za pregled vseh predhodnikov ali naslednikov neke točke porabimo vedno $O(|V|)$ časa (zanka po enem stolpcu ali vrstici)\n    - Za pregled vseh povezav porabimo vedno $O(|V|^2)$ časa\n\n\n- Velja še\n    - Primerno za goste grafe.\n    - Potenca $A^k$: število povezav med dvema točkama\n    - Spekter grafa: spekter matrike $A$\n\n\n\n<p style=\"margin-bottom:2cm;\"></p>\n<div style=\"width:100%;text-align:right;font-weight:bold;font-size:1.2em;\"> 10 </div>\n<img src=\"https://raw.githubusercontent.com/andrejkk/ORvTK_SlidesImgs/master/footer_full.jpg\">"
    },
    {
      "metadata": {
        "slideshow": {
          "slide_type": "slide"
        }
      },
      "cell_type": "markdown",
      "source": "<div style=\"display:flex;font-weight:bold;font-size:0.9em;\">\n<div style=\"flex:1;width:50%;\"> 4. Teorija grafov </div>\n<div style=\"flex:1;width:50%;text-align:right;\"> 4.1 Definicija, predstavitev in osnovne lastnosti </div>\n</div>\n\n\n## ■ Predstavitev grafa - seznam sosedov\n\n- Predstavitev s seznamom sosedov $N(u)=\\{v\\in V: (u,v)\\in E\\}=\\{𝑣_1, 𝑣_2, \\ldots, \\}$\n    - Primerno za grafe, blizu praznim grafom\n    - Za usmerjene in neusmerjene grafe: primer\n\n- Za vsako vozlišče izdelamo seznam sosedov. Primerno za redke grafe\n\n\n- Prednosti:\n    - Porabimo le $O(|V|+|E|)$ pomnilnika.\n    - Za pregled vseh sosedov neke točke u porabimo le $O(deg(u))$ časa.\n    - Za pregled vseh povezav porabimo le $O(|V|+|E|)$ časa.\n\n\n- Slabosti:\n    - Preverjanje, ali je povezava $(u, v)$ prisotna, lahko porabi $O(deg⁡(𝑢))=O(|𝑉|)$ časa;\n    - Dodajanje ali brisanje povezave $O(deg⁡(𝑢))=O(|V|)$\n\n\n\n<p style=\"margin-bottom:2cm;\"></p>\n<div style=\"width:100%;text-align:right;font-weight:bold;font-size:1.2em;\"> 12 </div>\n<img src=\"https://raw.githubusercontent.com/andrejkk/ORvTK_SlidesImgs/master/footer_full.jpg\">"
    },
    {
      "metadata": {
        "slideshow": {
          "slide_type": "slide"
        }
      },
      "cell_type": "markdown",
      "source": "<div style=\"display:flex;font-weight:bold;font-size:0.9em;\">\n<div style=\"flex:1;width:50%;\"> 4. Teorija grafov </div>\n<div style=\"flex:1;width:50%;text-align:right;\"> 4.1 Definicija, predstavitev in osnovne lastnosti </div>\n</div>\n\n\n## ■ Stopnja vozlišča in regularnost\n\n- Stopnja vozlišča: \n    - Oznaka $deg⁡(u)=|N(u)|$\n    - $\\delta(G) = min⁡(deg⁡(u))$, $u\\in V$\n    - $\\Delta(G) = max⁡(deg⁡(u))$, $u\\in V$ \n    \n    \n- Regularen graf: vse stopnje vozlišč so enake:\n    - $deg⁡(u)=\\delta(G)=\\Delta(𝐺)$ za vsak $u\\in V$\n    - r-regularen graf: $r=deg(G)$, $u\\in V$\n    \n\n- Lema o rokovanju:\n$$ \\sum_{v\\in V(G)} deg(v) = 2|E(G)| $$\n\n\n\n<p style=\"margin-bottom:2cm;\"></p>\n<div style=\"width:100%;text-align:right;font-weight:bold;font-size:1.2em;\"> 13 </div>\n<img src=\"https://raw.githubusercontent.com/andrejkk/ORvTK_SlidesImgs/master/footer_full.jpg\">"
    },
    {
      "metadata": {
        "slideshow": {
          "slide_type": "slide"
        }
      },
      "cell_type": "markdown",
      "source": "<div style=\"display:flex;font-weight:bold;font-size:0.9em;\">\n<div style=\"flex:1;width:50%;\"> 4. Teorija grafov </div>\n<div style=\"flex:1;width:50%;text-align:right;\"> 4.1 Definicija, predstavitev in osnovne lastnosti </div>\n</div>\n\n\n## ■ Matrika razdalj in Laplaceova matrika\n\n- Le za neusmerjene grafe!\n- Matrika razdalj $D=[d(u,v)]$, kjer je $d(u,v)$ razdalja med vozliščema $u$ in $v$.\n    - Razdalje so navadno uteži ali cene za prehod ene povezave\n\n\n\n- Laplaceova matrika: $L=D_d−A$, $D_d = diag(deg(v))$, $v\\in V$.\n    - Število ničel v spektru Laplaceove matrike je enako številu komponent grafa\n    - $L = M^T M$\n\n\n\n<p style=\"margin-bottom:2cm;\"></p>\n<div style=\"width:100%;text-align:right;font-weight:bold;font-size:1.2em;\"> 14 </div>\n<img src=\"https://raw.githubusercontent.com/andrejkk/ORvTK_SlidesImgs/master/footer_full.jpg\">"
    },
    {
      "metadata": {
        "slideshow": {
          "slide_type": "slide"
        }
      },
      "cell_type": "markdown",
      "source": "<div style=\"display:flex;font-weight:bold;font-size:0.9em;\">\n<div style=\"flex:1;width:50%;\"> 4. Teorija grafov </div>\n<div style=\"flex:1;width:50%;text-align:right;\"> 4.1 Definicija, predstavitev in osnovne lastnosti </div>\n</div>\n\n\n## ■ Omejitve glede |V| in |E|\n\n- Omejitve velikosti množic $V$ in $E$ grafa $G=(V, E)$: graf na $n$ točkah ($n=|𝑉|$, $m=|E|$) ima največ povezav:\n  - $m\\leq n(n-1)$, če je usmerjen in ne dovolimo zank\n  - $m\\leq n^2$, če je usmerjen in dovolimo zanke\n  - $m\\leq n(n-1)/2$, če je neusmerjen in ne dovolimo zank\n  - $m\\leq n(n+1)/2$, če je neusmerjen in dovolimo zanke\n\n\n\n  \n  \n\n<p style=\"margin-bottom:2cm;\"></p>\n<div style=\"width:100%;text-align:right;font-weight:bold;font-size:1.2em;\"> 15 </div>\n<img src=\"https://raw.githubusercontent.com/andrejkk/ORvTK_SlidesImgs/master/footer_full.jpg\">"
    },
    {
      "metadata": {
        "slideshow": {
          "slide_type": "slide"
        }
      },
      "cell_type": "markdown",
      "source": "<div style=\"display:flex;font-weight:bold;font-size:0.9em;\">\n<div style=\"flex:1;width:50%;\"> 4. Teorija grafov </div>\n<div style=\"flex:1;width:50%;text-align:right;\"> 4.1 Definicija, predstavitev in osnovne lastnosti </div>\n</div>\n\n\n\n## ■ Vložitev in označevanje grafa (ang. labelinng)\n\n- Vložite grafa v množico $Y$, navadno je to $ℝ^2$ ali izbrana plosekv\n    - Kje so vozlišča: $\\varphi: V \\to Y$ \n    - Kje so povezave: $\\psi: E \\to Y$\n\n\n- Označevanje vozlišč\n    - Oznake so dodane oznake: $L_V: V\\to A$\n    - Npr. metapodatki uporabnikov v grafu uporabnikov\n\n\n- Označevanje povezav\n    - Labele so dodane oznake: $L_E: E\\to B$\n    - Navadno so to uteži na povezavah\n\n\n\n<p style=\"margin-bottom:2cm;\"></p>\n<div style=\"width:100%;text-align:right;font-weight:bold;font-size:1.2em;\"> 16 </div>\n<img src=\"https://raw.githubusercontent.com/andrejkk/ORvTK_SlidesImgs/master/footer_full.jpg\">"
    },
    {
      "metadata": {
        "slideshow": {
          "slide_type": "slide"
        }
      },
      "cell_type": "markdown",
      "source": "<div style=\"display:flex;font-weight:bold;font-size:0.9em;\">\n<div style=\"flex:1;width:50%;\"> 4. Teorija grafov </div>\n<div style=\"flex:1;width:50%;text-align:right;\"> 4.1 Definicija, predstavitev in osnovne lastnosti </div>\n</div>\n\n\n## ■ Podgraf, sprehod, pot, cikel\n\n- Podgraf: $H\\subset G$ če je $V(H)\\subset V(G)$ in $E(H)\\subset E(G)$ \n\n\n- Sprehod: zaporedje vozlišč $P=(v_1, \\ldots v_k)$ tako da je $(v_i, v_{i+1})\\in E$\n- Pot: sprehod z različnimi vozlišči: $S=(v_1, \\ldots v_k)$ in $v_i\\ne v_j$ za $i\\ne j$\n- Cikel: zaključena pot $C=(v_1, \\ldots v_{k-1}, v_1)$.\n- Eulerjev sprehod, Eulerjev cikel, Eulerjev graf: sprehod/cikel, ki vsebuje vse povezave. Graf je Eulerjev, če vsebuje Eulerjev cikel:\n  - Digraf je Eulerjev natanko tedaj, ko sta vhodna in izhodna stopnja vsake točke enaki in je graf povezan.\n  - Odločitev ali je graf Eulerjev: 𝑂(|𝑉|)\n\n\n\n<p style=\"margin-bottom:2cm;\"></p>\n<div style=\"width:100%;text-align:right;font-weight:bold;font-size:1.2em;\"> 17 </div>\n<img src=\"https://raw.githubusercontent.com/andrejkk/ORvTK_SlidesImgs/master/footer_full.jpg\">"
    },
    {
      "metadata": {
        "slideshow": {
          "slide_type": "slide"
        }
      },
      "cell_type": "markdown",
      "source": "<div style=\"display:flex;font-weight:bold;font-size:0.9em;\">\n<div style=\"flex:1;width:50%;\"> 4. Teorija grafov </div>\n<div style=\"flex:1;width:50%;text-align:right;\"> 4.2. Izbrani problemi in algoritmi na grafih </div>\n</div>\n\n\n## 4.2. Izbrani problemi in algoritmi na grafih\n\n\n■ Pregled grafa\n\n■ Podgraf, sprehod, pot, cikel\n\n■ Hamiltonova pot in cikel\n\n■ Klika in neodvisna podmnožica\n\n■ Najmanjše vpeto drevo\n\n■ Povezanost grafa\n\n■ Ravninski grafi\n\n■ Barvanje grafa\n\n■ Problem najkrajše (najcenejše) poti\n\n■ Problem maksimalnega pretoka\n\n■ Problem trgovskega potnika\n\n■ Risanje grafov\n\n\n\n<p style=\"margin-bottom:2cm;\"></p>\n<div style=\"width:100%;text-align:right;font-weight:bold;font-size:1.2em;\"> 19 </div>\n<img src=\"https://raw.githubusercontent.com/andrejkk/ORvTK_SlidesImgs/master/footer_full.jpg\">"
    },
    {
      "metadata": {
        "slideshow": {
          "slide_type": "slide"
        }
      },
      "cell_type": "markdown",
      "source": "<div style=\"display:flex;font-weight:bold;font-size:0.9em;\">\n<div style=\"flex:1;width:50%;\"> 4. Teorija grafov </div>\n<div style=\"flex:1;width:50%;text-align:right;\"> 4.2. Izbrani problemi in algoritmi na grafih </div>\n</div>\n\n\n## ■ Pregled grafa\n\n- Sprehod v širino (ang. Breath first search, BFS)\n    - Najprej vse sosede – algoritem z vrsto\n    - Obišče začetno komponento\n    - Zahtevnost $O(|V|)$\n\n\n\n- Sprehod v globino (ang. Deph first search, DFS)\n    - Najprej sosede sosedov – rekurzija\n    - Obišče začetno komponento\n    - Zahtevnost $O(|V|)$ \n    \n    \n- Slučajni sprehod: naključna izbira sosednjih vozlišč\n    - Naključno izbira vozlišč\n    - Porazdelitve glede na uteži povezav\n    \n    \n\n<p style=\"margin-bottom:2cm;\"></p>\n<div style=\"width:100%;text-align:right;font-weight:bold;font-size:1.2em;\"> 20 </div>\n<img src=\"https://raw.githubusercontent.com/andrejkk/ORvTK_SlidesImgs/master/footer_full.jpg\">"
    },
    {
      "metadata": {
        "slideshow": {
          "slide_type": "slide"
        }
      },
      "cell_type": "markdown",
      "source": "<div style=\"display:flex;font-weight:bold;font-size:0.9em;\">\n<div style=\"flex:1;width:50%;\"> 4. Teorija grafov </div>\n<div style=\"flex:1;width:50%;text-align:right;\"> 4.2. Izbrani problemi in algoritmi na grafih </div>\n</div>\n\n\n## ■ Najmanjše vpeto drevo\n\n- Kaj je najmanjše vpeto drevo: $T\\subset G$ tako, da je \n    - $V(T)=V(G)$\n    - $T$ je drevo (graf brez ciklov)\n    \n\n- Kruskalov algoritem: \n    - **Require**: Povezan graf 𝐺=(𝑉, 𝐸);\n    - **Ensure:** Najmanjše vpeto drevo \n    - Časovna zahtevnost: $O(|E|\\log|E|) = O(|E|\\log|V|)$ \n\n\n<p style=\"margin-bottom:2cm;\"></p>\n<div style=\"width:100%;text-align:right;font-weight:bold;font-size:1.2em;\"> 21 </div>\n<img src=\"https://raw.githubusercontent.com/andrejkk/ORvTK_SlidesImgs/master/footer_full.jpg\">"
    },
    {
      "metadata": {
        "slideshow": {
          "slide_type": "slide"
        }
      },
      "cell_type": "markdown",
      "source": "<div style=\"display:flex;font-weight:bold;font-size:0.9em;\">\n<div style=\"flex:1;width:50%;\"> 4. Teorija grafov </div>\n<div style=\"flex:1;width:50%;text-align:right;\"> 4.2. Izbrani problemi in algoritmi na grafih </div>\n</div>\n\n\n## ■ Povezanost grafa\n\n- V neusmerjene grafu:\n    - $u$ in $v$ sta povezani, če med njima obstaja pot\n    - Povezana komponenta: maksimalna množica povezanih vozlišč\n    \n    \n- V usmerjenem grafu\n    - $u$ in $v$ sta šibko povezani, če med njima obstaja pot vsaj v eno smer\n    - $u$ in $v$ sta krepko povezani, če med njima obstaja pot v obe smeri\n    - (krepko, šibko) povezana komponenta: maksimalna množica povezanih vozlišč\n\n\n- Algoritem za iskanje komponent\n    - Sprehod v širino ali globino iz dane točke da eno komponento;\n    - Nadaljujemo  v poljubni preostali točki;\n    - Zahtevnost: $O(|V|+|E|)$\n    \n    \n- $K$-povezanost \n    - Množica k-rez: $V_k\\subset V$, pri kateri $G\\setminus V_k$ ni več povezan\n    - $G$ je $k$-povezan, če obstaja najmanjša rez množica velikosti $|V_k|=k$.\n    - Povezano z maksimalnim pretokom (Mengerjev teorem)\n\n\n<p style=\"margin-bottom:2cm;\"></p>\n<div style=\"width:100%;text-align:right;font-weight:bold;font-size:1.2em;\"> 22 </div>\n<img src=\"https://raw.githubusercontent.com/andrejkk/ORvTK_SlidesImgs/master/footer_full.jpg\">"
    },
    {
      "metadata": {
        "slideshow": {
          "slide_type": "slide"
        }
      },
      "cell_type": "markdown",
      "source": "<div style=\"display:flex;font-weight:bold;font-size:0.9em;\">\n<div style=\"flex:1;width:50%;\"> 4. Teorija grafov </div>\n<div style=\"flex:1;width:50%;text-align:right;\"> 4.2. Izbrani problemi in algoritmi na grafih </div>\n</div>\n\n\n## ■ Ravninski grafi\n\n- **Definicija:** Graf je ravninski, če ga je mogoče narisati v ravnino brez križanja povezav.\n\n\n- Eulerjeva karakteristika: za povezan ravninski graf oznake $n=|V|$, $m=|E|$, $f=|F|$, $F$ je množica lic, velja\n$$ n - m + f = 2 $$\n\n\n- Izrek Kuratowskega: Graf je ravninski natanko tedaj, ko ne vsebuje podgrafa, ki je subdivizija $K_{3,3}$ ali $K_5$.\n\n- Opomba: Slovenski prispevek k prepovedanim grafom na torusu (Mohar, Juvan). \n\n\n<p style=\"margin-bottom:2cm;\"></p>\n<div style=\"width:100%;text-align:right;font-weight:bold;font-size:1.2em;\"> 23 </div>\n<img src=\"https://raw.githubusercontent.com/andrejkk/ORvTK_SlidesImgs/master/footer_full.jpg\">"
    },
    {
      "metadata": {
        "slideshow": {
          "slide_type": "slide"
        }
      },
      "cell_type": "markdown",
      "source": "<div style=\"display:flex;font-weight:bold;font-size:0.9em;\">\n<div style=\"flex:1;width:50%;\"> 4. Teorija grafov </div>\n<div style=\"flex:1;width:50%;text-align:right;\"> 4.2. Izbrani problemi in algoritmi na grafih </div>\n</div>\n\n\n## ■ Barvanje grafa\n\n- Barvanje grafa je preslikava \n$$ c:V→\\{1,…, b\\}. $$\n\n\n- Barvanje je dobro, če za vsako povezavo $(u,v)\\in E$ vozliščema priredi različno barvi, torej $c(u)\\ne c(v)$.\n\n\n- Kromatično število 𝜒(𝐺): najmanjše število barv, potrebno za dobro barvanje grafa\n    - Velja $\\chi(G) \\leq \\Delta(G)+1$\n    - $\\chi(T)=2$ za $T$ je drevo\n    - $\\chi(G)=4$ za $G$ ravninski\n\n\n<p style=\"margin-bottom:2cm;\"></p>\n<div style=\"width:100%;text-align:right;font-weight:bold;font-size:1.2em;\"> 24 </div>\n<img src=\"https://raw.githubusercontent.com/andrejkk/ORvTK_SlidesImgs/master/footer_full.jpg\">"
    },
    {
      "metadata": {
        "slideshow": {
          "slide_type": "slide"
        }
      },
      "cell_type": "markdown",
      "source": "<div style=\"display:flex;font-weight:bold;font-size:0.9em;\">\n<div style=\"flex:1;width:50%;\"> 4. Teorija grafov </div>\n<div style=\"flex:1;width:50%;text-align:right;\"> 4.2. Izbrani problemi in algoritmi na grafih </div>\n</div>\n\n\n## ■ Problem najkrajše (najcenejše) poti\n\n- Problem najkrajših poti:\n    - Varianta A: Za dano vozlišče $s$ nas zanimajo najkrajše poti od $s$ do vseh ostalih vozlišč (ang. single-source shortest paths)\n    - Varianta B: Ali pa: za vsako vozlišče $s$ nas zanimajo najkrajše poti od $s$ do vseh ostalih vozlišč (angl. all-pairs shortest paths)\n\n\n\n- Dijkstra algoritem\n    - **Require**: Povezan graf $G=(V, E)$, vozlišče $s$;\n    - **Ensure**: Najkrajše poti od $s$ ostalih vozlišč \n    - Časovna zahtevnost: $O((|V|+|E|) log⁡(|V|))$ s kopico\n\n\n<p style=\"margin-bottom:2cm;\"></p>\n<div style=\"width:100%;text-align:right;font-weight:bold;font-size:1.2em;\"> 25 </div>\n<img src=\"https://raw.githubusercontent.com/andrejkk/ORvTK_SlidesImgs/master/footer_full.jpg\">"
    },
    {
      "metadata": {
        "slideshow": {
          "slide_type": "slide"
        }
      },
      "cell_type": "markdown",
      "source": "<div style=\"display:flex;font-weight:bold;font-size:0.9em;\">\n<div style=\"flex:1;width:50%;\"> 4. Teorija grafov </div>\n<div style=\"flex:1;width:50%;text-align:right;\"> 4.2. Izbrani problemi in algoritmi na grafih </div>\n</div>\n\n\n\n## ■ Problem maksimalnega pretoka\n\n- Problem maksimalnega pretoka\n    - Graf $G=(V, E)$: omrežje;\n    - Kapacitete povezav: $c: E\\to ℝ_+$;\n    - Pretok: $f: E\\to ℝ_+$;\n    - Poišči pot med vozliščema $s$ in $t$ iz $V$, ki da največji pretok $f_m$;\n\n\n- Ford–Fulkerson algoritem\n    - **Require**: Povezan graf $G=(V, E)$, vozlišči $s$ in $t$;\n    - **Ensure**: Pot $P=(s, v_2, \\ldots, t)$ in maksimalen pretok $f_m$\n    - Časovna zahtevnost: $O(|E| f_m)$ za $f: 𝐸 \\to ℕ_+$, brez garancije za konvergenco\n    \n\n- Zanesljiv algoritem:  \n    - Edmonds–Karp algorithm, \n    - Zahtevnost $O(|V| |E|^2)$ \n\n\n<p style=\"margin-bottom:2cm;\"></p>\n<div style=\"width:100%;text-align:right;font-weight:bold;font-size:1.2em;\"> 26 </div>\n<img src=\"https://raw.githubusercontent.com/andrejkk/ORvTK_SlidesImgs/master/footer_full.jpg\">"
    },
    {
      "metadata": {
        "slideshow": {
          "slide_type": "slide"
        }
      },
      "cell_type": "markdown",
      "source": "<div style=\"display:flex;font-weight:bold;font-size:0.9em;\">\n<div style=\"flex:1;width:50%;\"> 4. Teorija grafov </div>\n<div style=\"flex:1;width:50%;text-align:right;\"> 4.2. Izbrani problemi in algoritmi na grafih </div>\n</div>\n\n## ■ Problem trgovskega potnika\n\n- Problem trgovskega potnika\n    - Graf $G=(V, E)$: mesta, povezana s cestami;\n    - Razdalje povezav: $d: E \\to ℝ_+$;\n    - Poišči najkrajšo pot iz $s$ nazaj v $s$, ki obišče vse točke iz $V$.\n\n\n- Rešitev: dinamično programiranje, celoštevilsko programiranje\n    - **Require**: Povezan graf $G=(V, E)$, $d:E \\to ℝ_+$;\n    - **Ensure**: Najkrajša pot $P=(v_1,\\ldots, v_n)$,  ki obišče vsa vozlišča\n    - Zahtevnost: $O(2^n)$.\n    \n    \n\n<p style=\"margin-bottom:2cm;\"></p>\n<div style=\"width:100%;text-align:right;font-weight:bold;font-size:1.2em;\"> 27 </div>\n<img src=\"https://raw.githubusercontent.com/andrejkk/ORvTK_SlidesImgs/master/footer_full.jpg\">"
    },
    {
      "metadata": {
        "slideshow": {
          "slide_type": "slide"
        }
      },
      "cell_type": "markdown",
      "source": "<div style=\"display:flex;font-weight:bold;font-size:0.9em;\">\n<div style=\"flex:1;width:50%;\"> 4. Teorija grafov </div>\n<div style=\"flex:1;width:50%;text-align:right;\"> 4.2. Izbrani problemi in algoritmi na grafih </div>\n</div>\n\n\n## ■ Risanje grafov\n\n- Pomembno za vizualizacijo kompleksnih podatkov\n- Orodje Graphviz: http://www.graphviz.org/ \n- Orodje Gephi: http://gephi.org \n- Orodje SageMath: http://www.sagemath.org/ \n- Orodje Seeing theory:\thttp://students.brown.edu/seeing-theory/ \n- Orodje Vis: http://visjs.org/ \n- Orodje Graphs for Neo4j: https://neo4j.com/developer/guide-data-visualization/ \n- Orodje Canviz: https://code.google.com/archive/p/canviz/ \n\n\n<p style=\"margin-bottom:2cm;\"></p>\n<div style=\"width:100%;text-align:right;font-weight:bold;font-size:1.2em;\"> 28 </div>\n<img src=\"https://raw.githubusercontent.com/andrejkk/ORvTK_SlidesImgs/master/footer_full.jpg\">"
    },
    {
      "metadata": {
        "slideshow": {
          "slide_type": "slide"
        }
      },
      "cell_type": "markdown",
      "source": "<div style=\"display:flex;font-weight:bold;font-size:0.9em;\">\n<div style=\"flex:1;width:50%;\"> 4. Teorija grafov </div>\n<div style=\"flex:1;width:50%;text-align:right;\"> 4.2. Izbrani problemi in algoritmi na grafih </div>\n</div>\n\n\n## ■ Zaključki\n\n- Graf je podatkovna struktura za\n    - Model TK omrežja\n    - Model socialnega omrežja uporabnikov\n    - Formulacijo in realizacijo algoritmov\n    \n    \n- Pomembni optimizacijski problemi so formulirani v jeziku teorije grafov\n\n\n- Grafovski algoritmi so tesno povezani s TK\n\n\n\n<p style=\"margin-bottom:2cm;\"></p>\n<div style=\"width:100%;text-align:right;font-weight:bold;font-size:1.2em;\"> 29 </div>\n<img src=\"https://raw.githubusercontent.com/andrejkk/ORvTK_SlidesImgs/master/footer_full.jpg\">"
    },
    {
      "metadata": {
        "trusted": true
      },
      "cell_type": "code",
      "source": "",
      "execution_count": null,
      "outputs": []
    }
  ],
  "metadata": {
    "kernelspec": {
      "name": "python3",
      "display_name": "Python 3",
      "language": "python"
    },
    "language_info": {
      "mimetype": "text/x-python",
      "nbconvert_exporter": "python",
      "name": "python",
      "pygments_lexer": "ipython3",
      "version": "3.5.4",
      "file_extension": ".py",
      "codemirror_mode": {
        "version": 3,
        "name": "ipython"
      }
    },
    "celltoolbar": "Slideshow"
  },
  "nbformat": 4,
  "nbformat_minor": 2
}