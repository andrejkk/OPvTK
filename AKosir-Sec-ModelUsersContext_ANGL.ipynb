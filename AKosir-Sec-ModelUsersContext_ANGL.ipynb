{
 "cells": [
  {
   "attachments": {},
   "cell_type": "markdown",
   "metadata": {
    "collapsed": true,
    "slideshow": {
     "slide_type": "slide"
    }
   },
   "source": [
    "<img style=\"float: center; width: 100%\" src=\"https://raw.githubusercontent.com/andrejkk/TalksImgs/master/FrontSlideUpperBan.png\">\n",
    "<p style=\"margin-bottom:2cm;\"></p>\n",
    "\n",
    "<center>\n",
    "    <H1> User modelling: context </H1>\n",
    "   \n",
    "\n",
    "\n",
    "<br><br>\n",
    "    <H3> Andrej Košir, Lucami, FE </H3>\n",
    "    <H4> Kontakt: prof. dr. Andrej Košir, andrej.kosir@fe.uni-lj.si, ZOOM https://uni-lj-si.zoom.us/j/97654707084 </H4>\n",
    "</center>"
   ]
  },
  {
   "attachments": {},
   "cell_type": "markdown",
   "metadata": {
    "slideshow": {
     "slide_type": "slide"
    }
   },
   "source": [
    "<p style=\"margin-bottom:2cm;\"></p>\n",
    "<div style=\"width:100%;text-align:right;font-weight:bold;font-size:1.2em;\"> 1 </div>\n",
    "<img src=\"https://raw.githubusercontent.com/andrejkk/ORvTK_SlidesImgs/master/footer_full.jpg\">\n",
    "\n",
    "<div style=\"display:flex;font-weight:bold;font-size:0.9em;\">\n",
    "<div style=\"flex:1;width:50%;text-align:right;\"> Objectives </div>\n",
    "</div>\n",
    "\n",
    "\n",
    "## Chapter Objectives\n",
    "\n",
    "- Understand the problem of user modeling\n",
    "- Meet:\n",
    "     - User segmentation\n",
    "     - User context\n",
    "     - Modeling with Markov chains\n",
    "\n",
    "\n",
    "\n",
    "<p style=\"margin-bottom:1cm;\"></p>\n",
    "<div style=\"width:100%;text-align:right;font-weight:bold;font-size:1.2em;\"> 2 </div>\n",
    "<img src=\"https://raw.githubusercontent.com/andrejkk/ORvTK_SlidesImgs/master/footer_full.jpg\">"
   ]
  },
  {
   "attachments": {},
   "cell_type": "markdown",
   "metadata": {
    "slideshow": {
     "slide_type": "slide"
    }
   },
   "source": [
    "<div style=\"display:flex;font-weight:bold;font-size:0.9em;\">\n",
    "<div style=\"flex:1;width:50%;text-align:right;\"> User modeling: context </div>\n",
    "</div>\n",
    "\n",
    "\n",
    "# 1. Context\n",
    "\n",
    "■ Introduction and context description $\\large{*}$\n",
    "\n",
    "■ Context factors and context accessibility $\\large{*}$\n",
    "\n",
    "■ Context representation and modeling\n",
    "\n",
    "■ Context building\n",
    "\n",
    "■ Context hierarchy $\\large{*}$\n",
    "\n",
    "■ Stages of context consideration\n",
    "\n",
    "■ Determining the context - sources of information\n",
    "\n",
    "■ Context determination - algorithms\n",
    "\n",
    "\n",
    "\n",
    "<p style=\"margin-bottom:1cm;\"></p>\n",
    "<div style=\"width:100%;text-align:right;font-weight:bold;font-size:1.2em;\"> 3 </div>\n",
    "<img src=\"https://raw.githubusercontent.com/andrejkk/ORvTK_SlidesImgs/master/footer_full.jpg\">"
   ]
  },
  {
   "attachments": {},
   "cell_type": "markdown",
   "metadata": {
    "slideshow": {
     "slide_type": "slide"
    }
   },
   "source": [
    "<div style=\"display:flex;font-weight:bold;font-size:0.9em;\">\n",
    "<div style=\"flex:1;width:50%;text-align:right;\"> 1. Context </div>\n",
    "</div>\n",
    "\n",
    "\n",
    "# ■ Introduction and context description\n",
    "\n",
    "#### Def.: Context is any description of a situation that in any way affects the user's decisions or preferences regarding the content or way of using the service\n",
    "\n",
    "<br>\n",
    "\n",
    "Context is prior (a priori) information, necessary for good adaptation of the service. Human adaptation of communication is fundamentally dependent on context, which is easily discernible by humans in real time.\n",
    "\n",
    "<br>\n",
    "\n",
    "There are over **150 context definitions**.\n",
    "\n",
    "<br>\n",
    "List of some questions about the context - original in English:<br>\n",
    "Is context a frame for a given object? <br>\n",
    "Is it the set of elements that have any influence on the object? <br>\n",
    "Is it possible to define context a priori or just state the effects a posteriori? <br>\n",
    "Is it something static or dynamic? <br>\n",
    "Some approaches emerge now in artificial intelligence. In psychology, we generally study a person doing a task in a given situation. Which context is relevant for our study? <br>\n",
    "The context of the person? <br>\n",
    "The context of the task? <br>\n",
    "The context of the interaction? <br>\n",
    "The context of the situation? <br>\n",
    "When does a context begin and where does it stop? <br>\n",
    "What are the real relationships between context and cognition? <br>\n",
    "\n",
    "\n",
    "The term **filtering** means content selection or adjustments, e.g. content in the recommendation system.\n",
    "\n",
    "\n",
    "<br><br>\n",
    "Two types of context:\n",
    "1. **Representational:** known before the activity, independent of the activity, does not change with time\n",
    "2. **Interactive:** depends on activity, changes with time\n",
    "\n",
    "\n",
    "<br><br>\n",
    "_Lit.:_ [F. Ricci et. al. Recommender systems handbook, Springer, 2011.](https://www.springer.com/gp/book/9780387858203) <br>\n",
    "_Lit.:_ [D. Jannach et. al. An Introduction to Recommender Systems, Cambridge University Press, 2011](https://www.tandfonline.com/doi/abs/10.1080/10447318.2012.632301)\n",
    "\n",
    "\n",
    "<p style=\"margin-bottom:1cm;\"></p>\n",
    "<div style=\"width:100%;text-align:right;font-weight:bold;font-size:1.2em;\"> 4 </div>\n",
    "<img src=\"https://raw.githubusercontent.com/andrejkk/ORvTK_SlidesImgs/master/footer_full.jpg\">"
   ]
  },
  {
   "attachments": {},
   "cell_type": "markdown",
   "metadata": {
    "slideshow": {
     "slide_type": "slide"
    }
   },
   "source": [
    "<div style=\"display:flex;font-weight:bold;font-size:0.9em;\">\n",
    "<div style=\"flex:1;width:50%;text-align:right;\"> 1. Context </div>\n",
    "</div>\n",
    "\n",
    "\n",
    "# ■ Context factors and context accessibility\n",
    "\n",
    "Let's assume the existence of **context factors** (information about the context), which are, among other things\n",
    "- time\n",
    "- location\n",
    "- the purpose of the activity\n",
    "\n",
    "<br>\n",
    "Depending on the way the context is used, we divide it\n",
    "\n",
    "<table style=\"width:80%\">\n",
    "   <tr>\n",
    "     <td style=\"text-align:left;width:10em\"><b>How the factors change</b></td>\n",
    "     <td style=\"text-align:left\"><b>Fully detectable</b></td>\n",
    "     <td style=\"text-align:left\"><b>Partially detectable</b></td>\n",
    "     <td style=\"text-align:left\"><b>Undetectable</b></td>\n",
    "   </tr>\n",
    "   <tr>\n",
    "     <td style=\"text-align:left;width:12em\"><b>Static</b></td>\n",
    "     <td style=\"text-align:left\">All known in advance</td>\n",
    "     <td style=\"text-align:left\">Partially known, static </td>\n",
    "     <td style=\"text-align:left\">Latent known, static </td>\n",
    "   </tr>\n",
    "   <tr>\n",
    "     <td style=\"text-align:left;width:12em\"><b>Dynamic</b></td>\n",
    "     <td style=\"text-align:left\">Context relevance is dynamic </td>\n",
    "     <td style=\"text-align:left\">Partial and dynamic </td>\n",
    "     <td style=\"text-align:left\">Nothing is known about the context </td>\n",
    "   </tr>\n",
    "</table>\n",
    "\n",
    "\n",
    "<br><br>\n",
    "*Literatura*: [G. Adomavicius, B. Mobasher, F. Ricci, A. Tuhhilin, Context-Aware Recommneder Systems, Handbook of recommender systems, 2011](http://www.inf.unibz.it/~ricci/papers/08-Adomavicius.pdf)\n",
    "\n",
    "\n",
    "\n",
    "<p style=\"margin-bottom:1cm;\"></p>\n",
    "<div style=\"width:100%;text-align:right;font-weight:bold;font-size:1.2em;\"> 5 </div>\n",
    "<img src=\"https://raw.githubusercontent.com/andrejkk/ORvTK_SlidesImgs/master/footer_full.jpg\">"
   ]
  },
  {
   "attachments": {},
   "cell_type": "markdown",
   "metadata": {
    "slideshow": {
     "slide_type": "slide"
    }
   },
   "source": [
    "<div style=\"display:flex;font-weight:bold;font-size:0.9em;\">\n",
    "<div style=\"flex:1;width:50%;text-align:right;\"> 1. Context </div>\n",
    "</div>\n",
    "\n",
    "\n",
    "# ■ Context representation and modeling\n",
    "\n",
    "\n",
    "The representation and resulting models are divided according to the consideration of the available information.\n",
    "\n",
    "\n",
    "<br>\n",
    "\n",
    "\n",
    "A contextualization-free (context-aware) service is a mapping that evaluates the contents of \n",
    "$r_{uh}\\in S$ **without considering the context**, i.e.\n",
    "$$ U\\times H \\to S. $$\n",
    "\n",
    "\n",
    "\n",
    "<br>\n",
    "\n",
    "\n",
    "A context-aware service is a mapping that evaluates the contents of $r_{uh}\\in S$ **context-aware**, i.e.\n",
    "$$ U\\times H\\times C \\to S. $$\n",
    "\n",
    "\n",
    "This means that in the machine learning phase of service customization (e.g. recommender system) we need **context knowledge**. How we consider it depends on the **context consideration phase**.\n",
    "\n",
    "\n",
    "<p style=\"margin-bottom:1cm;\"></p>\n",
    "<div style=\"width:100%;text-align:right;font-weight:bold;font-size:1.2em;\"> 6 </div>\n",
    "<img src=\"https://raw.githubusercontent.com/andrejkk/ORvTK_SlidesImgs/master/footer_full.jpg\">"
   ]
  },
  {
   "attachments": {},
   "cell_type": "markdown",
   "metadata": {
    "slideshow": {
     "slide_type": "slide"
    }
   },
   "source": [
    "<div style=\"display:flex;font-weight:bold;font-size:0.9em;\">\n",
    "<div style=\"flex:1;width:50%;text-align:right;\"> 1. Context </div>\n",
    "</div>\n",
    "\n",
    "\n",
    "# ■ Context structure\n",
    "\n",
    "Context structure:\n",
    "\n",
    "<img style=\"width:60%\" src=\"https://raw.githubusercontent.com/andrejkk/UPK_DataImgs/master/ContextDescription_ENG.png\">\n",
    "\n",
    "\n",
    "\n",
    "<p style=\"margin-bottom:1cm;\"></p>\n",
    "<div style=\"width:100%;text-align:right;font-weight:bold;font-size:1.2em;\"> 7 </div>\n",
    "<img src=\"https://raw.githubusercontent.com/andrejkk/ORvTK_SlidesImgs/master/footer_full.jpg\">"
   ]
  },
  {
   "attachments": {},
   "cell_type": "markdown",
   "metadata": {
    "slideshow": {
     "slide_type": "slide"
    }
   },
   "source": [
    "<div style=\"display:flex;font-weight:bold;font-size:0.9em;\">\n",
    "<div style=\"flex:1;width:50%;text-align:right;\"> 1. Context </div>\n",
    "</div>\n",
    "\n",
    "\n",
    "# ■ Context hierarchy\n",
    "\n",
    "Context hierarchy:\n",
    "\n",
    "<img style=\"width:80%\" src=\"https://raw.githubusercontent.com/andrejkk/UPK_DataImgs/master/ContextHierarchy_ENG.png\">\n",
    "\n",
    "\n",
    "<p style=\"margin-bottom:1cm;\"></p>\n",
    "<div style=\"width:100%;text-align:right;font-weight:bold;font-size:1.2em;\"> 8 </div>\n",
    "<img src=\"https://raw.githubusercontent.com/andrejkk/ORvTK_SlidesImgs/master/footer_full.jpg\">"
   ]
  },
  {
   "attachments": {},
   "cell_type": "markdown",
   "metadata": {
    "slideshow": {
     "slide_type": "slide"
    }
   },
   "source": [
    "<div style=\"display:flex;font-weight:bold;font-size:0.9em;\">\n",
    "<div style=\"flex:1;width:50%;text-align:right;\"> 1. Context </div>\n",
    "</div>\n",
    "\n",
    "\n",
    "# ■ When context is incorporated?\n",
    "\n",
    "Context can be used in the following three phases:\n",
    "\n",
    "#### Pre-filtering\n",
    "Depending on the context, we select data that is contextually relevant for customization. For example when learning the recommender system, only the books that the reader reads at home - if the context \"at home\" is known.\n",
    "\n",
    "#### Post-flirting\n",
    "After the adjustment itself, we consider only those recommendations that are relevant for the known context. For example in the recommendation system, we select (fit) only the books that the reader reads at home - if the context \"at home\" is known.\n",
    "\n",
    "#### Modeling\n",
    "Context is taken into account in the ML modeling itself. For example in the book recommendation system, we teach book reviews separately for at home and separately for traveling.\n",
    "\n",
    "\n",
    "<p style=\"margin-bottom:1cm;\"></p>\n",
    "<div style=\"width:100%;text-align:right;font-weight:bold;font-size:1.2em;\"> 9 </div>\n",
    "<img src=\"https://raw.githubusercontent.com/andrejkk/ORvTK_SlidesImgs/master/footer_full.jpg\">"
   ]
  },
  {
   "attachments": {},
   "cell_type": "markdown",
   "metadata": {
    "slideshow": {
     "slide_type": "slide"
    }
   },
   "source": [
    "<div style=\"display:flex;font-weight:bold;font-size:0.9em;\">\n",
    "<div style=\"flex:1;width:50%;text-align:right;\"> 1. Context </div>\n",
    "</div>\n",
    "\n",
    "\n",
    "# ■ Determining the context - sources of information\n",
    "\n",
    "Important sources of information for determining context are\n",
    "1. Sensors:\n",
    "     - accelerometer\n",
    "     - measurement of facial points -> affective and emotional states\n",
    "     - local temperature and humidity\n",
    "     - lighting\n",
    "     - background sound volume\n",
    "     - ...\n",
    "    \n",
    "    \n",
    "2. Internet of Things:\n",
    "     - weather depending on the position\n",
    "     - micro and macro position\n",
    "     - road traffic situation\n",
    "     - ...\n",
    "    \n",
    "\n",
    "3. User interaction:\n",
    "     - clickstream: record of all user interaction clicks (moment of click, button) in connection with the current state of the system\n",
    "     - use of multiple devices: the main device (e.g. PC or TV) is increasingly joined by a second screen\n",
    "     - ...\n",
    "    \n",
    "4. Social networks:\n",
    "     - marking of participation in the event\n",
    "     - communication with friends\n",
    "     - ...\n",
    "\n",
    "\n",
    "The final selection largely **depends on the connected application**.\n",
    "\n",
    "\n",
    "\n",
    "<p style=\"margin-bottom:1cm;\"></p>\n",
    "<div style=\"width:100%;text-align:right;font-weight:bold;font-size:1.2em;\"> 10 </div>\n",
    "<img src=\"https://raw.githubusercontent.com/andrejkk/ORvTK_SlidesImgs/master/footer_full.jpg\">"
   ]
  },
  {
   "attachments": {},
   "cell_type": "markdown",
   "metadata": {
    "slideshow": {
     "slide_type": "slide"
    }
   },
   "source": [
    "<div style=\"display:flex;font-weight:bold;font-size:0.9em;\">\n",
    "<div style=\"flex:1;width:50%;text-align:right;\"> 1. Context </div>\n",
    "</div>\n",
    "\n",
    "\n",
    "# ■ Context determination - algorithms\n",
    "\n",
    "\n",
    "Algorithms can be categorised into various groups of machine and statistical learning, all the way to big data algorithms.\n",
    "\n",
    "\n",
    "Groups of algorithms or their results according to information sources\n",
    "1. Sensors:\n",
    "     - recognizing situations: driving a car based on acceleration and noise, watching a movie, ...\n",
    "     - assessment of affective and emotional state\n",
    "     - assessment of cognitive load\n",
    "     - ...\n",
    "\n",
    "\n",
    "\n",
    "2. Internet of Things:\n",
    "     - determining the weather\n",
    "     - detects rapid changes in temperature\n",
    "     - ...\n",
    "\n",
    "\n",
    "\n",
    "3. User interaction:\n",
    "     - determination of a persona (group of consistent behavior, can cover several persons with similar activities)\n",
    "     - sentiment recognition\n",
    "     - ...\n",
    "\n",
    "\n",
    "4. Social networks\n",
    "     - sentiment recognition\n",
    "     - detection of active communication\n",
    "     - ...\n",
    "\n",
    "<p style=\"margin-bottom:1cm;\"></p>\n",
    "<div style=\"width:100%;text-align:right;font-weight:bold;font-size:1.2em;\"> 11 </div>\n",
    "<img src=\"https://raw.githubusercontent.com/andrejkk/ORvTK_SlidesImgs/master/footer_full.jpg\">"
   ]
  },
  {
   "attachments": {},
   "cell_type": "markdown",
   "metadata": {
    "slideshow": {
     "slide_type": "slide"
    }
   },
   "source": [
    "<div style=\"display:flex;font-weight:bold;font-size:0.9em;\">\n",
    "<div style=\"flex:1;width:50%;text-align:right;\"> 1. Context </div>\n",
    "</div>\n",
    "\n",
    "\n",
    "# ■ Context determination - an example of CoMoDa\n",
    "\n",
    "The main challenge of defining the context is the useful data sets of the real-world use of the system, which we use in **machine learning**.\n",
    "\n",
    "\n",
    "An example of such a dataset is **CoMoDa**, which we produced in our laboratory. Nearly 200 context studies were conducted on it.\n",
    "\n",
    "Web link: http://www.lucami.org/index.php/research/ldos-comoda-dataset\n",
    "\n",
    "\n",
    "Contains <br>\n",
    "##### Metadata\n",
    "userID (15 - 200, some missing) <br>\n",
    "itemID (1 -4138, some missing) <br>\n",
    "rating (1-5) <br>\n",
    "user's age <br>\n",
    "user's sex (1=male, 2= female) <br>\n",
    "user's city <br>\n",
    "user's country <br>\n",
    "time (1-4) <br>\n",
    "daytype (1-3) <br>\n",
    "season (1-4) <br>\n",
    "location (1-3) <br>\n",
    "weather (1-5) <br>\n",
    "social (1-7) <br>\n",
    "endEmo(1-7) <br>\n",
    "dominantEmo (1-7)<br>\n",
    "mood (1-3) <br>\n",
    "physical (1-2) <br>\n",
    "decision (1-2) <br>\n",
    "interaction (1-2) <br>\n",
    "movie director <br>\n",
    "movie's country <br>\n",
    "movie's language <br>\n",
    "movie's year <br>\n",
    "genre1 <br>\n",
    "genre2 <br>\n",
    "genre3 <br>\n",
    "actor1 <br>\n",
    "actor2 <br>\n",
    "actor3 <br>\n",
    "movie's budget <br>\n",
    "\n",
    "##### Context variables\n",
    "time : Morning, Afternoon, Evening, Night <br>\n",
    "daytype : Working day, Weekend, Holiday <br>\n",
    "season : Spring, Summer, Autumn, Winter <br>\n",
    "location : Home, Public place, Friend's house <br>\n",
    "weather : Sunny / clear, Rainy, Stormy, Snowy, Cloudy <br>\n",
    "social : Alone, My partner, Friends, Colleagues, Parents, Public, My family <br>\n",
    "endEmo : Sad, Happy, Scared, Surprised, Angry, Disgusted, Neutral <br>\n",
    "dominantEmo : Sad, Happy, Scared, Surprised, Angry, Disgusted, Neutral <br>\n",
    "mood : Positive, Neutral, Negative <br>\n",
    "physical : Healthy, Ill <br>\n",
    "decision : User decided which movie to watch, User was given a movie <br>\n",
    "interaction : first interaction with a movie, n-th interaction with a movie <br>\n",
    "\n",
    "\n",
    "<p style=\"margin-bottom:1cm;\"></p>\n",
    "<div style=\"width:100%;text-align:right;font-weight:bold;font-size:1.2em;\"> 12 </div>\n",
    "<img src=\"https://raw.githubusercontent.com/andrejkk/ORvTK_SlidesImgs/master/footer_full.jpg\">"
   ]
  },
  {
   "attachments": {},
   "cell_type": "markdown",
   "metadata": {
    "slideshow": {
     "slide_type": "slide"
    }
   },
   "source": [
    "<div style=\"display:flex;font-weight:bold;font-size:0.9em;\">\n",
    "<div style=\"flex:1;width:50%;text-align:right;\"> 1. Context </div>\n",
    "</div>\n",
    "\n",
    "\n",
    "# ■ Context determination - an example of CoMoDa \n",
    "\n",
    "The data collection and result for the **Comoda** crowd is shown below.\n",
    "\n",
    "#### Entering user feedback\n",
    "\n",
    "The data acquisition took place via the web interface, where the user **after watching the movie** gave his feedback if he so wished. Layout of the questionnaire:\n",
    "\n",
    "\n",
    "<img style=\"float: center; width: 60%\" src=\"https://raw.githubusercontent.com/andrejkk/UPK_DataImgs/master/CoMoDaQs.png\">\n",
    "\n",
    "<br><br>\n",
    "##### An excerpt from the data is shown in the image below.\n",
    "The data is collected in a table, an excerpt of which is shown below:\n",
    "<img style=\"float: center; width: 100%\" src=\"https://raw.githubusercontent.com/andrejkk/UPK_DataImgs/master/CoMoDa.png\">\n",
    "\n",
    "\n",
    "\n",
    "<p style=\"margin-bottom:1cm;\"></p>\n",
    "<div style=\"width:100%;text-align:right;font-weight:bold;font-size:1.2em;\"> 13 </div>\n",
    "<img src=\"https://raw.githubusercontent.com/andrejkk/ORvTK_SlidesImgs/master/footer_full.jpg\">"
   ]
  },
  {
   "cell_type": "code",
   "execution_count": null,
   "metadata": {},
   "outputs": [],
   "source": []
  }
 ],
 "metadata": {
  "celltoolbar": "Slideshow",
  "kernelspec": {
   "display_name": "Python 3 (ipykernel)",
   "language": "python",
   "name": "python3"
  },
  "language_info": {
   "codemirror_mode": {
    "name": "ipython",
    "version": 3
   },
   "file_extension": ".py",
   "mimetype": "text/x-python",
   "name": "python",
   "nbconvert_exporter": "python",
   "pygments_lexer": "ipython3",
   "version": "3.9.7"
  }
 },
 "nbformat": 4,
 "nbformat_minor": 2
}
