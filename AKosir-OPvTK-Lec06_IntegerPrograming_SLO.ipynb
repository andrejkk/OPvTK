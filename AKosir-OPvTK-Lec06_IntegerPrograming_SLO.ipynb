{
  "cells": [
    {
      "metadata": {
        "collapsed": true,
        "slideshow": {
          "slide_type": "slide"
        }
      },
      "cell_type": "markdown",
      "source": "<img style=\"float: center; width: 100%\" src=\"https://raw.githubusercontent.com/andrejkk/TalksImgs/master/FrontSlideUpperBan.png\">\n<p style=\"margin-bottom:2cm;\"></p>\n\n<center>\n    <H1> 6. Celoštevilsko (ILP) in mešano programiranje (MILP) </H1>\n   \n\n\n<br><br>\n    <H3> Andrej Košir, Lucami, FE </H4>\n    \n    <H4> Kontakt: prof. dr. Andrej Košir, andrej.kosir@lucami.fe.uni-lj.si, skype=akosir_sid </H4>\n</center>\n\n\n<p style=\"margin-bottom:2cm;\"></p>\n<div style=\"width:100%;text-align:right;font-weight:bold;font-size:1.2em;\"> 1 </div>\n<img src=\"https://raw.githubusercontent.com/andrejkk/ORvTK_SlidesImgs/master/footer_full.jpg\">"
    },
    {
      "metadata": {
        "collapsed": true,
        "slideshow": {
          "slide_type": "slide"
        }
      },
      "cell_type": "markdown",
      "source": "<div style=\"display:flex;font-weight:bold;font-size:0.9em;\">\n<div style=\"flex:1;width:50%;\"> 6. Celoštevilsko (ILP) in mešano programiranje (MILP)  </div>\n<div style=\"flex:1;width:50%;text-align:right;\"> Uvod, cilji </div>\n</div>\n\n\n\n## ■ Uvod, cilj:\n\n\n- Angl. Integer linear programming (ILP)\n- Cilj\n    - Spoznati specifičnost celoštevilskega programiranja glede na LP\n    - Spoznati algoritmične posebnosti\n    - Primeri v TK\n\n\n- Naivna rešitev:\n    - Rešim problem LP za realna števila, nato zaokrožim;\n    - Narobe: ni optimalna, ni nujno dopustna!\n\n\n\n- Zakaj omejitev na cela števila\n    - Logične spremenljivke\n    - Pripadnost množici\n\n\n<p style=\"margin-bottom:2cm;\"></p>\n<div style=\"width:100%;text-align:right;font-weight:bold;font-size:1.2em;\"> 2 </div>\n<img src=\"https://raw.githubusercontent.com/andrejkk/ORvTK_SlidesImgs/master/footer_full.jpg\">"
    },
    {
      "metadata": {
        "collapsed": true,
        "slideshow": {
          "slide_type": "slide"
        }
      },
      "cell_type": "markdown",
      "source": "<div style=\"display:flex;font-weight:bold;font-size:0.9em;\">\n<div style=\"flex:1;width:50%;\"> 6. Celoštevilsko (ILP) in mešano programiranje (MILP)  </div>\n<div style=\"flex:1;width:50%;text-align:right;\"> Poglavja </div>\n</div>\n\n## ■ Poglavja\n\n\n6.1. Definicija, rešljivost, algoritem \n\n■ Definicija celoštevilskega in mešanega programiranja $\\large{*}$\n\n■ Teorija: popolna unimodularnost \n\n■ Algoritem za rešitev ILP\n\n\n\n6.2 Primeri uporabe IPL v TK\n\n■ Nekatere naloge ILP v TK $\\large{*}$\n\n■ Problem postavljanja cene storitve \n\n■ Problem optimizacije elastičnega optičnega omrežja\n\n\n\n<p style=\"margin-bottom:2cm;\"></p>\n<div style=\"width:100%;text-align:right;font-weight:bold;font-size:1.2em;\"> 3 </div>\n<img src=\"https://raw.githubusercontent.com/andrejkk/ORvTK_SlidesImgs/master/footer_full.jpg\">"
    },
    {
      "metadata": {
        "collapsed": true,
        "slideshow": {
          "slide_type": "slide"
        }
      },
      "cell_type": "markdown",
      "source": "<div style=\"display:flex;font-weight:bold;font-size:0.9em;\">\n<div style=\"flex:1;width:50%;\"> 6. Celoštevilsko (ILP) in mešano programiranje (MILP)  </div>\n<div style=\"flex:1;width:50%;text-align:right;\"> 6.1. Definicija, rešljivost, algoritem </div>\n</div>\n\n## ■ 6.1. Definicija, rešljivost, algoritem\n\n\n■ Definicija celoštevilskega in mešanega programiranja\n\n■ Teorija: popolna unimodularnost\n\n■ Algoritem za rešitev ILP\n\n\n\n<p style=\"margin-bottom:2cm;\"></p>\n<div style=\"width:100%;text-align:right;font-weight:bold;font-size:1.2em;\"> 4 </div>\n<img src=\"https://raw.githubusercontent.com/andrejkk/ORvTK_SlidesImgs/master/footer_full.jpg\">"
    },
    {
      "metadata": {
        "collapsed": true,
        "slideshow": {
          "slide_type": "slide"
        }
      },
      "cell_type": "markdown",
      "source": "<div style=\"display:flex;font-weight:bold;font-size:0.9em;\">\n<div style=\"flex:1;width:50%;\"> 6. Celoštevilsko (ILP) in mešano programiranje (MILP)  </div>\n<div style=\"flex:1;width:50%;text-align:right;\"> 6.1. Definicija, rešljivost, algoritem </div>\n</div>\n\n## ■ Definicija celoštevilskega programiranja\n\n- Definicija\n$$ \\matrix{\n & & argmax_x w^\\top.x \\cr \n & s.t. & \\cr\n & & A.x \\leq b \\hfill \\cr\n & & x\\in ℕ \\hfill} $$\n\n\n- Mešani primeri:\n    - Mešano celoštevilsko linearno programiranje\n    - Nič – ena linearno programiranje: spremenljivke so logične, navadno se nanašajo na vsebovanost v množici\n\n\n\n- Zakaj?\n    - Narava problemov\n\n\n<p style=\"margin-bottom:2cm;\"></p>\n<div style=\"width:100%;text-align:right;font-weight:bold;font-size:1.2em;\"> 5 </div>\n<img src=\"https://raw.githubusercontent.com/andrejkk/ORvTK_SlidesImgs/master/footer_full.jpg\">"
    },
    {
      "metadata": {
        "collapsed": true,
        "slideshow": {
          "slide_type": "slide"
        }
      },
      "cell_type": "markdown",
      "source": "<div style=\"display:flex;font-weight:bold;font-size:0.9em;\">\n<div style=\"flex:1;width:50%;\"> 6. Celoštevilsko (ILP) in mešano programiranje (MILP)  </div>\n<div style=\"flex:1;width:50%;text-align:right;\"> 6.1. Definicija, rešljivost, algoritem </div>\n</div>\n\n\n## ■ Teorija: popolna unimodularnost\n\n- Popolnoma unimodularna matrika $A$:\n    - Unimodularna matrika: celoštevilska, $\\det(A)=\\pm 1$. Ekvivalentno: matrika ima celoštevilski inverz;\n    - Popolnoma unimodularna matrika: vsaka nesingularna podmatrika je unimodularna. Vedno ima elemente $−1,0,1$.\n\n\n\n- Kako preverimo unimodularnost:\n    - Članek: K. Truemper. A decomposition theory for matroids. V. Testing of matrix total unimodularity, J. Comb. Theory, Ser. B 49, 241-281, 1990.\n    - Algoritem: $O((𝑛+𝑚)^5)$\n\n\n\n- Če je matrika A popolnoma unimodularna:\n    - Bazne dopustne rešitve so celoštevilske\n    - Simpleksni algoritem da celoštevilske rešitve \n\n\n\n<p style=\"margin-bottom:2cm;\"></p>\n<div style=\"width:100%;text-align:right;font-weight:bold;font-size:1.2em;\"> 6 </div>\n<img src=\"https://raw.githubusercontent.com/andrejkk/ORvTK_SlidesImgs/master/footer_full.jpg\">"
    },
    {
      "metadata": {
        "collapsed": true,
        "slideshow": {
          "slide_type": "slide"
        }
      },
      "cell_type": "markdown",
      "source": "<div style=\"display:flex;font-weight:bold;font-size:0.9em;\">\n<div style=\"flex:1;width:50%;\"> 6. Celoštevilsko (ILP) in mešano programiranje (MILP)  </div>\n<div style=\"flex:1;width:50%;text-align:right;\"> 6.1. Definicija, rešljivost, algoritem </div>\n</div>\n\n\n## ■ Algoritem za rešitev ILP\n\n- Prva izbira: razveji in omeji (ang. branch and bound)\n- Simpleksni algoritem za popolnoma unimodularne matrike A\n- Varinate, namenske za posebne primere – velika razdrobljenost reširev\n\n\n\n<p style=\"margin-bottom:2cm;\"></p>\n<div style=\"width:100%;text-align:right;font-weight:bold;font-size:1.2em;\"> 7 </div>\n<img src=\"https://raw.githubusercontent.com/andrejkk/ORvTK_SlidesImgs/master/footer_full.jpg\">"
    },
    {
      "metadata": {
        "collapsed": true,
        "slideshow": {
          "slide_type": "slide"
        }
      },
      "cell_type": "markdown",
      "source": "<div style=\"display:flex;font-weight:bold;font-size:0.9em;\">\n<div style=\"flex:1;width:50%;\"> 6. Celoštevilsko (ILP) in mešano programiranje (MILP)  </div>\n<div style=\"flex:1;width:50%;text-align:right;\"> 6.2 Primeri uporabe IPL v TK </div>\n</div>\n\n\n## 6.2 Primeri uporabe IPL v TK\n\n\n■ Nekatere naloge ILP v TK\n\n■ Problem postavljanja cene storitve\n\n■ Problem optimizacije elastičnega optičnega omrežja\n\n\n\n<p style=\"margin-bottom:2cm;\"></p>\n<div style=\"width:100%;text-align:right;font-weight:bold;font-size:1.2em;\"> 8 </div>\n<img src=\"https://raw.githubusercontent.com/andrejkk/ORvTK_SlidesImgs/master/footer_full.jpg\">"
    },
    {
      "metadata": {
        "collapsed": true,
        "slideshow": {
          "slide_type": "slide"
        }
      },
      "cell_type": "markdown",
      "source": "<div style=\"display:flex;font-weight:bold;font-size:0.9em;\">\n<div style=\"flex:1;width:50%;\"> 6. Celoštevilsko (ILP) in mešano programiranje (MILP)  </div>\n<div style=\"flex:1;width:50%;text-align:right;\"> 6.2 Primeri uporabe IPL v TK </div>\n</div>\n\n\n## ■ Nekatere naloge ILP v TK\n\n\n- Problemi s področja načrtovanja omrežij\n- Problemi s področja določanja cenovne politike\n- Problemi pokritja\n- „Boolean satisfability“\n- Problem trgovskega potnika\n\n\n\n<p style=\"margin-bottom:2cm;\"></p>\n<div style=\"width:100%;text-align:right;font-weight:bold;font-size:1.2em;\"> 9 </div>\n<img src=\"https://raw.githubusercontent.com/andrejkk/ORvTK_SlidesImgs/master/footer_full.jpg\">"
    },
    {
      "metadata": {
        "collapsed": true,
        "slideshow": {
          "slide_type": "slide"
        }
      },
      "cell_type": "markdown",
      "source": "<div style=\"display:flex;font-weight:bold;font-size:0.9em;\">\n<div style=\"flex:1;width:50%;\"> 6. Celoštevilsko (ILP) in mešano programiranje (MILP)  </div>\n<div style=\"flex:1;width:50%;text-align:right;\"> 6.2 Primeri uporabe IPL v TK </div>\n</div>\n\n\n## ■ Problem postavljanja cene storitve (1)\n\n- Članek: Mustapha Bouhtou and Jean-Robin Medori and Michel Minoux: Mixed Integer Programming model for pricing in telecommunication, 2011.\n- Upravljanje dobička (yield management)\n- Cena kot regulator omrežja: odvisna je od obremenitve\n\n\n- Primer prometa:\n\n<img style=\"float: center; width: 350px; margin: 0px 20px 20px 0px;\" src=\"https://raw.githubusercontent.com/andrejkk/ORvTK_SlidesImgs/master/TelecommunicationTrafic.png\">\n\n\n\n<p style=\"margin-bottom:2cm;\"></p>\n<div style=\"width:100%;text-align:right;font-weight:bold;font-size:1.2em;\"> 10 </div>\n<img src=\"https://raw.githubusercontent.com/andrejkk/ORvTK_SlidesImgs/master/footer_full.jpg\">"
    },
    {
      "metadata": {
        "collapsed": true,
        "slideshow": {
          "slide_type": "slide"
        }
      },
      "cell_type": "markdown",
      "source": "<div style=\"display:flex;font-weight:bold;font-size:0.9em;\">\n<div style=\"flex:1;width:50%;\"> 6. Celoštevilsko (ILP) in mešano programiranje (MILP)  </div>\n<div style=\"flex:1;width:50%;text-align:right;\"> 6.2 Primeri uporabe IPL v TK </div>\n</div>\n\n\n## ■ Problem postavljanja cene storitve (2) \n\n- Vhodni podatki:\n    - Število časovnih intervalov: $n_T$\n    - Število nivojev prometa: $n_I$\n    - Pragi prometa: $L_i$\n    - Cena zadnjega intervala prejšnjega dne: $p_{-1}$ \n    - Časovna funkcija obremenitve: $\\rho(k, p_{k-1})$, $k$ indeks časovnega intervala\n    - Časovna funkcija zahtevkov: $D(k, p_k)$ \n    - Časovna funkcija prihodkov: $R(k, p_k)$\n\n\n\n- Spremenljivke:\n    - Cene po časovnih intervalih: $p_k\\in [P_{min}, P_{max}]$\n    - Cene po nivojih prometa $[L_{i-1}, L_i]$: $r_i\\in [P_{min}, P_{max}]$, $i$ indeks intervala obremenitve;\n    - Logična spremenljivka $\\beta_i^k=1$ če je obremenitev časovnega intervala $k$ enaka $L_i$ in $0$ sicer\n    - Obremenitev $\\alpha_i^k$: enaka obremenitvi če je v časovnem intervalu $k$ obrementev na nivoju $L_i$ in $0$ sicer;\n\n\n\n<p style=\"margin-bottom:2cm;\"></p>\n<div style=\"width:100%;text-align:right;font-weight:bold;font-size:1.2em;\"> 11 </div>\n<img src=\"https://raw.githubusercontent.com/andrejkk/ORvTK_SlidesImgs/master/footer_full.jpg\">"
    },
    {
      "metadata": {
        "collapsed": true,
        "slideshow": {
          "slide_type": "slide"
        }
      },
      "cell_type": "markdown",
      "source": "<div style=\"display:flex;font-weight:bold;font-size:0.9em;\">\n<div style=\"flex:1;width:50%;\"> 6. Celoštevilsko (ILP) in mešano programiranje (MILP)  </div>\n<div style=\"flex:1;width:50%;text-align:right;\"> 6.2 Primeri uporabe IPL v TK </div>\n</div>\n\n\n\n## ■ Problem postavljanja cene storitve (3)\n\n- Problem\n$$ \\matrix{\n & & argmax_{p_k, r_i} \\sum_{k=1}^{n_T-1} R(k, p_k) \\cr \n & s.t. & \\cr}\n$$\n \n<table width = 90%>\n  <tr>\n    <th> $\\sum_{i=0}^{n_I} \\alpha_i^k = \\rho(k, p_{k-1})$, $\\forall k$</th>\n    <th> (1) </th> \n  </tr>\n  <tr>\n    <td>$\\beta_i^k L_{i-1} \\leq \\alpha_i^k \\leq \\beta_i^k L_i$, $\\forall i, k$ </td>\n    <td>(2)</td> \n  </tr>\n  <tr>\n    <td> $\\sum_{i=0}^{n_I} \\beta_i^k = 1$, $\\forall k$ </td>\n    <td> (3) </td> \n  </tr>\n  <tr>\n    <td> $(\\beta_i^k-1)M \\leq p_k - r_i \\leq (1-\\beta_i^k)M$, $\\forall i, k$ </td>\n    <td> (4) </td> \n  </tr>\n  <tr>\n    <td> $\\beta_{n_I}^{k-1} + \\beta_{n_I}^k \\leq 1$, $\\forall k\\ne 0$ </td>\n    <td> (5) </td> \n  </tr>\n  <tr>\n    <td> $\\beta_i^k\\in\\{0, 1\\}$, $\\forall i, k$ </td>\n    <td> (6) </td> \n  </tr>\n  <tr>\n    <td> $\\alpha_i^k \\geq 0$, $\\forall i, k$ </td>\n    <td> (7) </td> \n  </tr>\n  <tr>\n    <td> $r_i \\in [P_{min}, P_{max}]$, $\\forall i$, $p_k \\in [P_{min}, P_{max}]$, $\\forall k$ </td>\n    <td> (8) </td> \n  </tr>\n</table>\n\n\n<p style=\"margin-bottom:2cm;\"></p>\n<div style=\"width:100%;text-align:right;font-weight:bold;font-size:1.2em;\"> 12 </div>\n<img src=\"https://raw.githubusercontent.com/andrejkk/ORvTK_SlidesImgs/master/footer_full.jpg\">"
    },
    {
      "metadata": {
        "collapsed": true,
        "slideshow": {
          "slide_type": "slide"
        }
      },
      "cell_type": "markdown",
      "source": "<div style=\"display:flex;font-weight:bold;font-size:0.9em;\">\n<div style=\"flex:1;width:50%;\"> 6. Celoštevilsko (ILP) in mešano programiranje (MILP)  </div>\n<div style=\"flex:1;width:50%;text-align:right;\"> 6.2 Primeri uporabe IPL v TK </div>\n</div>\n\n\n## ■ Problem postavljanja cene storitve (4) \n\n- Razlaga kriterija in pogojev:\n    - Kriterijska funkcija: prihodki po eni periodi, v zaporednih intervalih \n    - (1): Konstante $\\alpha_i^k$, ki predstavljajo obremenitev, so enake pravim obremenitvam;  \n    - (2): Nastavite nivoja obremenitve med prednastavljene prage;\n    - (3): V vsakem trenutku je izbran natanko en nivo obremenitve;\n    - (4): Časovne intervale prilagodi nivojem obremenitve: tedaj je $p_k=r_i$;\n    - (5): Preprečuje zasičenje v dveh zaporednih intervalih (zasičenje pomeni obremenitev čez zadnji prag obremenitve);\n    - (6): Spremenljivke $\\beta_i^k$ so binarne – indikatorske;\n    - (7): Nivoji obremenitve so nenegativni;\n    - (8): Cene so vnaprej omejene;\n\n\n\n\n<p style=\"margin-bottom:2cm;\"></p>\n<div style=\"width:100%;text-align:right;font-weight:bold;font-size:1.2em;\"> 13 </div>\n<img src=\"https://raw.githubusercontent.com/andrejkk/ORvTK_SlidesImgs/master/footer_full.jpg\">"
    },
    {
      "metadata": {
        "collapsed": true,
        "slideshow": {
          "slide_type": "slide"
        }
      },
      "cell_type": "markdown",
      "source": "## ■ Problem postavljanja cene storitve (5)\n\n- Privzamemo model obremenitve in prihodka:\n    - Obremenitev pada s ceno: $\\rho(k, p_{k-1}) = d_k - c_k p_{k-1}$\n    - Prihodek $R(k, p_k) = D(p_k) p_k = b_k p_k - a_k p_k^2$ \n\n\n- Privzamemo čaovne ontervale in območja obremenitev\n    - Časovni intervali: $[0,t_0=6]$, $[6,t_1=18]$, $[18,t_2=24]$;\n    - Intervali obremenitev: $[0, L_1=10]$, $[10, L_2=30]$, $[30, L_3=50]$, $[50, \\infty)$;\n\n\n\n- Pripadajoče konstante modela obremenitve in prihodka – statistično modelirannje prometa:\n\n<table style=\"width:40%\" border=\"1\">\n  <tr>\n    <th> inter. $k$ </th>\n    <th> $a_k$ </th> \n    <th> $b_k$ </th>\n    <th> $c_k$ </th>\n    <th> $d_k$ </th>\n  </tr>\n  <tr>\n    <td>$0$</td>\n    <td>$10$</td> \n    <td>$20$</td>\n    <td>$6$</td>\n    <td>$12$</td>\n  </tr>\n  <tr>\n    <td>$1$</td>\n    <td>$15$</td> \n    <td>$25$</td>\n    <td>$8$</td>\n    <td>$16$</td>\n  </tr>\n  <tr>\n    <td>$2$</td>\n    <td>$12$</td> \n    <td>$22$</td>\n    <td>$7$</td>\n    <td>$11$</td>\n  </tr>\n</table>\n\n- Omejitve cene: $P_{min}=30$, $P_{max}=90$\n- „Big M“ $M=10000$\n\n\n<p style=\"margin-bottom:2cm;\"></p>\n<div style=\"width:100%;text-align:right;font-weight:bold;font-size:1.2em;\"> 14 </div>\n<img src=\"https://raw.githubusercontent.com/andrejkk/ORvTK_SlidesImgs/master/footer_full.jpg\">"
    },
    {
      "metadata": {
        "collapsed": true,
        "slideshow": {
          "slide_type": "slide"
        }
      },
      "cell_type": "markdown",
      "source": "<div style=\"display:flex;font-weight:bold;font-size:0.9em;\">\n<div style=\"flex:1;width:50%;\"> 6. Celoštevilsko (ILP) in mešano programiranje (MILP)  </div>\n<div style=\"flex:1;width:50%;text-align:right;\"> 6.2 Primeri uporabe IPL v TK </div>\n</div>\n\n\n## ■ Problem postavljanja cene storitve (6)\n\n\nRezultati:\n\n<table style=\"width:30%\">\n  <tr>\n    <th>$p_0=90$</th>\n    <th>$p_1=90$</th> \n    <th>$p_2=90$</th>\n  </tr>\n  <tr>\n    <td>$r_0=90$</td>\n    <td>$r_1=90$</td> \n    <td>$r_2=90$</td>\n  </tr>\n</table>\n\n\n<p style=\"margin-bottom:2cm;\"></p>\n<div style=\"width:100%;text-align:right;font-weight:bold;font-size:1.2em;\"> 15 </div>\n<img src=\"https://raw.githubusercontent.com/andrejkk/ORvTK_SlidesImgs/master/footer_full.jpg\">"
    },
    {
      "metadata": {
        "collapsed": true,
        "slideshow": {
          "slide_type": "slide"
        }
      },
      "cell_type": "markdown",
      "source": "<div style=\"display:flex;font-weight:bold;font-size:0.9em;\">\n<div style=\"flex:1;width:50%;\"> 6. Celoštevilsko (ILP) in mešano programiranje (MILP)  </div>\n<div style=\"flex:1;width:50%;text-align:right;\"> 6.2 Primeri uporabe IPL v TK </div>\n</div>\n\n\n## ■ Problem opt. elastičnega optičnega omrežja (1)\n\n\n- Članek: Pages et. al: Optimal Route, Spectrum, and Modulation Level Assignment in Split-Spectrum-Enabled Dynamic Elastic Optical Networks, 2014.\n\n\n- Kaj je elastično optično omrežje:\n    - Razdeljen spekter (angl. Split Spectrum approach, SSA)\n    - Frekvenčna okna (angl. Frequency Slots, FS)\n    - Kanali (angl. channels): strnjeno sosledje frekvenčnih oken z izbrano modulacijo\n    - Več modulacij: različne hitrosti, različni dosegi,  različno število FS\n    - Ob vsaki novi zahtevi za prenos opotimiziramo alokacijo virov – problem optimalne (angl. Route, spectrum, and modulation level assignment, RMSLA) \n        - Alokacije frekvenčnih oken\n        - Izbora kanalov in modulacij \n\n<img style=\"float: right; width: 300px; margin: -20px 20px 50px 0;\" src=\"https://raw.githubusercontent.com/andrejkk/ORvTK_SlidesImgs/master/ElasticNetworkGr.png\">\n\n\n<p style=\"margin-bottom:2cm;\"></p>\n<div style=\"width:100%;text-align:right;font-weight:bold;font-size:1.2em;\"> 16 </div>\n<img src=\"https://raw.githubusercontent.com/andrejkk/ORvTK_SlidesImgs/master/footer_full.jpg\">"
    },
    {
      "metadata": {
        "collapsed": true,
        "slideshow": {
          "slide_type": "slide"
        }
      },
      "cell_type": "markdown",
      "source": "<div style=\"display:flex;font-weight:bold;font-size:0.9em;\">\n<div style=\"flex:1;width:50%;\"> 6. Celoštevilsko (ILP) in mešano programiranje (MILP)  </div>\n<div style=\"flex:1;width:50%;text-align:right;\"> 6.2 Primeri uporabe IPL v TK </div>\n</div>\n\n\n## ■ Problem opt. elastičnega optičnega omrežja (2)\n\n- Predstavitev primera omrežja\n    - Predstavitev omrežja $G=(V, E)$, $V=\\{1,2,3,4,5\\}$, $E=\\{(12), (13), (23), (24), (34), (35), (45)\\}$\n    - Izvor, ponor: $s=N_1$, $t=N_5$\n    - Zahteva: $s_d\\to t_d$, $R_d = 50$ Gbit/s: zahtevana bitna hitrost\n    - Optimizacijski kriterij:\n        - Minimalno dodeljenih virov za dan prenos\n        - Minimalno število spektralnih lukenj\n\n\n\n<img style=\"float: center; width: 400px; margin: 20px 20px 50px 100px;\" src=\"https://raw.githubusercontent.com/andrejkk/ORvTK_SlidesImgs/master/ElasticNetworkCase.png\">\n\n\n\n<p style=\"margin-bottom:2cm;\"></p>\n<div style=\"width:100%;text-align:right;font-weight:bold;font-size:1.2em;\"> 17 </div>\n<img src=\"https://raw.githubusercontent.com/andrejkk/ORvTK_SlidesImgs/master/footer_full.jpg\">"
    },
    {
      "metadata": {
        "collapsed": true,
        "slideshow": {
          "slide_type": "slide"
        }
      },
      "cell_type": "markdown",
      "source": "<div style=\"display:flex;font-weight:bold;font-size:0.9em;\">\n<div style=\"flex:1;width:50%;\"> 6. Celoštevilsko (ILP) in mešano programiranje (MILP)  </div>\n<div style=\"flex:1;width:50%;text-align:right;\"> 6.2 Primeri uporabe IPL v TK </div>\n</div>\n\n\n## ■ Problem opt. elastičnega optičnega omrežja (3)\n\n- Frekvenčna okna (angl. Frequency slots, FS)\n    - $F_w$: spektralna širina posameznega frekvenčnega okna, tipično $6,25 GHz$ ali $12,5 GHz$, v našem primeru $F_w=10 GHz$\n    - $G$: varovalna pasovna širina (zaradi spremenljive pasovne širine), v našem primeru $G=8GHz$ \n\n\n<img style=\"float: center; width: 400px; margin: 40px 20px 50px 100px;\" src=\"https://raw.githubusercontent.com/andrejkk/ORvTK_SlidesImgs/master/ElasticNetwor_FreqW.png\">\n\n\n\n<p style=\"margin-bottom:2cm;\"></p>\n<div style=\"width:100%;text-align:right;font-weight:bold;font-size:1.2em;\"> 18 </div>\n<img src=\"https://raw.githubusercontent.com/andrejkk/ORvTK_SlidesImgs/master/footer_full.jpg\">"
    },
    {
      "metadata": {
        "collapsed": true,
        "slideshow": {
          "slide_type": "slide"
        }
      },
      "cell_type": "markdown",
      "source": "<div style=\"display:flex;font-weight:bold;font-size:0.9em;\">\n<div style=\"flex:1;width:50%;\"> 6. Celoštevilsko (ILP) in mešano programiranje (MILP)  </div>\n<div style=\"flex:1;width:50%;text-align:right;\"> 6.2 Primeri uporabe IPL v TK </div>\n</div>\n\n\n\n## ■ Problem opt. elastičnega optičnega omrežja (4)\n\n\n- Modulacije (vse v [GHz])\n    - $R_m$: bitna hitrost modulacije $m$\n    - $B_m$: spektralna širina modulacije $m$\n    - $S_m=⌈\\frac{B_m+G}{F_w}⌉$  : Število zahtevanih FS modulacije $𝑚$\n    - $TR_m$: Doseg modulacije $m$\n\n\n\n<table style=\"width:60%\">\n  <tr>\n    <th> $m$ </th>\n    <th> $R_m$[Gb/s] </th> \n    <th> $B_m$[GHz] </th>\n    <th> $TR_m[km]$ </th>\n    <th> $S_m$ </th>\n  </tr>\n  <tr>\n    <td>$1$</td>\n    <td>$25$</td> \n    <td>$12$</td>\n    <td>$20$</td>\n    <td>$2$</td>\n  </tr>\n  <tr>\n    <td>$2$</td>\n    <td>$50$</td> \n    <td>$14$</td>\n    <td>$14$</td>\n    <td>$3$</td>\n  </tr>\n  <tr>\n    <td>$3$</td>\n    <td>$75$</td> \n    <td>$10$</td>\n    <td>$10$</td>\n    <td>$1$</td>\n  </tr>\n</table>\n\n\n\n\n- Omejitev: \n    - Bitna hitrost: $R_d\\leq \\sum_{i=1}^H R_{m_i}$  \n\n\n<p style=\"margin-bottom:2cm;\"></p>\n<div style=\"width:100%;text-align:right;font-weight:bold;font-size:1.2em;\"> 19 </div>\n<img src=\"https://raw.githubusercontent.com/andrejkk/ORvTK_SlidesImgs/master/footer_full.jpg\">"
    },
    {
      "metadata": {
        "collapsed": true,
        "slideshow": {
          "slide_type": "slide"
        }
      },
      "cell_type": "markdown",
      "source": "<div style=\"display:flex;font-weight:bold;font-size:0.9em;\">\n<div style=\"flex:1;width:50%;\"> 6. Celoštevilsko (ILP) in mešano programiranje (MILP)  </div>\n<div style=\"flex:1;width:50%;text-align:right;\"> 6.2 Primeri uporabe IPL v TK </div>\n</div>\n\n\n## ■ Problem opt. elastičnega optičnega omrežja (5)\n\n- Seznam dovoljenih poti za dano zahtevo $P_d$ in cene\n    - $h_p$: število hopov poti $p\\in P_d$\n    - $l_p$: skupna cena za prenos po poti $p$, ki je vsota prenosov po poteh\n   \n\n<img style=\"float: center; width: 350px; margin: 20px 20px 50px 100px;\" src=\"https://raw.githubusercontent.com/andrejkk/ORvTK_SlidesImgs/master/ElasticNetworkCase.png\">\n\n\n\n<table style=\"width:60%\">\n  <tr>\n    <th> $p_{id}$ </th>\n    <th> $p$ </th> \n    <th> $l_p$ </th>\n    <th> $h_p$ </th>\n  </tr>\n  <tr>\n    <td>$1$</td>\n    <td>$(1245)$</td> \n    <td>$13$</td>\n    <td>$2$</td>\n  </tr>\n  <tr>\n    <td>$2$</td>\n    <td>$(12345)$</td> \n    <td>$14$</td>\n    <td>$3$</td>\n  </tr>\n  <tr>\n    <td>$3$</td>\n    <td>$(1235)$</td> \n    <td>$12$</td>\n    <td>$2$</td>\n  </tr>\n  <tr>\n    <td>$4$</td>\n    <td>$(1345)$</td> \n    <td>$13$</td>\n    <td>$2$</td>\n  </tr>\n  <tr>\n    <td>$4$</td>\n    <td>$(135)$</td> \n    <td>$11$</td>\n    <td>$1$</td>\n  </tr>\n</table>\n\n\n\n- Kanali:\n    - Vse možne kanale poti $p$ označimo s $C_p$\n\n\n<p style=\"margin-bottom:2cm;\"></p>\n<div style=\"width:100%;text-align:right;font-weight:bold;font-size:1.2em;\"> 20 </div>\n<img src=\"https://raw.githubusercontent.com/andrejkk/ORvTK_SlidesImgs/master/footer_full.jpg\">"
    },
    {
      "metadata": {
        "collapsed": true,
        "slideshow": {
          "slide_type": "slide"
        }
      },
      "cell_type": "markdown",
      "source": "<div style=\"display:flex;font-weight:bold;font-size:0.9em;\">\n<div style=\"flex:1;width:50%;\"> 6. Celoštevilsko (ILP) in mešano programiranje (MILP)  </div>\n<div style=\"flex:1;width:50%;text-align:right;\"> 6.2 Primeri uporabe IPL v TK </div>\n</div>\n\n\n\n## ■ Problem opt. elastičnega optičnega omrežja (6)\n\n- Trenutno stanje zasedenosti FS po poteh (za pretkle prenose)\n    - Kanali zasedajo istoležne FS vzdolž celotne poti, zato je veliko FS nezasedenih\n    - Z $*$ so označeni že zasedeni, torej $F_p^u$. Prosta mesta so nezasedena, torej predstavljajo $F\\setminus F_p^u$\n\n\n\n<table style=\"width:60%\">\n  <tr>\n    <th> $p_{id}$ </th>\n    <th> $1$ </th> \n    <th> $2$ </th>\n    <th> $3$ </th>\n    <th> $4$ </th> \n    <th> $5$ </th>\n    <th> $6$ </th>\n    <th> $7$ </th> \n    <th> $8$ </th>\n    <th> $9$ </th>\n    <th> $10$ </th> \n  </tr>\n  <tr>\n    <td>$1$</td>\n    <td>\\*</td>\n    <td>\\*</td>\n    <td></td>      \n    <td></td>\n    <td></td>\n    <td></td>\n    <td></td>\n    <td></td>\n    <td></td>\n    <td></td>\n  </tr>\n  <tr>\n    <td>$2$</td>\n    <td></td>\n    <td></td>\n    <td>\\*</td>      \n    <td></td>\n    <td></td>\n    <td></td>\n    <td></td>\n    <td></td>\n    <td></td>\n    <td></td>\n  </tr>\n  <tr>\n    <td>$3$</td>\n    <td></td>\n    <td></td>\n    <td></td>      \n    <td>\\*</td>\n    <td>\\*</td>\n    <td>\\*</td>\n    <td></td>\n    <td></td>\n    <td></td>\n    <td></td>\n  </tr>\n  <tr>\n    <td>$4$</td>\n    <td></td>\n    <td></td>\n    <td></td>      \n    <td>\\*</td>\n    <td>\\*</td>\n    <td></td>\n    <td></td>\n    <td></td>\n    <td></td>\n    <td></td>\n  </tr>\n  <tr>\n    <td>$5$</td>\n    <td>\\*</td>\n    <td>\\*</td>\n    <td></td>      \n    <td></td>\n    <td></td>\n    <td></td>\n    <td></td>\n    <td></td>\n    <td></td>\n    <td></td>\n  </tr>\n</table>\n\n\n\n<p style=\"margin-bottom:2cm;\"></p>\n<div style=\"width:100%;text-align:right;font-weight:bold;font-size:1.2em;\"> 21 </div>\n<img src=\"https://raw.githubusercontent.com/andrejkk/ORvTK_SlidesImgs/master/footer_full.jpg\">"
    },
    {
      "metadata": {
        "collapsed": true,
        "slideshow": {
          "slide_type": "slide"
        }
      },
      "cell_type": "markdown",
      "source": "<div style=\"display:flex;font-weight:bold;font-size:0.9em;\">\n<div style=\"flex:1;width:50%;\"> 6. Celoštevilsko (ILP) in mešano programiranje (MILP)  </div>\n<div style=\"flex:1;width:50%;text-align:right;\"> 6.2 Primeri uporabe IPL v TK </div>\n</div>\n\n## ■ Problem opt. elastičnega optičnega omrežja (7)\n\n\n\n- Trenutno stanje zasedenosti FS po povezavah\n    - Prosta mesta so prazna, številke povedo pot, kateri je dan FS prirejen\n    - Na levi so poti, katerim pripada povezava\n\n\n<table style=\"width:100%\">\n  <tr>\n    <th> $p$ </th>\n    <th> $e,FS$ </th>\n    <th> $1$ </th> \n    <th> $2$ </th>\n    <th> $3$ </th>\n    <th> $4$ </th> \n    <th> $5$ </th>\n    <th> $6$ </th>\n    <th> $7$ </th> \n    <th> $8$ </th>\n    <th> $9$ </th>\n    <th> $10$ </th> \n  </tr>\n  <tr>\n    <td>$1,2,3$</td>\n    <td>12</td>\n    <td>1</td>\n    <td>1</td>\n    <td>2</td>      \n    <td>3</td>\n    <td>3</td>\n    <td>3</td>\n    <td></td>\n    <td></td>\n    <td></td>\n    <td></td>\n  </tr>\n  <tr>\n    <td>$4,5$</td>\n    <td>13</td>\n    <td>5</td>\n    <td>5</td>\n    <td></td>      \n    <td>4</td>\n    <td>4</td>\n    <td></td>\n    <td></td>\n    <td></td>\n    <td></td>\n    <td></td>\n  </tr>\n  <tr>\n    <td>$2,3$</td>\n    <td>23</td>\n    <td></td>\n    <td></td>      \n    <td>2</td>\n    <td>3</td>\n    <td>3</td>\n    <td>3</td>\n    <td></td>\n    <td></td>\n    <td></td>\n  </tr>\n  <tr>\n    <td>$1$</td>\n    <td>24</td>\n    <td>1</td>\n    <td>1</td>\n    <td></td>      \n    <td></td>\n    <td></td>\n    <td></td>\n    <td></td>\n    <td></td>\n    <td></td>\n    <td></td>\n  </tr>\n  <tr>\n    <td>$2,4$</td>\n    <td>34</td>\n    <td></td>\n    <td></td>\n    <td>2</td>      \n    <td>4</td>\n    <td>4</td>\n    <td></td>\n    <td></td>\n    <td></td>\n    <td></td>\n    <td></td>\n  </tr>\n  <tr>\n    <td>$3,5$</td>\n    <td>35</td>\n    <td>5</td>\n    <td>5</td>\n    <td></td>      \n    <td>3</td>\n    <td>3</td>\n    <td>3</td>\n    <td></td>\n    <td></td>\n    <td></td>\n    <td></td>\n  </tr>\n  <tr>\n    <td>$1,2,4$</td>\n    <td>45</td>\n    <td>1</td>\n    <td>1</td>\n    <td>2</td>      \n    <td>4</td>\n    <td>4</td>\n    <td></td>\n    <td></td>\n    <td></td>\n    <td></td>\n    <td></td>\n  </tr>\n</table>\n\n\n<p style=\"margin-bottom:2cm;\"></p>\n<div style=\"width:100%;text-align:right;font-weight:bold;font-size:1.2em;\"> 22 </div>\n<img src=\"https://raw.githubusercontent.com/andrejkk/ORvTK_SlidesImgs/master/footer_full.jpg\">"
    },
    {
      "metadata": {
        "collapsed": true,
        "slideshow": {
          "slide_type": "slide"
        }
      },
      "cell_type": "markdown",
      "source": "<div style=\"display:flex;font-weight:bold;font-size:0.9em;\">\n<div style=\"flex:1;width:50%;\"> 6. Celoštevilsko (ILP) in mešano programiranje (MILP)  </div>\n<div style=\"flex:1;width:50%;text-align:right;\"> 6.2 Primeri uporabe IPL v TK </div>\n</div>\n\n\n## ■ Problem opt. elastičnega optičnega omrežja (8)\n\n\n- Izvedljive modulacije – katere modulacije so na voljo za dodelitev?\n\n\n<font size=\"2\">\n<table style=\"width:100%\">\n  <tr>\n    <th> $p_{id}$ </th>\n    <th> $m=1, S_m=2$ </th> \n    <th> $m=2, S_m=3$ </th>\n    <th> $m=3, S_m=1$ </th>\n  </tr>\n  <tr>\n    <td>$1$</td>\n    <td>$7-8,8-9,9-10$</td> \n    <td>$7-9,8-10$</td>\n    <td>$7-7,8-8,9-9,10-10$</td>\n  </tr>\n  <tr>\n    <td>$2$</td>\n    <td>$7-8,8-9,9-10$</td> \n    <td>$7-9,8-10$</td>\n    <td>$7-7,8-8,9-9,10-10$</td>\n  </tr>\n  <tr>\n    <td>$3$</td>\n    <td>$7-8,8-9,9-10$</td> \n    <td>$7-9,8-10$</td>\n    <td>$7-7,8-8,9-9,10-10$</td>\n  </tr>\n  <tr>\n    <td>$4$</td>\n    <td>$6-7,7-8,8-9,9-10$</td> \n    <td>$6-8,7-9,8-10$</td>\n    <td>$6-6,7-7,8-8,9-9,10-10$</td>\n  </tr>\n  <tr>\n    <td>$5$</td>\n    <td>$7-8,8-9,9-10$</td> \n    <td>$7-9,8-10$</td>\n    <td>$7-7,8-8,9-9,10-10$</td>\n  </tr>\n</table>\n</font>\n\n\n<p style=\"margin-bottom:2cm;\"></p>\n<div style=\"width:100%;text-align:right;font-weight:bold;font-size:1.2em;\"> 23 </div>\n<img src=\"https://raw.githubusercontent.com/andrejkk/ORvTK_SlidesImgs/master/footer_full.jpg\">"
    },
    {
      "metadata": {
        "collapsed": true,
        "slideshow": {
          "slide_type": "slide"
        }
      },
      "cell_type": "markdown",
      "source": "<div style=\"display:flex;font-weight:bold;font-size:0.9em;\">\n<div style=\"flex:1;width:50%;\"> 6. Celoštevilsko (ILP) in mešano programiranje (MILP)  </div>\n<div style=\"flex:1;width:50%;text-align:right;\"> 6.2 Primeri uporabe IPL v TK </div>\n</div>\n\n\n## ■ Problem opt. elastičnega optičnega omrežja (9)\n\n\n- Omejitve in predpostavke:\n    - Omejitev kapacitete: $R_d \\leq \\sum_{i=1}^H R_{m_i}$   \n    - Vsaka modulacija zaseda potrebno število SOSEDNJIH frekvenčnih oken\n    - Kanali, ki potekajo po zaporednih povezavah v poti, zasedajo ISTA frekvenčna okna\n    - Vsako frekvenčno okno je dodeljeno natanko enemu fizičnemu kanalu\n    - Zgornja meja števila elastičnih tokov je omejeno s konstanto $FL_{max}$\n    - Zgornja meja števila delov zahteve: $H_{max}$\n    - Zgornja meja števila poti zahteve: $L_{max}$\n\n\n\n<p style=\"margin-bottom:2cm;\"></p>\n<div style=\"width:100%;text-align:right;font-weight:bold;font-size:1.2em;\"> 24 </div>\n<img src=\"https://raw.githubusercontent.com/andrejkk/ORvTK_SlidesImgs/master/footer_full.jpg\">"
    },
    {
      "metadata": {
        "collapsed": true,
        "slideshow": {
          "slide_type": "slide"
        }
      },
      "cell_type": "markdown",
      "source": "<div style=\"display:flex;font-weight:bold;font-size:0.9em;\">\n<div style=\"flex:1;width:50%;\"> 6. Celoštevilsko (ILP) in mešano programiranje (MILP)  </div>\n<div style=\"flex:1;width:50%;text-align:right;\"> 6.2 Primeri uporabe IPL v TK </div>\n</div>\n\n\n## ■ Problem opt. elastičnega optičnega omrežja (10)\n\n\n\n- Uvedba spremenljivk - oznak v formulaciji problema\n    - $x_{p,x}$, $p\\in P$, $c\\in C_p$: Indikator poti in kanalov\n    - $y_p$,  $p\\in P$: Indikator uporabe poti\n    - $z_{p,f}$, $p\\in P$, $f\\in FS$: Indikator uporabe frekvenčnega okna\n    - $P_p$, $p\\in P$: Število delov po poti\n    - $T_p$: Število lukenj v FP na poti $p\\in P$\n    - $w_{p,f, f+1}$: ohlapne (angl slack) spremenljivke:\n    - $A$: Razlika med zahtevano in dodeljeno pasovno širino\n\n\n    \n\n- Glede na te spremenljivke vpeljemo oznake v datotečni formulaciji problema\n\n\n\n<p style=\"margin-bottom:2cm;\"></p>\n<div style=\"width:100%;text-align:right;font-weight:bold;font-size:1.2em;\"> 25 </div>\n<img src=\"https://raw.githubusercontent.com/andrejkk/ORvTK_SlidesImgs/master/footer_full.jpg\">"
    },
    {
      "metadata": {
        "collapsed": true,
        "slideshow": {
          "slide_type": "slide"
        }
      },
      "cell_type": "markdown",
      "source": "<div style=\"display:flex;font-weight:bold;font-size:0.9em;\">\n<div style=\"flex:1;width:50%;\"> 6. Celoštevilsko (ILP) in mešano programiranje (MILP)  </div>\n<div style=\"flex:1;width:50%;text-align:right;\"> 6.2 Primeri uporabe IPL v TK </div>\n</div>\n\n\n## ■ Problem opt. elastičnega optičnega omrežja (11)\n\n- Formulacija za splošno omrežje\n    - Kriterijska funkcija\n$$ \\matrix{\nc(x_{p,c}) &=& \\alpha\\frac{1}{H_{max}|P_d|} \\sum_{p\\in P_d} h_p P_p \n \\;+\\; \\beta\\frac{1}{|F||P_d|} \\sum_{p\\in P_d} h_p T_p  \\cr\n && + \\quad \\gamma\\frac{1}{|C|}\\sum_{p\\in P_d} h_p\n \\sum_{c\\in C_p} S_c(1+\\varepsilon f_c) x_{p,c} \\;+\\; \\delta\\frac{A}{max \\{R_m\\}}\n} \n$$\n\n\n- Naloga:\n$$ argmin_x c(x) $$\n\n\n<p style=\"margin-bottom:2cm;\"></p>\n<div style=\"width:100%;text-align:right;font-weight:bold;font-size:1.2em;\"> 26 </div>\n<img src=\"https://raw.githubusercontent.com/andrejkk/ORvTK_SlidesImgs/master/footer_full.jpg\">"
    },
    {
      "metadata": {
        "collapsed": true,
        "slideshow": {
          "slide_type": "slide"
        }
      },
      "cell_type": "markdown",
      "source": "<div style=\"display:flex;font-weight:bold;font-size:0.9em;\">\n<div style=\"flex:1;width:50%;\"> 6. Celoštevilsko (ILP) in mešano programiranje (MILP)  </div>\n<div style=\"flex:1;width:50%;text-align:right;\"> 6.2 Primeri uporabe IPL v TK </div>\n</div>\n\n\n## ■ Problem opt. elastičnega optičnega omrežja (12)\n\n- Pogoji\n    - Omejitev kapacitet: \n    $$ R_d \\leq \\sum_{p\\in P_d} \\sum_{c\\in C_p} R_c x_{p,c} $$\n    - Izračun preveč alocirane pasovne širine:\n    $$ A = \\sum_{p\\in P_d} \\sum_{c\\in C_p} R_c x_{p,c} - R_d $$\n    - Število kanalov je omejeno: \n    $$ x_{p,c} \\leq y_p $$\n    $$ \\sum_{p\\in P_d} y_p \\leq L_{max} $$\n\n\n\n<p style=\"margin-bottom:2cm;\"></p>\n<div style=\"width:100%;text-align:right;font-weight:bold;font-size:1.2em;\"> 27 </div>\n<img src=\"https://raw.githubusercontent.com/andrejkk/ORvTK_SlidesImgs/master/footer_full.jpg\">"
    },
    {
      "metadata": {
        "collapsed": true,
        "slideshow": {
          "slide_type": "slide"
        }
      },
      "cell_type": "markdown",
      "source": "<div style=\"display:flex;font-weight:bold;font-size:0.9em;\">\n<div style=\"flex:1;width:50%;\"> 6. Celoštevilsko (ILP) in mešano programiranje (MILP)  </div>\n<div style=\"flex:1;width:50%;text-align:right;\"> 6.2 Primeri uporabe IPL v TK </div>\n</div>\n\n\n\n## ■ Problem opt. elastičnega optičnega omrežja (13)\n\n- Pogoji (nad.)\n    - Omejitev števila delov:\n    $$ \\sum_{p\\in P_d} P_p \\leq H_{max}, FL_{max} $$\n    - Vsaka kanal je uporabljen le enkrat:\n    $$ \\sum_{p\\in P_d} \\sum_{c\\in C_f} x_{p,c} \\leq 1 $$\n    - Izračun števila delov poti:\n    $$ P_p = \\sum_{c\\in C_p} x_{p,c} $$\n\n\n\n<p style=\"margin-bottom:2cm;\"></p>\n<div style=\"width:100%;text-align:right;font-weight:bold;font-size:1.2em;\"> 28 </div>\n<img src=\"https://raw.githubusercontent.com/andrejkk/ORvTK_SlidesImgs/master/footer_full.jpg\">"
    },
    {
      "metadata": {
        "collapsed": true,
        "slideshow": {
          "slide_type": "slide"
        }
      },
      "cell_type": "markdown",
      "source": "<div style=\"display:flex;font-weight:bold;font-size:0.9em;\">\n<div style=\"flex:1;width:50%;\"> 6. Celoštevilsko (ILP) in mešano programiranje (MILP)  </div>\n<div style=\"flex:1;width:50%;text-align:right;\"> 6.2 Primeri uporabe IPL v TK </div>\n</div>\n\n\n\n## ■ Problem opt. elastičnega optičnega omrežja (14)\n\n- Pogoji (nad.)\n    - Izračun števila lukenj med frekvenčnimi okni: \n    $$ T_p = \\sum_{i=1}^{|F|} z_{p,i} - \\sum_{i=1}^{|F|-1} w_{p,i,i+1} $$\n    - Nastavitev zasedenih frekvenčnih oken \n    $$ z_{p,f} = 1, \\quad \\forall p\\in P, f\\in F_p^u. $$\n    - Nastavitev prostih frekvenčnih oken \n    $$ z_{p,f} = \\sum_{c\\in C_f} x_{p,f}, \\quad \\forall p\\in P, f\\in F\\setminus F_p^u. $$\n    - Izračun ohlapnih spremenljivk $p\\in P, i=1,\\ldots,|F|-1$:\n    $$ w_{p,i,i+1} \\leq z_{p,i}, z_{p,i+1} $$\n    $$ w_{p,i,i+1} \\geq z_{p,i} + z_{p,i+1} - 1 $$\n\n\n\n<p style=\"margin-bottom:2cm;\"></p>\n<div style=\"width:100%;text-align:right;font-weight:bold;font-size:1.2em;\"> 29 </div>\n<img src=\"https://raw.githubusercontent.com/andrejkk/ORvTK_SlidesImgs/master/footer_full.jpg\">"
    },
    {
      "metadata": {
        "collapsed": true,
        "slideshow": {
          "slide_type": "slide"
        }
      },
      "cell_type": "markdown",
      "source": "<div style=\"display:flex;font-weight:bold;font-size:0.9em;\">\n<div style=\"flex:1;width:50%;\"> 6. Celoštevilsko (ILP) in mešano programiranje (MILP)  </div>\n<div style=\"flex:1;width:50%;text-align:right;\"> 6.2 Primeri uporabe IPL v TK </div>\n</div>\n\n\n## ■ Problem opt. elastičnega optičnega omrežja (15)\n\n\n- Vrsta problema: mešano celoštevilsko linearno programiranje\n\n\n\n- Kako to obvladati:\n    - Ročna postavitev\n    - Avtomatska pretvorba navedenih tabel v datotečno formulacijo \n\n\n- Več v naslednjem poglavju\n\n\n\n<p style=\"margin-bottom:2cm;\"></p>\n<div style=\"width:100%;text-align:right;font-weight:bold;font-size:1.2em;\"> 30 </div>\n<img src=\"https://raw.githubusercontent.com/andrejkk/ORvTK_SlidesImgs/master/footer_full.jpg\">"
    },
    {
      "metadata": {
        "collapsed": true,
        "slideshow": {
          "slide_type": "slide"
        }
      },
      "cell_type": "markdown",
      "source": "<div style=\"display:flex;font-weight:bold;font-size:0.9em;\">\n<div style=\"flex:1;width:50%;\"> 6. Celoštevilsko (ILP) in mešano programiranje (MILP)  </div>\n<div style=\"flex:1;width:50%;text-align:right;\"> 6.2 Primeri uporabe IPL v TK </div>\n</div>\n\n\n## ■ Zaključek\n\n- ILP:\n    - Ko imamo pripadnost množicam in logične spremnljivke\n    - Realni problemi so navadno ILP in ne LP\n\n\n\n\n\n\n<p style=\"margin-bottom:2cm;\"></p>\n<div style=\"width:100%;text-align:right;font-weight:bold;font-size:1.2em;\"> 31 </div>\n<img src=\"https://raw.githubusercontent.com/andrejkk/ORvTK_SlidesImgs/master/footer_full.jpg\">"
    },
    {
      "metadata": {
        "trusted": true
      },
      "cell_type": "code",
      "source": "",
      "execution_count": null,
      "outputs": []
    }
  ],
  "metadata": {
    "celltoolbar": "Slideshow",
    "kernelspec": {
      "name": "python2",
      "display_name": "Python 2",
      "language": "python"
    },
    "language_info": {
      "mimetype": "text/x-python",
      "nbconvert_exporter": "python",
      "name": "python",
      "pygments_lexer": "ipython2",
      "version": "2.7.15",
      "file_extension": ".py",
      "codemirror_mode": {
        "version": 2,
        "name": "ipython"
      }
    }
  },
  "nbformat": 4,
  "nbformat_minor": 2
}