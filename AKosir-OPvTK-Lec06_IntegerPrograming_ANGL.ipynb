{
  "cells": [
    {
      "metadata": {
        "collapsed": true,
        "slideshow": {
          "slide_type": "slide"
        }
      },
      "cell_type": "markdown",
      "source": "<img style=\"float: center; width: 100%\" src=\"https://raw.githubusercontent.com/andrejkk/TalksImgs/master/FrontSlideUpperBan.png\">\n<p style=\"margin-bottom:2cm;\"></p>\n\n<center>\n    <H1> 6. Integer (ILP) in mixed programming (MILP) </H1>\n   \n\n\n<br><br>\n    <H3> Andrej Košir, Lucami, FE </H4>\n    \n    <H4> Contact: prof. dr. Andrej Košir, andrej.kosir@lucami.fe.uni-lj.si, skype=akosir_sid </H4>\n</center>\n\n\n<p style=\"margin-bottom:2cm;\"></p>\n<div style=\"width:100%;text-align:right;font-weight:bold;font-size:1.2em;\"> 1 </div>\n<img src=\"https://raw.githubusercontent.com/andrejkk/ORvTK_SlidesImgs/master/footer_full.jpg\">"
    },
    {
      "metadata": {
        "collapsed": true,
        "slideshow": {
          "slide_type": "slide"
        }
      },
      "cell_type": "markdown",
      "source": "<div style=\"display:flex;font-weight:bold;font-size:0.9em;\">\n<div style=\"flex:1;width:50%;\"> 6. Integer (ILP) in mixed programming (MILP)  </div>\n<div style=\"flex:1;width:50%;text-align:right;\"> Goals </div>\n</div>\n\n\n## ■ Intro, goal:\n\n\n- Goals\n    - Know the formulation and relation to LP\n    - Know algorithmic specifics\n    - Cases in  TC\n\n\n\n- Naive solution:\n    - First solve LP for real numbers and then rounding?\n    - Wrong: not optimal, even not feasible\n    \n    \n- Why limit to integers?\n    - Logical variables\n    - Set membership like a link on a path\n\n\n<p style=\"margin-bottom:2cm;\"></p>\n<div style=\"width:100%;text-align:right;font-weight:bold;font-size:1.2em;\"> 2 </div>\n<img src=\"https://raw.githubusercontent.com/andrejkk/ORvTK_SlidesImgs/master/footer_full.jpg\">"
    },
    {
      "metadata": {
        "collapsed": true,
        "slideshow": {
          "slide_type": "slide"
        }
      },
      "cell_type": "markdown",
      "source": "<div style=\"display:flex;font-weight:bold;font-size:0.9em;\">\n<div style=\"flex:1;width:50%;\"> 6. Integer (ILP) in mixed programming (MILP)  </div>\n<div style=\"flex:1;width:50%;text-align:right;\"> Sections </div>\n</div>\n\n\n## ■ Sections\n\n\n6.1. Definition, solvability, algorithm\n\n■ Integer and Mixed-integer programming definition $\\large{*}$\n\n■ Theory: total unimodularity\n\n■ ILP algorithm\n\n\n\n6.2 ILP in ICT examples\n\n■ Some ILP in ICT tasks $\\large{*}$\n\n■ Service cost problem\n\n■ Elastic optical network optimization problem\n\n\n\n<p style=\"margin-bottom:2cm;\"></p>\n<div style=\"width:100%;text-align:right;font-weight:bold;font-size:1.2em;\"> 3 </div>\n<img src=\"https://raw.githubusercontent.com/andrejkk/ORvTK_SlidesImgs/master/footer_full.jpg\">"
    },
    {
      "metadata": {
        "collapsed": true,
        "slideshow": {
          "slide_type": "slide"
        }
      },
      "cell_type": "markdown",
      "source": "<div style=\"display:flex;font-weight:bold;font-size:0.9em;\">\n<div style=\"flex:1;width:50%;\"> 6. Integer (ILP) in mixed programming (MILP)  </div>\n<div style=\"flex:1;width:50%;text-align:right;\"> 6.1. Definition, solvability, algorithm </div>\n</div>\n\n\n## 6.1. Definition, solvability, algorithm\n\n\n■ Integer and Mixed-integer programming definition\n\n■ Theory: total unimodularity\n\n■ ILP algorithm\n\n\n\n<p style=\"margin-bottom:2cm;\"></p>\n<div style=\"width:100%;text-align:right;font-weight:bold;font-size:1.2em;\"> 4 </div>\n<img src=\"https://raw.githubusercontent.com/andrejkk/ORvTK_SlidesImgs/master/footer_full.jpg\">"
    },
    {
      "metadata": {
        "collapsed": true,
        "slideshow": {
          "slide_type": "slide"
        }
      },
      "cell_type": "markdown",
      "source": "<div style=\"display:flex;font-weight:bold;font-size:0.9em;\">\n<div style=\"flex:1;width:50%;\"> 6. Integer (ILP) in mixed programming (MILP)  </div>\n<div style=\"flex:1;width:50%;text-align:right;\"> 6.1. Definition, solvability, algorithm </div>\n</div>\n\n\n## ■ Definition of integer programming\n\n- Definition\n$$ \\matrix{\n & & argmax_x w^\\top.x \\cr \n & s.t. & \\cr\n & & A.x \\leq b \\hfill \\cr\n & & x\\in ℕ \\hfill} $$\n\n\n- Mixed examples:\n    - Mixed integer linear programming\n    - Zero – one linear programming: logical variables, typically related to set membership\n\n\n- Why?\n    - Real cases require it\n\n\n<p style=\"margin-bottom:2cm;\"></p>\n<div style=\"width:100%;text-align:right;font-weight:bold;font-size:1.2em;\"> 5 </div>\n<img src=\"https://raw.githubusercontent.com/andrejkk/ORvTK_SlidesImgs/master/footer_full.jpg\">"
    },
    {
      "metadata": {
        "collapsed": true,
        "slideshow": {
          "slide_type": "slide"
        }
      },
      "cell_type": "markdown",
      "source": "<div style=\"display:flex;font-weight:bold;font-size:0.9em;\">\n<div style=\"flex:1;width:50%;\"> 6. Integer (ILP) in mixed programming (MILP)  </div>\n<div style=\"flex:1;width:50%;text-align:right;\"> 6.1. Definition, solvability, algorithm </div>\n</div>\n\n\n## ■ Theory: total unimodularity\n\n- Totally unimodular matrix $A$:\n    - Unimodular matrix : integers,$\\det(A)=\\pm 1$. Equivalent: matrix has integer inverse;\n    - Totally unimodular matrix: any non-singular submatrix is unimodular. Consists of entries $−1,0,1$.\n\n\n\n- If a matrix $A$ is totally unimodular:\n    - Basic feasible solutions are integers\n    - Simplex algorithm results in integer solutions\n\n\n\n\n- How do we check total unimodualrity:\n    - Paper: K. Truemper. A decomposition theory for matroids. V. Testing of matrix total unimodularity, J. Comb. Theory, Ser. B 49, 241-281, 1990.\n    - Algorithm: $O((𝑛+𝑚)^5)$\n\n\n\n- If a matrix A is totally unimodular:\n    - Basic feasible solutions are integers\n    - Simplex algorithm results in integer solutions\n \n\n<p style=\"margin-bottom:2cm;\"></p>\n<div style=\"width:100%;text-align:right;font-weight:bold;font-size:1.2em;\"> 6 </div>\n<img src=\"https://raw.githubusercontent.com/andrejkk/ORvTK_SlidesImgs/master/footer_full.jpg\">"
    },
    {
      "metadata": {
        "collapsed": true,
        "slideshow": {
          "slide_type": "slide"
        }
      },
      "cell_type": "markdown",
      "source": "<div style=\"display:flex;font-weight:bold;font-size:0.9em;\">\n<div style=\"flex:1;width:50%;\"> 6. Integer (ILP) in mixed programming (MILP)  </div>\n<div style=\"flex:1;width:50%;text-align:right;\"> 6.1. Definition, solvability, algorithm </div>\n</div>\n\n\n## ■ Algorithms solving ILP\n\n- First choice: branch and bound\n- Simplex algorithm for totally unimodular matrix A\n- Special algorithms for special cases\n\n\n\n<p style=\"margin-bottom:2cm;\"></p>\n<div style=\"width:100%;text-align:right;font-weight:bold;font-size:1.2em;\"> 7 </div>\n<img src=\"https://raw.githubusercontent.com/andrejkk/ORvTK_SlidesImgs/master/footer_full.jpg\">"
    },
    {
      "metadata": {
        "collapsed": true,
        "slideshow": {
          "slide_type": "slide"
        }
      },
      "cell_type": "markdown",
      "source": "<div style=\"display:flex;font-weight:bold;font-size:0.9em;\">\n<div style=\"flex:1;width:50%;\"> 6. Integer (ILP) in mixed programming (MILP)  </div>\n<div style=\"flex:1;width:50%;text-align:right;\"> 6.2 ILP in ICT examples </div>\n</div>\n\n\n## 6.2 ILP in ICT examples\n\n\n■ Selected task of ILP v TK\n\n■ Service cost problem\n\n■ Elastic optical network optimization problem\n\n\n<p style=\"margin-bottom:2cm;\"></p>\n<div style=\"width:100%;text-align:right;font-weight:bold;font-size:1.2em;\"> 8 </div>\n<img src=\"https://raw.githubusercontent.com/andrejkk/ORvTK_SlidesImgs/master/footer_full.jpg\">"
    },
    {
      "metadata": {
        "collapsed": true,
        "slideshow": {
          "slide_type": "slide"
        }
      },
      "cell_type": "markdown",
      "source": "<div style=\"display:flex;font-weight:bold;font-size:0.9em;\">\n<div style=\"flex:1;width:50%;\"> 6. Integer (ILP) in mixed programming (MILP)  </div>\n<div style=\"flex:1;width:50%;text-align:right;\"> 6.2 ILP in ICT examples </div>\n</div>\n\n\n## ■ Selected task of ILP v TK\n\n\n - network design \n - service prising problems\n - covering problems\n - Boolean satisfability problem\"\n - Travel salesman problem \n\n\n<p style=\"margin-bottom:2cm;\"></p>\n<div style=\"width:100%;text-align:right;font-weight:bold;font-size:1.2em;\"> 9 </div>\n<img src=\"https://raw.githubusercontent.com/andrejkk/ORvTK_SlidesImgs/master/footer_full.jpg\">"
    },
    {
      "metadata": {
        "collapsed": true,
        "slideshow": {
          "slide_type": "slide"
        }
      },
      "cell_type": "markdown",
      "source": "<div style=\"display:flex;font-weight:bold;font-size:0.9em;\">\n<div style=\"flex:1;width:50%;\"> 6. Integer (ILP) in mixed programming (MILP)  </div>\n<div style=\"flex:1;width:50%;text-align:right;\"> 6.2 ILP in ICT examples </div>\n</div>\n\n\n## ■ Optimal TC service pricing problem  (1)\n\n- Paper: Mustapha Bouhtou and Jean-Robin Medori and Michel Minoux: Mixed Integer Programming model for pricing in telecommunication, 2011.\n- Yield management\n- Service cost as a network regulator: dependent on the traffic load\n\n\n\n- The traffic:\n\n<img style=\"float: center; width: 350px; margin: 0px 20px 20px 0px;\" src=\"https://raw.githubusercontent.com/andrejkk/ORvTK_SlidesImgs/master/TelecommunicationTrafic.png\">\n\n\n<p style=\"margin-bottom:2cm;\"></p>\n<div style=\"width:100%;text-align:right;font-weight:bold;font-size:1.2em;\"> 10 </div>\n<img src=\"https://raw.githubusercontent.com/andrejkk/ORvTK_SlidesImgs/master/footer_full.jpg\">"
    },
    {
      "metadata": {
        "collapsed": true,
        "slideshow": {
          "slide_type": "slide"
        }
      },
      "cell_type": "markdown",
      "source": "<div style=\"display:flex;font-weight:bold;font-size:0.9em;\">\n<div style=\"flex:1;width:50%;\"> 6. Integer (ILP) in mixed programming (MILP)  </div>\n<div style=\"flex:1;width:50%;text-align:right;\"> 6.2 ILP in ICT examples </div>\n</div>\n\n\n## ■ Optimal TC service pricing problem (2) \n\n- Input data:\n    - Number of time slots: $n_T$\n    - Number of load levels: $n_I$\n    - Load thresholds: $L_i$\n    - The cost of last interval of the previous day: $p_{-1}$ \n    - Time dependent load function: $\\rho(k, p_{k-1})$, $k$ time index\n    - Time dependent demand function: $D(k, p_k)$\n    - Time dependent revenue function: $R(k, p_k)$\n\n    \n\n- Variables:\n    - Price assigned to time slot: $p_k\\in [P_{min}, P_{max}]$\n    - Price assigned to load level: $[L_{i-1}, L_i]$: $r_i\\in [P_{min}, P_{max}]$, $i$ index of load level;\n    - Boolean variable $\\beta_i^k=1$ if load at time 𝑘 is in load level $i$ and $0$ otherwise\n    - Load $\\alpha_i^k$: variable equals to load at $k$ if it is in load level $k$, $0$ otherwise.\n\n\n\n<p style=\"margin-bottom:2cm;\"></p>\n<div style=\"width:100%;text-align:right;font-weight:bold;font-size:1.2em;\"> 11 </div>\n<img src=\"https://raw.githubusercontent.com/andrejkk/ORvTK_SlidesImgs/master/footer_full.jpg\">"
    },
    {
      "metadata": {
        "collapsed": true,
        "slideshow": {
          "slide_type": "slide"
        }
      },
      "cell_type": "markdown",
      "source": "<div style=\"display:flex;font-weight:bold;font-size:0.9em;\">\n<div style=\"flex:1;width:50%;\"> 6. Integer (ILP) in mixed programming (MILP)  </div>\n<div style=\"flex:1;width:50%;text-align:right;\"> 6.2 ILP in ICT examples </div>\n</div>\n\n\n## ■ Optimal TC service pricing problem (3)\n\n- Problem\n$$ \\matrix{\n & & argmax_{p_k, r_i} \\sum_{k=1}^{n_T-1} R(k, p_k) \\cr \n & s.t. & \\cr}\n$$\n \n<table width = 90%>\n  <tr>\n    <th> $\\sum_{i=0}^{n_I} \\alpha_i^k = \\rho(k, p_{k-1})$, $\\forall k$</th>\n    <th> (1) </th> \n  </tr>\n  <tr>\n    <td>$\\beta_i^k L_{i-1} \\leq \\alpha_i^k \\leq \\beta_i^k L_i$, $\\forall i, k$ </td>\n    <td>(2)</td> \n  </tr>\n  <tr>\n    <td> $\\sum_{i=0}^{n_I} \\beta_i^k = 1$, $\\forall k$ </td>\n    <td> (3) </td> \n  </tr>\n  <tr>\n    <td> $(\\beta_i^k-1)M \\leq p_k - r_i \\leq (1-\\beta_i^k)M$, $\\forall i, k$ </td>\n    <td> (4) </td> \n  </tr>\n  <tr>\n    <td> $\\beta_{n_I}^{k-1} + \\beta_{n_I}^k \\leq 1$, $\\forall k\\ne 0$ </td>\n    <td> (5) </td> \n  </tr>\n  <tr>\n    <td> $\\beta_i^k\\in\\{0, 1\\}$, $\\forall i, k$ </td>\n    <td> (6) </td> \n  </tr>\n  <tr>\n    <td> $\\alpha_i^k \\geq 0$, $\\forall i, k$ </td>\n    <td> (7) </td> \n  </tr>\n  <tr>\n    <td> $r_i \\in [P_{min}, P_{max}]$, $\\forall i$, $p_k \\in [P_{min}, P_{max}]$, $\\forall k$ </td>\n    <td> (8) </td> \n  </tr>\n</table>\n\n\n<p style=\"margin-bottom:2cm;\"></p>\n<div style=\"width:100%;text-align:right;font-weight:bold;font-size:1.2em;\"> 12 </div>\n<img src=\"https://raw.githubusercontent.com/andrejkk/ORvTK_SlidesImgs/master/footer_full.jpg\">"
    },
    {
      "metadata": {
        "collapsed": true,
        "slideshow": {
          "slide_type": "slide"
        }
      },
      "cell_type": "markdown",
      "source": "<div style=\"display:flex;font-weight:bold;font-size:0.9em;\">\n<div style=\"flex:1;width:50%;\"> 6. Integer (ILP) in mixed programming (MILP)  </div>\n<div style=\"flex:1;width:50%;text-align:right;\"> 6.2 ILP in ICT examples </div>\n</div>\n\n\n## ■ Optimal TC service pricing problem (4) \n\n- Explanation:\n    - Cost function: revenue per time period\n    - (1): Constants $\\alpha_i^k$ are equal to true loads\n    - (2): It limits the load to the predefined interval;\n    - (3): At each time exactly one load interval is selected;\n    - (4): Loads are set to true values: $p_k=r_i$;\n    - (5): Prevents congestion in two consequent intervals;\n    - (6): Binary – logical variable $\\beta_i^k$;\n    - (7): Loads are nonnegative \n    - (8): Costs are limited\n\n\n\n\n<p style=\"margin-bottom:2cm;\"></p>\n<div style=\"width:100%;text-align:right;font-weight:bold;font-size:1.2em;\"> 13 </div>\n<img src=\"https://raw.githubusercontent.com/andrejkk/ORvTK_SlidesImgs/master/footer_full.jpg\">"
    },
    {
      "metadata": {
        "collapsed": true,
        "slideshow": {
          "slide_type": "slide"
        }
      },
      "cell_type": "markdown",
      "source": "<div style=\"display:flex;font-weight:bold;font-size:0.9em;\">\n<div style=\"flex:1;width:50%;\"> 6. Integer (ILP) in mixed programming (MILP)  </div>\n<div style=\"flex:1;width:50%;text-align:right;\"> 6.2 ILP in ICT examples </div>\n</div>\n\n\n## ■ Optimal TC service pricing problem (5)\n\n\n- Model of load and revenue:\n    - Load goes down with increasing price: $\\rho(k, p_{k-1}) = d_k - c_k p_{k-1}$\n    - Revenue $R(k, p_k) = D(p_k) p_k = b_k p_k - a_k p_k^2$\n\n\n- Predefine time intervals and levels of load:\n    - Time intervals: $[0,t_0=6]$, $[6,t_1=18]$, $[18,t_2=24]$;\n    - Intervals of load: $[0, L_1=10]$, $[10, L_2=30]$, $[30, L_3=50]$, $[50, \\infty)$;\n\n\n- Model parameters:\n\n<table style=\"width:40%\" border=\"1\">\n  <tr>\n    <th> inter. $k$ </th>\n    <th> $a_k$ </th> \n    <th> $b_k$ </th>\n    <th> $c_k$ </th>\n    <th> $d_k$ </th>\n  </tr>\n  <tr>\n    <td>$0$</td>\n    <td>$10$</td> \n    <td>$20$</td>\n    <td>$6$</td>\n    <td>$12$</td>\n  </tr>\n  <tr>\n    <td>$1$</td>\n    <td>$15$</td> \n    <td>$25$</td>\n    <td>$8$</td>\n    <td>$16$</td>\n  </tr>\n  <tr>\n    <td>$2$</td>\n    <td>$12$</td> \n    <td>$22$</td>\n    <td>$7$</td>\n    <td>$11$</td>\n  </tr>\n</table>\n\n\n- Price limits: $P_{min}=30$, $P_{max}=90$\n- „Big M“ $M=10000$\n\n\n\n<p style=\"margin-bottom:2cm;\"></p>\n<div style=\"width:100%;text-align:right;font-weight:bold;font-size:1.2em;\"> 14 </div>\n<img src=\"https://raw.githubusercontent.com/andrejkk/ORvTK_SlidesImgs/master/footer_full.jpg\">"
    },
    {
      "metadata": {
        "collapsed": true,
        "slideshow": {
          "slide_type": "slide"
        }
      },
      "cell_type": "markdown",
      "source": "<div style=\"display:flex;font-weight:bold;font-size:0.9em;\">\n<div style=\"flex:1;width:50%;\"> 6. Integer (ILP) in mixed programming (MILP)  </div>\n<div style=\"flex:1;width:50%;text-align:right;\"> 6.2 ILP in ICT examples </div>\n</div>\n\n\n\n## ■ Optimal TC service pricing problem (6)\n\n\n- Results:\n \n<table style=\"width:30%\">\n  <tr>\n    <th>$p_0=90$</th>\n    <th>$p_1=90$</th> \n    <th>$p_2=90$</th>\n  </tr>\n  <tr>\n    <td>$r_0=90$</td>\n    <td>$r_1=90$</td> \n    <td>$r_2=90$</td>\n  </tr>\n</table>\n\n\n\n<p style=\"margin-bottom:2cm;\"></p>\n<div style=\"width:100%;text-align:right;font-weight:bold;font-size:1.2em;\"> 15 </div>\n<img src=\"https://raw.githubusercontent.com/andrejkk/ORvTK_SlidesImgs/master/footer_full.jpg\">"
    },
    {
      "metadata": {
        "collapsed": true,
        "slideshow": {
          "slide_type": "slide"
        }
      },
      "cell_type": "markdown",
      "source": "<div style=\"display:flex;font-weight:bold;font-size:0.9em;\">\n<div style=\"flex:1;width:50%;\"> 6. Integer (ILP) in mixed programming (MILP)  </div>\n<div style=\"flex:1;width:50%;text-align:right;\"> 6.2 ILP in ICT examples </div>\n</div>\n\n\n## ■ Problem of optimisation of elastic optical network  (1)\n\n\n- Paper: Pages et. al: Optimal Route, Spectrum, and Modulation Level Assignment in Split-Spectrum-Enabled Dynamic Elastic Optical Networks, 2014.\n\n\n- What is elastic optical network:\n    - Split Spectrum approach, SSA\n    - Frequency Slots, FS\n    - Channels: sequence of contiguous FS with a given modulation\n    - Several modulations: different speeds, transmission reach etc, \n    - Each new request $\\to$ new resource allocation - Route, spectrum, and modulation level assignment, RMSLA\n    - Allocation of frequency slots\n    - Allocation of channels and modulations\n\n\n\n<img style=\"float: right; width: 300px; margin: -20px 20px 50px 0;\" src=\"https://raw.githubusercontent.com/andrejkk/ORvTK_SlidesImgs/master/ElasticNetworkGr.png\">\n\n\n\n<p style=\"margin-bottom:2cm;\"></p>\n<div style=\"width:100%;text-align:right;font-weight:bold;font-size:1.2em;\"> 16 </div>\n<img src=\"https://raw.githubusercontent.com/andrejkk/ORvTK_SlidesImgs/master/footer_full.jpg\">"
    },
    {
      "metadata": {
        "collapsed": true,
        "slideshow": {
          "slide_type": "slide"
        }
      },
      "cell_type": "markdown",
      "source": "<div style=\"display:flex;font-weight:bold;font-size:0.9em;\">\n<div style=\"flex:1;width:50%;\"> 6. Integer (ILP) in mixed programming (MILP)  </div>\n<div style=\"flex:1;width:50%;text-align:right;\"> 6.2 ILP in ICT examples </div>\n</div>\n\n\n## ■ Problem of optimisation of elastic optical network (2)\n\n\n- Simple example of the network\n    - Network graph $G=(V, E)$, $V=\\{1,2,3,4,5\\}$, $E=\\{(12), (13), (23), (24), (34), (35), (45)\\}$\n    - Source, sink: $s=N_1$, $t=N_5$\n    - Request: $s_d\\to t_d$, $R_d = 50$ Gbit/s\n    - Optimization criteria:\n        - Minimal resources allocated\n        - Minimal number of spectral gaps\n\n\n<img style=\"float: center; width: 400px; margin: 20px 20px 50px 100px;\" src=\"https://raw.githubusercontent.com/andrejkk/ORvTK_SlidesImgs/master/ElasticNetworkCase.png\">\n\n\n\n<p style=\"margin-bottom:2cm;\"></p>\n<div style=\"width:100%;text-align:right;font-weight:bold;font-size:1.2em;\"> 17 </div>\n<img src=\"https://raw.githubusercontent.com/andrejkk/ORvTK_SlidesImgs/master/footer_full.jpg\">"
    },
    {
      "metadata": {
        "collapsed": true,
        "slideshow": {
          "slide_type": "slide"
        }
      },
      "cell_type": "markdown",
      "source": "<div style=\"display:flex;font-weight:bold;font-size:0.9em;\">\n<div style=\"flex:1;width:50%;\"> 6. Integer (ILP) in mixed programming (MILP)  </div>\n<div style=\"flex:1;width:50%;text-align:right;\"> 6.2 ILP in ICT examples </div>\n</div>\n\n\n## ■ Problem of optimisation of elastic optical network (3)\n\n\n- Frequency slots, FS\n    - $F_w$: spectral width of a FS, typically $6,25 GHz$ or $12,5 GHz$, our case $F_w=10 GHz$\n    - $G$: guard band size, we assume $G=8GHz$\n\n\n\n<img style=\"float: center; width: 400px; margin: 40px 20px 50px 100px;\" src=\"https://raw.githubusercontent.com/andrejkk/ORvTK_SlidesImgs/master/ElasticNetwor_FreqW.png\">\n\n\n\n<p style=\"margin-bottom:2cm;\"></p>\n<div style=\"width:100%;text-align:right;font-weight:bold;font-size:1.2em;\"> 18 </div>\n<img src=\"https://raw.githubusercontent.com/andrejkk/ORvTK_SlidesImgs/master/footer_full.jpg\">"
    },
    {
      "metadata": {
        "collapsed": true,
        "slideshow": {
          "slide_type": "slide"
        }
      },
      "cell_type": "markdown",
      "source": "<div style=\"display:flex;font-weight:bold;font-size:0.9em;\">\n<div style=\"flex:1;width:50%;\"> 6. Integer (ILP) in mixed programming (MILP)  </div>\n<div style=\"flex:1;width:50%;text-align:right;\"> 6.2 ILP in ICT examples </div>\n</div>\n\n\n## ■ Problem of optimisation of elastic optical network (4)\n\n\n- Modulations (in [GHz])\n    - $R_m$: modulation $m$ bit rate\n    - $B_m$: spectral width of modulation $m$\n    - $S_m=⌈\\frac{B_m+G}{F_w}⌉$: number of required FS of modulation $m$\n    - $TR_m$: Modulation  $m$ transmission reach\n\n\n\n<table style=\"width:60%\">\n  <tr>\n    <th> $m$ </th>\n    <th> $R_m$[Gb/s] </th> \n    <th> $B_m$[GHz] </th>\n    <th> $TR_m[km]$ </th>\n    <th> $S_m$ </th>\n  </tr>\n  <tr>\n    <td>$1$</td>\n    <td>$25$</td> \n    <td>$12$</td>\n    <td>$20$</td>\n    <td>$2$</td>\n  </tr>\n  <tr>\n    <td>$2$</td>\n    <td>$50$</td> \n    <td>$14$</td>\n    <td>$14$</td>\n    <td>$3$</td>\n  </tr>\n  <tr>\n    <td>$3$</td>\n    <td>$75$</td> \n    <td>$10$</td>\n    <td>$10$</td>\n    <td>$1$</td>\n  </tr>\n</table>\n\n\n\n\n- Limitation: \n  - Bit rate: $R_d\\leq \\sum_{i=1}^H R_{m_i}$  \n\n\n\n<p style=\"margin-bottom:2cm;\"></p>\n<div style=\"width:100%;text-align:right;font-weight:bold;font-size:1.2em;\"> 19 </div>\n<img src=\"https://raw.githubusercontent.com/andrejkk/ORvTK_SlidesImgs/master/footer_full.jpg\">"
    },
    {
      "metadata": {
        "collapsed": true,
        "slideshow": {
          "slide_type": "slide"
        }
      },
      "cell_type": "markdown",
      "source": "<div style=\"display:flex;font-weight:bold;font-size:0.9em;\">\n<div style=\"flex:1;width:50%;\"> 6. Integer (ILP) in mixed programming (MILP)  </div>\n<div style=\"flex:1;width:50%;text-align:right;\"> 6.2 ILP in ICT examples </div>\n</div>\n\n\n## ■ Problem of optimisation of elastic optical network (5)\n\n\n- A list of possible paths $P_d$ and\n    - $h_p$: number of hops $p\\in P_d$\n    - $l_p$: total cost of path $p$,\n\n\n   \n\n<img style=\"float: center; width: 350px; margin: 20px 20px 50px 100px;\" src=\"https://raw.githubusercontent.com/andrejkk/ORvTK_SlidesImgs/master/ElasticNetworkCase.png\">\n\n\n\n<table style=\"width:60%\">\n  <tr>\n    <th> $p_{id}$ </th>\n    <th> $p$ </th> \n    <th> $l_p$ </th>\n    <th> $h_p$ </th>\n  </tr>\n  <tr>\n    <td>$1$</td>\n    <td>$(1245)$</td> \n    <td>$13$</td>\n    <td>$2$</td>\n  </tr>\n  <tr>\n    <td>$2$</td>\n    <td>$(12345)$</td> \n    <td>$14$</td>\n    <td>$3$</td>\n  </tr>\n  <tr>\n    <td>$3$</td>\n    <td>$(1235)$</td> \n    <td>$12$</td>\n    <td>$2$</td>\n  </tr>\n  <tr>\n    <td>$4$</td>\n    <td>$(1345)$</td> \n    <td>$13$</td>\n    <td>$2$</td>\n  </tr>\n  <tr>\n    <td>$4$</td>\n    <td>$(135)$</td> \n    <td>$11$</td>\n    <td>$1$</td>\n  </tr>\n</table>\n\n\n\n- Channels:\n    - All possible channels of a path $p$ are denoted by $C_p$\n\n\n\n<p style=\"margin-bottom:2cm;\"></p>\n<div style=\"width:100%;text-align:right;font-weight:bold;font-size:1.2em;\"> 20 </div>\n<img src=\"https://raw.githubusercontent.com/andrejkk/ORvTK_SlidesImgs/master/footer_full.jpg\">"
    },
    {
      "metadata": {
        "collapsed": true,
        "slideshow": {
          "slide_type": "slide"
        }
      },
      "cell_type": "markdown",
      "source": "<div style=\"display:flex;font-weight:bold;font-size:0.9em;\">\n<div style=\"flex:1;width:50%;\"> 6. Integer (ILP) in mixed programming (MILP)  </div>\n<div style=\"flex:1;width:50%;text-align:right;\"> 6.2 ILP in ICT examples </div>\n</div>\n\n\n## ■ Problem of optimisation of elastic optical network (6)\n\n\n- Current occupation of frequency slots FS by paths\n    - Channels occupies the same FS along the path\n    - A star $*$ marks occupied channels denoted by $F_p^u$. Vacant FSs are $F_p^u$\n\n\n\n<table style=\"width:60%\">\n  <tr>\n    <th> $p_{id}$ </th>\n    <th> $1$ </th> \n    <th> $2$ </th>\n    <th> $3$ </th>\n    <th> $4$ </th> \n    <th> $5$ </th>\n    <th> $6$ </th>\n    <th> $7$ </th> \n    <th> $8$ </th>\n    <th> $9$ </th>\n    <th> $10$ </th> \n  </tr>\n  <tr>\n    <td>$1$</td>\n    <td>\\*</td>\n    <td>\\*</td>\n    <td></td>      \n    <td></td>\n    <td></td>\n    <td></td>\n    <td></td>\n    <td></td>\n    <td></td>\n    <td></td>\n  </tr>\n  <tr>\n    <td>$2$</td>\n    <td></td>\n    <td></td>\n    <td>\\*</td>      \n    <td></td>\n    <td></td>\n    <td></td>\n    <td></td>\n    <td></td>\n    <td></td>\n    <td></td>\n  </tr>\n  <tr>\n    <td>$3$</td>\n    <td></td>\n    <td></td>\n    <td></td>      \n    <td>\\*</td>\n    <td>\\*</td>\n    <td>\\*</td>\n    <td></td>\n    <td></td>\n    <td></td>\n    <td></td>\n  </tr>\n  <tr>\n    <td>$4$</td>\n    <td></td>\n    <td></td>\n    <td></td>      \n    <td>\\*</td>\n    <td>\\*</td>\n    <td></td>\n    <td></td>\n    <td></td>\n    <td></td>\n    <td></td>\n  </tr>\n  <tr>\n    <td>$5$</td>\n    <td>\\*</td>\n    <td>\\*</td>\n    <td></td>      \n    <td></td>\n    <td></td>\n    <td></td>\n    <td></td>\n    <td></td>\n    <td></td>\n    <td></td>\n  </tr>\n</table>\n\n\n<p style=\"margin-bottom:2cm;\"></p>\n<div style=\"width:100%;text-align:right;font-weight:bold;font-size:1.2em;\"> 21 </div>\n<img src=\"https://raw.githubusercontent.com/andrejkk/ORvTK_SlidesImgs/master/footer_full.jpg\">"
    },
    {
      "metadata": {
        "collapsed": true,
        "slideshow": {
          "slide_type": "slide"
        }
      },
      "cell_type": "markdown",
      "source": "<div style=\"display:flex;font-weight:bold;font-size:0.9em;\">\n<div style=\"flex:1;width:50%;\"> 6. Integer (ILP) in mixed programming (MILP)  </div>\n<div style=\"flex:1;width:50%;text-align:right;\"> 6.2 ILP in ICT examples </div>\n</div>\n\n\n## ■ Problem of optimisation of elastic optical network (7)\n\n\n\n- Current occupation of frequency slots FS by links\n    - Numbers are path indices, no number means vacant FS\n\n\n\n<table style=\"width:100%\">\n  <tr>\n    <th> $p$ </th>\n    <th> $e,FS$ </th>\n    <th> $1$ </th> \n    <th> $2$ </th>\n    <th> $3$ </th>\n    <th> $4$ </th> \n    <th> $5$ </th>\n    <th> $6$ </th>\n    <th> $7$ </th> \n    <th> $8$ </th>\n    <th> $9$ </th>\n    <th> $10$ </th> \n  </tr>\n  <tr>\n    <td>$1,2,3$</td>\n    <td>12</td>\n    <td>1</td>\n    <td>1</td>\n    <td>2</td>      \n    <td>3</td>\n    <td>3</td>\n    <td>3</td>\n    <td></td>\n    <td></td>\n    <td></td>\n    <td></td>\n  </tr>\n  <tr>\n    <td>$4,5$</td>\n    <td>13</td>\n    <td>5</td>\n    <td>5</td>\n    <td></td>      \n    <td>4</td>\n    <td>4</td>\n    <td></td>\n    <td></td>\n    <td></td>\n    <td></td>\n    <td></td>\n  </tr>\n  <tr>\n    <td>$2,3$</td>\n    <td>23</td>\n    <td></td>\n    <td></td>      \n    <td>2</td>\n    <td>3</td>\n    <td>3</td>\n    <td>3</td>\n    <td></td>\n    <td></td>\n    <td></td>\n  </tr>\n  <tr>\n    <td>$1$</td>\n    <td>24</td>\n    <td>1</td>\n    <td>1</td>\n    <td></td>      \n    <td></td>\n    <td></td>\n    <td></td>\n    <td></td>\n    <td></td>\n    <td></td>\n    <td></td>\n  </tr>\n  <tr>\n    <td>$2,4$</td>\n    <td>34</td>\n    <td></td>\n    <td></td>\n    <td>2</td>      \n    <td>4</td>\n    <td>4</td>\n    <td></td>\n    <td></td>\n    <td></td>\n    <td></td>\n    <td></td>\n  </tr>\n  <tr>\n    <td>$3,5$</td>\n    <td>35</td>\n    <td>5</td>\n    <td>5</td>\n    <td></td>      \n    <td>3</td>\n    <td>3</td>\n    <td>3</td>\n    <td></td>\n    <td></td>\n    <td></td>\n    <td></td>\n  </tr>\n  <tr>\n    <td>$1,2,4$</td>\n    <td>45</td>\n    <td>1</td>\n    <td>1</td>\n    <td>2</td>      \n    <td>4</td>\n    <td>4</td>\n    <td></td>\n    <td></td>\n    <td></td>\n    <td></td>\n    <td></td>\n  </tr>\n</table>\n\n\n<p style=\"margin-bottom:2cm;\"></p>\n<div style=\"width:100%;text-align:right;font-weight:bold;font-size:1.2em;\"> 22 </div>\n<img src=\"https://raw.githubusercontent.com/andrejkk/ORvTK_SlidesImgs/master/footer_full.jpg\">"
    },
    {
      "metadata": {
        "collapsed": true,
        "slideshow": {
          "slide_type": "slide"
        }
      },
      "cell_type": "markdown",
      "source": "<div style=\"display:flex;font-weight:bold;font-size:0.9em;\">\n<div style=\"flex:1;width:50%;\"> 6. Integer (ILP) in mixed programming (MILP)  </div>\n<div style=\"flex:1;width:50%;text-align:right;\"> 6.2 ILP in ICT examples </div>\n</div>\n\n\n## ■ Problem of optimisation of elastic optical network (8)\n\n\n- Feasible modulations - available to be assigned?\n\n\n<font size=\"2\">\n<table style=\"width:100%\">\n  <tr>\n    <th> $p_{id}$ </th>\n    <th> $m=1, S_m=2$ </th> \n    <th> $m=2, S_m=3$ </th>\n    <th> $m=3, S_m=1$ </th>\n  </tr>\n  <tr>\n    <td>$1$</td>\n    <td>$7-8,8-9,9-10$</td> \n    <td>$7-9,8-10$</td>\n    <td>$7-7,8-8,9-9,10-10$</td>\n  </tr>\n  <tr>\n    <td>$2$</td>\n    <td>$7-8,8-9,9-10$</td> \n    <td>$7-9,8-10$</td>\n    <td>$7-7,8-8,9-9,10-10$</td>\n  </tr>\n  <tr>\n    <td>$3$</td>\n    <td>$7-8,8-9,9-10$</td> \n    <td>$7-9,8-10$</td>\n    <td>$7-7,8-8,9-9,10-10$</td>\n  </tr>\n  <tr>\n    <td>$4$</td>\n    <td>$6-7,7-8,8-9,9-10$</td> \n    <td>$6-8,7-9,8-10$</td>\n    <td>$6-6,7-7,8-8,9-9,10-10$</td>\n  </tr>\n  <tr>\n    <td>$5$</td>\n    <td>$7-8,8-9,9-10$</td> \n    <td>$7-9,8-10$</td>\n    <td>$7-7,8-8,9-9,10-10$</td>\n  </tr>\n</table>\n</font>\n\n\n<p style=\"margin-bottom:2cm;\"></p>\n<div style=\"width:100%;text-align:right;font-weight:bold;font-size:1.2em;\"> 23 </div>\n<img src=\"https://raw.githubusercontent.com/andrejkk/ORvTK_SlidesImgs/master/footer_full.jpg\">"
    },
    {
      "metadata": {
        "collapsed": true,
        "slideshow": {
          "slide_type": "slide"
        }
      },
      "cell_type": "markdown",
      "source": "<div style=\"display:flex;font-weight:bold;font-size:0.9em;\">\n<div style=\"flex:1;width:50%;\"> 6. Integer (ILP) in mixed programming (MILP)  </div>\n<div style=\"flex:1;width:50%;text-align:right;\"> 6.2 ILP in ICT examples </div>\n</div>\n\n\n## ■ Problem of optimisation of elastic optical network (9)\n\n\n- Constraints and limitations\n    - Capacity: $R_d \\leq \\sum_{i=1}^H R_{m_i}$  \n    - Each modulation occupies contiguous FS\n    - Channels occupies the same FS along the path\n    - There is upper limit of number of elastics paths $FL_{max}$\n    - Upper limit on number pf parts: $H_{max}$\n    - Upper limit on number of involved paths: $L_{max}$\n\n\n\n<p style=\"margin-bottom:2cm;\"></p>\n<div style=\"width:100%;text-align:right;font-weight:bold;font-size:1.2em;\"> 24 </div>\n<img src=\"https://raw.githubusercontent.com/andrejkk/ORvTK_SlidesImgs/master/footer_full.jpg\">"
    },
    {
      "metadata": {
        "collapsed": true,
        "slideshow": {
          "slide_type": "slide"
        }
      },
      "cell_type": "markdown",
      "source": "<div style=\"display:flex;font-weight:bold;font-size:0.9em;\">\n<div style=\"flex:1;width:50%;\"> 6. Integer (ILP) in mixed programming (MILP)  </div>\n<div style=\"flex:1;width:50%;text-align:right;\"> 6.2 ILP in ICT examples </div>\n</div>\n\n\n## ■ Problem of optimisation of elastic optical network (10)\n\n- Variables, notations\n    - $x_{p,x}$, $p\\in P$, $c\\in C_p$: binary indicator od paths and channels\n    - $y_p$,  $p\\in P$: binary indicator of path\n    - $z_{p,f}$, $p\\in P$, $f\\in FS$: binary indicator of FS\n    - $P_p$, $p\\in P$: Number of parts of a path\n    - $T_p$: Number of gaps in FS on a path 𝑝∈𝑃\n    - $w_{p,f, f+1}$: slack variables\n    - $A$: difference between the requested bit rate and the allocated bit rate.\n\n\n<p style=\"margin-bottom:2cm;\"></p>\n<div style=\"width:100%;text-align:right;font-weight:bold;font-size:1.2em;\"> 25 </div>\n<img src=\"https://raw.githubusercontent.com/andrejkk/ORvTK_SlidesImgs/master/footer_full.jpg\">"
    },
    {
      "metadata": {
        "collapsed": true,
        "slideshow": {
          "slide_type": "slide"
        }
      },
      "cell_type": "markdown",
      "source": "<div style=\"display:flex;font-weight:bold;font-size:0.9em;\">\n<div style=\"flex:1;width:50%;\"> 6. Integer (ILP) in mixed programming (MILP)  </div>\n<div style=\"flex:1;width:50%;text-align:right;\"> 6.2 ILP in ICT examples </div>\n</div>\n\n## ■ Problem of optimisation of elastic optical network (11)\n\n- MILP formulation for general network\n    - Cost function\n$$ \\matrix{\nc(x_{p,c}) &=& \\alpha\\frac{1}{H_{max}|P_d|} \\sum_{p\\in P_d} h_p P_p \n \\;+\\; \\beta\\frac{1}{|F||P_d|} \\sum_{p\\in P_d} h_p T_p  \\cr\n && + \\quad \\gamma\\frac{1}{|C|}\\sum_{p\\in P_d} h_p\n \\sum_{c\\in C_p} S_c(1+\\varepsilon f_c) x_{p,c} \\;+\\; \\delta\\frac{A}{max \\{R_m\\}}\n} \n$$\n\nOptimization task: \n$$ argmin_x c(x) $$\n\n\n<p style=\"margin-bottom:2cm;\"></p>\n<div style=\"width:100%;text-align:right;font-weight:bold;font-size:1.2em;\"> 26 </div>\n<img src=\"https://raw.githubusercontent.com/andrejkk/ORvTK_SlidesImgs/master/footer_full.jpg\">"
    },
    {
      "metadata": {
        "collapsed": true,
        "slideshow": {
          "slide_type": "slide"
        }
      },
      "cell_type": "markdown",
      "source": "<div style=\"display:flex;font-weight:bold;font-size:0.9em;\">\n<div style=\"flex:1;width:50%;\"> 6. Integer (ILP) in mixed programming (MILP)  </div>\n<div style=\"flex:1;width:50%;text-align:right;\"> 6.2 ILP in ICT examples </div>\n</div>\n\n## ■ Problem of optimisation of elastic optical network (12)\n\n- Constraints:\n    - Capacity: \n    $$ R_d \\leq \\sum_{p\\in P_d} \\sum_{c\\in C_p} R_c x_{p,c} $$\n    - Difference between the requested bit rate and the allocated bit rate:  \n    $$ A = \\sum_{p\\in P_d} \\sum_{c\\in C_p} R_c x_{p,c} - R_d $$\n    Number of channels is limited:\n    $$ x_{p,c} \\leq y_p $$\n    $$ \\sum_{p\\in P_d} y_p \\leq L_{max} $$ \n    \n    \n   \n<p style=\"margin-bottom:2cm;\"></p>\n<div style=\"width:100%;text-align:right;font-weight:bold;font-size:1.2em;\"> 27 </div>\n<img src=\"https://raw.githubusercontent.com/andrejkk/ORvTK_SlidesImgs/master/footer_full.jpg\">"
    },
    {
      "metadata": {
        "collapsed": true,
        "slideshow": {
          "slide_type": "slide"
        }
      },
      "cell_type": "markdown",
      "source": "<div style=\"display:flex;font-weight:bold;font-size:0.9em;\">\n<div style=\"flex:1;width:50%;\"> 6. Integer (ILP) in mixed programming (MILP)  </div>\n<div style=\"flex:1;width:50%;text-align:right;\"> 6.2 ILP in ICT examples </div>\n</div>\n\n\n## ■ Problem of optimisation of elastic optical network (13)\n\n- Constraints (cont.)\n    - Limit on number of parts:\n    $$ \\sum_{p\\in P_d} P_p \\leq H_{max}, FL_{max} $$\n    - Each channel is used at most ones: \n    $$ \\sum_{p\\in P_d} \\sum_{c\\in C_f} x_{p,c} \\leq 1 $$\n    - Number of parts: \n    $$ P_p = \\sum_{c\\in C_p} x_{p,c} $$\n\n\n\n<p style=\"margin-bottom:2cm;\"></p>\n<div style=\"width:100%;text-align:right;font-weight:bold;font-size:1.2em;\"> 28 </div>\n<img src=\"https://raw.githubusercontent.com/andrejkk/ORvTK_SlidesImgs/master/footer_full.jpg\">"
    },
    {
      "metadata": {
        "collapsed": true,
        "slideshow": {
          "slide_type": "slide"
        }
      },
      "cell_type": "markdown",
      "source": "<div style=\"display:flex;font-weight:bold;font-size:0.9em;\">\n<div style=\"flex:1;width:50%;\"> 6. Integer (ILP) in mixed programming (MILP)  </div>\n<div style=\"flex:1;width:50%;text-align:right;\"> 6.2 ILP in ICT examples </div>\n</div>\n\n\n## ■ Problem of optimisation of elastic optical network (14)\n\n- Constraints (cont.)\n    - Number of spectral gaps:\n    $$ T_p = \\sum_{i=1}^{|F|} z_{p,i} - \\sum_{i=1}^{|F|-1} w_{p,i,i+1} $$\n    - Occupied frequency slots:\n    $$ z_{p,f} = 1, \\quad \\forall p\\in P, f\\in F_p^u. $$\n    - Vacant frequency slots:\n    $$ z_{p,f} = \\sum_{c\\in C_f} x_{p,f}, \\quad \\forall p\\in P, f\\in F\\setminus F_p^u. $$\n    - Slack variables:\n    $$ w_{p,i,i+1} \\leq z_{p,i}, z_{p,i+1} $$\n    $$ w_{p,i,i+1} \\geq z_{p,i} + z_{p,i+1} - 1 $$\n\n\n<p style=\"margin-bottom:2cm;\"></p>\n<div style=\"width:100%;text-align:right;font-weight:bold;font-size:1.2em;\"> 29 </div>\n<img src=\"https://raw.githubusercontent.com/andrejkk/ORvTK_SlidesImgs/master/footer_full.jpg\">"
    },
    {
      "metadata": {
        "collapsed": true,
        "slideshow": {
          "slide_type": "slide"
        }
      },
      "cell_type": "markdown",
      "source": "<div style=\"display:flex;font-weight:bold;font-size:0.9em;\">\n<div style=\"flex:1;width:50%;\"> 6. Integer (ILP) in mixed programming (MILP)  </div>\n<div style=\"flex:1;width:50%;text-align:right;\"> 6.2 ILP in ICT examples </div>\n</div>\n\n\n## ■ Problem of optimisation of elastic optical network (15)\n\n- Problem type: \n    - Mixed integer linear programming, MILP)\n\n- How to do it:\n    - Case study \n    - Automated of file formulation\n\n\n<p style=\"margin-bottom:2cm;\"></p>\n<div style=\"width:100%;text-align:right;font-weight:bold;font-size:1.2em;\"> 30 </div>\n<img src=\"https://raw.githubusercontent.com/andrejkk/ORvTK_SlidesImgs/master/footer_full.jpg\">"
    },
    {
      "metadata": {
        "collapsed": true,
        "slideshow": {
          "slide_type": "slide"
        }
      },
      "cell_type": "markdown",
      "source": "<div style=\"display:flex;font-weight:bold;font-size:0.9em;\">\n<div style=\"flex:1;width:50%;\"> 6. Integer (ILP) in mixed programming (MILP)  </div>\n<div style=\"flex:1;width:50%;text-align:right;\"> Conclusion </div>\n</div>\n\n\n## Conclusion\n\n- MILP:\n    - When: set membership\n    - Real TC problems are usually MILP\n\n- Algorithm: \n    - More complex than LP\n    - Useful: bramch and bound\n\n\n\n\n<p style=\"margin-bottom:2cm;\"></p>\n<div style=\"width:100%;text-align:right;font-weight:bold;font-size:1.2em;\"> 31 </div>\n<img src=\"https://raw.githubusercontent.com/andrejkk/ORvTK_SlidesImgs/master/footer_full.jpg\">"
    },
    {
      "metadata": {
        "trusted": true
      },
      "cell_type": "code",
      "source": "",
      "execution_count": null,
      "outputs": []
    }
  ],
  "metadata": {
    "celltoolbar": "Slideshow",
    "kernelspec": {
      "name": "python36",
      "display_name": "Python 3.6",
      "language": "python"
    },
    "language_info": {
      "mimetype": "text/x-python",
      "nbconvert_exporter": "python",
      "name": "python",
      "pygments_lexer": "ipython3",
      "version": "3.6.6",
      "file_extension": ".py",
      "codemirror_mode": {
        "version": 3,
        "name": "ipython"
      }
    }
  },
  "nbformat": 4,
  "nbformat_minor": 2
}