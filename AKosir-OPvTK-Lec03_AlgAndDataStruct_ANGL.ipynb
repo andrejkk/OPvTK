{
 "cells": [
  {
   "cell_type": "markdown",
   "metadata": {
    "collapsed": true,
    "slideshow": {
     "slide_type": "slide"
    }
   },
   "source": [
    "<img style=\"float: center; width: 100%\" src=\"https://raw.githubusercontent.com/andrejkk/TalksImgs/master/FrontSlideUpperBan.png\">\n",
    "<p style=\"margin-bottom:2cm;\"></p>\n",
    "\n",
    "<center>\n",
    "    <H1> 3. Data structures in algorithms </H1>\n",
    "   \n",
    "\n",
    "\n",
    "<br><br>\n",
    "    <H3> Andrej Košir, Lucami, FE </H3>\n",
    "    <H4> Contact: prof. dr. Andrej Košir, andrej.kosir@fe.uni-lj.si, ZOOM https://uni-lj-si.zoom.us/j/97654707084 </H4>\n",
    "</center>\n",
    "\n",
    "\n",
    "<p style=\"margin-bottom:2cm;\"></p>\n",
    "<div style=\"width:100%;text-align:right;font-weight:bold;font-size:1.2em;\"> 1 </div>\n",
    "<img src=\"https://raw.githubusercontent.com/andrejkk/ORvTK_SlidesImgs/master/footer_full.jpg\">"
   ]
  },
  {
   "cell_type": "markdown",
   "metadata": {
    "collapsed": true,
    "slideshow": {
     "slide_type": "slide"
    }
   },
   "source": [
    "<div style=\"display:flex;font-weight:bold;font-size:0.9em;\">\n",
    "<div style=\"flex:1;width:50%;\"> 3. Data structures in algorithms </div>\n",
    "<div style=\"flex:1;width:50%;text-align:right;\"> Goals  </div>\n",
    "</div>\n",
    "\n",
    "\n",
    "## Goals\n",
    "\n",
    "\n",
    "- Recognize the importance of data structures and algorithms in optimization\n",
    "- Importance of computational (time) and spatial (memory) complexity\n",
    "\n",
    "\n",
    "- Main message\n",
    "\n",
    "<p>\n",
    "    \n",
    "**Computer program = data structure + algorithm**\n",
    "\n",
    "<p>\n",
    "    \n",
    "- Algorithm design does not begin with the procedure, but with data structure design\n",
    "\n",
    "\n",
    "\n",
    "#### Learning outcomes\n",
    "\n",
    "- Know the requirements for an algorithm as a process\n",
    "- Know the importance of data structures and algorithms in optimization\n",
    "- Know the meaning of pseudocode\n",
    "- Know how to determine the computational complexity of an algorithm\n",
    "- Understand classes of computational complexity\n",
    "\n",
    "\n",
    "<p style=\"margin-bottom:2cm;\"></p>\n",
    "<div style=\"width:100%;text-align:right;font-weight:bold;font-size:1.2em;\"> 2 </div>\n",
    "<img src=\"https://raw.githubusercontent.com/andrejkk/ORvTK_SlidesImgs/master/footer_full.jpg\">"
   ]
  },
  {
   "cell_type": "markdown",
   "metadata": {},
   "source": [
    "<div style=\"display:flex;font-weight:bold;font-size:0.9em;\">\n",
    "<div style=\"flex:1;width:50%;\"> 3. Data structures in algorithms </div>\n",
    "<div style=\"flex:1;width:50%;text-align:right;\"> Goals  </div>\n",
    "</div>\n",
    "\n",
    "\n",
    "## How this section relates to optimisation\n",
    "\n",
    "One of the fundamental insights of computer science is that the planning of an algorithm does not start with a process (steps), but with a plan of how we will efficiently store the input data, intermediate results and final results in computer memory. The manageability (stable operation and debugging) of complex modern algorithms requires controlled access and manipulation of this data in memory. This is where the introduction of data structures comes into play, enabling the formulation of such controlled data manipulation. As a data structure, we introduce, for example, the type and the graph, which are important players in optimization. The planning of an algorithm therefore begins with the selection of a suitable data structure.\n",
    "\n",
    "The history of the development of computers and algorithms has shown the connection between hardware and software. For example, programming languages themselves have changed relatively quickly in all aspects (syntax, implementation of compilers, etc.). For a stable development of the field of algorithms together with theoretical proofs of correct functioning, it was necessary to separate algorithms from programming languages. They therefore introduced pseudocode, which enables an implementation- (even programming language-) independent description of the algorithm. For example, we describe the algorithm of the shortest path independently of the programming language and thus universally prove the correctness of its functionality, i.e. that it always finds a correct solution.\n",
    "\n",
    "The computational complexity of the algorithm depends on the number of steps required for its implementation depending on the size of the input data. One of the advantages of introducing pseudocode into the description of algorithms is also a generalized assessment of the computational complexity of the algorithm. The computational complexity is indicated by the complexity classes, which represent the essential part of the computational complexity, and it turns out that the computational complexity of the optimization algorithm is essential for its practical utility.\n",
    "\n",
    "The Descent algorithm can solve any optimization problem, but with an exponential computational complexity and is therefore completely useless for solving real-world problems. Therefore, an acceptable computational complexity (polynomial with an exponent up to 3) is a prerequisite for the usability of the optimization algorithm in practice.\n",
    "\n",
    "\n",
    "<p style=\"margin-bottom:2cm;\"></p>\n",
    "<div style=\"width:100%;text-align:right;font-weight:bold;font-size:1.2em;\"> 2 </div>\n",
    "<img src=\"https://raw.githubusercontent.com/andrejkk/ORvTK_SlidesImgs/master/footer_full.jpg\">"
   ]
  },
  {
   "cell_type": "markdown",
   "metadata": {
    "collapsed": true,
    "slideshow": {
     "slide_type": "slide"
    }
   },
   "source": [
    "<div style=\"display:flex;font-weight:bold;font-size:0.9em;\">\n",
    "<div style=\"flex:1;width:50%;\"> 3. Data structures in algorithms </div>\n",
    "<div style=\"flex:1;width:50%;text-align:right;\"> Sections  </div>\n",
    "</div>\n",
    "\n",
    "\n",
    "## ■ Sections (1)\n",
    "\n",
    "### 3. 1. Algorithm and pseudocode\n",
    "\n",
    "■ Definition and basic characteristics of an algorithm $\\large{*}$\n",
    "\n",
    "■ Pseudocode $\\large{*}$\n",
    "\n",
    "\n",
    "### 3. 2. Data structures\n",
    "\n",
    "■ Data structure description $\\large{*}$\n",
    "\n",
    "■ Data structure types $\\large{*}$\n",
    "\n",
    "■ Data structure Stack\n",
    "\n",
    "■ Data structure List\n",
    "\n",
    "■ Data structure Queue\n",
    "\n",
    "■ Data structure Graph\n",
    "\n",
    "■ Data structure example: Breadth-first search\n",
    "\n",
    " \n",
    "<p style=\"margin-bottom:2cm;\"></p>\n",
    "<div style=\"width:100%;text-align:right;font-weight:bold;font-size:1.2em;\"> 3 </div>\n",
    "<img src=\"https://raw.githubusercontent.com/andrejkk/ORvTK_SlidesImgs/master/footer_full.jpg\">"
   ]
  },
  {
   "cell_type": "markdown",
   "metadata": {
    "collapsed": true,
    "slideshow": {
     "slide_type": "slide"
    }
   },
   "source": [
    "<div style=\"display:flex;font-weight:bold;font-size:0.9em;\">\n",
    "<div style=\"flex:1;width:50%;\"> 3. Data structures in algorithms </div>\n",
    "<div style=\"flex:1;width:50%;text-align:right;\"> 3. 1. Algorithm and pseudocode  </div>\n",
    "</div>\n",
    "\n",
    "## ■ Sections (2)\n",
    "\n",
    "### 3. 3. Computational and space complexity\n",
    "\n",
    "■ Description of computational and space complexity $\\large{*}$\n",
    "\n",
    "■ Input data size $\\large{*}$\n",
    "\n",
    "■ Complexity class - definition $\\large{*}$\n",
    "\n",
    "■ Complexity class – list\n",
    "\n",
    "■ Time and space (memory) complexity\n",
    "\n",
    "■ Performing an algorithm complexity analysis\n",
    "\n",
    "■ Example: Symmetric matrix decomposition\n",
    "\n",
    "■ Algorithm complexity - notes\n",
    "\n",
    "\n",
    "### 3. 4. Supplement: Software in optimization\n",
    "\n",
    "\n",
    "\n",
    "<p style=\"margin-bottom:2cm;\"></p>\n",
    "<div style=\"width:100%;text-align:right;font-weight:bold;font-size:1.2em;\"> 4 </div>\n",
    "<img src=\"https://raw.githubusercontent.com/andrejkk/ORvTK_SlidesImgs/master/footer_full.jpg\">"
   ]
  },
  {
   "cell_type": "markdown",
   "metadata": {
    "collapsed": true,
    "slideshow": {
     "slide_type": "slide"
    }
   },
   "source": [
    "<div style=\"display:flex;font-weight:bold;font-size:0.9em;\">\n",
    "<div style=\"flex:1;width:50%;\"> 3. Data structures in algorithms </div>\n",
    "<div style=\"flex:1;width:50%;text-align:right;\"> 3. 1. Algorithm and pseudocode  </div>\n",
    "</div>\n",
    "\n",
    "\n",
    "## ■ Introduction\n",
    "\n",
    "- Why the computational and space complexity is essential\n",
    "- Algorithm backtracking) solves any problem\n",
    "- Procedure\n",
    " \n",
    "\n",
    "```python\n",
    " 1: def backtrackR(n, S, k, x, resitev):\n",
    " 2:    # n depth of the tree S of the set of decisions, S [k] possible decision at the step k, k is the current step\n",
    " 3:    # x vector containing our previous decisions, x[0] is the decision on the first step, x[1] on the second etc\n",
    " 4:    for (i = 0; i < S[k].length; i++) {\n",
    " 5:        x = S[k][i];                    # i-th elt of the set S[k]\n",
    " 6:        if canLeadToSlution(k, x) {\n",
    " 7:            if (k == n) {                  \n",
    " 9:            solution.addNewSolution(x); \n",
    "10:        }                              \n",
    "11:        else {\n",
    "12:        # proceed to the next step by the solution x[i] = S[k][i]\n",
    "13:        backtrackR(n, S, k + 1, x, solution);\n",
    "14:      }\n",
    "15:    }\n",
    "16:  }\n",
    "\n",
    "```\n",
    "\n",
    "\n",
    "- This algorithm has exponential complexity and is useless in practice\n",
    "- Therefore, the algorithms with reasonable complexity are needed\n",
    "\n",
    "<img style=\"float: right; width: 400; margin: -56px 20px 0 0;\" src=\"https://raw.githubusercontent.com/andrejkk/ORvTK_SlidesImgs/master/BackTrackAlg.png\">\n",
    "\n",
    "\n",
    "\n",
    "<p style=\"margin-bottom:2cm;\"><br><br><br><br><br></p>\n",
    "<div style=\"width:100%;text-align:right;font-weight:bold;font-size:1.2em;\"> 5 </div>\n",
    "<img src=\"https://raw.githubusercontent.com/andrejkk/ORvTK_SlidesImgs/master/footer_full.jpg\">"
   ]
  },
  {
   "cell_type": "markdown",
   "metadata": {
    "collapsed": true,
    "slideshow": {
     "slide_type": "slide"
    }
   },
   "source": [
    "<div style=\"display:flex;font-weight:bold;font-size:0.9em;\">\n",
    "<div style=\"flex:1;width:50%;\"> 3. Data structures in algorithms </div>\n",
    "<div style=\"flex:1;width:50%;text-align:right;\"> 3. 1. Algorithm and pseudocode  </div>\n",
    "</div>\n",
    "\n",
    "\n",
    "# 3. 1. Algorithm and pseudocode\n",
    "\n",
    "■ Definition and basic characteristics of an algorithm\n",
    "\n",
    "■ Pseudocode\n",
    "\n",
    "\n",
    "\n",
    "<p style=\"margin-bottom:2cm;\"></p>\n",
    "<div style=\"width:100%;text-align:right;font-weight:bold;font-size:1.2em;\"> 6 </div>\n",
    "<img src=\"https://raw.githubusercontent.com/andrejkk/ORvTK_SlidesImgs/master/footer_full.jpg\">"
   ]
  },
  {
   "cell_type": "markdown",
   "metadata": {
    "collapsed": true,
    "slideshow": {
     "slide_type": "slide"
    }
   },
   "source": [
    "<div style=\"display:flex;font-weight:bold;font-size:0.9em;\">\n",
    "<div style=\"flex:1;width:50%;\"> 3. Data structures in algorithms </div>\n",
    "<div style=\"flex:1;width:50%;text-align:right;\"> 3. 1. Algorithm and pseudocode  </div>\n",
    "</div>\n",
    "\n",
    "\n",
    "## ■ Definition and basic characteristics of an algorithm\n",
    "\n",
    "\n",
    "- **Definition (Algorithm):** _Algorithm a set of rules for solving a problem in a finite number of steps on a precisely defined input data._\n",
    "\n",
    "\n",
    "- Basic features of algorithms:\n",
    "    - Input data: input data defined;\n",
    "    - Results: always available at the end of execution;\n",
    "    - Accuracy:  all steps exactly defined;\n",
    "    - Deterministic: all results are dependent only on input data\n",
    "    - Finite number of steps: for any regular input data;\n",
    "    - Correctness : results are always as required;\n",
    "    - Generality: operable  on any input data;\n",
    "\n",
    "\n",
    "\n",
    "- Dependence on hardware:\n",
    "    - We limit to single processor  machines\n",
    "    - Turing machine\n",
    "\n",
    "\n",
    "<p style=\"margin-bottom:2cm;\"></p>\n",
    "<div style=\"width:100%;text-align:right;font-weight:bold;font-size:1.2em;\"> 7 </div>\n",
    "<img src=\"https://raw.githubusercontent.com/andrejkk/ORvTK_SlidesImgs/master/footer_full.jpg\">"
   ]
  },
  {
   "cell_type": "markdown",
   "metadata": {},
   "source": [
    "x=1"
   ]
  },
  {
   "cell_type": "markdown",
   "metadata": {
    "collapsed": true,
    "slideshow": {
     "slide_type": "slide"
    }
   },
   "source": [
    "<div style=\"display:flex;font-weight:bold;font-size:0.9em;\">\n",
    "<div style=\"flex:1;width:50%;\"> 3. Data structures in algorithms </div>\n",
    "<div style=\"flex:1;width:50%;text-align:right;\"> 3. 1. Algorithm and pseudocode  </div>\n",
    "</div>\n",
    "\n",
    "\n",
    "## ■ Pseudocode\n",
    "\n",
    "- **Description (Pseudocode)** Abstract description of data structures or algorithm, independent of software implementation._\n",
    "\n",
    "\n",
    "- It specifies\n",
    "    - Input data\n",
    "    - Results\n",
    "    - Procedure to the selected level\n",
    " \n",
    " \n",
    "<img style=\"float: right; width: 250px; margin: -80px 20px 50px 0;\" src=\"https://raw.githubusercontent.com/andrejkk/ORvTK_SlidesImgs/master/PseudoC_Cholesky.png\">\n",
    " \n",
    "\n",
    "\n",
    "<p style=\"margin-bottom:2cm;\"><br><br><br><br><br><br><br><br><br><br></p>\n",
    "<div style=\"width:100%;text-align:right;font-weight:bold;font-size:1.2em;\"> 8 </div>\n",
    "<img src=\"https://raw.githubusercontent.com/andrejkk/ORvTK_SlidesImgs/master/footer_full.jpg\">"
   ]
  },
  {
   "cell_type": "markdown",
   "metadata": {
    "collapsed": true,
    "slideshow": {
     "slide_type": "slide"
    }
   },
   "source": [
    "<div style=\"display:flex;font-weight:bold;font-size:0.9em;\">\n",
    "<div style=\"flex:1;width:50%;\"> 3. Data structures in algorithms </div>\n",
    "<div style=\"flex:1;width:50%;text-align:right;\"> 3.2. Data structures  </div>\n",
    "</div>\n",
    "\n",
    "\n",
    "\n",
    "# 3.2. Data structures\n",
    "\n",
    "■ Data structure description\n",
    "\n",
    "■ Data structure types\n",
    "\n",
    "■ Stack\n",
    "\n",
    "■ List\n",
    "\n",
    "■ Queue\n",
    "\n",
    "■ Graph\n",
    "\n",
    "■ Data structure example: Breadth-first search\n",
    "\n",
    "\n",
    "<p style=\"margin-bottom:2cm;\"></p>\n",
    "<div style=\"width:100%;text-align:right;font-weight:bold;font-size:1.2em;\"> 9 </div>\n",
    "<img src=\"https://raw.githubusercontent.com/andrejkk/ORvTK_SlidesImgs/master/footer_full.jpg\">"
   ]
  },
  {
   "cell_type": "markdown",
   "metadata": {
    "collapsed": true,
    "slideshow": {
     "slide_type": "slide"
    }
   },
   "source": [
    "<div style=\"display:flex;font-weight:bold;font-size:0.9em;\">\n",
    "<div style=\"flex:1;width:50%;\"> 3. Data structures in algorithms </div>\n",
    "<div style=\"flex:1;width:50%;text-align:right;\"> 3.2. Data structures  </div>\n",
    "</div>\n",
    "\n",
    "\n",
    "## ■ Description of data structure\n",
    "\n",
    "\n",
    "**Description (Data structure)** _Data structure is a particular way of organizing data in a computer so that it can be used efficiently._\n",
    "\n",
    "\n",
    "- Data structure's description\n",
    "    - How composite data is stored\n",
    "    - Basic operations on these data: access, manipulation\n",
    "\n",
    "\n",
    "- The purpose of introducing data structures:\n",
    "    - Separate description data from a specific implementation in a programming language;\n",
    "    - It enables study of the universal properties such as correctness\n",
    "    - Determination of algorithms complexity \n",
    "\n",
    "\n",
    "- There are:\n",
    "    - Primitive types: char, int ...\n",
    "    - Compound types: array, ...\n",
    "    - Abstract data structures: stack, queue, graph, ….\n",
    "\n",
    "\n",
    "<p style=\"margin-bottom:2cm;\"></p>\n",
    "<div style=\"width:100%;text-align:right;font-weight:bold;font-size:1.2em;\"> 10 </div>\n",
    "<img src=\"https://raw.githubusercontent.com/andrejkk/ORvTK_SlidesImgs/master/footer_full.jpg\">"
   ]
  },
  {
   "cell_type": "markdown",
   "metadata": {
    "collapsed": true,
    "slideshow": {
     "slide_type": "slide"
    }
   },
   "source": [
    "<div style=\"display:flex;font-weight:bold;font-size:0.9em;\">\n",
    "<div style=\"flex:1;width:50%;\"> 3. Data structures in algorithms </div>\n",
    "<div style=\"flex:1;width:50%;text-align:right;\"> 3.2. Data structures  </div>\n",
    "</div>\n",
    "\n",
    "\n",
    "\n",
    "## ■ Data structure types\n",
    "\n",
    "\n",
    "- Primitive types\n",
    "    - Boolean (binary), Char, Float, Double, Integer, Enumerated;\n",
    "    - Purpose: Presentation of numbers\n",
    "\n",
    "\n",
    "- Composite types\n",
    "    - Array, Struct, Union, ...\n",
    "    - Purpose: Presentation of data fields (arrays, ...)\n",
    "\n",
    "\n",
    "- Abstract Data Types\n",
    "    - List\n",
    "    - Queue\n",
    "    - Stack\n",
    "    - Graph\n",
    "    - Purpose: presentation of complex data\n",
    "\n",
    "    \n",
    "<p style=\"margin-bottom:2cm;\"></p>\n",
    "<div style=\"width:100%;text-align:right;font-weight:bold;font-size:1.2em;\"> 11 </div>\n",
    "<img src=\"https://raw.githubusercontent.com/andrejkk/ORvTK_SlidesImgs/master/footer_full.jpg\">"
   ]
  },
  {
   "cell_type": "markdown",
   "metadata": {
    "collapsed": true,
    "slideshow": {
     "slide_type": "slide"
    }
   },
   "source": [
    "<div style=\"display:flex;font-weight:bold;font-size:0.9em;\">\n",
    "<div style=\"flex:1;width:50%;\"> 3. Data structures in algorithms </div>\n",
    "<div style=\"flex:1;width:50%;text-align:right;\"> 3.2. Data structures  </div>\n",
    "</div>\n",
    "\n",
    "\n",
    "## ■ Data structure Stack\n",
    "\n",
    "- Use:\n",
    "    - „Reverse Polish notion“ RPN\n",
    "    - Von Neuman processor\n",
    "\n",
    "\n",
    "\n",
    "<img style=\"float: right; width: 200px; margin: -40px 20px 50px 0;\" src=\"https://raw.githubusercontent.com/andrejkk/ORvTK_SlidesImgs/master/PseudoC_Stack.png\">\n",
    "\n",
    "<img style=\"float: left; width: 150px; margin: 20px 50px 50px 0;\" src=\"https://raw.githubusercontent.com/andrejkk/ORvTK_SlidesImgs/master/DataStructStack.png\">\n",
    "\n",
    "\n",
    "\n",
    "\n",
    "<p style=\"margin-bottom:2cm;\"><br><br><br><br><br><br><br><br></p>\n",
    "<div style=\"width:100%;text-align:right;font-weight:bold;font-size:1.2em;\"> 12 </div>\n",
    "<img src=\"https://raw.githubusercontent.com/andrejkk/ORvTK_SlidesImgs/master/footer_full.jpg\">"
   ]
  },
  {
   "cell_type": "markdown",
   "metadata": {
    "collapsed": true,
    "slideshow": {
     "slide_type": "slide"
    }
   },
   "source": [
    "<div style=\"display:flex;font-weight:bold;font-size:0.9em;\">\n",
    "<div style=\"flex:1;width:50%;\"> 3. Data structures in algorithms </div>\n",
    "<div style=\"flex:1;width:50%;text-align:right;\"> 3.2. Data structures  </div>\n",
    "</div>\n",
    "\n",
    "\n",
    "\n",
    "## ■ Data structure List\n",
    "\n",
    "- Usage\n",
    "    - List of  graph nodes \n",
    "    - List of users , ....\n",
    "\n",
    "    \n",
    "\n",
    "<img style=\"float: right; width: 250px; margin: -100px 50px 50px 0;\" src=\"https://raw.githubusercontent.com/andrejkk/ORvTK_SlidesImgs/master/PseudoC_Queue.png\">\n",
    "    \n",
    "\n",
    "<p style=\"margin-bottom:2cm;\"><br><br><br><br><br><br><br><br></p>\n",
    "<div style=\"width:100%;text-align:right;font-weight:bold;font-size:1.2em;\"> 13 </div>\n",
    "<img src=\"https://raw.githubusercontent.com/andrejkk/ORvTK_SlidesImgs/master/footer_full.jpg\">"
   ]
  },
  {
   "cell_type": "markdown",
   "metadata": {
    "collapsed": true,
    "slideshow": {
     "slide_type": "slide"
    }
   },
   "source": [
    "<div style=\"display:flex;font-weight:bold;font-size:0.9em;\">\n",
    "<div style=\"flex:1;width:50%;\"> 3. Data structures in algorithms </div>\n",
    "<div style=\"flex:1;width:50%;text-align:right;\"> 3.2. Data structures  </div>\n",
    "</div>\n",
    "\n",
    "\n",
    "## ■ Data structure Graph\n",
    "\n",
    "- Notation $G = (V ,E)$\n",
    "    - Nodes (vertices) $V$: natural numbers\n",
    "    - Edges (links) $E=\\{(u,v): u,v\\in V\\}$ \n",
    "    \n",
    "    \n",
    "- Usage\n",
    "    - Telecommunication network\n",
    "    - Optimization algorithms\n",
    "\n",
    "\n",
    "<img style=\"float: right; width: 250px; margin: -60px 50px 50px 0;\" src=\"https://raw.githubusercontent.com/andrejkk/ORvTK_SlidesImgs/master/PseudoC_Graph.png\">\n",
    "    \n",
    "<img style=\"float: left; width: 200px; margin: 20px 50px 50px 0;\" src=\"https://raw.githubusercontent.com/andrejkk/ORvTK_SlidesImgs/master/DataStructGraph.jpg\">\n",
    "\n",
    "\n",
    "\n",
    "<p style=\"margin-bottom:2cm;\"><br><br><br><br><br><br><br><br><br><br></p>\n",
    "<div style=\"width:100%;text-align:right;font-weight:bold;font-size:1.2em;\"> 14 </div>\n",
    "<img src=\"https://raw.githubusercontent.com/andrejkk/ORvTK_SlidesImgs/master/footer_full.jpg\">"
   ]
  },
  {
   "cell_type": "markdown",
   "metadata": {
    "collapsed": true,
    "slideshow": {
     "slide_type": "slide"
    }
   },
   "source": [
    "<div style=\"display:flex;font-weight:bold;font-size:0.9em;\">\n",
    "<div style=\"flex:1;width:50%;\"> 3. Data structures in algorithms </div>\n",
    "<div style=\"flex:1;width:50%;text-align:right;\"> 3.2. Data structures  </div>\n",
    "</div>\n",
    "\n",
    "\n",
    "\n",
    "## ■ Usage: Breadth-first search\n",
    "\n",
    "- Theoretical analysis: the algorithm is correct = (visits all nodes)\n",
    "- Independently of implementation\n",
    "- The introduction of new underlying operations for the analysis of complexity\n",
    "\n",
    "\n",
    "- Graph $G=(V, E)$\n",
    "\n",
    "    $V=\\{1,2,3,4,5,6\\}$ <br>\n",
    "    $E=\\{(12),(15),(16),(23),(34),(35),(45),(46),(56)\\}$\n",
    "    \n",
    "    \n",
    "<img style=\"float: right; width: 200px; margin: -50px 20px 50px 0;\" src=\"https://raw.githubusercontent.com/andrejkk/ORvTK_SlidesImgs/master/Algorithm_BFS.png\">\n",
    "\n",
    "\n",
    "\n",
    "<p style=\"margin-bottom:2cm;\"><br><br><br><br><br><br><br><br><br><br><br></p>\n",
    "<div style=\"width:100%;text-align:right;font-weight:bold;font-size:1.2em;\"> 15 </div>\n",
    "<img src=\"https://raw.githubusercontent.com/andrejkk/ORvTK_SlidesImgs/master/footer_full.jpg\">"
   ]
  },
  {
   "cell_type": "markdown",
   "metadata": {
    "collapsed": true,
    "slideshow": {
     "slide_type": "slide"
    }
   },
   "source": [
    "<div style=\"display:flex;font-weight:bold;font-size:0.9em;\">\n",
    "<div style=\"flex:1;width:50%;\"> 3. Data structures in algorithms </div>\n",
    "<div style=\"flex:1;width:50%;text-align:right;\"> 3.3. Computational (time) and space complexity  </div>\n",
    "</div>\n",
    "\n",
    "\n",
    "\n",
    "# 3.3. Computational (time) and space complexity\n",
    "\n",
    "■ Description of computational and space complexity\n",
    "\n",
    "■ Input data size\n",
    "\n",
    "■ Complexity class - definition\n",
    "\n",
    "■ Complexity class – list\n",
    "\n",
    "■ Time and space (memory) complexity\n",
    "\n",
    "■ Performing an algorithm complexity analysis\n",
    "\n",
    "■ Example: Symmetric matrix decomposition\n",
    "\n",
    "■ Algorithm complexity - notes\n",
    "\n",
    "\n",
    "\n",
    "\n",
    "<p style=\"margin-bottom:2cm;\"></p>\n",
    "<div style=\"width:100%;text-align:right;font-weight:bold;font-size:1.2em;\"> 16 </div>\n",
    "<img src=\"https://raw.githubusercontent.com/andrejkk/ORvTK_SlidesImgs/master/footer_full.jpg\">"
   ]
  },
  {
   "cell_type": "markdown",
   "metadata": {
    "collapsed": true,
    "slideshow": {
     "slide_type": "slide"
    }
   },
   "source": [
    "<div style=\"display:flex;font-weight:bold;font-size:0.9em;\">\n",
    "<div style=\"flex:1;width:50%;\"> 3. Data structures in algorithms </div>\n",
    "<div style=\"flex:1;width:50%;text-align:right;\"> 3.3. Computational (time) and space complexity  </div>\n",
    "</div>\n",
    "\n",
    "\n",
    "\n",
    "## ■ Description of computational and space complexity \n",
    "\n",
    "- Why: \n",
    "    - Crucial for applicability  of any algorithm;\n",
    "    - Algorithm „backtracking“ can solve any problem, but not in a reasonable (acceptable time);\n",
    "    \n",
    "    \n",
    "- Goal:\n",
    "    - How to perform the analysis of a given algorithm\n",
    "    - Classes of complexity\n",
    "    \n",
    "    \n",
    "- Types of complexity:\n",
    "    - **Worst case complexity**: number of operations (locations) that will not be exceeded for any input data; \n",
    "    - **Average case complexity**: average number of operations (locations) for expected input data sets. Can be very different from worst case.  \n",
    "\n",
    "\n",
    "\n",
    "<p style=\"margin-bottom:2cm;\"></p>\n",
    "<div style=\"width:100%;text-align:right;font-weight:bold;font-size:1.2em;\"> 17 </div>\n",
    "<img src=\"https://raw.githubusercontent.com/andrejkk/ORvTK_SlidesImgs/master/footer_full.jpg\">"
   ]
  },
  {
   "attachments": {},
   "cell_type": "markdown",
   "metadata": {
    "collapsed": true,
    "slideshow": {
     "slide_type": "slide"
    }
   },
   "source": [
    "<div style=\"display:flex;font-weight:bold;font-size:0.9em;\">\n",
    "<div style=\"flex:1;width:50%;\"> 3. Data structures in algorithms </div>\n",
    "<div style=\"flex:1;width:50%;text-align:right;\"> 3.3. Computational (time) and space complexity  </div>\n",
    "</div>\n",
    "\n",
    "\n",
    "\n",
    "## ■ Input data size\n",
    "\n",
    "- Data size is the input to the analysis of the algorithm complexity\n",
    "- Depends on the type of data and the algorithm\n",
    "- Types of input data and measuring the size of data\n",
    "\n",
    "| Data type | Size | lgorithm | \n",
    "| ----------- | ----------- | ----------- |\n",
    "| Number $n$  | $\\log_2(n)$ | Prime factorization |\n",
    "| List $L$  | $\\|L\\|$| Sorting |\n",
    "| Matrix $A$ | $\\|A_1\\|$ | Inverz |\n",
    "| Graph $G$=($V$,$E$)  | max($\\|V\\|$) | Maximal spanning tree  |\n",
    "\n",
    "\n",
    "\n",
    "\n",
    "<p style=\"margin-bottom:2cm;\"></p>\n",
    "<div style=\"width:100%;text-align:right;font-weight:bold;font-size:1.2em;\"> 18 </div>\n",
    "<img src=\"https://raw.githubusercontent.com/andrejkk/ORvTK_SlidesImgs/master/footer_full.jpg\">"
   ]
  },
  {
   "cell_type": "markdown",
   "metadata": {
    "collapsed": true,
    "slideshow": {
     "slide_type": "slide"
    }
   },
   "source": [
    "<div style=\"display:flex;font-weight:bold;font-size:0.9em;\">\n",
    "<div style=\"flex:1;width:50%;\"> 3. Data structures in algorithms </div>\n",
    "<div style=\"flex:1;width:50%;text-align:right;\"> 3.3. Computational (time) and space complexity  </div>\n",
    "</div>\n",
    "\n",
    "\n",
    "\n",
    "## ■ Complexity class - definition\n",
    "\n",
    "- We are interested in the algorithm complexity of large input data\n",
    "\n",
    "\n",
    "\n",
    "- **Definition** Let $f,g:ℕ\\to ℝ_+$ be nonegative functions on natural numbers. <br>\n",
    "Function $f$ belongs to the class $O(g(n))$, if there are constants $C_1>0$ and $N_1>0$ such that\n",
    "$$ f(n)\\leq C_1 g(n) \\text{za vse} n>N_1. $$\n",
    "Function $f$ belongs to the class $o(g(n))$, if there are constants $C_1>0$ and $N_1>0$ such that\n",
    "$$ \\lim_{n\\to\\infty} \\frac{f(n)}{g(n)} = 0.  $$\n",
    "\n",
    "\n",
    "- Observe:\n",
    "    - Big $O$ means that the function is increasing at the same pace as the representative of the class\n",
    "    - Small $o$ means that the function is growing more slowly as the representative of the class\n",
    "\n",
    "\n",
    "\n",
    "\n",
    "<p style=\"margin-bottom:2cm;\"></p>\n",
    "<div style=\"width:100%;text-align:right;font-weight:bold;font-size:1.2em;\"> 19 </div>\n",
    "<img src=\"https://raw.githubusercontent.com/andrejkk/ORvTK_SlidesImgs/master/footer_full.jpg\">"
   ]
  },
  {
   "cell_type": "markdown",
   "metadata": {
    "collapsed": true,
    "slideshow": {
     "slide_type": "slide"
    }
   },
   "source": [
    "<div style=\"display:flex;font-weight:bold;font-size:0.9em;\">\n",
    "<div style=\"flex:1;width:50%;\"> 3. Data structures in algorithms </div>\n",
    "<div style=\"flex:1;width:50%;text-align:right;\"> 3.3. Computational (time) and space complexity  </div>\n",
    "</div>\n",
    "\n",
    "\n",
    "\n",
    "## ■ Time and space (memory) complexity \n",
    "\n",
    "- Time complexity\n",
    "    - Notation $T(algorithm)$ [number of oprations = number ciklov]\n",
    "    - Basic operations: $+, -, *, /, \\ldots$ - odvisno od strojne opreme\n",
    "    - Razmerje med $𝑇(𝑜𝑝)$ and $𝑇(𝑝𝑟𝑜𝑐)$;\n",
    "        - Python case: square root\n",
    "    - **Definition:** _Time complexity is the number of basic operations dependent on input data size_\n",
    "    \n",
    "    \n",
    "    \n",
    "- Space (memory) complexity\n",
    "    - Notation $M(algorithm)$ [number of basic memory units]\n",
    "    - Basic memory units:: byte or memory unit for one basic data  (like int)\n",
    "        - Python example: Cholesky decomposition\n",
    "    - **Definition:** _Space (memory) complexity the number required of memory units dependent on input data size._\n",
    "    \n",
    "\n",
    "\n",
    "\n",
    "\n",
    "<p style=\"margin-bottom:2cm;\"></p>\n",
    "<div style=\"width:100%;text-align:right;font-weight:bold;font-size:1.2em;\"> 20 </div>\n",
    "<img src=\"https://raw.githubusercontent.com/andrejkk/ORvTK_SlidesImgs/master/footer_full.jpg\">"
   ]
  },
  {
   "attachments": {},
   "cell_type": "markdown",
   "metadata": {
    "collapsed": true,
    "slideshow": {
     "slide_type": "slide"
    }
   },
   "source": [
    "<div style=\"display:flex;font-weight:bold;font-size:0.9em;\">\n",
    "<div style=\"flex:1;width:50%;\"> 3. Data structures in algorithms </div>\n",
    "<div style=\"flex:1;width:50%;text-align:right;\"> 3.3. Computational (time) and space complexity  </div>\n",
    "</div>\n",
    "\n",
    "\n",
    "## ■ Complexity classes - list\n",
    "\n",
    "\n",
    "| Name      | Class | Note |\n",
    "| ----------- | ----------- | -------- |\n",
    "| Constant  | $O(1)$ |  |\n",
    "| Log log   | $O(\\log(\\log(n))$        |\n",
    "| Log  |  $O(\\log(n))$ |   |\n",
    "| Sublinear  | $O(n^c)$, $c<1$  |   |\n",
    "| Linear  | $O(n)$  |   |\n",
    "| N Log n  | $O(n\\log(n))$  | Very useful  |\n",
    "| Quadratic  | $O(n^2)$  |   |\n",
    "| Qubic  | $O(n^3)$  |   |\n",
    "| Polinomial  | $O(n^k)$, $k\\geq 1$  |   |\n",
    "| Exponential  | $O(c^n)$, $c>1$  | Useless  |\n",
    "| Factorial  | $O(n!)$  |   |\n",
    "\n",
    "\n",
    "\n",
    "\n",
    "<p style=\"margin-bottom:2cm;\"></p>\n",
    "<div style=\"width:100%;text-align:right;font-weight:bold;font-size:1.2em;\"> 21 </div>\n",
    "<img src=\"https://raw.githubusercontent.com/andrejkk/ORvTK_SlidesImgs/master/footer_full.jpg\">"
   ]
  },
  {
   "cell_type": "markdown",
   "metadata": {
    "collapsed": true,
    "slideshow": {
     "slide_type": "slide"
    }
   },
   "source": [
    "<div style=\"display:flex;font-weight:bold;font-size:0.9em;\">\n",
    "<div style=\"flex:1;width:50%;\"> 3. Data structures in algorithms </div>\n",
    "<div style=\"flex:1;width:50%;text-align:right;\"> 3.3. Computational (time) and space complexity  </div>\n",
    "</div>\n",
    "\n",
    "\n",
    "## ■ Complexity class\n",
    "\n",
    "\n",
    "Complexity classes decides on algorithm usefulness;\n",
    "\n",
    "\n",
    "\n",
    "<p style=\"margin-bottom:2cm;\"></p>\n",
    "<div style=\"width:100%;text-align:right;font-weight:bold;font-size:1.2em;\"> 22 </div>\n",
    "<img src=\"https://raw.githubusercontent.com/andrejkk/ORvTK_SlidesImgs/master/footer_full.jpg\">"
   ]
  },
  {
   "cell_type": "code",
   "execution_count": 2,
   "metadata": {
    "slideshow": {
     "slide_type": "slide"
    }
   },
   "outputs": [
    {
     "data": {
      "text/plain": [
       "<function matplotlib.pyplot.show>"
      ]
     },
     "execution_count": 2,
     "metadata": {},
     "output_type": "execute_result"
    },
    {
     "data": {
      "image/png": "[encoded data removed]",
      "text/plain": [
       "<matplotlib.figure.Figure at 0x7f9e31eb6b10>"
      ]
     },
     "metadata": {},
     "output_type": "display_data"
    }
   ],
   "source": [
    "## Time complexity of slected classes\n",
    "import numpy as np\n",
    "import matplotlib.pyplot as plt\n",
    "\n",
    "\n",
    "fig, ax = plt.subplots(figsize=(8, 6))\n",
    "\n",
    "n_max = 12\n",
    "n_lst = np.arange(n_max)+1\n",
    "lin10n_lst = [10*n for n in n_lst]\n",
    "lin20n_lst = [20*n for n in n_lst]\n",
    "nlogn_lst = [n*np.log(n) for n in n_lst]\n",
    "quadr_lst = [n**2 for n in n_lst]\n",
    "qubic_lst = [n**3 for n in n_lst]\n",
    "exp_lst = [2**n for n in n_lst]\n",
    "\n",
    "ax.plot(n_lst, lin10n_lst, label='$10 n$')\n",
    "ax.plot(n_lst, lin20n_lst, label='$20 n$')\n",
    "ax.plot(n_lst, nlogn_lst, label='$n \\log(n)$')\n",
    "ax.plot(n_lst, quadr_lst, label='$n^2$')\n",
    "ax.plot(n_lst, qubic_lst, label='$n^3$')\n",
    "ax.plot(n_lst, exp_lst, label='$2^n$')\n",
    "plt.legend()\n",
    "plt.show\n",
    "\n",
    "\n",
    "#<img src=\"https://raw.githubusercontent.com/andrejkk/ORvTK_SlidesImgs/master/footer_full.jpg\">"
   ]
  },
  {
   "cell_type": "markdown",
   "metadata": {
    "collapsed": true,
    "slideshow": {
     "slide_type": "slide"
    }
   },
   "source": [
    "<div style=\"display:flex;font-weight:bold;font-size:0.9em;\">\n",
    "<div style=\"flex:1;width:50%;\"> 3. Data structures in algorithms </div>\n",
    "<div style=\"flex:1;width:50%;text-align:right;\"> 3.3. Computational (time) and space complexity  </div>\n",
    "</div>\n",
    "\n",
    "\n",
    "## ■ Algorithm complexity analysis: worst case\n",
    "\n",
    "- Procedure of algorithm complexity analysis \n",
    "    1. Determination of the input data size;\n",
    "    2. Determination of basic operations and their complexity;\n",
    "    3. Step by step analysis of pseudocode\n",
    "    4. Summation of terms\n",
    "    5.Analysis of the leading terms and algorithm complexity class determination\n",
    "\n",
    "\n",
    "- Measurement of the implementation - the timing on the basis of implementation\n",
    "    - Timing of implementation at the selected size of the data\n",
    "    - Analysis of the comparison with the basic operation\t\n",
    "    - Fit models\n",
    "\n",
    "\n",
    "- Result of the analysis of the complexity class;\n",
    "\n",
    "\n",
    "\n",
    "\n",
    "<p style=\"margin-bottom:2cm;\"></p>\n",
    "<div style=\"width:100%;text-align:right;font-weight:bold;font-size:1.2em;\"> 23 </div>\n",
    "<img src=\"https://raw.githubusercontent.com/andrejkk/ORvTK_SlidesImgs/master/footer_full.jpg\">"
   ]
  },
  {
   "cell_type": "markdown",
   "metadata": {
    "collapsed": true,
    "slideshow": {
     "slide_type": "slide"
    }
   },
   "source": [
    "<div style=\"display:flex;font-weight:bold;font-size:0.9em;\">\n",
    "<div style=\"flex:1;width:50%;\"> 3. Data structures in algorithms </div>\n",
    "<div style=\"flex:1;width:50%;text-align:right;\"> 3.3. Computational (time) and space complexity  </div>\n",
    "</div>\n",
    "\n",
    "\n",
    "\n",
    "## ■ Example: matrix decomposition\n",
    "\n",
    "- Example: algorithm Cholesky decomposition $A = V.V^\\top$\n",
    "- time complexity <br>\n",
    "$n^3/3 + O(n^2)$\n",
    "- Space complexity <br>\n",
    "$n^2/2 + O(n)$\n",
    "- Square root estimation: <br>\n",
    "$c n + O(1)$, $c=1,037$ \n",
    "\n",
    "\n",
    "<br>\n",
    "<img style=\"float: right; width: 250px; margin: 20px 50px 50px 0;\" src=\"https://raw.githubusercontent.com/andrejkk/ORvTK_SlidesImgs/master/PseudoC_Cholesky.png\">\n",
    "\n",
    "<img style=\"float: left; width: 250px; margin: 20px 50px 50px 0;\"src=\"https://raw.githubusercontent.com/andrejkk/ORvTK_SlidesImgs/master/CholeskyComComp.png\">\n",
    "\n",
    "\n",
    "\n",
    "<p style=\"margin-bottom:2cm;\"></p>\n",
    "<div style=\"width:100%;text-align:right;font-weight:bold;font-size:1.2em;\"> 24 </div>\n",
    "<img src=\"https://raw.githubusercontent.com/andrejkk/ORvTK_SlidesImgs/master/footer_full.jpg\">"
   ]
  },
  {
   "cell_type": "code",
   "execution_count": 27,
   "metadata": {},
   "outputs": [
    {
     "data": {
      "image/png": "[encoded data removed]",
      "text/plain": [
       "<matplotlib.figure.Figure at 0x7f369c4a5b90>"
      ]
     },
     "metadata": {},
     "output_type": "display_data"
    }
   ],
   "source": [
    "import numpy as np\n",
    "from timeit import default_timer as timer\n",
    "import matplotlib.pyplot as plt\n",
    "\n",
    "\n",
    "p_num = 100\n",
    "N = 1000000000000\n",
    "dN = int(N/p_num)\n",
    "\n",
    "# One operation time\n",
    "y = np.sqrt(2)\n",
    "start = timer()\n",
    "y = 1 + 1\n",
    "end = timer()\n",
    "op_time = end - start\n",
    "\n",
    "x_lst = range(1, N, dN)\n",
    "time_lst = np.zeros(p_num)\n",
    "n_count = 0\n",
    "for x in x_lst:\n",
    "    start = timer()\n",
    "    y = np.sqrt(x)\n",
    "    end = timer()\n",
    "    time_lst[n_count] = (end - start) / op_time\n",
    "    n_count += 1\n",
    "\n",
    "fig, ax = plt.subplots(figsize=(6, 6))\n",
    "ax.plot(x_lst, time_lst, label='')\n",
    "plt.show()\n"
   ]
  },
  {
   "cell_type": "markdown",
   "metadata": {
    "collapsed": true,
    "slideshow": {
     "slide_type": "slide"
    }
   },
   "source": [
    "<div style=\"display:flex;font-weight:bold;font-size:0.9em;\">\n",
    "<div style=\"flex:1;width:50%;\"> 3. Data structures in algorithms </div>\n",
    "<div style=\"flex:1;width:50%;text-align:right;\"> 3.3. Computational (time) and space complexity  </div>\n",
    "</div>\n",
    "\n",
    "\n",
    "## ■ Algorithm complexity analysis : average case\n",
    "\n",
    "\n",
    "- Preocedure - computer simulation\n",
    "    1. Implement a random data generator / selector: $\\{D_1, \\ldots, D_N\\}$ \n",
    "        - Reprezentativity?\n",
    "    2. Complexity estimation $T(D_1), \\dots, T(D_N)$ \n",
    "    3. Average complexity: \n",
    "        - $\\overline{T}=\\frac{1}{N}\\sum_{i=1}^N T(D_i)$\n",
    "        - confidence interval\n",
    "\n",
    "\n",
    "\n",
    "<p style=\"margin-bottom:2cm;\"></p>\n",
    "<div style=\"width:100%;text-align:right;font-weight:bold;font-size:1.2em;\"> 25 </div>\n",
    "<img src=\"https://raw.githubusercontent.com/andrejkk/ORvTK_SlidesImgs/master/footer_full.jpg\">"
   ]
  },
  {
   "cell_type": "markdown",
   "metadata": {
    "collapsed": true,
    "slideshow": {
     "slide_type": "slide"
    }
   },
   "source": [
    "<div style=\"display:flex;font-weight:bold;font-size:0.9em;\">\n",
    "<div style=\"flex:1;width:50%;\"> 3. Data structures in algorithms </div>\n",
    "<div style=\"flex:1;width:50%;text-align:right;\"> 3.3. Computational (time) and space complexity  </div>\n",
    "</div>\n",
    "\n",
    "\n",
    "\n",
    "## ■ Algorithm complexity - notes\n",
    "\n",
    "- If the **for** / **while** loops contain functions of the class $O(1)$, then\n",
    "    - Loop **for** (i=1 to n) has complexity $O(𝑛)$\n",
    "    - Nested loops <br>\n",
    "    **for** (i=1 to n) <br>\n",
    "        **for** (j=1 to n) <br>\n",
    "    has complexity $O(𝑛^2)$ etc. <br>\n",
    "    - ==> each nested loop ads one to the exponent\n",
    "    \n",
    "    \n",
    "- The source of complexity class $O(2^𝑛)$ is finding all subsets of a set $|𝐴|=𝑛$:\n",
    "    - Number of subsets of a size $k$ equals to $n\\choose k$. \n",
    "    - For small $k$ this is close to $n^k$ (polynomial), for $k$ close to $n/2$ is close to exponential function\n",
    "    - The number of all subsets is equal to $2^k$\n",
    "    \n",
    "\n",
    "\n",
    "<p style=\"margin-bottom:2cm;\"></p>\n",
    "<div style=\"width:100%;text-align:right;font-weight:bold;font-size:1.2em;\"> 26 </div>\n",
    "<img src=\"https://raw.githubusercontent.com/andrejkk/ORvTK_SlidesImgs/master/footer_full.jpg\">"
   ]
  },
  {
   "cell_type": "markdown",
   "metadata": {
    "collapsed": true,
    "slideshow": {
     "slide_type": "subslide"
    }
   },
   "source": [
    "<div style=\"display:flex;font-weight:bold;font-size:0.9em;\">\n",
    "<div style=\"flex:1;width:50%;\"> 3. Data structures in algorithms </div>\n",
    "<div style=\"flex:1;width:50%;text-align:right;\"> 3.4. Optimisation related software  </div>\n",
    "</div>\n",
    "\n",
    "\n",
    "\n",
    "# 3.4. Optimisation related software\n",
    "\n",
    "## ■ List (1)\n",
    "\n",
    "** IBM CPLEX ** software <br>\n",
    "CPLEX is a very wide spectrum optimization tool [http://www-03.ibm.com/software/products/us/en/ibmilogcpleoptistud/]. It is unofficially referred to as the best general tool that was used to successfully solve big real problems. It is a group of different algorithms for rescue, which are continuously updated and improved. It is distinguished by an automated algorithm for rescue algorithms, which, after prior analysis of the problem, independently selects the appropriate algorithm. It is a licensed tool with very high royalties, there is also an academic license.\n",
    "\n",
    "** Software LP_solve ** <br>\n",
    "The LP_solve tool [http://sourceforge.net/projects/lpsolve/] is designed to solve problems of linear, integer and mixed programming, see Chapter 4. Although it's a simple tool, it can solve real problems. Due to its simple use, there is a lot of use, especially in the development of the optimization problem formulation. It is available in open source and for different operating systems. Supports the format of the LP input file.\n",
    "\n",
    "** Software Gurobi ** <br>\n",
    "Gurobi is a licensed software for solving various optimization tasks [http://www.gurobi.com/]. It is characterized by an efficient user interface for formulation development and optimization task solving. Academic licenses are available. Supports client server configuration.\n",
    "\n",
    "** XPRESS ** software <br>\n",
    "XPRESS [http://www.fico.com/en/Products/DMTools/Pages/FICO-Xpress-Optimization-Suite.aspx] software optimization tool is distinguished for its efficient implementation in terms of dealing with very large and complex problems. Among their references are solutions of extremely large logistical problems.\n",
    "\n",
    "\n",
    "\n",
    "\n",
    "<p style=\"margin-bottom:2cm;\"></p>\n",
    "<div style=\"width:100%;text-align:right;font-weight:bold;font-size:1.2em;\"> 27 </div>\n",
    "<img src=\"https://raw.githubusercontent.com/andrejkk/ORvTK_SlidesImgs/master/footer_full.jpg\">"
   ]
  },
  {
   "cell_type": "markdown",
   "metadata": {
    "collapsed": true,
    "slideshow": {
     "slide_type": "slide"
    }
   },
   "source": [
    "<div style=\"display:flex;font-weight:bold;font-size:0.9em;\">\n",
    "<div style=\"flex:1;width:50%;\"> 3. Data structures in algorithms </div>\n",
    "<div style=\"flex:1;width:50%;text-align:right;\"> 3.4. Optimisation related software  </div>\n",
    "</div>\n",
    "\n",
    "## ■ List (2)\n",
    "\n",
    "** CASS ** software <br>\n",
    "The combinatorial auction solution suite [http://www.cs.ubc.ca/~kevinlb/downloads.html] is designed to solve combinatorial auctions. The problem of combinatorial auctions is algorithmically difficult. In this textbook we did not present it, although it is important for the field of telecommunications in terms of conducting auctions of communication resources such as, for example, assignment of frequencies. It is available in open-source formats.\n",
    "\n",
    "** Computer infrastructure COIN-OR ** <br>\n",
    "COIN-OR Computer Infrastructure [http://www.coin-or.org/] is an initiative in the development of open-source software in the field of operational research. It brings together dozens of universities, institutes and businesses.\n",
    "\n",
    "** Network simulator OPNET ** <br>\n",
    "OPNET telnet network simulator [http://www.opnet.com/] is considered to be the leading product in the field. It is a demanding tool that enables the simulation of the real environment in terms of integrating real TK building blocks (eg, routers that are on the market) and real terrain configurations. It was successfully used in a large number of designing and optimizing real networks. It is available under high licenses, and an academic license is also available.\n",
    "\n",
    "** Network simulator NS-3 ** <br>\n",
    "Open source simulator [http://www.nsnam.org/] was created in a research environment and is intended for conceptual simulations. With time, users also made simulations that are closer to the real environment. Its predecessor NS-2 is still in use. It is available in open-source formats, it is more comfortable using it on the Linux operating system. It requires the user to know the programming languages C / C ++ and Tcl / Tk.\n",
    "\n",
    "\n",
    "\n",
    "<p style=\"margin-bottom:2cm;\"></p>\n",
    "<div style=\"width:100%;text-align:right;font-weight:bold;font-size:1.2em;\"> 28 </div>\n",
    "<img src=\"https://raw.githubusercontent.com/andrejkk/ORvTK_SlidesImgs/master/footer_full.jpg\">"
   ]
  },
  {
   "cell_type": "markdown",
   "metadata": {
    "collapsed": true,
    "slideshow": {
     "slide_type": "slide"
    }
   },
   "source": [
    "<div style=\"display:flex;font-weight:bold;font-size:0.9em;\">\n",
    "<div style=\"flex:1;width:50%;\"> 3. Data structures in algorithms </div>\n",
    "<div style=\"flex:1;width:50%;text-align:right;\"> 3.4. Optimisation related software  </div>\n",
    "</div>\n",
    "\n",
    "\n",
    "## ■ List (3)\n",
    "\n",
    "** Software Gretl ** <br>\n",
    "Gretl [http://gretl.sourceforge.net/] is an open source software tool for time analysis and econometrics. It shows good numerical stability of difficult methods (eg Hurst parameter estimates) and is in professional use.\n",
    "\n",
    "** Gephi ** software tool <br>\n",
    "Gephi is an open source program for analyzing and drawing graphs [https://gephi.org]. It is especially suitable for analysis and visualization of large graphs such as social networks of a large number of users. It is implemented in the Java programming environment and with the expansion of social networks experiencing rapid development.\n",
    "\n",
    "** Pajk Programming Software ** <br>\n",
    "The Pajk tool is specially developed for the analysis of large networks and is a Slovenian product [http://pajek.imfm.si/doku.php]. Its quality is computational efficiency. In our framework it is useful for analyzing the social networks of users of telecommunication services.\n",
    "\n",
    "** Software GraphViz ** <br>\n",
    "The GraphViz tool is designed for beautiful drawing of graphs [http://www.graphviz.org]. This is a very difficult task because with the diversity of nodes and links it is not easy to draw transparent images. Visualization of graphs in data analysis is very important, and better solutions allow you to draw larger graphs and easier to summarize the essential characteristics.\n",
    "\n",
    "\n",
    "\n",
    "<p style=\"margin-bottom:2cm;\"></p>\n",
    "<div style=\"width:100%;text-align:right;font-weight:bold;font-size:1.2em;\"> 29 </div>\n",
    "<img src=\"https://raw.githubusercontent.com/andrejkk/ORvTK_SlidesImgs/master/footer_full.jpg\">"
   ]
  },
  {
   "cell_type": "markdown",
   "metadata": {
    "collapsed": true,
    "slideshow": {
     "slide_type": "slide"
    }
   },
   "source": [
    "<div style=\"display:flex;font-weight:bold;font-size:0.9em;\">\n",
    "<div style=\"flex:1;width:50%;\"> 3. Data structures in algorithms </div>\n",
    "<div style=\"flex:1;width:50%;text-align:right;\"> 3.4. Optimisation related software  </div>\n",
    "</div>\n",
    "\n",
    "\n",
    "## ■ List (4)\n",
    "\n",
    "** IBM SPSS Modeler ** Software <br>\n",
    "An effective machine learning tool IBM SPSS Modeler [http://www-01.ibm.com/software/analytics/spss/products/modeler] features a graphical user interface that covers the entire data analysis (without programming). It is one of the leading tools in business intelligence with an emphasis on solving big data problems. It is available in a licensed form.\n",
    "\n",
    "** Software SAS ** <br>\n",
    "The SAS tool [http://www.sas.com/] is one of the leading tools in business analytics and business intelligence. It covers more than ten specialized tools, including the detection of fraud and user safety. It is available under license terms and is intended for professional use.\n",
    "\n",
    "\n",
    "** Weka ** software\n",
    "Weka [http://www.cs.waikato.ac.nz/ml/weka/] is a tool for machine learning, used primarily by researchers for which it was also developed. It is distinguished by good support for various test plans. It is implemented in the Java programming environment and is available in open source.\n",
    "\n",
    "** Software RapidMiner ** <br>\n",
    "RapidMiner and RapidAnalytics are open source tools for data mining and analytics [http://rapid-i.com/]. They are available in open source format and have full support through a graphical user interface (without programming).\n",
    "\n",
    "\n",
    "<p style=\"margin-bottom:2cm;\"></p>\n",
    "<div style=\"width:100%;text-align:right;font-weight:bold;font-size:1.2em;\"> 30 </div>\n",
    "<img src=\"https://raw.githubusercontent.com/andrejkk/ORvTK_SlidesImgs/master/footer_full.jpg\">"
   ]
  },
  {
   "cell_type": "markdown",
   "metadata": {
    "collapsed": true,
    "slideshow": {
     "slide_type": "slide"
    }
   },
   "source": [
    "<div style=\"display:flex;font-weight:bold;font-size:0.9em;\">\n",
    "<div style=\"flex:1;width:50%;\"> 3. Data structures in algorithms </div>\n",
    "<div style=\"flex:1;width:50%;text-align:right;\"> 3.4. Optimisation related software  </div>\n",
    "</div>\n",
    "\n",
    "\n",
    "## List (5)\n",
    "\n",
    "\n",
    "** Matlab ** software <br>\n",
    "Matlab [http://www.mathworks.com] is a widely used tool for numerical analysis, used for both research and industrial purposes. It also offers optimization packages and predictive analytics. It is especially distinguished for solving non-linear optimization.\n",
    "\n",
    "** Software Mathematica ** <br>\n",
    "The programming environment [http://www.wolfram.com/mathematica/] is primarily aimed at research work. It is considered to be the best tool for symbolic computing. It is suitable for transforming the criterion into a more effective form and studying the limitations of the optimization task. The user is quite demanding in terms of knowing the concepts on which it is built.\n",
    "\n",
    "** Software tool R ** <br>\n",
    "The reproductive software tool R [http://www.r-project.org/] is primarily intended for statistical data processing and visualization. It also includes elements of machine learning and analytics. He is very popular in research circles.\n",
    "\n",
    "** Orange Software ** <br>\n",
    "The Orange tool [http://orange.biolab.si/] is intended for the mining and visualization of data. It is a Slovenian product, which gradually also includes elements of machine learning. It is implemented in the Python programming language.\n",
    "\n",
    "\n",
    "\n",
    "<p style=\"margin-bottom:2cm;\"></p>\n",
    "<div style=\"width:100%;text-align:right;font-weight:bold;font-size:1.2em;\"> 31</div>\n",
    "<img src=\"https://raw.githubusercontent.com/andrejkk/ORvTK_SlidesImgs/master/footer_full.jpg\">"
   ]
  },
  {
   "cell_type": "markdown",
   "metadata": {
    "collapsed": true,
    "slideshow": {
     "slide_type": "slide"
    }
   },
   "source": [
    "<div style=\"display:flex;font-weight:bold;font-size:0.9em;\">\n",
    "<div style=\"flex:1;width:50%;\"> 3. Data structures in algorithms </div>\n",
    "<div style=\"flex:1;width:50%;text-align:right;\"> Conclusions  </div>\n",
    "</div>\n",
    "\n",
    "\n",
    "## ■ Conclusions\n",
    "\n",
    "- \"Program = data structure + algorithm\"\n",
    "    - The software design starts with the data structure;\n",
    "    - Basic operations of the algorithm operations data structures\n",
    "    - Analysis of the correctness of the algorithm is carried out on operations of data structures\n",
    "\n",
    "\n",
    "- Computational complexity is essential:\n",
    "    - The practical applicability only up to the manageable complexity\n",
    "    - Backtracking algorithm solves all problems\n",
    "\n",
    "\n",
    "- Design and implementation of algorithms\n",
    "    - First, the identification of the known solutions\n",
    "    - Excellent reference: Numerical recipes and C ++: http://www.nr.com/\n",
    "    - Code + proof of correctness and optimality\n",
    "    - Reliable documentation and code\n",
    "\n",
    "\n",
    "\n",
    "<p style=\"margin-bottom:2cm;\"></p>\n",
    "<div style=\"width:100%;text-align:right;font-weight:bold;font-size:1.2em;\"> 32 </div>\n",
    "<img src=\"https://raw.githubusercontent.com/andrejkk/ORvTK_SlidesImgs/master/footer_full.jpg\">"
   ]
  },
  {
   "cell_type": "code",
   "execution_count": null,
   "metadata": {},
   "outputs": [],
   "source": []
  }
 ],
 "metadata": {
  "celltoolbar": "Slideshow",
  "kernelspec": {
   "display_name": "Python 3",
   "language": "python",
   "name": "python3"
  },
  "language_info": {
   "codemirror_mode": {
    "name": "ipython",
    "version": 3
   },
   "file_extension": ".py",
   "mimetype": "text/x-python",
   "name": "python",
   "nbconvert_exporter": "python",
   "pygments_lexer": "ipython3",
   "version": "3.10.5 (tags/v3.10.5:f377153, Jun  6 2022, 16:14:13) [MSC v.1929 64 bit (AMD64)]"
  },
  "vscode": {
   "interpreter": {
    "hash": "39db316db9761e257bdee1753ffe77075a3d1bd2d26cf1cdd7fab9938bfc2516"
   }
  }
 },
 "nbformat": 4,
 "nbformat_minor": 2
}
