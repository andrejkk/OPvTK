{
  "cells": [
    {
      "metadata": {
        "collapsed": true,
        "slideshow": {
          "slide_type": "slide"
        }
      },
      "cell_type": "markdown",
      "source": "<img style=\"float: center; width: 100%\" src=\"https://raw.githubusercontent.com/andrejkk/TalksImgs/master/FrontSlideUpperBan.png\">\n<p style=\"margin-bottom:2cm;\"></p>\n\n<center>\n    <H1> 2. Optimization task </H1>\n   \n\n\n<br><br>\n    <H3> Andrej Košir, Lucami, FE </H4>\n    \n    <H4> Contact: prof. dr. Andrej Košir, andrej.kosir@lucami.fe.uni-lj.si, skype=akosir_sid </H4>\n</center>\n\n\n\n\n\n<p style=\"margin-bottom:2cm;\"></p>\n<div style=\"width:100%;text-align:right;font-weight:bold;font-size:1.2em;\"> 1 </div>\n<img src=\"https://raw.githubusercontent.com/andrejkk/ORvTK_SlidesImgs/master/footer_full.jpg\">"
    },
    {
      "metadata": {
        "slideshow": {
          "slide_type": "slide"
        }
      },
      "cell_type": "markdown",
      "source": "<div style=\"display:flex;font-weight:bold;font-size:0.9em;\">\n<div style=\"flex:1;width:50%;\"> 2. Optimization task  </div>\n<div style=\"flex:1;width:50%;text-align:right;\"> Goals </div>\n</div>\n\n## Goals\n\n- To know the Optimization task formulation\n- To understand\n    - Optimization space\n    - Cost function\n    - Constraints and feasible solutions\n\n\n<p style=\"margin-bottom:2cm;\"></p>\n<div style=\"width:100%;text-align:right;font-weight:bold;font-size:1.2em;\"> 2 </div>\n<img src=\"https://raw.githubusercontent.com/andrejkk/ORvTK_SlidesImgs/master/footer_full.jpg\">"
    },
    {
      "metadata": {
        "slideshow": {
          "slide_type": "slide"
        }
      },
      "cell_type": "markdown",
      "source": "<div style=\"display:flex;font-weight:bold;font-size:0.9em;\">\n<div style=\"flex:1;width:50%;\"> 2. Optimization task  </div>\n<div style=\"flex:1;width:50%;text-align:right;\"> Sections </div>\n</div>\n\n\n\n## Sections\n\n### 2.1. Optimization task definition \n\n■ Definition $\\large{*}$\n\n■ Selected characteristics of an optimization task $\\large{*}$\n\n\n### 2.2. Solvability and the solution of an optimization task\n\n■ Solvability $\\large{*}$\n\n■ Algorithms of optimization task solution $\\large{*}$\n\n■ Tools for solving an optimization task $\\large{*}$\n\n\n\n<p style=\"margin-bottom:2cm;\"></p>\n<div style=\"width:100%;text-align:right;font-weight:bold;font-size:1.2em;\"> 3 </div>\n<img src=\"https://raw.githubusercontent.com/andrejkk/ORvTK_SlidesImgs/master/footer_full.jpg\">"
    },
    {
      "metadata": {
        "slideshow": {
          "slide_type": "slide"
        }
      },
      "cell_type": "markdown",
      "source": "<div style=\"display:flex;font-weight:bold;font-size:0.9em;\">\n<div style=\"flex:1;width:50%;\"> 2. Optimization task   </div>\n<div style=\"flex:1;width:50%;text-align:right;\"> 2.1. Optimization task definition </div>\n</div>\n\n\n## ■ Definition of optimisation task (1)\n\n\n- The exact formulation is important because the properties of underlying functions and sets decide the selection of the optimization algorithms\n\n- **Definition (Optimistion task):** <p>\n Let $\\Omega$ be a set of solutions and $X\\subset\\Omega$ a set of feasible solutions. Define objective function \n $$ C: X \\to ℝ. $$\n Let $\\Phi$ be a feasibility predicate on $𝑋$. A set of feasible solutions is defined as \n $$ X = \\{x\\in\\Omega: \\Phi(𝑥)\\}. $$\n\n- Denote\n$$ argmin(X, C)= \\{ x\\in X: \\forall y\\in X, c(y)\\geq c(x) \\} $$\nand \n$$ min(𝑋,𝑐) = \\{ c(x) \\in X: \\forall y\\in X, c(y)\\geq c(x) \\}. $$\n\n- Not only a single solution\n\n\n<p style=\"margin-bottom:2cm;\"></p>\n<div style=\"width:100%;text-align:right;font-weight:bold;font-size:1.2em;\"> 4 </div>\n<img src=\"https://raw.githubusercontent.com/andrejkk/ORvTK_SlidesImgs/master/footer_full.jpg\">"
    },
    {
      "metadata": {
        "slideshow": {
          "slide_type": "slide"
        }
      },
      "cell_type": "markdown",
      "source": "<div style=\"display:flex;font-weight:bold;font-size:0.9em;\">\n<div style=\"flex:1;width:50%;\"> 2. Optimization task   </div>\n<div style=\"flex:1;width:50%;text-align:right;\"> 2.1. Optimization task definition </div>\n</div>\n\n## ■ Definition of optimisation task (2)\n\n- Define\n$$ argmax(X, c) = argmin(X, -c) $$\n$$ min(X, c) = -max(X, -c)$$\n\n\n- Optimisation task is a four-tuple\n$$ (\\Omega, \\Phi, c, F), $$\nwhere\n$$ F\\in \\{argmin, argmax\\}. $$\n\n\n- Solution of the Optimisation task is $(\\Omega, \\Phi, c, F)$ one of the following\n    - $argmin(X, c)$\n    - $argmax(X, c)$\n    - $x\\in X$ where the differende $x - argmin(X, c)$ ali $x - argmax(X, c)$ is small enough\n    \n    \n- Typically we denote\n$$ x^* = argmin(X, c) \\qquad\\mbox{or}\\qquad x^* = argmax(X, c). $$\n\n\n<p style=\"margin-bottom:2cm;\"></p>\n<div style=\"width:100%;text-align:right;font-weight:bold;font-size:1.2em;\"> 5 </div>\n<img src=\"https://raw.githubusercontent.com/andrejkk/ORvTK_SlidesImgs/master/footer_full.jpg\">"
    },
    {
      "metadata": {
        "slideshow": {
          "slide_type": "slide"
        }
      },
      "cell_type": "markdown",
      "source": "<div style=\"display:flex;font-weight:bold;font-size:0.9em;\">\n<div style=\"flex:1;width:50%;\"> 2. Optimization task   </div>\n<div style=\"flex:1;width:50%;text-align:right;\"> 2.1. Optimization task definition </div>\n</div>\n\n\n\n## ■ Selected characteristics of an optimization task (1)\n\n- Optimisation space $X$:\n    - Continuous: subset $ℝ^n$\n        - Examples: line, plane, …\n    - Discrete: finite or countably many points\n        - Examples: path in a graph, ...\n        \n        \n- Objective function $x:X \\to ℝ$\n    - Linear\n    - Continuous \n    - Derivable\n    - None of the above\n    \n    \n    \n- The above listed properties largely determines the optimization algorithm applicable\n\n\n<p style=\"margin-bottom:2cm;\"></p>\n<div style=\"width:100%;text-align:right;font-weight:bold;font-size:1.2em;\"> 6 </div>\n<img src=\"https://raw.githubusercontent.com/andrejkk/ORvTK_SlidesImgs/master/footer_full.jpg\">"
    },
    {
      "metadata": {
        "slideshow": {
          "slide_type": "slide"
        }
      },
      "cell_type": "markdown",
      "source": "<div style=\"display:flex;font-weight:bold;font-size:0.9em;\">\n<div style=\"flex:1;width:50%;\"> 2. Optimization task   </div>\n<div style=\"flex:1;width:50%;text-align:right;\"> 2.1. Optimization task definition </div>\n</div>\n\n\n## ■ Selected characteristics of an optimization task (2)\n\n- Objective function composite: \n    - Domain $D_\\varphi$ is a subset of $Im(c)$, \n        $$ Im(c) \\subseteq D_\\varphi. $$\n    Then we have:\n        - if $\\varphi$ is increasing on $ℝ$, then\n            * $argmin(X, c) = argmin(X, \\varphi\\circ c)$\n            * $argmax(X, c) = argmax(X, \\varphi\\circ c)$\n        - if $\\varphi$ is decreasing on $ℝ$, then\n            * $argmin(X, c) = argmax(X, \\varphi\\circ c)$\n            * $argmax(X, c) = argmin(X, \\varphi\\circ c)$\n   \n    - Also\n        - if $a_0$ is a constant \n            * $argmin(X, c+a_0) = argmin(X, c)$\n            * $argmax(X, c+a_0) = argmax(X, c)$\n\n\n- It is important for simplifications to be decisive for resolvability\n\n\n<p style=\"margin-bottom:2cm;\"></p>\n<div style=\"width:100%;text-align:right;font-weight:bold;font-size:1.2em;\"> 7 </div>\n<img src=\"https://raw.githubusercontent.com/andrejkk/ORvTK_SlidesImgs/master/footer_full.jpg\">"
    },
    {
      "metadata": {
        "slideshow": {
          "slide_type": "slide"
        }
      },
      "cell_type": "markdown",
      "source": "<div style=\"display:flex;font-weight:bold;font-size:0.9em;\">\n<div style=\"flex:1;width:50%;\"> 2. Optimization task   </div>\n<div style=\"flex:1;width:50%;text-align:right;\"> 2.2 Solvability and the solution of an optimization task </div>\n</div>\n\n\n# 2.2 Solvability and the solution of an optimization task\n\n■ Solvability\n\n■ Algorithms of optimization task solution\n\n■ Tools for solving an optimization task\n\n\n\n<p style=\"margin-bottom:2cm;\"></p>\n<div style=\"width:100%;text-align:right;font-weight:bold;font-size:1.2em;\"> 8 </div>\n<img src=\"https://raw.githubusercontent.com/andrejkk/ORvTK_SlidesImgs/master/footer_full.jpg\">"
    },
    {
      "metadata": {
        "slideshow": {
          "slide_type": "slide"
        }
      },
      "cell_type": "markdown",
      "source": "<div style=\"display:flex;font-weight:bold;font-size:0.9em;\">\n<div style=\"flex:1;width:50%;\"> 2. Optimization task   </div>\n<div style=\"flex:1;width:50%;text-align:right;\"> 2.2 Solvability and the solution of an optimization task </div>\n</div>\n\n\n\n## ■ Solvability\n\n\nIn carrying out optimization are essential to the following questions:\n- Are there solutions?\n    - There is always;\n    - When there is:\n        - set of feasible solutions may be empty;\n        - \"Gradient is facing in the direction of unrestricted work crowd feasible solutions\";\n\n\n- Is the solution one?\n    - When a solution is over, or to each other by an equivalent?\n\n\n- Is the solution a global extreme?\n    - It may happen that an optimization algorithm returns a solution, which is a local extreme, but not global;\n\n\n<p style=\"margin-bottom:2cm;\"></p>\n<div style=\"width:100%;text-align:right;font-weight:bold;font-size:1.2em;\"> 9 </div>\n<img src=\"https://raw.githubusercontent.com/andrejkk/ORvTK_SlidesImgs/master/footer_full.jpg\">"
    },
    {
      "metadata": {
        "slideshow": {
          "slide_type": "slide"
        }
      },
      "cell_type": "markdown",
      "source": "<div style=\"display:flex;font-weight:bold;font-size:0.9em;\">\n<div style=\"flex:1;width:50%;\"> 2. Optimization task   </div>\n<div style=\"flex:1;width:50%;text-align:right;\"> 2.2 Solvability and the solution of an optimization task </div>\n</div>\n\n\n## ■ Algorithms of optimization task solution\n\n\n\n- **Definition (Optimisation algorithm)**<p>\nOptimization algorithm $A$ is an algorithm finding the solution of the optimization task\n$$ (\\Omega, \\Phi, c, F). $$\n\n\n- More on algorithms later.\n\n\n<p style=\"margin-bottom:2cm;\"></p>\n<div style=\"width:100%;text-align:right;font-weight:bold;font-size:1.2em;\"> 10 </div>\n<img src=\"https://raw.githubusercontent.com/andrejkk/ORvTK_SlidesImgs/master/footer_full.jpg\">"
    },
    {
      "metadata": {
        "slideshow": {
          "slide_type": "slide"
        }
      },
      "cell_type": "markdown",
      "source": "<div style=\"display:flex;font-weight:bold;font-size:0.9em;\">\n<div style=\"flex:1;width:50%;\"> 2. Optimization task   </div>\n<div style=\"flex:1;width:50%;text-align:right;\"> 2.2 Solvability and the solution of an optimization task </div>\n</div>\n\n\n\n## ■ Tools for solving an optimization task\n\n- Optimisation task:  <br>\n** Linear programming **\n\n\n<img style=\"float: right; width: 750px; margin:-50px 0 0 0;\" src=\"https://raw.githubusercontent.com/andrejkk/ORvTK_SlidesImgs/master/OptimizationTools_ang.png\">\n\n\n\n<p style=\"margin-bottom:2cm;\"><br><br><br><br><br><br><br><br><br><br><br><br><br><br><br><br></p>\n<div style=\"width:100%;text-align:right;font-weight:bold;font-size:1.2em;\"> 11 </div>\n<img src=\"https://raw.githubusercontent.com/andrejkk/ORvTK_SlidesImgs/master/footer_full.jpg\">"
    },
    {
      "metadata": {
        "slideshow": {
          "slide_type": "slide"
        }
      },
      "cell_type": "markdown",
      "source": "<div style=\"display:flex;font-weight:bold;font-size:0.9em;\">\n<div style=\"flex:1;width:50%;\"> 2. Optimization task   </div>\n<div style=\"flex:1;width:50%;text-align:right;\"> 2.2 Solvability and the solution of an optimization task </div>\n</div>\n\n\n\n## ■ Conclusion\n\n- Optimization task is a core concept in optimization linking practice, theory and software tools - solvers\n- Real world solutions depend on an effective usage of software tools\n- Algorithms and implementations are available. It is important to recognize the right problem formulation and select the right tools. \n\n\n\n<p style=\"margin-bottom:2cm;\"></p>\n<div style=\"width:100%;text-align:right;font-weight:bold;font-size:1.2em;\"> 12 </div>\n<img src=\"https://raw.githubusercontent.com/andrejkk/ORvTK_SlidesImgs/master/footer_full.jpg\">"
    },
    {
      "metadata": {
        "trusted": true
      },
      "cell_type": "code",
      "source": "",
      "execution_count": null,
      "outputs": []
    }
  ],
  "metadata": {
    "kernelspec": {
      "name": "python3",
      "display_name": "Python 3",
      "language": "python"
    },
    "language_info": {
      "mimetype": "text/x-python",
      "nbconvert_exporter": "python",
      "name": "python",
      "file_extension": ".py",
      "version": "3.5.4",
      "pygments_lexer": "ipython3",
      "codemirror_mode": {
        "version": 3,
        "name": "ipython"
      }
    },
    "celltoolbar": "Slideshow"
  },
  "nbformat": 4,
  "nbformat_minor": 2
}