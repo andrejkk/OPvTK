{
 "cells": [
  {
   "cell_type": "markdown",
   "metadata": {
    "slideshow": {
     "slide_type": "slide"
    }
   },
   "source": [
    "<div style=\"display:flex;font-weight:bold;font-size:0.9em;\">\n",
    "</div>\n",
    "\n",
    "\n",
    "## Shortest path algorithm\n",
    "\n",
    "### Submitted algorithm must contain \n",
    "\n",
    "1. Main function in the jupyter notebook cell as given bellow;\n",
    "2. Algorithm implementation in external file (my_algorithm), all required test data (benchmarks) must be provided in the subdirectory Data;\n",
    "3. Algorithm implementation must, beside other fucntions, include function is_correctQ(input_x, output_y) verifying the correctness of the algorithm result output_y for a given inpit data input_x;\n",
    "\n",
    "\n",
    "### How to submit and run\n",
    "\n",
    "1. Provide submission and upload it to Git (URL)\n",
    "2. Open it through myBinder, run the cell with \n",
    "3. Run cel with main function. The result should be \"Correctness: True\" printed from the cell.\n",
    "\n",
    "\n",
    "\n",
    "### Notes\n",
    "\n",
    "1. The development can be done in Jupyter or any Python environment. The only adaptation is to build the Notebook cell with main function as given bellow\n",
    "2. Questions at _andrej.kosir@fe.uni-lj.si_\n",
    "\n",
    "\n",
    "\n",
    "<p style=\"margin-bottom:1cm;\"></p>\n",
    "<div style=\"width:100%;text-align:right;font-weight:bold;font-size:1.2em;\"> 2 </div>\n",
    "<img src=\"https://raw.githubusercontent.com/andrejkk/ORvTK_SlidesImgs/master/footer_full.jpg\">"
   ]
  },
  {
   "cell_type": "code",
   "execution_count": 1,
   "metadata": {},
   "outputs": [
    {
     "ename": "NameError",
     "evalue": "name 'x' is not defined",
     "output_type": "error",
     "traceback": [
      "\u001b[1;31m---------------------------------------------------------------------------\u001b[0m",
      "\u001b[1;31mNameError\u001b[0m                                 Traceback (most recent call last)",
      "\u001b[1;32m~\\AppData\\Local\\Temp/ipykernel_17696/996574.py\u001b[0m in \u001b[0;36m<module>\u001b[1;34m\u001b[0m\n\u001b[0;32m     35\u001b[0m \u001b[1;33m\u001b[0m\u001b[0m\n\u001b[0;32m     36\u001b[0m \u001b[1;31m# Run main\u001b[0m\u001b[1;33m\u001b[0m\u001b[1;33m\u001b[0m\u001b[0m\n\u001b[1;32m---> 37\u001b[1;33m \u001b[0mmain\u001b[0m\u001b[1;33m(\u001b[0m\u001b[1;33m)\u001b[0m\u001b[1;33m\u001b[0m\u001b[1;33m\u001b[0m\u001b[0m\n\u001b[0m",
      "\u001b[1;32m~\\AppData\\Local\\Temp/ipykernel_17696/996574.py\u001b[0m in \u001b[0;36mmain\u001b[1;34m()\u001b[0m\n\u001b[0;32m     19\u001b[0m     \u001b[1;31m# Load / generate data\u001b[0m\u001b[1;33m\u001b[0m\u001b[1;33m\u001b[0m\u001b[0m\n\u001b[0;32m     20\u001b[0m     \u001b[0mparams_lst\u001b[0m \u001b[1;33m=\u001b[0m \u001b[1;33m[\u001b[0m\u001b[0mn\u001b[0m\u001b[1;33m,\u001b[0m \u001b[0mm\u001b[0m\u001b[1;33m,\u001b[0m \u001b[0mG_type\u001b[0m\u001b[1;33m]\u001b[0m\u001b[1;33m\u001b[0m\u001b[1;33m\u001b[0m\u001b[0m\n\u001b[1;32m---> 21\u001b[1;33m     \u001b[0mG\u001b[0m \u001b[1;33m=\u001b[0m \u001b[0mmb\u001b[0m\u001b[1;33m.\u001b[0m\u001b[0mget_shortestPathAlg_benchmark\u001b[0m\u001b[1;33m(\u001b[0m\u001b[0mparams_lst\u001b[0m\u001b[1;33m)\u001b[0m\u001b[1;33m\u001b[0m\u001b[1;33m\u001b[0m\u001b[0m\n\u001b[0m\u001b[0;32m     22\u001b[0m \u001b[1;33m\u001b[0m\u001b[0m\n\u001b[0;32m     23\u001b[0m \u001b[1;33m\u001b[0m\u001b[0m\n",
      "\u001b[1;32m~\\OPvTK\\CodeLauncher\\01-ShortestPathAlgorithm\\my_benchmark.py\u001b[0m in \u001b[0;36mget_shortestPathAlg_benchmark\u001b[1;34m(params_lst)\u001b[0m\n\u001b[0;32m      9\u001b[0m \u001b[1;32mdef\u001b[0m \u001b[0mget_shortestPathAlg_benchmark\u001b[0m\u001b[1;33m(\u001b[0m\u001b[0mparams_lst\u001b[0m\u001b[1;33m)\u001b[0m\u001b[1;33m:\u001b[0m\u001b[1;33m\u001b[0m\u001b[1;33m\u001b[0m\u001b[0m\n\u001b[0;32m     10\u001b[0m \u001b[1;33m\u001b[0m\u001b[0m\n\u001b[1;32m---> 11\u001b[1;33m     \u001b[1;32mreturn\u001b[0m \u001b[0mnp\u001b[0m\u001b[1;33m.\u001b[0m\u001b[0msqrt\u001b[0m\u001b[1;33m(\u001b[0m\u001b[0mx\u001b[0m\u001b[1;33m)\u001b[0m \u001b[1;33m+\u001b[0m \u001b[1;36m1\u001b[0m\u001b[1;33m\u001b[0m\u001b[1;33m\u001b[0m\u001b[0m\n\u001b[0m\u001b[0;32m     12\u001b[0m \u001b[1;33m\u001b[0m\u001b[0m\n\u001b[0;32m     13\u001b[0m \u001b[1;33m\u001b[0m\u001b[0m\n",
      "\u001b[1;31mNameError\u001b[0m: name 'x' is not defined"
     ]
    }
   ],
   "source": [
    "# Code Luncher\n",
    "\n",
    "import numpy as np\n",
    "import pandas as pd\n",
    "\n",
    "import my_algorithm as ma\n",
    "import my_benchmark as mb\n",
    "\n",
    "# Main function\n",
    "def main():\n",
    "    \n",
    "    \n",
    "    data_path = './Data/'    \n",
    "    \n",
    "    # Settings for benchmark\n",
    "    n, m = 5, 8\n",
    "    G_type = 'mid'\n",
    "    \n",
    "    # Load / generate data \n",
    "    params_lst = [n, m, G_type]    \n",
    "    G = mb.get_shortestPathAlg_benchmark(params_lst)\n",
    "    \n",
    "    \n",
    "    # Call the algorithm\n",
    "    s, t = 1, 5\n",
    "    s_path = ma.get_ShortestPath(G, s, t)\n",
    "    \n",
    "    \n",
    "    # Verify correctess\n",
    "    correctQ = is_correctQ(G, s_path)\n",
    "    \n",
    "    print (\"Correctness:\", correctQ)\n",
    "    \n",
    "    return\n",
    "        \n",
    "# Run main\n",
    "main()"
   ]
  },
  {
   "cell_type": "code",
   "execution_count": null,
   "metadata": {},
   "outputs": [],
   "source": []
  }
 ],
 "metadata": {
  "celltoolbar": "Slideshow",
  "kernelspec": {
   "display_name": "Python 3 (ipykernel)",
   "language": "python",
   "name": "python3"
  },
  "language_info": {
   "codemirror_mode": {
    "name": "ipython",
    "version": 3
   },
   "file_extension": ".py",
   "mimetype": "text/x-python",
   "name": "python",
   "nbconvert_exporter": "python",
   "pygments_lexer": "ipython3",
   "version": "3.9.7"
  }
 },
 "nbformat": 4,
 "nbformat_minor": 2
}
