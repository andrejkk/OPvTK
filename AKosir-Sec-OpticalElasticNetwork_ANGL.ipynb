{
 "cells": [
  {
   "cell_type": "markdown",
   "metadata": {
    "collapsed": true,
    "slideshow": {
     "slide_type": "slide"
    }
   },
   "source": [
    "<img style=\"float: center; width: 100%\" src=\"https://raw.githubusercontent.com/andrejkk/TalksImgs/master/FrontSlideUpperBan.png\">\n",
    "<p style=\"margin-bottom:2cm;\"></p>\n",
    "\n",
    "<center>\n",
    "    <H1> Primer MILP: optimizacija elastičnega optičnega omrežja  </H1>\n",
    "   \n",
    "\n",
    "\n",
    "<br><br>\n",
    "    <H3> Andrej Košir, Lucami, FE </H3>\n",
    "    <H4> Kontakt: prof. dr. Andrej Košir, andrej.kosir@lucami.fe.uni-lj.si, skype=akosir_sid </H4>\n",
    "</center>\n",
    "\n",
    "\n",
    "<p style=\"margin-bottom:2cm;\"></p>\n",
    "<div style=\"width:100%;text-align:right;font-weight:bold;font-size:1.2em;\"> 1 </div>\n",
    "<img src=\"https://raw.githubusercontent.com/andrejkk/ORvTK_SlidesImgs/master/footer_full.jpg\">"
   ]
  },
  {
   "attachments": {},
   "cell_type": "markdown",
   "metadata": {
    "slideshow": {
     "slide_type": "slide"
    }
   },
   "source": [
    "<div style=\"display:flex;font-weight:bold;font-size:0.9em;\">\n",
    "<div style=\"flex:1;width:50%;text-align:right;\"> Problem optičnega elastičnega optičnega omrežja </div>\n",
    "</div>\n",
    "\n",
    "\n",
    "## ■ Problem of optimisation of elastic optical network  (1)\n",
    "\n",
    "\n",
    "- Paper: Pages et. al: Optimal Route, Spectrum, and Modulation Level Assignment in Split-Spectrum-Enabled Dynamic Elastic Optical Networks, 2014.\n",
    "\n",
    "\n",
    "- What is elastic optical network:\n",
    "    - Split Spectrum approach, SSA\n",
    "    - Frequency Slots, FS\n",
    "    - Channels: sequence of contiguous FS with a given modulation\n",
    "    - Several modulations: different speeds, transmission reach etc, \n",
    "    - Each new request $\\to$ new resource allocation - Route, spectrum, and modulation level assignment, RMSLA\n",
    "    - Allocation of frequency slots\n",
    "    - Allocation of channels and modulations\n",
    "\n",
    "\n",
    "\n",
    "<img style=\"float: right; width: 300px; margin: -20px 20px 50px 0;\" src=\"https://raw.githubusercontent.com/andrejkk/ORvTK_SlidesImgs/master/ElasticNetworkGr.png\">\n",
    "\n",
    "\n",
    "\n",
    "\n",
    "<p style=\"margin-bottom:2cm;\"></p>\n",
    "<div style=\"width:100%;text-align:right;font-weight:bold;font-size:1.2em;\"> 1 </div>\n",
    "<img src=\"https://raw.githubusercontent.com/andrejkk/ORvTK_SlidesImgs/master/footer_full.jpg\">"
   ]
  },
  {
   "attachments": {},
   "cell_type": "markdown",
   "metadata": {
    "slideshow": {
     "slide_type": "slide"
    }
   },
   "source": [
    "## ■ Simple network example\n",
    "\n",
    "- Simple example of the network\n",
    "    - Network graph $G=(V, E)$, $V=\\{1,2,3,4,5\\}$, $E=\\{(12), (13), (23), (24), (34), (35), (45)\\}$\n",
    "    - Source, sink: $s=N_1$, $t=N_5$\n",
    "    - Request: $s_d\\to t_d$, $R_d = 50$ Gbit/s\n",
    "    - Optimization criteria:\n",
    "        - Minimal resources allocated\n",
    "        - Minimal number of spectral gaps\n",
    "\n",
    "\n",
    "<img style=\"float: center; width: 400px; margin: 20px 20px 50px 100px;\" src=\"https://raw.githubusercontent.com/andrejkk/ORvTK_SlidesImgs/master/ElasticNetworkCase.png\">\n",
    "\n",
    "\n",
    "\n",
    "<p style=\"margin-bottom:2cm;\"></p>\n",
    "<div style=\"width:100%;text-align:right;font-weight:bold;font-size:1.2em;\"> 2 </div>\n",
    "<img src=\"https://raw.githubusercontent.com/andrejkk/ORvTK_SlidesImgs/master/footer_full.jpg\">"
   ]
  },
  {
   "attachments": {},
   "cell_type": "markdown",
   "metadata": {
    "slideshow": {
     "slide_type": "slide"
    }
   },
   "source": [
    "## ■ Frequency slots\n",
    "\n",
    "\n",
    "- Frequency slots, FS\n",
    "    - $F_w$: spectral width of a FS, typically $6,25 GHz$ or $12,5 GHz$, our case $F_w=10 GHz$\n",
    "    - $G$: guard band size, we assume $G=8GHz$\n",
    "\n",
    "\n",
    "\n",
    "<img style=\"float: center; width: 400px; margin: 40px 20px 50px 100px;\" src=\"https://raw.githubusercontent.com/andrejkk/ORvTK_SlidesImgs/master/ElasticNetwor_FreqW.png\">\n",
    "\n",
    "\n",
    "\n",
    "<p style=\"margin-bottom:2cm;\"></p>\n",
    "<div style=\"width:100%;text-align:right;font-weight:bold;font-size:1.2em;\"> 3 </div>\n",
    "<img src=\"https://raw.githubusercontent.com/andrejkk/ORvTK_SlidesImgs/master/footer_full.jpg\">"
   ]
  },
  {
   "attachments": {},
   "cell_type": "markdown",
   "metadata": {
    "slideshow": {
     "slide_type": "slide"
    }
   },
   "source": [
    "## ■ Modulations (in [GHz])\n",
    "\n",
    "\n",
    "- $R_m$: modulation $m$ bit rate\n",
    "- $B_m$: spectral width of modulation $m$\n",
    "- $S_m=⌈\\frac{B_m+G}{F_w}⌉$: number of required FS of modulation $m$\n",
    "- $TR_m$: Modulation  $m$ transmission reach\n",
    "\n",
    "\n",
    "\n",
    "|  $m$  |  $R_m$[Gb/s]  |  $B_m$[GHz]  |  $TR_m[km]$  |  $S_m$  |\n",
    "|-------|---------------|--------------|--------------|---------|\n",
    "| $1$   | $25$          | $12$         | $20$         | $2$     |\n",
    "| $2$   | $50$          | $14$         | $14$         | $3$     |\n",
    "| $3$   | $75$          | $10$         | $10$         | $1$     |\n",
    "\n",
    "\n",
    "\n",
    "\n",
    "\n",
    "\n",
    "- Constraint: \n",
    "  - Bit rate: $R_d\\leq \\sum_{i=1}^H R_{m_i}$  \n",
    "\n",
    "\n",
    "\n",
    "\n",
    "\n",
    "<p style=\"margin-bottom:2cm;\"></p>\n",
    "<div style=\"width:100%;text-align:right;font-weight:bold;font-size:1.2em;\"> 4 </div>\n",
    "<img src=\"https://raw.githubusercontent.com/andrejkk/ORvTK_SlidesImgs/master/footer_full.jpg\">"
   ]
  },
  {
   "attachments": {},
   "cell_type": "markdown",
   "metadata": {
    "slideshow": {
     "slide_type": "slide"
    }
   },
   "source": [
    "## ■ List of possible paths $P_d$\n",
    "\n",
    "\n",
    "\n",
    "- $h_p$: number of hops $p\\in P_d$\n",
    "- $l_p$: total cost of path $p$,\n",
    "\n",
    "<img style=\"float: center; width: 350px; margin: 20px 20px 50px 100px;\" src=\"https://raw.githubusercontent.com/andrejkk/ORvTK_SlidesImgs/master/ElasticNetworkCase.png\">\n",
    "\n",
    "\n",
    "\n",
    "| $p_{id}$ | $p$ | $l_p$ | $h_p$ |\n",
    "| ---- | ----- | ----- | ----- |\n",
    "| $1$ | $(1245)$ | $13$ | $2$ |\n",
    "| $2$ | $(12345)$ | $14$ | $3$ |\n",
    "| $3$ | $(1235)$ | $12$ | $2$ |\n",
    "| $4$ | $(1345)$ | $13$ | $2$ |\n",
    "| $5$ | $(135)$ | $11$ | $1$ |\n",
    "\n",
    "\n",
    "\n",
    "- Channels:\n",
    "    - All possible channels of a path $p$ are denoted by $C_p$\n",
    "\n",
    "\n",
    "\n",
    "\n",
    "<p style=\"margin-bottom:2cm;\"></p>\n",
    "<div style=\"width:100%;text-align:right;font-weight:bold;font-size:1.2em;\"> 5 </div>\n",
    "<img src=\"https://raw.githubusercontent.com/andrejkk/ORvTK_SlidesImgs/master/footer_full.jpg\">"
   ]
  },
  {
   "attachments": {},
   "cell_type": "markdown",
   "metadata": {
    "slideshow": {
     "slide_type": "slide"
    }
   },
   "source": [
    "## ■ Occupation of frequency slots FS by paths\n",
    "\n",
    "- Channels occupies the same FS along the path\n",
    "- A star $*$ marks occupied channels denoted by $F_p^u$. Vacant FSs are $F_p^u$\n",
    "\n",
    "| $p_{id}$ | $1$ | $2$ | $3$ | $4$ | $5$ | $6$ | $7$ | $8$ | $9$ | $10$ |\n",
    "|----------|-----|-----|-----|-----|-----|-----|-----|-----|-----|------|\n",
    "| $1$      | *   | *   |\n",
    "| $2$      | *   |\n",
    "| $3$      | *   | *   | *   |\n",
    "| $4$      | *   | *   |\n",
    "| $5$      | *   | *   |\n",
    "\n",
    "\n",
    "\n",
    "<p style=\"margin-bottom:2cm;\"></p>\n",
    "<div style=\"width:100%;text-align:right;font-weight:bold;font-size:1.2em;\"> 6 </div>\n",
    "<img src=\"https://raw.githubusercontent.com/andrejkk/ORvTK_SlidesImgs/master/footer_full.jpg\">"
   ]
  },
  {
   "attachments": {},
   "cell_type": "markdown",
   "metadata": {
    "slideshow": {
     "slide_type": "slide"
    }
   },
   "source": [
    "## ■ Occupation of frequency slots FS by links\n",
    "\n",
    "\n",
    "\n",
    "- Numbers are path indices, no number means vacant FS\n",
    "\n",
    "\n",
    "|  $p$    |  $e,FS$  |  $1$  |  $2$  |  $3$  |  $4$  |  $5$  |  $6$  |  $7$  |  $8$  |  $9$  |  $10$  |\n",
    "|---------|----------|-------|-------|-------|-------|-------|-------|-------|-------|-------|--------|\n",
    "| $1,2,3$ | 12       | 1     | 1     | 2     | 3     | 3     | 3     |\n",
    "| $4,5$   | 13       | 5     | 5     | 4     | 4     |\n",
    "| $2,3$   | 23       | 2     | 3     | 3     | 3     |\n",
    "| $1$     | 24       | 1     | 1     |\n",
    "| $2,4$   | 34       | 2     | 4     | 4     |\n",
    "| $3,5$   | 35       | 5     | 5     | 3     | 3     | 3     |\n",
    "| $1,2,4$ | 45       | 1     | 1     | 2     | 4     | 4     |\n",
    "\n",
    "\n",
    "\n",
    "\n",
    "<p style=\"margin-bottom:2cm;\"></p>\n",
    "<div style=\"width:100%;text-align:right;font-weight:bold;font-size:1.2em;\"> 7 </div>\n",
    "<img src=\"https://raw.githubusercontent.com/andrejkk/ORvTK_SlidesImgs/master/footer_full.jpg\">"
   ]
  },
  {
   "attachments": {},
   "cell_type": "markdown",
   "metadata": {
    "slideshow": {
     "slide_type": "slide"
    }
   },
   "source": [
    "## ■ Feasible modulations - available to be assigned\n",
    "\n",
    "\n",
    "\n",
    "<br><br>\n",
    "\n",
    "\n",
    "|  $p_{id}$  |  $m=1, S_m=2$      |  $m=2, S_m=3$  |  $m=3, S_m=1$           |\n",
    "|------------|--------------------|----------------|-------------------------|\n",
    "| $1$        | $7-8,8-9,9-10$     | $7-9,8-10$     | $7-7,8-8,9-9,10-10$     |\n",
    "| $2$        | $7-8,8-9,9-10$     | $7-9,8-10$     | $7-7,8-8,9-9,10-10$     |\n",
    "| $3$        | $7-8,8-9,9-10$     | $7-9,8-10$     | $7-7,8-8,9-9,10-10$     |\n",
    "| $4$        | $6-7,7-8,8-9,9-10$ | $6-8,7-9,8-10$ | $6-6,7-7,8-8,9-9,10-10$ |\n",
    "| $5$        | $7-8,8-9,9-10$     | $7-9,8-10$     | $7-7,8-8,9-9,10-10$     |\n",
    "\n",
    "\n",
    "<p style=\"margin-bottom:2cm;\"></p>\n",
    "<div style=\"width:100%;text-align:right;font-weight:bold;font-size:1.2em;\"> 8 </div>\n",
    "<img src=\"https://raw.githubusercontent.com/andrejkk/ORvTK_SlidesImgs/master/footer_full.jpg\">"
   ]
  },
  {
   "attachments": {},
   "cell_type": "markdown",
   "metadata": {
    "slideshow": {
     "slide_type": "slide"
    }
   },
   "source": [
    "## ■ Constraints\n",
    "\n",
    "- Capacity: $R_d \\leq \\sum_{i=1}^H R_{m_i}$  \n",
    "- Each modulation occupies contiguous FS\n",
    "- Channels occupies the same FS along the path\n",
    "- There is upper limit of number of elastics paths $FL_{max}$\n",
    "- Upper limit on number pf parts: $H_{max}$\n",
    "- Upper limit on number of involved paths: $L_{max}$\n",
    "\n",
    "\n",
    "\n",
    "\n",
    "<p style=\"margin-bottom:2cm;\"></p>\n",
    "<div style=\"width:100%;text-align:right;font-weight:bold;font-size:1.2em;\"> 9 </div>\n",
    "<img src=\"https://raw.githubusercontent.com/andrejkk/ORvTK_SlidesImgs/master/footer_full.jpg\">"
   ]
  },
  {
   "attachments": {},
   "cell_type": "markdown",
   "metadata": {
    "slideshow": {
     "slide_type": "slide"
    }
   },
   "source": [
    "## ■ Variables, notations\n",
    "\n",
    "\n",
    "- $x_{p,x}$, $p\\in P$, $c\\in C_p$: binary indicator od paths and channels\n",
    "- $y_p$,  $p\\in P$: binary indicator of path\n",
    "- $z_{p,f}$, $p\\in P$, $f\\in FS$: binary indicator of FS\n",
    "- $P_p$, $p\\in P$: Number of parts of a path\n",
    "- $T_p$: Number of gaps in FS on a path 𝑝∈𝑃\n",
    "- $w_{p,f, f+1}$: slack variables\n",
    "- $A$: difference between the requested bit rate and the allocated bit rate.\n",
    "    \n",
    "\n",
    "\n",
    "<p style=\"margin-bottom:2cm;\"></p>\n",
    "<div style=\"width:100%;text-align:right;font-weight:bold;font-size:1.2em;\"> 10 </div>\n",
    "<img src=\"https://raw.githubusercontent.com/andrejkk/ORvTK_SlidesImgs/master/footer_full.jpg\">"
   ]
  },
  {
   "attachments": {},
   "cell_type": "markdown",
   "metadata": {
    "slideshow": {
     "slide_type": "slide"
    }
   },
   "source": [
    "## ■ MILP formulation for general network\n",
    "\n",
    "\n",
    "- Cost function\n",
    "$$ \\begin{matrix}\n",
    "c(x_{p,c}) &=& \\alpha\\frac{1}{H_{max}|P_d|} \\sum_{p\\in P_d} h_p P_p \n",
    " \\;+\\; \\beta\\frac{1}{|F||P_d|} \\sum_{p\\in P_d} h_p T_p  \\cr\n",
    " && + \\quad \\gamma\\frac{1}{|C|}\\sum_{p\\in P_d} h_p\n",
    " \\sum_{c\\in C_p} S_c(1+\\varepsilon f_c) x_{p,c} \\;+\\; \\delta\\frac{A}{max \\{R_m\\}}\n",
    "\\end{matrix} \n",
    "$$\n",
    "\n",
    "Optimization task: \n",
    "$$ argmin_x c(x) $$\n",
    "\n",
    "\n",
    "\n",
    "<p style=\"margin-bottom:2cm;\"></p>\n",
    "<div style=\"width:100%;text-align:right;font-weight:bold;font-size:1.2em;\"> 11 </div>\n",
    "<img src=\"https://raw.githubusercontent.com/andrejkk/ORvTK_SlidesImgs/master/footer_full.jpg\">"
   ]
  },
  {
   "attachments": {},
   "cell_type": "markdown",
   "metadata": {
    "slideshow": {
     "slide_type": "slide"
    }
   },
   "source": [
    "## ■ Constraints\n",
    "\n",
    "- Capacity: \n",
    "$$ R_d \\leq \\sum_{p\\in P_d} \\sum_{c\\in C_p} R_c x_{p,c} $$\n",
    "- Difference between the requested bit rate and the allocated bit rate:  \n",
    "$$ A = \\sum_{p\\in P_d} \\sum_{c\\in C_p} R_c x_{p,c} - R_d $$\n",
    "Number of channels is limited:\n",
    "$$ x_{p,c} \\leq y_p $$\n",
    "$$ \\sum_{p\\in P_d} y_p \\leq L_{max} $$ \n",
    "    \n",
    "    \n",
    "\n",
    "<p style=\"margin-bottom:2cm;\"></p>\n",
    "<div style=\"width:100%;text-align:right;font-weight:bold;font-size:1.2em;\"> 12 </div>\n",
    "<img src=\"https://raw.githubusercontent.com/andrejkk/ORvTK_SlidesImgs/master/footer_full.jpg\">"
   ]
  },
  {
   "attachments": {},
   "cell_type": "markdown",
   "metadata": {
    "slideshow": {
     "slide_type": "slide"
    }
   },
   "source": [
    "## ■ - Constraints (cont.)\n",
    "\n",
    "\n",
    "Limit on number of parts:\n",
    "$$ \\sum_{p\\in P_d} P_p \\leq H_{max}, FL_{max} $$\n",
    "- Each channel is used at most ones: \n",
    "$$ \\sum_{p\\in P_d} \\sum_{c\\in C_f} x_{p,c} \\leq 1 $$\n",
    "- Number of parts: \n",
    "$$ P_p = \\sum_{c\\in C_p} x_{p,c} $$\n",
    "\n",
    "\n",
    "\n",
    "\n",
    "<p style=\"margin-bottom:2cm;\"></p>\n",
    "<div style=\"width:100%;text-align:right;font-weight:bold;font-size:1.2em;\"> 13 </div>\n",
    "<img src=\"https://raw.githubusercontent.com/andrejkk/ORvTK_SlidesImgs/master/footer_full.jpg\">"
   ]
  },
  {
   "attachments": {},
   "cell_type": "markdown",
   "metadata": {
    "slideshow": {
     "slide_type": "slide"
    }
   },
   "source": [
    "## ■ Constraints (cont.)\n",
    "    \n",
    "\n",
    "$$ T_p = \\sum_{i=1}^{|F|} z_{p,i} - \\sum_{i=1}^{|F|-1} w_{p,i,i+1} $$\n",
    "- Occupied frequency slots:\n",
    "$$ z_{p,f} = 1, \\quad \\forall p\\in P, f\\in F_p^u. $$\n",
    "- Vacant frequency slots:\n",
    "$$ z_{p,f} = \\sum_{c\\in C_f} x_{p,f}, \\quad \\forall p\\in P, f\\in F\\setminus F_p^u. $$\n",
    "- Slack variables:\n",
    "$$ w_{p,i,i+1} \\leq z_{p,i}, z_{p,i+1} $$\n",
    "$$ w_{p,i,i+1} \\geq z_{p,i} + z_{p,i+1} - 1 $$\n",
    "\n",
    "\n",
    "\n",
    "<p style=\"margin-bottom:2cm;\"></p>\n",
    "<div style=\"width:100%;text-align:right;font-weight:bold;font-size:1.2em;\"> 14 </div>\n",
    "<img src=\"https://raw.githubusercontent.com/andrejkk/ORvTK_SlidesImgs/master/footer_full.jpg\">"
   ]
  },
  {
   "attachments": {},
   "cell_type": "markdown",
   "metadata": {
    "slideshow": {
     "slide_type": "slide"
    }
   },
   "source": [
    "## ■ Problem type\n",
    "\n",
    "\n",
    "- Mixed integer linear programming, MILP\n",
    "\n",
    "- How to do it:\n",
    "    - Case study \n",
    "    - Automated of file formulation\n",
    "\n",
    "\n",
    "\n",
    "\n",
    "\n",
    "<p style=\"margin-bottom:2cm;\"></p>\n",
    "<div style=\"width:100%;text-align:right;font-weight:bold;font-size:1.2em;\"> 15 </div>\n",
    "<img src=\"https://raw.githubusercontent.com/andrejkk/ORvTK_SlidesImgs/master/footer_full.jpg\">"
   ]
  },
  {
   "cell_type": "code",
   "execution_count": null,
   "metadata": {},
   "outputs": [],
   "source": []
  }
 ],
 "metadata": {
  "celltoolbar": "Slideshow",
  "kernelspec": {
   "display_name": "Python 3",
   "language": "python",
   "name": "python3"
  },
  "language_info": {
   "codemirror_mode": {
    "name": "ipython",
    "version": 3
   },
   "file_extension": ".py",
   "mimetype": "text/x-python",
   "name": "python",
   "nbconvert_exporter": "python",
   "pygments_lexer": "ipython3",
   "version": "3.7.10"
  }
 },
 "nbformat": 4,
 "nbformat_minor": 2
}
