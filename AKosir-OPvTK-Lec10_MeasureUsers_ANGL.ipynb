{
 "cells": [
  {
   "attachments": {},
   "cell_type": "markdown",
   "metadata": {
    "collapsed": true,
    "slideshow": {
     "slide_type": "slide"
    }
   },
   "source": [
    "<img style=\"float: center; width: 100%\" src=\"https://raw.githubusercontent.com/andrejkk/TalksImgs/master/FrontSlideUpperBan.png\">\n",
    "<p style=\"margin-bottom:2cm;\"></p>\n",
    "\n",
    "<center>\n",
    "    <H1> 10. User measurement </H1>\n",
    "   \n",
    "\n",
    "\n",
    "<br><br>\n",
    "    <H3> Andrej Košir, Lucami, FE </H3>\n",
    "    <H4> Kontakt: prof. dr. Andrej Košir, andrej.kosir@lucami.fe.uni-lj.si, skype=akosir_sid </H4>\n",
    "</center>\n",
    "\n",
    "\n",
    "\n",
    "\n",
    "\n",
    "<p style=\"margin-bottom:2cm;\"></p>\n",
    "<div style=\"width:100%;text-align:right;font-weight:bold;font-size:1.2em;\"> 1 </div>\n",
    "<img src=\"https://raw.githubusercontent.com/andrejkk/ORvTK_SlidesImgs/master/footer_full.jpg\">"
   ]
  },
  {
   "attachments": {},
   "cell_type": "markdown",
   "metadata": {
    "slideshow": {
     "slide_type": "slide"
    }
   },
   "source": [
    "<div style=\"display:flex;font-weight:bold;font-size:0.9em;\">\n",
    "<div style=\"flex:1;width:50%;\"> User measurement </div>\n",
    "<div style=\"flex:1;width:50%;text-align:right;\"> Outcomes </div>\n",
    "</div>\n",
    "\n",
    "\n",
    "\n",
    "## Outcomes\n",
    "\n",
    "- Understand the problem of user measurement\n",
    "- knowing and understanding:\n",
    "     - Measurement with questionnaires\n",
    "     - Constructs\n",
    "     - Measurement with psychophysiological signals\n",
    "\n",
    "\n",
    "\n",
    "\n",
    "<p style=\"margin-bottom:1cm;\"></p>\n",
    "<div style=\"width:100%;text-align:right;font-weight:bold;font-size:1.2em;\"> 2 </div>\n",
    "<img src=\"https://raw.githubusercontent.com/andrejkk/ORvTK_SlidesImgs/master/footer_full.jpg\">"
   ]
  },
  {
   "attachments": {},
   "cell_type": "markdown",
   "metadata": {
    "slideshow": {
     "slide_type": "slide"
    }
   },
   "source": [
    "<div style=\"display:flex;font-weight:bold;font-size:0.9em;\">\n",
    "<div style=\"flex:1;width:50%;\"> User measurement </div>\n",
    "<div style=\"flex:1;width:50%;text-align:right;\"> Content </div>\n",
    "</div>\n",
    "\n",
    "\n",
    "## Sections\n",
    "\n",
    "### 1. User measurement: instruments and constructs\n",
    "\n",
    "\n",
    "#### 1.1. Selected instruments - questionnaires\n",
    "\n",
    "■ Introduction: what is an instrument and what is a construct $\\large{*}$\n",
    "\n",
    "■ Usability: system usability of SUS $\\large{*}$\n",
    "\n",
    "■ Usability: Usability of UMUX interaction $\\large{*}$\n",
    "\n",
    "■ Personality measurement: (Big5) $\\large{*}$\n",
    "\n",
    "■ Mood measurement: PANAS $\\large{*}$\n",
    "\n",
    "■ Load measurement: NASA TLX $\\large{*}$\n",
    "\n",
    "■ Measuring the quality of two-way speech: SUISQ $\\large{*}$\n",
    "\n",
    "■ Notes on the use of instruments and constructs\n",
    "\n",
    "\n",
    "#### 1.2. Determination of performance metrics - assessment of construct dimensions, instrument\n",
    "\n",
    "■ SUISQ introduction and example\n",
    "\n",
    "■ Factor matrix weights define the construct$\\large{*}$\n",
    "\n",
    "■ Calculation of construct or scale points$\\large{*}$\n",
    "\n",
    "#### 1.3. Measurement characteristics\n",
    "\n",
    "■ The problem of questionnaires and measurement characteristics$\\large{*}$\n",
    "\n",
    "■ Validity$\\large{*}$\n",
    "\n",
    "■ Reliability$\\large{*}$\n",
    "\n",
    "\n",
    "\n",
    "### 2. Measurement of users: psychophysiological signals\n",
    "\n",
    "■ Human physiology and psychophysiological signals $\\large{*}$\n",
    "\n",
    "■ Social signals of user $\\large{*}$\n",
    "\n",
    "■ Estimating user's social signals  $\\large{*}$\n",
    "\n",
    "■ Emotions: signal measurement\n",
    "\n",
    "■ Cognitive load: signal measurement\n",
    "\n",
    "■ Attention: signal measurement\n",
    "\n",
    "■ Stress: signal measurement\n",
    "\n",
    "■ Sensors for psycho-physiological signals\n",
    "\n",
    "■ Conclusion\n",
    "\n",
    "\n",
    "<p style=\"margin-bottom:1cm;\"></p>\n",
    "<div style=\"width:100%;text-align:right;font-weight:bold;font-size:1.2em;\"> 3 </div>\n",
    "<img src=\"https://raw.githubusercontent.com/andrejkk/ORvTK_SlidesImgs/master/footer_full.jpg\">"
   ]
  },
  {
   "cell_type": "code",
   "execution_count": null,
   "metadata": {},
   "outputs": [],
   "source": []
  }
 ],
 "metadata": {
  "celltoolbar": "Slideshow",
  "kernelspec": {
   "display_name": "Python 3",
   "language": "python",
   "name": "python3"
  },
  "language_info": {
   "codemirror_mode": {
    "name": "ipython",
    "version": 3
   },
   "file_extension": ".py",
   "mimetype": "text/x-python",
   "name": "python",
   "nbconvert_exporter": "python",
   "pygments_lexer": "ipython3",
   "version": "3.10.5"
  },
  "vscode": {
   "interpreter": {
    "hash": "66d245bc0aa345411577de3f292b9e6a6906f0558af2a59212c3c2455e5d14f2"
   }
  }
 },
 "nbformat": 4,
 "nbformat_minor": 2
}
