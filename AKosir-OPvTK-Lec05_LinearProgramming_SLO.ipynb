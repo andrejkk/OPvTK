{
 "cells": [
  {
   "cell_type": "markdown",
   "metadata": {
    "collapsed": true,
    "slideshow": {
     "slide_type": "slide"
    }
   },
   "source": [
    "<img style=\"float: center; width: 100%\" src=\"https://raw.githubusercontent.com/andrejkk/TalksImgs/master/FrontSlideUpperBan.png\">\n",
    "<p style=\"margin-bottom:2cm;\"></p>\n",
    "\n",
    "<center>\n",
    "    <H1> 5. Linearno programiranje (LP) </H1>\n",
    "   \n",
    "\n",
    "\n",
    "<br><br>\n",
    "    <H3> Andrej Košir, Lucami, FE </H3>\n",
    "    <H4> Kontakt: prof. dr. Andrej Košir, andrej.kosir@lucami.fe.uni-lj.si, skype=akosir_sid </H4>\n",
    "</center>\n",
    "\n",
    "\n",
    "<p style=\"margin-bottom:2cm;\"></p>\n",
    "<div style=\"width:100%;text-align:right;font-weight:bold;font-size:1.2em;\"> 1 </div>\n",
    "<img src=\"https://raw.githubusercontent.com/andrejkk/ORvTK_SlidesImgs/master/footer_full.jpg\">"
   ]
  },
  {
   "cell_type": "markdown",
   "metadata": {
    "collapsed": true,
    "slideshow": {
     "slide_type": "slide"
    }
   },
   "source": [
    "<div style=\"display:flex;font-weight:bold;font-size:0.9em;\">\n",
    "<div style=\"flex:1;width:50%;\"> 5. Linearno programiranje (LP) </div>\n",
    "<div style=\"flex:1;width:50%;text-align:right;\"> Cilji </div>\n",
    "</div>\n",
    "\n",
    "\n",
    "## ■ Cilji:\n",
    "\n",
    "- Spoznati formulacijo lineranega programiranja (LP)\n",
    "- Spretnost prepoznavanja LP v realni praksi\n",
    "- Spoznati uporabno orodje LP_solve\n",
    "- Spoznati pomembne primere v TK praksi\n",
    "\n",
    "\n",
    "<p style=\"margin-bottom:2cm;\"></p>\n",
    "<div style=\"width:100%;text-align:right;font-weight:bold;font-size:1.2em;\"> 2 </div>\n",
    "<img src=\"https://raw.githubusercontent.com/andrejkk/ORvTK_SlidesImgs/master/footer_full.jpg\">"
   ]
  },
  {
   "cell_type": "markdown",
   "metadata": {
    "collapsed": true,
    "slideshow": {
     "slide_type": "slide"
    }
   },
   "source": [
    "<div style=\"display:flex;font-weight:bold;font-size:0.9em;\">\n",
    "<div style=\"flex:1;width:50%;\"> 5. Linearno programiranje (LP) </div>\n",
    "<div style=\"flex:1;width:50%;text-align:right;\"> Poglavja </div>\n",
    "</div>\n",
    "\n",
    "\n",
    "## ■ Poglavja\n",
    "\n",
    "\n",
    "5.1. Definicija, lastnosti, algoritem\n",
    "\n",
    "■ Definicija linearnega programiranja $\\large{*}$\n",
    "\n",
    "■ O množici dopustnih rešitev\n",
    "\n",
    "■ Ekvivalenten opis: ohlapne spremenljivke $\\large{*}$\n",
    "\n",
    "■ Dualna postavitev $\\large{*}$\n",
    "\n",
    "■ Teorija: konveksnost\n",
    "\n",
    "■ Teorija: ekstremne točke, simpleks, politop\n",
    "\n",
    "■ Teorija: rešljivost linearnega problema $\\large{*}$\n",
    "\n",
    "\n",
    "\n",
    "5.2. Primeri uporabe v TK\n",
    "\n",
    "■ Problem maksimalnega pretoka $\\large{*}$\n",
    "\n",
    "■ Problem najcenejšega pretoka $\\large{*}$\n",
    "\n",
    "■ Problem nacenejšega prenosa večih entitet\n",
    "\n",
    "\n",
    "<p style=\"margin-bottom:2cm;\"></p>\n",
    "<div style=\"width:100%;text-align:right;font-weight:bold;font-size:1.2em;\"> 3 </div>\n",
    "<img src=\"https://raw.githubusercontent.com/andrejkk/ORvTK_SlidesImgs/master/footer_full.jpg\">"
   ]
  },
  {
   "cell_type": "code",
   "execution_count": 2,
   "metadata": {},
   "outputs": [],
   "source": [
    "#pip install lpsolve55\n",
    "# http://localhost:8888/?token=4019a14dd3d83deee8096545745b703980787f78b59c6315\n",
    "#from lpsolve55 import *\n",
    "#lp = lpsolve('make_lp', 0, 4)\n",
    "#lpsolve('set_verbose', lp, IMPORTANT)\n",
    "#ret = lpsolve('set_obj_fn', lp, [1, 3, 6.24, 0.1])"
   ]
  },
  {
   "cell_type": "markdown",
   "metadata": {
    "collapsed": true,
    "slideshow": {
     "slide_type": "slide"
    }
   },
   "source": [
    "<div style=\"display:flex;font-weight:bold;font-size:0.9em;\">\n",
    "<div style=\"flex:1;width:50%;\"> 5. Linearno programiranje (LP) </div>\n",
    "<div style=\"flex:1;width:50%;text-align:right;\"> Poglavja </div>\n",
    "</div>\n",
    "\n",
    "\n",
    "## ■ Uvod, zgodovina\n",
    "\n",
    "\n",
    "- Kaj je linearno programiranje\n",
    "    - Matematično programiranje: iskanje učinkovitega zaporedja operacij z matematičnimi metodami\n",
    "    - Linearno programiranje: linearne kriterijske funkcije\n",
    "\n",
    "\n",
    "- Zgodovina\n",
    "    - Prve formulacije: Fourier – Motzkin 1827\n",
    "    - Linearno programiranje: Kantorovič 1939\n",
    "    - Simpleksna metoda: Dantzing 1947\n",
    "    - Dualnost: von Neuman, 1947\n",
    "    - Prva rešitev v polinomskem času: Leonid Khachiyan, 1979\n",
    "    - Metoda notranje točke: Narendra Karmarkar, 1984\n",
    "\n",
    "\n",
    "\n",
    "<p style=\"margin-bottom:2cm;\"></p>\n",
    "<div style=\"width:100%;text-align:right;font-weight:bold;font-size:1.2em;\"> 4 </div>\n",
    "<img src=\"https://raw.githubusercontent.com/andrejkk/ORvTK_SlidesImgs/master/footer_full.jpg\">"
   ]
  },
  {
   "cell_type": "markdown",
   "metadata": {
    "collapsed": true,
    "slideshow": {
     "slide_type": "slide"
    }
   },
   "source": [
    "<div style=\"display:flex;font-weight:bold;font-size:0.9em;\">\n",
    "<div style=\"flex:1;width:50%;\"> 5. Linearno programiranje (LP) </div>\n",
    "<div style=\"flex:1;width:50%;text-align:right;\"> 5.1. Definicija, lastnosti, algoritem </div>\n",
    "</div>\n",
    "\n",
    "## 5.1. Definicija, lastnosti, algoritem\n",
    "\n",
    "■ Definicija linearnega programiranja $\\large{*}$ \n",
    "\n",
    "■ O množici dopustnih rešitev\n",
    "\n",
    "■ Ekvivalenten opis: ohlapne spremenljivke $\\large{*}$ \n",
    "\n",
    "■ Dualna postavitev $\\large{*}$ \n",
    "\n",
    "■ Teorija: konveksnost\n",
    "\n",
    "■ Teorija: ekstremne točke, simpleks, politop\n",
    "\n",
    "■ Teorija: rešljivost linearnega problema \n",
    "\n",
    "\n",
    "<p style=\"margin-bottom:2cm;\"></p>\n",
    "<div style=\"width:100%;text-align:right;font-weight:bold;font-size:1.2em;\"> 5 </div>\n",
    "<img src=\"https://raw.githubusercontent.com/andrejkk/ORvTK_SlidesImgs/master/footer_full.jpg\">"
   ]
  },
  {
   "cell_type": "markdown",
   "metadata": {
    "collapsed": true,
    "slideshow": {
     "slide_type": "slide"
    }
   },
   "source": [
    "<div style=\"display:flex;font-weight:bold;font-size:0.9em;\">\n",
    "<div style=\"flex:1;width:50%;\"> 5. Linearno programiranje (LP) </div>\n",
    "<div style=\"flex:1;width:50%;text-align:right;\"> 5.1. Definicija, lastnosti, algoritem </div>\n",
    "</div>\n",
    "\n",
    "## ■ Definicija linearnega programiranja\n",
    "\n",
    "- **Definicija (kanonična oblika)**\n",
    "\n",
    "$$ \\matrix{\n",
    " & & argmax_x w^\\top.x \\cr \n",
    " & s.t. & \\cr\n",
    " & & A.x \\leq b \\hfill \\cr\n",
    " & & x\\geq 0 \\hfill} $$\n",
    "\n",
    "\n",
    "\n",
    "- Kriterijska funkcija je linearna: $c(x) = w^\\top.x = w_1 x_1 + \\cdots + w_n x_n$\n",
    "- Omejitve predstavljajo predikat dopustnosti $\\Phi(x)$.\n",
    "- Omejitve so linearne\n",
    "- Množica dopustnih rešitev je politop (natančna definicija kasneje)\n",
    "    - Presek polprostorov\n",
    "\n",
    "\n",
    "<p style=\"margin-bottom:2cm;\"></p>\n",
    "<div style=\"width:100%;text-align:right;font-weight:bold;font-size:1.2em;\"> 6 </div>\n",
    "<img src=\"https://raw.githubusercontent.com/andrejkk/ORvTK_SlidesImgs/master/footer_full.jpg\">"
   ]
  },
  {
   "cell_type": "markdown",
   "metadata": {
    "collapsed": true,
    "slideshow": {
     "slide_type": "slide"
    }
   },
   "source": [
    "<div style=\"display:flex;font-weight:bold;font-size:0.9em;\">\n",
    "<div style=\"flex:1;width:50%;\"> 5. Linearno programiranje (LP) </div>\n",
    "<div style=\"flex:1;width:50%;text-align:right;\"> 5.1. Definicija, lastnosti, algoritem </div>\n",
    "</div>\n",
    "\n",
    "## ■ O množici dopustnih rešitev\n",
    "\n",
    "- Množica dopustnih rešitev je konveksni politop\n",
    "    - Konveksna množica\n",
    "    - Politop\n",
    "    \n",
    "    \n",
    "- Kriterijska funkcija $c(x) = w^\\top.x$ je konveksna:\n",
    "    - Konveksna funkcija\n",
    "    - Teorija: \n",
    "        - Konveksna $c(x)$: lokalni minimum je globalni minimum\n",
    "        - Konkavna $c(x)$: lokalni maksimum je globalni maksimum\n",
    "\n",
    "\n",
    "<p style=\"margin-bottom:2cm;\"></p>\n",
    "<div style=\"width:100%;text-align:right;font-weight:bold;font-size:1.2em;\"> 7 </div>\n",
    "<img src=\"https://raw.githubusercontent.com/andrejkk/ORvTK_SlidesImgs/master/footer_full.jpg\">"
   ]
  },
  {
   "cell_type": "markdown",
   "metadata": {
    "collapsed": true,
    "slideshow": {
     "slide_type": "slide"
    }
   },
   "source": [
    "<div style=\"display:flex;font-weight:bold;font-size:0.9em;\">\n",
    "<div style=\"flex:1;width:50%;\"> 5. Linearno programiranje (LP) </div>\n",
    "<div style=\"flex:1;width:50%;text-align:right;\"> 5.1. Definicija, lastnosti, algoritem </div>\n",
    "</div>\n",
    "\n",
    "\n",
    "## ■ Ekvivalenten opis: ohlapne  spremenljivke\n",
    "\n",
    "- Linearne omejitve v obliki neenačbe $A.x\\leq b$ nadomestimo z enačbo \n",
    "- Tako obliko zahteva simpleksni algoritem\n",
    "- Ekvivalentna bločna oblika, $I$ je matrika identiteta\n",
    "\n",
    "$$ \\matrix{\n",
    " & & argmax_Z Z \\cr \n",
    " & s.t. & \\cr\n",
    " & & \\left[\\matrix{1 & -w^\\top & 0 \\cr 0 & A & I}\\right].\\left[\\matrix{Z \\cr x \\cr x_s}\\right] = \\left[\\matrix{0 \\cr b}\\right] \\cr\n",
    " & & x\\geq 0, x_s\\geq 0. \\hfill} $$\n",
    "\n",
    "\n",
    "\n",
    "- Vpeljali smo ohlapne (ang. slack) spremenljivke $x_s$:\n",
    "$$ x < a \\iff x + x_s = a \\quad\\&\\quad x_s > 0$$\n",
    "\n",
    "\n",
    "<p style=\"margin-bottom:2cm;\"></p>\n",
    "<div style=\"width:100%;text-align:right;font-weight:bold;font-size:1.2em;\"> 8 </div>\n",
    "<img src=\"https://raw.githubusercontent.com/andrejkk/ORvTK_SlidesImgs/master/footer_full.jpg\">"
   ]
  },
  {
   "cell_type": "markdown",
   "metadata": {
    "collapsed": true,
    "slideshow": {
     "slide_type": "slide"
    }
   },
   "source": [
    "<div style=\"display:flex;font-weight:bold;font-size:0.9em;\">\n",
    "<div style=\"flex:1;width:50%;\"> 5. Linearno programiranje (LP) </div>\n",
    "<div style=\"flex:1;width:50%;text-align:right;\"> 5.1. Definicija, lastnosti, algoritem </div>\n",
    "</div>\n",
    "\n",
    "\n",
    "## ■ Dualna postavitev\n",
    "\n",
    "\n",
    "- Vsak primarni LP problem ima dualno obliko\n",
    "- Linearen problem\n",
    "$$ \\matrix{\n",
    " & & argmax_x w^\\top.x \\cr \n",
    " & s.t. & \\cr\n",
    " & & A.x \\leq b \\hfill \\cr\n",
    " & & x\\geq 0 \\hfill} $$\n",
    "<br><br> \n",
    "ima dualno obliko\n",
    "<br><br>\n",
    "$$ \\matrix{\n",
    " & & argmin_y b^\\top.y \\cr \n",
    " & s.t. & \\cr\n",
    " & & A^\\top.y \\geq w \\hfill \\cr\n",
    " & & y\\geq 0 \\hfill} $$\n",
    "\n",
    "\n",
    "<br><br><br> \n",
    "- Drugi simetrični dualni problem je primarni problem.\n",
    "- Povezava med rešitvama: če obstaja rešitev $x^∗$ primarnega problema, potem obstaja tudi rešitev dualnega $y^∗$ in velja \n",
    "$$ w^\\top.x^* = b^\\top.y^*  $$\n",
    "\n",
    "\n",
    "<p style=\"margin-bottom:2cm;\"></p>\n",
    "<div style=\"width:100%;text-align:right;font-weight:bold;font-size:1.2em;\"> 9 </div>\n",
    "<img src=\"https://raw.githubusercontent.com/andrejkk/ORvTK_SlidesImgs/master/footer_full.jpg\">"
   ]
  },
  {
   "cell_type": "markdown",
   "metadata": {
    "collapsed": true,
    "slideshow": {
     "slide_type": "slide"
    }
   },
   "source": [
    "<div style=\"display:flex;font-weight:bold;font-size:0.9em;\">\n",
    "<div style=\"flex:1;width:50%;\"> 5. Linearno programiranje (LP) </div>\n",
    "<div style=\"flex:1;width:50%;text-align:right;\"> 5.1. Definicija, lastnosti, algoritem </div>\n",
    "</div>\n",
    "\n",
    "\n",
    "\n",
    "## ■ Teorija: konveksnost\n",
    "\n",
    "Konveksna linearna kombinacija\n",
    "$$ \\lambda \\vec{r}_1+(1−\\lambda) \\vec{r}_2, \\lambda\\in[0,1] $$\n",
    "\n",
    "Konveksne množice:\n",
    "Množica $A$ je konveksna, če velja\n",
    "$$ \\lambda\\in[0,1], \\vec{r}_1,\\vec{r}_2\\in A \\implies\\lambda \\vec{r}_1+(1−\\lambda) \\vec{r}_2\\in𝐴, $$\n",
    "\n",
    "\n",
    "Konveksna ogrinjača 𝑆 v 𝐴:\n",
    "$$ 𝐶𝑜𝑛(𝑆)=\\{\\vec{r}=\\sum_i \\lambda_i  \\vec{r}_i:\\vec{r}_i\\in S, \\sum_i\\lambda_i =1, \\lambda_i \\geq 0\\}. $$\n",
    "\n",
    "Konveksne funkcije:\n",
    "Funkcija je konveksna, če\n",
    "$$ \\lambda\\in [0,1]: f(\\lambda \\vec{r}_1+(1−\\lambda) \\vec{r}_2 ) \\leq \\lambda 𝑓(\\vec{r}_1)+(1−\\lambda) f(\\vec{r}_2) $$\n",
    "\n",
    "\n",
    "Funkcija je strogo konveksna, če \n",
    "$$ \\lambda\\in (0,1),\\vec{r}_1\\ne\\vec{r}_2: f(\\lambda \\vec{r}_1+(1−\\lambda) \\vec{r}_2 )<\\lambda 𝑓(\\vec{r}_1)+(1−\\lambda) f(\\vec{r}_2) $$\n",
    "\n",
    "Funkcija je (strogo) konkavna, če obrnemo neenačaj\n",
    "\n",
    "<p style=\"margin-bottom:2cm;\"></p>\n",
    "<div style=\"width:100%;text-align:right;font-weight:bold;font-size:1.2em;\"> 10 </div>\n",
    "<img src=\"https://raw.githubusercontent.com/andrejkk/ORvTK_SlidesImgs/master/footer_full.jpg\">"
   ]
  },
  {
   "cell_type": "markdown",
   "metadata": {
    "collapsed": true,
    "slideshow": {
     "slide_type": "slide"
    }
   },
   "source": [
    "<div style=\"display:flex;font-weight:bold;font-size:0.9em;\">\n",
    "<div style=\"flex:1;width:50%;\"> 5. Linearno programiranje (LP) </div>\n",
    "<div style=\"flex:1;width:50%;text-align:right;\"> 5.1. Definicija, lastnosti, algoritem </div>\n",
    "</div>\n",
    "\n",
    "\n",
    "\n",
    "## ■ Teorija: ekstremne točke, simpleks, politop\n",
    "\n",
    "- Esktremne točke: ne leži na nobeni odprtem ravnem odseku – na v notranjosti nobene konveksne kombinacije\n",
    "$$ \\lambda \\vec{r}_1 + (1−\\lambda) \\vec{r}_2, \\quad\\lambda\\in (0,1). $$\n",
    "\n",
    "\n",
    "- Kaj je simpleks\n",
    "    - Konveksna ogrinjača svojih ogljišč\n",
    "    \n",
    "    \n",
    "- Kaj je politop:\n",
    "    - Presek polprostorov\n",
    "    - Lahko je omejen ali neomejen\n",
    "    - Omejen politop je konveksna ogrinjača svojih ekstremnih točk\n",
    "\n",
    "\n",
    "<p style=\"margin-bottom:2cm;\"></p>\n",
    "<div style=\"width:100%;text-align:right;font-weight:bold;font-size:1.2em;\"> 11 </div>\n",
    "<img src=\"https://raw.githubusercontent.com/andrejkk/ORvTK_SlidesImgs/master/footer_full.jpg\">"
   ]
  },
  {
   "cell_type": "markdown",
   "metadata": {
    "collapsed": true,
    "slideshow": {
     "slide_type": "slide"
    }
   },
   "source": [
    "<div style=\"display:flex;font-weight:bold;font-size:0.9em;\">\n",
    "<div style=\"flex:1;width:50%;\"> 5. Linearno programiranje (LP) </div>\n",
    "<div style=\"flex:1;width:50%;text-align:right;\"> 5.1. Definicija, lastnosti, algoritem </div>\n",
    "</div>\n",
    "\n",
    "\n",
    "\n",
    "## ■ Teorija: rešljivost linearnega problema \n",
    "\n",
    "- Rešitev ne obstaja vedno! Razloga za neobstoj rešitve sta lahko dva:\n",
    "    - Množica dopustnih rešitev je prazna: LP je neizvedljiv (ang. infeasible)\n",
    "    - Množica dopustnih rešitev je neomejena v smer gradienta $c(x)$, ki je $w$.\n",
    "\n",
    "\n",
    "\n",
    "- Če rešitev obstaja, leži na robu konveksnega politopa dopustnih rešitev (splošni princip maksimuma)\n",
    "    - Rešitev ni nujno ena sama\n",
    "\n",
    "\n",
    "\n",
    "- Lokalni, globalni ekstrem:\n",
    "    - Konveksna $c(x)$: če obstaja lokalni minimum, je enak globalnemu minimumu\n",
    "    - Strogo konveksna $c(x)$: če obstaja strogi minimum, je en sam\n",
    "\n",
    "\n",
    "\n",
    "<p style=\"margin-bottom:2cm;\"></p>\n",
    "<div style=\"width:100%;text-align:right;font-weight:bold;font-size:1.2em;\"> 12 </div>\n",
    "<img src=\"https://raw.githubusercontent.com/andrejkk/ORvTK_SlidesImgs/master/footer_full.jpg\">"
   ]
  },
  {
   "cell_type": "markdown",
   "metadata": {
    "collapsed": true,
    "slideshow": {
     "slide_type": "slide"
    }
   },
   "source": [
    "<div style=\"display:flex;font-weight:bold;font-size:0.9em;\">\n",
    "<div style=\"flex:1;width:50%;\"> 5. Linearno programiranje (LP) </div>\n",
    "<div style=\"flex:1;width:50%;text-align:right;\"> 5.1. Definicija, lastnosti, algoritem </div>\n",
    "</div>\n",
    "\n",
    "\n",
    "## ■ Algoritem: Dantzigov simpleksni algoritem (1)\n",
    "\n",
    "- Algoritem <br>\n",
    "    **Require**: problem LP v standardni obliki <br>\n",
    "    **Assure**: rešitev LP\n",
    "    \n",
    "    \n",
    "    \n",
    "- Zahtevnost\n",
    "    - Najslabša: eksponentna\n",
    "    - V praksi navadno odlično\n",
    "    - Ali obstaja polinomska izvedba: odprt problem\n",
    "    \n",
    "\n",
    "\n",
    "<p style=\"margin-bottom:2cm;\"></p>\n",
    "<div style=\"width:100%;text-align:right;font-weight:bold;font-size:1.2em;\"> 13 </div>\n",
    "<img src=\"https://raw.githubusercontent.com/andrejkk/ORvTK_SlidesImgs/master/footer_full.jpg\">"
   ]
  },
  {
   "cell_type": "markdown",
   "metadata": {
    "collapsed": true,
    "slideshow": {
     "slide_type": "slide"
    }
   },
   "source": [
    "<div style=\"display:flex;font-weight:bold;font-size:0.9em;\">\n",
    "<div style=\"flex:1;width:50%;\"> 5. Linearno programiranje (LP) </div>\n",
    "<div style=\"flex:1;width:50%;text-align:right;\"> 5.1. Definicija, lastnosti, algoritem </div>\n",
    "</div>\n",
    "\n",
    "\n",
    "## ■ Algoritem: Dantzigov simpleksni algoritem (2)\n",
    "\n",
    "\n",
    "- Faza 1:\n",
    "    - Iskanje ekstremnih točk. \n",
    "    - Rezultat: ali prazna množica ali osnovna bazna rešitev $x_0$\n",
    "\n",
    "\n",
    "- Faza 2:\n",
    "    - Iskanje optimuma\n",
    "    - Rezultat: ali optimum ali neskončna robna ploskev množice dopustnih rešitev, pod katero je optimum\n",
    "    \n",
    "    \n",
    "- Potencialna težava faze 2: \n",
    "    - Ciklično vračanje v isto rešitev;\n",
    "    - Mogoče jo je odpravit\n",
    "\n",
    "\n",
    "<p style=\"margin-bottom:2cm;\"></p>\n",
    "<div style=\"width:100%;text-align:right;font-weight:bold;font-size:1.2em;\"> 14 </div>\n",
    "<img src=\"https://raw.githubusercontent.com/andrejkk/ORvTK_SlidesImgs/master/footer_full.jpg\">"
   ]
  },
  {
   "cell_type": "markdown",
   "metadata": {
    "collapsed": true,
    "slideshow": {
     "slide_type": "slide"
    }
   },
   "source": [
    "<div style=\"display:flex;font-weight:bold;font-size:0.9em;\">\n",
    "<div style=\"flex:1;width:50%;\"> 5. Linearno programiranje (LP) </div>\n",
    "<div style=\"flex:1;width:50%;text-align:right;\"> 5.2. Primeri uporabe v TK </div>\n",
    "</div>\n",
    "\n",
    "\n",
    "\n",
    "## 5.2. Primeri uporabe v TK\n",
    "\n",
    "\n",
    "- Problem maksimalnega pretoka\n",
    "- Problem najcenejšega pretoka\n",
    "- Problem nacenejšega prenosa večih entitet\n",
    "\n",
    "\n",
    "\n",
    "<p style=\"margin-bottom:2cm;\"></p>\n",
    "<div style=\"width:100%;text-align:right;font-weight:bold;font-size:1.2em;\"> 15 </div>\n",
    "<img src=\"https://raw.githubusercontent.com/andrejkk/ORvTK_SlidesImgs/master/footer_full.jpg\">"
   ]
  },
  {
   "cell_type": "markdown",
   "metadata": {
    "collapsed": true,
    "slideshow": {
     "slide_type": "slide"
    }
   },
   "source": [
    "<div style=\"display:flex;font-weight:bold;font-size:0.9em;\">\n",
    "<div style=\"flex:1;width:50%;\"> 5. Linearno programiranje (LP) </div>\n",
    "<div style=\"flex:1;width:50%;text-align:right;\"> 5.2. Primeri uporabe v TK </div>\n",
    "</div>\n",
    "\n",
    "\n",
    "## ■ Problem maksimalnega pretoka\n",
    "\n",
    "- angl. Maximal flow problem\n",
    "- Formulacija: \n",
    "    - Usmerjen graf omrežja: $G=(V,E)$, izvor $s\\in V$, ponor $t\\in V$\n",
    "    - Maksimalni pretoki: $f:E \\to ℝ^+$\n",
    "    - Pretok $x:E \\to ℝ^+$,\n",
    "        - Omejitev kapacitete: $x_{uv}\\leq f_{uv}$ za vse $uv\\in E$ \n",
    "        - Ohranitev pretoka: za $u\\ne s$ in $v\\ne t$: $\\sum_{u:uv\\in E} x_{uv} = \\sum_{u:uv\\in E} x_{vu}$ \n",
    "        - Izvor, ponor: $\\sum_{v:sv\\in E} x_{sv} = \\sum_{u:ut\\in E} x_{ut}$ \n",
    "    - Velikost pretoka: $c(x)=\\sum_{v:sv\\in E} x_{sv}$  \n",
    "    - Optimizacijski problem:\n",
    "    $$ argmax_x⁡ c(x) $$\n",
    "\n",
    "\n",
    "- Algoritem reševanja:\n",
    "    - Algoritem Ford-Fulkerson ali simpleksni algoritem\n",
    "\n",
    "\n",
    "<p style=\"margin-bottom:2cm;\"></p>\n",
    "<div style=\"width:100%;text-align:right;font-weight:bold;font-size:1.2em;\"> 16 </div>\n",
    "<img src=\"https://raw.githubusercontent.com/andrejkk/ORvTK_SlidesImgs/master/footer_full.jpg\">"
   ]
  },
  {
   "cell_type": "markdown",
   "metadata": {
    "collapsed": true,
    "slideshow": {
     "slide_type": "slide"
    }
   },
   "source": [
    "<div style=\"display:flex;font-weight:bold;font-size:0.9em;\">\n",
    "<div style=\"flex:1;width:50%;\"> 5. Linearno programiranje (LP) </div>\n",
    "<div style=\"flex:1;width:50%;text-align:right;\"> 5.2. Primeri uporabe v TK </div>\n",
    "</div>\n",
    "\n",
    "\n",
    "## ■ Problem maksimalnega pretoka: algoritem\n",
    "\n",
    "- Psevdokoda Ford-Fulkerson\n",
    "\n",
    ">**Algorithm 1:** Ford-Fulkerson  \n",
    ">\n",
    ">**Require:** Graph $G=(V, E)$, node $s$, node $t$, capacity $f$  \n",
    ">**Ensure:** Maximal flow  \n",
    ">\n",
    ">1: Compute residual graph $G_f=(V, E_f)$ <br> \n",
    ">2: **for** (all $(uv)\\in E$) <br>\n",
    ">3: &emsp;$x_{uv}=0$ <br>\n",
    ">4: **while**(there is $p$ from BFS($G_f,s,t$)) <br>\n",
    ">5: &emsp;$c_f(p)) = \\min\\{c_f(u,v): (u,v)\\in p\\}$ <br>\n",
    ">6: &emsp;**for**(all $(uv)\\in p$) <br>\n",
    ">7: &emsp;&emsp;**if** (forward): $x_{uv}=x_{uv}+c_f(p)$ <br>\n",
    ">8: &emsp;&emsp;**if** (backward): $x_{vu}=x_{vu}-c_f(p)$ [cancellation]<br>\n",
    "\n",
    "\n",
    "<p style=\"margin-bottom:2cm;\"></p>\n",
    "<div style=\"width:100%;text-align:right;font-weight:bold;font-size:1.2em;\"> 17 </div>\n",
    "<img src=\"https://raw.githubusercontent.com/andrejkk/ORvTK_SlidesImgs/master/footer_full.jpg\">"
   ]
  },
  {
   "cell_type": "markdown",
   "metadata": {
    "collapsed": true,
    "slideshow": {
     "slide_type": "slide"
    }
   },
   "source": [
    "<div style=\"display:flex;font-weight:bold;font-size:0.9em;\">\n",
    "<div style=\"flex:1;width:50%;\"> 5. Linearno programiranje (LP) </div>\n",
    "<div style=\"flex:1;width:50%;text-align:right;\"> 5.2. Primeri uporabe v TK </div>\n",
    "</div>\n",
    "\n",
    "\n",
    "## ■ Problem najkrajše poti\n",
    "\n",
    "- Formulacija: \n",
    "    - Usmerjen graf omrežja: $G=(E,V)$, izvor $s\\in V$, ponor $t\\in V$\n",
    "    - Razdalje - uteži: $d: E \\to ℝ^+$\n",
    "    - Razdalja (cena) poti: $c(p) = \\sum_{uv\\in p} d_{uv}$  \n",
    "    - Optimizacijski problem:\n",
    "    $$ argmin_p c(p) $$\n",
    "\n",
    "\n",
    "- Algoritem:\n",
    "    - Algoritem Dijkstra ali simpleksni algoritem\n",
    "    \n",
    "    \n",
    "<p style=\"margin-bottom:2cm;\"></p>\n",
    "<div style=\"width:100%;text-align:right;font-weight:bold;font-size:1.2em;\"> 18 </div>\n",
    "<img src=\"https://raw.githubusercontent.com/andrejkk/ORvTK_SlidesImgs/master/footer_full.jpg\">"
   ]
  },
  {
   "cell_type": "markdown",
   "metadata": {
    "collapsed": true,
    "slideshow": {
     "slide_type": "slide"
    }
   },
   "source": [
    "<div style=\"display:flex;font-weight:bold;font-size:0.9em;\">\n",
    "<div style=\"flex:1;width:50%;\"> 5. Linearno programiranje (LP) </div>\n",
    "<div style=\"flex:1;width:50%;text-align:right;\"> 5.2. Primeri uporabe v TK </div>\n",
    "</div>\n",
    "\n",
    "\n",
    "## ■ Problem najkrajše poti: algoritem Dijkstra\n",
    "\n",
    "- Psevdokoda algoritem Dijsktra\n",
    "\n",
    ">**Algorithm 1:** Dijkstra  \n",
    ">\n",
    ">**Require:** Graph $G=(V, E)$, node $s$, node $t$ <br>\n",
    ">**Ensure:** shortest path  <br>\n",
    ">\n",
    ">1: $Q = createSet()$ <br> \n",
    ">2: **for** (all $(v\\in V$)) <br>\n",
    ">3: &emsp;$d[v]=\\infty$ <br>\n",
    ">4: &emsp;$Prev[v]=undef$ <br>\n",
    ">5: &emsp;$Q = insert(v, Q)$<br>\n",
    ">6: $d[s]=0$ <br>\n",
    ">7: **while**(**not** empty(Q)) <br>\n",
    ">8: &emsp;$u=argmin(d[v])$ <br>\n",
    ">9: &emsp;$remove(u, Q)$ <br>\n",
    ">10: &emsp;**for**(all $v\\in N(u)$) <br>\n",
    ">11: &emsp;&emsp; $alt = d[u] + len(u, v)$ <br>\n",
    ">12: &emsp;&emsp; **if**($alt < d[v]$) <br>\n",
    ">13: &emsp;&emsp;&emsp; $d[v]=alt$ <br>\n",
    ">14: &emsp;&emsp;&emsp; $prev[v]=u$ <br>\n",
    ">15: &emsp;&emsp;**end if** <br>\n",
    ">16: &emsp;**end for** <br>\n",
    ">17: **end while** <br>\n",
    ">18: **return** prev\n",
    "\n",
    "\n",
    "<p style=\"margin-bottom:2cm;\"></p>\n",
    "<div style=\"width:100%;text-align:right;font-weight:bold;font-size:1.2em;\"> 19 </div>\n",
    "<img src=\"https://raw.githubusercontent.com/andrejkk/ORvTK_SlidesImgs/master/footer_full.jpg\">"
   ]
  },
  {
   "cell_type": "markdown",
   "metadata": {
    "collapsed": true,
    "slideshow": {
     "slide_type": "slide"
    }
   },
   "source": [
    "<div style=\"display:flex;font-weight:bold;font-size:0.9em;\">\n",
    "<div style=\"flex:1;width:50%;\"> 5. Linearno programiranje (LP) </div>\n",
    "<div style=\"flex:1;width:50%;text-align:right;\"> 5.2. Primeri uporabe v TK </div>\n",
    "</div>\n",
    "\n",
    "\n",
    "## ■ Problem najcenejšega pretoka\n",
    "\n",
    "- angl. Minimum-cost flow problem\n",
    "- Formulacija: \n",
    "    - Usmerjen graf omrežja: $G=(V, E)$, izvor $s\\in V$, ponor $t\\in V$\n",
    "    - Kapaciteta: $f:E \\to ℝ^+$\n",
    "    - Pretok $x:E \\to ℝ^+$,\n",
    "        - Omejitev kapacitete: $x_{uv}\\leq f_{uv}$ za vse $uv\\in E$\n",
    "        - Ohranitev pretoka – „Kirchhoffov zakon“: $\\sum_{u:uv\\in E} x_{uv} = \\sum_{u:uv\\in E} x_{vu}$ \n",
    "        - Izvor: za prenos $d$ enot podatkov mora veljati $d=\\sum_{v:sv\\in E} x_{sv}$ \n",
    "        - Ponor: za prenos $d$ enot podatkov mora veljati $d=\\sum_{u:ut\\in E} x_{ut}$  \n",
    "    - Cena pretoka na enoto: $a : E \\to ℝ^+$\n",
    "    - Optimizacijski problem:\n",
    "    $$ \\matrix{\n",
    " & & argmin_x \\sum_{uv\\in E} x_{uv} a_{uv} \\cr \n",
    " & s.t. & \\cr\n",
    " & & \\mbox{zgornje omejitve} \\hfill\\cr}\n",
    " $$\n",
    "\n",
    "\n",
    "\n",
    "<p style=\"margin-bottom:2cm;\"></p>\n",
    "<div style=\"width:100%;text-align:right;font-weight:bold;font-size:1.2em;\"> 20 </div>\n",
    "<img src=\"https://raw.githubusercontent.com/andrejkk/ORvTK_SlidesImgs/master/footer_full.jpg\">"
   ]
  },
  {
   "cell_type": "markdown",
   "metadata": {
    "collapsed": true,
    "slideshow": {
     "slide_type": "slide"
    }
   },
   "source": [
    "<div style=\"display:flex;font-weight:bold;font-size:0.9em;\">\n",
    "<div style=\"flex:1;width:50%;\"> 5. Linearno programiranje (LP) </div>\n",
    "<div style=\"flex:1;width:50%;text-align:right;\"> 5.2. Primeri uporabe v TK </div>\n",
    "</div>\n",
    "\n",
    "\n",
    "## ■ Problem najcenejšega pretoka: algoritem\n",
    "\n",
    "- Algoritem reševanja:\n",
    "    - Simpleksni algoritem\n",
    "\n",
    "\n",
    "- Povezava z drugimi optimizacijskimi problem\n",
    "    - če odstranimo omejitve kapacitet, dobimo problem najkrajše poti\n",
    "    - če so cene povezav enake $0$, dobimo problem največjega pretoka\n",
    "\n",
    "\n",
    "<p style=\"margin-bottom:2cm;\"></p>\n",
    "<div style=\"width:100%;text-align:right;font-weight:bold;font-size:1.2em;\"> 21 </div>\n",
    "<img src=\"https://raw.githubusercontent.com/andrejkk/ORvTK_SlidesImgs/master/footer_full.jpg\">"
   ]
  },
  {
   "cell_type": "markdown",
   "metadata": {
    "collapsed": true,
    "slideshow": {
     "slide_type": "slide"
    }
   },
   "source": [
    "<div style=\"display:flex;font-weight:bold;font-size:0.9em;\">\n",
    "<div style=\"flex:1;width:50%;\"> 5. Linearno programiranje (LP) </div>\n",
    "<div style=\"flex:1;width:50%;text-align:right;\"> 5.2. Primeri uporabe v TK </div>\n",
    "</div>\n",
    "\n",
    "\n",
    "## ■ Problem nacenejšega prenosa večih entitet (1)\n",
    "\n",
    "\n",
    "- Ang: „minimum cost multicommodity netflow problem“\n",
    "- Cilj študije primera:\n",
    "    - Razumeti TK problem\n",
    "    - Razumeti konstrukcijo LP iz samega problema\n",
    "    - Potek reševanja obvladljivega primera\n",
    "\n",
    "\n",
    "<p style=\"margin-bottom:2cm;\"></p>\n",
    "<div style=\"width:100%;text-align:right;font-weight:bold;font-size:1.2em;\"> 22 </div>\n",
    "<img src=\"https://raw.githubusercontent.com/andrejkk/ORvTK_SlidesImgs/master/footer_full.jpg\">"
   ]
  },
  {
   "cell_type": "markdown",
   "metadata": {
    "collapsed": true,
    "slideshow": {
     "slide_type": "slide"
    }
   },
   "source": [
    "<div style=\"display:flex;font-weight:bold;font-size:0.9em;\">\n",
    "<div style=\"flex:1;width:50%;\"> 5. Linearno programiranje (LP) </div>\n",
    "<div style=\"flex:1;width:50%;text-align:right;\"> 5.2. Primeri uporabe v TK </div>\n",
    "</div>\n",
    "\n",
    "\n",
    "\n",
    "## ■ Problem nacenejšega prenosa večih entitet (2)\n",
    "\n",
    "- Postavitev problema: \n",
    "    - Omrežje je usmerjen graf: $G=(V, E)$, predstavljen z vpadno matriko $M$;\n",
    "    - Kapacitete povezav: $𝑓:𝐸 \\to ℝ_+$, oznaka $f_{uv}$;\n",
    "    - Odločitvena spremenljivka pretoka: $x:E\\times K \\to ℝ$, oznaka $x_{uv}^k$\n",
    "    - Množica entitet: $K=\\{(p^k, d^k, r^k, s^k, t^k): k=1,2,\\ldots, N\\}$, kjer je\n",
    "        - Cena usmerjanja: $p:E\\to ℝ_+$, oznaka $p_{uv}^k$;\n",
    "        - Vektor zahtev (angl. demand vector) $d^k$ število enot prometa entitete;\n",
    "        - Vektor potreb (angl. requirement vector) $r^k: r_{s^k}^k=+d^k$, $r_{t^k}=-d^k$ in $r_{u}^k=0$ sicer; \n",
    "        - Začetno vozlišče $s^k$, končno vozlišče $t^k$;\n",
    "\n",
    "\n",
    "\n",
    "<p style=\"margin-bottom:2cm;\"></p>\n",
    "<div style=\"width:100%;text-align:right;font-weight:bold;font-size:1.2em;\"> 23 </div>\n",
    "<img src=\"https://raw.githubusercontent.com/andrejkk/ORvTK_SlidesImgs/master/footer_full.jpg\">"
   ]
  },
  {
   "cell_type": "markdown",
   "metadata": {
    "collapsed": true,
    "slideshow": {
     "slide_type": "slide"
    }
   },
   "source": [
    "<div style=\"display:flex;font-weight:bold;font-size:0.9em;\">\n",
    "<div style=\"flex:1;width:50%;\"> 5. Linearno programiranje (LP) </div>\n",
    "<div style=\"flex:1;width:50%;text-align:right;\"> 5.2. Primeri uporabe v TK </div>\n",
    "</div>\n",
    "\n",
    "\n",
    "## ■ Problem nacenejšega prenosa večih entitet (2)\n",
    "\n",
    "- Optimizacijska naloga\n",
    "\n",
    "$$ \\matrix{\n",
    " & & argmin_x \\sum_{k\\in K}\\sum_{uv\\in E} p_{uv}^k x_{uv}^k, \\cr \n",
    " & s.t. & \\cr\n",
    " & & M.x = r \\hfill \\cr\n",
    " & & \\sum_{k\\in K} x_{uv}^k  \\leq f_{uv} \\hfill} $$\n",
    "\n",
    "kjer je $M$ vpadna matrika grafa omrežja.\n",
    "\n",
    "\n",
    "<p style=\"margin-bottom:2cm;\"></p>\n",
    "<div style=\"width:100%;text-align:right;font-weight:bold;font-size:1.2em;\"> 24 </div>\n",
    "<img src=\"https://raw.githubusercontent.com/andrejkk/ORvTK_SlidesImgs/master/footer_full.jpg\">"
   ]
  },
  {
   "cell_type": "markdown",
   "metadata": {
    "collapsed": true,
    "slideshow": {
     "slide_type": "slide"
    }
   },
   "source": [
    "<div style=\"display:flex;font-weight:bold;font-size:0.9em;\">\n",
    "<div style=\"flex:1;width:50%;\"> 5. Linearno programiranje (LP) </div>\n",
    "<div style=\"flex:1;width:50%;text-align:right;\"> 5.2. Primeri uporabe v TK </div>\n",
    "</div>\n",
    "\n",
    "\n",
    "## ■ Zaključek\n",
    "\n",
    "- Kaj je linearen problem\n",
    "- Osnovni pristop k rešitvi\n",
    "- TK primeri\n",
    "- Pomen teorije\n",
    "    - Konveksnosti\n",
    "    - Ekstremnih točk\n",
    "\n",
    "\n",
    "\n",
    "- Orodje: \n",
    "    - Lpsolve: http://lpsolve.sourceforge.net/5.5/ \n",
    "    - CPLEX: http://www-01.ibm.com/software/integration/optimization/cplex-optimizer/ \n",
    "\n",
    "\n",
    "<p style=\"margin-bottom:2cm;\"></p>\n",
    "<div style=\"width:100%;text-align:right;font-weight:bold;font-size:1.2em;\"> 25 </div>\n",
    "<img src=\"https://raw.githubusercontent.com/andrejkk/ORvTK_SlidesImgs/master/footer_full.jpg\">"
   ]
  },
  {
   "cell_type": "code",
   "execution_count": null,
   "metadata": {},
   "outputs": [],
   "source": []
  }
 ],
 "metadata": {
  "celltoolbar": "Slideshow",
  "kernelspec": {
   "display_name": "Python 3 (ipykernel)",
   "language": "python",
   "name": "python3"
  },
  "language_info": {
   "codemirror_mode": {
    "name": "ipython",
    "version": 3
   },
   "file_extension": ".py",
   "mimetype": "text/x-python",
   "name": "python",
   "nbconvert_exporter": "python",
   "pygments_lexer": "ipython3",
   "version": "3.9.7"
  }
 },
 "nbformat": 4,
 "nbformat_minor": 2
}
