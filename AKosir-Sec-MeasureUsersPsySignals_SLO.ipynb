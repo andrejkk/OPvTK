{
 "cells": [
  {
   "cell_type": "markdown",
   "metadata": {
    "collapsed": true,
    "slideshow": {
     "slide_type": "slide"
    }
   },
   "source": [
    "<img style=\"float: center; width: 100%\" src=\"https://raw.githubusercontent.com/andrejkk/TalksImgs/master/FrontSlideUpperBan.png\">\n",
    "<p style=\"margin-bottom:2cm;\"></p>\n",
    "\n",
    "<center>\n",
    "    <H1> Merjenje uporabnikov: psihofiziološki signali </H1>\n",
    "   \n",
    "\n",
    "\n",
    "<br><br>\n",
    "    <H3> Andrej Košir, Lucami, FE </H3>\n",
    "    <H4> Kontakt: prof. dr. Andrej Košir, andrej.kosir@lucami.fe.uni-lj.si, skype=akosir_sid </H4>\n",
    "</center>\n",
    "\n",
    "\n",
    "<p style=\"margin-bottom:2cm;\"></p>\n",
    "<div style=\"width:100%;text-align:right;font-weight:bold;font-size:1.2em;\"> 1 </div>\n",
    "<img src=\"https://raw.githubusercontent.com/andrejkk/ORvTK_SlidesImgs/master/footer_full.jpg\">"
   ]
  },
  {
   "cell_type": "markdown",
   "metadata": {
    "slideshow": {
     "slide_type": "slide"
    }
   },
   "source": [
    "<div style=\"display:flex;font-weight:bold;font-size:0.9em;\">\n",
    "<div style=\"flex:1;width:50%;text-align:left;\"> Cilji, ponudba </div>\n",
    "</div>\n",
    "\n",
    "\n",
    "## Cilji \n",
    "\n",
    "- spoznati osnovne psihofiziološke signale in njihovo uporabnost pri spremljanju uporabnikov\n",
    "- spoznati izbrane senzorje psihofizioloških isgnalov\n",
    "- spoznati osnovne tehnike modeliranja psihofizioloških signalov s strojnim učenjem \n",
    "\n",
    "\n",
    "\n",
    "<p style=\"margin-bottom:1cm;\"></p>\n",
    "<div style=\"width:100%;text-align:right;font-weight:bold;font-size:1.2em;\"> 2 </div>\n",
    "<img src=\"https://raw.githubusercontent.com/andrejkk/ORvTK_SlidesImgs/master/footer_full.jpg\">"
   ]
  },
  {
   "cell_type": "markdown",
   "metadata": {
    "slideshow": {
     "slide_type": "slide"
    }
   },
   "source": [
    "<div style=\"display:flex;font-weight:bold;font-size:0.9em;\">\n",
    "<div style=\"flex:1;width:50%;text-align:right;\"> Cilji, ponudba </div>\n",
    "</div>\n",
    "\n",
    "\n",
    "## Vsebina\n",
    "\n",
    "■ Fiziologija človeka in psihofiziološki signali $\\large{*}$\n",
    "\n",
    "■ Socialni signali uporabnika $\\large{*}$\n",
    "\n",
    "■ Ocenjevanje socialnih signalov uporabnika $\\large{*}$\n",
    "\n",
    "■ Čustva: merjenje signalov\n",
    "\n",
    "■ Kognitivna obremenitev: merjenje signalov\n",
    "\n",
    "■ Pozornost: merjenje signalov\n",
    "\n",
    "■ Stres: merjenje signalov\n",
    "\n",
    "■ Senzorji za psiho-fiziološke signale\n",
    "\n",
    "■ Zaključek\n",
    "\n",
    "\n",
    "<p style=\"margin-bottom:1cm;\"></p>\n",
    "<div style=\"width:100%;text-align:right;font-weight:bold;font-size:1.2em;\"> 2 </div>\n",
    "<img src=\"https://raw.githubusercontent.com/andrejkk/ORvTK_SlidesImgs/master/footer_full.jpg\">"
   ]
  },
  {
   "cell_type": "markdown",
   "metadata": {
    "slideshow": {
     "slide_type": "slide"
    }
   },
   "source": [
    "<div style=\"display:flex;font-weight:bold;font-size:0.9em;\">\n",
    "<div style=\"flex:1;width:50%;text-align:right;\"> Merjenje uporabnikov: psihofiziološki signali  </div>\n",
    "</div>\n",
    "\n",
    "\n",
    "# ■ Fiziologija človeka in psihofiziološki signali\n",
    "\n",
    "\n",
    "#### Def. Psihofiziologija je znanstvena disciplina, ki raziskuje odnos med psihofiziologijo in kognitivnimi procesi.\n",
    "\n",
    "#### Def. Socialni signali uporabnika so merljivi signali uporabnikov, ki so povezani ali podajajo njegova fiziološka stanja. \n",
    "\n",
    "#### Pomembna spoznanja:\n",
    " - psihofiziološki signali so neposredno merljivi\n",
    " - merijo hitre spremembe v človeku - uporabniku\n",
    " - Obstaja povezava med psihofiziološkimi signali in kognitivnimi procesi\n",
    " \n",
    " \n",
    " \n",
    "#### Pomembni fiziološki signali za komunikacijo\n",
    " - Signali oči: velikost zenice, pogled, utripanje, ...\n",
    " - Signali srca: HR, ...\n",
    " - Signali kože: elektrodermalna aktivnost\n",
    " \n",
    " \n",
    " \n",
    "#### Pomembne meritve - ocene:\n",
    " - Afektivna in čustvena stanja\n",
    " - kognitivna obremenitev\n",
    " - stres\n",
    " - pozornost \n",
    " - angažiranost\n",
    " - multimedijska izpostavljenost\n",
    " \n",
    " \n",
    "\n",
    "\n",
    "\n",
    "<p style=\"margin-bottom:1cm;\"></p>\n",
    "<div style=\"width:100%;text-align:right;font-weight:bold;font-size:1.2em;\"> 3 </div>\n",
    "<img src=\"https://raw.githubusercontent.com/andrejkk/ORvTK_SlidesImgs/master/footer_full.jpg\">"
   ]
  },
  {
   "cell_type": "markdown",
   "metadata": {
    "slideshow": {
     "slide_type": "slide"
    }
   },
   "source": [
    "<div style=\"display:flex;font-weight:bold;font-size:0.9em;\">\n",
    "<div style=\"flex:1;width:50%;text-align:right;\"> Merjenje uporabnikov: psihofiziološki signali  </div>\n",
    "</div>\n",
    "\n",
    "\n",
    "# ■ Socialni signali uporabnika\n",
    "\n",
    "#### Def.: Socialni signali so vse kar ostane od komunikacije med človekom in njegovim sogovornikom (človekom ali strojem) ko izločimo pomen govora. Ostane barva glasu, ritem govora, izraz na obrazu, geste itd. Uporabljamo tudi izraz \"neverbalna komunikacija\". \n",
    "\n",
    "#### Def.: Izraz sogovornik uporabljamo za vse komunikacijske entitete - človeka, stroj, storitev. \n",
    "\n",
    "<img style=\"float: center; width: 65%\" src=\"https://raw.githubusercontent.com/andrejkk/UPK_DataImgs/master/SoialSignals-Concept_SLO.png\">\n",
    "\n",
    "<br>\n",
    "\n",
    "##### Primeri socialnih signalov so:\n",
    "- zadovoljstvo\n",
    "- radovednost\n",
    "- oklevanje\n",
    "- ...\n",
    "\n",
    "<br>\n",
    "\n",
    "**Socialni signali** se s **časom spreminjajo**, lahko s precej različno hitrostjo.  \n",
    "\n",
    "\n",
    "##### Uporabnost\n",
    "\n",
    "Socialni signali so uporabni za\n",
    "- **komunikacijo v realnem času**: pomembna obogatitev vsebine\n",
    "- **prilagajanje uporabniku**: razumevanje stanja uporabnika v realnem čas\n",
    " \n",
    "\n",
    "\n",
    "\n",
    "<p style=\"margin-bottom:1cm;\"></p>\n",
    "<div style=\"width:100%;text-align:right;font-weight:bold;font-size:1.2em;\"> 3 </div>\n",
    "<img src=\"https://raw.githubusercontent.com/andrejkk/ORvTK_SlidesImgs/master/footer_full.jpg\">"
   ]
  },
  {
   "cell_type": "markdown",
   "metadata": {
    "slideshow": {
     "slide_type": "slide"
    }
   },
   "source": [
    "<div style=\"display:flex;font-weight:bold;font-size:0.9em;\">\n",
    "<div style=\"flex:1;width:50%;text-align:right;\"> Merjenje uporabnikov: psihofiziološki signali  </div>\n",
    "</div>\n",
    "\n",
    "\n",
    "# ■ Ocenjevanje socialnih signalov uporabnika \n",
    "\n",
    "\n",
    "### Pristopi s strojnim in statističnim učenjem\n",
    "\n",
    "Cilj ocenjevanja - dve možnosti: \n",
    "1. Ocena kvantitativne vrednosti socialnega signala na danem intervalu, npr. na $[1, 5]$;\n",
    "2. Klasifikacija socialnega signala v izbrane razrede, npr _{nizko, srednje, visoko}_\n",
    "\n",
    "\n",
    "### Dva koraka\n",
    "\n",
    "1. Določanje značilk\n",
    "2. Ocena / klasifikacija - strojno in statistično učenje\n",
    "\n",
    "2.1. Ocenjevanje socianega signala - modeli:\n",
    "- linearna regresija\n",
    "- nelinearni modeli\n",
    "- modeli napovedovanja časovnih vrst\n",
    "2.2. Klasifikacija socailanih signalov - strojno učenje:\n",
    "- globoko učenje (ne zahteva določanja značilk)\n",
    "- Metoda podpornih vektorjev\n",
    "- Odločitvena drevesa\n",
    "\n",
    "\n",
    "\n",
    "Koncept ocenjevanja je na voljo na spodnji sliki.\n",
    "\n",
    "<figure>\n",
    "  <img src=\"https://raw.githubusercontent.com/andrejkk/ORvTK_SlidesImgs/master/SocSigsFromPsySigs.png\" width=\"60%\">\n",
    "  <figcaption>Vir: Shu: A Review of Emotion Recognition Using Physiological Signals, Sensors, 2018.</figcaption>\n",
    "</figure>\n",
    "\n",
    "\n",
    "\n",
    "<p style=\"margin-bottom:1cm;\"></p>\n",
    "<div style=\"width:100%;text-align:right;font-weight:bold;font-size:1.2em;\"> 3 </div>\n",
    "<img src=\"https://raw.githubusercontent.com/andrejkk/ORvTK_SlidesImgs/master/footer_full.jpg\">"
   ]
  },
  {
   "cell_type": "markdown",
   "metadata": {
    "slideshow": {
     "slide_type": "slide"
    }
   },
   "source": [
    "<div style=\"display:flex;font-weight:bold;font-size:0.9em;\">\n",
    "<div style=\"flex:1;width:50%;text-align:right;\"> Merjenje uporabnikov: psihofiziološki signali  </div>\n",
    "</div>\n",
    "\n",
    " \n",
    "# ■ Čustva: merjenje signalov\n",
    "\n",
    "\n",
    "#### Signali za merjenje čustev\n",
    "\n",
    "\n",
    "Za komunikacije merljivi signali z dovolj nizko intruzivnostjo:\n",
    "- Velikost zenice\n",
    "- Elektrodermalna aktivnost kože\n",
    "- Srčni utrip \n",
    "- hitrost dihanja\n",
    "\n",
    "\n",
    "\n",
    "<br><br>\n",
    "<figure>\n",
    "  <img src=\"https://raw.githubusercontent.com/andrejkk/ORvTK_SlidesImgs/master/HumanPsychoFiziologyEmotions.png\" width=\"80%\">\n",
    "  <figcaption>Vir: Shu: A Review of Emotion Recognition Using Physiological Signals, Sensors, 2018.</figcaption>\n",
    "</figure>\n",
    "\n",
    "\n",
    "\n",
    "\n",
    "<p style=\"margin-bottom:1cm;\"></p>\n",
    "<div style=\"width:100%;text-align:right;font-weight:bold;font-size:1.2em;\"> 3 </div>\n",
    "<img src=\"https://raw.githubusercontent.com/andrejkk/ORvTK_SlidesImgs/master/footer_full.jpg\">"
   ]
  },
  {
   "cell_type": "markdown",
   "metadata": {
    "slideshow": {
     "slide_type": "slide"
    }
   },
   "source": [
    "<div style=\"display:flex;font-weight:bold;font-size:0.9em;\">\n",
    "<div style=\"flex:1;width:50%;text-align:right;\"> Merjenje uporabnikov: psihofiziološki signali  </div>\n",
    "</div>\n",
    "\n",
    "\n",
    "# ■ Kognitivna obremenitev: merjenje signalov \n",
    "\n",
    "\n",
    "#### Signali za merjenje\n",
    "- velikost zenice\n",
    "- elektrodermalna aktivnost (EDA)\n",
    "- srčni utrip\n",
    "\n",
    "\n",
    "<br><br>\n",
    "<figure>\n",
    "  <img src=\"https://raw.githubusercontent.com/andrejkk/ORvTK_SlidesImgs/master/PsySignalsCognitiveLoad.jpg\" width=\"50%\">\n",
    "  <figcaption>Vir: Ahmad in dr: A framework to estimate cognitive load using physiological data, Personal and Ubiquitous Computing, 2020.<br>\n",
    "      Vir: Johanseen: Psychophysiologic measures of cognitive load in physician team leaders\n",
    "during trauma resuscitation, Computers in human behaviour, 2020.\n",
    "    </figcaption>\n",
    "</figure>\n",
    "\n",
    "\n",
    "\n",
    "\n",
    "\n",
    "<p style=\"margin-bottom:1cm;\"></p>\n",
    "<div style=\"width:100%;text-align:right;font-weight:bold;font-size:1.2em;\"> 3 </div>\n",
    "<img src=\"https://raw.githubusercontent.com/andrejkk/ORvTK_SlidesImgs/master/footer_full.jpg\">"
   ]
  },
  {
   "cell_type": "markdown",
   "metadata": {
    "slideshow": {
     "slide_type": "slide"
    }
   },
   "source": [
    "<div style=\"display:flex;font-weight:bold;font-size:0.9em;\">\n",
    "<div style=\"flex:1;width:50%;text-align:right;\"> Merjenje uporabnikov: psihofiziološki signali  </div>\n",
    "</div>\n",
    "\n",
    "\n",
    "# ■ Pozornost: merjenje signalov \n",
    "\n",
    "\n",
    "#### Signali za merjenje pozornosti:\n",
    "- velikost zenice\n",
    "- srčni utrip\n",
    "- elektrodermalna aktivnost\n",
    "\n",
    "\n",
    "<br><br>\n",
    "<figure>\n",
    "  <img src=\"https://raw.githubusercontent.com/andrejkk/ORvTK_SlidesImgs/master/PsySignalsAttention.png\" width=\"40%\">\n",
    "  <figcaption>Vir: Gamboa: Attention Classification Based on Biosignals during Standard\n",
    "Cognitive Tasks for Occupational Domains, Computers, 2022.</figcaption>\n",
    "</figure>\n",
    "\n",
    "\n",
    "\n",
    "\n",
    "\n",
    "<p style=\"margin-bottom:1cm;\"></p>\n",
    "<div style=\"width:100%;text-align:right;font-weight:bold;font-size:1.2em;\"> 3 </div>\n",
    "<img src=\"https://raw.githubusercontent.com/andrejkk/ORvTK_SlidesImgs/master/footer_full.jpg\">"
   ]
  },
  {
   "cell_type": "markdown",
   "metadata": {
    "slideshow": {
     "slide_type": "slide"
    }
   },
   "source": [
    "<div style=\"display:flex;font-weight:bold;font-size:0.9em;\">\n",
    "<div style=\"flex:1;width:50%;text-align:right;\"> Merjenje uporabnikov: psihofiziološki signali  </div>\n",
    "</div>\n",
    "\n",
    "\n",
    "# ■ Stres: merjenje signalov \n",
    "\n",
    "\n",
    "#### Signali za merjenje stresa\n",
    "- elektrodermlna aktivnost\n",
    "- velikost zenice\n",
    "- temperatura\n",
    "- hitrost dihanja \n",
    "\n",
    "\n",
    "<br><br>\n",
    "<figure>\n",
    "  <img src=\"https://raw.githubusercontent.com/andrejkk/ORvTK_SlidesImgs/master/HumanPsychoFiziologyStress.png\" width=\"40%\">\n",
    "  <figcaption>Vir: Vir: Giannakakis: Review on Psychological Stress Detection Using Biosignals, IEEE TRANSACTIONS ON AFFECTIVE COMPUTING, 2022.</figcaption>\n",
    "</figure>\n",
    "\n",
    "\n",
    "\n",
    "\n",
    "\n",
    "<p style=\"margin-bottom:1cm;\"></p>\n",
    "<div style=\"width:100%;text-align:right;font-weight:bold;font-size:1.2em;\"> 3 </div>\n",
    "<img src=\"https://raw.githubusercontent.com/andrejkk/ORvTK_SlidesImgs/master/footer_full.jpg\">"
   ]
  },
  {
   "cell_type": "markdown",
   "metadata": {
    "slideshow": {
     "slide_type": "slide"
    }
   },
   "source": [
    "<div style=\"display:flex;font-weight:bold;font-size:0.9em;\">\n",
    "<div style=\"flex:1;width:50%;text-align:right;\"> Merjenje uporabnikov: psihofiziološki signali  </div>\n",
    "</div>\n",
    "\n",
    "\n",
    "# ■ Senzorji za psiho-fiziološke signale\n",
    "\n",
    "\n",
    "### Zahteve za senzorje\n",
    "\n",
    "1. Nadležnost je sprejemljiva\n",
    "\n",
    "\n",
    "\n",
    "2. Dostop do podatkov - oblak ali lokalno\n",
    "    - zanesljiv \n",
    "    - varovanje osebnih podatkov (GDPR)\n",
    "\n",
    "\n",
    "3. Časovna sinhronizacija: napake do 50 ms\n",
    "\n",
    "\n",
    "#### Tobii senzor oči\n",
    "\n",
    "##### Meri: velikost zenice, pogled\n",
    "\n",
    "\n",
    "<br><br>\n",
    "<figure>\n",
    "  <img src=\"https://raw.githubusercontent.com/andrejkk/ORvTK_SlidesImgs/master/SensorTobiiEyeTrackerNano.jpg\" width=\"80%\">\n",
    "  <figcaption>Vir: https://www.tobiipro.com/product-listing/nano/ </figcaption>\n",
    "</figure>\n",
    "\n",
    "\n",
    "\n",
    "#### Tobi očala\n",
    "\n",
    "##### Meri: velikost zenice, pogled, pospešek glave, giroskopspe podatke\n",
    "\n",
    "\n",
    "<br><br>\n",
    "<figure>\n",
    "  <img src=\"https://raw.githubusercontent.com/andrejkk/ORvTK_SlidesImgs/master/SensorTobiiGlasses3.jpg\" width=\"40%\">\n",
    "  <figcaption>Vir: https://www.tobiipro.com/product-listing/tobii-pro-glasses-3/ </figcaption>\n",
    "</figure>\n",
    "\n",
    "\n",
    "\n",
    "\n",
    "\n",
    "#### Empatica\n",
    "\n",
    "##### Meri: EDA, HR, temperatura, pospešek\n",
    "\n",
    "\n",
    "<br><br>\n",
    "<figure>\n",
    "  <img src=\"https://raw.githubusercontent.com/andrejkk/ORvTK_SlidesImgs/master/SensorEmpaticaE4.jpg\" width=\"20%\">\n",
    "  <figcaption>Vir: https://www.empatica.com/research/e4/ </figcaption>\n",
    "</figure>\n",
    "\n",
    "\n",
    "\n",
    "\n",
    "\n",
    "\n",
    "<p style=\"margin-bottom:1cm;\"></p>\n",
    "<div style=\"width:100%;text-align:right;font-weight:bold;font-size:1.2em;\"> 3 </div>\n",
    "<img src=\"https://raw.githubusercontent.com/andrejkk/ORvTK_SlidesImgs/master/footer_full.jpg\">"
   ]
  },
  {
   "cell_type": "markdown",
   "metadata": {
    "slideshow": {
     "slide_type": "slide"
    }
   },
   "source": [
    "<div style=\"display:flex;font-weight:bold;font-size:0.9em;\">\n",
    "<div style=\"flex:1;width:50%;text-align:right;\"> Merjenje uporabnikov: psihofiziološki signali  </div>\n",
    "</div>\n",
    "\n",
    "\n",
    "# ■ Zaključek\n",
    "\n",
    "\n",
    "- Psihofiziološki senzorji omogočajo oceno izbranih socialnih signalov blisu realnega časa\n",
    "- Bistvena je nadležnost senzorja: primernost za realne aplikacije\n",
    "\n",
    "\n",
    "\n",
    "\n",
    "\n",
    "<p style=\"margin-bottom:1cm;\"></p>\n",
    "<div style=\"width:100%;text-align:right;font-weight:bold;font-size:1.2em;\"> 3 </div>\n",
    "<img src=\"https://raw.githubusercontent.com/andrejkk/ORvTK_SlidesImgs/master/footer_full.jpg\">"
   ]
  },
  {
   "cell_type": "code",
   "execution_count": null,
   "metadata": {},
   "outputs": [],
   "source": []
  }
 ],
 "metadata": {
  "celltoolbar": "Slideshow",
  "kernelspec": {
   "display_name": "Python 3 (ipykernel)",
   "language": "python",
   "name": "python3"
  },
  "language_info": {
   "codemirror_mode": {
    "name": "ipython",
    "version": 3
   },
   "file_extension": ".py",
   "mimetype": "text/x-python",
   "name": "python",
   "nbconvert_exporter": "python",
   "pygments_lexer": "ipython3",
   "version": "3.9.7"
  }
 },
 "nbformat": 4,
 "nbformat_minor": 2
}
