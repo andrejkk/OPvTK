{
 "cells": [
  {
   "cell_type": "markdown",
   "metadata": {
    "collapsed": true,
    "slideshow": {
     "slide_type": "slide"
    }
   },
   "source": [
    "<img style=\"float: center; width: 100%\" src=\"https://raw.githubusercontent.com/andrejkk/TalksImgs/master/FrontSlideUpperBan.png\">\n",
    "<p style=\"margin-bottom:2cm;\"></p>\n",
    "\n",
    "<center>\n",
    "    <H1> 2. Optimizacijska naloga </H1>\n",
    "   \n",
    "\n",
    "\n",
    "<br><br>\n",
    "    <H3> Andrej Košir, Lucami, FE </H3>\n",
    "    <H4> Kontakt: prof. dr. Andrej Košir, andrej.kosir@lucami.fe.uni-lj.si, skype=akosir_sid </H4>\n",
    "</center>\n",
    "\n",
    "\n",
    "\n",
    "\n",
    "\n",
    "<p style=\"margin-bottom:2cm;\"></p>\n",
    "<div style=\"width:100%;text-align:right;font-weight:bold;font-size:1.2em;\"> 1 </div>\n",
    "<img src=\"https://raw.githubusercontent.com/andrejkk/ORvTK_SlidesImgs/master/footer_full.jpg\">"
   ]
  },
  {
   "cell_type": "markdown",
   "metadata": {
    "slideshow": {
     "slide_type": "slide"
    }
   },
   "source": [
    "<div style=\"display:flex;font-weight:bold;font-size:0.9em;\">\n",
    "<div style=\"flex:1;width:50%;\"> 2. Optimizacijska naloga </div>\n",
    "<div style=\"flex:1;width:50%;text-align:right;\"> Cilji </div>\n",
    "</div>\n",
    "\n",
    "\n",
    "## Cilji poglavja\n",
    "\n",
    "- Spoznati formulacijo optimizacijske naloge v splošnem\n",
    "- Razumeti pomen\n",
    "    - Optimizacijskega prostora\n",
    "    - Kriterijske funkcije\n",
    "    - Omejitev pri optimizaciji ter dopustnih rešitev\n",
    "\n",
    "\n",
    "\n",
    "\n",
    "<p style=\"margin-bottom:1cm;\"></p>\n",
    "<div style=\"width:100%;text-align:right;font-weight:bold;font-size:1.2em;\"> 2 </div>\n",
    "<img src=\"https://raw.githubusercontent.com/andrejkk/ORvTK_SlidesImgs/master/footer_full.jpg\">"
   ]
  },
  {
   "cell_type": "markdown",
   "metadata": {
    "slideshow": {
     "slide_type": "slide"
    }
   },
   "source": [
    "<div style=\"display:flex;font-weight:bold;font-size:0.9em;\">\n",
    "<div style=\"flex:1;width:50%;\"> 2. Optimizacijska naloga </div>\n",
    "<div style=\"flex:1;width:50%;text-align:right;\"> Cilji </div>\n",
    "</div>\n",
    "\n",
    "\n",
    "## Poglavja\n",
    "\n",
    "### 2.1. Definicija optimizacijske naloge\n",
    "\n",
    "■ Definicija $\\large{*}$\n",
    "\n",
    "■ Izbrane lastnosti optimizacijske naloge $\\large{*}$\n",
    "\n",
    "\n",
    "### 2.2. Rešljivost in reševanje optimizacijske naloge\n",
    "\n",
    "■ Rešljivost $\\large{*}$\n",
    "\n",
    "■ Algoritmi za reševanje optimizacijske naloge $\\large{*}$\n",
    "\n",
    "■ Orodja za reševanje optimizacijske naloge $\\large{*}$\n",
    "\n",
    "\n",
    "<p style=\"margin-bottom:1cm;\"></p>\n",
    "<div style=\"width:100%;text-align:right;font-weight:bold;font-size:1.2em;\"> 3 </div>\n",
    "<img src=\"https://raw.githubusercontent.com/andrejkk/ORvTK_SlidesImgs/master/footer_full.jpg\">"
   ]
  },
  {
   "cell_type": "markdown",
   "metadata": {
    "slideshow": {
     "slide_type": "slide"
    }
   },
   "source": [
    "<div style=\"display:flex;font-weight:bold;font-size:0.9em;\">\n",
    "<div style=\"flex:1;width:50%;\"> 2. Optimizacijska naloga  </div>\n",
    "<div style=\"flex:1;width:50%;text-align:right;\"> 2.1. Definicija optimizacijske naloge </div>\n",
    "</div>\n",
    "\n",
    "\n",
    "## ■ Definicija optimizacijske naloge (1)\n",
    "\n",
    "\n",
    "- Natančna formulacija je pomembna zato, ker lastnosti vključenih funkcij in množic odločajo o izboru algoritmov, ki jih lahko uporabimo\n",
    "\n",
    " - **Definicija (Optimizacijska naloga)** <p>\n",
    " Naj bo $\\Omega$ množica rešitev in $X\\subset\\Omega$ množica dopustnih rešitev. Definirana naj bo kriterijska funkcija \n",
    "    $$ c: X \\to ℝ. $$\n",
    "Naj bo $\\Phi$ predikat dopustnosti, definiran na množici rešitev $\\Omega$ . Dopustne so tiste rešitve iz $\\Omega$, ki zadoščajo predikatu dopustnosti, torej\n",
    "    $$ X = \\{x\\in\\Omega: \\Phi(𝑥)\\}. $$\n",
    "\n",
    "\n",
    "- Označimo\t\n",
    "$$ argmin(X, c)= \\{ x\\in X: \\forall y\\in X, c(y)\\geq c(x) \\} $$\n",
    "in \n",
    "$$ min(𝑋, c) = \\{ c(x): x \\in X, \\forall y\\in X, c(y)\\geq c(x) \\}. $$\n",
    "\n",
    "- Ni nujno ena sama rešitev!\n",
    "\n",
    "\n",
    "<p style=\"margin-bottom:1cm;\"></p>\n",
    "<div style=\"width:100%;text-align:right;font-weight:bold;font-size:1.2em;\"> 4 </div>\n",
    "<img src=\"https://raw.githubusercontent.com/andrejkk/ORvTK_SlidesImgs/master/footer_full.jpg\">"
   ]
  },
  {
   "attachments": {},
   "cell_type": "markdown",
   "metadata": {
    "slideshow": {
     "slide_type": "slide"
    }
   },
   "source": [
    "<div style=\"display:flex;font-weight:bold;font-size:0.9em;\">\n",
    "<div style=\"flex:1;width:50%;\"> 2. Optimizacijska naloga  </div>\n",
    "<div style=\"flex:1;width:50%;text-align:right;\"> 2.1. Definicija optimizacijske naloge </div>\n",
    "</div>\n",
    "\n",
    "\n",
    "## ■ Definicija optimizacijske naloge (2)\n",
    "\n",
    "- Definiramo še \n",
    "$$ argmax(X, c) = argmin(X, -c) $$\n",
    "$$ min(X, c) = -max(X, -c)$$\n",
    "\n",
    "\n",
    "- Optimizacijska naloga je\n",
    "$$ (\\Omega, \\Phi, c, F), $$\n",
    "kjer je\n",
    "$$ F\\in \\{argmin, argmax\\}. $$\n",
    "\n",
    "\n",
    "- Rešitev optimizacijske naloge $(\\Omega, \\Phi, c, F)$ je eno od \n",
    "    - $argmin(X, c)$\n",
    "    - $argmax(X, c)$\n",
    "    - $x\\in X$, za katerega je razlika $x - argmin(X, c)$ ali $x - argmax(X, c)$ dovolj majhna\n",
    "\n",
    "\n",
    "- Navadno označimo\n",
    "$$ x^* = argmin(X, c) \\qquad\\text{ali}\\qquad x^* = argmax(X, c). $$\n",
    "\n",
    "\n",
    "\n",
    "<p style=\"margin-bottom:1cm;\"></p>\n",
    "<div style=\"width:100%;text-align:right;font-weight:bold;font-size:1.2em;\"> 5 </div>\n",
    "<img src=\"https://raw.githubusercontent.com/andrejkk/ORvTK_SlidesImgs/master/footer_full.jpg\">"
   ]
  },
  {
   "cell_type": "code",
   "execution_count": 1,
   "metadata": {},
   "outputs": [
    {
     "name": "stdout",
     "output_type": "stream",
     "text": [
      "Optimization terminated successfully    (Exit mode 0)\n",
      "            Current function value: -3.062499999999999\n",
      "            Iterations: 2\n",
      "            Function evaluations: 6\n",
      "            Gradient evaluations: 2\n",
      "Results:  [1.75 1.75]\n"
     ]
    }
   ],
   "source": [
    "# Volume maximization expample: constrained optimisation\n",
    "import numpy as np\n",
    "from scipy.optimize import minimize\n",
    "\n",
    "# Cost function\n",
    "def V2D(x):\n",
    "    return -x[0]*x[1]\n",
    "\n",
    "# Constraints\n",
    "cons = ({'type': 'eq', 'fun' : lambda x: np.array([2*x[0] + 2*x[1] - l])})\n",
    "\n",
    "# Initial value\n",
    "l = 7.0\n",
    "x0 = np.array([1, 1])\n",
    "\n",
    "# Optimisation\n",
    "res = minimize(V2D, x0, constraints=cons, options={'disp': True})\n",
    "\n",
    "print ('Results: ', res.x)"
   ]
  },
  {
   "cell_type": "code",
   "execution_count": 2,
   "metadata": {},
   "outputs": [
    {
     "name": "stdout",
     "output_type": "stream",
     "text": [
      "Optimization terminated successfully.\n",
      "         Current function value: -3.062500\n",
      "         Iterations: 2\n",
      "         Function evaluations: 6\n",
      "         Gradient evaluations: 3\n",
      "Result:  [1.75]\n"
     ]
    }
   ],
   "source": [
    "# Volume maximization expample: Unconstrained optimisation\n",
    "import numpy as np\n",
    "from scipy.optimize import minimize\n",
    "\n",
    "\n",
    "# Cost function\n",
    "def V1D(a, l):\n",
    "    return -a*(l/2-a)\n",
    "\n",
    "# Initial value\n",
    "l, h = 7.0, 3.0\n",
    "a0 = np.array([1])\n",
    "\n",
    "# Optimisation\n",
    "res = minimize(V1D, a0, l, options={'gtol': 1e-6, 'disp': True})\n",
    "\n",
    "print ('Result: ', res.x)"
   ]
  },
  {
   "cell_type": "markdown",
   "metadata": {
    "slideshow": {
     "slide_type": "slide"
    }
   },
   "source": [
    "<div style=\"display:flex;font-weight:bold;font-size:0.9em;\">\n",
    "<div style=\"flex:1;width:50%;\"> 2. Optimizacijska naloga  </div>\n",
    "<div style=\"flex:1;width:50%;text-align:right;\"> 2.1. Definicija optimizacijske naloge </div>\n",
    "</div>\n",
    "\n",
    "\n",
    "\n",
    "## ■ Izbrane lastnosti optimizacijske naloge (1)\n",
    "\n",
    "- Optimizacijski prostor $X$:\n",
    "    - Zvezen: podmnožica $ℝ^n$\n",
    "        - Primeri: ravnina, prostor, …\n",
    "    - Diskreten: končno ali števno mnogo točk.\n",
    "        - Primeri: Naravna števila $ℕ$ mreža $ℕ^n$, množica poti v grafu, …\n",
    "        \n",
    "        \n",
    "- Kriterijske funkcije $c:X \\to ℝ$\n",
    "    - Linearna?\n",
    "    - Zvezna \n",
    "    - Odvedljiva\n",
    "    - Zvezno odvedljiva\n",
    "    - Nič od tega\n",
    "    \n",
    "    \n",
    "- Zgoraj našteti lastnosti v veliki meri določata izbor algoritma za reševanje optimizacijske naloge\n",
    "\n",
    "\n",
    "<p style=\"margin-bottom:1cm;\"></p>\n",
    "<div style=\"width:100%;text-align:right;font-weight:bold;font-size:1.2em;\"> 6 </div>\n",
    "<img src=\"https://raw.githubusercontent.com/andrejkk/ORvTK_SlidesImgs/master/footer_full.jpg\">"
   ]
  },
  {
   "cell_type": "markdown",
   "metadata": {
    "slideshow": {
     "slide_type": "slide"
    }
   },
   "source": [
    "<div style=\"display:flex;font-weight:bold;font-size:0.9em;\">\n",
    "<div style=\"flex:1;width:50%;\"> 2. Optimizacijska naloga  </div>\n",
    "<div style=\"flex:1;width:50%;text-align:right;\"> 2.1. Definicija optimizacijske naloge </div>\n",
    "</div>\n",
    "\n",
    "\n",
    "\n",
    "\n",
    "## ■ Izbrane lastnosti optimizacijske naloge (2)\n",
    "\n",
    "- Komponiranje kriterijske funkcije - **POENOSTAVITEV - reformulacija optimizacijske naloge**: \n",
    "    - Zahtevamo, da definicijsko območje $D_\\varphi$ leži znotraj slike kriterijske funkcije $Im(c)$, \n",
    "        $$ Im(c) \\subseteq D_\\varphi. $$\n",
    "    Tedaj\n",
    "        - če je $\\varphi$ naraščajoča na $ℝ$, potem\n",
    "            * $argmin(X, c) = argmin(X, \\varphi\\circ c)$\n",
    "            * $argmax(X, c) = argmax(X, \\varphi\\circ c)$\n",
    "        - če je $\\varphi$ padajoča na $ℝ$, potem\n",
    "            * $argmin(X, c) = argmax(X, \\varphi\\circ c)$\n",
    "            * $argmax(X, c) = argmin(X, \\varphi\\circ c)$\n",
    "        \n",
    "    - Velja tudi \n",
    "        - če je $a_0$ konstanta, je \n",
    "            * $argmin(X, c+a_0) = argmin(X, c)$\n",
    "            * $argmax(X, c+a_0) = argmax(X, c)$\n",
    "\n",
    "\n",
    "- Pomembno za poenostavitve, ki so odločilne za rešljivost\n",
    "\n",
    "\n",
    "\n",
    "<p style=\"margin-bottom:1cm;\"></p>\n",
    "<div style=\"width:100%;text-align:right;font-weight:bold;font-size:1.2em;\"> 7 </div>\n",
    "<img src=\"https://raw.githubusercontent.com/andrejkk/ORvTK_SlidesImgs/master/footer_full.jpg\">"
   ]
  },
  {
   "cell_type": "markdown",
   "metadata": {
    "slideshow": {
     "slide_type": "slide"
    }
   },
   "source": [
    "<div style=\"display:flex;font-weight:bold;font-size:0.9em;\">\n",
    "<div style=\"flex:1;width:50%;\"> 2. Optimizacijska naloga </div>\n",
    "<div style=\"flex:1;width:50%;text-align:right;\"> 2.2 Rešljivost in reševanje optimizacijske naloge  </div>\n",
    "</div>\n",
    "\n",
    "\n",
    "\n",
    "# 2.2 Rešljivost in reševanje optimizacijske naloge\n",
    "\n",
    "■ Rešljivost\n",
    "\n",
    "■ Algoritmi za reševanje optimizacijske naloge\n",
    "\n",
    "■ Orodja za reševanje optimizacijske naloge \n",
    "\n",
    "\n",
    "\n",
    "<p style=\"margin-bottom:1cm;\"></p>\n",
    "<div style=\"width:100%;text-align:right;font-weight:bold;font-size:1.2em;\"> 8 </div>\n",
    "<img src=\"https://raw.githubusercontent.com/andrejkk/ORvTK_SlidesImgs/master/footer_full.jpg\">"
   ]
  },
  {
   "cell_type": "markdown",
   "metadata": {
    "slideshow": {
     "slide_type": "slide"
    }
   },
   "source": [
    "<div style=\"display:flex;font-weight:bold;font-size:0.9em;\">\n",
    "<div style=\"flex:1;width:50%;\"> 2. Optimizacijska naloga </div>\n",
    "<div style=\"flex:1;width:50%;text-align:right;\"> 2.2 Rešljivost in reševanje optimizacijske naloge </div>\n",
    "</div>\n",
    "\n",
    "\n",
    "\n",
    "## ■ Rešljivost\n",
    "\n",
    "Pri izvedbi optimizacije so bistvena naslednja vprašanja:\n",
    "- Ali rešitev obstaja?\n",
    "    - Ne obstaja vedno; \n",
    "    - Kdaj ne obstaja: \n",
    "        - množica dopustnih rešitev je lahko prazna;\n",
    "        - “Gradient je obrnjen v smer neomejenega dela množice dopustnih rešitev”;\n",
    "\n",
    "- Ali je rešitev ena sama?\n",
    "    - Če je rešitev več, ali so med seboj ekvivalentne?\n",
    "\n",
    "- Ali je rešitev globalni ekstrem?\n",
    "    - Lahko se zgodi, da optimizacijski algoritem vrne rešitev, ki je lokalni ekstrem, ne pa globalni;\n",
    "\n",
    "\n",
    "<p style=\"margin-bottom:1cm;\"></p>\n",
    "<div style=\"width:100%;text-align:right;font-weight:bold;font-size:1.2em;\"> 9 </div>\n",
    "<img src=\"https://raw.githubusercontent.com/andrejkk/ORvTK_SlidesImgs/master/footer_full.jpg\">"
   ]
  },
  {
   "cell_type": "markdown",
   "metadata": {
    "slideshow": {
     "slide_type": "slide"
    }
   },
   "source": [
    "<div style=\"display:flex;font-weight:bold;font-size:0.9em;\">\n",
    "<div style=\"flex:1;width:50%;\"> 2. Optimizacijska naloga </div>\n",
    "<div style=\"flex:1;width:50%;text-align:right;\"> 2.2 Rešljivost in reševanje optimizacijske naloge </div>\n",
    "</div>\n",
    "\n",
    "\n",
    "\n",
    "## ■ Algoritmi za reševanje optimizacijske naloge\n",
    "\n",
    "- **Definicija (Optimizacijski algoritem)**<p>\n",
    "Optimizacijski algoritem $A$ je algoritem, ki poišče rešitev optimizacijske naloge za dano kriterijsko funkcijo $(\\Omega, \\Phi, c, F)$.\n",
    "\n",
    "\n",
    "- Več o algoritmih kasneje.\n",
    "\n",
    "\n",
    "\n",
    "<p style=\"margin-bottom:1cm;\"></p>\n",
    "<div style=\"width:100%;text-align:right;font-weight:bold;font-size:1.2em;\"> 10 </div>\n",
    "<img src=\"https://raw.githubusercontent.com/andrejkk/ORvTK_SlidesImgs/master/footer_full.jpg\">"
   ]
  },
  {
   "cell_type": "markdown",
   "metadata": {
    "slideshow": {
     "slide_type": "slide"
    }
   },
   "source": [
    "<div style=\"display:flex;font-weight:bold;font-size:0.9em;\">\n",
    "<div style=\"flex:1;width:50%;\"> 2. Optimizacijska naloga </div>\n",
    "<div style=\"flex:1;width:50%;text-align:right;\"> 2.2 Rešljivost in reševanje optimizacijske naloge </div>\n",
    "</div>\n",
    "\n",
    "\n",
    "\n",
    "## ■ Orodja za reševanje optimizacijske naloge\n",
    "\n",
    "- Primer optimizacijske naloge:  <br>\n",
    "** Linearno programiranje **\n",
    "\n",
    "\n",
    "<img style=\"float: right; width: 700px; margin:-50px 0 0 0;\" src=\"https://raw.githubusercontent.com/andrejkk/ORvTK_SlidesImgs/master/OptimizationTools_slo.png\">\n",
    "\n",
    "\n",
    "\n",
    "<p style=\"margin-bottom:1cm;\"><br><br><br><br><br><br><br><br><br><br><br><br><br><br><br><br><br><br><br></p>\n",
    "<div style=\"width:100%;text-align:right;font-weight:bold;font-size:1.5em;\"> 11 </div>\n",
    "<img src=\"https://raw.githubusercontent.com/andrejkk/ORvTK_SlidesImgs/master/footer_full.jpg\">"
   ]
  },
  {
   "cell_type": "markdown",
   "metadata": {
    "slideshow": {
     "slide_type": "slide"
    }
   },
   "source": [
    "<div style=\"display:flex;font-weight:bold;font-size:0.9em;\">\n",
    "<div style=\"flex:1;width:50%;\"> 2. Optimizacijska naloga </div>\n",
    "<div style=\"flex:1;width:50%;text-align:right;\"> 2.2 Rešljivost in reševanje optimizacijske naloge </div>\n",
    "</div>\n",
    "\n",
    "\n",
    "\n",
    "## ■ Zaključek\n",
    "\n",
    "- Optimizacijska naloga je centralni pojem optimizacije\n",
    "- Učinkovita uporaba programskih orodij je bistvena\n",
    "- Algoritmi in implementacije „so že znane“. Pomembno je prepoznati primerno formulacijo optimizacijske naloge. \n",
    "\n",
    "\n",
    "\n",
    "<p style=\"margin-bottom:1cm;\"></p>\n",
    "<div style=\"width:100%;text-align:right;font-weight:bold;font-size:1.2em;\"> 12 </div>\n",
    "<img src=\"https://raw.githubusercontent.com/andrejkk/ORvTK_SlidesImgs/master/footer_full.jpg\">"
   ]
  }
 ],
 "metadata": {
  "celltoolbar": "Slideshow",
  "kernelspec": {
   "display_name": "Python 3",
   "language": "python",
   "name": "python3"
  },
  "language_info": {
   "codemirror_mode": {
    "name": "ipython",
    "version": 3
   },
   "file_extension": ".py",
   "mimetype": "text/x-python",
   "name": "python",
   "nbconvert_exporter": "python",
   "pygments_lexer": "ipython3",
   "version": "3.10.5 (tags/v3.10.5:f377153, Jun  6 2022, 16:14:13) [MSC v.1929 64 bit (AMD64)]"
  },
  "vscode": {
   "interpreter": {
    "hash": "39db316db9761e257bdee1753ffe77075a3d1bd2d26cf1cdd7fab9938bfc2516"
   }
  }
 },
 "nbformat": 4,
 "nbformat_minor": 2
}
