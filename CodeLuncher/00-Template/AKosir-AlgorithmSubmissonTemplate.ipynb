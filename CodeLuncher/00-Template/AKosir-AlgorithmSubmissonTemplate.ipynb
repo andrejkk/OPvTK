{
 "cells": [
  {
   "cell_type": "markdown",
   "metadata": {
    "slideshow": {
     "slide_type": "slide"
    }
   },
   "source": [
    "<div style=\"display:flex;font-weight:bold;font-size:0.9em;\">\n",
    "</div>\n",
    "\n",
    "\n",
    "## Algorithm submission template\n",
    "\n",
    "### Submitted algorithm must contain \n",
    "\n",
    "1. Main function in the jupyter notebook cell as given bellow;\n",
    "2. Algorithm implementation in external file (my_algorithm), all required test data (benchmarks) must be provided in the subdirectory Data;\n",
    "3. Algorithm implementation must, beside other fucntions, include function is_correctQ(input_x, output_y) verifying the correctness of the algorithm result output_y for a given inpit data input_x;\n",
    "\n",
    "\n",
    "### How to submit and run\n",
    "\n",
    "1. Provide submission and upload it to Git (URL)\n",
    "2. Open it through myBinder, run the cell with \n",
    "3. Run cel with main function. The result should be \"Correctness: True\" printed from the cell.\n",
    "\n",
    "\n",
    "\n",
    "### Notes\n",
    "\n",
    "1. The development can be done in Jupyter or any Python environment. The only adaptation is to build the Notebook cell with main function as given bellow\n",
    "2. Questions at _andrej.kosir@fe.uni-lj.si_\n",
    "\n",
    "\n",
    "\n",
    "<p style=\"margin-bottom:1cm;\"></p>\n",
    "<div style=\"width:100%;text-align:right;font-weight:bold;font-size:1.2em;\"> 2 </div>\n",
    "<img src=\"https://raw.githubusercontent.com/andrejkk/ORvTK_SlidesImgs/master/footer_full.jpg\">"
   ]
  },
  {
   "cell_type": "code",
   "execution_count": 24,
   "metadata": {},
   "outputs": [
    {
     "name": "stdout",
     "output_type": "stream",
     "text": [
      "Correctness: True\n"
     ]
    }
   ],
   "source": [
    "# Code Luncher\n",
    "\n",
    "import numpy as np\n",
    "import pandas as pd\n",
    "\n",
    "import my_algorithm as ma\n",
    "\n",
    "# Main function\n",
    "def main():\n",
    "    \n",
    "    \n",
    "    data_path = './Data/'    \n",
    "    \n",
    "    # Load data\n",
    "    A = pd.read_csv(data_path + 'matA.csv')\n",
    "    #print (A)\n",
    "    \n",
    "    # Call the algorithm\n",
    "    input_x = 2\n",
    "    output_y = ma.sq_root(input_x)\n",
    "    \n",
    "    \n",
    "    # Verify correctess\n",
    "    correctQ = is_correctQ(input_x, output_y)\n",
    "    \n",
    "    print (\"Correctness:\", correctQ)\n",
    "    \n",
    "    return\n",
    "        \n",
    "# Run main\n",
    "main()"
   ]
  },
  {
   "cell_type": "code",
   "execution_count": null,
   "metadata": {},
   "outputs": [],
   "source": []
  }
 ],
 "metadata": {
  "celltoolbar": "Slideshow",
  "kernelspec": {
   "display_name": "Python 3 (ipykernel)",
   "language": "python",
   "name": "python3"
  },
  "language_info": {
   "codemirror_mode": {
    "name": "ipython",
    "version": 3
   },
   "file_extension": ".py",
   "mimetype": "text/x-python",
   "name": "python",
   "nbconvert_exporter": "python",
   "pygments_lexer": "ipython3",
   "version": "3.9.7"
  }
 },
 "nbformat": 4,
 "nbformat_minor": 2
}
