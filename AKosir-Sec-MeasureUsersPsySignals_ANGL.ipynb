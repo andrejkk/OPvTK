{
 "cells": [
  {
   "attachments": {},
   "cell_type": "markdown",
   "metadata": {
    "collapsed": true,
    "slideshow": {
     "slide_type": "slide"
    }
   },
   "source": [
    "<img style=\"float: center; width: 100%\" src=\"https://raw.githubusercontent.com/andrejkk/TalksImgs/master/FrontSlideUpperBan.png\">\n",
    "<p style=\"margin-bottom:2cm;\"></p>\n",
    "\n",
    "<center>\n",
    "    <H1> Measuring users: psicho-phisiological signals </H1>\n",
    "   \n",
    "\n",
    "\n",
    "<br><br>\n",
    "    <H3> Andrej Košir, Lucami, FE </H3>\n",
    "    <H4> Kontakt: prof. dr. Andrej Košir, andrej.kosir@lucami.fe.uni-lj.si, skype=akosir_sid </H4>\n",
    "</center>\n",
    "\n",
    "\n",
    "<p style=\"margin-bottom:2cm;\"></p>\n",
    "<div style=\"width:100%;text-align:right;font-weight:bold;font-size:1.2em;\"> 1 </div>\n",
    "<img src=\"https://raw.githubusercontent.com/andrejkk/ORvTK_SlidesImgs/master/footer_full.jpg\">"
   ]
  },
  {
   "attachments": {},
   "cell_type": "markdown",
   "metadata": {
    "slideshow": {
     "slide_type": "slide"
    }
   },
   "source": [
    "<div style=\"display:flex;font-weight:bold;font-size:0.9em;\">\n",
    "<div style=\"flex:1;width:50%;text-align:left;\"> Objectives </div>\n",
    "</div>\n",
    "\n",
    "\n",
    "## Objectives\n",
    "\n",
    "- learn basic psychophysiological signals and their usefulness in monitoring users\n",
    "- get to know selected sensors of psychophysiological signals\n",
    "- learn the basic techniques of modeling psychophysiological signals with machine learning\n",
    "\n",
    "\n",
    "\n",
    "<p style=\"margin-bottom:1cm;\"></p>\n",
    "<div style=\"width:100%;text-align:right;font-weight:bold;font-size:1.2em;\"> 2 </div>\n",
    "<img src=\"https://raw.githubusercontent.com/andrejkk/ORvTK_SlidesImgs/master/footer_full.jpg\">"
   ]
  },
  {
   "attachments": {},
   "cell_type": "markdown",
   "metadata": {
    "slideshow": {
     "slide_type": "slide"
    }
   },
   "source": [
    "<div style=\"display:flex;font-weight:bold;font-size:0.9em;\">\n",
    "<div style=\"flex:1;width:50%;text-align:right;\"> Goals </div>\n",
    "</div>\n",
    "\n",
    "\n",
    "\n",
    "\n",
    "### 2. Measurement of users: psychophysiological signals\n",
    "\n",
    "Content\n",
    "\n",
    "■ Human physiology and psychophysiological signals $\\large{*}$\n",
    "\n",
    "■ Social signals of user $\\large{*}$\n",
    "\n",
    "■ Estimating user $\\large{*}$'s social signals\n",
    "\n",
    "■ Emotions: measuring signals\n",
    "\n",
    "■ Cognitive load: measurement of signals\n",
    "\n",
    "■ Attention: signal measurement\n",
    "\n",
    "■ Stress: measurement of signals\n",
    "\n",
    "■ Sensors for psycho-physiological signals\n",
    "\n",
    "■ Conclusion\n",
    "\n",
    "\n",
    "<p style=\"margin-bottom:1cm;\"></p>\n",
    "<div style=\"width:100%;text-align:right;font-weight:bold;font-size:1.2em;\"> 2 </div>\n",
    "<img src=\"https://raw.githubusercontent.com/andrejkk/ORvTK_SlidesImgs/master/footer_full.jpg\">"
   ]
  },
  {
   "attachments": {},
   "cell_type": "markdown",
   "metadata": {
    "slideshow": {
     "slide_type": "slide"
    }
   },
   "source": [
    "<div style=\"display:flex;font-weight:bold;font-size:0.9em;\">\n",
    "<div style=\"flex:1;width:50%;text-align:right;\"> Measuring users: psicho-phisiological signals  </div>\n",
    "</div>\n",
    "\n",
    "\n",
    "# ■ Human physiology and psychophysiological signals\n",
    "\n",
    "\n",
    "#### Def. Psychophysiology is a scientific discipline that investigates the relationship between psychophysiology and cognitive processes.\n",
    "\n",
    "#### Def. Social signals of the user are measurable signals of the user that are related to or indicate his physiological states.\n",
    "\n",
    "#### Important insights:\n",
    "  - psychophysiological signals are directly measurable\n",
    "  - they measure rapid changes in a person - the user\n",
    "  - There is a connection between psychophysiological signals and cognitive processes\n",
    " \n",
    " \n",
    " \n",
    "#### Important physiological signals for communication\n",
    "  - Eye signals: pupil size, gaze, blinking, ...\n",
    "  - Heart signals: HR, ...\n",
    "  - Skin signals: electrodermal activity\n",
    " \n",
    " \n",
    " \n",
    "#### Important metrics - scores:\n",
    "  - Affective and emotional states\n",
    "  - cognitive load\n",
    "  - stress\n",
    "  - attention\n",
    "  - engagement\n",
    "  - multimedia exposure\n",
    " \n",
    " \n",
    "\n",
    "\n",
    "\n",
    "<p style=\"margin-bottom:1cm;\"></p>\n",
    "<div style=\"width:100%;text-align:right;font-weight:bold;font-size:1.2em;\"> 3 </div>\n",
    "<img src=\"https://raw.githubusercontent.com/andrejkk/ORvTK_SlidesImgs/master/footer_full.jpg\">"
   ]
  },
  {
   "attachments": {},
   "cell_type": "markdown",
   "metadata": {
    "slideshow": {
     "slide_type": "slide"
    }
   },
   "source": [
    "<div style=\"display:flex;font-weight:bold;font-size:0.9em;\">\n",
    "<div style=\"flex:1;width:50%;text-align:right;\"> Measuring users: psicho-phisiological signals  </div>\n",
    "</div>\n",
    "\n",
    "\n",
    "# ■ Social signals of user\n",
    "\n",
    "#### Def.: Social signals are all that remains of communication between a person and his interlocutor (human or machine) when the meaning of speech is removed. The color of the voice, rhythm of speech, facial expression, gestures, etc. remain. We also use the term \"non-verbal communication\".\n",
    "\n",
    "#### Def.: We use the term interlocutor for all communication entities - human, machine, service.\n",
    "\n",
    "<img style=\"float: center; width: 65%\" src=\"https://raw.githubusercontent.com/andrejkk/UPK_DataImgs/master/SoialSignals-Concept_SLO.png\">\n",
    "\n",
    "<br>\n",
    "\n",
    "##### Examples of social signals are:\n",
    "- satisfaction\n",
    "- curiosity\n",
    "- hesitation\n",
    "- ...\n",
    "\n",
    "<br>\n",
    "\n",
    "**Social signals** change over **time**, possibly at quite different rates.\n",
    "\n",
    "\n",
    "##### Applicability\n",
    "\n",
    "Social signals are useful for\n",
    "- **real-time communication**: significant content enrichment\n",
    "- **adaptation to the user**: understanding the state of the user in real time\n",
    " \n",
    "\n",
    "\n",
    "\n",
    "<p style=\"margin-bottom:1cm;\"></p>\n",
    "<div style=\"width:100%;text-align:right;font-weight:bold;font-size:1.2em;\"> 4 </div>\n",
    "<img src=\"https://raw.githubusercontent.com/andrejkk/ORvTK_SlidesImgs/master/footer_full.jpg\">"
   ]
  },
  {
   "attachments": {},
   "cell_type": "markdown",
   "metadata": {
    "slideshow": {
     "slide_type": "slide"
    }
   },
   "source": [
    "<div style=\"display:flex;font-weight:bold;font-size:0.9em;\">\n",
    "<div style=\"flex:1;width:50%;text-align:right;\"> Measuring users: psicho-phisiological signals  </div>\n",
    "</div>\n",
    "\n",
    "\n",
    "# ■ Estimating user's social signals\n",
    "\n",
    "\n",
    "Evaluation objective - two options:\n",
    "1. Assessment of the quantitative value of the social signal at a given interval, e.g. to $[1, 5]$;\n",
    "2. Classification of the social signal into selected classes, e.g. _{low, medium, high}_\n",
    "\n",
    "\n",
    "### Two steps\n",
    "\n",
    "1. Determination of characteristics\n",
    "2. Evaluation / classification - machine and statistical learning\n",
    "\n",
    "2.1. Social signal estimation - models:\n",
    "- linear regression\n",
    "- non-linear models\n",
    "- time series forecasting models\n",
    "2.2. Classification of synchronized signals - machine learning:\n",
    "- deep learning (does not require defining features)\n",
    "- Method of support vectors\n",
    "- Decision trees\n",
    "\n",
    "\n",
    "\n",
    "\n",
    "\n",
    "<p style=\"margin-bottom:1cm;\"></p>\n",
    "<div style=\"width:100%;text-align:right;font-weight:bold;font-size:1.2em;\"> 5 </div>\n",
    "<img src=\"https://raw.githubusercontent.com/andrejkk/ORvTK_SlidesImgs/master/footer_full.jpg\">"
   ]
  },
  {
   "attachments": {},
   "cell_type": "markdown",
   "metadata": {
    "slideshow": {
     "slide_type": "slide"
    }
   },
   "source": [
    "<div style=\"display:flex;font-weight:bold;font-size:0.9em;\">\n",
    "<div style=\"flex:1;width:50%;text-align:right;\"> Measuring users: psicho-phisiological signals  </div>\n",
    "</div>\n",
    "\n",
    " \n",
    "# ■ Emotions: signal measurement\n",
    "\n",
    "\n",
    "#### Signals to measure emotions\n",
    "\n",
    "\n",
    "For communications, measurable signals with sufficiently low intrusiveness:\n",
    "- Pupil size\n",
    "- Electrodermal activity of the skin\n",
    "- Heart beat\n",
    "- breathing rate\n",
    "\n",
    "\n",
    "\n",
    "<br><br>\n",
    "<figure>\n",
    "  <img src=\"https://raw.githubusercontent.com/andrejkk/ORvTK_SlidesImgs/master/HumanPsychoFiziologyEmotions.png\" width=\"80%\">\n",
    "  <figcaption>Vir: Shu: A Review of Emotion Recognition Using Physiological Signals, Sensors, 2018.</figcaption>\n",
    "</figure>\n",
    "\n",
    "\n",
    "\n",
    "\n",
    "<p style=\"margin-bottom:1cm;\"></p>\n",
    "<div style=\"width:100%;text-align:right;font-weight:bold;font-size:1.2em;\"> 6 </div>\n",
    "<img src=\"https://raw.githubusercontent.com/andrejkk/ORvTK_SlidesImgs/master/footer_full.jpg\">"
   ]
  },
  {
   "attachments": {},
   "cell_type": "markdown",
   "metadata": {
    "slideshow": {
     "slide_type": "slide"
    }
   },
   "source": [
    "<div style=\"display:flex;font-weight:bold;font-size:0.9em;\">\n",
    "<div style=\"flex:1;width:50%;text-align:right;\"> Measuring users: psicho-phisiological signals  </div>\n",
    "</div>\n",
    "\n",
    "\n",
    "# ■ Cognitive load: signal measurement\n",
    "\n",
    "\n",
    "#### Measurement signals\n",
    "- pupil size\n",
    "- electrodermal activity (EDA)\n",
    "- heart beat\n",
    "\n",
    "<br><br>\n",
    "<figure>\n",
    "  <img src=\"https://raw.githubusercontent.com/andrejkk/ORvTK_SlidesImgs/master/PsySignalsCognitiveLoad.jpg\" width=\"50%\">\n",
    "  <figcaption>Vir: Ahmad in dr: A framework to estimate cognitive load using physiological data, Personal and Ubiquitous Computing, 2020.<br>\n",
    "      Vir: Johanseen: Psychophysiologic measures of cognitive load in physician team leaders\n",
    "during trauma resuscitation, Computers in human behaviour, 2020.\n",
    "    </figcaption>\n",
    "</figure>\n",
    "\n",
    "\n",
    "\n",
    "\n",
    "\n",
    "<p style=\"margin-bottom:1cm;\"></p>\n",
    "<div style=\"width:100%;text-align:right;font-weight:bold;font-size:1.2em;\"> 7 </div>\n",
    "<img src=\"https://raw.githubusercontent.com/andrejkk/ORvTK_SlidesImgs/master/footer_full.jpg\">"
   ]
  },
  {
   "attachments": {},
   "cell_type": "markdown",
   "metadata": {
    "slideshow": {
     "slide_type": "slide"
    }
   },
   "source": [
    "<div style=\"display:flex;font-weight:bold;font-size:0.9em;\">\n",
    "<div style=\"flex:1;width:50%;text-align:right;\"> Measuring users: psicho-phisiological signals  </div>\n",
    "</div>\n",
    "\n",
    "\n",
    "# ■ Attention: signal measurement\n",
    "\n",
    "#### Signals for measuring attention:\n",
    "- pupil size\n",
    "- heart beat\n",
    "- electrodermal activity\n",
    "\n",
    "\n",
    "<br><br>\n",
    "<figure>\n",
    "  <img src=\"https://raw.githubusercontent.com/andrejkk/ORvTK_SlidesImgs/master/PsySignalsAttention.png\" width=\"40%\">\n",
    "  <figcaption>Vir: Gamboa: Attention Classification Based on Biosignals during Standard\n",
    "Cognitive Tasks for Occupational Domains, Computers, 2022.</figcaption>\n",
    "</figure>\n",
    "\n",
    "\n",
    "\n",
    "\n",
    "\n",
    "<p style=\"margin-bottom:1cm;\"></p>\n",
    "<div style=\"width:100%;text-align:right;font-weight:bold;font-size:1.2em;\"> 8 </div>\n",
    "<img src=\"https://raw.githubusercontent.com/andrejkk/ORvTK_SlidesImgs/master/footer_full.jpg\">"
   ]
  },
  {
   "attachments": {},
   "cell_type": "markdown",
   "metadata": {
    "slideshow": {
     "slide_type": "slide"
    }
   },
   "source": [
    "<div style=\"display:flex;font-weight:bold;font-size:0.9em;\">\n",
    "<div style=\"flex:1;width:50%;text-align:right;\"> Measuring users: psicho-phisiological signals  </div>\n",
    "</div>\n",
    "\n",
    "\n",
    "# ■ Stres: signal measurement \n",
    "\n",
    "\n",
    "#### Stress measurement signals\n",
    "- electrodermal activity\n",
    "- pupil size\n",
    "- temperature\n",
    "- breathing rate\n",
    "\n",
    "\n",
    "<br><br>\n",
    "<figure>\n",
    "  <img src=\"https://raw.githubusercontent.com/andrejkk/ORvTK_SlidesImgs/master/HumanPsychoFiziologyStress.png\" width=\"40%\">\n",
    "  <figcaption>Vir: Vir: Giannakakis: Review on Psychological Stress Detection Using Biosignals, IEEE TRANSACTIONS ON AFFECTIVE COMPUTING, 2022.</figcaption>\n",
    "</figure>\n",
    "\n",
    "\n",
    "\n",
    "\n",
    "\n",
    "<p style=\"margin-bottom:1cm;\"></p>\n",
    "<div style=\"width:100%;text-align:right;font-weight:bold;font-size:1.2em;\"> 9 </div>\n",
    "<img src=\"https://raw.githubusercontent.com/andrejkk/ORvTK_SlidesImgs/master/footer_full.jpg\">"
   ]
  },
  {
   "attachments": {},
   "cell_type": "markdown",
   "metadata": {
    "slideshow": {
     "slide_type": "slide"
    }
   },
   "source": [
    "<div style=\"display:flex;font-weight:bold;font-size:0.9em;\">\n",
    "<div style=\"flex:1;width:50%;text-align:right;\"> Measuring users: psicho-phisiological signals  </div>\n",
    "</div>\n",
    "\n",
    "\n",
    "# ■ Sensors for psycho-physiological signals\n",
    "\n",
    "\n",
    "### Sensor requirements\n",
    "\n",
    "1. Annoyance / intrusion is acceptable\n",
    "\n",
    "2. Access to measured data - cloud or local\n",
    "     - reliable\n",
    "     - protection of personal data (GDPR)\n",
    "\n",
    "\n",
    "3. Time synchronization: errors up to 50 ms\n",
    "\n",
    "\n",
    "#### Tobii eye sensor\n",
    "\n",
    "##### Measures: pupil size, gaze\n",
    "\n",
    "\n",
    "<br><br>\n",
    "<figure>\n",
    "  <img src=\"https://raw.githubusercontent.com/andrejkk/ORvTK_SlidesImgs/master/SensorTobiiEyeTrackerNano.jpg\" width=\"80%\">\n",
    "  <figcaption>Vir: https://www.tobiipro.com/product-listing/nano/ </figcaption>\n",
    "</figure>\n",
    "\n",
    "\n",
    "\n",
    "#### Tobi glasses\n",
    "\n",
    "##### Measu\n",
    "\n",
    "\n",
    "<br><br>\n",
    "<figure>\n",
    "  <img src=\"https://raw.githubusercontent.com/andrejkk/ORvTK_SlidesImgs/master/SensorTobiiGlasses3.jpg\" width=\"40%\">\n",
    "  <figcaption>Vir: https://www.tobiipro.com/product-listing/tobii-pro-glasses-3/ </figcaption>\n",
    "</figure>\n",
    "\n",
    "\n",
    "\n",
    "\n",
    "\n",
    "#### Empatica bracelet\n",
    "\n",
    "##### Measures: EDA, HR, temperature, acceleration\n",
    "\n",
    "\n",
    "<br><br>\n",
    "<figure>\n",
    "  <img src=\"https://raw.githubusercontent.com/andrejkk/ORvTK_SlidesImgs/master/SensorEmpaticaE4.jpg\" width=\"20%\">\n",
    "  <figcaption>Vir: https://www.empatica.com/research/e4/ </figcaption>\n",
    "</figure>\n",
    "\n",
    "\n",
    "\n",
    "\n",
    "\n",
    "\n",
    "<p style=\"margin-bottom:1cm;\"></p>\n",
    "<div style=\"width:100%;text-align:right;font-weight:bold;font-size:1.2em;\"> 10 </div>\n",
    "<img src=\"https://raw.githubusercontent.com/andrejkk/ORvTK_SlidesImgs/master/footer_full.jpg\">"
   ]
  },
  {
   "attachments": {},
   "cell_type": "markdown",
   "metadata": {
    "slideshow": {
     "slide_type": "slide"
    }
   },
   "source": [
    "<div style=\"display:flex;font-weight:bold;font-size:0.9em;\">\n",
    "<div style=\"flex:1;width:50%;text-align:right;\"> Measuring users: psicho-phisiological signals  </div>\n",
    "</div>\n",
    "\n",
    "\n",
    "# ■ Conclusion\n",
    "\n",
    "\n",
    "- Psychophysiological sensors enable real-time evaluation of selected social signals\n",
    "- The competence of the sensor is essential: suitability for real applications\n",
    "\n",
    "\n",
    "\n",
    "\n",
    "<p style=\"margin-bottom:1cm;\"></p>\n",
    "<div style=\"width:100%;text-align:right;font-weight:bold;font-size:1.2em;\"> 11 </div>\n",
    "<img src=\"https://raw.githubusercontent.com/andrejkk/ORvTK_SlidesImgs/master/footer_full.jpg\">"
   ]
  },
  {
   "cell_type": "code",
   "execution_count": null,
   "metadata": {},
   "outputs": [],
   "source": []
  }
 ],
 "metadata": {
  "celltoolbar": "Slideshow",
  "kernelspec": {
   "display_name": "Python 3",
   "language": "python",
   "name": "python3"
  },
  "language_info": {
   "codemirror_mode": {
    "name": "ipython",
    "version": 3
   },
   "file_extension": ".py",
   "mimetype": "text/x-python",
   "name": "python",
   "nbconvert_exporter": "python",
   "pygments_lexer": "ipython3",
   "version": "3.10.5"
  },
  "vscode": {
   "interpreter": {
    "hash": "66d245bc0aa345411577de3f292b9e6a6906f0558af2a59212c3c2455e5d14f2"
   }
  }
 },
 "nbformat": 4,
 "nbformat_minor": 2
}
