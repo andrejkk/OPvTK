{
 "cells": [
  {
   "cell_type": "code",
   "execution_count": null,
   "metadata": {},
   "outputs": [],
   "source": []
  },
  {
   "attachments": {},
   "cell_type": "markdown",
   "metadata": {
    "collapsed": true,
    "slideshow": {
     "slide_type": "slide"
    }
   },
   "source": [
    "<img style=\"float: center; width: 100%\" src=\"https://raw.githubusercontent.com/andrejkk/TalksImgs/master/FrontSlideUpperBan.png\">\n",
    "<p style=\"margin-bottom:2cm;\"></p>\n",
    "\n",
    "<center>\n",
    "    <H1> User modelling: segmentation </H1>\n",
    "   \n",
    "\n",
    "\n",
    "<br><br>\n",
    "    <H3> Andrej Košir, Lucami, FE </H3>\n",
    "    <H4> Kontakt: prof. dr. Andrej Košir, andrej.kosir@fe.uni-lj.si, ZOOM https://uni-lj-si.zoom.us/j/97654707084 </H4>\n",
    "</center>"
   ]
  },
  {
   "attachments": {},
   "cell_type": "markdown",
   "metadata": {
    "slideshow": {
     "slide_type": "slide"
    }
   },
   "source": [
    "<div style=\"display:flex;font-weight:bold;font-size:0.9em;\">\n",
    "<div style=\"flex:1;width:50%;text-align:left;\"> User modelling: segmentation  </div>\n",
    "</div>\n",
    "\n",
    "\n",
    "## Objectives\n",
    "\n",
    "- learn about the importance of user segmentation\n",
    "- learn an example of segmentation\n",
    "- get to know the basic mechanisms of determining segments\n",
    "\n",
    "\n",
    "\n",
    "<p style=\"margin-bottom:1cm;\"></p>\n",
    "<div style=\"width:100%;text-align:right;font-weight:bold;font-size:1.2em;\"> 2 </div>\n",
    "<img src=\"https://raw.githubusercontent.com/andrejkk/ORvTK_SlidesImgs/master/footer_full.jpg\">"
   ]
  },
  {
   "attachments": {},
   "cell_type": "markdown",
   "metadata": {
    "slideshow": {
     "slide_type": "slide"
    }
   },
   "source": [
    "<div style=\"display:flex;font-weight:bold;font-size:0.9em;\">\n",
    "<div style=\"flex:1;width:50%;text-align:left;\"> User modelling: segmentation  </div>\n",
    "</div>\n",
    "\n",
    "\n",
    "# 1. Segmentation of TGI\n",
    "\n",
    "■ Introduction\n",
    "\n",
    "■ What is TGI segmentation $\\large{*}$\n",
    "\n",
    "■ Goals of TGI - what it offers $\\large{*}$\n",
    "\n",
    "■ User sectors\n",
    "\n",
    "■ User segments\n",
    "\n",
    "■ Conclusions\n",
    "\n",
    "\n",
    "\n",
    "\n",
    "\n",
    "<p style=\"margin-bottom:1cm;\"></p>\n",
    "<div style=\"width:100%;text-align:right;font-weight:bold;font-size:1.2em;\"> 3 </div>\n",
    "<img src=\"https://raw.githubusercontent.com/andrejkk/ORvTK_SlidesImgs/master/footer_full.jpg\">"
   ]
  },
  {
   "attachments": {},
   "cell_type": "markdown",
   "metadata": {
    "slideshow": {
     "slide_type": "slide"
    }
   },
   "source": [
    "<div style=\"display:flex;font-weight:bold;font-size:0.9em;\">\n",
    "<div style=\"flex:1;width:50%;text-align:left;\"> User modelling: segmentation  </div>\n",
    "</div>\n",
    "\n",
    "\n",
    "# ■ Introduction\n",
    "\n",
    "#### Def. Segmentation is the grouping of users according to selected characteristics\n",
    "\n",
    "\n",
    "#### Introductory Notes\n",
    "\n",
    "- user segmentation is input information for service optimization: effective segmentation is possible within an individual segment\n",
    "- mostly based on marketing analyses\n",
    "- very specific in areas\n",
    "- the methodologies are also different. Market segmentations are the most developed\n",
    "- Example: target group index (TGI) in Slovenia\n",
    "\n",
    "\n",
    "\n",
    "<p style=\"margin-bottom:1cm;\"></p>\n",
    "<div style=\"width:100%;text-align:right;font-weight:bold;font-size:1.2em;\"> 4 </div>\n",
    "<img src=\"https://raw.githubusercontent.com/andrejkk/ORvTK_SlidesImgs/master/footer_full.jpg\">"
   ]
  },
  {
   "attachments": {},
   "cell_type": "markdown",
   "metadata": {
    "slideshow": {
     "slide_type": "slide"
    }
   },
   "source": [
    "<div style=\"display:flex;font-weight:bold;font-size:0.9em;\">\n",
    "<div style=\"flex:1;width:50%;text-align:left;\"> User modelling: segmentation  </div>\n",
    "</div>\n",
    "\n",
    "\n",
    "# ■ What is TGI segmentation\n",
    "\n",
    "User segmentation TGI (Target Group Index) is a questionnaire system for user segmentation, see e.g. https://www.warc.com/partners/tgi.\n",
    "\n",
    "\n",
    "Segmentation techniques and results largely depend on the objectives and the chosen sub-domain. That is why we present a Slovenian example of segmentation according to the TGI approach.\n",
    "\n",
    "\n",
    "The framework includes data for segmentation in Slovenia:\n",
    "  - number of respondents n=4000 per year\n",
    "  - age: 15 to 75 years\n",
    "  - sampling: a simple random sample, representative of Slovenia by gender, age and regions\n",
    "\n",
    "<p style=\"margin-bottom:1cm;\"></p>\n",
    "<div style=\"width:100%;text-align:right;font-weight:bold;font-size:1.2em;\"> 5 </div>\n",
    "<img src=\"https://raw.githubusercontent.com/andrejkk/ORvTK_SlidesImgs/master/footer_full.jpg\">"
   ]
  },
  {
   "attachments": {},
   "cell_type": "markdown",
   "metadata": {
    "slideshow": {
     "slide_type": "slide"
    }
   },
   "source": [
    "<div style=\"display:flex;font-weight:bold;font-size:0.9em;\">\n",
    "<div style=\"flex:1;width:50%;text-align:left;\"> User modelling: segmentation  </div>\n",
    "</div>\n",
    "\n",
    "\n",
    "# ■ Goals of TGI - what it offers\n",
    "\n",
    "\n",
    "\n",
    "The goal of TGI segmentation is\n",
    "- determine general segments\n",
    "- collect the characteristics of the segments that are useful for each segment\n",
    "\n",
    "\n",
    "TGI research enables to:\n",
    "- Understand the market situation;\n",
    "- Identify the correct target group;\n",
    "- Get to know the target group in detail and personalize it;\n",
    "- Get to know the client's and competing users;\n",
    "- Understand consumer behavior on the market;\n",
    "- Understand the use of brands and their competitive advantages\n",
    "- Discover the best way to communicate;\n",
    "- Strategic and tactical media planning;\n",
    "- Segmentations for different markets;\n",
    "\n",
    "<p style=\"margin-bottom:1cm;\"></p>\n",
    "<div style=\"width:100%;text-align:right;font-weight:bold;font-size:1.2em;\"> 6 </div>\n",
    "<img src=\"https://raw.githubusercontent.com/andrejkk/ORvTK_SlidesImgs/master/footer_full.jpg\">"
   ]
  },
  {
   "attachments": {},
   "cell_type": "markdown",
   "metadata": {
    "slideshow": {
     "slide_type": "slide"
    }
   },
   "source": [
    "<div style=\"display:flex;font-weight:bold;font-size:0.9em;\">\n",
    "<div style=\"flex:1;width:50%;text-align:left;\"> User modelling: segmentation  </div>\n",
    "</div>\n",
    "\n",
    "\n",
    "# ■ User sectors\n",
    "\n",
    "User sectors are completely general - for (tele)communications this is pre-segmentation:\n",
    "- food\n",
    "- household products\n",
    "- domestic animals and animal feed\n",
    "- personal care and cosmetics\n",
    "- pharmaceutical products\n",
    "- shopping, shops and clothes\n",
    "- motoring\n",
    "- vacations and trips\n",
    "- banking and financial services\n",
    "- sports and free time\n",
    "- DIY and gardening\n",
    "- sweets and snacks\n",
    "- tobacco products\n",
    "- non-alcoholic beverages\n",
    "- alcoholic drinks\n",
    "- **communications and internet**\n",
    "- white goods and small household appliances\n",
    "- electronics\n",
    "\n",
    "<p style=\"margin-bottom:1cm;\"></p>\n",
    "<div style=\"width:100%;text-align:right;font-weight:bold;font-size:1.2em;\"> 7 </div>\n",
    "<img src=\"https://raw.githubusercontent.com/andrejkk/ORvTK_SlidesImgs/master/footer_full.jpg\">"
   ]
  },
  {
   "attachments": {},
   "cell_type": "markdown",
   "metadata": {
    "slideshow": {
     "slide_type": "slide"
    }
   },
   "source": [
    "<div style=\"display:flex;font-weight:bold;font-size:0.9em;\">\n",
    "<div style=\"flex:1;width:50%;text-align:left;\"> User modelling: segmentation  </div>\n",
    "</div>\n",
    "\n",
    "\n",
    "# ■ User segments\n",
    "\n",
    "This is the result of a descriptive analysis where the goal was to understand shopping habits.\n",
    "\n",
    "|Segment |Description |\n",
    "|:--- |:--- |\n",
    "|QUALITY WORSHIPERS|They are ready to pay extra for quality products, especially if they suit their taste and style. |\n",
    "|BIO SPECIALISTS|They buy organic meat, dairy products, fruit and vegetables, pay attention to free range farming, organic certificates and fair trade. |\n",
    "|BIO TRACKERS|They buy organic meat, dairy products, fruits and vegetables. |\n",
    "|ONLINE ENTHUSIASTS|Most frequently of all segments, they buy online, namely all types of products.|\n",
    "|PRUDENT BUYERS|They do not buy the cheapest products, but they are extremely attentive to promotional activities and prizes. |\n",
    "|DISCOUNT HUNTERS|Price promotions mean the most to them, they choose the lowest prices and do not delve into the rest of the offer. |\n",
    "\n",
    "\n",
    "\n",
    "<p style=\"margin-bottom:1cm;\"></p>\n",
    "<div style=\"width:100%;text-align:right;font-weight:bold;font-size:1.2em;\"> 8 </div>\n",
    "<img src=\"https://raw.githubusercontent.com/andrejkk/ORvTK_SlidesImgs/master/footer_full.jpg\">"
   ]
  },
  {
   "attachments": {},
   "cell_type": "markdown",
   "metadata": {},
   "source": [
    "<div style=\"display:flex;font-weight:bold;font-size:0.9em;\">\n",
    "<div style=\"flex:1;width:50%;text-align:left;\"> User modelling: segmentation  </div>\n",
    "</div>\n",
    "\n",
    "# ■ Segments and personas\n",
    "\n",
    "\n",
    "### Segments\n",
    "Segments are the grouping of users into meaningful groups based on the purpose of the segmentation. The input data usually includes\n",
    "- Demographics\n",
    "- Usage habits\n",
    "- Preferences\n",
    "\n",
    "\n",
    "### Personas\n",
    "Let's use personas to understand segments, i.e. their typical representatives. Members of the same persona share similar characteristics, beliefs, attitudes and values regarding a service or experience.\n",
    "Input data usually includes:\n",
    "- behavior\n",
    "- point of view\n",
    "- \"Journeys\" courses of using the service and related activities\n",
    "\n",
    "<p style=\"margin-bottom:1cm;\"></p>\n",
    "<div style=\"width:100%;text-align:right;font-weight:bold;font-size:1.2em;\"> 9 </div>\n",
    "<img src=\"https://raw.githubusercontent.com/andrejkk/ORvTK_SlidesImgs/master/footer_full.jpg\">"
   ]
  },
  {
   "attachments": {},
   "cell_type": "markdown",
   "metadata": {
    "slideshow": {
     "slide_type": "slide"
    }
   },
   "source": [
    "<div style=\"display:flex;font-weight:bold;font-size:0.9em;\">\n",
    "<div style=\"flex:1;width:50%;text-align:left;\"> User modelling: segmentation  </div>\n",
    "</div>\n",
    "\n",
    "\n",
    "# 2. Segmentation of mobile communications users\n",
    "\n",
    "\n",
    "■ Dimensions of segments of users of mobile communications $\\large{*}$\n",
    "\n",
    "■ A conceptual tree for the user's lifestyle\n",
    "\n",
    "■ A conceptual tree for the motivation of use\n",
    "\n",
    "■ Concept tree for service and product attributes\n",
    "\n",
    "■ Implementation of user research and analysis\n",
    "\n",
    "\n",
    "\n",
    "\n",
    "\n",
    "<p style=\"margin-bottom:1cm;\"></p>\n",
    "<div style=\"width:100%;text-align:right;font-weight:bold;font-size:1.2em;\"> 10 </div>\n",
    "<img src=\"https://raw.githubusercontent.com/andrejkk/ORvTK_SlidesImgs/master/footer_full.jpg\">"
   ]
  },
  {
   "attachments": {},
   "cell_type": "markdown",
   "metadata": {
    "slideshow": {
     "slide_type": "slide"
    }
   },
   "source": [
    "<div style=\"display:flex;font-weight:bold;font-size:0.9em;\">\n",
    "<div style=\"flex:1;width:50%;text-align:left;\"> User modelling: segmentation  </div>\n",
    "</div>\n",
    "\n",
    "\n",
    "# ■ Dimensions of segments of users of mobile communications\n",
    "\n",
    "Basic segmentation is the input to supporting segmentations, which are more detailed.\n",
    "\n",
    "It encompasses three dimensions\n",
    "1. User's lifestyle\n",
    "2. Motivation for using mobile communications\n",
    "3. Features of services and products\n",
    "\n",
    "\n",
    "For each, we list conceptual trees that serve as the basis for conducting user studies.\n",
    "\n",
    "<p style=\"margin-bottom:1cm;\"></p>\n",
    "<div style=\"width:100%;text-align:right;font-weight:bold;font-size:1.2em;\"> 11 </div>\n",
    "<img src=\"https://raw.githubusercontent.com/andrejkk/ORvTK_SlidesImgs/master/footer_full.jpg\">"
   ]
  },
  {
   "attachments": {},
   "cell_type": "markdown",
   "metadata": {
    "slideshow": {
     "slide_type": "slide"
    }
   },
   "source": [
    "<div style=\"display:flex;font-weight:bold;font-size:0.9em;\">\n",
    "<div style=\"flex:1;width:50%;text-align:left;\"> User modelling: segmentation  </div>\n",
    "</div>\n",
    "\n",
    "\n",
    "# ■ A conceptual tree for the user's lifestyle\n",
    "\n",
    "Lifestyle affects the segmentation of users of any service. Important information is which aspects of lifestyle are relevant for a given segmentation.\n",
    "\n",
    "<br>\n",
    "<figure>\n",
    "  <img src=\"https://raw.githubusercontent.com/andrejkk/UPK_DataImgs/master/CommunicationUserSegmentation_LifeStyle_ENG.png\" width=\"60%\">\n",
    "  <figcaption>Lit: Mazzoni in dr.: Market segmentation of mobile communication: overview and concept maps, 2019.</figcaption>\n",
    "</figure>\n",
    "\n",
    "\n",
    "\n",
    "\n",
    "\n",
    "<p style=\"margin-bottom:1cm;\"></p>\n",
    "<div style=\"width:100%;text-align:right;font-weight:bold;font-size:1.2em;\"> 12 </div>\n",
    "<img src=\"https://raw.githubusercontent.com/andrejkk/ORvTK_SlidesImgs/master/footer_full.jpg\">"
   ]
  },
  {
   "attachments": {},
   "cell_type": "markdown",
   "metadata": {
    "slideshow": {
     "slide_type": "slide"
    }
   },
   "source": [
    "<div style=\"display:flex;font-weight:bold;font-size:0.9em;\">\n",
    "<div style=\"flex:1;width:50%;text-align:left;\"> User modelling: segmentation  </div>\n",
    "</div>\n",
    "\n",
    "\n",
    "# ■ A conceptual tree for the motivation of use\n",
    "\n",
    "\n",
    "Motivation to use largely determines the goals of use and is essential to the design of services..\n",
    "\n",
    "<br>\n",
    "<figure>\n",
    "  <img src=\"https://raw.githubusercontent.com/andrejkk/UPK_DataImgs/master/CommunicationUserSegmentation_Motivation_ENG.png\" width=\"60%\">\n",
    "  <figcaption>Lit: Mazzoni in dr.: Market segmentation of mobile communication: overview and concept maps, 2019.</figcaption>\n",
    "</figure>\n",
    "\n",
    "\n",
    "<p style=\"margin-bottom:1cm;\"></p>\n",
    "<div style=\"width:100%;text-align:right;font-weight:bold;font-size:1.2em;\"> 13 </div>\n",
    "<img src=\"https://raw.githubusercontent.com/andrejkk/ORvTK_SlidesImgs/master/footer_full.jpg\">"
   ]
  },
  {
   "attachments": {},
   "cell_type": "markdown",
   "metadata": {
    "slideshow": {
     "slide_type": "slide"
    }
   },
   "source": [
    "<div style=\"display:flex;font-weight:bold;font-size:0.9em;\">\n",
    "<div style=\"flex:1;width:50%;text-align:left;\"> User modelling: segmentation  </div>\n",
    "</div>\n",
    "\n",
    "\n",
    "# ■ Concept tree for service and product attributes\n",
    "\n",
    "\n",
    "Motivation to use largely determines the goals of use and is essential to the design of services.\n",
    "\n",
    "<br><br>\n",
    "<figure>\n",
    "  <img src=\"https://raw.githubusercontent.com/andrejkk/UPK_DataImgs/master/CommunicationUserSegmentation_Attributes_ENG.png\" width=\"60%\">\n",
    "  <figcaption>Vir: Mazzoni in dr.: Market segmentation of mobile communication: overview and concept maps, 2019.</figcaption>\n",
    "</figure>\n",
    "\n",
    "\n",
    "\n",
    "\n",
    "<p style=\"margin-bottom:1cm;\"></p>\n",
    "<div style=\"width:100%;text-align:right;font-weight:bold;font-size:1.2em;\"> 14 </div>\n",
    "<img src=\"https://raw.githubusercontent.com/andrejkk/ORvTK_SlidesImgs/master/footer_full.jpg\">"
   ]
  },
  {
   "attachments": {},
   "cell_type": "markdown",
   "metadata": {
    "slideshow": {
     "slide_type": "slide"
    }
   },
   "source": [
    "<div style=\"display:flex;font-weight:bold;font-size:0.9em;\">\n",
    "<div style=\"flex:1;width:50%;text-align:left;\"> User modelling: segmentation  </div>\n",
    "</div>\n",
    "\n",
    "\n",
    "# ■ Implementation of user research and analysis\n",
    "\n",
    "- according to the conceptual tree, we select questionnaires and create an experiment plan\n",
    "- we use classic data analysis methods: correspondence analysis, clustering\n",
    "\n",
    "\n",
    "There is no publically available data.\n",
    "\n",
    "\n",
    "\n",
    "\n",
    "<p style=\"margin-bottom:1cm;\"></p>\n",
    "<div style=\"width:100%;text-align:right;font-weight:bold;font-size:1.2em;\"> 15 </div>\n",
    "<img src=\"https://raw.githubusercontent.com/andrejkk/ORvTK_SlidesImgs/master/footer_full.jpg\">"
   ]
  },
  {
   "attachments": {},
   "cell_type": "markdown",
   "metadata": {
    "slideshow": {
     "slide_type": "slide"
    }
   },
   "source": [
    "<div style=\"display:flex;font-weight:bold;font-size:0.9em;\">\n",
    "<div style=\"flex:1;width:50%;text-align:left;\"> User modelling: segmentation  </div>\n",
    "</div>\n",
    "\n",
    "\n",
    "# ■ Conclusions\n",
    "\n",
    "\n",
    "- user segmentations are based on marketing research. In the context of (tele)communications, these serve for basic segmentation;\n",
    "- the segmentation results depend very specifically on the segmentation goals\n",
    "- user segmentation based on behavior is under development and the results are not yet in real use\n",
    "\n",
    "<p style=\"margin-bottom:1cm;\"></p>\n",
    "<div style=\"width:100%;text-align:right;font-weight:bold;font-size:1.2em;\"> 16 </div>\n",
    "<img src=\"https://raw.githubusercontent.com/andrejkk/ORvTK_SlidesImgs/master/footer_full.jpg\">"
   ]
  }
 ],
 "metadata": {
  "celltoolbar": "Slideshow",
  "kernelspec": {
   "display_name": "Python 3",
   "language": "python",
   "name": "python3"
  },
  "language_info": {
   "codemirror_mode": {
    "name": "ipython",
    "version": 3
   },
   "file_extension": ".py",
   "mimetype": "text/x-python",
   "name": "python",
   "nbconvert_exporter": "python",
   "pygments_lexer": "ipython3",
   "version": "3.10.5"
  },
  "vscode": {
   "interpreter": {
    "hash": "66d245bc0aa345411577de3f292b9e6a6906f0558af2a59212c3c2455e5d14f2"
   }
  }
 },
 "nbformat": 4,
 "nbformat_minor": 2
}
