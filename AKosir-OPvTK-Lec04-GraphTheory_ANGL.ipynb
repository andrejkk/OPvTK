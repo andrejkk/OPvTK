{
 "cells": [
  {
   "cell_type": "markdown",
   "metadata": {
    "collapsed": true,
    "slideshow": {
     "slide_type": "slide"
    }
   },
   "source": [
    "<img style=\"float: center; width: 100%\" src=\"https://raw.githubusercontent.com/andrejkk/TalksImgs/master/FrontSlideUpperBan.png\">\n",
    "<p style=\"margin-bottom:2cm;\"></p>\n",
    "\n",
    "<center>\n",
    "    <H1> 4. Graph Theory </H1>\n",
    "   \n",
    "\n",
    "\n",
    "<br><br>\n",
    "    <H3> Andrej Košir, Lucami, FE </H3>\n",
    "    <H4> Kontakt: prof. dr. Andrej Košir, andrej.kosir@fe.uni-lj.si, ZOOM https://uni-lj-si.zoom.us/j/97654707084 </H4>\n",
    "</center>\n",
    "\n",
    "\n",
    "<p style=\"margin-bottom:2cm;\"></p>\n",
    "<div style=\"width:100%;text-align:right;font-weight:bold;font-size:1.2em;\"> 1 </div>\n",
    "<img src=\"https://raw.githubusercontent.com/andrejkk/ORvTK_SlidesImgs/master/footer_full.jpg\">"
   ]
  },
  {
   "cell_type": "markdown",
   "metadata": {
    "slideshow": {
     "slide_type": "slide"
    }
   },
   "source": [
    "<div style=\"display:flex;font-weight:bold;font-size:0.9em;\">\n",
    "<div style=\"flex:1;width:50%;\"> 4. Graph Theory </div>\n",
    "<div style=\"flex:1;width:50%;text-align:right;\"> Goals </div>\n",
    "</div>\n",
    "\n",
    "\n",
    "## Goals\n",
    "\n",
    "- Get familiar of graph data structure, graph as a representation of (telecommunication) network\n",
    "- Graph representation\n",
    "- Graph walks\n",
    "- Most relevant graph optimization problem\n",
    "\n",
    "\n",
    "## Learning outcomes\n",
    "\n",
    "- Understand the basics of graph theory (data structure, representations)\n",
    "- Understand the role of graphs in optimization (framework of optimization tasks, communication network, community of users)\n",
    "- Understand and recognize basic optimization problems on graphs: maximum flow, shortest path\n",
    "- Understand the basic algorithms on graphs\n",
    "- Understand and recognize important optimization examples\n",
    "\n",
    "<p style=\"margin-bottom:2cm;\"></p>\n",
    "<div style=\"width:100%;text-align:right;font-weight:bold;font-size:1.2em;\"> 2 </div>\n",
    "<img src=\"https://raw.githubusercontent.com/andrejkk/ORvTK_SlidesImgs/master/footer_full.jpg\">"
   ]
  },
  {
   "cell_type": "markdown",
   "metadata": {},
   "source": [
    "<div style=\"display:flex;font-weight:bold;font-size:0.9em;\">\n",
    "<div style=\"flex:1;width:50%;\"> 4. Graph Theory </div>\n",
    "<div style=\"flex:1;width:50%;text-align:right;\"> Goals </div>\n",
    "</div>\n",
    "\n",
    "\n",
    "## ■ How this section relates to optimisation \n",
    "\n",
    "Graph theory is one of the most useful (in my opinion the most useful) theory of discrete mathematics in technical practice, especially in optimization. A graph as a data structure is the basis for the formulation of widely used optimization problems, a natural data structure for the representation of communication networks, and a data structure for the representation of interconnected service users.\n",
    "\n",
    "A graph is a simple structure of nodes with connections that are directed or undirected. Connections can have capacities or prices (distances). Generally applicable optimization problems are the shortest path problem (links are equipped with prices - distances), the maximum flow problem (links are equipped with capacities), etc. Problems from different areas can be represented and solved as one of these problems. It can be a routing problem in telecommunication traffic, an image segmentation problem, an optimal coding problem, etc. The nodes of the graph can be users of a social network, and the links between them show the related activities of these users. Then, the search for influential people and groups is an optimization problem on the graph.\n",
    "\n",
    "\n",
    "\n",
    "\n",
    "<p style=\"margin-bottom:2cm;\"></p>\n",
    "<div style=\"width:100%;text-align:right;font-weight:bold;font-size:1.2em;\"> 2 </div>\n",
    "<img src=\"https://raw.githubusercontent.com/andrejkk/ORvTK_SlidesImgs/master/footer_full.jpg\">"
   ]
  },
  {
   "cell_type": "markdown",
   "metadata": {
    "slideshow": {
     "slide_type": "slide"
    }
   },
   "source": [
    "<div style=\"display:flex;font-weight:bold;font-size:0.9em;\">\n",
    "<div style=\"flex:1;width:50%;\"> 4. Graph Theory </div>\n",
    "<div style=\"flex:1;width:50%;text-align:right;\"> Sections </div>\n",
    "</div>\n",
    "\n",
    "\n",
    "## Sections (1)\n",
    "\n",
    "### 4.1 Definition, examples and basic characteristics\n",
    "\n",
    "■ Definition of a graph, graph as a data structure $\\large{*}$ \n",
    "\n",
    "■ Graph types $\\large{*}$ \n",
    "\n",
    "■ Graph representation $\\large{*}$ \n",
    "\n",
    "■ Adjacency matrix and Laplace matrix\n",
    "\n",
    "■ Node degree and regularity\n",
    "\n",
    "■ Graph embedding and graph labelling $\\large{*}$ \n",
    "\n",
    "<p style=\"margin-bottom:2cm;\"></p>\n",
    "<div style=\"width:100%;text-align:right;font-weight:bold;font-size:1.2em;\"> 3 </div>\n",
    "<img src=\"https://raw.githubusercontent.com/andrejkk/ORvTK_SlidesImgs/master/footer_full.jpg\">"
   ]
  },
  {
   "cell_type": "markdown",
   "metadata": {
    "slideshow": {
     "slide_type": "slide"
    }
   },
   "source": [
    "<div style=\"display:flex;font-weight:bold;font-size:0.9em;\">\n",
    "<div style=\"flex:1;width:50%;\"> 4. Graph Theory </div>\n",
    "<div style=\"flex:1;width:50%;text-align:right;\"> Sections </div>\n",
    "</div>\n",
    "\n",
    "## Sections (2)\n",
    "\n",
    "### 4.2. Selected graph problems and algorithms\n",
    "\n",
    "■ Graph search $\\large{*}$ \n",
    "\n",
    "■ Subgraph, walk, path, cycle $\\large{*}$ \n",
    "\n",
    "■ Hamilton path and cycle $\\large{*}$ \n",
    "\n",
    "■ Clique and independent subset\n",
    "\n",
    "■ Minimum spanning tree $\\large{*}$ \n",
    "\n",
    "■ Connected graphs $\\large{*}$ \n",
    "\n",
    "■ Planar graphs $\\large{*}$ \n",
    "\n",
    "■ Graph colouring\n",
    "\n",
    "■ Shortest (cheapest) path problem $\\large{*}$ \n",
    "\n",
    "■ Maximum flow problem $\\large{*}$ \n",
    "\n",
    "■ Traveling salesman problem\n",
    "\n",
    "■ Drawing graphs\n",
    "\n",
    "\n",
    "<p style=\"margin-bottom:2cm;\"></p>\n",
    "<div style=\"width:100%;text-align:right;font-weight:bold;font-size:1.2em;\"> 4 </div>\n",
    "<img src=\"https://raw.githubusercontent.com/andrejkk/ORvTK_SlidesImgs/master/footer_full.jpg\">"
   ]
  },
  {
   "cell_type": "markdown",
   "metadata": {
    "slideshow": {
     "slide_type": "slide"
    }
   },
   "source": [
    "<div style=\"display:flex;font-weight:bold;font-size:0.9em;\">\n",
    "<div style=\"flex:1;width:50%;\"> 4. Graph Theory </div>\n",
    "<div style=\"flex:1;width:50%;text-align:right;\"> Introduction </div>\n",
    "</div>\n",
    "\n",
    "\n",
    "## ■ Intro, history\n",
    "\n",
    "- 1736: Euler and bridges in Königsberg:\n",
    "    - Is it possible to walk such that one visits each <br> \n",
    "    bridge exactly once? No.\n",
    "    - Euler graph\n",
    "    - Euler characteristic\n",
    "   \n",
    "<img style=\"float: right; width: 200px; margin: -80px 20px 50px 0;\" src=\"https://raw.githubusercontent.com/andrejkk/ORvTK_SlidesImgs/master/KönigsbergBridges.png\">\n",
    "\n",
    "\n",
    "- 100 years later: differential calculus, group theory ...?\n",
    "\n",
    "\n",
    "\n",
    "- Today\n",
    "    - Optimization\n",
    "    - discrete mathematics\n",
    "    - algorithms\n",
    "    - chemistry\n",
    "    - Group theory\n",
    "    \n",
    "\n",
    "<img style=\"float: right; width: 100px; margin: -10px 100px 50px 0;\" src=\"https://raw.githubusercontent.com/andrejkk/ORvTK_SlidesImgs/master/SimpleGraph.png\">\n",
    "\n",
    "\n",
    "<p style=\"margin-bottom:2cm;\"></p>\n",
    "<div style=\"width:100%;text-align:right;font-weight:bold;font-size:1.2em;\"> 5 </div>\n",
    "<img src=\"https://raw.githubusercontent.com/andrejkk/ORvTK_SlidesImgs/master/footer_full.jpg\">"
   ]
  },
  {
   "cell_type": "markdown",
   "metadata": {
    "slideshow": {
     "slide_type": "slide"
    }
   },
   "source": [
    "<div style=\"display:flex;font-weight:bold;font-size:0.9em;\">\n",
    "<div style=\"flex:1;width:50%;\"> 4. Graph Theory </div>\n",
    "<div style=\"flex:1;width:50%;text-align:right;\"> Usage </div>\n",
    "</div>\n",
    "\n",
    "\n",
    "## ■ Usage: decision tree visualization\n",
    "\n",
    "\n",
    "<img style=\"float: right; width: 120px; margin: 20px 120px 0px 30px;\" src=\"https://raw.githubusercontent.com/andrejkk/ORvTK_SlidesImgs/master/Colormaphot.png\">\n",
    "\n",
    "<img style=\"float: right; width: 600px; margin: 0px 0px 30px 0px;\" src=\"https://raw.githubusercontent.com/andrejkk/ORvTK_SlidesImgs/master/DecisionTreeEx.png\">\n",
    "\n",
    "\n",
    "<p style=\"margin-bottom:2cm;\"></p>\n",
    "<div style=\"width:100%;text-align:right;font-weight:bold;font-size:1.2em;\"> 6 </div>\n",
    "<img src=\"https://raw.githubusercontent.com/andrejkk/ORvTK_SlidesImgs/master/footer_full.jpg\">"
   ]
  },
  {
   "cell_type": "markdown",
   "metadata": {
    "slideshow": {
     "slide_type": "slide"
    }
   },
   "source": [
    "<div style=\"display:flex;font-weight:bold;font-size:0.9em;\">\n",
    "<div style=\"flex:1;width:50%;\"> 4. Graph Theory </div>\n",
    "<div style=\"flex:1;width:50%;text-align:right;\"> 4.1 Definition, examples and basic characteristics </div>\n",
    "</div>\n",
    "\n",
    "\n",
    "## 4.1 Definition, examples and basic characteristics\n",
    "\n",
    "■ Definition of a graph, graph as a data structure\n",
    "\n",
    "■ Selected cases of graphs\n",
    "\n",
    "■ Graph representation - adjacency matrix\n",
    "\n",
    "■ Graph representation - adjacency list\n",
    "\n",
    "■ Distance matrix and Laplace matrix\n",
    "\n",
    "■ Limits on |V| and |E|\n",
    "\n",
    "■ Graph embedding and graph labelling\n",
    "\n",
    "<p style=\"margin-bottom:2cm;\"></p>\n",
    "<div style=\"width:100%;text-align:right;font-weight:bold;font-size:1.2em;\"> 7 </div>\n",
    "<img src=\"https://raw.githubusercontent.com/andrejkk/ORvTK_SlidesImgs/master/footer_full.jpg\">"
   ]
  },
  {
   "cell_type": "markdown",
   "metadata": {
    "slideshow": {
     "slide_type": "slide"
    }
   },
   "source": [
    "<div style=\"display:flex;font-weight:bold;font-size:0.9em;\">\n",
    "<div style=\"flex:1;width:50%;\"> 4. Graph Theory </div>\n",
    "<div style=\"flex:1;width:50%;text-align:right;\"> 4.1 Definition, examples and basic characteristics </div>\n",
    "</div>\n",
    "\n",
    "\n",
    "\n",
    "## ■ Definition of a graph, graph as a data structure\n",
    "\n",
    "- Data structure\n",
    "\n",
    "\n",
    "- Theoretical description\n",
    "    $G=(V,E)$ <br>\n",
    "    $V=\\{1, \\ldots, |V|\\}$ <br>\n",
    "    $E=\\{(u,v): \\text{some}\\; u,v\\in E\\}$ <br>\n",
    "    We use different notations  <br>\n",
    "    for links $(u,v)=(uv)=uv$\n",
    "\n",
    "<img style=\"float: right; width: 280px; margin: -100px 0px 0px 0px;\" src=\"https://raw.githubusercontent.com/andrejkk/ORvTK_SlidesImgs/master/PseudoC_Graph.png\">\n",
    "\n",
    "\n",
    "#### Graph types\n",
    "\n",
    "- Undirected graph (graph) and Directed graph (Digraph)\n",
    "- Simple graph (no loops and parallel links)\n",
    "- Regular graph\n",
    "\n",
    "<p style=\"margin-bottom:2cm;\"><br><br><br><br></p>\n",
    "<div style=\"width:100%;text-align:right;font-weight:bold;font-size:1.2em;\"> 8 </div>\n",
    "<img src=\"https://raw.githubusercontent.com/andrejkk/ORvTK_SlidesImgs/master/footer_full.jpg\">"
   ]
  },
  {
   "cell_type": "markdown",
   "metadata": {
    "slideshow": {
     "slide_type": "slide"
    }
   },
   "source": [
    "<div style=\"display:flex;font-weight:bold;font-size:0.9em;\">\n",
    "<div style=\"flex:1;width:50%;\"> 4. Graph Theory </div>\n",
    "<div style=\"flex:1;width:50%;text-align:right;\"> 4.1 Definition, examples and basic characteristics </div>\n",
    "</div>\n",
    "\n",
    "\n",
    "## ■ Selected cases of graphs\n",
    "\n",
    "- Denote: $G=(V(G), E(G))$\n",
    "  - Empty graph: $E=\\{\\}$\n",
    "  - Full graph: $K_n = (\\{1,…,n\\}, \\{(u,v): u,v∈V\\})$\n",
    "  - Bipartite graph: $K_{(n_1,n_2)}$\n",
    "  - K-partite graph: $K_{(n_1,n_2,… n_K)}$\n",
    "  - Sparse graph: close to empty\n",
    "  - Gost graph: close to full\n",
    "  - Tree, binary tree \n",
    "\n",
    "\n",
    "<p style=\"margin-bottom:2cm;\"></p>\n",
    "<div style=\"width:100%;text-align:right;font-weight:bold;font-size:1.2em;\"> 18 </div>\n",
    "<img src=\"https://raw.githubusercontent.com/andrejkk/ORvTK_SlidesImgs/master/footer_full.jpg\">"
   ]
  },
  {
   "attachments": {},
   "cell_type": "markdown",
   "metadata": {
    "slideshow": {
     "slide_type": "slide"
    }
   },
   "source": [
    "<div style=\"display:flex;font-weight:bold;font-size:0.9em;\">\n",
    "<div style=\"flex:1;width:50%;\"> 4. Graph Theory </div>\n",
    "<div style=\"flex:1;width:50%;text-align:right;\"> 4.1 Definition, examples and basic characteristics </div>\n",
    "</div>\n",
    "\n",
    "\n",
    "## ■ Graph representation - adjacency matrix\n",
    "\n",
    "\n",
    "\n",
    "\n",
    "- Representation: adjacency matrix $A$\n",
    "    - $A=[a_{uv}], a_{uv}=1$ for $uv\\in E$ and $0$ otherwise\n",
    "    - For graphs close to full graph\n",
    "    - For directed and undirected graphs \n",
    "    - Sparse matrix representation – for at least 90% of zeros\n",
    "\n",
    "\n",
    "- Representation : incident matrix  $M$, \n",
    "    - $M=[m_{ev}]$, $m_{ev} = \\left\\{\\begin{array}{ll} 1, & v=i \\cr -1, & v=j \\\\ 0, & \\text{otherwise} \\end{array}\\right.$, <br>\n",
    "    kjer je $e=(ij)$.\n",
    "\n",
    "\n",
    "- Advantages:\n",
    "  - Simple implementation\n",
    "  - Checking one link $O(1)$ \n",
    "\n",
    "\n",
    "- Drawbacks:\n",
    "  - It always requires $O(|V|^2)$ of memory even for sparse graph \n",
    "  - Finding neighbours requires $O(|V|)$ \n",
    "  - finding all links requires $O(|V|^2)$ \n",
    "\n",
    "\n",
    "- Also\n",
    "  - Power $A^k$: the number of all  paths of length $k$\n",
    "  - Graph spectrum: spectrum of matrix $A$\n",
    "  - Good for dense graphs.\n",
    "\n",
    "\n",
    "\n",
    "<p style=\"margin-bottom:2cm;\"></p>\n",
    "<div style=\"width:100%;text-align:right;font-weight:bold;font-size:1.2em;\"> 10 </div>\n",
    "<img src=\"https://raw.githubusercontent.com/andrejkk/ORvTK_SlidesImgs/master/footer_full.jpg\">"
   ]
  },
  {
   "cell_type": "markdown",
   "metadata": {
    "slideshow": {
     "slide_type": "slide"
    }
   },
   "source": [
    "<div style=\"display:flex;font-weight:bold;font-size:0.9em;\">\n",
    "<div style=\"flex:1;width:50%;\"> 4. Graph Theory </div>\n",
    "<div style=\"flex:1;width:50%;text-align:right;\"> 4.1 Definition, examples and basic characteristics </div>\n",
    "</div>\n",
    "\n",
    "\n",
    "\n",
    "## ■ Graph representation - adjacency list\n",
    "\n",
    "\n",
    "- Representation: adjacency  list $N(u)=\\{v\\in V: (u,v)\\in E\\}=\\{𝑣_1, 𝑣_2, \\ldots, \\}$\n",
    "    - For graphs close to empty graph\n",
    "    - For directed and undirected graphs\n",
    "\n",
    "- Advantages:\n",
    "    - Memory $O(|V|+|E|)$\n",
    "    - Finding neighbour set requires only $O(deg(u))$ of operations.\n",
    "    - Graph walk containing all links requires $O(|V|+|E|)$ of operations.\n",
    "    - good for sparse graphs\n",
    "\n",
    "\n",
    "- Drawbacks:\n",
    "    - Checking if $(u, v)$ is present requires $O(deg⁡(𝑢))=O(|𝑉|)$ of operations;\n",
    "    - Adding and deleting links $O(deg⁡(𝑢))=O(|V|)$\n",
    "\n",
    "<p style=\"margin-bottom:2cm;\"></p>\n",
    "<div style=\"width:100%;text-align:right;font-weight:bold;font-size:1.2em;\"> 12 </div>\n",
    "<img src=\"https://raw.githubusercontent.com/andrejkk/ORvTK_SlidesImgs/master/footer_full.jpg\">"
   ]
  },
  {
   "cell_type": "markdown",
   "metadata": {
    "slideshow": {
     "slide_type": "slide"
    }
   },
   "source": [
    "<div style=\"display:flex;font-weight:bold;font-size:0.9em;\">\n",
    "<div style=\"flex:1;width:50%;\"> 4. Graph Theory </div>\n",
    "<div style=\"flex:1;width:50%;text-align:right;\"> 4.1 Definition, examples and basic characteristics </div>\n",
    "</div>\n",
    "\n",
    "\n",
    "\n",
    "## ■ Node degree and regularity\n",
    "\n",
    "- Node degree: \n",
    "    - Notation $deg⁡(u)=|N(u)|$\n",
    "    - $\\delta(G) = min⁡(deg⁡(u))$, $u\\in V$\n",
    "    - $\\Delta(G) = max⁡(deg⁡(u))$, $u\\in V$ \n",
    "    \n",
    "    \n",
    "- Regular graph: all degrees are equal:\n",
    "    - $deg⁡(u)=\\delta(G)=\\Delta(𝐺)$ for all $u\\in V$\n",
    "    - r-regular graph: $r=deg(G)$, $u\\in V$\n",
    "    \n",
    "\n",
    "- Handshake theorem:\n",
    "$$ \\sum_{v\\in V(G)} deg(v) = 2|E(G)| $$\n",
    "\n",
    "\n",
    "<p style=\"margin-bottom:2cm;\"></p>\n",
    "<div style=\"width:100%;text-align:right;font-weight:bold;font-size:1.2em;\"> 13 </div>\n",
    "<img src=\"https://raw.githubusercontent.com/andrejkk/ORvTK_SlidesImgs/master/footer_full.jpg\">"
   ]
  },
  {
   "cell_type": "markdown",
   "metadata": {
    "slideshow": {
     "slide_type": "slide"
    }
   },
   "source": [
    "<div style=\"display:flex;font-weight:bold;font-size:0.9em;\">\n",
    "<div style=\"flex:1;width:50%;\"> 4. Graph Theory </div>\n",
    "<div style=\"flex:1;width:50%;text-align:right;\"> 4.1 Definition, examples and basic characteristics </div>\n",
    "</div>\n",
    "\n",
    "\n",
    "\n",
    "## ■ Distance matrix and Laplace matrix\n",
    "\n",
    "- undiected graphs only!\n",
    "- Distance matrix $D=[d(u,v)]$, where $d(u,v)$ is a distance among $u$ and $v$.\n",
    "    - Distance are typically costs of flow\n",
    "\n",
    "\n",
    "\n",
    "- Laplace matrix: $L=D_d−A$, $D_d = diag(deg(v))$, $v\\in V$.\n",
    "    - Number of zeros in the spectrum is the number of components\n",
    "    - $L = M^T M$\n",
    "\n",
    "\n",
    "<p style=\"margin-bottom:2cm;\"></p>\n",
    "<div style=\"width:100%;text-align:right;font-weight:bold;font-size:1.2em;\"> 14 </div>\n",
    "<img src=\"https://raw.githubusercontent.com/andrejkk/ORvTK_SlidesImgs/master/footer_full.jpg\">"
   ]
  },
  {
   "cell_type": "markdown",
   "metadata": {
    "slideshow": {
     "slide_type": "slide"
    }
   },
   "source": [
    "<div style=\"display:flex;font-weight:bold;font-size:0.9em;\">\n",
    "<div style=\"flex:1;width:50%;\"> 4. Graph Theory </div>\n",
    "<div style=\"flex:1;width:50%;text-align:right;\"> 4.1 Definition, examples and basic characteristics </div>\n",
    "</div>\n",
    "\n",
    "\n",
    "\n",
    "## ■ Limits on |V| and |E|\n",
    "\n",
    "- Limits on set $V$ and $E$ cardinality for a graph $G=(V, E)$: $n=|𝑉|$, $m=|E|$\n",
    "    - $m\\leq n(n-1)$, directed graph, no loops\n",
    "    - $m\\leq n^2$, directed graphs  with loops\n",
    "    - $m\\leq n(n-1)/2$, undirected, no loops\n",
    "    - $m\\leq n(n+1)/2$, undirected, with loops\n",
    "\n",
    "\n",
    "<p style=\"margin-bottom:2cm;\"></p>\n",
    "<div style=\"width:100%;text-align:right;font-weight:bold;font-size:1.2em;\"> 15 </div>\n",
    "<img src=\"https://raw.githubusercontent.com/andrejkk/ORvTK_SlidesImgs/master/footer_full.jpg\">"
   ]
  },
  {
   "cell_type": "markdown",
   "metadata": {
    "slideshow": {
     "slide_type": "slide"
    }
   },
   "source": [
    "<div style=\"display:flex;font-weight:bold;font-size:0.9em;\">\n",
    "<div style=\"flex:1;width:50%;\"> 4. Graph Theory </div>\n",
    "<div style=\"flex:1;width:50%;text-align:right;\"> 4.1 Definition, examples and basic characteristics </div>\n",
    "</div>\n",
    "\n",
    "\n",
    "## ■ Graph embedding and graph labelling\n",
    "\n",
    "- Graph embeding in $Y$, tyoically $ℝ^2$ \n",
    "    - Nodes positions: $\\varphi: V \\to Y$ \n",
    "    - Links positions: $\\psi: E \\to Y$\n",
    "\n",
    "\n",
    "- Node labeling\n",
    "    - Nodes: $L_V: V\\to A$\n",
    "    - Example: configurations of nodes\n",
    "\n",
    "\n",
    "- Link labeling: \n",
    "    - Links: $L_E: E\\to B$\n",
    "    - Exampke: link capacities, configurations etc. \n",
    "\n",
    "\n",
    "\n",
    "<p style=\"margin-bottom:2cm;\"></p>\n",
    "<div style=\"width:100%;text-align:right;font-weight:bold;font-size:1.2em;\"> 16 </div>\n",
    "<img src=\"https://raw.githubusercontent.com/andrejkk/ORvTK_SlidesImgs/master/footer_full.jpg\">"
   ]
  },
  {
   "cell_type": "markdown",
   "metadata": {
    "slideshow": {
     "slide_type": "slide"
    }
   },
   "source": [
    "<div style=\"display:flex;font-weight:bold;font-size:0.9em;\">\n",
    "<div style=\"flex:1;width:50%;\"> 4. Graph Theory </div>\n",
    "<div style=\"flex:1;width:50%;text-align:right;\"> 4.1 Definition, examples and basic characteristics </div>\n",
    "</div>\n",
    "\n",
    "\n",
    "## ■ Subgraph, walk, path, cycle \n",
    "\n",
    "- Subgraph: $H\\subset G$ če je $V(H)\\subset V(G)$ in $E(H)\\subset E(G)$ \n",
    "\n",
    "\n",
    "- Walk: sequence of nodes with: $P=(v_1, \\ldots v_k)$ tako da je $(v_i, v_{i+1})\\in E$\n",
    "- Path: walk with different nodes: $S=(v_1, \\ldots v_k)$ in $v_i\\ne v_j$ za $i\\ne j$\n",
    "- Cycle: closed path: $C=(v_1, \\ldots v_{k-1}, v_1)$.\n",
    "\n",
    "\n",
    "\n",
    "- Euler walk, Euler cycle, Euler graph: includes all links \n",
    "\n",
    "\n",
    "- Euler‘s graph: \n",
    "    - if and only if indegrees and outdegrees are equal for all nodes and graph is connected.\n",
    "    - Decision if exists: $O(|V|)$\n",
    "\n",
    "\n",
    "<p style=\"margin-bottom:2cm;\"></p>\n",
    "<div style=\"width:100%;text-align:right;font-weight:bold;font-size:1.2em;\"> 17 </div>\n",
    "<img src=\"https://raw.githubusercontent.com/andrejkk/ORvTK_SlidesImgs/master/footer_full.jpg\">"
   ]
  },
  {
   "cell_type": "markdown",
   "metadata": {
    "slideshow": {
     "slide_type": "slide"
    }
   },
   "source": [
    "<div style=\"display:flex;font-weight:bold;font-size:0.9em;\">\n",
    "<div style=\"flex:1;width:50%;\"> 4. Graph Theory </div>\n",
    "<div style=\"flex:1;width:50%;text-align:right;\"> 4.2. Selected graph problems and algorithms </div>\n",
    "</div>\n",
    "\n",
    "## 4.2. Selected graph problems and algorithms\n",
    "\n",
    "■ Graph search\n",
    "\n",
    "■ Subgraph, walk, path, cycle\n",
    "\n",
    "■ Hamilton path and cycle\n",
    "\n",
    "■ Clique and independent subset\n",
    "\n",
    "■ Minimum spanning tree\n",
    "\n",
    "■ Connected graphs\n",
    "\n",
    "■ Planar graphs\n",
    "\n",
    "■ Graph colouring\n",
    "\n",
    "■ Shortest (cheapest) path problem\n",
    "\n",
    "■ Maximum flow problem\n",
    "\n",
    "■ Traveling salesman problem\n",
    "\n",
    "■ Drawing graphs\n",
    "\n",
    "\n",
    "<p style=\"margin-bottom:2cm;\"></p>\n",
    "<div style=\"width:100%;text-align:right;font-weight:bold;font-size:1.2em;\"> 19 </div>\n",
    "<img src=\"https://raw.githubusercontent.com/andrejkk/ORvTK_SlidesImgs/master/footer_full.jpg\">"
   ]
  },
  {
   "cell_type": "markdown",
   "metadata": {
    "slideshow": {
     "slide_type": "slide"
    }
   },
   "source": [
    "<div style=\"display:flex;font-weight:bold;font-size:0.9em;\">\n",
    "<div style=\"flex:1;width:50%;\"> 4. Graph Theory </div>\n",
    "<div style=\"flex:1;width:50%;text-align:right;\"> 4.2. Selected graph problems and algorithms </div>\n",
    "</div>\n",
    "\n",
    "\n",
    "\n",
    "## ■ Graph search\n",
    "\n",
    "- Breath first search, BFS\n",
    "    - First all neighbours \n",
    "    - Walks firs connected component\n",
    "    - Complexity $O(|V|)$\n",
    "\n",
    "\n",
    "- Depth first search, DFS\n",
    "    - First neighbours of neighbours  – recursion\n",
    "    - Walks firs connected component\n",
    "    - Complexity $O(|V|)$\n",
    "\n",
    "\n",
    "- Random walk: random selection of nodes\n",
    "    - Probability distributions on nodes and links\n",
    "\n",
    "    \n",
    "    \n",
    "<p style=\"margin-bottom:2cm;\"></p>\n",
    "<div style=\"width:100%;text-align:right;font-weight:bold;font-size:1.2em;\"> 20 </div>    \n",
    "<img src=\"https://raw.githubusercontent.com/andrejkk/ORvTK_SlidesImgs/master/footer_full.jpg\">"
   ]
  },
  {
   "cell_type": "markdown",
   "metadata": {
    "slideshow": {
     "slide_type": "slide"
    }
   },
   "source": [
    "<div style=\"display:flex;font-weight:bold;font-size:0.9em;\">\n",
    "<div style=\"flex:1;width:50%;\"> 4. Graph Theory </div>\n",
    "<div style=\"flex:1;width:50%;text-align:right;\"> 4.2. Selected graph problems and algorithms </div>\n",
    "</div>\n",
    "\n",
    "\n",
    "\n",
    "## ■ Minimum spanning tree\n",
    "\n",
    "- Minimum spanning tree: $T\\subset G$ such that \n",
    "    - $V(T)=V(G)$\n",
    "    - $T$ is a tree (graph with no cycle)\n",
    "    \n",
    "\n",
    "- Kruskal's algorithm: \n",
    "    - **Require**: Connected graph 𝐺=(𝑉, 𝐸);\n",
    "    - **Ensure:** Minimum spanning tree \n",
    "    - Time complexity: $O(|E|\\log|E|) = O(|E|\\log|V|)$ \n",
    "\n",
    "\n",
    "\n",
    "<p style=\"margin-bottom:2cm;\"></p>\n",
    "<div style=\"width:100%;text-align:right;font-weight:bold;font-size:1.2em;\"> 21 </div>\n",
    "<img src=\"https://raw.githubusercontent.com/andrejkk/ORvTK_SlidesImgs/master/footer_full.jpg\">"
   ]
  },
  {
   "cell_type": "markdown",
   "metadata": {
    "slideshow": {
     "slide_type": "slide"
    }
   },
   "source": [
    "<div style=\"display:flex;font-weight:bold;font-size:0.9em;\">\n",
    "<div style=\"flex:1;width:50%;\"> 4. Graph Theory </div>\n",
    "<div style=\"flex:1;width:50%;text-align:right;\"> 4.2. Selected graph problems and algorithms </div>\n",
    "</div>\n",
    "\n",
    "\n",
    "## ■ Graph connectivity\n",
    "\n",
    "- In undirected graph:\n",
    "    - $u$ and $v$ are connected i, if there is a path connecting them\n",
    "    - Connected component: maximal connected subset of nodes \n",
    "\n",
    "\n",
    "- In directed graph\n",
    "    - $u$ and $v$ are weakly connected, if there is a path into at least one direction\n",
    "    - $u$ and $v$ are strongly connected, if there are paths into both directions\n",
    "    - (weakly , strongly ) connected component: maximal connected subset of nodes\n",
    "\n",
    "\n",
    "- Algorithm for components\n",
    "    - BFS from any node;\n",
    "    - Complexity: $O(|V|+|E|)$\n",
    "    \n",
    "    \n",
    "- K-connectivity\n",
    "    - Cut set: $V_k\\subset V$, where $G\\setminus V_k$ not connected\n",
    "    - $G$ is $k$-connected , if there is a smallest cut set with $|V_k|=k$.\n",
    "    - Related to maximal flow (Menger‘s theorem)\n",
    "\n",
    "\n",
    "- Clique : maximal full subgraph\n",
    "    - application: sociometric clique theory \n",
    "    \n",
    "    \n",
    "<p style=\"margin-bottom:2cm;\"></p>\n",
    "<div style=\"width:100%;text-align:right;font-weight:bold;font-size:1.2em;\"> 22 </div>\n",
    "<img src=\"https://raw.githubusercontent.com/andrejkk/ORvTK_SlidesImgs/master/footer_full.jpg\">"
   ]
  },
  {
   "cell_type": "markdown",
   "metadata": {
    "slideshow": {
     "slide_type": "slide"
    }
   },
   "source": [
    "<div style=\"display:flex;font-weight:bold;font-size:0.9em;\">\n",
    "<div style=\"flex:1;width:50%;\"> 4. Graph Theory </div>\n",
    "<div style=\"flex:1;width:50%;text-align:right;\"> 4.2. Selected graph problems and algorithms </div>\n",
    "</div>\n",
    "\n",
    "\n",
    "\n",
    "## ■ Planar graphs\n",
    "\n",
    "- **Definition:** Graph is planar, if it can be embedded in the plane  in such a way that no edges cross each other.\n",
    "\n",
    "\n",
    "- Euler characteristic of a connected planar graph: for $n=|V|$, $m=|E|$, $f=|F|$, $F$\n",
    "$$ n - m + f = 2 $$\n",
    "\n",
    "\n",
    "\n",
    "- Kuratowsky theorem: Graph is planar, if it is not a subdivision of $K_{3,3}$ ali $K_5$.\n",
    "\n",
    "\n",
    "\n",
    "- Note: Slovenian matematician classify graphs on a torus (Mohar, Juvan). \n",
    "\n",
    "\n",
    "\n",
    "<p style=\"margin-bottom:2cm;\"></p>\n",
    "<div style=\"width:100%;text-align:right;font-weight:bold;font-size:1.2em;\"> 23 </div>\n",
    "<img src=\"https://raw.githubusercontent.com/andrejkk/ORvTK_SlidesImgs/master/footer_full.jpg\">"
   ]
  },
  {
   "cell_type": "markdown",
   "metadata": {
    "slideshow": {
     "slide_type": "slide"
    }
   },
   "source": [
    "<div style=\"display:flex;font-weight:bold;font-size:0.9em;\">\n",
    "<div style=\"flex:1;width:50%;\"> 4. Graph Theory </div>\n",
    "<div style=\"flex:1;width:50%;text-align:right;\"> 4.2. Selected graph problems and algorithms </div>\n",
    "</div>\n",
    "\n",
    "\n",
    "## ■ Graph colouring\n",
    "\n",
    "- Graph colouring is a map\n",
    "$$ c:V→\\{1,…, b\\}. $$\n",
    "\n",
    "\n",
    "- Colouring is proper, if for any link $(u,v)\\in E$ we have $c(u)\\ne c(v)$.\n",
    "\n",
    "\n",
    "- Chromatic number $\\chi(𝐺)$: Lowest possible number of colours required for proper colouring. \n",
    "    - $\\chi(G) \\leq \\Delta(G)+1$\n",
    "    - $\\chi(T)=2$ for any tree $T$\n",
    "    - $\\chi(G)=4$ for any planar grapg $G$ \n",
    "    \n",
    "    \n",
    "\n",
    "\n",
    "<p style=\"margin-bottom:2cm;\"></p>\n",
    "<div style=\"width:100%;text-align:right;font-weight:bold;font-size:1.2em;\"> 24 </div>\n",
    "<img src=\"https://raw.githubusercontent.com/andrejkk/ORvTK_SlidesImgs/master/footer_full.jpg\">"
   ]
  },
  {
   "attachments": {},
   "cell_type": "markdown",
   "metadata": {
    "slideshow": {
     "slide_type": "slide"
    }
   },
   "source": [
    "<div style=\"display:flex;font-weight:bold;font-size:0.9em;\">\n",
    "<div style=\"flex:1;width:50%;\"> 4. Graph Theory </div>\n",
    "<div style=\"flex:1;width:50%;text-align:right;\"> 4.2. Selected graph problems and algorithms </div>\n",
    "</div>\n",
    "\n",
    "\n",
    "## ■ Shortest (cheapest) path problem\n",
    "\n",
    "- Shortest (cheapest) path problem:\n",
    "    - **Single-source shortest paths**: finding a path between start vertice and all other vertices in a graph such that the sum of the weights of its constituent edges is minimized.  \n",
    "    - **All-pairs shortest paths**: finds the shortest paths between every pair of vertices v, v' in the graph\n",
    "\n",
    "\n",
    "- Dijkstra algorithm\n",
    "    - **Require**: Connected graph $G=(V, E)$, node $s$;\n",
    "    - **Ensure**: Shortest path from $s$ to $V\\setminus \\{s\\}$\n",
    "    - Time complexity: $O((|V|+|E|) log⁡(|V|))$ \n",
    "\n",
    "\n",
    "<p style=\"margin-bottom:2cm;\"></p>\n",
    "<div style=\"width:100%;text-align:right;font-weight:bold;font-size:1.2em;\"> 25 </div>\n",
    "<img src=\"https://raw.githubusercontent.com/andrejkk/ORvTK_SlidesImgs/master/footer_full.jpg\">"
   ]
  },
  {
   "attachments": {},
   "cell_type": "markdown",
   "metadata": {
    "slideshow": {
     "slide_type": "slide"
    }
   },
   "source": [
    "<div style=\"display:flex;font-weight:bold;font-size:0.9em;\">\n",
    "<div style=\"flex:1;width:50%;\"> 4. Graph Theory </div>\n",
    "<div style=\"flex:1;width:50%;text-align:right;\"> 4.2. Selected graph problems and algorithms </div>\n",
    "</div>\n",
    "\n",
    "\n",
    "\n",
    "## ■ Maximum flow problem\n",
    "\n",
    "- Maximum flow problem\n",
    "    - graph $G=(V, E)$: network;\n",
    "    - Link capacity: $c: E\\to ℝ_+$;\n",
    "    - flow: $f: E\\to ℝ_+$;\n",
    "    - Problem: Find a path from $s$ to $t$ with maxmal flow $f_m$;\n",
    "\n",
    "\n",
    "- Ford–Fulkerson algorithm\n",
    "    - **Require**: Connected graph $G=(V, E)$, nodes $s$ and $t$;\n",
    "    - **Ensure**: maximal flow $f_m$ (flow through every lin in the graph)\n",
    "    - Time complexity: $O(|E| f_m)$ for $f: 𝐸 \\to ℕ_+$, no guaranty of convergence\n",
    "\n",
    "- Reliable algorithm:  \n",
    "    - Edmonds–Karp algorithm, \n",
    "    - Time complexity $O(|V| |E|^2)$ \n",
    "\n",
    "\n",
    "<p style=\"margin-bottom:2cm;\"></p>\n",
    "<div style=\"width:100%;text-align:right;font-weight:bold;font-size:1.2em;\"> 26 </div>\n",
    "<img src=\"https://raw.githubusercontent.com/andrejkk/ORvTK_SlidesImgs/master/footer_full.jpg\">"
   ]
  },
  {
   "attachments": {},
   "cell_type": "markdown",
   "metadata": {
    "slideshow": {
     "slide_type": "slide"
    }
   },
   "source": [
    "<div style=\"display:flex;font-weight:bold;font-size:0.9em;\">\n",
    "<div style=\"flex:1;width:50%;\"> 4. Graph Theory </div>\n",
    "<div style=\"flex:1;width:50%;text-align:right;\"> 4.2. Selected graph problems and algorithms </div>\n",
    "</div>\n",
    "\n",
    "\n",
    "## ■ Traveling salesman problem\n",
    "\n",
    "- Traveling salesman problem\n",
    "    - Connected graph $G=(V, E)$: cities and roads;\n",
    "    - Distance: $d: E \\to ℝ_+$;\n",
    "    - Problem: find shortest path from a given node $s$ back to $s$ visiting all nodes from $V$.\n",
    "\n",
    "\n",
    "- Solution: dynamic programming, integer programing\n",
    "    - **Require**: Connected graph $G=(V, E)$, $d:E \\to ℝ_+$;\n",
    "    - **Ensure**: Shortest path $P=(v_1=s,\\ldots, v_n=s)$, visiting all nodes from $V$.\n",
    "    - Complexity: $O(2^n)$, NP-hard\n",
    "    \n",
    "    \n",
    "\n",
    "<p style=\"margin-bottom:2cm;\"></p>\n",
    "<div style=\"width:100%;text-align:right;font-weight:bold;font-size:1.2em;\"> 27 </div>\n",
    "<img src=\"https://raw.githubusercontent.com/andrejkk/ORvTK_SlidesImgs/master/footer_full.jpg\">"
   ]
  },
  {
   "cell_type": "markdown",
   "metadata": {
    "slideshow": {
     "slide_type": "slide"
    }
   },
   "source": [
    "<div style=\"display:flex;font-weight:bold;font-size:0.9em;\">\n",
    "<div style=\"flex:1;width:50%;\"> 4. Graph Theory </div>\n",
    "<div style=\"flex:1;width:50%;text-align:right;\"> 4.2. Selected graph problems and algorithms </div>\n",
    "</div>\n",
    "\n",
    "\n",
    "## ■ Graph drawing\n",
    "\n",
    "- Tool Graphviz: http://www.graphviz.org/ \n",
    "- Tool Gephi: http://gephi.org \n",
    "- SageMath: http://www.sagemath.org/ \n",
    "- Seeing theory:\thttp://students.brown.edu/seeing-theory/ \n",
    "- Vis: http://visjs.org/ \n",
    "- Graphs for Neo4j: https://neo4j.com/developer/guide-data-visualization/ \n",
    "- Canviz: https://code.google.com/archive/p/canviz/ \n",
    "\n",
    "\n",
    "\n",
    "<p style=\"margin-bottom:2cm;\"></p>\n",
    "<div style=\"width:100%;text-align:right;font-weight:bold;font-size:1.2em;\"> 28 </div>\n",
    "<img src=\"https://raw.githubusercontent.com/andrejkk/ORvTK_SlidesImgs/master/footer_full.jpg\">"
   ]
  },
  {
   "cell_type": "markdown",
   "metadata": {
    "slideshow": {
     "slide_type": "slide"
    }
   },
   "source": [
    "<div style=\"display:flex;font-weight:bold;font-size:0.9em;\">\n",
    "<div style=\"flex:1;width:50%;\"> 4. Graph Theory </div>\n",
    "<div style=\"flex:1;width:50%;text-align:right;\"> 4.2. Selected graph problems and algorithms </div>\n",
    "</div>\n",
    "\n",
    "## ■ Conclusion\n",
    "\n",
    "- Graph is a data structure for \n",
    "    - TC network modelling\n",
    "    - Social network of users modelling \n",
    "    - Optimization problem formulation\n",
    "    \n",
    "    \n",
    "\n",
    "- Graph algorithms are closely related to TC\n",
    "\n",
    "\n",
    "\n",
    "<p style=\"margin-bottom:2cm;\"></p>\n",
    "<div style=\"width:100%;text-align:right;font-weight:bold;font-size:1.2em;\"> 29 </div>\n",
    "<img src=\"https://raw.githubusercontent.com/andrejkk/ORvTK_SlidesImgs/master/footer_full.jpg\">"
   ]
  },
  {
   "cell_type": "code",
   "execution_count": null,
   "metadata": {},
   "outputs": [],
   "source": []
  }
 ],
 "metadata": {
  "celltoolbar": "Slideshow",
  "kernelspec": {
   "display_name": "Python 3",
   "language": "python",
   "name": "python3"
  },
  "language_info": {
   "codemirror_mode": {
    "name": "ipython",
    "version": 3
   },
   "file_extension": ".py",
   "mimetype": "text/x-python",
   "name": "python",
   "nbconvert_exporter": "python",
   "pygments_lexer": "ipython3",
   "version": "3.10.5"
  },
  "vscode": {
   "interpreter": {
    "hash": "66d245bc0aa345411577de3f292b9e6a6906f0558af2a59212c3c2455e5d14f2"
   }
  }
 },
 "nbformat": 4,
 "nbformat_minor": 2
}
