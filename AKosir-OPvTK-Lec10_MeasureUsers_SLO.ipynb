{
 "cells": [
  {
   "attachments": {},
   "cell_type": "markdown",
   "metadata": {
    "collapsed": true,
    "slideshow": {
     "slide_type": "slide"
    }
   },
   "source": [
    "<img style=\"float: center; width: 100%\" src=\"https://raw.githubusercontent.com/andrejkk/TalksImgs/master/FrontSlideUpperBan.png\">\n",
    "<p style=\"margin-bottom:2cm;\"></p>\n",
    "\n",
    "<center>\n",
    "    <H1> 10. Merjenje uporabnikov </H1>\n",
    "   \n",
    "\n",
    "\n",
    "<br><br>\n",
    "    <H3> Andrej Košir, Lucami, FE </H3>\n",
    "    <H4> Kontakt: prof. dr. Andrej Košir, andrej.kosir@fe.uni-lj.si, ZOOM https://uni-lj-si.zoom.us/j/93256186073 </H4>\n",
    "</center>\n",
    "\n",
    "\n",
    "\n",
    "\n",
    "\n",
    "<p style=\"margin-bottom:2cm;\"></p>\n",
    "<div style=\"width:100%;text-align:right;font-weight:bold;font-size:1.2em;\"> 1 </div>\n",
    "<img src=\"https://raw.githubusercontent.com/andrejkk/ORvTK_SlidesImgs/master/footer_full.jpg\">"
   ]
  },
  {
   "attachments": {},
   "cell_type": "markdown",
   "metadata": {
    "slideshow": {
     "slide_type": "slide"
    }
   },
   "source": [
    "<div style=\"display:flex;font-weight:bold;font-size:0.9em;\">\n",
    "<div style=\"flex:1;width:50%;\"> Merjenje uporabnikov </div>\n",
    "<div style=\"flex:1;width:50%;text-align:right;\"> Učni izidi </div>\n",
    "</div>\n",
    "\n",
    "\n",
    "## ■ Učni izidi\n",
    "\n",
    "- Spoznati problem merjenja uporabnikov\n",
    "- Spoznati in uporabiti izbrane instrumente za merjenje uporabnikov\n",
    "- Spoznati in uporabiti merske karakteristike instrumentov \n",
    "- Spoznati osnove psihofizioloških signalov in interakciji uporabnika s pametnimi sistemi\n",
    "- Spoznati uporabne senzorje za merjenje psihofizioloških signalov\n",
    "\n",
    "\n",
    "<p style=\"margin-bottom:1cm;\"></p>\n",
    "<div style=\"width:100%;text-align:right;font-weight:bold;font-size:1.2em;\"> 2 </div>\n",
    "<img src=\"https://raw.githubusercontent.com/andrejkk/ORvTK_SlidesImgs/master/footer_full.jpg\">"
   ]
  },
  {
   "cell_type": "markdown",
   "metadata": {},
   "source": [
    "<div style=\"display:flex;font-weight:bold;font-size:0.9em;\">\n",
    "<div style=\"flex:1;width:50%;\"> Merjenje uporabnikov </div>\n",
    "<div style=\"flex:1;width:50%;text-align:right;\"> Umestitev </div>\n",
    "</div>\n",
    "\n",
    "\n",
    "## ■ Umestitev\n",
    "\n",
    "Veljavno merjenje stanja in odziva uporabnikov je bistven element uporabniških poskusov in posledično razumevanja uporabnikov ter učinkovitega vodenja razvoja storitev. Uporabnik je najzahtevnejši element optimizacije sistema z upoštevanjem uporabnikov. Razlogov za to je več, med drugim tudi dejstvo, da je človeški jezik premalo natančen za zbiranje odzivov in da je človeški odziv odvisen od najrazličnejših tudi nemerljivih dejavnikov.\n",
    "\n",
    "Praksa kaže, da preprosto vprašanje uporabniku npr. Ali je varianta vmesnika B boljša od variante A? ne da uporabnih rezultatov. Razlog je v tem, da vsak uporabnik gleda svoj vidik in tako so odgovori tako raznoliki, da je kakršnokoli sklepanje nemogoče. Rešitev tega problema je uporaba že izdelanih instrumentov, ki jih sestavlja več vprašanj in za ta vprašanja so s poskusi dokazali, da delujejo dobro, in dodali navodila, kako odgovore na ta vprašanja prevedemo v stabilen uporabnikov odziv. Taki instrumenti so npr. UMUX, ki meri uporabnikov odziv na uporabnost interakcije s sistemom, in PANAS, ki meri uporabnikovo afektivno stanje. Izdelava lastnih vprašalnikov je zahteven projekt in ga skrajno odsvetujemo, saj je razen v izjemnih primerih na voljo dovolj obstoječih instrumentov. \n",
    "\n",
    "Kljub uporabi obstoječih instrumentov, uporabnost uporabnikovih odzivov ostaja problem in preverimo jih z merskimi karakteristikami. Poznamo veljavnost (ali instrument res meri kar od njega pričakujemo) in zanesljivost (ali bi ob ponovnem merjenju dobili podobne uporabnikove odzive). Pri uporabi obstoječih vprašalnikov veljavnost navadno ni problem, zanesljivost pa je nujno preveriti ob vsakem eksperimentu. To opravimo tako, da izračunamo dan koeficient (npr. Cronbachova $\\alpha$) in preverimo, ali je dovolj visok (npr. Cronbachova $\\alpha \\geq 0.7$)\n",
    "\n",
    "Instrumenti so omejeni na merjenje izven realnaga časa, tipično po sami izvedbi poskusa. Sodobne senzorske tehnologije pa omogočajo merjenje tudi v realnem času. Merjenje količine so psiho-fiziološki signali, npr. srčni utrip, elektro-dermalna prevodnost kože, velikost zenice ipd. Iz teh količin je mogoče s pomočjo strojenga učenja oceniti relevantne količnie kot so pozornost in stres, kar nam omogoča prilagajanje storitve v realnem času. Obstoječi senzorji so doseglu uporabno vrednost, težava ostaja invazivnost (motečnost) teh senzorjev že v laboratorijskem okolju.\n",
    "\n",
    "\n",
    "\n",
    "\n",
    "<p style=\"margin-bottom:1cm;\"></p>\n",
    "<div style=\"width:100%;text-align:right;font-weight:bold;font-size:1.2em;\"> 2 </div>\n",
    "<img src=\"https://raw.githubusercontent.com/andrejkk/ORvTK_SlidesImgs/master/footer_full.jpg\">"
   ]
  },
  {
   "attachments": {},
   "cell_type": "markdown",
   "metadata": {
    "slideshow": {
     "slide_type": "slide"
    }
   },
   "source": [
    "<div style=\"display:flex;font-weight:bold;font-size:0.9em;\">\n",
    "<div style=\"flex:1;width:50%;\"> 10. Merjenje uporabnikov </div>\n",
    "<div style=\"flex:1;width:50%;text-align:right;\"> Vsebina </div>\n",
    "</div>\n",
    "\n",
    "\n",
    "## Poglavja\n",
    "\n",
    "### 1. Merjenje uporabnikov: instrumenti in kosntrukti\n",
    "\n",
    "\n",
    "#### 1.1. Izbrani instrumenti - vprašalniki\n",
    "\n",
    "■ Uvod: kaj je instrument in kaj konstrukt $\\large{*}$\n",
    "\n",
    "■ Uporabnost (Usability): sistemska uporabnost SUS $\\large{*}$\n",
    "\n",
    "■ Uporabnost (Usability): Uporabnost interakcija UMUX $\\large{*}$\n",
    "\n",
    "■ Merjenje osebnosti: velikih 5 (Big5) $\\large{*}$\n",
    "\n",
    "■ Merjenje razpoloženja: PANAS $\\large{*}$\n",
    "\n",
    "■ Merjenje obremenitve: NASA TLX $\\large{*}$\n",
    "\n",
    "■ Merjenje kvalitete dvogovora: SUISQ $\\large{*}$\n",
    "\n",
    "■ K uporabi instrumentov in konstruktov\n",
    "\n",
    "\n",
    "#### 1.2. Izračun metrike uspešnosti - ocena dimenzij konstrukta, instrument\n",
    "\n",
    "■ Uvod in primer SUISQ\n",
    "\n",
    "■ Uteži faktorske matrike definirajo konstrukt $\\large{*}$\n",
    "\n",
    "■ Izračun točk konstrukta ali skale $\\large{*}$\n",
    "\n",
    "#### 1.3. Merske karakteristike\n",
    "\n",
    "■ Problem vprašalnikov in merske karakteristike $\\large{*}$\n",
    "\n",
    "■ Veljavnost $\\large{*}$\n",
    "\n",
    "■ Zanesljivost $\\large{*}$\n",
    "\n",
    "\n",
    "\n",
    "### 2. Merjenje uporabnikov: psihofiziološki signali\n",
    "\n",
    "■ Fiziologija človeka in psihofiziološki signali $\\large{*}$\n",
    "\n",
    "■ Socialni signali uporabnika $\\large{*}$\n",
    "\n",
    "■ Ocenjevanje socialnih signalov uporabnika $\\large{*}$\n",
    "\n",
    "■ Čustva: merjenje signalov\n",
    "\n",
    "■ Kognitivna obremenitev: merjenje signalov\n",
    "\n",
    "■ Pozornost: merjenje signalov\n",
    "\n",
    "■ Stres: merjenje signalov\n",
    "\n",
    "■ Senzorji za psiho-fiziološke signale\n",
    "\n",
    "■ Zaključek\n",
    "\n",
    "\n",
    "<p style=\"margin-bottom:1cm;\"></p>\n",
    "<div style=\"width:100%;text-align:right;font-weight:bold;font-size:1.2em;\"> 3 </div>\n",
    "<img src=\"https://raw.githubusercontent.com/andrejkk/ORvTK_SlidesImgs/master/footer_full.jpg\">"
   ]
  }
 ],
 "metadata": {
  "celltoolbar": "Slideshow",
  "kernelspec": {
   "display_name": "Python 3",
   "language": "python",
   "name": "python3"
  },
  "language_info": {
   "codemirror_mode": {
    "name": "ipython",
    "version": 3
   },
   "file_extension": ".py",
   "mimetype": "text/x-python",
   "name": "python",
   "nbconvert_exporter": "python",
   "pygments_lexer": "ipython3",
   "version": "3.11.3"
  },
  "vscode": {
   "interpreter": {
    "hash": "66d245bc0aa345411577de3f292b9e6a6906f0558af2a59212c3c2455e5d14f2"
   }
  }
 },
 "nbformat": 4,
 "nbformat_minor": 2
}
