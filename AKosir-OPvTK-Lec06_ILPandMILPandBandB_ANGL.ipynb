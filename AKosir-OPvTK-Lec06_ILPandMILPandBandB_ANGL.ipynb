{
 "cells": [
  {
   "cell_type": "markdown",
   "metadata": {
    "collapsed": true,
    "slideshow": {
     "slide_type": "slide"
    }
   },
   "source": [
    "<img style=\"float: center; width: 100%\" src=\"https://raw.githubusercontent.com/andrejkk/TalksImgs/master/FrontSlideUpperBan.png\">\n",
    "<p style=\"margin-bottom:2cm;\"></p>\n",
    "\n",
    "<center>\n",
    "    <H1> 6. Integer (ILP), mixed programming (MILP) and Branch and Bound (B and B) </H1>\n",
    "   \n",
    "\n",
    "\n",
    "<br><br>\n",
    "    <H3> Andrej Košir, Lucami, FE </H3>\n",
    "    <H4> Contact: prof. dr. Andrej Košir, andrej.kosir@lucami.fe.uni-lj.si, skype=akosir_sid </H4>\n",
    "</center>\n",
    "\n",
    "\n",
    "<p style=\"margin-bottom:2cm;\"></p>\n",
    "<div style=\"width:100%;text-align:right;font-weight:bold;font-size:1.2em;\"> 1 </div>\n",
    "<img src=\"https://raw.githubusercontent.com/andrejkk/ORvTK_SlidesImgs/master/footer_full.jpg\">"
   ]
  },
  {
   "cell_type": "markdown",
   "metadata": {
    "collapsed": true,
    "slideshow": {
     "slide_type": "slide"
    }
   },
   "source": [
    "<div style=\"display:flex;font-weight:bold;font-size:0.9em;\">\n",
    "<div style=\"flex:1;width:50%;\"> 6. Integer (ILP) in mixed programming (MILP)  </div>\n",
    "<div style=\"flex:1;width:50%;text-align:right;\"> Goals </div>\n",
    "</div>\n",
    "\n",
    "\n",
    "## ■ Intro, goal:\n",
    "\n",
    "\n",
    "- Goals\n",
    "    - Know the formulation and relation to LP\n",
    "    - Know algorithmic specifics\n",
    "    - Cases in  TC\n",
    "\n",
    "\n",
    "\n",
    "- Naive solution:\n",
    "    - First solve LP for real numbers and then rounding?\n",
    "    - Wrong: not optimal, even not feasible\n",
    "    \n",
    "    \n",
    "- Why limit to integers?\n",
    "    - Logical variables\n",
    "    - Set membership like a link on a path\n",
    "\n",
    "\n",
    "<p style=\"margin-bottom:2cm;\"></p>\n",
    "<div style=\"width:100%;text-align:right;font-weight:bold;font-size:1.2em;\"> 2 </div>\n",
    "<img src=\"https://raw.githubusercontent.com/andrejkk/ORvTK_SlidesImgs/master/footer_full.jpg\">"
   ]
  },
  {
   "cell_type": "markdown",
   "metadata": {
    "collapsed": true,
    "slideshow": {
     "slide_type": "slide"
    }
   },
   "source": [
    "<div style=\"display:flex;font-weight:bold;font-size:0.9em;\">\n",
    "<div style=\"flex:1;width:50%;\"> 6. Integer (ILP), mixed programming (MILP) and Branch and Bound (B and B)  </div>\n",
    "<div style=\"flex:1;width:50%;text-align:right;\"> Sections </div>\n",
    "</div>\n",
    "\n",
    "\n",
    "## ■ Sections\n",
    "\n",
    "\n",
    "6.1. Definition, solvability, algorithm\n",
    "\n",
    "■ Integer and Mixed-integer programming definition $\\large{*}$\n",
    "\n",
    "■ Theory: total unimodularity\n",
    "\n",
    "■ ILP algorithm\n",
    "\n",
    "\n",
    "\n",
    "6.2 ILP in ICT examples\n",
    "\n",
    "■ Some ILP in ICT tasks $\\large{*}$\n",
    "\n",
    "■ Service cost problem\n",
    "\n",
    "■ Elastic optical network optimization problem\n",
    "\n",
    "\n",
    "\n",
    "6.3. Algorithm Branch and bound \n",
    "\n",
    "■ B&B: an umbrela of algorithms\n",
    "\n",
    "■ B&B solution of a MILP problem\n",
    "\n",
    "\n",
    "<p style=\"margin-bottom:2cm;\"></p>\n",
    "<div style=\"width:100%;text-align:right;font-weight:bold;font-size:1.2em;\"> 3 </div>\n",
    "<img src=\"https://raw.githubusercontent.com/andrejkk/ORvTK_SlidesImgs/master/footer_full.jpg\">"
   ]
  },
  {
   "cell_type": "markdown",
   "metadata": {
    "collapsed": true,
    "slideshow": {
     "slide_type": "slide"
    }
   },
   "source": [
    "<div style=\"display:flex;font-weight:bold;font-size:0.9em;\">\n",
    "<div style=\"flex:1;width:50%;\"> 6. Integer (ILP), mixed programming (MILP) and Branch and Bound (B and B)  </div>\n",
    "<div style=\"flex:1;width:50%;text-align:right;\"> 6.1. Definition, solvability, algorithm </div>\n",
    "</div>\n",
    "\n",
    "\n",
    "## 6.1. Definition, solvability, algorithm\n",
    "\n",
    "\n",
    "■ Integer and Mixed-integer programming definition\n",
    "\n",
    "■ Theory: total unimodularity\n",
    "\n",
    "■ ILP algorithm\n",
    "\n",
    "\n",
    "\n",
    "<p style=\"margin-bottom:2cm;\"></p>\n",
    "<div style=\"width:100%;text-align:right;font-weight:bold;font-size:1.2em;\"> 4 </div>\n",
    "<img src=\"https://raw.githubusercontent.com/andrejkk/ORvTK_SlidesImgs/master/footer_full.jpg\">"
   ]
  },
  {
   "cell_type": "markdown",
   "metadata": {
    "collapsed": true,
    "slideshow": {
     "slide_type": "slide"
    }
   },
   "source": [
    "<div style=\"display:flex;font-weight:bold;font-size:0.9em;\">\n",
    "<div style=\"flex:1;width:50%;\"> 6. Integer (ILP), mixed programming (MILP) and Branch and Bound (B and B)  </div>\n",
    "<div style=\"flex:1;width:50%;text-align:right;\"> 6.1. Definition, solvability, algorithm </div>\n",
    "</div>\n",
    "\n",
    "\n",
    "## ■ Definition of integer programming\n",
    "\n",
    "- Definition\n",
    "$$ \\begin{matrix}\n",
    " & & argmax_x w^\\top.x \\cr \n",
    " & s.t. & \\cr\n",
    " & & A.x \\leq b \\cr\n",
    " & & x\\in ℕ \n",
    "\\end{matrix} $$\n",
    "\n",
    "\n",
    "- Mixed examples:\n",
    "    - Mixed integer linear programming\n",
    "    - Zero – one linear programming: logical variables, typically related to set membership\n",
    "\n",
    "\n",
    "- Why?\n",
    "    - Real cases require it\n",
    "\n",
    "\n",
    "<p style=\"margin-bottom:2cm;\"></p>\n",
    "<div style=\"width:100%;text-align:right;font-weight:bold;font-size:1.2em;\"> 5 </div>\n",
    "<img src=\"https://raw.githubusercontent.com/andrejkk/ORvTK_SlidesImgs/master/footer_full.jpg\">"
   ]
  },
  {
   "cell_type": "markdown",
   "metadata": {
    "collapsed": true,
    "slideshow": {
     "slide_type": "slide"
    }
   },
   "source": [
    "<div style=\"display:flex;font-weight:bold;font-size:0.9em;\">\n",
    "<div style=\"flex:1;width:50%;\"> 6. Integer (ILP), mixed programming (MILP) and Branch and Bound (B and B)  </div>\n",
    "<div style=\"flex:1;width:50%;text-align:right;\"> 6.1. Definition, solvability, algorithm </div>\n",
    "</div>\n",
    "\n",
    "\n",
    "## ■ Theory: total unimodularity\n",
    "\n",
    "- Totally unimodular matrix $A$:\n",
    "    - Unimodular matrix : integers, $\\det(A)=\\pm 1$. Equivalent: matrix has integer inverse;\n",
    "    - Totally unimodular matrix: any non-singular submatrix is unimodular. Consists of entries $−1,0,1$.\n",
    "\n",
    "\n",
    "\n",
    "- If a matrix $A$ is totally unimodular:\n",
    "    - Basic feasible solutions are integers\n",
    "    - Simplex algorithm results in integer solutions\n",
    "\n",
    "\n",
    "\n",
    "\n",
    "- How do we check total unimodualrity:\n",
    "    - Paper: K. Truemper. A decomposition theory for matroids. V. Testing of matrix total unimodularity, J. Comb. Theory, Ser. B 49, 241-281, 1990.\n",
    "    - Algorithm: $O((𝑛+𝑚)^5)$\n",
    "\n",
    "\n",
    "\n",
    "- If a matrix A is totally unimodular:\n",
    "    - Basic feasible solutions are integers\n",
    "    - Simplex algorithm results in integer solutions\n",
    " \n",
    "\n",
    "<p style=\"margin-bottom:2cm;\"></p>\n",
    "<div style=\"width:100%;text-align:right;font-weight:bold;font-size:1.2em;\"> 6 </div>\n",
    "<img src=\"https://raw.githubusercontent.com/andrejkk/ORvTK_SlidesImgs/master/footer_full.jpg\">"
   ]
  },
  {
   "attachments": {},
   "cell_type": "markdown",
   "metadata": {
    "collapsed": true,
    "slideshow": {
     "slide_type": "slide"
    }
   },
   "source": [
    "<div style=\"display:flex;font-weight:bold;font-size:0.9em;\">\n",
    "<div style=\"flex:1;width:50%;\"> 6. Integer (ILP), mixed programming (MILP) and Branch and Bound (B and B)  </div>\n",
    "<div style=\"flex:1;width:50%;text-align:right;\"> 6.1. Definition, solvability, algorithm </div>\n",
    "</div>\n",
    "\n",
    "\n",
    "## ■ Theory: total unimodularity (2)\n",
    " \n",
    "Total unimodularity is only a sufficient condition, not a necessary one. See cases bellow. \n",
    "\n",
    "#### Case 1:\n",
    "\n",
    "$$ w = [2, 4, 3]^\\top, \\qquad\n",
    "A_1 = \\left[\\begin{matrix}\n",
    "    1  & -1  &  0 \\cr \n",
    "    -1 &  0  &  1 \\cr\n",
    "    1  &  1  & -1\n",
    "    \\end{matrix}\\right], \\qquad b = [3, 2, 4]^\\top $$\n",
    "\n",
    "- is $A_1$ unimodular? No.\n",
    "- is the solution intiger? Yes: $x^* = [12, 9, 17]$\n",
    "\n",
    "#### Case 2:\n",
    "\n",
    "$$ w = [2, 4, 3]^\\top, \\qquad\n",
    "A_2 = \\left[\\begin{matrix}\n",
    "    1  & -1  &  0 \\cr \n",
    "    -1 &  1  &  1 \\cr\n",
    "    1  &  1  & -1\n",
    "    \\end{matrix}\\right], \\qquad b = [3, 2, 4]^\\top $$\n",
    "\n",
    "\n",
    "#### Case 3:\n",
    "$$ w = [2, 4, 3]^\\top, \\qquad\n",
    "A_2 = \\left[\\begin{matrix}\n",
    "    1  & -1  &  0 \\cr \n",
    "    -1 &  1  &  1 \\cr\n",
    "    1  &  1  & -1\n",
    "    \\end{matrix}\\right], \\qquad b = [3.8, 2, 4]^\\top $$\n",
    "\n",
    "\n",
    "- is $A_1$ unimodular? No.\n",
    "- is the solution intiger? No: $x^* = [7.5, 4.5, 8]$\n",
    "\n",
    "\n",
    "<p style=\"margin-bottom:2cm;\"></p>\n",
    "<div style=\"width:100%;text-align:right;font-weight:bold;font-size:1.2em;\"> 7 </div>\n",
    "<img src=\"https://raw.githubusercontent.com/andrejkk/ORvTK_SlidesImgs/master/footer_full.jpg\">"
   ]
  },
  {
   "attachments": {},
   "cell_type": "markdown",
   "metadata": {
    "collapsed": true,
    "slideshow": {
     "slide_type": "slide"
    }
   },
   "source": [
    "<div style=\"display:flex;font-weight:bold;font-size:0.9em;\">\n",
    "<div style=\"flex:1;width:50%;\"> 6. Integer (ILP), mixed programming (MILP) and Branch and Bound (B and B)  </div>\n",
    "<div style=\"flex:1;width:50%;text-align:right;\"> 6.1. Definition, solvability, algorithm </div>\n",
    "</div>\n",
    "\n",
    "\n",
    "## ■ Algorithms solving ILP\n",
    "\n",
    "- First choice: branch and bound\n",
    "- Simplex algorithm for totally unimodular matrix A - rarely useful on our domain\n",
    "- Special algorithms for special cases\n",
    "\n",
    "\n",
    "\n",
    "<p style=\"margin-bottom:2cm;\"></p>\n",
    "<div style=\"width:100%;text-align:right;font-weight:bold;font-size:1.2em;\"> 8 </div>\n",
    "<img src=\"https://raw.githubusercontent.com/andrejkk/ORvTK_SlidesImgs/master/footer_full.jpg\">"
   ]
  },
  {
   "attachments": {},
   "cell_type": "markdown",
   "metadata": {
    "collapsed": true,
    "slideshow": {
     "slide_type": "slide"
    }
   },
   "source": [
    "<div style=\"display:flex;font-weight:bold;font-size:0.9em;\">\n",
    "<div style=\"flex:1;width:50%;\"> 6. Integer (ILP), mixed programming (MILP) and Branch and Bound (B and B)  </div>\n",
    "<div style=\"flex:1;width:50%;text-align:right;\"> 6.2 ILP in ICT examples </div>\n",
    "</div>\n",
    "\n",
    "\n",
    "## 6.2 ILP in ICT examples\n",
    "\n",
    "\n",
    "■ Selected task of ILP v TK\n",
    "\n",
    "■ Service cost problem\n",
    "\n",
    "■ Elastic optical network optimization problem\n",
    "\n",
    "\n",
    "<p style=\"margin-bottom:2cm;\"></p>\n",
    "<div style=\"width:100%;text-align:right;font-weight:bold;font-size:1.2em;\"> 9 </div>\n",
    "<img src=\"https://raw.githubusercontent.com/andrejkk/ORvTK_SlidesImgs/master/footer_full.jpg\">"
   ]
  },
  {
   "attachments": {},
   "cell_type": "markdown",
   "metadata": {
    "collapsed": true,
    "slideshow": {
     "slide_type": "slide"
    }
   },
   "source": [
    "<div style=\"display:flex;font-weight:bold;font-size:0.9em;\">\n",
    "<div style=\"flex:1;width:50%;\"> 6. Integer (ILP), mixed programming (MILP) and Branch and Bound (B and B)  </div>\n",
    "<div style=\"flex:1;width:50%;text-align:right;\"> 6.2 ILP in ICT examples </div>\n",
    "</div>\n",
    "\n",
    "\n",
    "## ■ Selected task of ILP v TK\n",
    "\n",
    "\n",
    " - network design \n",
    " - service prising problems\n",
    " - covering problems\n",
    " - Boolean satisfability problem\"\n",
    " - Travel salesman problem \n",
    "\n",
    "\n",
    "In separate notebooks:\n",
    "- Optimal service cost allocation\n",
    "- Elastic optical network optimisation\n",
    "\n",
    "\n",
    "<p style=\"margin-bottom:2cm;\"></p>\n",
    "<div style=\"width:100%;text-align:right;font-weight:bold;font-size:1.2em;\"> 10 </div>\n",
    "<img src=\"https://raw.githubusercontent.com/andrejkk/ORvTK_SlidesImgs/master/footer_full.jpg\">"
   ]
  },
  {
   "attachments": {},
   "cell_type": "markdown",
   "metadata": {
    "collapsed": true,
    "slideshow": {
     "slide_type": "slide"
    }
   },
   "source": [
    "<div style=\"display:flex;font-weight:bold;font-size:0.9em;\">\n",
    "<div style=\"flex:1;width:50%;\"> 6. Integer (ILP), mixed programming (MILP) and Branch and Bound (B and B)  </div>\n",
    "<div style=\"flex:1;width:50%;text-align:right;\"> 6.3. Algorithm Branch and bound </div>\n",
    "</div>\n",
    "\n",
    "\n",
    "## 6.3. Algorithm Branch and bound \n",
    "\n",
    "■ B&B: an umbrela of algorithms\n",
    "\n",
    "■ B&B solution of a MILP problem\n",
    "\n",
    "\n",
    "<p style=\"margin-bottom:2cm;\"></p>\n",
    "<div style=\"width:100%;text-align:right;font-weight:bold;font-size:1.2em;\"> 11 </div>\n",
    "<img src=\"https://raw.githubusercontent.com/andrejkk/ORvTK_SlidesImgs/master/footer_full.jpg\">"
   ]
  },
  {
   "attachments": {},
   "cell_type": "markdown",
   "metadata": {
    "collapsed": true,
    "slideshow": {
     "slide_type": "slide"
    }
   },
   "source": [
    "<div style=\"display:flex;font-weight:bold;font-size:0.9em;\">\n",
    "<div style=\"flex:1;width:50%;\"> 6. Integer (ILP), mixed programming (MILP) and Branch and Bound (B and B)  </div>\n",
    "<div style=\"flex:1;width:50%;text-align:right;\"> 6.3. Algorithm Branch and bound </div>\n",
    "</div>\n",
    "\n",
    "\n",
    "## ■ B&B: an umbrela of algorithms\n",
    "\n",
    "- not a single algorithm, only a scheme\n",
    "\n",
    "#### Steps:\n",
    "For the optimisation task $OpT = (\\Omega, \\Phi, c, F)$\n",
    "\n",
    "1. Load the optimisation problem $OpT$ \n",
    "2. Compute lower bound $L=l(OpT)$ and upper bound $U=u(OpT)$\n",
    "3. Branch the optimisation problem $OpT = OpT1 + OpT2$\n",
    "4. Comput lower bounds $l(OpT1)$, $l(OpT2)$ and upper bounds $u(OpT1)$ and $u(OpT2)$\n",
    "5. Update lower and upper bounds \n",
    "    - update lower bound: $L = \\min(l(OpT1), l(OpT2))$ \n",
    "    - update upper bound: $U = \\max(u(OpT1), u(OpT2))$\n",
    "    - if $U_2 - L_2 < \\varepsilon$, terminate\n",
    "6. Go to step 3 with $OpT1$ and with $OpT2$ separatelly \n",
    "\n",
    "\n",
    "\n",
    "<p style=\"margin-bottom:2cm;\"></p>\n",
    "<div style=\"width:100%;text-align:right;font-weight:bold;font-size:1.2em;\"> 12 </div>\n",
    "<img src=\"https://raw.githubusercontent.com/andrejkk/ORvTK_SlidesImgs/master/footer_full.jpg\">"
   ]
  },
  {
   "cell_type": "code",
   "execution_count": 5,
   "metadata": {},
   "outputs": [],
   "source": [
    "# A simple implementation of B&B: project pybnb \n",
    "#  https://pypi.org/project/pybnb/\n",
    "\n",
    "# Required installs\n",
    "#  pip install pybnb\n",
    "#  pip install mpi4py\n",
    "\n",
    "\n",
    "import pybnb\n",
    "\n",
    "class Simple(pybnb.Problem):\n",
    "    def __init__(self):\n",
    "        self.bounds = [0.0,1.0]\n",
    "    def sense(self):\n",
    "        return pybnb.minimize\n",
    "    def objective(self):\n",
    "        return round(self.bounds[1] - self.bounds[0], 3)\n",
    "    def bound(self):\n",
    "        return -(self.bounds[1] - self.bounds[0])**2\n",
    "    def save_state(self, node):\n",
    "        node.state = self.bounds\n",
    "    def load_state(self, node):\n",
    "        self.bounds = node.state\n",
    "    def branch(self):\n",
    "        L, U = self.bounds\n",
    "        mid = 0.5 * (L + U)\n",
    "        for l,u in [(L,mid), (mid,U)]:\n",
    "            child = pybnb.Node()\n",
    "            child.state = (l,u)\n",
    "            yield child"
   ]
  },
  {
   "cell_type": "code",
   "execution_count": 6,
   "metadata": {},
   "outputs": [
    {
     "name": "stdout",
     "output_type": "stream",
     "text": [
      "\n",
      "Using non-default solver options:\n",
      " - absolute_gap: 1e-09 (default: 0)\n",
      "\n",
      "Starting branch & bound solve:\n",
      " - dispatcher pid: 6184 (DESKTOP-N1K5F8O)\n",
      " - worker processes: 1\n",
      "---------------------------------------------------------------------------------------------------------------------------\n",
      "         Nodes        |                      Objective Bounds                        |              Work              \n",
      "      Expl    Unexpl  |      Incumbent           Bound    Rel. Gap          Abs. Gap | Time (s)  Nodes/Sec Imbalance   Idle\n",
      "         0         1  |            inf            -inf         inf%              inf |      0.0       0.00     0.00%      0\n",
      "*        1         2  |              1              -1  200.000000%                2 |      0.0     333.25     0.00%      0\n",
      "*        2         3  |            0.5              -1  150.000000%              1.5 |      0.0     907.44     0.00%      0\n",
      "*        4         5  |           0.25           -0.25   50.000000%              0.5 |      0.0     907.44     0.00%      0\n",
      "*        8         9  |          0.125         -0.0625   18.750000%           0.1875 |      0.0    3417.83     0.00%      0\n",
      "      Expl    Unexpl  |      Incumbent           Bound    Rel. Gap          Abs. Gap | Time (s)  Nodes/Sec Imbalance   Idle\n",
      "*       16        17  |          0.062       -0.015625    7.762500%         0.077625 |      0.0    7494.73     0.00%      0\n",
      "*       32        33  |          0.031     -0.00390625    3.490625%       0.03490625 |      0.0   15141.87     0.00%      0\n",
      "*       64        65  |          0.016   -0.0009765625    1.697656%     0.0169765625 |      0.0   30301.55     0.00%      0\n",
      "*      128       129  |          0.008   -0.0002441406    0.824414%   0.008244140625 |      0.0   16293.36     0.00%      0\n",
      "*      256       257  |          0.004   -6.103516e-05    0.406104%  0.0040610351563 |      0.0   18239.78     0.00%      0\n",
      "      Expl    Unexpl  |      Incumbent           Bound    Rel. Gap          Abs. Gap | Time (s)  Nodes/Sec Imbalance   Idle\n",
      "*      512       513  |          0.002   -1.525879e-05    0.201526%  0.0020152587891 |      0.0   34657.28     0.00%      0\n",
      "*     1024      1025  |          0.001   -3.814697e-06    0.100381%  0.0010038146973 |      0.0   32191.71     0.00%      0\n",
      "*     2048      2049  |              0   -9.536743e-07    0.000095% 9.5367431641e-07 |      0.1   36328.57     0.00%      0\n",
      "     46277     19258  |              0    -3.72529e-09    0.000000% 3.7252902985e-09 |      1.1   43747.63     0.00%      0\n",
      "     65535         0  |              0   -9.313226e-10    0.000000% 9.3132257462e-10 |      1.3   72096.41     0.00%      0\n",
      "---------------------------------------------------------------------------------------------------------------------------\n",
      "\n",
      "Absolute optimality tolerance met\n",
      "Optimal solution found!\n",
      "\n",
      "solver results:\n",
      " - solution_status: optimal\n",
      " - termination_condition: optimality\n",
      " - objective: 0\n",
      " - bound: -9.313226e-10\n",
      " - absolute_gap: 9.313226e-10\n",
      " - relative_gap: 9.313226e-10\n",
      " - nodes: 65535\n",
      " - wall_time: 1.34 s\n",
      " - best_node: Node(objective=0)\n",
      "\n",
      "Number of Workers:        1\n",
      "Load Imbalance:       0.00%\n",
      " - min: 65535 (proc rank=0)\n",
      " - max: 65535 (proc rank=0)\n",
      "Average Worker Timing:\n",
      " - queue:      47.75% [avg time:   9.7 us, count: 65535]\n",
      " - load_state:  1.63% [avg time: 333.6 ns, count: 65535]\n",
      " - bound:       2.85% [avg time: 580.7 ns, count: 65535]\n",
      " - objective:   2.68% [avg time:   1.1 us, count: 32767]\n",
      " - branch:     11.30% [avg time:   4.6 us, count: 32767]\n",
      " - other:      33.79% [avg time:   6.9 us, count: 65535]\n",
      "\n"
     ]
    }
   ],
   "source": [
    "problem = Simple()\n",
    "results = pybnb.solve(problem,\n",
    "                      absolute_gap=1e-9)"
   ]
  },
  {
   "cell_type": "code",
   "execution_count": 8,
   "metadata": {},
   "outputs": [
    {
     "data": {
      "text/plain": [
       "-9.313225746154785e-10"
      ]
     },
     "execution_count": 8,
     "metadata": {},
     "output_type": "execute_result"
    }
   ],
   "source": [
    "results.bound"
   ]
  },
  {
   "attachments": {},
   "cell_type": "markdown",
   "metadata": {
    "collapsed": true,
    "slideshow": {
     "slide_type": "slide"
    }
   },
   "source": [
    "<div style=\"display:flex;font-weight:bold;font-size:0.9em;\">\n",
    "<div style=\"flex:1;width:50%;\"> 6. Integer (ILP), mixed programming (MILP) and Branch and Bound (B and B)  </div>\n",
    "<div style=\"flex:1;width:50%;text-align:right;\"> 6.3. Algorithm Branch and bound </div>\n",
    "</div>\n",
    "\n",
    "\n",
    "## ■ B&B solution of a MILP problem\n",
    "\n",
    "- understanding the case \n",
    "\n",
    "$$ \\begin{matrix}\n",
    " & & argmax_x 2 x_1 + x_2 \\cr \n",
    " & s.t. & \\cr\n",
    " & & 5 x_1 + 2 x_2  \\leq 8  \\cr\n",
    " & & x_1 + x_2  \\leq 3  \\cr\n",
    " & & x_1, x_2 \\geq 0  \\cr\n",
    " & & x_1 \\in N \n",
    "\\end{matrix} $$\n",
    " \n",
    " \n",
    "#### Steps:\n",
    "1. Solve it for real numbers: $x^* = (2/3, 7/3)$\n",
    "2. Select a variable to branch on: $x_1$, and define subproblems\n",
    "    - $x_1\\leq 0$: solutuion is $x^* = (0, 3)$\n",
    "    - $x_1 \\geq 1$: solution is $x^* = (1, 3/2)$\n",
    "    \n",
    "3. Bound and cut?\n",
    "4. Go back to 1. solving subproblems not cut \n",
    "\n",
    "\n",
    "<p style=\"margin-bottom:2cm;\"></p>\n",
    "<div style=\"width:100%;text-align:right;font-weight:bold;font-size:1.2em;\"> 13 </div>\n",
    "<img src=\"https://raw.githubusercontent.com/andrejkk/ORvTK_SlidesImgs/master/footer_full.jpg\">"
   ]
  },
  {
   "attachments": {},
   "cell_type": "markdown",
   "metadata": {
    "collapsed": true,
    "slideshow": {
     "slide_type": "slide"
    }
   },
   "source": [
    "<div style=\"display:flex;font-weight:bold;font-size:0.9em;\">\n",
    "<div style=\"flex:1;width:50%;\"> 6. Integer (ILP), mixed programming (MILP) and Branch and Bound (B and B)  </div>\n",
    "<div style=\"flex:1;width:50%;text-align:right;\"> 6.3. Algorithm Branch and bound </div>\n",
    "</div>\n",
    "\n",
    "\n",
    "## Conclusion\n",
    "\n",
    "- MILP:\n",
    "    - When: set membership\n",
    "    - Real TC problems are usually MILP\n",
    "\n",
    "- Algorithm: \n",
    "    - More complex than LP\n",
    "    - Useful: bramch and bound\n",
    "\n",
    "\n",
    "\n",
    "\n",
    "<p style=\"margin-bottom:2cm;\"></p>\n",
    "<div style=\"width:100%;text-align:right;font-weight:bold;font-size:1.2em;\"> 14 </div>\n",
    "<img src=\"https://raw.githubusercontent.com/andrejkk/ORvTK_SlidesImgs/master/footer_full.jpg\">"
   ]
  },
  {
   "cell_type": "code",
   "execution_count": null,
   "metadata": {},
   "outputs": [],
   "source": []
  }
 ],
 "metadata": {
  "celltoolbar": "Slideshow",
  "kernelspec": {
   "display_name": "Python 3",
   "language": "python",
   "name": "python3"
  },
  "language_info": {
   "codemirror_mode": {
    "name": "ipython",
    "version": 3
   },
   "file_extension": ".py",
   "mimetype": "text/x-python",
   "name": "python",
   "nbconvert_exporter": "python",
   "pygments_lexer": "ipython3",
   "version": "3.10.5"
  },
  "vscode": {
   "interpreter": {
    "hash": "66d245bc0aa345411577de3f292b9e6a6906f0558af2a59212c3c2455e5d14f2"
   }
  }
 },
 "nbformat": 4,
 "nbformat_minor": 2
}
