{
  "cells": [
    {
      "metadata": {
        "collapsed": true,
        "slideshow": {
          "slide_type": "slide"
        }
      },
      "cell_type": "markdown",
      "source": "<img style=\"float: center; width: 100%\" src=\"https://raw.githubusercontent.com/andrejkk/TalksImgs/master/FrontSlideUpperBan.png\">\n<p style=\"margin-bottom:2cm;\"></p>\n\n<center>\n    <H1> Matrični račun za Markovske verige </H1>\n   \n\n\n<br><br>\n    <H3> Andrej Košir, Lucami, FE </H4>\n    \n    <H4> Kontakt: prof. dr. Andrej Košir, andrej.kosir@lucami.fe.uni-lj.si, skype=akosir_sid </H4>\n</center>\n\n\n<p style=\"margin-bottom:2cm;\"></p>\n<div style=\"width:100%;text-align:right;font-weight:bold;font-size:1.2em;\"> 1 </div>\n<img src=\"https://raw.githubusercontent.com/andrejkk/ORvTK_SlidesImgs/master/footer_full.jpg\">"
    },
    {
      "metadata": {
        "collapsed": true,
        "slideshow": {
          "slide_type": "slide"
        }
      },
      "cell_type": "markdown",
      "source": "<div style=\"display:flex;font-weight:bold;font-size:0.9em;\">\n<div style=\"flex:1;width:50%;\"> 9. Markovske verige  </div>\n<div style=\"flex:1;width:50%;text-align:right;\"> Cilji </div>\n</div>\n\n$\\def\\l{{\\lambda}}$\n\n\n## Uvod\n\nVečji del lastnosti stanj in obnašanja Markovske verige ugotavljamo iz prehodne matrike $n$ korakov $P^{(n)}$. Pri tem za določitev ničelnosti stanj določimo vrednost limite\n$$ \\lim_{n\\to\\infty} P^{(n)} $$\nin za minljivost oz. povrnljivost določimo vrednost vsote\n$$ \\sum_{n=1}^\\infty P^{(n)}.  $$\n\nVzemmimo, da ima Markovska matrika končno stanje $|S|=m$. Ker je prehodna matrika $n$ korakov $P^{(n)}$ enaka navadni potenci prehodne matrike enega koraka $P$, torej $P^{(n)} = P^n$, je učinkovito računanje potenc prehodne matrike nujno za klasifikacijo stanj markovske verige. Pri tem uporabimo Jordanov matrični razcep. \n\nDodajmo še, da so lastne vrednosti $\\lambda_i$, $i=1,\\ldots,m$ prehodne matrike $P$ realne, manjše ali enake $1$ in največka od njih je enaka $1$.  \n<br>\n<br>\n\n\n## Jordanov matrični razcep in potenca matrike\n\n\nKvadratno prehodno matriko $P$ je mogoče razcepit kot\n$$ P = B . J . B^{-1}, $$\nkjer je $J$ Jordanova matrika in $B$ obrnljiva matrika. Tedaj lahko npr. tretjo potenco matrike $P$ zardi asociativnosti množenja matrik izračunamo kot\n$$\n\\begin{eqnarray*}\n P^3 & = & (B . J . B^{-1}).(B . J . B^{-1}).(B . J . B^{-1}) \\\\\n     & = & B . J . (B^{-1}.B) . J . (B^{-1}.B) . J . B^{-1}) \\\\\n     & = & B . J^3 . B^{-1}\n\\end{eqnarray*}\n$$\n\n\nNa podoben način za poljubno potenco $n$ dobimo\n$$ P^n = B . J^n . B^{-1} $$\n\n\nČe so lastne vrednosti prehodne matrike $P$ različne (to ni nujno res, v praktičnih primerih navadno je res), je Jordanova matrika J diagonalna oblike \n$$ J  = \n\\begin{bmatrix}\n\\l_1 & 0 & \\cdots & 0\\\\\n0 & \\l_2 & \\ldots & 0  \\\\\n\\vdots & \\vdots & \\ddots & \\vdots \\\\\n0 & 0 & \\cdots & \\l_m \n\\end{bmatrix} $$\n\n\nNeposredno preverimo, da je njena $n$-ta potenca enaka\n$$ J^n  = \n\\begin{bmatrix}\n\\l_1^n & 0 & \\cdots & 0\\\\\n0 & \\l_2^n & \\ldots & 0  \\\\\n\\vdots & \\vdots & \\ddots & \\vdots \\\\\n0 & 0 & \\cdots & \\l_m^n \n\\end{bmatrix} $$\n\n\nUpoštevamo obe zgornji ugotovitvi in $n$-to potenco prehodno matrike $P$ lahko zapišemo kot\n$$ P^n  = B . \n\\begin{bmatrix}\n\\l_1^n & 0 & \\cdots & 0\\\\\n0 & \\l_2^n & \\ldots & 0  \\\\\n\\vdots & \\vdots & \\ddots & \\vdots \\\\\n0 & 0 & \\cdots & \\l_m^n \n\\end{bmatrix} \n. B^{-1}. $$\nTa izraz je primeren za klasifikacijo stanj Markovske verige. \n\n\n<!--\n<figure>\n<img style=\"float: right; width: 200px; margin: -320px 20px 20px 0px;\" src=\"https://raw.githubusercontent.com/andrejkk/ORvTK_SlidesImgs/master/MarkovChain_Marker.png\">\n  <figcaption></figcaption>\n</figure>\n-->\n\n<p style=\"margin-bottom:2cm;\"></p>\n<div style=\"width:100%;text-align:right;font-weight:bold;font-size:1.2em;\"> 2 </div>\n<img src=\"https://raw.githubusercontent.com/andrejkk/ORvTK_SlidesImgs/master/footer_full.jpg\">"
    },
    {
      "metadata": {},
      "cell_type": "markdown",
      "source": "## Klasifikacija stanj Markovske verige\n\nV tem poglavju bomo z uporabo Jordanovega razcepa pripravili orodje za klasifikacijo stanj markovske verige. \n\n### Ničelno in neničelno stanje\n\nNičelnost oziroma neničelnost stanja določimo z vrednotenjem izraza\n$$ \\lim_{n\\to\\infty} P^{(n)} $$,\ntorej limite diagonalnih elementov matrik $P^{(n)}$, ki je enaka $P^{n}$. Pri tem na naslednji način uporabimo uporabimo Jordanov razcep:\n$$\n\\begin{eqnarray*}\n \\lim_{n\\to\\infty} P^{(n)} & = & \\lim_{n\\to\\infty} P^{n} = \\lim_{n\\to\\infty} B. J^{n}.B^{-1} \\\\\n   & = & B. \\left(\\lim_{n\\to\\infty}J^{n}\\right).B^{-1} \\\\\n   & = & B. \\begin{bmatrix}\n    \\lim_{n\\to\\infty} \\l_1^n & 0 & \\cdots & 0\\\\\n    0 & \\lim_{n\\to\\infty} \\l_2^n & \\ldots & 0  \\\\\n    \\vdots & \\vdots & \\ddots & \\vdots \\\\\n    0 & 0 & \\cdots & \\lim_{n\\to\\infty} \\l_m^n \n    \\end{bmatrix}.B^{-1}\n   & = & B. \\begin{bmatrix}\n    1 & 0 & \\cdots & 0\\\\\n    0 & 0 & \\ldots & 0  \\\\\n    \\vdots & \\vdots & \\ddots & \\vdots \\\\\n    0 & 0 & \\cdots & 0 \n    \\end{bmatrix}.B^{-1}\n\\end{eqnarray*}\n$$\n\nV zgornjem izračunu smo upoštevali, da je lahko zamenjamo vrstni red limite in matričnega množenja. Poleg tega upoštevamo, da velja $\\l_1=1$ in $\\l_i<1$ za $i=2,\\ldots, m$ in da je $\\lim_{n\\to\\infty} q^n$ enaka $1$ za $q=1$ in $0$ za $0\\leq q<1$. \n\nIz dobljene matrike torej preberemo diagonalne elemente in stanja $i$, za katere je diagonalni elemet enak $0$, so ničelna, za tsta stanja $i$, za katera je diagonalni element večji od nič, so neničelna oziroma pozitivna. Primer analize v naslednji celici. \n\n\n<p style=\"margin-bottom:2cm;\"></p>\n<div style=\"width:100%;text-align:right;font-weight:bold;font-size:1.2em;\"> 3 </div>\n<img src=\"https://raw.githubusercontent.com/andrejkk/ORvTK_SlidesImgs/master/footer_full.jpg\">"
    },
    {
      "metadata": {
        "trusted": true
      },
      "cell_type": "code",
      "source": "import numpy as np\n\n\n# Transition matrix\n# matP = {{0.7, 0.15, 0.1, 0.05}, {0.2, 0.5, 0.2, 0.1}, {0.05, 0.15, 0.6, 0.2}, {0.0, 0.0, 0.0, 1}}\nP = np.array([[0.7, 0.15, 0.1, 0.05], \n              [0.2, 0.5, 0.2, 0.1], \n              [0.05, 0.15, 0.6, 0.2], \n              [0.0, 0.0, 0.0, 1]])",
      "execution_count": 2,
      "outputs": []
    },
    {
      "metadata": {
        "trusted": true
      },
      "cell_type": "code",
      "source": "# Jordan Decomposition\n\nB = np.array([[1, 0.515196, -0.949901, 1.63471],\n[1, -1.90109, 0.13712, 1.36397],\n[1, 1, 1, 1],\n[1, 0, 0, 0]])\n\nJ = np.array([[1, 0, 0, 0],\n[0, 0.340597, 0, 0],\n[0, 0, 0.573073, 0],\n[0, 0, 0, 0.88633]])\n\nprint('Decomposition error = ', np.linalg.norm(P - B @ J @ np.linalg.inv(B)))",
      "execution_count": 42,
      "outputs": [
        {
          "output_type": "stream",
          "text": "Decomposition error =  1.0210222343932876e-06\n",
          "name": "stdout"
        }
      ]
    },
    {
      "metadata": {
        "trusted": true
      },
      "cell_type": "code",
      "source": "# Zero or positive states? \n\nm = 4\nlimJn = np.zeros((m,m))\nlimJn[0,0] = 1.0\n\nprint ('$Limit of the matrix = \\n', B @ limJn @ np.linalg.inv(B))\n\n# Conclusion: all diagonal elements are equal to 0 (there are some numerical errors)",
      "execution_count": 43,
      "outputs": [
        {
          "output_type": "stream",
          "text": "$Limit of the matrix = \n [[4.16333634e-17 0.00000000e+00 1.38777878e-17 1.00000000e+00]\n [4.16333634e-17 0.00000000e+00 1.38777878e-17 1.00000000e+00]\n [4.16333634e-17 0.00000000e+00 1.38777878e-17 1.00000000e+00]\n [4.16333634e-17 0.00000000e+00 1.38777878e-17 1.00000000e+00]]\n",
          "name": "stdout"
        }
      ]
    },
    {
      "metadata": {},
      "cell_type": "markdown",
      "source": "### Povrnljivo in minljovo stanje \n\nZa določitev minljivosti oz. povrnljivosti določimo diagonalen vrednosti vsote\n$$ \\sum_{n=1}^\\infty P^{(n)}.  $$\n\nTudi tu si pomagamo z Jordanovim razcepom. Matrika $P^{(n)}$ je enaka matriki $P^{n}$ in velja:\n$$\n\\begin{eqnarray*}\n \\sum_{n=1}^\\infty P^{(n)} & = & \\sum_{n=1}^\\infty P^{n} = \\sum_{n=1}^\\infty B. J^{n}.B^{-1} \\\\\n   & = & B. \\left(\\sum_{n=1}^\\infty J^{n}\\right).B^{-1} \\\\\n   & = & B. \\begin{bmatrix}\n    \\sum_{n=1}^\\infty \\l_1^n & 0 & \\cdots & 0\\\\\n    0 & \\sum_{n=1}^\\infty \\l_2^n & \\ldots & 0  \\\\\n    \\vdots & \\vdots & \\ddots & \\vdots \\\\\n    0 & 0 & \\cdots & \\sum_{n=1}^\\infty \\l_m^n \n    \\end{bmatrix}.B^{-1}\n   & = & B. \\begin{bmatrix}\n    \\infty & 0 & \\cdots & 0\\\\\n    0 & \\frac{1}{1-\\l_2}-1 & \\ldots & 0  \\\\\n    \\vdots & \\vdots & \\ddots & \\vdots \\\\\n    0 & 0 & \\cdots & \\frac{1}{1-\\l_m}-1 \n    \\end{bmatrix}.B^{-1}\n\\end{eqnarray*}\n$$\n\nPri zgornjem izračunu smo upoštevali, da vrstni red konvergentne vsote in matričnega množenja lahko zamenjamo. Upoštevali smo tudi, da je $\\sum_{n=1}^\\infty q^n$ enako $\\infty$ za $q=1$ in $\\frac{1}{1-q}-1$.\n\n\n<p style=\"margin-bottom:2cm;\"></p>\n<div style=\"width:100%;text-align:right;font-weight:bold;font-size:1.2em;\"> 2 </div>\n<img src=\"https://raw.githubusercontent.com/andrejkk/ORvTK_SlidesImgs/master/footer_full.jpg\">"
    },
    {
      "metadata": {
        "trusted": true
      },
      "cell_type": "code",
      "source": "# Recurrent or transient states? \n\nlas_bf =  (1./(1-np.diag(J)[1:4]))-1\nsumJn = np.diag(np.insert(las_bf, 0, np.inf)) # Sum of J^n\n\nsumPn = B @ sumJn @ np.linalg.inv(B) # Sum of P^n\n\nprint ('Summated matrix = \\n', sumPn)\n\n# Conclussion: all diagonal elements are infinite (secong column is a numerical error) and therefore all states are recurrent. ",
      "execution_count": 49,
      "outputs": [
        {
          "output_type": "stream",
          "text": "Summated matrix = \n [[inf nan inf inf]\n [inf nan inf inf]\n [inf nan inf inf]\n [inf nan inf inf]]\n",
          "name": "stdout"
        },
        {
          "output_type": "stream",
          "text": "/home/nbuser/anaconda3_501/lib/python3.6/site-packages/ipykernel/__main__.py:6: RuntimeWarning: invalid value encountered in matmul\n",
          "name": "stderr"
        }
      ]
    },
    {
      "metadata": {},
      "cell_type": "markdown",
      "source": "## Zaključne pripombe \n\n\n<br>\nZgoraj opisan postopek omogoča klasifikacijo stanja na podlagi Jordanovega razcepa matrike. \n\n\nIzbrane opombe:\n- Ker je Jordanov razcep numerično zelo občutljiv, je izvedljiv samo v okviru simboličnega računanja. Tu Python ni najboljši in zgoraj naveden razcep sem opravil v programskem paketu Wolfram Mathematica. V omejenem okviru je dostopen tudi spletno: https://www.wolframalpha.com/input/?i=jordan+normal+form+calculator\n- Če lastne vrednosti prehodne matrike $P$ niso med sabo vse različne, Jordanov razcep še vedno obstaja, a Jordanova matrika $J$ ni več diagonalna. Tedaj se zgornji razmislek nekoliko zaplete, a je še vedno izvedljiv. \n\n<p style=\"margin-bottom:2cm;\"></p>\n<div style=\"width:100%;text-align:right;font-weight:bold;font-size:1.2em;\"> 2 </div>\n<img src=\"https://raw.githubusercontent.com/andrejkk/ORvTK_SlidesImgs/master/footer_full.jpg\">\n"
    }
  ],
  "metadata": {
    "celltoolbar": "Slideshow",
    "kernelspec": {
      "name": "python36",
      "display_name": "Python 3.6",
      "language": "python"
    },
    "language_info": {
      "mimetype": "text/x-python",
      "nbconvert_exporter": "python",
      "name": "python",
      "pygments_lexer": "ipython3",
      "version": "3.6.6",
      "file_extension": ".py",
      "codemirror_mode": {
        "version": 3,
        "name": "ipython"
      }
    }
  },
  "nbformat": 4,
  "nbformat_minor": 2
}