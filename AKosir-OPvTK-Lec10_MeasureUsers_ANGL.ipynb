{
 "cells": [
  {
   "attachments": {},
   "cell_type": "markdown",
   "metadata": {
    "collapsed": true,
    "slideshow": {
     "slide_type": "slide"
    }
   },
   "source": [
    "<img style=\"float: center; width: 100%\" src=\"https://raw.githubusercontent.com/andrejkk/TalksImgs/master/FrontSlideUpperBan.png\">\n",
    "<p style=\"margin-bottom:2cm;\"></p>\n",
    "\n",
    "<center>\n",
    "    <H1> 10. User measurement </H1>\n",
    "   \n",
    "\n",
    "\n",
    "<br><br>\n",
    "    <H3> Andrej Košir, Lucami, FE </H3>\n",
    "    <H4> Kontakt: prof. dr. Andrej Košir, andrej.kosir@fe.uni-lj.si, ZOOM https://uni-lj-si.zoom.us/j/97654707084 </H4>\n",
    "</center>\n",
    "\n",
    "\n",
    "\n",
    "\n",
    "\n",
    "<p style=\"margin-bottom:2cm;\"></p>\n",
    "<div style=\"width:100%;text-align:right;font-weight:bold;font-size:1.2em;\"> 1 </div>\n",
    "<img src=\"https://raw.githubusercontent.com/andrejkk/ORvTK_SlidesImgs/master/footer_full.jpg\">"
   ]
  },
  {
   "attachments": {},
   "cell_type": "markdown",
   "metadata": {
    "slideshow": {
     "slide_type": "slide"
    }
   },
   "source": [
    "<div style=\"display:flex;font-weight:bold;font-size:0.9em;\">\n",
    "<div style=\"flex:1;width:50%;\"> User measurement </div>\n",
    "<div style=\"flex:1;width:50%;text-align:right;\"> Outcomes </div>\n",
    "</div>\n",
    "\n",
    "\n",
    "\n",
    "## Outcomes\n",
    "\n",
    "- Understand the problem of user measurement\n",
    "- knowing and understanding:\n",
    "     - Measurement with questionnaires\n",
    "     - Constructs\n",
    "     - Measurement with psychophysiological signals\n",
    "\n",
    "\n",
    "\n",
    "\n",
    "<p style=\"margin-bottom:1cm;\"></p>\n",
    "<div style=\"width:100%;text-align:right;font-weight:bold;font-size:1.2em;\"> 2 </div>\n",
    "<img src=\"https://raw.githubusercontent.com/andrejkk/ORvTK_SlidesImgs/master/footer_full.jpg\">"
   ]
  },
  {
   "cell_type": "markdown",
   "metadata": {},
   "source": [
    "<div style=\"display:flex;font-weight:bold;font-size:0.9em;\">\n",
    "<div style=\"flex:1;width:50%;\"> User measurement </div>\n",
    "<div style=\"flex:1;width:50%;text-align:right;\"> Outcomes </div>\n",
    "</div>\n",
    "\n",
    "\n",
    "\n",
    "## How this section relates to optimisation\n",
    "\n",
    "Valid measurement of user state and response is an essential element of user experimentation and consequently of user understanding and effective management of service development. The user is the most challenging element of system optimization when considering users. There are several reasons for this, including the fact that human language is not precise enough to capture responses and that human response depends on a variety of factors, including non-measurable factors.\n",
    "\n",
    "Practice shows that a simple question to the user, e.g. Is interface variant B better than variant A? does not provide any useful results. The reason for this is that every user has their own point of view and the answers are therefore so different that it is impossible to draw a conclusion. The solution to this problem is to use ready-made instruments that consist of several questions that have proven to work well in experiments and that have additional instructions on how to translate the answers to these questions into a stable user response. Such instruments include UMUX, which measures the user's reaction to the usefulness of the interaction with the system, and PANAS, which measures the user's affective state. Creating your own questionnaires is a challenging project, which we strongly advise against, as there are, apart from exceptional cases, enough existing instruments.\n",
    "\n",
    "Despite the use of existing instruments, the usability of the user's responses remains a problem and we check them against the measurement characteristics. We know the validity (whether the instrument really measures what we expect it to) and the reliability (whether we would get similar user responses if we measured it again). When using existing questionnaires, validity is usually not a problem, but reliability must be checked for each experiment. To do this, we calculate the given coefficient (e.g. Cronbach's $\\alpha$) and check whether it is high enough (e.g. Cronbach's $\\alpha \\geq 0.7$)\n",
    "\n",
    "The instruments are limited to measuring in non-real time, typically after the experiment has been performed. Modern sensor technologies also allow measurements in real time. Quantification involves psychophysiological signals, e.g. heart rate, skin electrodermal conductance, pupil size, etc. From these variables, machine learning can be used to estimate relevant variables such as attention and stress, allowing us to adapt the service in real time. The existing sensors have reached a useful level, the problem remains the invasiveness (opacity) of these sensors already in the laboratory environment.\n",
    "\n",
    "\n",
    "<p style=\"margin-bottom:1cm;\"></p>\n",
    "<div style=\"width:100%;text-align:right;font-weight:bold;font-size:1.2em;\"> 2 </div>\n",
    "<img src=\"https://raw.githubusercontent.com/andrejkk/ORvTK_SlidesImgs/master/footer_full.jpg\">"
   ]
  },
  {
   "attachments": {},
   "cell_type": "markdown",
   "metadata": {
    "slideshow": {
     "slide_type": "slide"
    }
   },
   "source": [
    "<div style=\"display:flex;font-weight:bold;font-size:0.9em;\">\n",
    "<div style=\"flex:1;width:50%;\"> User measurement </div>\n",
    "<div style=\"flex:1;width:50%;text-align:right;\"> Content </div>\n",
    "</div>\n",
    "\n",
    "\n",
    "## Sections\n",
    "\n",
    "### 1. User measurement: instruments and constructs\n",
    "\n",
    "\n",
    "#### 1.1. Selected instruments - questionnaires\n",
    "\n",
    "■ Introduction: what is an instrument and what is a construct $\\large{*}$\n",
    "\n",
    "■ Usability: system usability of SUS $\\large{*}$\n",
    "\n",
    "■ Usability: Usability of UMUX interaction $\\large{*}$\n",
    "\n",
    "■ Personality measurement: (Big5) $\\large{*}$\n",
    "\n",
    "■ Mood measurement: PANAS $\\large{*}$\n",
    "\n",
    "■ Load measurement: NASA TLX $\\large{*}$\n",
    "\n",
    "■ Measuring the quality of two-way speech: SUISQ $\\large{*}$\n",
    "\n",
    "■ Notes on the use of instruments and constructs\n",
    "\n",
    "\n",
    "#### 1.2. Determination of performance metrics - assessment of construct dimensions, instrument\n",
    "\n",
    "■ SUISQ introduction and example\n",
    "\n",
    "■ Factor matrix weights define the construct$\\large{*}$\n",
    "\n",
    "■ Calculation of construct or scale points$\\large{*}$\n",
    "\n",
    "#### 1.3. Measurement characteristics\n",
    "\n",
    "■ The problem of questionnaires and measurement characteristics$\\large{*}$\n",
    "\n",
    "■ Validity$\\large{*}$\n",
    "\n",
    "■ Reliability$\\large{*}$\n",
    "\n",
    "\n",
    "\n",
    "### 2. Measurement of users: psychophysiological signals\n",
    "\n",
    "■ Human physiology and psychophysiological signals $\\large{*}$\n",
    "\n",
    "■ Social signals of user $\\large{*}$\n",
    "\n",
    "■ Estimating user's social signals  $\\large{*}$\n",
    "\n",
    "■ Emotions: signal measurement\n",
    "\n",
    "■ Cognitive load: signal measurement\n",
    "\n",
    "■ Attention: signal measurement\n",
    "\n",
    "■ Stress: signal measurement\n",
    "\n",
    "■ Sensors for psycho-physiological signals\n",
    "\n",
    "■ Conclusion\n",
    "\n",
    "\n",
    "<p style=\"margin-bottom:1cm;\"></p>\n",
    "<div style=\"width:100%;text-align:right;font-weight:bold;font-size:1.2em;\"> 3 </div>\n",
    "<img src=\"https://raw.githubusercontent.com/andrejkk/ORvTK_SlidesImgs/master/footer_full.jpg\">"
   ]
  },
  {
   "cell_type": "code",
   "execution_count": null,
   "metadata": {},
   "outputs": [],
   "source": []
  }
 ],
 "metadata": {
  "celltoolbar": "Slideshow",
  "kernelspec": {
   "display_name": "Python 3",
   "language": "python",
   "name": "python3"
  },
  "language_info": {
   "codemirror_mode": {
    "name": "ipython",
    "version": 3
   },
   "file_extension": ".py",
   "mimetype": "text/x-python",
   "name": "python",
   "nbconvert_exporter": "python",
   "pygments_lexer": "ipython3",
   "version": "3.10.5"
  },
  "vscode": {
   "interpreter": {
    "hash": "66d245bc0aa345411577de3f292b9e6a6906f0558af2a59212c3c2455e5d14f2"
   }
  }
 },
 "nbformat": 4,
 "nbformat_minor": 2
}
