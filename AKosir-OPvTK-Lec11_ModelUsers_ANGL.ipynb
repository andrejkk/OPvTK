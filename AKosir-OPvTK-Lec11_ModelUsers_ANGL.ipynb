{
 "cells": [
  {
   "attachments": {},
   "cell_type": "markdown",
   "metadata": {
    "collapsed": true,
    "slideshow": {
     "slide_type": "slide"
    }
   },
   "source": [
    "<img style=\"float: center; width: 100%\" src=\"https://raw.githubusercontent.com/andrejkk/TalksImgs/master/FrontSlideUpperBan.png\">\n",
    "<p style=\"margin-bottom:2cm;\"></p>\n",
    "\n",
    "<center>\n",
    "    <H1> 11. User modelling </H1>\n",
    "   \n",
    "\n",
    "\n",
    "<br><br>\n",
    "    <H3> Andrej Košir, Lucami, FE </H3>\n",
    "    <H4> Kontakt: prof. dr. Andrej Košir, andrej.kosir@lucami.fe.uni-lj.si, skype=akosir_sid </H4>\n",
    "</center>\n",
    "\n",
    "\n",
    "\n",
    "\n",
    "\n",
    "<p style=\"margin-bottom:2cm;\"></p>\n",
    "<div style=\"width:100%;text-align:right;font-weight:bold;font-size:1.2em;\"> 1 </div>\n",
    "<img src=\"https://raw.githubusercontent.com/andrejkk/ORvTK_SlidesImgs/master/footer_full.jpg\">"
   ]
  },
  {
   "attachments": {},
   "cell_type": "markdown",
   "metadata": {
    "slideshow": {
     "slide_type": "slide"
    }
   },
   "source": [
    "<div style=\"display:flex;font-weight:bold;font-size:0.9em;\">\n",
    "<div style=\"flex:1;width:50%;\"> 2. Optimizacijska naloga </div>\n",
    "<div style=\"flex:1;width:50%;text-align:right;\"> Objectives </div>\n",
    "</div>\n",
    "\n",
    "\n",
    "## Chapter Objectives\n",
    "\n",
    "- Understand the problem of user modeling\n",
    "- Meet:\n",
    "     - User segmentation\n",
    "     - User context\n",
    "     - Modeling with Markov chains\n",
    "\n",
    "\n",
    "\n",
    "\n",
    "<p style=\"margin-bottom:1cm;\"></p>\n",
    "<div style=\"width:100%;text-align:right;font-weight:bold;font-size:1.2em;\"> 2 </div>\n",
    "<img src=\"https://raw.githubusercontent.com/andrejkk/ORvTK_SlidesImgs/master/footer_full.jpg\">"
   ]
  },
  {
   "attachments": {},
   "cell_type": "markdown",
   "metadata": {
    "slideshow": {
     "slide_type": "slide"
    }
   },
   "source": [
    "<div style=\"display:flex;font-weight:bold;font-size:0.9em;\">\n",
    "<div style=\"flex:1;width:50%;\"> 11. User modeling </div>\n",
    "<div style=\"flex:1;width:50%;text-align:right;\"> Content </div>\n",
    "</div>\n",
    "\n",
    "\n",
    "## Sections\n",
    "\n",
    "### User modeling: segmentation\n",
    "\n",
    "\n",
    "#### 1. Segmentation of TGI\n",
    "\n",
    "■ Introduction\n",
    "\n",
    "■ What is TGI segmentation $\\large{*}$\n",
    "\n",
    "■ Goals of TGI - what it offers $\\large{*}$\n",
    "\n",
    "■ User sectors\n",
    "\n",
    "■ User segments\n",
    "\n",
    "■ Conclusions\n",
    "\n",
    "\n",
    "#### 2. Segmentation of mobile communications users\n",
    "\n",
    "\n",
    "■ Dimensions of segments of users of mobile communications $\\large{*}$\n",
    "\n",
    "■ A conceptual tree for the user's lifestyle\n",
    "\n",
    "■ A conceptual tree for the motivation of use\n",
    "\n",
    "■ Concept tree for service and product attributes\n",
    "\n",
    "■ Carrying out user research and analysis\n",
    "\n",
    "\n",
    "\n",
    "\n",
    "### User Modeling: Context\n",
    "\n",
    "#### 1. Context\n",
    "\n",
    "■ Introduction and context description $\\large{*}$\n",
    "\n",
    "■ Context factors and context accessibility $\\large{*}$\n",
    "\n",
    "■ Context representation and modeling\n",
    "\n",
    "■ Context structure\n",
    "\n",
    "■ Context hierarchy $\\large{*}$\n",
    "\n",
    "■ When context is incorporated?\n",
    "\n",
    "■ Determining the context - sources of information\n",
    "\n",
    "■ Context determination - algorithms\n",
    "\n",
    "■ Context determination - an example of CoMoDa\n",
    "\n",
    "\n",
    "### Modeling users: Markov chains\n",
    "\n",
    "\n",
    "#### 1. Definition, basic properties\n",
    "\n",
    "■ Markov chain definition $\\large{*}$\n",
    "\n",
    "■ Transition matrix, distribution of states $\\large{*}$ \n",
    "\n",
    "\n",
    "#### 2. Classification of states\n",
    "\n",
    "■ Connection of states and period $\\large{*}$\n",
    "\n",
    "■ Recurent and transient state $\\large{*}$ \n",
    "\n",
    "■ Ergodic mar. chain and reset times\n",
    "\n",
    "■ Stationary (limit) distribution $\\large{*}$\n",
    "\n",
    "■ Finite Markov chain $\\large{*}$\n",
    "\n",
    "\n",
    "#### 3. Transition matrix evaluation\n",
    "\n",
    "■ Estimates of transition probabilities\n",
    "\n",
    "■ Confidence interval and quantile plots\n",
    "\n",
    "■ Specified sample sizes\n",
    "\n",
    "■ Numerical aspect\n",
    "\n",
    "■ Example: user classes of TK services\n",
    "\n",
    "<p style=\"margin-bottom:1cm;\"></p>\n",
    "<div style=\"width:100%;text-align:right;font-weight:bold;font-size:1.2em;\"> 3 </div>\n",
    "<img src=\"https://raw.githubusercontent.com/andrejkk/ORvTK_SlidesImgs/master/footer_full.jpg\">"
   ]
  },
  {
   "cell_type": "code",
   "execution_count": null,
   "metadata": {},
   "outputs": [],
   "source": []
  }
 ],
 "metadata": {
  "celltoolbar": "Slideshow",
  "kernelspec": {
   "display_name": "Python 3",
   "language": "python",
   "name": "python3"
  },
  "language_info": {
   "codemirror_mode": {
    "name": "ipython",
    "version": 3
   },
   "file_extension": ".py",
   "mimetype": "text/x-python",
   "name": "python",
   "nbconvert_exporter": "python",
   "pygments_lexer": "ipython3",
   "version": "3.10.5"
  },
  "vscode": {
   "interpreter": {
    "hash": "66d245bc0aa345411577de3f292b9e6a6906f0558af2a59212c3c2455e5d14f2"
   }
  }
 },
 "nbformat": 4,
 "nbformat_minor": 2
}
