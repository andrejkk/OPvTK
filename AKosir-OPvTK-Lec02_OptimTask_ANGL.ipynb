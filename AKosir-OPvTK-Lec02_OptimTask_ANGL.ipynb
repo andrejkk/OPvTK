{
 "cells": [
  {
   "cell_type": "markdown",
   "metadata": {
    "collapsed": true,
    "slideshow": {
     "slide_type": "slide"
    }
   },
   "source": [
    "<img style=\"float: center; width: 100%\" src=\"https://raw.githubusercontent.com/andrejkk/TalksImgs/master/FrontSlideUpperBan.png\">\n",
    "<p style=\"margin-bottom:2cm;\"></p>\n",
    "\n",
    "<center>\n",
    "    <H1> 2. Optimization task </H1>\n",
    "   \n",
    "<br><br>\n",
    "    <H3> Andrej Košir, Lucami, FE </H3>\n",
    "    <H4> Contact: prof. dr. Andrej Košir, andrej.kosir@lucami.fe.uni-lj.si, skype=akosir_sid </H4>\n",
    "</center>\n",
    "\n",
    "\n",
    "\n",
    "\n",
    "\n",
    "<p style=\"margin-bottom:2cm;\"></p>\n",
    "<div style=\"width:100%;text-align:right;font-weight:bold;font-size:1.2em;\"> 1 </div>\n",
    "<img src=\"https://raw.githubusercontent.com/andrejkk/ORvTK_SlidesImgs/master/footer_full.jpg\">"
   ]
  },
  {
   "cell_type": "markdown",
   "metadata": {
    "slideshow": {
     "slide_type": "slide"
    }
   },
   "source": [
    "<div style=\"display:flex;font-weight:bold;font-size:0.9em;\">\n",
    "<div style=\"flex:1;width:50%;\"> 2. Optimization task  </div>\n",
    "<div style=\"flex:1;width:50%;text-align:right;\"> Goals </div>\n",
    "</div>\n",
    "\n",
    "## Goals\n",
    "\n",
    "- To know the Optimization task formulation\n",
    "- To understand\n",
    "    - Optimization space\n",
    "    - Cost function\n",
    "    - Constraints and feasible solutions\n",
    "\n",
    "\n",
    "<p style=\"margin-bottom:2cm;\"></p>\n",
    "<div style=\"width:100%;text-align:right;font-weight:bold;font-size:1.2em;\"> 2 </div>\n",
    "<img src=\"https://raw.githubusercontent.com/andrejkk/ORvTK_SlidesImgs/master/footer_full.jpg\">"
   ]
  },
  {
   "cell_type": "markdown",
   "metadata": {
    "slideshow": {
     "slide_type": "slide"
    }
   },
   "source": [
    "<div style=\"display:flex;font-weight:bold;font-size:0.9em;\">\n",
    "<div style=\"flex:1;width:50%;\"> 2. Optimization task  </div>\n",
    "<div style=\"flex:1;width:50%;text-align:right;\"> Sections </div>\n",
    "</div>\n",
    "\n",
    "\n",
    "\n",
    "## Sections\n",
    "\n",
    "### 2.1. Optimization task definition \n",
    "\n",
    "■ Definition $\\large{*}$\n",
    "\n",
    "■ Selected characteristics of an optimization task $\\large{*}$\n",
    "\n",
    "\n",
    "### 2.2. Solvability and the solution of an optimization task\n",
    "\n",
    "■ Solvability $\\large{*}$\n",
    "\n",
    "■ Algorithms of optimization task solution $\\large{*}$\n",
    "\n",
    "■ Tools for solving an optimization task $\\large{*}$\n",
    "\n",
    "\n",
    "\n",
    "<p style=\"margin-bottom:2cm;\"></p>\n",
    "<div style=\"width:100%;text-align:right;font-weight:bold;font-size:1.2em;\"> 3 </div>\n",
    "<img src=\"https://raw.githubusercontent.com/andrejkk/ORvTK_SlidesImgs/master/footer_full.jpg\">"
   ]
  },
  {
   "cell_type": "markdown",
   "metadata": {
    "slideshow": {
     "slide_type": "slide"
    }
   },
   "source": [
    "<div style=\"display:flex;font-weight:bold;font-size:0.9em;\">\n",
    "<div style=\"flex:1;width:50%;\"> 2. Optimization task   </div>\n",
    "<div style=\"flex:1;width:50%;text-align:right;\"> 2.1. Optimization task definition </div>\n",
    "</div>\n",
    "\n",
    "\n",
    "## ■ Definition of optimisation task (1)\n",
    "\n",
    "\n",
    "- The exact formulation is important because the properties of underlying functions and sets decide the selection of the optimization algorithms\n",
    "\n",
    "- **Definition (Optimistion task):** <p>\n",
    " Let $\\Omega$ be a set of solutions and $X\\subset\\Omega$ a set of feasible solutions. Define objective function \n",
    " $$ C: X \\to ℝ. $$\n",
    " Let $\\Phi$ be a feasibility predicate on $𝑋$. A set of feasible solutions is defined as \n",
    " $$ X = \\{x\\in\\Omega: \\Phi(𝑥)\\}. $$\n",
    "\n",
    "- Denote\n",
    "$$ argmin(X, C)= \\{ x\\in X: \\forall y\\in X, c(y)\\geq c(x) \\} $$\n",
    "and \n",
    "$$ min(𝑋,𝑐) = \\{ c(x) \\in X: \\forall y\\in X, c(y)\\geq c(x) \\}. $$\n",
    "\n",
    "- Not only a single solution\n",
    "\n",
    "\n",
    "<p style=\"margin-bottom:2cm;\"></p>\n",
    "<div style=\"width:100%;text-align:right;font-weight:bold;font-size:1.2em;\"> 4 </div>\n",
    "<img src=\"https://raw.githubusercontent.com/andrejkk/ORvTK_SlidesImgs/master/footer_full.jpg\">"
   ]
  },
  {
   "cell_type": "markdown",
   "metadata": {
    "slideshow": {
     "slide_type": "slide"
    }
   },
   "source": [
    "<div style=\"display:flex;font-weight:bold;font-size:0.9em;\">\n",
    "<div style=\"flex:1;width:50%;\"> 2. Optimization task   </div>\n",
    "<div style=\"flex:1;width:50%;text-align:right;\"> 2.1. Optimization task definition </div>\n",
    "</div>\n",
    "\n",
    "## ■ Definition of optimisation task (2)\n",
    "\n",
    "- Define\n",
    "$$ argmax(X, c) = argmin(X, -c) $$\n",
    "$$ min(X, c) = -max(X, -c)$$\n",
    "\n",
    "\n",
    "- Optimisation task is a four-tuple\n",
    "$$ (\\Omega, \\Phi, c, F), $$\n",
    "where\n",
    "$$ F\\in \\{argmin, argmax\\}. $$\n",
    "\n",
    "\n",
    "- Solution of the Optimisation task is $(\\Omega, \\Phi, c, F)$ one of the following\n",
    "    - $argmin(X, c)$\n",
    "    - $argmax(X, c)$\n",
    "    - $x\\in X$ where the differende $x - argmin(X, c)$ ali $x - argmax(X, c)$ is small enough\n",
    "    \n",
    "    \n",
    "- Typically we denote\n",
    "$$ x^* = argmin(X, c) \\qquad\\mbox{or}\\qquad x^* = argmax(X, c). $$\n",
    "\n",
    "\n",
    "<p style=\"margin-bottom:2cm;\"></p>\n",
    "<div style=\"width:100%;text-align:right;font-weight:bold;font-size:1.2em;\"> 5 </div>\n",
    "<img src=\"https://raw.githubusercontent.com/andrejkk/ORvTK_SlidesImgs/master/footer_full.jpg\">"
   ]
  },
  {
   "cell_type": "code",
   "execution_count": 1,
   "metadata": {},
   "outputs": [
    {
     "name": "stdout",
     "output_type": "stream",
     "text": [
      "Optimization terminated successfully    (Exit mode 0)\n",
      "            Current function value: -3.062499999999999\n",
      "            Iterations: 2\n",
      "            Function evaluations: 6\n",
      "            Gradient evaluations: 2\n",
      "Results:  [1.75 1.75]\n"
     ]
    }
   ],
   "source": [
    "# Volume maximization expample: constrained optimisation\n",
    "import numpy as np\n",
    "from scipy.optimize import minimize\n",
    "\n",
    "# Cost function\n",
    "def V2D(x):\n",
    "    return -x[0]*x[1]\n",
    "\n",
    "# Constraints\n",
    "cons = ({'type': 'eq', 'fun' : lambda x: np.array([2*x[0] + 2*x[1] - l])})\n",
    "\n",
    "# Initial values\n",
    "l = 7.0\n",
    "x0 = np.array([1, 1])\n",
    "\n",
    "# Optimisation\n",
    "res = minimize(V2D, x0, constraints=cons, options={'disp': True})\n",
    "\n",
    "print ('Results: ', res.x)"
   ]
  },
  {
   "cell_type": "code",
   "execution_count": 2,
   "metadata": {},
   "outputs": [
    {
     "name": "stdout",
     "output_type": "stream",
     "text": [
      "Optimization terminated successfully.\n",
      "         Current function value: -3.062500\n",
      "         Iterations: 2\n",
      "         Function evaluations: 6\n",
      "         Gradient evaluations: 3\n",
      "Result:  [1.75]\n"
     ]
    }
   ],
   "source": [
    "# Volume maximization expample: Unconstrained optimisation\n",
    "import numpy as np\n",
    "from scipy.optimize import minimize\n",
    "\n",
    "\n",
    "# Cost function\n",
    "def V1D(a, l):\n",
    "    return -a*(l/2-a)\n",
    "\n",
    "# Initial value\n",
    "l, h = 7.0, 3.0\n",
    "a0 = np.array([1])\n",
    "\n",
    "# Optimisation\n",
    "res = minimize(V1D, a0, l, options={'gtol': 1e-6, 'disp': True})\n",
    "\n",
    "print ('Result: ', res.x)"
   ]
  },
  {
   "cell_type": "markdown",
   "metadata": {
    "slideshow": {
     "slide_type": "slide"
    }
   },
   "source": [
    "<div style=\"display:flex;font-weight:bold;font-size:0.9em;\">\n",
    "<div style=\"flex:1;width:50%;\"> 2. Optimization task   </div>\n",
    "<div style=\"flex:1;width:50%;text-align:right;\"> 2.1. Optimization task definition </div>\n",
    "</div>\n",
    "\n",
    "\n",
    "\n",
    "## ■ Selected characteristics of an optimization task (1)\n",
    "\n",
    "- Optimisation space $X$:\n",
    "    - Continuous: subset $ℝ^n$\n",
    "        - Examples: line, plane, …\n",
    "    - Discrete: finite or countably many points\n",
    "        - Examples: path in a graph, ...\n",
    "        \n",
    "        \n",
    "- Objective function $c:X \\to ℝ$\n",
    "    - Linear\n",
    "    - Continuous \n",
    "    - Derivable\n",
    "    - None of the above\n",
    "    \n",
    "    \n",
    "    \n",
    "- The above listed properties largely determines the optimization algorithm applicable\n",
    "\n",
    "\n",
    "<p style=\"margin-bottom:2cm;\"></p>\n",
    "<div style=\"width:100%;text-align:right;font-weight:bold;font-size:1.2em;\"> 6 </div>\n",
    "<img src=\"https://raw.githubusercontent.com/andrejkk/ORvTK_SlidesImgs/master/footer_full.jpg\">"
   ]
  },
  {
   "cell_type": "markdown",
   "metadata": {
    "slideshow": {
     "slide_type": "slide"
    }
   },
   "source": [
    "<div style=\"display:flex;font-weight:bold;font-size:0.9em;\">\n",
    "<div style=\"flex:1;width:50%;\"> 2. Optimization task   </div>\n",
    "<div style=\"flex:1;width:50%;text-align:right;\"> 2.1. Optimization task definition </div>\n",
    "</div>\n",
    "\n",
    "\n",
    "## ■ Selected characteristics of an optimization task (2)\n",
    "\n",
    "- Objective function composite: \n",
    "    - Domain $D_\\varphi$ is a subset of $Im(c)$, \n",
    "        $$ Im(c) \\subseteq D_\\varphi. $$\n",
    "    Then we have:\n",
    "        - if $\\varphi$ is increasing on $ℝ$, then\n",
    "            * $argmin(X, c) = argmin(X, \\varphi\\circ c)$\n",
    "            * $argmax(X, c) = argmax(X, \\varphi\\circ c)$\n",
    "        - if $\\varphi$ is decreasing on $ℝ$, then\n",
    "            * $argmin(X, c) = argmax(X, \\varphi\\circ c)$\n",
    "            * $argmax(X, c) = argmin(X, \\varphi\\circ c)$\n",
    "   \n",
    "    - Also\n",
    "        - if $a_0$ is a constant \n",
    "            * $argmin(X, c+a_0) = argmin(X, c)$\n",
    "            * $argmax(X, c+a_0) = argmax(X, c)$\n",
    "\n",
    "\n",
    "- It is important for simplifications to be decisive for resolvability\n",
    "\n",
    "\n",
    "<p style=\"margin-bottom:2cm;\"></p>\n",
    "<div style=\"width:100%;text-align:right;font-weight:bold;font-size:1.2em;\"> 7 </div>\n",
    "<img src=\"https://raw.githubusercontent.com/andrejkk/ORvTK_SlidesImgs/master/footer_full.jpg\">"
   ]
  },
  {
   "cell_type": "markdown",
   "metadata": {
    "slideshow": {
     "slide_type": "slide"
    }
   },
   "source": [
    "<div style=\"display:flex;font-weight:bold;font-size:0.9em;\">\n",
    "<div style=\"flex:1;width:50%;\"> 2. Optimization task   </div>\n",
    "<div style=\"flex:1;width:50%;text-align:right;\"> 2.2 Solvability and the solution of an optimization task </div>\n",
    "</div>\n",
    "\n",
    "\n",
    "# 2.2 Solvability and the solution of an optimization task\n",
    "\n",
    "■ Solvability\n",
    "\n",
    "■ Algorithms of optimization task solution\n",
    "\n",
    "■ Tools for solving an optimization task\n",
    "\n",
    "\n",
    "\n",
    "<p style=\"margin-bottom:2cm;\"></p>\n",
    "<div style=\"width:100%;text-align:right;font-weight:bold;font-size:1.2em;\"> 8 </div>\n",
    "<img src=\"https://raw.githubusercontent.com/andrejkk/ORvTK_SlidesImgs/master/footer_full.jpg\">"
   ]
  },
  {
   "cell_type": "markdown",
   "metadata": {
    "slideshow": {
     "slide_type": "slide"
    }
   },
   "source": [
    "<div style=\"display:flex;font-weight:bold;font-size:0.9em;\">\n",
    "<div style=\"flex:1;width:50%;\"> 2. Optimization task   </div>\n",
    "<div style=\"flex:1;width:50%;text-align:right;\"> 2.2 Solvability and the solution of an optimization task </div>\n",
    "</div>\n",
    "\n",
    "\n",
    "\n",
    "## ■ Solvability\n",
    "\n",
    "\n",
    "In carrying out optimization are essential to the following questions:\n",
    "- Are there solutions?\n",
    "    - There is always;\n",
    "    - When there is:\n",
    "        - set of feasible solutions may be empty;\n",
    "        - \"Gradient is facing in the direction of unrestricted work crowd feasible solutions\";\n",
    "\n",
    "\n",
    "- Is the solution one?\n",
    "    - When a solution is over, or to each other by an equivalent?\n",
    "\n",
    "\n",
    "- Is the solution a global extreme?\n",
    "    - It may happen that an optimization algorithm returns a solution, which is a local extreme, but not global;\n",
    "\n",
    "\n",
    "<p style=\"margin-bottom:2cm;\"></p>\n",
    "<div style=\"width:100%;text-align:right;font-weight:bold;font-size:1.2em;\"> 9 </div>\n",
    "<img src=\"https://raw.githubusercontent.com/andrejkk/ORvTK_SlidesImgs/master/footer_full.jpg\">"
   ]
  },
  {
   "cell_type": "markdown",
   "metadata": {
    "slideshow": {
     "slide_type": "slide"
    }
   },
   "source": [
    "<div style=\"display:flex;font-weight:bold;font-size:0.9em;\">\n",
    "<div style=\"flex:1;width:50%;\"> 2. Optimization task   </div>\n",
    "<div style=\"flex:1;width:50%;text-align:right;\"> 2.2 Solvability and the solution of an optimization task </div>\n",
    "</div>\n",
    "\n",
    "\n",
    "## ■ Algorithms of optimization task solution\n",
    "\n",
    "\n",
    "\n",
    "- **Definition (Optimisation algorithm)**<p>\n",
    "Optimization algorithm $A$ is an algorithm finding the solution of the optimization task\n",
    "$$ (\\Omega, \\Phi, c, F). $$\n",
    "\n",
    "\n",
    "- More on algorithms later.\n",
    "\n",
    "\n",
    "<p style=\"margin-bottom:2cm;\"></p>\n",
    "<div style=\"width:100%;text-align:right;font-weight:bold;font-size:1.2em;\"> 10 </div>\n",
    "<img src=\"https://raw.githubusercontent.com/andrejkk/ORvTK_SlidesImgs/master/footer_full.jpg\">"
   ]
  },
  {
   "cell_type": "markdown",
   "metadata": {
    "slideshow": {
     "slide_type": "slide"
    }
   },
   "source": [
    "<div style=\"display:flex;font-weight:bold;font-size:0.9em;\">\n",
    "<div style=\"flex:1;width:50%;\"> 2. Optimization task   </div>\n",
    "<div style=\"flex:1;width:50%;text-align:right;\"> 2.2 Solvability and the solution of an optimization task </div>\n",
    "</div>\n",
    "\n",
    "\n",
    "\n",
    "## ■ Tools for solving an optimization task\n",
    "\n",
    "- Optimisation task:  <br>\n",
    "** Linear programming **\n",
    "\n",
    "\n",
    "<img style=\"float: right; width: 750px; margin:-50px 0 0 0;\" src=\"https://raw.githubusercontent.com/andrejkk/ORvTK_SlidesImgs/master/OptimizationTools_ang.png\">\n",
    "\n",
    "\n",
    "\n",
    "<p style=\"margin-bottom:2cm;\"><br><br><br><br><br><br><br><br><br><br><br><br><br><br><br><br></p>\n",
    "<div style=\"width:100%;text-align:right;font-weight:bold;font-size:1.2em;\"> 11 </div>\n",
    "<img src=\"https://raw.githubusercontent.com/andrejkk/ORvTK_SlidesImgs/master/footer_full.jpg\">"
   ]
  },
  {
   "cell_type": "markdown",
   "metadata": {
    "slideshow": {
     "slide_type": "slide"
    }
   },
   "source": [
    "<div style=\"display:flex;font-weight:bold;font-size:0.9em;\">\n",
    "<div style=\"flex:1;width:50%;\"> 2. Optimization task   </div>\n",
    "<div style=\"flex:1;width:50%;text-align:right;\"> 2.2 Solvability and the solution of an optimization task </div>\n",
    "</div>\n",
    "\n",
    "\n",
    "\n",
    "## ■ Conclusion\n",
    "\n",
    "- Optimization task is a core concept in optimization linking practice, theory and software tools - solvers\n",
    "- Real world solutions depend on an effective usage of software tools\n",
    "- Algorithms and implementations are available. It is important to recognize the right problem formulation and select the right tools. \n",
    "\n",
    "\n",
    "\n",
    "<p style=\"margin-bottom:2cm;\"></p>\n",
    "<div style=\"width:100%;text-align:right;font-weight:bold;font-size:1.2em;\"> 12 </div>\n",
    "<img src=\"https://raw.githubusercontent.com/andrejkk/ORvTK_SlidesImgs/master/footer_full.jpg\">"
   ]
  },
  {
   "cell_type": "code",
   "execution_count": null,
   "metadata": {},
   "outputs": [],
   "source": []
  }
 ],
 "metadata": {
  "celltoolbar": "Slideshow",
  "kernelspec": {
   "display_name": "Python 3",
   "language": "python",
   "name": "python3"
  },
  "language_info": {
   "codemirror_mode": {
    "name": "ipython",
    "version": 3
   },
   "file_extension": ".py",
   "mimetype": "text/x-python",
   "name": "python",
   "nbconvert_exporter": "python",
   "pygments_lexer": "ipython3",
   "version": "3.7.6"
  }
 },
 "nbformat": 4,
 "nbformat_minor": 2
}
