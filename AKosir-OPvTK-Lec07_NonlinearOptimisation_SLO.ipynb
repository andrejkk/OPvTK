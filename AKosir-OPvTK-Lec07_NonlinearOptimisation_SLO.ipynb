{
  "cells": [
    {
      "metadata": {
        "collapsed": true,
        "slideshow": {
          "slide_type": "slide"
        }
      },
      "cell_type": "markdown",
      "source": "<img style=\"float: center; width: 100%\" src=\"https://raw.githubusercontent.com/andrejkk/TalksImgs/master/FrontSlideUpperBan.png\">\n<p style=\"margin-bottom:2cm;\"></p>\n\n<center>\n    <H1> 7. Nelinearna optimizacija </H1>\n   \n\n\n<br><br>\n    <H3> Andrej Košir, Lucami, FE </H4>\n    \n    <H4> Kontakt: prof. dr. Andrej Košir, andrej.kosir@lucami.fe.uni-lj.si, skype=akosir_sid </H4>\n</center>\n\n\n<p style=\"margin-bottom:2cm;\"></p>\n<div style=\"width:100%;text-align:right;font-weight:bold;font-size:1.2em;\"> 1 </div>\n<img src=\"https://raw.githubusercontent.com/andrejkk/ORvTK_SlidesImgs/master/footer_full.jpg\">"
    },
    {
      "metadata": {
        "collapsed": true,
        "slideshow": {
          "slide_type": "slide"
        }
      },
      "cell_type": "markdown",
      "source": "<div style=\"display:flex;font-weight:bold;font-size:0.9em;\">\n<div style=\"flex:1;width:50%;\"> 7. Nelinearna optimizacija  </div>\n<div style=\"flex:1;width:50%;text-align:right;\"> Cilji </div>\n</div>\n\n\n## ■ Cilj, vsebina\n\n- Cilj:\n    - Prepoznati nelineanre optimizacijske algoritme\n    - Izbrati in uporabiti primeren algoritem za reševanje\n\n\n- Geometrijska interpretacija\n    - Taylorjeva formula\n    - Ravnina, kvadratična forma\n\n\n- Gladke kriterijske funkcije\n- Kvadratično programiranje\n- Lagrangejev izrek\n- Iteracijske metode\n    - Gradinetna metoda\n    - Metoda konjugiranega gradienta\n- Problem začetnih približkov\n- Primer:\n    - Prileganja modela razširjanja brezžičnega signala\n\n\n<p style=\"margin-bottom:2cm;\"></p>\n<div style=\"width:100%;text-align:right;font-weight:bold;font-size:1.2em;\"> 2 </div>\n<img src=\"https://raw.githubusercontent.com/andrejkk/ORvTK_SlidesImgs/master/footer_full.jpg\">"
    },
    {
      "metadata": {
        "collapsed": true,
        "slideshow": {
          "slide_type": "slide"
        }
      },
      "cell_type": "markdown",
      "source": "<div style=\"display:flex;font-weight:bold;font-size:0.9em;\">\n<div style=\"flex:1;width:50%;\"> 7. Nelinearna optimizacija  </div>\n<div style=\"flex:1;width:50%;text-align:right;\"> Poglavja </div>\n</div>\n\n\n## ■ Poglavja (1)\n\n7.1. Definicija, tipi ekstremov\n\n■ Nelinearni optimizacijski problem $\\large{*}$\n\n■ Primer: prileganje parametričnega modela\n\n■ Lokalni in globalni ekstrem $\\large{*}$\n\n\n\n7.2. Kvadratična optimizacija, opt. pri pogoju\n\n■ Ravnina in kvadratična forma\n\n■ Kvadratična forma in ekstremi\n\n■ Taylorjeva formula\n\n■ Problem kvadratične optimizacija $\\large{*}$\n\n■ Optimizacija pri pogoju, Lagrangejev izrek $\\large{*}$\n\n\n<p style=\"margin-bottom:2cm;\"></p>\n<div style=\"width:100%;text-align:right;font-weight:bold;font-size:1.2em;\"> 3 </div>\n<img src=\"https://raw.githubusercontent.com/andrejkk/ORvTK_SlidesImgs/master/footer_full.jpg\">"
    },
    {
      "metadata": {
        "collapsed": true,
        "slideshow": {
          "slide_type": "slide"
        }
      },
      "cell_type": "markdown",
      "source": "<div style=\"display:flex;font-weight:bold;font-size:0.9em;\">\n<div style=\"flex:1;width:50%;\"> 7. Nelinearna optimizacija  </div>\n<div style=\"flex:1;width:50%;text-align:right;\"> Poglavja </div>\n</div>\n\n## ■ Poglavja (2)\n\n7.3. Algoritmi nelinearne optimizacije\n\n■ Postopek iskanja ekstremov $\\large{*}$\n\n■ Okvir postopka iskanja ekstremov $\\large{*}$\n\n■ Gradientna metoda $\\large{*}$\n\n■ Metoda konjugiranega gradienta\n\n■ Realnost reševanja nelinearne optimizacije\n\n\n7.4. Aplikacije\n\n■ Prileganje krivulje\n\n■ Prileganje modela brezžičnega omrežja\n\n■ Priporočilni sistemi\n\n\n<p style=\"margin-bottom:2cm;\"></p>\n<div style=\"width:100%;text-align:right;font-weight:bold;font-size:1.2em;\"> 4 </div>\n<img src=\"https://raw.githubusercontent.com/andrejkk/ORvTK_SlidesImgs/master/footer_full.jpg\">"
    },
    {
      "metadata": {
        "collapsed": true,
        "slideshow": {
          "slide_type": "slide"
        }
      },
      "cell_type": "markdown",
      "source": "<div style=\"display:flex;font-weight:bold;font-size:0.9em;\">\n<div style=\"flex:1;width:50%;\"> 7. Nelinearna optimizacija  </div>\n<div style=\"flex:1;width:50%;text-align:right;\"> 7.1 Definicija, tipi ekstremov </div>\n</div>\n\n## 7.1 Definicija, tipi ekstremov\n\n■ Nelinearni optimizacijski problem\n\n■ Primer: prileganje parametričnega modela\n\n■ Lokalni in globalni ekstrem\n\n\n<p style=\"margin-bottom:2cm;\"></p>\n<div style=\"width:100%;text-align:right;font-weight:bold;font-size:1.2em;\"> 5 </div>\n<img src=\"https://raw.githubusercontent.com/andrejkk/ORvTK_SlidesImgs/master/footer_full.jpg\">"
    },
    {
      "metadata": {
        "collapsed": true,
        "slideshow": {
          "slide_type": "slide"
        }
      },
      "cell_type": "markdown",
      "source": "<div style=\"display:flex;font-weight:bold;font-size:0.9em;\">\n<div style=\"flex:1;width:50%;\"> 7. Nelinearna optimizacija  </div>\n<div style=\"flex:1;width:50%;text-align:right;\"> 7.1 Definicija, tipi ekstremov </div>\n</div>\n\n\n## ■ Nelinearni optimizacijski problem\n\n- Definicija (kanonična oblika)\n$$ \\matrix{\n & argmax_x c(x) \\cr\n s.t. &  \\cr\n & g_i(x) = 0, \\;i=1,\\ldots,p \\cr\n & h_j(x) \\leq 0, \\;j=1,\\ldots,m\n}\n$$\n\n\n- Kriterijska funkcija je nelinearna;\n- Omejitve (predikat dopustnosti $\\Phi(x)$) so nelinearne, dveh oblik;\n\n\n- Reševanje: odvisno od lastnosti kriterijske funkcije \n\n\n<p style=\"margin-bottom:2cm;\"></p>\n<div style=\"width:100%;text-align:right;font-weight:bold;font-size:1.2em;\"> 6 </div>\n<img src=\"https://raw.githubusercontent.com/andrejkk/ORvTK_SlidesImgs/master/footer_full.jpg\">"
    },
    {
      "metadata": {
        "collapsed": true,
        "slideshow": {
          "slide_type": "slide"
        }
      },
      "cell_type": "markdown",
      "source": "<div style=\"display:flex;font-weight:bold;font-size:0.9em;\">\n<div style=\"flex:1;width:50%;\"> 7. Nelinearna optimizacija  </div>\n<div style=\"flex:1;width:50%;text-align:right;\"> 7.1 Definicija, tipi ekstremov </div>\n</div>\n\n## ■ Primer: prileganje parametričnega modela\n\n- Model:\n$$ f(t;A, \\beta_1, \\beta_2) = A (1 - e^{-\\beta_1 t}) e^{-\\beta_2 t} $$\n\n\n\n- Podatki: \n    * $t = [0, 83, 166, 249, 332, 415]$;\n    * $y = [0, 80, 89, 86, 83, 81]$;\n    \n    \n- Kriterij: Najmanjša kvadratična napaka\n$$ c(A, \\beta_1, \\beta_2) = \\sum_{i=1}^6 |y_i - f(t_i; A, \\beta_1, \\beta_2)|^2. $$\n\n<img style=\"float: center; width: 350px; margin: 20px 20px 50px 0;\" src=\"https://raw.githubusercontent.com/andrejkk/ORvTK_SlidesImgs/master/FittedModel.png\">\n\n\n\n<p style=\"margin-bottom:2cm;\"></p>\n<div style=\"width:100%;text-align:right;font-weight:bold;font-size:1.2em;\"> 7 </div>\n<img src=\"https://raw.githubusercontent.com/andrejkk/ORvTK_SlidesImgs/master/footer_full.jpg\">"
    },
    {
      "metadata": {
        "collapsed": true,
        "slideshow": {
          "slide_type": "slide"
        }
      },
      "cell_type": "markdown",
      "source": "<div style=\"display:flex;font-weight:bold;font-size:0.9em;\">\n<div style=\"flex:1;width:50%;\"> 7. Nelinearna optimizacija  </div>\n<div style=\"flex:1;width:50%;text-align:right;\"> 7.1 Definicija, tipi ekstremov </div>\n</div>\n\n## ■ Lokalni in globalni ekstrem\n\n\n- Funkcija $c: ℝ^n \\to ℝ$\n- Lokalni minimum v $x_0$:\n  $$ \\exists\\varepsilon > 0: \\forall x\\in K(x_0, \\varepsilon): c(x)\\geq c(x_0) $$\n- Strogi lokalni minimum v $x_0$:\n  $$ \\exists\\varepsilon > 0: \\forall x\\ne x_0\\in K(x_0, \\varepsilon): c(x)> c(x_0)  $$\n- Lokalni maksimum v $x_0$:\n  $$ \\exists\\varepsilon > 0: \\forall x\\in K(x_0, \\varepsilon): c(x)\\leq c(x_0) $$\n- Strogi lokalni maksimum v $x_0$:\n  $$ \\exists\\varepsilon > 0: \\forall x\\ne x_0\\in K(x_0, \\varepsilon): c(x)< c(x_0)  $$\n- Globalni minimum v $x_0$:\n  $$ \\forall x\\in ℝ^n: c(x)\\geq c(x_0) $$\n- Strogi globalni minimum v $x_0$:\n  $$ \\forall x\\ne 0\\in ℝ^n: c(x) > c(x_0) $$\n- Globalni maksimum v $x_0$:\n  $$ \\forall x\\in ℝ^n: c(x)\\leq c(x_0) $$\n- Strogi globalni maksimum v $x_0$:\n  $$ \\forall x\\ne 0\\in ℝ^n: c(x) < c(x_0) $$\n\n\n\n<img style=\"float: right; width: 300px; margin: -150px -20px 50px 0;\" src=\"https://raw.githubusercontent.com/andrejkk/ORvTK_SlidesImgs/master/LocalMinimas.png\">\n\n\n<p style=\"margin-bottom:2cm;\"></p>\n<div style=\"width:100%;text-align:right;font-weight:bold;font-size:1.2em;\"> 8 </div>\n<img src=\"https://raw.githubusercontent.com/andrejkk/ORvTK_SlidesImgs/master/footer_full.jpg\">"
    },
    {
      "metadata": {
        "collapsed": true,
        "slideshow": {
          "slide_type": "slide"
        }
      },
      "cell_type": "markdown",
      "source": "<div style=\"display:flex;font-weight:bold;font-size:0.9em;\">\n<div style=\"flex:1;width:50%;\"> 7. Nelinearna optimizacija  </div>\n<div style=\"flex:1;width:50%;text-align:right;\"> 7.2. Kvadratična optimizacija, opt. pri pogoju </div>\n</div>\n\n\n## 7.2. Kvadratična optimizacija, opt. pri pogoju\n\n\n■ Ravnina in kvadratična forma\n\n■ Kvadratična forma in ekstremi\n\n■ Taylorjeva formula\n\n■ Problem kvadratične optimizacija\n\n■ Optimizacija pri pogoju, Lagrangejev izrek\n\n\n\n<p style=\"margin-bottom:2cm;\"></p>\n<div style=\"width:100%;text-align:right;font-weight:bold;font-size:1.2em;\"> 9 </div>\n<img src=\"https://raw.githubusercontent.com/andrejkk/ORvTK_SlidesImgs/master/footer_full.jpg\">"
    },
    {
      "metadata": {
        "collapsed": true,
        "slideshow": {
          "slide_type": "slide"
        }
      },
      "cell_type": "markdown",
      "source": "<div style=\"display:flex;font-weight:bold;font-size:0.9em;\">\n<div style=\"flex:1;width:50%;\"> 7. Nelinearna optimizacija  </div>\n<div style=\"flex:1;width:50%;text-align:right;\"> 7.2. Kvadratična optimizacija, opt. pri pogoju </div>\n</div>\n\n\n\n## ■ Gradient, ravnina in kvadratična forma\n\n- Gradient $\\vec{\\nabla} c(\\vec{x})$ je smer največjega naraščanja funkcije $c$ v točki $\\vec{x}$.\n\n- Množica točk oblike \n$$ (\\vec{r} - \\vec{r}_0)^\\top.\\vec{n} = 0. $$\nje ravnina na normalo $\\vec{n}$.\n\n- Funkcija \n$$ c(\\vec{x}) = a_0 + \\sum_{i=1}^n a_i x_i = a_0 + \\vec{a}^\\top.\\vec{x}. $$\nje ravnina. Vzamemo $\\vec{r}=(\\vec{x}, c(\\vec{x}))$ in $\\vec{n}=(\\vec{n}_1,n_y)$ in se prepričamo.\n\nSmer njene največjega naraščanja je\n$$ \\vec{\\nabla} c(\\vec{x}) = \\vec{a}. $$\n\n- Če gradient $\\vec{\\nabla} c(\\vec{x}_0)$ obstaja, potem ima funkcija $c$ ekstremno točko v $\\vec{x}_0$ če in samo če je njena tangentna ravnina <br> v točki $\\vec{x}_0$ vzporedna ravnino neodvisne spremenljivke (vodoravna), to je če in samo če je \n$$ \\vec{\\nabla} c(\\vec{x}_0) = \\vec{0} $$\n\n\n<img style=\"float: right; width: 200px; margin: -200px -20px 50px 0;\" src=\"https://raw.githubusercontent.com/andrejkk/ORvTK_SlidesImgs/master/FunMinima.png\">\n\n\n- Kvadratična forma\n$$ c(\\vec{x}) = a_0 + \\sum_{i=1}^n a_i x_i + \\sum_{i=1}^n\\sum_{j=1}^n a_{ij} (x_i-x_{i0})(x_j-x_{0j}) $$\n$$ = a_0 + \\vec{a}^\\top.\\vec{x} + (\\vec{x}-\\vec{x}_0)^\\top.A.(\\vec{x}-\\vec{x}_0) $$\nje ali\n    - Paraboloid, spodaj omejen\n    - Paraboloid, zgoraj omejen\n    - Sedlo\n    \n    Če ima funkcija $c$ ekstrem, ga ima v $\\vec{x}_0$.\n\n- pri predstavitvi kavadratične norme z matriko $A$ brez škode za splošnost predpostavimo $A^\\top = A$. \n\n<img style=\"float: right; width: 200px; margin: -120px -20px 50px 0;\" src=\"https://raw.githubusercontent.com/andrejkk/ORvTK_SlidesImgs/master/FunMaxima.png\">\n\n<img style=\"float: right; width: 200px; margin: 0px -20px 50px 0;\" src=\"https://raw.githubusercontent.com/andrejkk/ORvTK_SlidesImgs/master/FunSaddle.png\">\n\n\n\n<p style=\"margin-bottom:2cm;\"></p>\n<div style=\"width:100%;text-align:right;font-weight:bold;font-size:1.2em;\"> 10 </div>\n<img src=\"https://raw.githubusercontent.com/andrejkk/ORvTK_SlidesImgs/master/footer_full.jpg\">"
    },
    {
      "metadata": {
        "collapsed": true,
        "slideshow": {
          "slide_type": "slide"
        }
      },
      "cell_type": "markdown",
      "source": "<div style=\"display:flex;font-weight:bold;font-size:0.9em;\">\n<div style=\"flex:1;width:50%;\"> 7. Nelinearna optimizacija  </div>\n<div style=\"flex:1;width:50%;text-align:right;\"> 7.2. Kvadratična optimizacija, opt. pri pogoju </div>\n</div>\n\n\n## ■ Kvadratična forma in ekstremi: primer  \n\n- Kvadratična forma:  \n$$ c(x_1, x_2) = 2 x_1^2+3 x_1 x_2 + 5x_2^2. $$\n\n\n\n- Ali ima ekstrem?\n\n<img style=\"right: center; width: 300px; margin: 0px 20px 50px 0;\" src=\"https://raw.githubusercontent.com/andrejkk/ORvTK_SlidesImgs/master/ExampleMinima.png\">\n\n\n<p style=\"margin-bottom:2cm;\"></p>\n<div style=\"width:100%;text-align:right;font-weight:bold;font-size:1.2em;\"> 11 </div>\n<img src=\"https://raw.githubusercontent.com/andrejkk/ORvTK_SlidesImgs/master/footer_full.jpg\">"
    },
    {
      "metadata": {
        "collapsed": true,
        "slideshow": {
          "slide_type": "slide"
        }
      },
      "cell_type": "markdown",
      "source": "<div style=\"display:flex;font-weight:bold;font-size:0.9em;\">\n<div style=\"flex:1;width:50%;\"> 7. Nelinearna optimizacija  </div>\n<div style=\"flex:1;width:50%;text-align:right;\"> 7.2. Kvadratična optimizacija, opt. pri pogoju </div>\n</div>\n\n\n\n## ■ Kvadratična forma in ekstremi\n\n\n- Ravnina nima ekstrema, razen na robu\n- Prevedba kvadratične forme na kanonično obliko:\n    - Matrika $A$ je brez škode za splošnost simetričma\n    - Matrika $A$ ima realen spekter (realne lastne vrednosti): $\\{\\lambda_1, \\ldots, \\lambda_n\\}$\n    - Shurov razcep simetrične matrike: $A=Q.D.Q^\\top$, $D=diag(\\lambda_1, \\ldots, \\lambda_n)$ je le uvedba nove baze:\n    $$ f(\\vec{x}) = \\vec{x}^\\top.A.\\vec{x} = \\vec{y}^\\top.D.\\vec{y} = \\sum_{i=1}^n \\lambda_i y_i^2. $$\n    \n\n\n- Tip ekstrema ni odvisen od uvedbe nove baze, torej odločajo lastne vrednosti (za iskanje lastnih vrednosti ne potrebujemo Shurovega razcepa):\n    - $\\lambda_i \\geq 0 \\forall i$ ($A$ je pozitivno definitna): lokalni minimum\n    - $\\lambda_i > 0 \\forall i$ ($A$ je strogo pozitivno definitna): strogi lokalni minimum\n    - $\\lambda_i \\leq 0 \\forall i$ ($A$ je negativno definitna): lokalni maksimum\n    - $\\lambda_i < 0 \\forall i$ ($A$ je pozitivno definitna): strogi lokalni maksimum\n    - $\\lambda_i$ različnih predznakov ($A$ ni definitna): ni ekstrema\n\n\n<p style=\"margin-bottom:2cm;\"></p>\n<div style=\"width:100%;text-align:right;font-weight:bold;font-size:1.2em;\"> 12 </div>\n<img src=\"https://raw.githubusercontent.com/andrejkk/ORvTK_SlidesImgs/master/footer_full.jpg\">"
    },
    {
      "metadata": {
        "trusted": true
      },
      "cell_type": "code",
      "source": "# This is to demonstrate Schur matrix decomposition in the interpretation of \n# extreme points - signs of eigenvalues decides between minimum, maximum and saddle\n\nimport numpy as np\nfrom scipy import linalg\n\nA = np.array([[2, 1.5], [1.5, 5]])\n\n\nschA = linalg.schur(A)\nD = schA[0]\naxs = schA[1]\n\nprint (\"Eigenvalues D\\n\", D)\nprint (\"Axes\\n\", axs)\n\n\n# It is enough and more computatinally effective to find only eigenvalues\neigA = linalg.eig(A)\nprint (\"Eigenvalues eigA\\n\", eigA)\n\n\n\n",
      "execution_count": 1,
      "outputs": [
        {
          "output_type": "stream",
          "text": "Eigenvalues D\n [[1.37867966 0.        ]\n [0.         5.62132034]]\nAxes\n [[-0.92387953 -0.38268343]\n [ 0.38268343 -0.92387953]]\nEigenvalues eigA\n (array([1.37867966+0.j, 5.62132034+0.j]), array([[-0.92387953, -0.38268343],\n       [ 0.38268343, -0.92387953]]))\n",
          "name": "stdout"
        }
      ]
    },
    {
      "metadata": {
        "collapsed": true,
        "slideshow": {
          "slide_type": "slide"
        }
      },
      "cell_type": "markdown",
      "source": "<div style=\"display:flex;font-weight:bold;font-size:0.9em;\">\n<div style=\"flex:1;width:50%;\"> 7. Nelinearna optimizacija  </div>\n<div style=\"flex:1;width:50%;text-align:right;\"> 7.2. Kvadratična optimizacija, opt. pri pogoju </div>\n</div>\n\n\n\n## ■ Taylorjeva formula\n\n\n- Taylorjeva formula funkcije večih spremenljivk (v vlogi kriterijske funkcije $c$ je tu $f$): \n$$ f(\\vec{x}_0+\\vec{h}) = f(\\vec{x}_0) + \\vec{\\nabla} f(\\vec{x}_0)^\\top.\\vec{h} \n+ \\vec{h}^\\top.Hf(\\vec{x}_0).\\vec{h} + O(|\\vec{h}|^3) $$\nkjer je\n    - Gradinet  $\\vec{\\nabla} f(\\vec{x}) = [\\frac{\\partial f(\\vec{x})}{\\partial x_1}, \\ldots, \\frac{\\partial f(\\vec{x})}{\\partial x_n}]$ \n    - Hessejeva matrika: $Hf(\\vec{x}) = [\\frac{\\partial^2 f(\\vec{x})}{\\partial x_i x_j}]_{ij}$. Simetrična če je $f\\in \\cal C^{(2)}$\n\n\n- Geometrijski pomen\n- Za dovolj majhne $\\vec{h}$ je dovolj analizirati kvadratično formo\n\n\n\n- Povezava z optimizacijo: $f\\in \\cal C^{(2)}$\n    - Ekstrem v notranjosti $\\Rightarrow$ $\\vec{\\nabla} f(\\vec{x}_0)$ (le potreben pogoj – seznam kandidatov)\n    - Ali je ekstrem in če je, tip: spektralna analiza $Hf(\\vec{x}_0)$.\n\n\n<p style=\"margin-bottom:2cm;\"></p>\n<div style=\"width:100%;text-align:right;font-weight:bold;font-size:1.2em;\"> 13 </div>\n<img src=\"https://raw.githubusercontent.com/andrejkk/ORvTK_SlidesImgs/master/footer_full.jpg\">"
    },
    {
      "metadata": {
        "collapsed": true,
        "slideshow": {
          "slide_type": "slide"
        }
      },
      "cell_type": "markdown",
      "source": "<div style=\"display:flex;font-weight:bold;font-size:0.9em;\">\n<div style=\"flex:1;width:50%;\"> 7. Nelinearna optimizacija  </div>\n<div style=\"flex:1;width:50%;text-align:right;\"> 7.2. Kvadratična optimizacija, opt. pri pogoju </div>\n</div>\n\n\n\n## ■ Problem kvadratične optimizacija\n\n- Kvadratična optimizacija: kriterijska funkcija oblike (s središčem v $\\vec{0}$)\n$$ c(\\vec{x}) = a_0 + \\vec{a}^\\top.\\vec{x} + \\frac{1}{2} \\vec{x}^\\top.A.\\vec{x}  $$\n\n\n\n- Simetrična matrika je pozitivno definitna:\n    - Def: če za vsak $\\vec{x}\\ne\\vec{0}$ velja $\\vec{x}^\\top.A.\\vec{x} > 0$.\n    - Ekvivalentno: lastne vrednosti so strogo pozitivne: $\\lambda_i > 0$\n\n\n\n- Kvadratična forma je strogo konveksna, če in samo če je matrika A pozitivno definitna.  \n\n\n\n- Velja: Naj bo matrika $A$ pozitivno definitna. Funkcija \n$$ c(\\vec{x}) = a_0 + \\vec{a}^\\top.\\vec{x} + \\frac{1}{2} \\vec{x}^\\top.A.\\vec{x} $$\nima ekstrem $\\vec{x}^*$ natanko tedaj ko $\\vec{x}^*$ reši enačbo\n$$ \\vec{\\nabla} c(\\vec{x}^*) = A.\\vec{x}^* + \\vec{a} = \\vec{0}. $$\n\n\n\n<p style=\"margin-bottom:2cm;\"></p>\n<div style=\"width:100%;text-align:right;font-weight:bold;font-size:1.2em;\"> 14 </div>\n<img src=\"https://raw.githubusercontent.com/andrejkk/ORvTK_SlidesImgs/master/footer_full.jpg\">"
    },
    {
      "metadata": {
        "collapsed": true,
        "slideshow": {
          "slide_type": "slide"
        }
      },
      "cell_type": "markdown",
      "source": "<div style=\"display:flex;font-weight:bold;font-size:0.9em;\">\n<div style=\"flex:1;width:50%;\"> 7. Nelinearna optimizacija  </div>\n<div style=\"flex:1;width:50%;text-align:right;\"> 7.2. Kvadratična optimizacija, opt. pri pogoju </div>\n</div>\n\n\n## ■ Optimizacija krit. funkcije s kvadratično normo\n\n\n- Kriterijska funkcija \n$$ c(\\vec{x}) = \\|\\vec{f}(\\vec{x}) - \\vec{b}\\|_2 $$ \n    - Kvadratična norma predstavlja „energijo“\n    - Kvadratična norma je dobljena iz skalarnega produkta \n    $$ \\|\\vec{x}\\|_2^2 = \\vec{x}^\\top.\\vec{x}  $$\n    - Najkrajša razdalja je pravokotna razdalja\n\n\n\n- Kaj je vektor $\\vec{x}$, funkcija $f$ in vektor $\\vec{b}$:\n    * $\\vec{x}$ je vzorčen signal, funkcija $f$ predstavlja zgoščevanje in rekonstrukcijo, vektor $\\vec{b}$ pa originalen signal\n    * $\\vec{x}$ je čas, funkcija $f$ je teoretični model in vektor $\\vec{b}$ so znane vrednosti - meritve;\n \n\n\n- Linearen / lineariziran primer optimizacije: imamo eksplicitno rešitev\n    $$ \\vec{x}^* = A^\\dagger.\\vec{x} = (A^\\top.A)^{-1}.A.\\vec{b}\n     = argmin_x \\|A.\\vec{x} - \\vec{b}\\|_2.  $$\n    - Moore-Penroseov posplošeni inverz matrike (Python: numpy.linalg.pinv): rekonstrukcija iz projekcije\n    - Če je matrika $A$ obrnljiva, je rešitev $\\vec{x}^* = A^{-1}.\\vec{b}$ in vrednost v minimumu je enaka $c(\\vec{x}^*)=0$.\n\n\n\n- Opazimo: Matriko $A$ v linearizaciji lahko določimo za vsako $\\cal C^{(2)}$ funkcijo $f$, pri čemer upoštevamo prve člene Taylorjeve formule. \n\n\n<p style=\"margin-bottom:2cm;\"></p>\n<div style=\"width:100%;text-align:right;font-weight:bold;font-size:1.2em;\"> 15 </div>\n<img src=\"https://raw.githubusercontent.com/andrejkk/ORvTK_SlidesImgs/master/footer_full.jpg\">"
    },
    {
      "metadata": {
        "trusted": true
      },
      "cell_type": "code",
      "source": "# This is to demonstrate that the solution to the quadratic norm objective function \n# optimisation problem is solved by a generalised (Penrose) inverse of linearised function $f$. \n\nimport numpy as np\n\nA = np.array([[2, 1, 4], [3, 1, 2]])\nb = np.array([1, 2])\n\nAp = np.linalg.pinv(A)\n\nx_o = np.dot(Ap,b)\n\nprint (\"Generalized inverse: \\n\", Ap)\nprint (\"Optimal solution \\n\", x_o)",
      "execution_count": 2,
      "outputs": [
        {
          "output_type": "stream",
          "text": "Generalized inverse: \n [[-0.24637681  0.47826087]\n [-0.01449275  0.08695652]\n [ 0.37681159 -0.26086957]]\nOptimal solution \n [ 0.71014493  0.15942029 -0.14492754]\n",
          "name": "stdout"
        }
      ]
    },
    {
      "metadata": {
        "collapsed": true,
        "slideshow": {
          "slide_type": "slide"
        }
      },
      "cell_type": "markdown",
      "source": "<div style=\"display:flex;font-weight:bold;font-size:0.9em;\">\n<div style=\"flex:1;width:50%;\"> 7. Nelinearna optimizacija  </div>\n<div style=\"flex:1;width:50%;text-align:right;\"> 7.2. Kvadratična optimizacija, opt. pri pogoju </div>\n</div>\n\n\n\n## Optimizacija pri pogoju, Lagrangejev izrek\n\n-  **Izrek** Naj bo $c, g_i:ℝ^n\\to ℝ$ in $c, g_i\\in \\cal C^{(2)}$ za vse $i=1,\\ldots,m$. Tedaj je nevezan ekstrem Lagrangejeve funkcije \n$$ C(\\vec{x}, \\lambda_1, \\ldots, \\lambda_m) = c(\\vec{x}) + \\sum_{i=1}^m \\lambda_i g_i(\\vec{x}) $$\nenak vezanemu ekstremu funkcije $c$ pri pogojih\n$$ g_i(\\vec{x})=0, \\quad i=1,\\ldots,m $$\n\n\n- Posplošitev je Karush–Kuhn–Tuckerjev izrek, ki obvladuje še pogoje v obliki neenačb:\n$$  g_i(x) = 0, \\;i=1,\\ldots,p $$\n$$  h_j(x) \\leq 0, \\;j=1,\\ldots,m $$\n\n\n\n<p style=\"margin-bottom:2cm;\"></p>\n<div style=\"width:100%;text-align:right;font-weight:bold;font-size:1.2em;\"> 16 </div>\n<img src=\"https://raw.githubusercontent.com/andrejkk/ORvTK_SlidesImgs/master/footer_full.jpg\">"
    },
    {
      "metadata": {
        "trusted": true
      },
      "cell_type": "code",
      "source": "# This is to do calculations of the case 7.2.4 demonstrating the application of Lagrange's theorem transforming \n# constraint optimisation into a non-constraint one \n\nimport numpy as np\nimport scipy.optimize\n\n# Find candidates for extremes $\\vec{\\nabla} c(\\vec{x}) = \\vec{0}$\n#X[0] = x1, X[1] = x2, X[2]=lambda\ndef gradC(X):\n    ppx1 = 4*(X[0]-2) + 2*X[2]*(X[0]-3) \n    ppx2 = 6*(X[1]-1) + 2*X[2]*(X[0]-1)\n    ppla = (X[0]-3)**2 + (X[1]-2)**2 - 1\n    return ppx1 + ppx2 + ppla\n\nx0 = np.array([1,1,1])\nx = scipy.optimize.broyden1(gradC, x0, f_tol=1e-14)\n\n\n# Identify types of extreme points\ndef Hc(X):\n    H = [[4 + 2*X[2], 0, 2*(X[0]-3)], [0, 6+2*X[2], 2*(X[1]-2)], [2*(X[0]-3), 2*(X[1]-2), 0]]\n    return H\n\nX1 = [2.729, 1.037, 5.389]\nX2 = [3.358, 2.933, -7.597]\n\nprint (\"Eigs of H(X1)\", np.linalg.eig(Hc(X1)))\nprint (\"Eigs of H(X2)\", np.linalg.eig(Hc(X2)))\n\n",
      "execution_count": 1,
      "outputs": [
        {
          "output_type": "error",
          "ename": "ValueError",
          "evalue": "cannot reshape array of size 3 into shape (1,)",
          "traceback": [
            "\u001b[0;31m---------------------------------------------------------------------------\u001b[0m",
            "\u001b[0;31mValueError\u001b[0m                                Traceback (most recent call last)",
            "\u001b[0;32m<ipython-input-1-0ba00c631e5a>\u001b[0m in \u001b[0;36m<module>\u001b[0;34m()\u001b[0m\n\u001b[1;32m     14\u001b[0m \u001b[0;34m\u001b[0m\u001b[0m\n\u001b[1;32m     15\u001b[0m \u001b[0mx0\u001b[0m \u001b[0;34m=\u001b[0m \u001b[0mnp\u001b[0m\u001b[0;34m.\u001b[0m\u001b[0marray\u001b[0m\u001b[0;34m(\u001b[0m\u001b[0;34m[\u001b[0m\u001b[0;36m1\u001b[0m\u001b[0;34m,\u001b[0m\u001b[0;36m1\u001b[0m\u001b[0;34m,\u001b[0m\u001b[0;36m1\u001b[0m\u001b[0;34m]\u001b[0m\u001b[0;34m)\u001b[0m\u001b[0;34m\u001b[0m\u001b[0m\n\u001b[0;32m---> 16\u001b[0;31m \u001b[0mx\u001b[0m \u001b[0;34m=\u001b[0m \u001b[0mscipy\u001b[0m\u001b[0;34m.\u001b[0m\u001b[0moptimize\u001b[0m\u001b[0;34m.\u001b[0m\u001b[0mbroyden1\u001b[0m\u001b[0;34m(\u001b[0m\u001b[0mgradC\u001b[0m\u001b[0;34m,\u001b[0m \u001b[0mx0\u001b[0m\u001b[0;34m,\u001b[0m \u001b[0mf_tol\u001b[0m\u001b[0;34m=\u001b[0m\u001b[0;36m1e-14\u001b[0m\u001b[0;34m)\u001b[0m\u001b[0;34m\u001b[0m\u001b[0m\n\u001b[0m\u001b[1;32m     17\u001b[0m \u001b[0;34m\u001b[0m\u001b[0m\n\u001b[1;32m     18\u001b[0m \u001b[0;34m\u001b[0m\u001b[0m\n",
            "\u001b[0;32m~/anaconda3_420/lib/python3.5/site-packages/scipy/optimize/nonlin.py\u001b[0m in \u001b[0;36mbroyden1\u001b[0;34m(F, xin, iter, alpha, reduction_method, max_rank, verbose, maxiter, f_tol, f_rtol, x_tol, x_rtol, tol_norm, line_search, callback, **kw)\u001b[0m\n",
            "\u001b[0;32m~/anaconda3_420/lib/python3.5/site-packages/scipy/optimize/nonlin.py\u001b[0m in \u001b[0;36mnonlin_solve\u001b[0;34m(F, x0, jacobian, iter, verbose, maxiter, f_tol, f_rtol, x_tol, x_rtol, tol_norm, line_search, callback, full_output, raise_exception)\u001b[0m\n\u001b[1;32m    325\u001b[0m             \u001b[0mFx_norm_new\u001b[0m \u001b[0;34m=\u001b[0m \u001b[0mnorm\u001b[0m\u001b[0;34m(\u001b[0m\u001b[0mFx\u001b[0m\u001b[0;34m)\u001b[0m\u001b[0;34m\u001b[0m\u001b[0m\n\u001b[1;32m    326\u001b[0m \u001b[0;34m\u001b[0m\u001b[0m\n\u001b[0;32m--> 327\u001b[0;31m         \u001b[0mjacobian\u001b[0m\u001b[0;34m.\u001b[0m\u001b[0mupdate\u001b[0m\u001b[0;34m(\u001b[0m\u001b[0mx\u001b[0m\u001b[0;34m.\u001b[0m\u001b[0mcopy\u001b[0m\u001b[0;34m(\u001b[0m\u001b[0;34m)\u001b[0m\u001b[0;34m,\u001b[0m \u001b[0mFx\u001b[0m\u001b[0;34m)\u001b[0m\u001b[0;34m\u001b[0m\u001b[0m\n\u001b[0m\u001b[1;32m    328\u001b[0m \u001b[0;34m\u001b[0m\u001b[0m\n\u001b[1;32m    329\u001b[0m         \u001b[0;32mif\u001b[0m \u001b[0mcallback\u001b[0m\u001b[0;34m:\u001b[0m\u001b[0;34m\u001b[0m\u001b[0m\n",
            "\u001b[0;32m~/anaconda3_420/lib/python3.5/site-packages/scipy/optimize/nonlin.py\u001b[0m in \u001b[0;36mupdate\u001b[0;34m(self, x, f)\u001b[0m\n\u001b[1;32m    685\u001b[0m         \u001b[0mdf\u001b[0m \u001b[0;34m=\u001b[0m \u001b[0mf\u001b[0m \u001b[0;34m-\u001b[0m \u001b[0mself\u001b[0m\u001b[0;34m.\u001b[0m\u001b[0mlast_f\u001b[0m\u001b[0;34m\u001b[0m\u001b[0m\n\u001b[1;32m    686\u001b[0m         \u001b[0mdx\u001b[0m \u001b[0;34m=\u001b[0m \u001b[0mx\u001b[0m \u001b[0;34m-\u001b[0m \u001b[0mself\u001b[0m\u001b[0;34m.\u001b[0m\u001b[0mlast_x\u001b[0m\u001b[0;34m\u001b[0m\u001b[0m\n\u001b[0;32m--> 687\u001b[0;31m         \u001b[0mself\u001b[0m\u001b[0;34m.\u001b[0m\u001b[0m_update\u001b[0m\u001b[0;34m(\u001b[0m\u001b[0mx\u001b[0m\u001b[0;34m,\u001b[0m \u001b[0mf\u001b[0m\u001b[0;34m,\u001b[0m \u001b[0mdx\u001b[0m\u001b[0;34m,\u001b[0m \u001b[0mdf\u001b[0m\u001b[0;34m,\u001b[0m \u001b[0mnorm\u001b[0m\u001b[0;34m(\u001b[0m\u001b[0mdx\u001b[0m\u001b[0;34m)\u001b[0m\u001b[0;34m,\u001b[0m \u001b[0mnorm\u001b[0m\u001b[0;34m(\u001b[0m\u001b[0mdf\u001b[0m\u001b[0;34m)\u001b[0m\u001b[0;34m)\u001b[0m\u001b[0;34m\u001b[0m\u001b[0m\n\u001b[0m\u001b[1;32m    688\u001b[0m         \u001b[0mself\u001b[0m\u001b[0;34m.\u001b[0m\u001b[0mlast_f\u001b[0m \u001b[0;34m=\u001b[0m \u001b[0mf\u001b[0m\u001b[0;34m\u001b[0m\u001b[0m\n\u001b[1;32m    689\u001b[0m         \u001b[0mself\u001b[0m\u001b[0;34m.\u001b[0m\u001b[0mlast_x\u001b[0m \u001b[0;34m=\u001b[0m \u001b[0mx\u001b[0m\u001b[0;34m\u001b[0m\u001b[0m\n",
            "\u001b[0;32m~/anaconda3_420/lib/python3.5/site-packages/scipy/optimize/nonlin.py\u001b[0m in \u001b[0;36m_update\u001b[0;34m(self, x, f, dx, df, dx_norm, df_norm)\u001b[0m\n\u001b[1;32m    998\u001b[0m         \u001b[0mv\u001b[0m \u001b[0;34m=\u001b[0m \u001b[0mself\u001b[0m\u001b[0;34m.\u001b[0m\u001b[0mGm\u001b[0m\u001b[0;34m.\u001b[0m\u001b[0mrmatvec\u001b[0m\u001b[0;34m(\u001b[0m\u001b[0mdx\u001b[0m\u001b[0;34m)\u001b[0m\u001b[0;34m\u001b[0m\u001b[0m\n\u001b[1;32m    999\u001b[0m         \u001b[0mc\u001b[0m \u001b[0;34m=\u001b[0m \u001b[0mdx\u001b[0m \u001b[0;34m-\u001b[0m \u001b[0mself\u001b[0m\u001b[0;34m.\u001b[0m\u001b[0mGm\u001b[0m\u001b[0;34m.\u001b[0m\u001b[0mmatvec\u001b[0m\u001b[0;34m(\u001b[0m\u001b[0mdf\u001b[0m\u001b[0;34m)\u001b[0m\u001b[0;34m\u001b[0m\u001b[0m\n\u001b[0;32m-> 1000\u001b[0;31m         \u001b[0md\u001b[0m \u001b[0;34m=\u001b[0m \u001b[0mv\u001b[0m \u001b[0;34m/\u001b[0m \u001b[0mvdot\u001b[0m\u001b[0;34m(\u001b[0m\u001b[0mdf\u001b[0m\u001b[0;34m,\u001b[0m \u001b[0mv\u001b[0m\u001b[0;34m)\u001b[0m\u001b[0;34m\u001b[0m\u001b[0m\n\u001b[0m\u001b[1;32m   1001\u001b[0m \u001b[0;34m\u001b[0m\u001b[0m\n\u001b[1;32m   1002\u001b[0m         \u001b[0mself\u001b[0m\u001b[0;34m.\u001b[0m\u001b[0mGm\u001b[0m\u001b[0;34m.\u001b[0m\u001b[0mappend\u001b[0m\u001b[0;34m(\u001b[0m\u001b[0mc\u001b[0m\u001b[0;34m,\u001b[0m \u001b[0md\u001b[0m\u001b[0;34m)\u001b[0m\u001b[0;34m\u001b[0m\u001b[0m\n",
            "\u001b[0;31mValueError\u001b[0m: cannot reshape array of size 3 into shape (1,)"
          ]
        }
      ]
    },
    {
      "metadata": {
        "collapsed": true,
        "slideshow": {
          "slide_type": "slide"
        }
      },
      "cell_type": "markdown",
      "source": "<div style=\"display:flex;font-weight:bold;font-size:0.9em;\">\n<div style=\"flex:1;width:50%;\"> 7. Nelinearna optimizacija  </div>\n<div style=\"flex:1;width:50%;text-align:right;\"> 7.3. Algoritmi nelinearne optimizacije </div>\n</div>\n\n\n## 7.3. Algoritmi nelinearne optimizacije\n\n■ Postopek iskanja ekstremov\n\n■ Okvir postopka iskanja ekstremov\n\n■ Gradientna metoda\n\n■ Metoda konjugiranega gradienta\n\n■ Realnost reševanja nelinearne optimizacije\n\n\n<p style=\"margin-bottom:2cm;\"></p>\n<div style=\"width:100%;text-align:right;font-weight:bold;font-size:1.2em;\"> 17 </div>\n<img src=\"https://raw.githubusercontent.com/andrejkk/ORvTK_SlidesImgs/master/footer_full.jpg\">"
    },
    {
      "metadata": {
        "collapsed": true,
        "slideshow": {
          "slide_type": "slide"
        }
      },
      "cell_type": "markdown",
      "source": "<div style=\"display:flex;font-weight:bold;font-size:0.9em;\">\n<div style=\"flex:1;width:50%;\"> 7. Nelinearna optimizacija  </div>\n<div style=\"flex:1;width:50%;text-align:right;\"> 7.3. Algoritmi nelinearne optimizacije </div>\n</div>\n\n\n## ■ Okvir postopka iskanja ekstremov (1)\n\nGradient zajame le ekstreme v notranjosti območja dopustnih rešitev\n1. Notranjost območja:\n   1. Kandidati za ekstrem: $\\vec{\\nabla} c(\\vec{x})=0: \\vec{x}_1^*, \\vec{x}_2^*, \\ldots$\n   2. Tip ekstrema: analiza $H c(\\vec{x}_1^*), H c(\\vec{x}_2^*), \\ldots $\n    \n    \n2. Rob območja dopustnih rešitev:\n   1. Parametrizacija roba dopustnih rešitev: dimenzije ;\n   2. Reševanje ekstremov na robu z enakimi postopki;\n\n\n\n<p style=\"margin-bottom:2cm;\"></p>\n<div style=\"width:100%;text-align:right;font-weight:bold;font-size:1.2em;\"> 18 </div>\n<img src=\"https://raw.githubusercontent.com/andrejkk/ORvTK_SlidesImgs/master/footer_full.jpg\">"
    },
    {
      "metadata": {
        "collapsed": true,
        "slideshow": {
          "slide_type": "slide"
        }
      },
      "cell_type": "markdown",
      "source": "<div style=\"display:flex;font-weight:bold;font-size:0.9em;\">\n<div style=\"flex:1;width:50%;\"> 7. Nelinearna optimizacija  </div>\n<div style=\"flex:1;width:50%;text-align:right;\"> 7.3. Algoritmi nelinearne optimizacije </div>\n</div>\n\n\n## ■ Okvir postopka iskanja ekstremov (2)\n\n\n- Kdaj: ko enačba $\\vec{\\nabla} c(\\vec{x})=0$ ni rešljiva (rešljiva je le izjemoma)\n- Kaj je iterativna metoda:\n    - Približek na koraku $k$ je $\\vec{x}_k$;\n    - Začetni približek $\\vec{x}_0$;\n    - Korak iskanja: $\\vec{x}_{k+1} = F(\\vec{x}_k, c)$;\n\n\n- Računska zahtevnost enega koraka\n\n\n- Tip konvergence: \n    - linearna (1 decimalno mesto na korak), \n    - kvadratična (2 decimalni mesti na korak) \n\n\n\n- Težave z začetnimi približki\n    - Samostojen robusten algoritem za začetni probližek\n\n\n<p style=\"margin-bottom:2cm;\"></p>\n<div style=\"width:100%;text-align:right;font-weight:bold;font-size:1.2em;\"> 19 </div>\n<img src=\"https://raw.githubusercontent.com/andrejkk/ORvTK_SlidesImgs/master/footer_full.jpg\">"
    },
    {
      "metadata": {
        "collapsed": true,
        "slideshow": {
          "slide_type": "slide"
        }
      },
      "cell_type": "markdown",
      "source": "<div style=\"display:flex;font-weight:bold;font-size:0.9em;\">\n<div style=\"flex:1;width:50%;\"> 7. Nelinearna optimizacija  </div>\n<div style=\"flex:1;width:50%;text-align:right;\"> 7.3. Algoritmi nelinearne optimizacije </div>\n</div>\n\n\n## ■ Gradientna metoda\n\n\n- Formulacija: minimizacije kriterijske funkcije $c(\\vec{x})$\n- Postopek:\n    - Začetni približek $\\vec{x}_0$: druge metode ali ugibanje\n    - Smer iskanja $\\vec{r}_k=-\\vec{\\nabla}c(\\vec{x}_k)$ \n    - Korak: $\\vec{x}_{k+1} = \\vec{x}_k  - \\alpha_k \\vec{\\nabla}c(\\vec{x}_k)$\n    - Izbira velikosti koraka – več načinov:\n        - Linearizacija: \n        $$ \\alpha_k = \\frac{\\vec{x}_k^\\top.Hc(\\vec{x}_k).\\vec{x}_k}{\\vec{x}_k^\\top.\\vec{x}_k} $$ \n        - Minimizacija v eni dimenziji: minimiziramo funkcijo\n        $$ \\alpha \\mapsto c(\\vec{x}_k + \\alpha \\vec{r}_k) $$\n        - Iskanje ničel: rešujemo enačbo\n        $$ \\vec{x}_k^\\top.\\vec{\\nabla}c(\\vec{x}_k + \\alpha \\vec{r}_k) = 0  $$\n\n\n\n- Konvergenca: linearna (ena decimalka na korak)\n\n\n<p style=\"margin-bottom:2cm;\"></p>\n<div style=\"width:100%;text-align:right;font-weight:bold;font-size:1.2em;\"> 20 </div>\n<img src=\"https://raw.githubusercontent.com/andrejkk/ORvTK_SlidesImgs/master/footer_full.jpg\">"
    },
    {
      "metadata": {
        "collapsed": true,
        "slideshow": {
          "slide_type": "slide"
        }
      },
      "cell_type": "markdown",
      "source": "<div style=\"display:flex;font-weight:bold;font-size:0.9em;\">\n<div style=\"flex:1;width:50%;\"> 7. Nelinearna optimizacija  </div>\n<div style=\"flex:1;width:50%;text-align:right;\"> 7.3. Algoritmi nelinearne optimizacije </div>\n</div>\n\n\n## ■ Metoda konjugiranega gradienta (1)\n\n- Formulacija: minimizacije kriterijske funkcije $c(\\vec{x})$\n- Postopek:\n    - Začetni približek $c(\\vec{x})_k$: druge metode ali ugibanje\n    - Smer iskanja $\\vec{d}_k = \\vec{r}_k + \\beta \\vec{d}_{k-1}$, \n    $\\vec{r}_k = -\\vec{\\nabla} c(\\vec{x}_k)$;\n    - Izbira $\\beta$\n        - Polak-Ribiere: \n        $$ \\beta_k = \\frac{\\vec{r}_k^\\top.\\vec{r}_k}{(\\vec{r}_k - \\vec{r}_{k-1})^\\top.\\vec{r}_{k-1}} $$\n        - Fletcher-Reeves: \n        $$ \\beta_k = \\frac{\\vec{r}_k^\\top.\\vec{r}_k}{\\vec{r}_{k-1}^\\top.\\vec{r}_{k-1}} $$\n    - Korak: \n    $$ \\vec{x}_{k+1} = \\vec{x}_k - \\alpha_k \\vec{d}_k $$\n\n\n<p style=\"margin-bottom:2cm;\"></p>\n<div style=\"width:100%;text-align:right;font-weight:bold;font-size:1.2em;\"> 21 </div>\n<img src=\"https://raw.githubusercontent.com/andrejkk/ORvTK_SlidesImgs/master/footer_full.jpg\">"
    },
    {
      "metadata": {
        "collapsed": true,
        "slideshow": {
          "slide_type": "slide"
        }
      },
      "cell_type": "markdown",
      "source": "<div style=\"display:flex;font-weight:bold;font-size:0.9em;\">\n<div style=\"flex:1;width:50%;\"> 7. Nelinearna optimizacija  </div>\n<div style=\"flex:1;width:50%;text-align:right;\"> 7.3. Algoritmi nelinearne optimizacije </div>\n</div>\n\n## ■ Metoda konjugiranega gradienta (2)\n\n\n- Postopek (nadaljevanje):\n    - Izbira velikosti koraka – več načinov:\n        - Linearizacija:\n        $$ \\alpha_k = \\frac{\\vec{d}_k^\\top.Hc(\\vec{x}_k).\\vec{d}_k}{\\vec{r}_k^\\top.\\vec{d}_k} $$\n        - Minimizacija v eni dimenziji: minimiziramo funkcijo\n        $$ \\alpha \\mapsto c(\\vec{x}_k + \\alpha \\vec{r}_k) $$\n        - Iskanje ničel: rešujemo enačbo\n        $$ \\vec{d}_k^\\top.\\vec{\\nabla}(\\vec{x}_k + \\alpha \\vec{d}_k) = 0 $$\n    - Ponavljaj dokler nisi dovolj blizu rešitve\n\n\n\n<p style=\"margin-bottom:2cm;\"></p>\n<div style=\"width:100%;text-align:right;font-weight:bold;font-size:1.2em;\"> 22 </div>\n<img src=\"https://raw.githubusercontent.com/andrejkk/ORvTK_SlidesImgs/master/footer_full.jpg\">"
    },
    {
      "metadata": {
        "collapsed": true,
        "slideshow": {
          "slide_type": "slide"
        }
      },
      "cell_type": "markdown",
      "source": "<div style=\"display:flex;font-weight:bold;font-size:0.9em;\">\n<div style=\"flex:1;width:50%;\"> 7. Nelinearna optimizacija  </div>\n<div style=\"flex:1;width:50%;text-align:right;\"> 7.3. Algoritmi nelinearne optimizacije </div>\n</div>\n\n## ■ Realnost reševanja nelinearne optimizacije\n\n- Iskanje ugodne oblike kriterijske funkcije\n- Iskanje ugodnega algoritma – „cook and look method“\n- Kombinacija dveh metod:\n    1. Grob pregled optimizacijskega prostora: npr. genetski algoritme\n    2. Rešitev ad. 1. je začetni približek natančne metode: npr. gradientna metoda\n    \n    \n- Avtomatizacija formulacije problema z razčlenjevalniki\n\n\n\n- Naravno zaporedje\n    1. Poskus analitične rešitve enačbe $\\vec{\\nabla}c(\\vec{x})=\\vec{0}$\n    2. Če (ker) ne gre, preizkušanje obstoječih metod\n    3. Iskanja kombinacije dveh metod\n    4. Veliko število poskusov z različnimi \n        1. Nastavitvami parametrov algoritma\n        2. Kriterijskimi funkcijami\n        3. Začetnimi približki  \n    5. Izjemoma razvoj novih algoritmov\n\n\n<p style=\"margin-bottom:2cm;\"></p>\n<div style=\"width:100%;text-align:right;font-weight:bold;font-size:1.2em;\"> 23 </div>\n<img src=\"https://raw.githubusercontent.com/andrejkk/ORvTK_SlidesImgs/master/footer_full.jpg\">"
    },
    {
      "metadata": {
        "collapsed": true,
        "slideshow": {
          "slide_type": "slide"
        }
      },
      "cell_type": "markdown",
      "source": "<div style=\"display:flex;font-weight:bold;font-size:0.9em;\">\n<div style=\"flex:1;width:50%;\"> 7. Nelinearna optimizacija  </div>\n<div style=\"flex:1;width:50%;text-align:right;\"> 7.3. Algoritmi nelinearne optimizacije </div>\n</div>\n\n## ■ Realnost reševanja nelinearne optimizacije\n\n\n- IBM CPLEX\n    - Najboljše orodje\n    - Vključuje selektor\n    najboljšega algoritma\n\n<img style=\"float: right; width: 350px; margin: 0px 20px 20px 0px;\" src=\"https://raw.githubusercontent.com/andrejkk/ORvTK_SlidesImgs/master/CPLEX_UI.png\">\n\n\n\n<p style=\"margin-bottom:2cm;\"></p>\n<div style=\"width:100%;text-align:right;font-weight:bold;font-size:1.2em;\"> 24 </div>\n<img src=\"https://raw.githubusercontent.com/andrejkk/ORvTK_SlidesImgs/master/footer_full.jpg\">"
    },
    {
      "metadata": {},
      "cell_type": "markdown",
      "source": "<div style=\"display:flex;font-weight:bold;font-size:0.9em;\">\n<div style=\"flex:1;width:50%;\"> 7. Nelinearna optimizacija  </div>\n<div style=\"flex:1;width:50%;text-align:right;\"> 7.4. Aplikacije </div>\n</div>\n\n## 7.4. Aplikacije\n\n■ Prileganje krivulje\n\n■ Prileganje modela brezžičnega omrežja\n\n■ Priporočilni sistemi\n\n\n\n<p style=\"margin-bottom:2cm;\"></p>\n<div style=\"width:100%;text-align:right;font-weight:bold;font-size:1.2em;\"> 25 </div>\n<img src=\"https://raw.githubusercontent.com/andrejkk/ORvTK_SlidesImgs/master/footer_full.jpg\">"
    },
    {
      "metadata": {
        "collapsed": true,
        "slideshow": {
          "slide_type": "slide"
        }
      },
      "cell_type": "markdown",
      "source": "<div style=\"display:flex;font-weight:bold;font-size:0.9em;\">\n<div style=\"flex:1;width:50%;\"> 7. Nelinearna optimizacija  </div>\n<div style=\"flex:1;width:50%;text-align:right;\"> 7.4. Aplikacije </div>\n</div>\n\n\n## ■ Rešitev uvodnega primera – prileganje krivulje\n\n\n- Kriterijska funkcija, model\n$$ f(t;A, \\beta_1, \\beta_2) = A (1 - e^{-\\beta_1 t}) e^{-\\beta_2 t} $$\n$$ c(A, \\beta_1, \\beta_2) = \\sum_{i=1}^6 |y_i - f(t_i; A, \\beta_1, \\beta_2)|^2. $$\n\n\n- Rešitev: gradientna metoda, \n    - $A_0=150$\n    - $\\beta_{10}=0.01$;\n    - $\\beta_{20}=0.001$;\n\n\n- Rešitev: ocena + interval zaupanja\n    - $A=97.2$ $(91.59, 102.8)$;\n    - $\\beta_1=0.02339$ $(0.019, 0.027)$;\n    - $\\beta_2=0.0004545$ $(0.00028, 0.00063)$;\n\n\n<p style=\"margin-bottom:2cm;\"></p>\n<div style=\"width:100%;text-align:right;font-weight:bold;font-size:1.2em;\"> 26 </div>\n<img src=\"https://raw.githubusercontent.com/andrejkk/ORvTK_SlidesImgs/master/footer_full.jpg\">"
    },
    {
      "metadata": {
        "trusted": true
      },
      "cell_type": "code",
      "source": "# Curve fitting\nimport numpy as np\nimport matplotlib.pyplot as plt\nfrom scipy.optimize import minimize\n\nt = [0, 83, 166, 249, 332, 415];\ny = [0, 80, 89, 86, 83, 81];\n\n# Cost function\ndef f(t, x):\n    return x[0]*(1 - np.e**(-x[1]*t))*np.e**(-x[2]*t)\n                 \ndef c(x):\n    err = 0\n    for ii in range(6):\n        err += (y[ii] - f(t[ii], x))**2 \n    return err\n\n\n# Initial value\nA0 = 200\nb10 = 0.01\nb20 = 0.001\nx0 = np.array([A0, b10, b20])\n\n# Optimisation\nres = minimize(c, x0, options={'disp': True})\nprint ('Results: ', res.x)\n\n\n# Plot results\nt_s = np.arange(0.0, 415, 1.0)\ny_s = f(t_s, res.x)\n\nfig, ax = plt.subplots()\nax.plot(t, y, 'bo')\nax.plot(t_s, y_s, color = 'm')\n\nax.set(xlabel='time [s]', ylabel='Conc.',\n       title='Concentration')\nax.grid()\nplt.show()",
      "execution_count": 9,
      "outputs": [
        {
          "output_type": "stream",
          "text": "Warning: Desired error not necessarily achieved due to precision loss.\n         Current function value: 1.408173\n         Iterations: 26\n         Function evaluations: 577\n         Gradient evaluations: 113\nResults:  [9.71928091e+01 2.33907570e-02 4.54404329e-04]\n",
          "name": "stdout"
        },
        {
          "output_type": "display_data",
          "data": {
            "image/png": "[encoded data removed]",
            "text/plain": "<matplotlib.figure.Figure at 0x7f01af18e898>"
          },
          "metadata": {}
        }
      ]
    },
    {
      "metadata": {
        "collapsed": true,
        "slideshow": {
          "slide_type": "slide"
        }
      },
      "cell_type": "markdown",
      "source": "<div style=\"display:flex;font-weight:bold;font-size:0.9em;\">\n<div style=\"flex:1;width:50%;\"> 7. Nelinearna optimizacija  </div>\n<div style=\"flex:1;width:50%;text-align:right;\"> 7.4. Aplikacije </div>\n</div>\n\n\n## ■ Prileganje modela brezžičnega omrežja (1)\n\n\n- Model: A. F. Molisch: Wireless Communications, 2nd Edition, Wiley, 2010\n- Članek: M. Pesko, T. Javornik, V. Luka, A. Košir, M. Štular, M. Mohorčič, _The indirect self-tuning method for constructing radio environment map using omnidirectional or directional transmitter antenna. EURASIP Journal on wireless communications and networking_, 2015.\n\n\n- Problem: \n    - Napovedi jakosti signala na terenu (sive lise, …)\n    - Ocene zmogljivosti omrežja \n    - Načrtovanja omrežja\n\n\n\n- Rešitev: prileganje modela razširjanja vala z namenom\n    - Izberemo parametrični model razširjanja signala \n    $$ \\mbox{PathLoss}_{dB} (A_0, A_1, A_2, A_3) $$\n    - Prilegamo ga na realne meritve - kriterijska funkcija:\n    $$ c((A_0, A_1, A_2, A_3)) = \n    \\sum_{k=1}^m |\\mbox{PathLoss}_{dB} (A_0, A_1, A_2, A_3) - \\mbox{RealLoss}_k|^2  $$\n\n\n\n\n- Optimizacijska formulacija\n  $$ (A_0, A_1, A_2, A_3)^* = argmin_{A_0, A_1, A_2, A_3} c(A_0, A_1, A_2, A_3). $$\n\n\n<p style=\"margin-bottom:2cm;\"></p>\n<div style=\"width:100%;text-align:right;font-weight:bold;font-size:1.2em;\"> 27 </div>\n<img src=\"https://raw.githubusercontent.com/andrejkk/ORvTK_SlidesImgs/master/footer_full.jpg\">"
    },
    {
      "metadata": {
        "collapsed": true,
        "slideshow": {
          "slide_type": "slide"
        }
      },
      "cell_type": "markdown",
      "source": "<div style=\"display:flex;font-weight:bold;font-size:0.9em;\">\n<div style=\"flex:1;width:50%;\"> 7. Nelinearna optimizacija  </div>\n<div style=\"flex:1;width:50%;text-align:right;\"> 7.4. Aplikacije </div>\n</div>\n\n## ■ Prileganje modela brezžičnega omrežja (2)\n\n\n- Model razširjanja vala **Empirical Okumura–Hata (OH)**: \n    $$ \n    \\mbox{PathLoss}_{dB} (A_0, A_1, A_2, A_3) \n      = HOA(A_0, A_1, A_2, A_3) + mk(q) + \\sqrt{(\\alpha\\mbox{KDRF})^2 + \\mbox{JDRF}^2}  $$\n      \n    $$ HOA(A_0, A_1, A_2, A_3) = A_0 + A_1\\log(\\frac{d(q)}{10^3})\n     + A_2\\log(H_{effi}) + A_3\\log(\\frac{d(q)}{10^3})\\log(H_{effi})\n     - 3.2\\log^2(11.75 hm) + 44.49 \\log(F) - 4.78\\log^2(F).  $$\n    \n    \n    \n- Oznake:\n    - $A_0, A_1, A_2, A_3$ so prosti parametri – rezultat optimizacije;\n    - $H_{effi}$ [m] je efektivna višina oddajne antene\n    - $mk(q)$ je slabljenje zaradi prekrivanja v dB;\n    - $\\mbox{KDRF}$ je izguba na klinasti oviri v dB;\n    - $\\alpha$ je kontrolni parameter uklona na klinasti oviri\n    - $JDFR$ je izguba zaradi ukrivljenosti zemlje v dB\n    - $d(q)$ so razdalje od oddajnika do topografskih točk v metrih\n    - $hm$ je višina antene\n    - $F$ je frekvenca oddajanja v MHz\n\n\n\n<p style=\"margin-bottom:2cm;\"></p>\n<div style=\"width:100%;text-align:right;font-weight:bold;font-size:1.2em;\"> 28 </div>\n<img src=\"https://raw.githubusercontent.com/andrejkk/ORvTK_SlidesImgs/master/footer_full.jpg\">"
    },
    {
      "metadata": {
        "collapsed": true,
        "slideshow": {
          "slide_type": "slide"
        }
      },
      "cell_type": "markdown",
      "source": "<div style=\"display:flex;font-weight:bold;font-size:0.9em;\">\n<div style=\"flex:1;width:50%;\"> 7. Nelinearna optimizacija  </div>\n<div style=\"flex:1;width:50%;text-align:right;\"> 7.4. Aplikacije </div>\n</div>\n\n## ■ Prileganje modela brezžičnega omrežja (3)\n\n\n- Reševanje\n    - Genetski algoritem: OK\n    - Reševanje enačbe $\\vec{\\nabla} c(\\vec{A}) = \\vec{0}$ je privedlo do linearnega sistema enačb\n    $$ G.\\vec{A} = \\vec{b} $$\n    - Rešitev \n    $$(A_0, A_1, A_2, A_3)^* =(37.42,  34.85,  −11.96, −0.091). $$\n\n\n\n- Nadalje \n    - Analiza občutljivosti na napake meritev\n    - Analiza napak – določitev števila potrebnih meritev\n\n\n<p style=\"margin-bottom:2cm;\"></p>\n<div style=\"width:100%;text-align:right;font-weight:bold;font-size:1.2em;\"> 29 </div>\n<img src=\"https://raw.githubusercontent.com/andrejkk/ORvTK_SlidesImgs/master/footer_full.jpg\">"
    },
    {
      "metadata": {},
      "cell_type": "markdown",
      "source": "<div style=\"display:flex;font-weight:bold;font-size:0.9em;\">\n<div style=\"flex:1;width:50%;\"> 7. Nelinearna optimizacija  </div>\n<div style=\"flex:1;width:50%;text-align:right;\"> 7.4. Aplikacije </div>\n</div>\n\n## ■ Priporočilni sistemi (1)\n\n#### Aplikativni problem: neobvladljiva količina informacij  \n - rezultatov iskalnika je preveč: knjig, filmov, turističnij destinacij, ...\n \n#### Rešitev: priporočilni sistem\n - uporabniku prilagojeni rezultati iskanj\n - trije pristopi:\n     - vsebinksi: _Vsebina, ki ga je zanimala v preteklosti, ga še vedno zanima._ Kako meriti podobnost vsebin?\n     - skupinski: _Vsebina, ki zanima podobne uporabnike, zanima tudi tega uporabnika._ Kako meriti podobnost med upoabniki?\n     - hibridni (kombinacija obeh pristopov)\n\n\n<p style=\"margin-bottom:2cm;\"></p>\n<div style=\"width:100%;text-align:right;font-weight:bold;font-size:1.2em;\"> 30 </div>\n<img src=\"https://raw.githubusercontent.com/andrejkk/ORvTK_SlidesImgs/master/footer_full.jpg\">"
    },
    {
      "metadata": {},
      "cell_type": "markdown",
      "source": "<div style=\"display:flex;font-weight:bold;font-size:0.9em;\">\n<div style=\"flex:1;width:50%;\"> 7. Nelinearna optimizacija  </div>\n<div style=\"flex:1;width:50%;text-align:right;\"> 7.4. Aplikacije </div>\n</div>\n\n\n## ■ Priporočilni sistemi (2)\n\n#### Algoritmična rešitev: Matrična faktorizacija\n\n- članek: Y. Koren, R. Bell, C. Volinsky: MATRIX FACTORIZATION TECHNIQUES FOR RECOMMENDER SYSTEMS, IEEE Computer Society, 2009.  \n- uporabniki $u\\in U$, vsebine $h\\in H$\n- podatkovna matrika ocen uporabnikov - večinoma ima **neznane vrednosti** (n.d. = no data)\n$$ D=[r_{uh}]_{u\\in U, h\\in H} $$\n\n\n\n- uporabimo oznako $P_{(u)}$ za $u$-to vrstico matrike $P$ in $Q_{(h)}$ za $h$-to vrstico matrike $Q$. \n\n\n\n- Kaj je faktorizacija matrik: $Q.R$, ...\n\n\n\n- pojem latentnih značilk (lastnosti)\n    - značilke\n    - latentne značilke\n\n\n\n- Matrična faktorizacija \n    - izberemo število značilk $M$, ki je lahko poljubno, tipično $M\\in \\{3,\\ldots,10\\}$. \n     - faktorizacija je razcep na dve matriki oblike\n$$ P.Q^\\top = D $$\n     - večino vrednosti je manjkajočih\n$$ \n\\begin{bmatrix}\n p_{11} & \\ldots & p_{1M} \\cr\n \\vdots & \\ddots & \\vdots \\cr\n \\vdots & \\ddots & \\vdots \\cr\n \\vdots & \\ddots & \\vdots \\cr\n p_{n1} & \\ldots & p_{nM}\n\\end{bmatrix}\n.\\begin{bmatrix}\n q_{11} & \\ldots & \\ldots & \\ldots & q_{M1} \\cr\n \\vdots & \\ddots & \\ldots & \\ldots & \\vdots \\cr\n q_{M1} & \\ldots & p_{Mm}\n\\end{bmatrix}\n = \n\\begin{bmatrix}\n n.d. & \\ldots & \\ldots & \\ldots & n.d. \\cr\n \\vdots & \\vdots & \\vdots & \\vdots & \\vdots  \\cr\n \\vdots & \\vdots & r_{uh} & \\vdots & \\vdots  \\cr\n \\vdots & \\vdots & \\vdots & \\vdots & \\vdots  \\cr\n n.d. & \\ldots & \\ldots & \\ldots & n.d.\n\\end{bmatrix} \n$$\n\n\n\n<p style=\"margin-bottom:2cm;\"></p>\n<div style=\"width:100%;text-align:right;font-weight:bold;font-size:1.2em;\"> 31 </div>\n<img src=\"https://raw.githubusercontent.com/andrejkk/ORvTK_SlidesImgs/master/footer_full.jpg\">"
    },
    {
      "metadata": {},
      "cell_type": "markdown",
      "source": "<div style=\"display:flex;font-weight:bold;font-size:0.9em;\">\n<div style=\"flex:1;width:50%;\"> 7. Nelinearna optimizacija  </div>\n<div style=\"flex:1;width:50%;text-align:right;\"> 7.4. Aplikacije </div>\n</div>\n\n\n## ■ Priporočilni sistemi (3)\n\n#### Osnovno sklepanje\n\n\n- Matriki $P$ in $Q$ določimo tako, da enakost velja pri **znanih vrednostih ocen** matrike $D$. S tem so določene vse vrednosti matrik $P$ in $Q$. \n- Predpostavka: če $P$ in $Q$ pravilno predstavi znane ocene uporabnikov, **bi pravilno ocenila tudi neznane ocen.** S tem ugotovimo **kako bi uprabnik ocenil vsebine, ki jih še ni videl.**\n- Ker vrstice $P$ pripadajo posameznim upoabnikom in \"delujejo\" za vse vsebine $h\\in H$, je $P_{(u)}$ vektor latentnih lastnosti uporabnika $u$\n- Ker vrstice $Q$ pripadajo posameznim vsebinam in \"delujejo\" za vse uporabnike $u\\in U$, je $Q_{(h)}$ vektor latentnih lastnosti vsebine $h$ \n\n\n\n#### Kako deluje\n1. S pomočjo ocenjenih matrik $P$ in $Q$ določimo manjkajoče vrednosti matrike $D$, to je manjkajoče ocene uporabnikov\n$$ P.Q^\\top = \\hat{D} $$\n2. Te ocene uporabimo tako, da jih uredimo po padajočem vrsnem redu in jih uporabniku predstavimo npr. prvih $15$;\n\n\n<p style=\"margin-bottom:2cm;\"></p>\n<div style=\"width:100%;text-align:right;font-weight:bold;font-size:1.2em;\"> 32 </div>\n<img src=\"https://raw.githubusercontent.com/andrejkk/ORvTK_SlidesImgs/master/footer_full.jpg\">"
    },
    {
      "metadata": {},
      "cell_type": "markdown",
      "source": "<div style=\"display:flex;font-weight:bold;font-size:0.9em;\">\n<div style=\"flex:1;width:50%;\"> 7. Nelinearna optimizacija  </div>\n<div style=\"flex:1;width:50%;text-align:right;\"> 7.4. Aplikacije </div>\n</div>\n\n\n## ■ Priporočilni sistemi (4)\n\n#### Optimizacijski problem \nRegularizirana kriterijska funkcija \n$$ c(D, P, Q) = \\sum_{u,h\\in D'} (r_{uh} - P_{(u)}.Q_{(h)})^2 + \\lambda (\\|P_{(u)}\\|^2 + \\|Q_{(h)}\\|^2) $$\nDrugi del $\\lambda (\\|P_{(u)}\\|^2 + \\|Q_{(h)}\\|^2)$ je regulazicijski čeln, ki daje prednost manjšim vrednostim elementov matrik $P$ in $Q$. Regularizacija na nek način nadomesti omejitve. \n\n\n\nZaradi regularizacije kriterijske funkcije je optimizacijski problem brez omejitev:\n$$ argmin_{P,Q} c(D, P, Q) $$\n\n\n#### Gradient regularizirane kriterijske funkcije\n\nNapaka pri oceni $r_{uh}$ je $e_{uh} = r_{uh} - P_{(u)}.Q_{(h)}$. \nNeposredni izračun parcialnih odvodov po $i$-tem elementu vektorjev $P_{(u)i}$ in $P_{(h)i}$ v vrsticah matrik $P_{(u)}$ in $Q_{(h)}$ da\n$$ \\frac{\\partial}{\\partial P_{(u)i}} c(D, P, Q) = -2\\left(r_{uh} - P_{(u)}.Q_{(h)}\\right) Q_{(h)i} + 2 \\lambda P_{(u)i} \n  = -2 e_{uh} Q_{(h)i} + 2 \\lambda P_{(u)i}. $$\n$$ \\frac{\\partial}{\\partial Q_{(h)i}} c(D, P, Q) = -2\\left(r_{uh} - P_{(u)}.Q_{(h)}\\right) P_{(u)i} + 2 \\lambda Q_{(h)i} \n  = -2 e_{uh} P_{(u)i} + 2 \\lambda Q_{(h)i}. $$\n\n\n\nPopravek $i$-tega elementa vektorjev $P_{(u)i}$ in $P_{(h)i}$ sestavimo v vektorsko obliko, torej za vrstice matrik $P$ in $Q$, in po enačbi gradientnega algoritma \n$$ \\vec{x}_{k+1}=\\vec{x}_k - \\alpha_k \\vec{\\nabla} c(\\vec{x}_k), $$\nkjer je $\\vec{x}$ sestavljen iz matrik $P$ in $Q$, je tako enak \n$$ P_{(u)k+1} = P_{(u)k} + \\alpha_k \\left(e_{uh} Q_{(h)k} - \\lambda P_{(u)k}\\right)  $$\n$$ Q_{(u)k+1} = Q_{(u)k} + \\alpha_k \\left(e_{uh} P_{(u)k} - \\lambda Q_{(u)k}\\right)  $$\n\n\n\nAlgoritem Stohastični gradientni spust tako iterira po znanih vrednostih podatkovne matrike ocen $[r_{uh}]$ in za vsakega popravi približek vrstic matrik $P$ in $Q$ po zgornji enačbi. \n\n\n\n<p style=\"margin-bottom:2cm;\"></p>\n<div style=\"width:100%;text-align:right;font-weight:bold;font-size:1.2em;\"> 33 </div>\n<img src=\"https://raw.githubusercontent.com/andrejkk/ORvTK_SlidesImgs/master/footer_full.jpg\">"
    },
    {
      "metadata": {},
      "cell_type": "markdown",
      "source": "<div style=\"display:flex;font-weight:bold;font-size:0.9em;\">\n<div style=\"flex:1;width:50%;\"> 7. Nelinearna optimizacija  </div>\n<div style=\"flex:1;width:50%;text-align:right;\"> 7.4. Aplikacije </div>\n</div>\n\n\n## ■ Priporočilni sistemi (5)\n\n#### Algoritmična rešitev: Stohastični gradientni spust\n\n- zavajajoče ime: ni nič stohastičnega\n- kriterijska funkcija in gradient smo že izračunali\n\n\n- Pseudokoda\n\n>**Algorithm 1:** Stochastic gradient decent  \n>\n>**Require:** Data matrix of ratings $D=[r_{uh}]$  \n>**Ensure:** Latent feature matrices $P$ in $Q$  \n>\n>1: Initialize initial values <br> \n>2: **while** (convergence) <br>\n>3: &emsp;Get available values from $D$ [available ones] <br>\n>4: &emsp;**for** (all $r_{uh} \\in \\mathcal{D}$)  <br>\n>5: &emsp;&emsp; $(P,Q)_{new}=(P,Q) - \\alpha_k\\nabla c(D, P, Q)$ <br>\n>6: &emsp;&emsp; $(P,Q)_{new}=(P,Q)$ <br>\n\n\n\n- Izboljšave: \n    - določanje $\\alpha_k$\n    - kontekstualizacija\n\n\n\n<p style=\"margin-bottom:2cm;\"></p>\n<div style=\"width:100%;text-align:right;font-weight:bold;font-size:1.2em;\"> 34 </div>\n<img src=\"https://raw.githubusercontent.com/andrejkk/ORvTK_SlidesImgs/master/footer_full.jpg\">"
    },
    {
      "metadata": {
        "collapsed": true,
        "slideshow": {
          "slide_type": "slide"
        }
      },
      "cell_type": "markdown",
      "source": "<div style=\"display:flex;font-weight:bold;font-size:0.9em;\">\n<div style=\"flex:1;width:50%;\"> 7. Nelinearna optimizacija  </div>\n<div style=\"flex:1;width:50%;text-align:right;\"> 7.4. Aplikacije </div>\n</div>\n\n\n## ■ Zaključek\n\n\n- Ključno je poznavanje\n    - Specifičnosti problema\n    - Osnovnih lastnosti obstoječih algoritmov\n    - Osnovnih lastnosti obstoječih orodij\n\n\n\n\n\n<p style=\"margin-bottom:2cm;\"></p>\n<div style=\"width:100%;text-align:right;font-weight:bold;font-size:1.2em;\"> 35 </div>\n<img src=\"https://raw.githubusercontent.com/andrejkk/ORvTK_SlidesImgs/master/footer_full.jpg\">"
    },
    {
      "metadata": {
        "trusted": false
      },
      "cell_type": "code",
      "source": "",
      "execution_count": null,
      "outputs": []
    }
  ],
  "metadata": {
    "celltoolbar": "Slideshow",
    "kernelspec": {
      "name": "python3",
      "display_name": "Python 3",
      "language": "python"
    },
    "language_info": {
      "mimetype": "text/x-python",
      "nbconvert_exporter": "python",
      "name": "python",
      "pygments_lexer": "ipython3",
      "version": "3.5.4",
      "file_extension": ".py",
      "codemirror_mode": {
        "version": 3,
        "name": "ipython"
      }
    }
  },
  "nbformat": 4,
  "nbformat_minor": 2
}