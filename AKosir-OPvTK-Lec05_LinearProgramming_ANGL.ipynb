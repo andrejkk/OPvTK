{
 "cells": [
  {
   "cell_type": "markdown",
   "metadata": {
    "collapsed": true,
    "slideshow": {
     "slide_type": "slide"
    }
   },
   "source": [
    "<img style=\"float: center; width: 100%\" src=\"https://raw.githubusercontent.com/andrejkk/TalksImgs/master/FrontSlideUpperBan.png\">\n",
    "<p style=\"margin-bottom:2cm;\"></p>\n",
    "\n",
    "<center>\n",
    "    <H1> 5. Linear programing (LP) </H1>\n",
    "   \n",
    "\n",
    "\n",
    "<br><br>\n",
    "    <H3> Andrej Košir, Lucami, FE </H3>\n",
    "    <H4> Kontakt: prof. dr. Andrej Košir, andrej.kosir@lucami.fe.uni-lj.si, skype=akosir_sid </H4>\n",
    "</center>\n",
    "\n",
    "\n",
    "<p style=\"margin-bottom:2cm;\"></p>\n",
    "<div style=\"width:100%;text-align:right;font-weight:bold;font-size:1.2em;\"> 1 </div>\n",
    "<img src=\"https://raw.githubusercontent.com/andrejkk/ORvTK_SlidesImgs/master/footer_full.jpg\">"
   ]
  },
  {
   "cell_type": "markdown",
   "metadata": {
    "collapsed": true,
    "slideshow": {
     "slide_type": "slide"
    }
   },
   "source": [
    "<div style=\"display:flex;font-weight:bold;font-size:0.9em;\">\n",
    "<div style=\"flex:1;width:50%;\"> 5. Linear programing (LP) </div>\n",
    "<div style=\"flex:1;width:50%;text-align:right;\"> Goals </div>\n",
    "</div>\n",
    "\n",
    "\n",
    "## ■ Goals\n",
    "\n",
    "- Knowing the formulation of Linear programming (LP)\n",
    "- Identifying LP in real world \n",
    "- Knowing selected examples in TC\n",
    "\n",
    "\n",
    "\n",
    "<p style=\"margin-bottom:2cm;\"></p>\n",
    "<div style=\"width:100%;text-align:right;font-weight:bold;font-size:1.2em;\"> 2 </div>\n",
    "<img src=\"https://raw.githubusercontent.com/andrejkk/ORvTK_SlidesImgs/master/footer_full.jpg\">"
   ]
  },
  {
   "cell_type": "markdown",
   "metadata": {
    "collapsed": true,
    "slideshow": {
     "slide_type": "slide"
    }
   },
   "source": [
    "<div style=\"display:flex;font-weight:bold;font-size:0.9em;\">\n",
    "<div style=\"flex:1;width:50%;\"> 5. Linear programing (LP) </div>\n",
    "<div style=\"flex:1;width:50%;text-align:right;\"> Sections </div>\n",
    "</div>\n",
    "\n",
    "## ■ Sections\n",
    "\n",
    "\n",
    "5.1. Definition, characteristics and algorithms \n",
    "\n",
    "■ Definition of Linear programming $\\large{*}$\n",
    "\n",
    "■ Feasible solutions \n",
    "\n",
    "■ Equivalent formulation: slack variables $\\large{*}$\n",
    "\n",
    "■ LP duality $\\large{*}$\n",
    "\n",
    "■ Theory: convexity\n",
    "\n",
    "■ Theory: extreme points, simplex, polytope\n",
    "\n",
    "■ Theory: LP solvability\n",
    "\n",
    "\n",
    "5.2. Selected examples in telecommunication\n",
    "\n",
    "■ Maximal flow problem $\\large{*}$\n",
    "\n",
    "■ Shortes path problem $\\large{*}$\n",
    "\n",
    "■ Minimum-cost flow problem $\\large{*}$\n",
    "\n",
    "■ Minimum-cost transfer of several entities\n",
    "\n",
    "<p style=\"margin-bottom:2cm;\"></p>\n",
    "<div style=\"width:100%;text-align:right;font-weight:bold;font-size:1.2em;\"> 3 </div>\n",
    "<img src=\"https://raw.githubusercontent.com/andrejkk/ORvTK_SlidesImgs/master/footer_full.jpg\">"
   ]
  },
  {
   "cell_type": "markdown",
   "metadata": {
    "collapsed": true,
    "slideshow": {
     "slide_type": "slide"
    }
   },
   "source": [
    "<div style=\"display:flex;font-weight:bold;font-size:0.9em;\">\n",
    "<div style=\"flex:1;width:50%;\"> 5. Linear programing (LP) </div>\n",
    "<div style=\"flex:1;width:50%;text-align:right;\"> Intro, history </div>\n",
    "</div>\n",
    "\n",
    "\n",
    "## ■ Intro, history\n",
    "\n",
    "\n",
    "- What is linear programming\n",
    "    - Mathematical programming: finding effective sequence of operations using mathematical methods \n",
    "    - Linear programming: linear objective functions and constraints\n",
    "\n",
    "\n",
    "\n",
    "- History\n",
    "    - First formulations: Fourier – Motzkin 1827\n",
    "    - Linear programming: Kantorovič 1939\n",
    "    - Simplex method: Dantzing 1947\n",
    "    - Duality: von Neuman, 1947\n",
    "    - First polynomial time solution: Leonid Khachiyan, 1979\n",
    "    - Interior point method: Narendra Karmarkar, 1984\n",
    "    \n",
    "\n",
    "<p style=\"margin-bottom:2cm;\"></p>\n",
    "<div style=\"width:100%;text-align:right;font-weight:bold;font-size:1.2em;\"> 4 </div>\n",
    "<img src=\"https://raw.githubusercontent.com/andrejkk/ORvTK_SlidesImgs/master/footer_full.jpg\">"
   ]
  },
  {
   "cell_type": "markdown",
   "metadata": {
    "collapsed": true,
    "slideshow": {
     "slide_type": "slide"
    }
   },
   "source": [
    "<div style=\"display:flex;font-weight:bold;font-size:0.9em;\">\n",
    "<div style=\"flex:1;width:50%;\"> 5. Linear programing (LP) </div>\n",
    "<div style=\"flex:1;width:50%;text-align:right;\"> 5.1. Definition, characteristics and algorithms </div>\n",
    "</div>\n",
    "\n",
    "\n",
    "## 5.1. Definition, characteristics and algorithms\n",
    "\n",
    "■ Definition of Linear programming\n",
    "\n",
    "■ Feasible solutions\n",
    "\n",
    "■ Equivalent formulation: slack variables\n",
    "\n",
    "■ LP duality\n",
    "\n",
    "■ Theory: convexity\n",
    "\n",
    "■ Theory: extreme points, simplex, polytope\n",
    "\n",
    "■ Theory: LP solvability\n",
    "\n",
    "\n",
    "\n",
    "<p style=\"margin-bottom:2cm;\"></p>\n",
    "<div style=\"width:100%;text-align:right;font-weight:bold;font-size:1.2em;\"> 5 </div>\n",
    "<img src=\"https://raw.githubusercontent.com/andrejkk/ORvTK_SlidesImgs/master/footer_full.jpg\">"
   ]
  },
  {
   "cell_type": "markdown",
   "metadata": {
    "collapsed": true,
    "slideshow": {
     "slide_type": "slide"
    }
   },
   "source": [
    "<div style=\"display:flex;font-weight:bold;font-size:0.9em;\">\n",
    "<div style=\"flex:1;width:50%;\"> 5. Linear programing (LP) </div>\n",
    "<div style=\"flex:1;width:50%;text-align:right;\"> 5.1. Definition, characteristics and algorithms </div>\n",
    "</div>\n",
    "\n",
    "\n",
    "## ■ Definition of linear programming\n",
    "\n",
    "- **Definition (canonical form)**\n",
    "\n",
    "$$ \\matrix{\n",
    " & & argmax_x w^\\top.x \\cr \n",
    " & s.t. & \\cr\n",
    " & & A.x \\leq b \\hfill \\cr\n",
    " & & x\\geq 0 \\hfill} $$\n",
    "\n",
    "\n",
    "\n",
    "- Objective function is linear: $c(x) = w^\\top.x = w_1 x_1 + \\cdots + w_n x_n$\n",
    "- Constraints are linear\n",
    "- Feasible solutions is a polytope (definition later)\n",
    "\n",
    "\n",
    "<p style=\"margin-bottom:2cm;\"></p>\n",
    "<div style=\"width:100%;text-align:right;font-weight:bold;font-size:1.2em;\"> 6 </div>\n",
    "<img src=\"https://raw.githubusercontent.com/andrejkk/ORvTK_SlidesImgs/master/footer_full.jpg\">"
   ]
  },
  {
   "cell_type": "markdown",
   "metadata": {
    "collapsed": true,
    "slideshow": {
     "slide_type": "slide"
    }
   },
   "source": [
    "<div style=\"display:flex;font-weight:bold;font-size:0.9em;\">\n",
    "<div style=\"flex:1;width:50%;\"> 5. Linear programing (LP) </div>\n",
    "<div style=\"flex:1;width:50%;text-align:right;\"> 5.1. Definition, characteristics and algorithms </div>\n",
    "</div>\n",
    "\n",
    "\n",
    "## ■ Feasible solutions\n",
    "\n",
    "- Feasible solutions as a set is a convex polytope\n",
    "    - Convex set\n",
    "    - Polytope\n",
    "\n",
    "\n",
    "\n",
    "- Objective function $c(x)=w^\\top.x$ is convex:\n",
    "    - Convex (later)\n",
    "    - Theory: \n",
    "        - Convex $c(x)$: local minimum je global minimum\n",
    "        - Concave $c(x)$: local maximum je global maximum\n",
    "        \n",
    "\n",
    "\n",
    "<p style=\"margin-bottom:2cm;\"></p>\n",
    "<div style=\"width:100%;text-align:right;font-weight:bold;font-size:1.2em;\"> 7 </div>\n",
    "<img src=\"https://raw.githubusercontent.com/andrejkk/ORvTK_SlidesImgs/master/footer_full.jpg\">"
   ]
  },
  {
   "cell_type": "markdown",
   "metadata": {
    "collapsed": true,
    "slideshow": {
     "slide_type": "slide"
    }
   },
   "source": [
    "<div style=\"display:flex;font-weight:bold;font-size:0.9em;\">\n",
    "<div style=\"flex:1;width:50%;\"> 5. Linear programing (LP) </div>\n",
    "<div style=\"flex:1;width:50%;text-align:right;\"> 5.1. Definition, characteristics and algorithms </div>\n",
    "</div>\n",
    "\n",
    "\n",
    "## ■ Equivalent description: slack variables\n",
    "\n",
    "Linear constraints in linear form $A.x\\leq b$\n",
    "This form is required for simplex algorithm\n",
    "Equivalent block form\n",
    "\n",
    "\n",
    "$$ \\matrix{\n",
    " & & argmax_Z Z \\cr \n",
    " & s.t. & \\cr\n",
    " & & \\left[\\matrix{1 & -w^\\top & 0 \\cr 0 & A & Id}\\right].\\left[\\matrix{Z \\cr x \\cr x_s}\\right] = \\left[\\matrix{0 \\cr b}\\right] \\cr\n",
    " & & x\\geq 0, x_s\\geq 0. \\hfill}, $$\n",
    "where $Id$ is an identity matrix of size $m\\times m$.\n",
    "\n",
    "\n",
    "- Slack variables $x_s$:\n",
    "$$ x < a \\iff x + x_s = a \\quad\\&\\quad x_s > 0$$\n",
    "\n",
    "\n",
    "<p style=\"margin-bottom:2cm;\"></p>\n",
    "<div style=\"width:100%;text-align:right;font-weight:bold;font-size:1.2em;\"> 8 </div>\n",
    "<img src=\"https://raw.githubusercontent.com/andrejkk/ORvTK_SlidesImgs/master/footer_full.jpg\">"
   ]
  },
  {
   "cell_type": "markdown",
   "metadata": {
    "collapsed": true,
    "slideshow": {
     "slide_type": "slide"
    }
   },
   "source": [
    "<div style=\"display:flex;font-weight:bold;font-size:0.9em;\">\n",
    "<div style=\"flex:1;width:50%;\"> 5. Linear programing (LP) </div>\n",
    "<div style=\"flex:1;width:50%;text-align:right;\"> 5.1. Definition, characteristics and algorithms </div>\n",
    "</div>\n",
    "\n",
    "\n",
    "\n",
    "## ■ Dual form\n",
    "\n",
    "\n",
    "- Each **primary LP problem** has its **dual form**\n",
    "- Linear problem\n",
    "$$ \\matrix{\n",
    " & & argmax_x w^\\top.x \\cr \n",
    " & s.t. & \\cr\n",
    " & & A.x \\leq b \\hfill \\cr\n",
    " & & x\\geq 0 \\hfill} $$\n",
    "has dual form\n",
    "$$ \\matrix{\n",
    " & & argmin_y b^\\top.y \\cr \n",
    " & s.t. & \\cr\n",
    " & & A^\\top.y \\geq w \\hfill \\cr\n",
    " & & y\\geq 0 \\hfill} $$\n",
    "\n",
    "\n",
    "\n",
    "- Second dual form is primary form.\n",
    "- Solutions are related: if a solution of a primary form $x^∗$ exists, a solution of a dual form $y^∗$ also exists and we have $$ w^\\top.x^* = b^\\top.y^*  $$\n",
    "\n",
    "\n",
    "\n",
    "<p style=\"margin-bottom:2cm;\"></p>\n",
    "<div style=\"width:100%;text-align:right;font-weight:bold;font-size:1.2em;\"> 9 </div>\n",
    "<img src=\"https://raw.githubusercontent.com/andrejkk/ORvTK_SlidesImgs/master/footer_full.jpg\">"
   ]
  },
  {
   "cell_type": "markdown",
   "metadata": {
    "collapsed": true,
    "slideshow": {
     "slide_type": "slide"
    }
   },
   "source": [
    "<div style=\"display:flex;font-weight:bold;font-size:0.9em;\">\n",
    "<div style=\"flex:1;width:50%;\"> 5. Linear programing (LP) </div>\n",
    "<div style=\"flex:1;width:50%;text-align:right;\"> 5.1. Definition, characteristics and algorithms </div>\n",
    "</div>\n",
    "\n",
    "\n",
    "\n",
    "## ■ Theory: convexity\n",
    "\n",
    "- Convex linear combination\n",
    "$$ \\lambda \\vec{r}_1 + (1−\\lambda) \\vec{r}_2, \\lambda\\in [0,1] $$\n",
    "\n",
    "- Convex sets\n",
    "    - A set $A$ is convex if \n",
    "$$ \\lambda\\in[0,1], \\vec{r}_1,\\vec{r}_2\\in A \\implies\\lambda \\vec{r}_1+(1−\\lambda) \\vec{r}_2\\in𝐴, $$\n",
    "    - Convex hul of $S$ in $A$:\n",
    "$$ Con(S) = \\left\\{\\vec{r}=\\sum_i \\lambda_i  \\vec{r}_i:\\vec{r}_i\\in S, \\sum_i\\lambda_i =1, \\lambda_i \\geq 0\\right\\}. $$\n",
    "\n",
    "\n",
    "\n",
    "- Convex functions:\n",
    "    - Function is convex, if\n",
    "$$ \\lambda\\in [0,1]: f(\\lambda \\vec{r}_1+(1−\\lambda)\\vec{r}_2) \\leq \\lambda 𝑓(\\vec{r}_1)+(1−\\lambda) f(\\vec{r}_2). $$\n",
    "    - Function je strictly convex if \n",
    "$$ \\lambda\\in (0,1),\\vec{r}_1\\ne\\vec{r}_2: f(\\lambda \\vec{r}_1+(1−\\lambda) \\vec{r}_2 )<\\lambda 𝑓(\\vec{r}_1)+(1−\\lambda) f(\\vec{r}_2). $$\n",
    "    - Function je (strictly) concave if we flip the inequality sign\n",
    "\n",
    "\n",
    "<p style=\"margin-bottom:2cm;\"></p>\n",
    "<div style=\"width:100%;text-align:right;font-weight:bold;font-size:1.2em;\"> 10 </div>\n",
    "<img src=\"https://raw.githubusercontent.com/andrejkk/ORvTK_SlidesImgs/master/footer_full.jpg\">"
   ]
  },
  {
   "cell_type": "markdown",
   "metadata": {
    "collapsed": true,
    "slideshow": {
     "slide_type": "slide"
    }
   },
   "source": [
    "<div style=\"display:flex;font-weight:bold;font-size:0.9em;\">\n",
    "<div style=\"flex:1;width:50%;\"> 5. Linear programing (LP) </div>\n",
    "<div style=\"flex:1;width:50%;text-align:right;\"> 5.1. Definition, characteristics and algorithms </div>\n",
    "</div>\n",
    "\n",
    "\n",
    "\n",
    "## ■ Teory: ekstreme points, simplex, polytope\n",
    "\n",
    "- Extreme points: does not lay on any open segment – on any convex combination\n",
    "$$ \\lambda \\vec{r}_1 + (1−\\lambda) \\vec{r}_2, \\quad\\lambda\\in (0,1). $$\n",
    "\n",
    "\n",
    "- What is simplex\n",
    "    - Convex hull of its vertices\n",
    "    - Theory: convex hull of extreme points\n",
    "    \n",
    "    \n",
    "    \n",
    "- What is polytope:\n",
    "    - Intersection of subspaces\n",
    "    - Can be bounded or unbounded\n",
    "    - Bounded polytope is a convex hull of its extreme points\n",
    "\n",
    "\n",
    "\n",
    "<p style=\"margin-bottom:2cm;\"></p>\n",
    "<div style=\"width:100%;text-align:right;font-weight:bold;font-size:1.2em;\"> 11 </div>\n",
    "<img src=\"https://raw.githubusercontent.com/andrejkk/ORvTK_SlidesImgs/master/footer_full.jpg\">"
   ]
  },
  {
   "cell_type": "markdown",
   "metadata": {
    "collapsed": true,
    "slideshow": {
     "slide_type": "slide"
    }
   },
   "source": [
    "<div style=\"display:flex;font-weight:bold;font-size:0.9em;\">\n",
    "<div style=\"flex:1;width:50%;\"> 5. Linear programing (LP) </div>\n",
    "<div style=\"flex:1;width:50%;text-align:right;\"> 5.1. Definition, characteristics and algorithms </div>\n",
    "</div>\n",
    "\n",
    "## ■ Theory: LP solvability \n",
    "\n",
    "- Why there might be no solution:\n",
    "    - Set of feasible solutions is empty: LP is infeasible – conflicting constraints\n",
    "    - Set of feasible solutions is unbounded to the direction of gradient $c(x)$, which is equal to $w$.\n",
    "\n",
    "- General maxima principle: if there is a solution, it lays on a boundary of a complex polytope. \n",
    "\n",
    "\n",
    "- There might be infinitely many solutions\n",
    "\n",
    "- Local, global extreme:\n",
    "    - Convex $c(x)$: if there is local minima, there is also global minimum\n",
    "    - Strictly convex $c(x)$: if there is a strict minima, it is unique\n",
    "\n",
    "\n",
    "\n",
    "<p style=\"margin-bottom:2cm;\"></p>\n",
    "<div style=\"width:100%;text-align:right;font-weight:bold;font-size:1.2em;\"> 12 </div>\n",
    "<img src=\"https://raw.githubusercontent.com/andrejkk/ORvTK_SlidesImgs/master/footer_full.jpg\">"
   ]
  },
  {
   "cell_type": "markdown",
   "metadata": {
    "collapsed": true,
    "slideshow": {
     "slide_type": "slide"
    }
   },
   "source": [
    "<div style=\"display:flex;font-weight:bold;font-size:0.9em;\">\n",
    "<div style=\"flex:1;width:50%;\"> 5. Linear programing (LP) </div>\n",
    "<div style=\"flex:1;width:50%;text-align:right;\"> 5.1. Definition, characteristics and algorithms </div>\n",
    "</div>\n",
    "\n",
    "\n",
    "## ■ Algorithm: Dantzig simplex algorithm (1)\n",
    "\n",
    "- Algorithm <br>\n",
    "    **Require**: problem LP in a standard form <br>\n",
    "    **Assure**: solution of LP\n",
    "    \n",
    "    \n",
    "    \n",
    "- Complexity\n",
    "    - Worst case: exponential\n",
    "    - In real applications: very good\n",
    "    - Is there a polynomial algorithm: open problem\n",
    "    \n",
    "\n",
    "\n",
    "<p style=\"margin-bottom:2cm;\"></p>\n",
    "<div style=\"width:100%;text-align:right;font-weight:bold;font-size:1.2em;\"> 13 </div>\n",
    "<img src=\"https://raw.githubusercontent.com/andrejkk/ORvTK_SlidesImgs/master/footer_full.jpg\">"
   ]
  },
  {
   "cell_type": "markdown",
   "metadata": {
    "collapsed": true,
    "slideshow": {
     "slide_type": "slide"
    }
   },
   "source": [
    "<div style=\"display:flex;font-weight:bold;font-size:0.9em;\">\n",
    "<div style=\"flex:1;width:50%;\"> 5. Linear programing (LP) </div>\n",
    "<div style=\"flex:1;width:50%;text-align:right;\"> 5.1. Definition, characteristics and algorithms </div>\n",
    "</div>\n",
    "\n",
    "\n",
    "## ■ Algorithm: Dantzig simplex algorithm (2)\n",
    "\n",
    "\n",
    "- Phase 1:\n",
    "    - Finding extreme points. \n",
    "    - Result: empty set or a set of basic solutions $x_0$\n",
    "\n",
    "\n",
    "\n",
    "- Phase 2:\n",
    "    - Finding optimum\n",
    "    - Results: either optimum or (infinite) boundary face where the optimum is\n",
    "\n",
    "\n",
    "\n",
    "- Potential problem of phase 2: \n",
    "    - Cycling into the same solution;\n",
    "    - Can be solved in practice\n",
    "\n",
    "\n",
    "\n",
    "<p style=\"margin-bottom:2cm;\"></p>\n",
    "<div style=\"width:100%;text-align:right;font-weight:bold;font-size:1.2em;\"> 14 </div>\n",
    "<img src=\"https://raw.githubusercontent.com/andrejkk/ORvTK_SlidesImgs/master/footer_full.jpg\">"
   ]
  },
  {
   "cell_type": "markdown",
   "metadata": {
    "collapsed": true,
    "slideshow": {
     "slide_type": "slide"
    }
   },
   "source": [
    "<div style=\"display:flex;font-weight:bold;font-size:0.9em;\">\n",
    "<div style=\"flex:1;width:50%;\"> 5. Linear programing (LP) </div>\n",
    "<div style=\"flex:1;width:50%;text-align:right;\"> 5.2. Selected examples in telecommunication </div>\n",
    "</div>\n",
    "\n",
    "\n",
    "## 5.2. Selected examples in telecommunication\n",
    "\n",
    "\n",
    "■  Maximal flow problem\n",
    "\n",
    "■ Shortes path problem\n",
    "\n",
    "■ Minimum-cost flow problem\n",
    "\n",
    "\n",
    "\n",
    "<p style=\"margin-bottom:2cm;\"></p>\n",
    "<div style=\"width:100%;text-align:right;font-weight:bold;font-size:1.2em;\"> 15 </div>\n",
    "<img src=\"https://raw.githubusercontent.com/andrejkk/ORvTK_SlidesImgs/master/footer_full.jpg\">"
   ]
  },
  {
   "cell_type": "markdown",
   "metadata": {
    "collapsed": true,
    "slideshow": {
     "slide_type": "slide"
    }
   },
   "source": [
    "<div style=\"display:flex;font-weight:bold;font-size:0.9em;\">\n",
    "<div style=\"flex:1;width:50%;\"> 5. Linear programing (LP) </div>\n",
    "<div style=\"flex:1;width:50%;text-align:right;\"> 5.2. Selected examples in telecommunication </div>\n",
    "</div>\n",
    "\n",
    "\n",
    "## ■ Maximal flow problem\n",
    "\n",
    "\n",
    "- Formulation: \n",
    "    - Directed network graph: $G=(V,E)$, source $s\\in V$, sink $t\\in V$\n",
    "    - Maximal flows: $f:E \\to ℝ^+$\n",
    "    - Flow $x:E \\to ℝ^+$,\n",
    "        - Bounded capacities: $x_{uv}\\leq f_{uv}$ za vse $uv\\in E$ \n",
    "        - Conservation of flows: $\\sum_{u:uv\\in E} x_{uv} = \\sum_{u:uv\\in E} x_{vu}$ \n",
    "        - Source, sink: $\\sum_{v:sv\\in E} x_{sv} = \\sum_{u:ut\\in E}$ \n",
    "    - The flow: $c(x)=\\sum_{v:sv\\in E} x_{sv}$  \n",
    "    - Optimisation problem\n",
    " $$ \\matrix{\n",
    " & & argmax_x c(x) \\cr \n",
    " & s.t. & \\cr\n",
    " & & \\mbox{above constraints} \\hfill\\cr}\n",
    " $$\n",
    "\n",
    "\n",
    "- Algorithm:\n",
    "    - Ford-Fulkerson or simplex algorithm\n",
    "\n",
    "\n",
    "<p style=\"margin-bottom:2cm;\"></p>\n",
    "<div style=\"width:100%;text-align:right;font-weight:bold;font-size:1.2em;\"> 16 </div>\n",
    "<img src=\"https://raw.githubusercontent.com/andrejkk/ORvTK_SlidesImgs/master/footer_full.jpg\">"
   ]
  },
  {
   "cell_type": "markdown",
   "metadata": {
    "collapsed": true,
    "slideshow": {
     "slide_type": "slide"
    }
   },
   "source": [
    "<div style=\"display:flex;font-weight:bold;font-size:0.9em;\">\n",
    "<div style=\"flex:1;width:50%;\"> 5. Linear programing (LP) </div>\n",
    "<div style=\"flex:1;width:50%;text-align:right;\"> 5.2. Selected examples in telecommunication </div>\n",
    "</div>\n",
    "\n",
    "\n",
    "## ■ Pseudocode Ford - Fulkerson\n",
    "\n",
    "- Pseudocode Ford-Fulkerson\n",
    "\n",
    ">**Algorithm 1:** Ford-Fulkerson  \n",
    ">\n",
    ">**Require:** Graph $G=(V, E)$, node $s$, node $t$, capacity $f$  \n",
    ">**Ensure:** Maximal flow  \n",
    ">\n",
    ">1: Compute residual graph $G_f=(V, E_f)$ <br> \n",
    ">2: **for** (all $(uv)\\in E$) <br>\n",
    ">3: &emsp;$x_{uv}=0$ <br>\n",
    ">4: **while**(there is $p$ from BFS($G_f,s,t$)) <br>\n",
    ">5: &emsp;$c_f(p)) = \\min\\{c_f(u,v): (u,v)\\in p\\}$ <br>\n",
    ">6: &emsp;**for**(all $(uv)\\in p$) <br>\n",
    ">7: &emsp;&emsp;**if** (forward): $x_{uv}=x_{uv}+c_f(p)$ <br>\n",
    ">8: &emsp;&emsp;**if** (backward): $x_{vu}=x_{vu}-c_f(p)$ [cancellation]<br>\n",
    "\n",
    "\n",
    "\n",
    "<p style=\"margin-bottom:2cm;\"></p>\n",
    "<div style=\"width:100%;text-align:right;font-weight:bold;font-size:1.2em;\"> 17 </div>\n",
    "<img src=\"https://raw.githubusercontent.com/andrejkk/ORvTK_SlidesImgs/master/footer_full.jpg\">"
   ]
  },
  {
   "cell_type": "markdown",
   "metadata": {
    "collapsed": true,
    "slideshow": {
     "slide_type": "slide"
    }
   },
   "source": [
    "<div style=\"display:flex;font-weight:bold;font-size:0.9em;\">\n",
    "<div style=\"flex:1;width:50%;\"> 5. Linear programing (LP) </div>\n",
    "<div style=\"flex:1;width:50%;text-align:right;\"> 5.2. Selected examples in telecommunication </div>\n",
    "</div>\n",
    "\n",
    "\n",
    "## ■ Shortest path problem\n",
    "\n",
    "- Formulation: \n",
    "    - Directed network graph: $G=(E,V)$, source $s\\in V$, sink $t\\in V$\n",
    "    - Distance - weights: $d: E \\to ℝ^+$\n",
    "    - Path (cost) distance. $c(p) = \\sum_{uv\\in p} d_{uv}$  \n",
    "    - Optimisation problem:\n",
    "     $$ \\matrix{\n",
    " & & argmax_p c(p) \\cr \n",
    " & s.t. & \\cr\n",
    " & & \\mbox{above constraints} \\hfill\\cr}\n",
    " $$\n",
    "\n",
    "\n",
    "- Algorithm:\n",
    "    - Dijkstra or Simplex algorithm\n",
    "    \n",
    "    \n",
    "<p style=\"margin-bottom:2cm;\"></p>\n",
    "<div style=\"width:100%;text-align:right;font-weight:bold;font-size:1.2em;\"> 18 </div>\n",
    "<img src=\"https://raw.githubusercontent.com/andrejkk/ORvTK_SlidesImgs/master/footer_full.jpg\">"
   ]
  },
  {
   "cell_type": "markdown",
   "metadata": {
    "collapsed": true,
    "slideshow": {
     "slide_type": "slide"
    }
   },
   "source": [
    "<div style=\"display:flex;font-weight:bold;font-size:0.9em;\">\n",
    "<div style=\"flex:1;width:50%;\"> 5. Linear programing (LP) </div>\n",
    "<div style=\"flex:1;width:50%;text-align:right;\"> 5.2. Selected examples in telecommunication </div>\n",
    "</div>\n",
    "\n",
    "\n",
    "## ■ Shortest path problem: Dijkstra algorithm\n",
    "\n",
    "- Pseudocode\n",
    "\n",
    ">**Algorithm 1:** Dijkstra  \n",
    ">\n",
    ">**Require:** Graph $G=(V, E)$, node $s$, node $t$ <br>\n",
    ">**Ensure:** shortest path  <br>\n",
    ">\n",
    ">1: $Q = createSet()$ <br> \n",
    ">2: **for** (all $(v\\in V$) <br>\n",
    ">3: &emsp;$d[v]=\\infty$ <br>\n",
    ">4: &emsp;$Prev[v]=undef$ <br>\n",
    ">5: &emsp;$Q = insert(v, Q)$<br>\n",
    ">6: $d[s]=0$ <br>\n",
    ">7: **while**(**not** empty(Q)) <br>\n",
    ">8: &emsp;$u=argmin(d[v])$ <br>\n",
    ">9: &emsp;$remove(u, Q)$ <br>\n",
    ">10: &emsp;**for**(all $v\\in N(u)$) <br>\n",
    ">11: &emsp;&emsp; $alt = d[u] + len(u, v)$ <br>\n",
    ">12: &emsp;&emsp; **if**($alt < d[v]$) <br>\n",
    ">13: &emsp;&emsp;&emsp; $d[v]=alt$ <br>\n",
    ">14: &emsp;&emsp;&emsp; $prev[v]=u$ <br>\n",
    ">15: &emsp;&emsp;**end if** <br>\n",
    ">16: &emsp;**end for** <br>\n",
    ">17: **end while** <br>\n",
    ">18: **return** prev \n",
    "\n",
    "\n",
    "<p style=\"margin-bottom:2cm;\"></p>\n",
    "<div style=\"width:100%;text-align:right;font-weight:bold;font-size:1.2em;\"> 19 </div>\n",
    "<img src=\"https://raw.githubusercontent.com/andrejkk/ORvTK_SlidesImgs/master/footer_full.jpg\">"
   ]
  },
  {
   "cell_type": "markdown",
   "metadata": {
    "collapsed": true,
    "slideshow": {
     "slide_type": "slide"
    }
   },
   "source": [
    "<div style=\"display:flex;font-weight:bold;font-size:0.9em;\">\n",
    "<div style=\"flex:1;width:50%;\"> 5. Linear programing (LP) </div>\n",
    "<div style=\"flex:1;width:50%;text-align:right;\"> 5.2. Selected examples in telecommunication </div>\n",
    "</div>\n",
    "\n",
    "\n",
    "## ■ Minimum-cost flow problem (1)\n",
    "\n",
    "\n",
    "- Formulation: \n",
    "    - Directed network graph: $G=(E,V)$, source $s\\in V$, sink $t\\in V$\n",
    "    - Capacity: $f:E \\to ℝ_+$\n",
    "    - Flow $x:E \\to ℝ_+$,\n",
    "        - Bounded capacities: $x_{uv}\\leq f_{uv}$ for all $uv\\in E$\n",
    "        - Conversation of flow – „Kirchhoff's lawn“: $\\sum_{u:uv\\in E} x_{uv} = \\sum_{u:uv\\in E} x_{vu}$ \n",
    "        - Source: to transmit $d$ units $d=\\sum_{v:sv\\in E} x_{sv}$ \n",
    "        - Sink: to transmit $d$ unit $d=\\sum_{u:ut\\in E} x_{ut}$  \n",
    "    - Flow cost: $a : E \\to ℝ_+$\n",
    "    - Optimisation problem:\n",
    "    $$ \\matrix{\n",
    " & & argmin_x \\sum_{uv\\in E} x_{uv} a_{uv} \\cr \n",
    " & s.t. & \\cr\n",
    " & & \\mbox{above constraints} \\hfill\\cr}\n",
    " $$\n",
    "\n",
    "\n",
    "\n",
    "<p style=\"margin-bottom:2cm;\"></p>\n",
    "<div style=\"width:100%;text-align:right;font-weight:bold;font-size:1.2em;\"> 20 </div>\n",
    "<img src=\"https://raw.githubusercontent.com/andrejkk/ORvTK_SlidesImgs/master/footer_full.jpg\">"
   ]
  },
  {
   "cell_type": "markdown",
   "metadata": {
    "collapsed": true,
    "slideshow": {
     "slide_type": "slide"
    }
   },
   "source": [
    "<div style=\"display:flex;font-weight:bold;font-size:0.9em;\">\n",
    "<div style=\"flex:1;width:50%;\"> 5. Linear programing (LP) </div>\n",
    "<div style=\"flex:1;width:50%;text-align:right;\"> 5.2. Selected examples in telecommunication </div>\n",
    "</div>\n",
    "\n",
    "\n",
    "## ■ Minimum-cost flow problem (2)\n",
    "\n",
    "- Algorithm:\n",
    "    - Simplex algorithm (as for general LP problem)\n",
    "\n",
    "\n",
    "\n",
    "- Relation to other optimization problems\n",
    "    - if the capacity constraint is removed, the problem is reduced to the shortest path problem,\n",
    "    - if the costs are all set equal to zero, the problem is reduced to the maximum flow problem.\n",
    "\n",
    "\n",
    "\n",
    "<p style=\"margin-bottom:2cm;\"></p>\n",
    "<div style=\"width:100%;text-align:right;font-weight:bold;font-size:1.2em;\"> 21 </div>\n",
    "<img src=\"https://raw.githubusercontent.com/andrejkk/ORvTK_SlidesImgs/master/footer_full.jpg\">"
   ]
  },
  {
   "cell_type": "markdown",
   "metadata": {
    "collapsed": true,
    "slideshow": {
     "slide_type": "slide"
    }
   },
   "source": [
    "<div style=\"display:flex;font-weight:bold;font-size:0.9em;\">\n",
    "<div style=\"flex:1;width:50%;\"> 5. Linear programing (LP) </div>\n",
    "<div style=\"flex:1;width:50%;text-align:right;\"> 5.2. Selected examples in telecommunication </div>\n",
    "</div>\n",
    "\n",
    "\n",
    "\n",
    "## ■ Minimum-cost multicom. netflow problem (1)\n",
    "\n",
    "\n",
    "\n",
    "- Aims of this case study:\n",
    "    - To understand TC problem\n",
    "    - To understand construction from a real problem\n",
    "\n",
    "\n",
    "\n",
    "<p style=\"margin-bottom:2cm;\"></p>\n",
    "<div style=\"width:100%;text-align:right;font-weight:bold;font-size:1.2em;\"> 22 </div>\n",
    "<img src=\"https://raw.githubusercontent.com/andrejkk/ORvTK_SlidesImgs/master/footer_full.jpg\">"
   ]
  },
  {
   "cell_type": "markdown",
   "metadata": {
    "collapsed": true,
    "slideshow": {
     "slide_type": "slide"
    }
   },
   "source": [
    "<div style=\"display:flex;font-weight:bold;font-size:0.9em;\">\n",
    "<div style=\"flex:1;width:50%;\"> 5. Linear programing (LP) </div>\n",
    "<div style=\"flex:1;width:50%;text-align:right;\"> 5.2. Selected examples in telecommunication </div>\n",
    "</div>\n",
    "\n",
    "\n",
    "## ■ Minimum-cost multicom. netflow problem (2)\n",
    "\n",
    "- Problem statement: \n",
    "    - Directed network graph: $G=(E,V)$, source $s\\in V$, with its incidence matrix $M$;\n",
    "    - Link capacities: $𝑓:𝐸 \\to ℝ_+$, notation $f_{uv}$;\n",
    "    - Flow decision function: $x:E\\times K \\to ℝ$, notation $x_{uv}^k$\n",
    "    - A set of entities: $K=\\{(p^k, d^k, r^k, s^k, t^k): k=1,2,\\ldots, N\\}$, where\n",
    "        - cost of routing: $p:E\\to ℝ_+$, notation $p_{uv}^k$;\n",
    "        - Demand vector $d^k$ number of units per entitiy;\n",
    "        - Requirement vector $r^k: r_{s^k}^k=+d^k$ in $r_{s^k}^k=0$ otherwise; \n",
    "        - Source node $s^k$, sink node $t^k$;\n",
    "\n",
    "\n",
    "\n",
    "\n",
    "<p style=\"margin-bottom:2cm;\"></p>\n",
    "<div style=\"width:100%;text-align:right;font-weight:bold;font-size:1.2em;\"> 23 </div>\n",
    "<img src=\"https://raw.githubusercontent.com/andrejkk/ORvTK_SlidesImgs/master/footer_full.jpg\">"
   ]
  },
  {
   "cell_type": "markdown",
   "metadata": {
    "collapsed": true,
    "slideshow": {
     "slide_type": "slide"
    }
   },
   "source": [
    "<div style=\"display:flex;font-weight:bold;font-size:0.9em;\">\n",
    "<div style=\"flex:1;width:50%;\"> 5. Linear programing (LP) </div>\n",
    "<div style=\"flex:1;width:50%;text-align:right;\"> 5.2. Selected examples in telecommunication </div>\n",
    "</div>\n",
    "\n",
    "\n",
    "## ■ Minimum-cost multicom. netflow problem (3)\n",
    "\n",
    "- Optimisation task\n",
    "\n",
    "$$ \\matrix{\n",
    " & & argmin_x \\sum_{k\\in K}\\sum_{uv\\in E} p_{uv}^k x_{uv}^k, \\cr \n",
    " & s.t. & \\cr\n",
    " & & M.x^k = r^k \\hfill \\cr\n",
    " & & \\sum_{k\\in K} x_{uv}^k  \\leq f_{uv} \\hfill} $$\n",
    "\n",
    "where $M$ is a network graph incident matrix.\n",
    "\n",
    "\n",
    "\n",
    "<p style=\"margin-bottom:2cm;\"></p>\n",
    "<div style=\"width:100%;text-align:right;font-weight:bold;font-size:1.2em;\"> 24 </div>\n",
    "<img src=\"https://raw.githubusercontent.com/andrejkk/ORvTK_SlidesImgs/master/footer_full.jpg\">"
   ]
  },
  {
   "cell_type": "markdown",
   "metadata": {
    "collapsed": true,
    "slideshow": {
     "slide_type": "slide"
    }
   },
   "source": [
    "<div style=\"display:flex;font-weight:bold;font-size:0.9em;\">\n",
    "<div style=\"flex:1;width:50%;\"> 5. Linear programing (LP) </div>\n",
    "<div style=\"flex:1;width:50%;text-align:right;\"> 5.2. Selected examples in telecommunication </div>\n",
    "</div>\n",
    "\n",
    "\n",
    "## ■ Conclusion\n",
    "\n",
    "- What is LP problem\n",
    "- Basics of finding solutions: to understand the behaviour of solvers (SW)\n",
    "- Selected TC cases\n",
    "- Theory\n",
    "    - Convexity\n",
    "    - Extreme points\n",
    "\n",
    "\n",
    "\n",
    "- Solvers – software tools \n",
    "    - Lpsolve: http://lpsolve.sourceforge.net/5.5/ \n",
    "    - CPLEX: http://www-01.ibm.com/software/integration/optimization/cplex-optimizer/ \n",
    "\n",
    "\n",
    "\n",
    "\n",
    "<p style=\"margin-bottom:2cm;\"></p>\n",
    "<div style=\"width:100%;text-align:right;font-weight:bold;font-size:1.2em;\"> 25 </div>\n",
    "<img src=\"https://raw.githubusercontent.com/andrejkk/ORvTK_SlidesImgs/master/footer_full.jpg\">"
   ]
  },
  {
   "cell_type": "code",
   "execution_count": null,
   "metadata": {},
   "outputs": [],
   "source": []
  }
 ],
 "metadata": {
  "celltoolbar": "Slideshow",
  "kernelspec": {
   "display_name": "Python 3",
   "language": "python",
   "name": "python3"
  },
  "language_info": {
   "codemirror_mode": {
    "name": "ipython",
    "version": 3
   },
   "file_extension": ".py",
   "mimetype": "text/x-python",
   "name": "python",
   "nbconvert_exporter": "python",
   "pygments_lexer": "ipython3",
   "version": "3.7.6"
  }
 },
 "nbformat": 4,
 "nbformat_minor": 2
}
