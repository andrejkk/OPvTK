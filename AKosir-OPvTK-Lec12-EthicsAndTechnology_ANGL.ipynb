{
 "cells": [
  {
   "attachments": {},
   "cell_type": "markdown",
   "metadata": {
    "collapsed": true,
    "slideshow": {
     "slide_type": "slide"
    }
   },
   "source": [
    "<img src=\"https://raw.githubusercontent.com/andrejkk/TalksImgs/master/FrontSlideUpperBan.png\" style=\"float: center; width: 100%\"/>\n",
    "<p style=\"margin-bottom:2cm;\"></p>\n",
    "<center>\n",
    "<h1>10. Ethics and Technology</h1>\n",
    "<br/>\n",
    "<h3>Andrej Košir, Lucami, Fe</h3>\n",
    "<h4>Contact: andrej.kosir@fe.uni-lj.si</h4>\n",
    "<h4>Zoom https://uni-lj-si.zoom.us/J/8638167479</h4>\n",
    "</center>\n",
    "<p style=\"margin-bottom:2cm;\"></p>\n",
    "<img src=\"https://raw.githubusercontent.com/andrejkk/ORvTK_SlidesImgs/master/footer_full.jpg\"/>\n"
   ]
  },
  {
   "cell_type": "markdown",
   "metadata": {},
   "source": [
    "## Goals and learning outcomes\n",
    "\n",
    "#### Goals\n",
    "\n",
    "The aim of the chapter is the basic understanding of ethical aspects of adapting to users and the broader smart technologies:\n",
    "- which aspects are rejuvenated;\n",
    "- How do ethical aspects touch the development of smart applications\n",
    "\n",
    "#### Learning outcomes\n",
    "\n",
    "- Knowledge of selected concepts of ethics\n",
    "- Knowledge of ethics concepts related to technology\n",
    "- the ability to identify ethically controversial solutions of smart technologies\n",
    "- ability to prepare an application for an ethical commission<p style=\"margin-bottom:2cm;\"></p>\n",
    "<div style=\"width:100%; text-align: right; font-weight:bold; font-size:1.2em;\">1</div>\n",
    "<img src=\"https://raw.githubusercontent.com/andrejkk/ORvTK_SlidesImgs/master/footer_full.jpg\"/>"
   ]
  },
  {
   "cell_type": "markdown",
   "metadata": {
    "slideshow": {
     "slide_type": "slide"
    }
   },
   "source": [
    "<div style=\"display:flex;font-weight:bold;font-size:0.9em;\">\n",
    "<div style=\"flex:1;width:50%;\">10. Ethics and Technology</div>\n",
    "</div>## 10. Ethics and Technology\n",
    "\n",
    "\n",
    "### 10.1.Technological background\n",
    "\n",
    "■ Digital dividing line*\n",
    "\n",
    "■ Systems intelligence*\n",
    "\n",
    "■ Where are we with technology\n",
    "\n",
    "■ Example: talk system and smart home\n",
    "\n",
    "■ What happens to the data\n",
    "\n",
    "■ GDPR and deanonymization*\n",
    "\n",
    "■ Does the use of sensitive data annoy us?\n",
    "\n",
    "\n",
    "### 10.2 ethics and technology\n",
    "\n",
    "■ What is ethics?*\n",
    "\n",
    "■ Is Privacy by Design the solution?*\n",
    "\n",
    "■ ethical technology neutrality?*\n",
    "\n",
    "■ Hum's guillotine*\n",
    "\n",
    "■ Does technology change ethics?*\n",
    "\n",
    "■ Who works in this area - sources\n",
    "\n",
    "■ Ethics Commissions\n",
    "\n",
    "■ Key: Do we can do it?\n",
    "\n",
    "■ Final highlights\n",
    "\n",
    "\n",
    "### 10.3 Ethical Research Assessment and Ethics Commission\n",
    "\n",
    "■ Why ethical judgment\n",
    "\n",
    "■ Relevant Ethics Commissions<p style=\"margin-bottom:1cm;\"></p>\n",
    "<div style=\"width:100%; text-align: right; font-weight:bold; font-size:1.2em;\">2</div>\n",
    "<img src=\"https://raw.githubusercontent.com/andrejkk/ORvTK_SlidesImgs/master/footer_full.jpg\"/>"
   ]
  },
  {
   "attachments": {},
   "cell_type": "markdown",
   "metadata": {
    "slideshow": {
     "slide_type": "slide"
    }
   },
   "source": [
    "<div style=\"display:flex;font-weight:bold;font-size:0.9em;\">\n",
    "<div style=\"flex:1;width:50%;\">10. Ethics and Technology</div>\n",
    "<div style=\"flex:1;width:50%;text-align:right;\">10. 1. Technological background</div>\n",
    "</div>\n",
    "\n",
    "## ■ Digital divide\n",
    "\n",
    "#### Definition\n",
    "\n",
    "The digital dividing line is **any uneven distribution** in access, use or impact of information and communication technologies (ICT) between different groups of users.These groups can be defined based on\n",
    "1. Social\n",
    "2. Geographical\n",
    "3. Geopolitical,\n",
    "4. Or otherwise.\n",
    "\n",
    "\n",
    "\n",
    "The reasons are, among other things, the maladaptation of services and applications.<p style=\"margin-bottom:2cm;\"></p>\n",
    "\n",
    "<div style=\"width:100%; text-align: right; font-weight:bold; font-size:1.2em;\">3</div>\n",
    "<img src=\"https://raw.githubusercontent.com/andrejkk/ORvTK_SlidesImgs/master/footer_full.jpg\"/>"
   ]
  },
  {
   "attachments": {},
   "cell_type": "markdown",
   "metadata": {
    "slideshow": {
     "slide_type": "slide"
    }
   },
   "source": [
    "<div style=\"display:flex;font-weight:bold;font-size:0.9em;\">\n",
    "<div style=\"flex:1;width:50%;\">10. Ethics and Technology</div>\n",
    "<div style=\"flex:1;width:50%;text-align:right;\">10. 1. Technological background</div>\n",
    "</div>\n",
    "\n",
    "## ■ Intelligence of the systems<br/>\n",
    "\n",
    "#### Definition\n",
    "\n",
    "\"The ability to properly interpret external data, to learn from such data and to use this new knowledge to flexible adaptation in the environment and achieve specific goals and tasks.\"\n",
    "\n",
    "It is essential **work on data** about users, which necessarily leads to ethics caution.\n",
    "\n",
    "<br/><br/>\n",
    "\n",
    "_Literature_: A. Kaplan, M. Haenlein: Siri, Siri, and My Hand: Who's the Fairest in the Land?He on the interpretations, Illustrations, and implications of artifial digis, *Business Horizons *, Volume 62, Issue 1, 2019.<p style=\"margin-bottom:2cm;\"></p>\n",
    "\n",
    "<div style=\"width:100%; text-align: right; font-weight:bold; font-size:1.2em;\">4</div>\n",
    "<img src=\"https://raw.githubusercontent.com/andrejkk/ORvTK_SlidesImgs/master/footer_full.jpg\"/>"
   ]
  },
  {
   "cell_type": "markdown",
   "metadata": {
    "slideshow": {
     "slide_type": "slide"
    }
   },
   "source": [
    "<div style=\"display:flex;font-weight:bold;font-size:0.9em;\">\n",
    "<div style=\"flex:1;width:50%;\">10. Ethics and Technology</div>\n",
    "<div style=\"flex:1;width:50%;text-align:right;\">10. 1. Technological background</div>\n",
    "</div>\n",
    "\n",
    "\n",
    "## ■ Where are we with technology\n",
    "\n",
    "\n",
    "* Mood, emotional state\n",
    "* Attention models (learning, driving,…)\n",
    "* Trust models (autonomous driving,…)\n",
    "* Model of healthy aging\n",
    "* ...\n",
    "* White Paper: Humility and AI\n",
    "\n",
    "<p style=\"margin-bottom:1cm;\"></p>\n",
    "<div style=\"width:100%; text-align: right; font-weight:bold; font-size:1.2em;\">5</div>\n",
    "<img src=\"https://raw.githubusercontent.com/andrejkk/ORvTK_SlidesImgs/master/footer_full.jpg\"/>"
   ]
  },
  {
   "cell_type": "markdown",
   "metadata": {
    "slideshow": {
     "slide_type": "slide"
    }
   },
   "source": [
    "<div style=\"display:flex;font-weight:bold;font-size:0.9em;\">\n",
    "<div style=\"flex:1;width:50%;\">10. Ethics and Technology</div>\n",
    "<div style=\"flex:1;width:50%;text-align:right;\">10. 1. Technological background</div>\n",
    "</div>\n",
    "\n",
    "## ■ Example: talk system and smart home<br/><br/>\n",
    "<img src=\"https://raw.githubusercontent.com/andrejkk/UPK_DataImgs/master/SmartKitchen.jpg\" style=\"float: center; width: 50%;\"/>Source: https://www.businesswire.com/\n",
    "\n",
    "### Ethical challenges?\n",
    "\n",
    "\n",
    "<p style=\"margin-bottom:2cm;\"></p>\n",
    "<div style=\"width:100%; text-align: right; font-weight:bold; font-size:1.2em;\">6</div>\n",
    "<img src=\"https://raw.githubusercontent.com/andrejkk/ORvTK_SlidesImgs/master/footer_full.jpg\"/>"
   ]
  },
  {
   "cell_type": "markdown",
   "metadata": {
    "slideshow": {
     "slide_type": "slide"
    }
   },
   "source": [
    "<div style=\"display:flex;font-weight:bold;font-size:0.9em;\">\n",
    "<div style=\"flex:1;width:50%;\">10. Ethics and Technology</div>\n",
    "<div style=\"flex:1;width:50%;text-align:right;\">10. 1. Technological background</div>\n",
    "</div>\n",
    "\n",
    "## ■ What happens to the data\n",
    "\n",
    "- Why is \"Google Maps\" better than lpp.si?\n",
    "\n",
    "- Access to information:\n",
    "    - Academic Environment: Open\n",
    "    - Business: closed\n",
    "\n",
    "\n",
    "- Google:\n",
    "    - Needs: the best people + trust\n",
    "    - reviews “the whole world”\n",
    "\n",
    "<img src=\"https://raw.githubusercontent.com/andrejkk/UPK_DataImgs/master/Ethics_DataFlow.png\" style=\"float: center; width: 80%;\"/>\n",
    "<div style=\"width:100%; text-align: right; font-weight:bold; font-size:1.2em;\">7</div>\n",
    "<img src=\"https://raw.githubusercontent.com/andrejkk/ORvTK_SlidesImgs/master/footer_full.jpg\"/>"
   ]
  },
  {
   "attachments": {},
   "cell_type": "markdown",
   "metadata": {
    "slideshow": {
     "slide_type": "slide"
    }
   },
   "source": [
    "<div style=\"display:flex;font-weight:bold;font-size:0.9em;\">\n",
    "<div style=\"flex:1;width:50%;\">10. Ethics and Technology</div>\n",
    "<div style=\"flex:1;width:50%;text-align:right;\">10. 1. Technological background</div>\n",
    "</div>\n",
    "\n",
    "## ■ GDPR and deanonymization\n",
    "\n",
    "- The possibilities of abuse are realistic and there is a great interest in them:\n",
    "    * E.g.Emotional Profile -&gt; Service interview<p>\n",
    "\n",
    "- Can GDPR be consistently performed?\n",
    "    * Basic information: https://sl.wikipedia.org/wiki/splo%C5%A1na_erdba_o_varstvo_datkov<p>\n",
    "    \n",
    "    \n",
    "- What can be deanonymized?<p style=\"margin-bottom:1cm;\"></p>\n",
    "\n",
    "\n",
    "<div style=\"width:100%; text-align: right; font-weight:bold; font-size:1.2em;\">8</div>\n",
    "<img src=\"https://raw.githubusercontent.com/andrejkk/ORvTK_SlidesImgs/master/footer_full.jpg\"/></p></p>"
   ]
  },
  {
   "attachments": {},
   "cell_type": "markdown",
   "metadata": {
    "slideshow": {
     "slide_type": "slide"
    }
   },
   "source": [
    "<div style=\"display:flex;font-weight:bold;font-size:0.9em;\">\n",
    "<div style=\"flex:1;width:50%;\">10. Ethics and Technology</div>\n",
    "<div style=\"flex:1;width:50%;text-align:right;\">10. 1. Technological background</div>\n",
    "</div>\n",
    "\n",
    "## ■ Do we use sensitive data bothers us?\n",
    "\n",
    "\n",
    "- Does data use really bother us?\n",
    "\n",
    "\n",
    "- ** less than it seems: **\n",
    "    * Google: We save your commercials for € 1 month?<p>\n",
    "    \n",
    "- low -cost carriers: options\n",
    "    - Map 0 € + Your Data\n",
    "    - Map € 200 without your data<p style=\"margin-bottom:2cm;\"></p>\n",
    "\n",
    "    \n",
    "<div style=\"width:100%; text-align: right; font-weight:bold; font-size:1.2em;\">9</div>\n",
    "<img src=\"https://raw.githubusercontent.com/andrejkk/ORvTK_SlidesImgs/master/footer_full.jpg\"/></p>"
   ]
  },
  {
   "cell_type": "markdown",
   "metadata": {
    "slideshow": {
     "slide_type": "slide"
    }
   },
   "source": [
    "<div style=\"display:flex;font-weight:bold;font-size:0.9em;\">\n",
    "<div style=\"flex:1;width:50%;\">10. Ethics and Technology</div>\n",
    "<div style=\"flex:1;width:50%;text-align:right;\">10.2 Ethics and Technology</div>\n",
    "</div>\n",
    "\n",
    "### 10.2 ethics and technology\n",
    "\n",
    "■ What is ethics?\n",
    "\n",
    "■ Is Privacy by Design the solution?\n",
    "\n",
    "■ Ethical technology neutrality?\n",
    "\n",
    "■ Human guillotine!\n",
    "\n",
    "■ Does technology change ethics?\n",
    "\n",
    "■ Who works in this area - sources\n",
    "\n",
    "■ Key: Do we can do it?\n",
    "\n",
    "■ Final highlights\n",
    "\n",
    "<p style=\"margin-bottom:2cm;\"></p>\n",
    "<div style=\"width:100%; text-align: right; font-weight:bold; font-size:1.2em;\">10</div>\n",
    "<img src=\"https://raw.githubusercontent.com/andrejkk/ORvTK_SlidesImgs/master/footer_full.jpg\"/>"
   ]
  },
  {
   "cell_type": "markdown",
   "metadata": {
    "slideshow": {
     "slide_type": "slide"
    }
   },
   "source": [
    "<div style=\"display:flex;font-weight:bold;font-size:0.9em;\">\n",
    "<div style=\"flex:1;width:50%;\">10. Ethics and Technology</div>\n",
    "<div style=\"flex:1;width:50%;text-align:right;\">10. 2. Ethics and Technology</div>\n",
    "</div>\n",
    "\n",
    "## ■ Is Privacy by Design a solution?\n",
    "\n",
    "#### leaders (in English):\n",
    "1. Proactive Not Reactive;prevention not remedial\n",
    "2. Privacy as The Default Setting\n",
    "3. Privacy Embedded Into Design\n",
    "4. Full functionality-Positive-Sum, Not Zero-Sum\n",
    "5. End-to-End Security-Full Lifecycle Protection\n",
    "6. Visibility and Transparency - Keep It Open\n",
    "10. Respect for User Privacy-Keep it User-Centric\n",
    "\n",
    "Source: https://en.wikipedia.org/wiki/privacy_by_design\n",
    "\n",
    "\n",
    "\n",
    "#### Essential\n",
    "You cannot add ethics to technology after it is created and in use.You can only integrate it throughout the process of applying applied.\n",
    "\n",
    "<p style=\"margin-bottom:1cm;\"></p>\n",
    "<div style=\"width:100%; text-align: right; font-weight:bold; font-size:1.2em;\">12</div>\n",
    "<img src=\"https://raw.githubusercontent.com/andrejkk/ORvTK_SlidesImgs/master/footer_full.jpg\"/>"
   ]
  },
  {
   "cell_type": "markdown",
   "metadata": {
    "slideshow": {
     "slide_type": "slide"
    }
   },
   "source": [
    "<div style=\"display:flex;font-weight:bold;font-size:0.9em;\">\n",
    "<div style=\"flex:1;width:50%;\">10. Ethics and Technology</div>\n",
    "<div style=\"flex:1;width:50%;text-align:right;\">10. 2. Ethics and Technology</div>\n",
    "</div>\n",
    "\n",
    "\n",
    "## ■ Ethical neutrality of technology?\n",
    "\n",
    "\n",
    "Neutrality according to:\n",
    "- existing values\n",
    "- Given the consequences\n",
    "\n",
    "\n",
    "### Are the user aware of the possibility of using the data that (unknowingly) gives into use?\n",
    "\n",
    "\n",
    "Are Google's services ethically neutral?\n",
    "\n",
    "Button **[i Aggree]** no longer applies.\n",
    "\n",
    "<p style=\"margin-bottom:2cm;\"></p>\n",
    "<div style=\"width:100%; text-align: right; font-weight:bold; font-size:1.2em;\">13</div>\n",
    "<img src=\"https://raw.githubusercontent.com/andrejkk/ORvTK_SlidesImgs/master/footer_full.jpg\"/>"
   ]
  },
  {
   "cell_type": "markdown",
   "metadata": {
    "slideshow": {
     "slide_type": "slide"
    }
   },
   "source": [
    "<div style=\"display:flex;font-weight:bold;font-size:0.9em;\">\n",
    "<div style=\"flex:1;width:50%;\">10. Ethics and Technology</div>\n",
    "<div style=\"flex:1;width:50%;text-align:right;\">10. 2. Ethics and Technology</div>\n",
    "</div>\n",
    "\n",
    "\n",
    "## ■ Hum's guillotine\n",
    "\n",
    "The philosopher of HUME (1711 - 1776) concluded as follows\n",
    "\n",
    "1. Smoking is harmful to health (fixed).\n",
    "2. We want to be healthy (value consensus).\n",
    "\n",
    "==>\n",
    "\n",
    "3. Smoking is poured.\n",
    "\n",
    "Step 2. Is object ** value consensus **.\n",
    "\n",
    "Therefore: **artificial intelligence will not solve ethical questions.**\n",
    "\n",
    "<p style=\"margin-bottom:2cm;\"></p>\n",
    "<div style=\"width:100%; text-align: right; font-weight:bold; font-size:1.2em;\">14</div>\n",
    "<img src=\"https://raw.githubusercontent.com/andrejkk/ORvTK_SlidesImgs/master/footer_full.jpg\"/>"
   ]
  },
  {
   "cell_type": "markdown",
   "metadata": {
    "slideshow": {
     "slide_type": "slide"
    }
   },
   "source": [
    "<div style=\"display:flex;font-weight:bold;font-size:0.9em;\">\n",
    "<div style=\"flex:1;width:50%;\">10. Ethics and Technology</div>\n",
    "<div style=\"flex:1;width:50%;text-align:right;\">10. 2. Ethics and Technology</div>\n",
    "</div>\n",
    "\n",
    "## ■ Does technology change ethics?\n",
    "\n",
    "<br/>\n",
    "\n",
    "- Technology is moving boundaries in terms of what technology can do.Does this change ethics? **Yes**.\n",
    "- The ethics of technologies are associated with understanding these technologies and regulations by users - but these are increasingly complicated.\n",
    "- Google 2019: Advanced Technology External Advisory Council: Escared after a good week.\n",
    "\n",
    "<p style=\"margin-bottom:1cm;\"></p>\n",
    "<div style=\"width:100%; text-align: right; font-weight:bold; font-size:1.2em;\">15</div>\n",
    "<img src=\"https://raw.githubusercontent.com/andrejkk/ORvTK_SlidesImgs/master/footer_full.jpg\"/>"
   ]
  },
  {
   "cell_type": "markdown",
   "metadata": {
    "slideshow": {
     "slide_type": "slide"
    }
   },
   "source": [
    "<div style=\"display:flex;font-weight:bold;font-size:0.9em;\">\n",
    "<div style=\"flex:1;width:50%;\">10. Ethics and Technology</div>\n",
    "<div style=\"flex:1;width:50%;text-align:right;\">10. 2. Ethics and Technology</div>\n",
    "</div>\n",
    "\n",
    "## ■ Who works in this area - sources\n",
    "\n",
    "\n",
    "### EU project SATORI (https://satoriproject.eu/), 4 m €\n",
    "\n",
    "Starting point: Ethics in Research and Development have a great impact on\n",
    "- human rights\n",
    "- Legal System\n",
    "- an environment\n",
    "-…\n",
    "\n",
    "Objective: EU Development Framework of Ethical Research Assessment: Conditions, Suggestions\n",
    "\n",
    "\n",
    "Participants: 14 countries, 16 partners: law, industry, academy,…, UNESCO\n",
    "\n",
    "<p style=\"margin-bottom:2cm;\"></p>\n",
    "<div style=\"width:100%; text-align: right; font-weight:bold; font-size:1.2em;\">16</div>\n",
    "<img src=\"https://raw.githubusercontent.com/andrejkk/ORvTK_SlidesImgs/master/footer_full.jpg\"/>"
   ]
  },
  {
   "cell_type": "markdown",
   "metadata": {
    "slideshow": {
     "slide_type": "slide"
    }
   },
   "source": [
    "<div style=\"display:flex;font-weight:bold;font-size:0.9em;\">\n",
    "<div style=\"flex:1;width:50%;\">10. Ethics and Technology</div>\n",
    "<div style=\"flex:1;width:50%;text-align:right;\">10. 2. Ethics and Technology</div>\n",
    "</div>\n",
    "\n",
    "## ■ Key: Arw we be able to compy?\n",
    "\n",
    "Social consensus on the use of advanced technologies?\n",
    "\n",
    "The enforcement of consensus in\n",
    "- regulation?\n",
    "- practice?\n",
    "\n",
    "<p style=\"margin-bottom:2cm;\"></p>\n",
    "<div style=\"width:100%; text-align: right; font-weight:bold; font-size:1.2em;\">17</div>\n",
    "<img src=\"https://raw.githubusercontent.com/andrejkk/ORvTK_SlidesImgs/master/footer_full.jpg\"/>"
   ]
  },
  {
   "cell_type": "markdown",
   "metadata": {
    "slideshow": {
     "slide_type": "slide"
    }
   },
   "source": [
    "<div style=\"display:flex;font-weight:bold;font-size:0.9em;\">\n",
    "<div style=\"flex:1;width:50%;\">10. Ethics and Technology</div>\n",
    "<div style=\"flex:1;width:50%;text-align:right;\">10.3 Ethical Research and Ethics Commission Judgment</div>\n",
    "</div>\n",
    "\n",
    "## ■ 10.3 Ethical judgment of research and ethics committee\n",
    "\n",
    "■ Why ethical judgment\n",
    "\n",
    "■ Relevant Ethics Commissions\n",
    "\n",
    "<div style=\"width:100%; text-align: right; font-weight:bold; font-size:1.2em;\">18</div>\n",
    "<img src=\"https://raw.githubusercontent.com/andrejkk/ORvTK_SlidesImgs/master/footer_full.jpg\"/>"
   ]
  },
  {
   "cell_type": "markdown",
   "metadata": {
    "slideshow": {
     "slide_type": "slide"
    }
   },
   "source": [
    "<div style=\"display:flex;font-weight:bold;font-size:0.9em;\">\n",
    "<div style=\"flex:1;width:50%;\">10. Ethics and Technology</div>\n",
    "<div style=\"flex:1;width:50%;text-align:right;\">10.3 Ethical Research and Ethics Commission Judgment</div>\n",
    "</div>\n",
    "\n",
    "## ■ Why ethical judgment\n",
    "\n",
    "Protect users from abuse.\n",
    "\n",
    "1. _Basic information about the application:_ applicant, title, research area, etc.\n",
    "2. _Introduction:_ the applicant provides the starting points of the research work, research questions, hypotheses and other relevant introductory information;\n",
    "3. _Participants:_ number and description of participants, method of recruitment of participants (inclusion and exclusion criteria are welcome) and their potential benefit from participation;\n",
    "4. _Research plan:_ description of the research plan (e.g. survey, experiment, interview, focus group, etc.) and indication of dependent (results of the procedure) and independent variables (control of the experiment, etc.);\n",
    "5. _Procedure:_ in addition to the sequence of steps, the applicant also provides a list of instruments and devices (questionnaires, sensors, etc.), a description of the participants' experimental tasks and prepared instructions for the participants.\n",
    "6. _Consent to participate:_ a completed written form for formal consent to the participation of participants, waiver of written consent, possible interview about the research and withdrawal of consent;\n",
    "7. _Data protection and confidentiality:_ The applicant ensures the protection of the collected data in all phases from measurement to storage and processing, i.e. complete anonymity, pseudo-anonymization of data (if necessary for further data processing) or full anonymization of data, and prevention of data recognizability;\n",
    "8. _Assessment of potential risks and benefits of participation:_ the risks for test participants must be clearly defined, as well as their potential benefits (the latter could affect the selection of participants and consequently the results themselves).\n",
    "9. _Appendices:_ necessary attachments such as a prepared consent to participate, etc.\n",
    "\n",
    "\n",
    "Why are the applications for ethical judgment so complicated?Because they are pointless research with as users basically unethical.\n",
    "\n",
    "\n",
    "<p style=\"margin-bottom:1cm;\"></p>\n",
    "<div style=\"width:100%; text-align: right; font-weight:bold; font-size:1.2em;\">19</div>\n",
    "<img src=\"https://raw.githubusercontent.com/andrejkk/ORvTK_SlidesImgs/master/footer_full.jpg\"/>"
   ]
  },
  {
   "cell_type": "markdown",
   "metadata": {
    "slideshow": {
     "slide_type": "slide"
    }
   },
   "source": [
    "<div style=\"display:flex;font-weight:bold;font-size:0.9em;\">\n",
    "<div style=\"flex:1;width:50%;\">10. Ethics and Technology</div>\n",
    "<div style=\"flex:1;width:50%;text-align:right;\">10.3 Ethical Research and Ethics Commission Judgment</div>\n",
    "</div>\n",
    "\n",
    "## ■ Relevant ethics committees\n",
    "\n",
    "Why Judge: Protecting users from abuse.Users are a weak link.\n",
    "\n",
    "Commissions: they approve, do not control\n",
    "\n",
    "Supervisory Authority: Data Protection Authorities (DPA) set by the EU Commission in each country individually. For Slovenia, this is Informacijski pooblaščenec (https://www.ip-rs.si/).<br/>\n",
    "\n",
    "In Slovenia and within the University of Ljubljana, there are several committees that approve a prodic survey:\n",
    "- University of Ljubljana Ethics Commission [link](https://www.uni-lj.si/raziskovalno_in_razvojno_delo/etika_in_integriteta_v_raziskovanju/komisija_univerze_v_ljubljani_za_etiko_v_raziskavah__ki_vkljucujejo_delo_z_ljudmi/)\n",
    "- Faculty of Philosophy-Psychology: [link](https://www.ff.uni-lj.si/faculty/komisia-za-etiko)\n",
    "- Faculty of Education - Pedagogical Work: [link](https://www.pef.uni-lj.si/931.HTML)\n",
    "- the Commission of the Republic of Slovenia for Medical Ethics [link](https://www.gov.si/zbirke/dovnovna-telesa/komisia-rs-za-medicin-tiko/)\n",
    "- Medical Ethics Commission UKC Maribor [Link](https://www.ukc-mb.si/bolni%C5%A1nica/komisija-za-medicinsko-etiko-ukc-maribor)\n",
    "- UP Commission for Research involving work with people (because up) [link](https://www.upr.si/files/static/847)\n",
    "\n",
    "\n",
    "\n",
    "**Procedure:**\n",
    "1. Before conducting the survey, we produce an application for ethical committee: forms (see links above)\n",
    "2. Submission, Porpavs, confirmed\n",
    "\n",
    "<p style=\"margin-bottom:2cm;\"></p>\n",
    "<div style=\"width:100%; text-align: right; font-weight:bold; font-size:1.2em;\">20</div>\n",
    "<img src=\"https://raw.githubusercontent.com/andrejkk/ORvTK_SlidesImgs/master/footer_full.jpg\"/>"
   ]
  },
  {
   "cell_type": "markdown",
   "metadata": {
    "slideshow": {
     "slide_type": "slide"
    }
   },
   "source": [
    "<div style=\"display:flex;font-weight:bold;font-size:0.9em;\">\n",
    "<div style=\"flex:1;width:50%;\">10. Ethics and Technology</div>\n",
    "<div style=\"flex:1;width:50%;text-align:right;\">Summary</div>\n",
    "</div>\n",
    "\n",
    "## ■ Concluding remarks<br/>\n",
    "\n",
    "* The main challenge is **social consensus** about the use of technology\n",
    "* **potential** of these technologies is** outstanding ** (eg older care)\n",
    "* Artificial intelligence **cannot solve** ethical problems\n",
    "* Progress and Teaching of Ethics in parallel with technology\n",
    "* **Regulation** is essential: it is not against freedom of creation, only with responsibility!\n",
    "\n",
    "<p style=\"margin-bottom:1cm;\"></p>\n",
    "<div style=\"width:100%; text-align: right; font-weight:bold; font-size:1.2em;\">21</div>\n",
    "<img src=\"https://raw.githubusercontent.com/andrejkk/ORvTK_SlidesImgs/master/footer_full.jpg\"/>"
   ]
  },
  {
   "cell_type": "markdown",
   "metadata": {},
   "source": []
  }
 ],
 "metadata": {
  "celltoolbar": "Slideshow",
  "kernelspec": {
   "display_name": "Python 3",
   "language": "python",
   "name": "python3"
  },
  "language_info": {
   "codemirror_mode": {
    "name": "ipython",
    "version": 3
   },
   "file_extension": ".py",
   "mimetype": "text/x-python",
   "name": "python",
   "nbconvert_exporter": "python",
   "pygments_lexer": "ipython3",
   "version": "3.10.5 (tags/v3.10.5:f377153, Jun  6 2022, 16:14:13) [MSC v.1929 64 bit (AMD64)]"
  },
  "vscode": {
   "interpreter": {
    "hash": "66d245bc0aa345411577de3f292b9e6a6906f0558af2a59212c3c2455e5d14f2"
   }
  }
 },
 "nbformat": 4,
 "nbformat_minor": 2
}
