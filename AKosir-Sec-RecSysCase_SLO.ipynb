{
 "cells": [
  {
   "attachments": {},
   "cell_type": "markdown",
   "metadata": {
    "collapsed": true,
    "slideshow": {
     "slide_type": "slide"
    }
   },
   "source": [
    "<img style=\"float: center; width: 100%\" src=\"https://raw.githubusercontent.com/andrejkk/TalksImgs/master/FrontSlideUpperBan.png\">\n",
    "<p style=\"margin-bottom:2cm;\"></p>\n",
    "\n",
    "<center>\n",
    "    <H1> Priporočilni sistem z matrično faktorizacijo </H1>\n",
    "   \n",
    "\n",
    "\n",
    "<br><br>\n",
    "    <H3> Andrej Košir, Lucami, FE </H3>\n",
    "    <H4> Kontakt: prof. dr. Andrej Košir, andrej.kosir@lucami.fe.uni-lj.si, skype=akosir_sid </H4>\n",
    "</center>\n",
    "\n",
    "\n",
    "<p style=\"margin-bottom:2cm;\"></p>\n",
    "<div style=\"width:100%;text-align:right;font-weight:bold;font-size:1.2em;\"> 1 </div>\n",
    "<img src=\"https://raw.githubusercontent.com/andrejkk/ORvTK_SlidesImgs/master/footer_full.jpg\">"
   ]
  },
  {
   "cell_type": "markdown",
   "metadata": {
    "slideshow": {
     "slide_type": "slide"
    }
   },
   "source": [
    "<div style=\"display:flex;font-weight:bold;font-size:0.9em;\">\n",
    "<div style=\"flex:1;width:50%;text-align:right;\"> Priporočilni sistem z matrično faktorizacijo </div>\n",
    "</div>\n",
    "\n",
    "\n",
    "# ■ Problem in rešitev\n",
    "\n",
    "\n",
    "#### Aplikativni problem: neobvladljiva količina informacij  \n",
    " - rezultatov iskalnika je preveč: knjig, filmov, turističnij destinacij, ...\n",
    " \n",
    "#### Rešitev: priporočilni sistem\n",
    " - uporabniku prilagojeni rezultati iskanj\n",
    " - trije pristopi:\n",
    "     - vsebinksi: _Vsebina, ki ga je zanimala v preteklosti, ga še vedno zanima._ Kako meriti podobnost vsebin?\n",
    "     - skupinski: _Vsebina, ki zanima podobne uporabnike, zanima tudi tega uporabnika._ Kako meriti podobnost med upoabniki?\n",
    "     - hibridni (kombinacija obeh pristopov)\n",
    "\n",
    "\n",
    "<p style=\"margin-bottom:1cm;\"></p>\n",
    "<div style=\"width:100%;text-align:right;font-weight:bold;font-size:1.2em;\"> 3 </div>\n",
    "<img src=\"https://raw.githubusercontent.com/andrejkk/ORvTK_SlidesImgs/master/footer_full.jpg\">"
   ]
  },
  {
   "attachments": {},
   "cell_type": "markdown",
   "metadata": {
    "slideshow": {
     "slide_type": "slide"
    }
   },
   "source": [
    "<div style=\"display:flex;font-weight:bold;font-size:0.9em;\">\n",
    "<div style=\"flex:1;width:50%;text-align:right;\"> Priporočilni sistem z matrično faktorizacijo </div>\n",
    "</div>\n",
    "\n",
    "\n",
    "# ■ Algoritmična rešitev: Matrična faktorizacija\n",
    "\n",
    "- članek: Y. Koren, R. Bell, C. Volinsky: MATRIX FACTORIZATION TECHNIQUES FOR RECOMMENDER SYSTEMS, IEEE Computer Society, 2009.  \n",
    "- uporabniki $u\\in U$, vsebine $h\\in H$\n",
    "- podatkovna matrika ocen uporabnikov - večinoma ima **neznane vrednosti** (n.d. = no data)\n",
    "$$ D=[r_{uh}]_{u\\in U, h\\in H} $$\n",
    "\n",
    "\n",
    "\n",
    "- uporabimo oznako $P_{(u)}$ za $u$-to vrstico matrike $P$ in $Q_{(h)}$ za $h$-to vrstico matrike $Q$. \n",
    "\n",
    "\n",
    "\n",
    "- Kaj je faktorizacija matrik: $Q.R$, ...\n",
    "\n",
    "\n",
    "\n",
    "- pojem latentnih značilk (lastnosti)\n",
    "    - značilke\n",
    "    - latentne značilke\n",
    "\n",
    "\n",
    "\n",
    "- Matrična faktorizacija \n",
    "    - izberemo število značilk $M$, ki je lahko poljubno, tipično $M\\in \\{3,\\ldots,10\\}$. \n",
    "    - faktorizacija je razcep na dve matriki oblike\n",
    "$$ P.Q^\\top = D $$\n",
    "    - večina vrednosti je manjkajočih\n",
    "\n",
    "\n",
    "\n",
    "\n",
    "$$ \n",
    "\\begin{bmatrix}\n",
    " p_{11} & \\ldots & p_{1M} \\cr\n",
    " \\vdots & \\ddots & \\vdots \\cr\n",
    " \\vdots & \\ddots & \\vdots \\cr\n",
    " \\vdots & \\ddots & \\vdots \\cr\n",
    " p_{n1} & \\ldots & p_{nM}\n",
    "\\end{bmatrix}\n",
    ".\\begin{bmatrix}\n",
    " q_{11} & \\ldots & \\ldots & \\ldots & q_{M1} \\cr\n",
    " \\vdots & \\ddots & \\ldots & \\ldots & \\vdots \\cr\n",
    " q_{M1} & \\ldots & p_{Mm}\n",
    "\\end{bmatrix}\n",
    " = \n",
    "\\begin{bmatrix}\n",
    " n.d. & \\ldots & \\ldots & \\ldots & n.d. \\cr\n",
    " \\vdots & \\vdots & \\vdots & \\vdots & \\vdots  \\cr\n",
    " \\vdots & \\vdots & r_{uh} & \\vdots & \\vdots  \\cr\n",
    " \\vdots & \\vdots & \\vdots & \\vdots & \\vdots  \\cr\n",
    " n.d. & \\ldots & \\ldots & \\ldots & n.d.\n",
    "\\end{bmatrix} \n",
    "$$\n",
    "\n",
    "\n",
    "\n",
    "<p style=\"margin-bottom:1cm;\"></p>\n",
    "<div style=\"width:100%;text-align:right;font-weight:bold;font-size:1.2em;\"> 3 </div>\n",
    "<img src=\"https://raw.githubusercontent.com/andrejkk/ORvTK_SlidesImgs/master/footer_full.jpg\">"
   ]
  },
  {
   "cell_type": "markdown",
   "metadata": {
    "slideshow": {
     "slide_type": "slide"
    }
   },
   "source": [
    "<div style=\"display:flex;font-weight:bold;font-size:0.9em;\">\n",
    "<div style=\"flex:1;width:50%;text-align:right;\"> Priporočilni sistem z matrično faktorizacijo </div>\n",
    "</div>\n",
    "\n",
    "\n",
    "# ■ Osnovno sklepanje\n",
    "\n",
    "\n",
    "- Matriki $P$ in $Q$ določimo tako, da enakost velja pri **znanih vrednostih ocen** matrike $D$. S tem so določene vse vrednosti matrik $P$ in $Q$. \n",
    "- Predpostavka: če $P$ in $Q$ pravilno predstavi znane ocene uporabnikov, **bi pravilno ocenila tudi neznane ocen.** S tem ugotovimo **kako bi uprabnik ocenil vsebine, ki jih še ni videl.**\n",
    "- Ker vrstice $P$ pripadajo posameznim upoabnikom in \"delujejo\" za vse vsebine $h\\in H$, je $P_{(u)}$ vektor latentnih lastnosti uporabnika $u$\n",
    "- Ker vrstice $Q$ pripadajo posameznim vsebinam in \"delujejo\" za vse uporabnike $u\\in U$, je $Q_{(h)}$ vektor latentnih lastnosti vsebine $h$ \n",
    "\n",
    "\n",
    "\n",
    "#### Kako deluje\n",
    "1. S pomočjo ocenjenih matrik $P$ in $Q$ določimo manjkajoče vrednosti matrike $D$, to je manjkajoče ocene uporabnikov\n",
    "$$ P.Q^\\top = \\hat{D} $$\n",
    "2. Te ocene uporabimo tako, da jih uredimo po padajočem vrsnem redu in jih uporabniku predstavimo npr. prvih $15$;\n",
    "\n",
    "\n",
    "<p style=\"margin-bottom:1cm;\"></p>\n",
    "<div style=\"width:100%;text-align:right;font-weight:bold;font-size:1.2em;\"> 3 </div>\n",
    "<img src=\"https://raw.githubusercontent.com/andrejkk/ORvTK_SlidesImgs/master/footer_full.jpg\">"
   ]
  },
  {
   "cell_type": "markdown",
   "metadata": {
    "slideshow": {
     "slide_type": "slide"
    }
   },
   "source": [
    "<div style=\"display:flex;font-weight:bold;font-size:0.9em;\">\n",
    "<div style=\"flex:1;width:50%;text-align:right;\"> Priporočilni sistem z matrično faktorizacijo </div>\n",
    "</div>\n",
    "\n",
    "\n",
    "# ■ Optimizacijski problem \n",
    "\n",
    "\n",
    "Regularizirana kriterijska funkcija \n",
    "$$ c(D, P, Q) = \\sum_{u,h\\in D'} (r_{uh} - P_{(u)}.Q_{(h)})^2 + \\lambda (\\|P\\|^2 + \\|Q\\|^2) $$\n",
    "Drugi del $\\lambda (\\|P_{(u)}\\|^2 + \\|Q_{(h)}\\|^2)$ je regulazicijski čeln, ki daje prednost manjšim vrednostim elementov matrik $P$ in $Q$. Regularizacija na nek način nadomesti omejitve. \n",
    "\n",
    "\n",
    "\n",
    "Zaradi regularizacije kriterijske funkcije je optimizacijski problem brez omejitev:\n",
    "$$ argmin_{P,Q} c(D, P, Q) $$\n",
    "\n",
    "\n",
    "#### Gradient regularizirane kriterijske funkcije\n",
    "\n",
    "Napaka pri oceni $r_{uh}$ je $e_{uh} = r_{uh} - P_{(u)}.Q_{(h)}$. \n",
    "Neposredni izračun parcialnih odvodov po $i$-tem elementu vektorjev $P_{(u)i}$ in $P_{(h)i}$ v vrsticah matrik $P_{(u)}$ in $Q_{(h)}$ da\n",
    "$$ \\frac{\\partial}{\\partial P_{(u)i}} c(D, P, Q) = -2\\left(r_{uh} - P_{(u)}.Q_{(h)}\\right) Q_{(h)i} + 2 \\lambda P_{(u)i} \n",
    "  = -2 e_{uh} Q_{(h)i} + 2 \\lambda P_{(u)i}. $$\n",
    "$$ \\frac{\\partial}{\\partial Q_{(h)i}} c(D, P, Q) = -2\\left(r_{uh} - P_{(u)}.Q_{(h)}\\right) P_{(u)i} + 2 \\lambda Q_{(h)i} \n",
    "  = -2 e_{uh} P_{(u)i} + 2 \\lambda Q_{(h)i}. $$\n",
    "\n",
    "\n",
    "\n",
    "Popravek $i$-tega elementa vektorjev $P_{(u)i}$ in $P_{(h)i}$ sestavimo v vektorsko obliko, torej za vrstice matrik $P$ in $Q$, in po enačbi gradientnega algoritma \n",
    "$$ \\vec{x}_{k+1}=\\vec{x}_k - \\alpha_k \\vec{\\nabla} c(\\vec{x}_k), $$\n",
    "kjer je $\\vec{x}$ sestavljen iz matrik $P$ in $Q$, je tako enak \n",
    "$$ P_{(u)k+1} = P_{(u)k} + \\alpha_k \\left(e_{uh} Q_{(h)k} - \\lambda P_{(u)k}\\right)  $$\n",
    "$$ Q_{(u)k+1} = Q_{(u)k} + \\alpha_k \\left(e_{uh} P_{(u)k} - \\lambda Q_{(u)k}\\right)  $$\n",
    "\n",
    "\n",
    "\n",
    "Algoritem Stohastični gradientni spust tako iterira po znanih vrednostih podatkovne matrike ocen $[r_{uh}]$ in za vsakega popravi približek vrstic matrik $P$ in $Q$ po zgornji enačbi. \n",
    "\n",
    "\n",
    "\n",
    "\n",
    "\n",
    "<p style=\"margin-bottom:1cm;\"></p>\n",
    "<div style=\"width:100%;text-align:right;font-weight:bold;font-size:1.2em;\"> 3 </div>\n",
    "<img src=\"https://raw.githubusercontent.com/andrejkk/ORvTK_SlidesImgs/master/footer_full.jpg\">"
   ]
  },
  {
   "cell_type": "markdown",
   "metadata": {
    "slideshow": {
     "slide_type": "slide"
    }
   },
   "source": [
    "<div style=\"display:flex;font-weight:bold;font-size:0.9em;\">\n",
    "<div style=\"flex:1;width:50%;text-align:right;\"> Priporočilni sistem z matrično faktorizacijo </div>\n",
    "</div>\n",
    "\n",
    "\n",
    "# ■ Algoritmična rešitev: Stohastični gradientni spust\n",
    "\n",
    "- zavajajoče ime: ni nič stohastičnega\n",
    "- kriterijska funkcija in gradient smo že izračunali\n",
    "\n",
    "\n",
    "- Pseudokoda\n",
    "\n",
    ">**Algorithm 1:** Stochastic gradient decent  \n",
    ">\n",
    ">**Require:** Data matrix of ratings $D=[r_{uh}]$  \n",
    ">**Ensure:** Latent feature matrices $P$ in $Q$  \n",
    ">\n",
    ">1: Initialize initial values <br> \n",
    ">2: **while** (convergence) <br>\n",
    ">3: &emsp;Get available values from $D$ [available ones] <br>\n",
    ">4: &emsp;**for** (all $r_{uh} \\in \\mathcal{D}$)  <br>\n",
    ">5: &emsp;&emsp; $(P,Q)_{new}=(P,Q) - \\alpha_k\\nabla c(D, P, Q)$ <br>\n",
    ">6: &emsp;&emsp; $(P,Q)_{new}=(P,Q)$ <br>\n",
    "\n",
    "\n",
    "\n",
    "- Izboljšave: \n",
    "    - določanje $\\alpha_k$\n",
    "    - kontekstualizacija\n",
    "\n",
    "\n",
    "<p style=\"margin-bottom:1cm;\"></p>\n",
    "<div style=\"width:100%;text-align:right;font-weight:bold;font-size:1.2em;\"> 3 </div>\n",
    "<img src=\"https://raw.githubusercontent.com/andrejkk/ORvTK_SlidesImgs/master/footer_full.jpg\">"
   ]
  },
  {
   "cell_type": "code",
   "execution_count": null,
   "metadata": {},
   "outputs": [],
   "source": []
  }
 ],
 "metadata": {
  "celltoolbar": "Slideshow",
  "kernelspec": {
   "display_name": "Python 3",
   "language": "python",
   "name": "python3"
  },
  "language_info": {
   "codemirror_mode": {
    "name": "ipython",
    "version": 3
   },
   "file_extension": ".py",
   "mimetype": "text/x-python",
   "name": "python",
   "nbconvert_exporter": "python",
   "pygments_lexer": "ipython3",
   "version": "3.7.10"
  }
 },
 "nbformat": 4,
 "nbformat_minor": 2
}
