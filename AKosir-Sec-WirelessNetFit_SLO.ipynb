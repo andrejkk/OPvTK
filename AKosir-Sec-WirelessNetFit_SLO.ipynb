{
 "cells": [
  {
   "cell_type": "markdown",
   "metadata": {
    "collapsed": true,
    "slideshow": {
     "slide_type": "slide"
    }
   },
   "source": [
    "<img style=\"float: center; width: 100%\" src=\"https://raw.githubusercontent.com/andrejkk/TalksImgs/master/FrontSlideUpperBan.png\">\n",
    "<p style=\"margin-bottom:2cm;\"></p>\n",
    "\n",
    "<center>\n",
    "    <H1> Prileganje modela brezžičnega omrežja </H1>\n",
    "   \n",
    "\n",
    "\n",
    "<br><br>\n",
    "    <H3> Andrej Košir, Lucami, FE </H3>\n",
    "    <H4> Kontakt: prof. dr. Andrej Košir, andrej.kosir@lucami.fe.uni-lj.si, skype=akosir_sid </H4>\n",
    "</center>\n",
    "\n",
    "\n",
    "<p style=\"margin-bottom:2cm;\"></p>\n",
    "<div style=\"width:100%;text-align:right;font-weight:bold;font-size:1.2em;\"> 1 </div>\n",
    "<img src=\"https://raw.githubusercontent.com/andrejkk/ORvTK_SlidesImgs/master/footer_full.jpg\">"
   ]
  },
  {
   "attachments": {},
   "cell_type": "markdown",
   "metadata": {
    "slideshow": {
     "slide_type": "slide"
    }
   },
   "source": [
    "<div style=\"display:flex;font-weight:bold;font-size:0.9em;\">\n",
    "<div style=\"flex:1;width:50%;text-align:right;\"> Prileganje modela brezžičnega omrežja </div>\n",
    "</div>\n",
    "\n",
    "\n",
    "# ■ Problem in kriterijska funkcija\n",
    "\n",
    "- Model: A. F. Molisch: Wireless Communications, 2nd Edition, Wiley, 2010\n",
    "- Članek: M. Pesko, T. Javornik, V. Luka, A. Košir, M. Štular, M. Mohorčič, _The indirect self-tuning method for constructing radio environment map using omnidirectional or directional transmitter antenna. EURASIP Journal on wireless communications and networking_, 2015.\n",
    "\n",
    "\n",
    "- Problem: \n",
    "    - Napovedi jakosti signala na terenu (sive lise, …)\n",
    "    - Ocene zmogljivosti omrežja \n",
    "    - Načrtovanja omrežja\n",
    "\n",
    "\n",
    "\n",
    "\n",
    "- Rešitev: prileganje modela razširjanja vala z namenom\n",
    "    - Izberemo parametrični model razširjanja signala \n",
    "    $$ \\text{PathLoss}_{dB} (A_0, A_1, A_2, A_3) $$\n",
    "    - Prilegamo ga na realne meritve - kriterijska funkcija:\n",
    "    $$ c((A_0, A_1, A_2, A_3)) = \n",
    "    \\sum_{k=1}^m |\\text{PathLoss}_{dB} (A_0, A_1, A_2, A_3) - \\text{RealLoss}_k|^2  $$\n",
    "\n",
    "\n",
    "\n",
    "\n",
    "- Optimizacijska formulacija\n",
    "  $$ (A_0, A_1, A_2, A_3)^* = argmin_{A_0, A_1, A_2, A_3} c(A_0, A_1, A_2, A_3). $$\n",
    "\n",
    "\n",
    "<p style=\"margin-bottom:1cm;\"></p>\n",
    "<div style=\"width:100%;text-align:right;font-weight:bold;font-size:1.2em;\"> 3 </div>\n",
    "<img src=\"https://raw.githubusercontent.com/andrejkk/ORvTK_SlidesImgs/master/footer_full.jpg\">"
   ]
  },
  {
   "attachments": {},
   "cell_type": "markdown",
   "metadata": {
    "slideshow": {
     "slide_type": "slide"
    }
   },
   "source": [
    "<div style=\"display:flex;font-weight:bold;font-size:0.9em;\">\n",
    "<div style=\"flex:1;width:50%;text-align:right;\"> Prileganje modela brezžičnega omrežja </div>\n",
    "</div>\n",
    "\n",
    "## ■ Model razširjanja vala Okumura–Hata\n",
    "\n",
    "- Model razširjanja vala **Empirical Okumura–Hata (OH)**: \n",
    "    $$ \n",
    "    \\text{PathLoss}_{dB} (A_0, A_1, A_2, A_3) \n",
    "      = HOA(A_0, A_1, A_2, A_3) + mk(q) + \\sqrt{(\\alpha\\text{KDRF})^2 + \\text{JDRF}^2}  $$\n",
    "      \n",
    "    $$ HOA(A_0, A_1, A_2, A_3) = A_0 + A_1\\log(\\frac{d(q)}{10^3})\n",
    "     + A_2\\log(H_{effi}) + A_3\\log(\\frac{d(q)}{10^3})\\log(H_{effi})\n",
    "     - 3.2\\log^2(11.75 hm) + 44.49 \\log(F) - 4.78\\log^2(F).  $$\n",
    "    \n",
    "    \n",
    "    \n",
    "- Oznake:\n",
    "    - $A_0, A_1, A_2, A_3$ so prosti parametri – rezultat optimizacije;\n",
    "    - $H_{effi}$ [m] je efektivna višina oddajne antene\n",
    "    - $mk(q)$ je slabljenje zaradi prekrivanja v dB;\n",
    "    - $\\text{KDRF}$ je izguba na klinasti oviri v dB;\n",
    "    - $\\alpha$ je kontrolni parameter uklona na klinasti oviri\n",
    "    - $JDFR$ je izguba zaradi ukrivljenosti zemlje v dB\n",
    "    - $d(q)$ so razdalje od oddajnika do topografskih točk v metrih\n",
    "    - $hm$ je višina antene\n",
    "    - $F$ je frekvenca oddajanja v MHz\n",
    "\n",
    "\n",
    "- Izvor \n",
    "\n",
    "\n",
    "\n",
    "<p style=\"margin-bottom:1cm;\"></p>\n",
    "<div style=\"width:100%;text-align:right;font-weight:bold;font-size:1.2em;\"> 4 </div>\n",
    "<img src=\"https://raw.githubusercontent.com/andrejkk/ORvTK_SlidesImgs/master/footer_full.jpg\">"
   ]
  },
  {
   "cell_type": "markdown",
   "metadata": {
    "slideshow": {
     "slide_type": "slide"
    }
   },
   "source": [
    "<div style=\"display:flex;font-weight:bold;font-size:0.9em;\">\n",
    "<div style=\"flex:1;width:50%;text-align:right;\"> Prileganje modela brezžičnega omrežja </div>\n",
    "</div>\n",
    "\n",
    "## ■ Reševanje\n",
    "\n",
    "- Genetski algoritem: OK\n",
    "    - Reševanje enačbe $\\vec{\\nabla} c(\\vec{A}) = \\vec{0}$ je privedlo do linearnega sistema enačb\n",
    "    $$ G.\\vec{A} = \\vec{b} $$\n",
    "    - Rešitev \n",
    "    $$(A_0, A_1, A_2, A_3)^* =(37.42,  34.85,  −11.96, −0.091). $$\n",
    "\n",
    "\n",
    "\n",
    "- Nadalje \n",
    "    - Analiza občutljivosti na napake meritev\n",
    "    - Analiza napak – določitev števila potrebnih meritev\n",
    "\n",
    "\n",
    "<p style=\"margin-bottom:1cm;\"></p>\n",
    "<div style=\"width:100%;text-align:right;font-weight:bold;font-size:1.2em;\"> 4 </div>\n",
    "<img src=\"https://raw.githubusercontent.com/andrejkk/ORvTK_SlidesImgs/master/footer_full.jpg\">"
   ]
  },
  {
   "cell_type": "code",
   "execution_count": null,
   "metadata": {},
   "outputs": [],
   "source": []
  }
 ],
 "metadata": {
  "celltoolbar": "Slideshow",
  "kernelspec": {
   "display_name": "Python 3",
   "language": "python",
   "name": "python3"
  },
  "language_info": {
   "codemirror_mode": {
    "name": "ipython",
    "version": 3
   },
   "file_extension": ".py",
   "mimetype": "text/x-python",
   "name": "python",
   "nbconvert_exporter": "python",
   "pygments_lexer": "ipython3",
   "version": "3.7.10"
  }
 },
 "nbformat": 4,
 "nbformat_minor": 2
}
