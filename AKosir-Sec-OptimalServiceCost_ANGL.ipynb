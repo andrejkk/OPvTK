{
 "cells": [
  {
   "attachments": {},
   "cell_type": "markdown",
   "metadata": {
    "collapsed": true,
    "slideshow": {
     "slide_type": "slide"
    }
   },
   "source": [
    "<img style=\"float: center; width: 100%\" src=\"https://raw.githubusercontent.com/andrejkk/TalksImgs/master/FrontSlideUpperBan.png\">\n",
    "<p style=\"margin-bottom:2cm;\"></p>\n",
    "\n",
    "<center>\n",
    "    <H1> Optimal TC service pricing problem </H1>\n",
    "   \n",
    "\n",
    "\n",
    "<br><br>\n",
    "    <H3> Andrej Košir, Lucami, FE </H3>\n",
    "    <H4> Concat: prof. dr. Andrej Košir, andrej.kosir@lucami.fe.uni-lj.si, skype=akosir_sid </H4>\n",
    "</center>\n",
    "\n",
    "\n",
    "<p style=\"margin-bottom:2cm;\"></p>\n",
    "<div style=\"width:100%;text-align:right;font-weight:bold;font-size:1.2em;\"> 1 </div>\n",
    "<img src=\"https://raw.githubusercontent.com/andrejkk/ORvTK_SlidesImgs/master/footer_full.jpg\">"
   ]
  },
  {
   "attachments": {},
   "cell_type": "markdown",
   "metadata": {
    "slideshow": {
     "slide_type": "slide"
    }
   },
   "source": [
    "<div style=\"display:flex;font-weight:bold;font-size:0.9em;\">\n",
    "<div style=\"flex:1;width:50%;text-align:right;\"> Optimal TC service pricing problem </div>\n",
    "</div>\n",
    "\n",
    "## ■ Introduction\n",
    "\n",
    "- Paper: Mustapha Bouhtou and Jean-Robin Medori and Michel Minoux: Mixed Integer Programming model for pricing in telecommunication, 2011.\n",
    "- Yield management\n",
    "- Service cost as a network regulator: dependent on the traffic load\n",
    "\n",
    "\n",
    "\n",
    "- The traffic:\n",
    "\n",
    "<img style=\"float: center; width: 350px; margin: 0px 20px 20px 0px;\" src=\"https://raw.githubusercontent.com/andrejkk/ORvTK_SlidesImgs/master/TelecommunicationTrafic.png\">\n",
    "\n",
    "\n",
    "\n",
    "\n",
    "<p style=\"margin-bottom:1cm;\"></p>\n",
    "<div style=\"width:100%;text-align:right;font-weight:bold;font-size:1.2em;\"> 2 </div>\n",
    "<img src=\"https://raw.githubusercontent.com/andrejkk/ORvTK_SlidesImgs/master/footer_full.jpg\">"
   ]
  },
  {
   "attachments": {},
   "cell_type": "markdown",
   "metadata": {
    "slideshow": {
     "slide_type": "slide"
    }
   },
   "source": [
    "<div style=\"display:flex;font-weight:bold;font-size:0.9em;\">\n",
    "<div style=\"flex:1;width:50%;text-align:right;\"> Optimal TC service pricing problem </div>\n",
    "</div>\n",
    "\n",
    "## ■ Input data and variables\n",
    "\n",
    "\n",
    "- Input data:\n",
    "    - Number of time slots: $n_T$\n",
    "    - Number of load levels: $n_I$\n",
    "    - Load thresholds: $L_i$\n",
    "    - The cost of last interval of the previous day: $p_{-1}$ \n",
    "    - Time dependent load function: $\\rho(k, p_{k-1})$, $k$ time index\n",
    "    - Time dependent demand function: $D(k, p_k)$\n",
    "    - Time dependent revenue function: $R(k, p_k)$\n",
    "\n",
    "    \n",
    "\n",
    "- Variables:\n",
    "    - Price assigned to time slot: $p_k\\in [P_{min}, P_{max}]$\n",
    "    - Price assigned to load level: $[L_{i-1}, L_i]$: $r_i\\in [P_{min}, P_{max}]$, $i$ index of load level;\n",
    "    - Boolean variable $\\beta_i^k=1$ if load at time 𝑘 is in load level $i$ and $0$ otherwise\n",
    "    - Load $\\alpha_i^k$: variable equals to load at $k$ if it is in load level $k$, $0$ otherwise.\n",
    "\n",
    "\n",
    "<p style=\"margin-bottom:1cm;\"></p>\n",
    "<div style=\"width:100%;text-align:right;font-weight:bold;font-size:1.2em;\"> 3 </div>\n",
    "<img src=\"https://raw.githubusercontent.com/andrejkk/ORvTK_SlidesImgs/master/footer_full.jpg\">"
   ]
  },
  {
   "attachments": {},
   "cell_type": "markdown",
   "metadata": {
    "slideshow": {
     "slide_type": "slide"
    }
   },
   "source": [
    "<div style=\"display:flex;font-weight:bold;font-size:0.9em;\">\n",
    "<div style=\"flex:1;width:50%;text-align:right;\"> Optimal TC service pricing problem </div>\n",
    "</div>\n",
    "\n",
    "## ■ Optimization problem \n",
    "\n",
    "\n",
    "Problem\n",
    "$$ \\begin{matrix}\n",
    " & & argmax_{p_k, r_i} \\sum_{k=1}^{n_T-1} R(k, p_k) \\cr \n",
    " & s.t. & \\cr\n",
    " \\end{matrix}\n",
    "$$\n",
    " \n",
    " <center>\n",
    "\n",
    "\n",
    "|  Omejitev | Indeks |\n",
    "|----------------------------------------------------------------------------------------|-------|\n",
    "|  $\\sum_{i=0}^{n_I} \\alpha_i^k = \\rho(k, p_{k-1})$, $\\forall k$                         |  (1)  |\n",
    "| $\\beta_i^k L_{i-1} \\leq \\alpha_i^k \\leq \\beta_i^k L_i$, $\\forall i, k$                 |  (2)  |\n",
    "|  $\\sum_{i=0}^{n_I} \\beta_i^k = 1$, $\\forall k$                                         |  (3)  |\n",
    "|  $(\\beta_i^k-1)M \\leq p_k - r_i \\leq (1-\\beta_i^k)M$, $\\forall i, k$                   |  (4)  |\n",
    "|  $\\beta_{n_I}^{k-1} + \\beta_{n_I}^k \\leq 1$, $\\forall k\\ne 0$                          |  (5)  |\n",
    "|  $\\beta_i^k\\in\\{0, 1\\}$, $\\forall i, k$                                                |  (6)  |\n",
    "|  $\\alpha_i^k \\geq 0$, $\\forall i, k$                                                   |  (7)  |\n",
    "|  $r_i \\in [P_{min}, P_{max}]$, $\\forall i$, $p_k \\in [P_{min}, P_{max}]$, $\\forall k$  |  (8)  |\n",
    "\n",
    "\n",
    "</center>\n",
    "\n",
    "\n",
    "<p style=\"margin-bottom:1cm;\"></p>\n",
    "<div style=\"width:100%;text-align:right;font-weight:bold;font-size:1.2em;\"> 4 </div>\n",
    "<img src=\"https://raw.githubusercontent.com/andrejkk/ORvTK_SlidesImgs/master/footer_full.jpg\">"
   ]
  },
  {
   "attachments": {},
   "cell_type": "markdown",
   "metadata": {
    "slideshow": {
     "slide_type": "slide"
    }
   },
   "source": [
    "<div style=\"display:flex;font-weight:bold;font-size:0.9em;\">\n",
    "<div style=\"flex:1;width:50%;text-align:right;\"> Optimal TC service pricing problem </div>\n",
    "</div>\n",
    "\n",
    "## ■ Explanationa\n",
    "\n",
    "- Cost function: revenue per time period\n",
    "- (1): Constants $\\alpha_i^k$ are equal to true loads\n",
    "- (2): It limits the load to the predefined interval;\n",
    "- (3): At each time exactly one load interval is selected;\n",
    "- (4): Loads are set to true values: $p_k=r_i$;\n",
    "- (5): Prevents congestion in two consequent intervals;\n",
    "- (6): Binary – logical variable $\\beta_i^k$;\n",
    "- (7): Loads are nonnegative \n",
    "- (8): Costs are limited\n",
    "\n",
    "\n",
    "<p style=\"margin-bottom:1cm;\"></p>\n",
    "<div style=\"width:100%;text-align:right;font-weight:bold;font-size:1.2em;\"> 5 </div>\n",
    "<img src=\"https://raw.githubusercontent.com/andrejkk/ORvTK_SlidesImgs/master/footer_full.jpg\">"
   ]
  },
  {
   "attachments": {},
   "cell_type": "markdown",
   "metadata": {
    "slideshow": {
     "slide_type": "slide"
    }
   },
   "source": [
    "<div style=\"display:flex;font-weight:bold;font-size:0.9em;\">\n",
    "<div style=\"flex:1;width:50%;text-align:right;\"> Optimal TC service pricing problem </div>\n",
    "</div>\n",
    "\n",
    "## ■ Model of load\n",
    "\n",
    "Model of load and revenue:\n",
    "    - Load goes down with increasing price: $\\rho(k, p_{k-1}) = d_k - c_k p_{k-1}$\n",
    "    - Revenue $R(k, p_k) = D(p_k) p_k = b_k p_k - a_k p_k^2$\n",
    "\n",
    "\n",
    "- Predefine time intervals and levels of load:\n",
    "    - Time intervals: $[0,t_0=6]$, $[6,t_1=18]$, $[18,t_2=24]$;\n",
    "    - Intervals of load: $[0, L_1=10]$, $[10, L_2=30]$, $[30, L_3=50]$, $[50, \\infty)$;\n",
    "\n",
    "\n",
    "- Model parameters:\n",
    "\n",
    "|  inter. $k$  |  $a_k$  |  $b_k$  |  $c_k$  |  $d_k$  |\n",
    "|--------------|---------|---------|---------|---------|\n",
    "| $0$          | $10$    | $20$    | $6$     | $12$    |\n",
    "| $1$          | $15$    | $25$    | $8$     | $16$    |\n",
    "| $2$          | $12$    | $22$    | $7$     | $11$    |\n",
    "\n",
    "\n",
    "- Omejitve cene: $P_{min}=30$, $P_{max}=90$\n",
    "- „Big M“ $M=10000$\n",
    "\n",
    "\n",
    "\n",
    "\n",
    "\n",
    "<p style=\"margin-bottom:1cm;\"></p>\n",
    "<div style=\"width:100%;text-align:right;font-weight:bold;font-size:1.2em;\"> 6 </div>\n",
    "<img src=\"https://raw.githubusercontent.com/andrejkk/ORvTK_SlidesImgs/master/footer_full.jpg\">"
   ]
  },
  {
   "attachments": {},
   "cell_type": "markdown",
   "metadata": {
    "slideshow": {
     "slide_type": "slide"
    }
   },
   "source": [
    "<div style=\"display:flex;font-weight:bold;font-size:0.9em;\">\n",
    "<div style=\"flex:1;width:50%;text-align:right;\"> Optimal TC service pricing problem </div>\n",
    "</div>\n",
    "\n",
    "## ■ Results\n",
    "\n",
    "- Results:\n",
    "\n",
    "| $p_0=90$ | $p_1=90$ | $p_2=90$ |\n",
    "|----------|----------|----------|\n",
    "| $r_0=90$ | $r_1=90$ | $r_2=90$ |\n",
    "\n",
    "\n",
    "\n",
    "\n",
    "\n",
    "<p style=\"margin-bottom:1cm;\"></p>\n",
    "<div style=\"width:100%;text-align:right;font-weight:bold;font-size:1.2em;\"> 7 </div>\n",
    "<img src=\"https://raw.githubusercontent.com/andrejkk/ORvTK_SlidesImgs/master/footer_full.jpg\">"
   ]
  },
  {
   "attachments": {},
   "cell_type": "markdown",
   "metadata": {},
   "source": []
  }
 ],
 "metadata": {
  "celltoolbar": "Slideshow",
  "kernelspec": {
   "display_name": "Python 3",
   "language": "python",
   "name": "python3"
  },
  "language_info": {
   "codemirror_mode": {
    "name": "ipython",
    "version": 3
   },
   "file_extension": ".py",
   "mimetype": "text/x-python",
   "name": "python",
   "nbconvert_exporter": "python",
   "pygments_lexer": "ipython3",
   "version": "3.10.5"
  },
  "vscode": {
   "interpreter": {
    "hash": "66d245bc0aa345411577de3f292b9e6a6906f0558af2a59212c3c2455e5d14f2"
   }
  }
 },
 "nbformat": 4,
 "nbformat_minor": 2
}
