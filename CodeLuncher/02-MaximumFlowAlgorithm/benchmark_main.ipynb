{
 "cells": [
  {
   "cell_type": "markdown",
   "metadata": {
    "slideshow": {
     "slide_type": "slide"
    }
   },
   "source": [
    "<div style=\"display:flex;font-weight:bold;font-size:0.9em;\">\n",
    "</div>\n",
    "\n",
    "\n",
    "## Maximum flow algorithm\n",
    "\n",
    "### Basics\n",
    "\n",
    "\n",
    "This is a benchmarks (test dataa) generator for Maximum flow algorithm based on Python library Networkx (https://networkx.org/). Generated benchmarks can be directly used in Shortest path algorithm learning and testing or stored into the file. \n",
    "\n",
    "Currently supported options are liste bellow.\n",
    "\n",
    "\n",
    "### How to run\n",
    "\n",
    "1. Run next cell where you select benchmark (input data) to the algorithm\n",
    "    + main function returns the benchmark\n",
    "    + if you set saveQ = True, it saves the benchmark into ./Data subfolder as a GraphML file\n",
    "    \n",
    "    \n",
    "2. How to select benchmark - supported options are:\n",
    "    + Custom_5: Simple custom graph to test the algorithm\n",
    "        - key: 'Custom_5'\n",
    "        - configuration: none\n",
    "        - list of parameters: example params_lst = ['Custom_5', plotQ]\n",
    "    + Full graph $K_n$:\n",
    "        - key: 'K_n'\n",
    "        - configuration: number of points n\n",
    "        - list of parameters: params_lst = ['K_n', n, plotQ]\n",
    "        - example params_lst = ['K_n', 4, plotQ]\n",
    "    + Random graph: random graph\n",
    "        - key: 'RND'\n",
    "        - configuration:\n",
    "            + number of nodes: n\n",
    "            + prob. of edge creation: p\n",
    "        - list of parameters: params_lst = ['RND', n, p, plotQ]    \n",
    "        - example params_lst = ['RND', 6, 0.3, plotQ]\n",
    "    \n",
    "\n",
    "\n",
    "\n",
    "### Notes\n",
    "\n",
    "1. The development can be done in Jupyter or any Python environment. The only adaptation is to build the Notebook cell with main function as given bellow\n",
    "2. Questions at _andrej.kosir@fe.uni-lj.si_\n",
    "\n",
    "\n",
    "\n",
    "<p style=\"margin-bottom:1cm;\"></p>\n",
    "<div style=\"width:100%;text-align:right;font-weight:bold;font-size:1.2em;\"> 2 </div>\n",
    "<img src=\"https://raw.githubusercontent.com/andrejkk/ORvTK_SlidesImgs/master/footer_full.jpg\">"
   ]
  },
  {
   "cell_type": "code",
   "execution_count": 5,
   "metadata": {},
   "outputs": [
    {
     "data": {
      "text/plain": [
       "(<networkx.classes.digraph.DiGraph at 0x1af36499b20>, 0, 5)"
      ]
     },
     "execution_count": 5,
     "metadata": {},
     "output_type": "execute_result"
    }
   ],
   "source": [
    "# Code Luncher\n",
    "\n",
    "import numpy as np\n",
    "import pandas as pd\n",
    "import networkx as nx\n",
    "\n",
    "import algorithm as alg\n",
    "import benchmark as bnc\n",
    "\n",
    "\n",
    "\n",
    "# Main function\n",
    "def main():\n",
    "    \n",
    "    \n",
    "    # Get benchmark - test graph\n",
    "    plotQ = False\n",
    "    saveQ = False\n",
    "    #params_lst = ['Custom_5', plotQ]\n",
    "    #params_lst = ['K_n', 4, plotQ]\n",
    "    params_lst = ['RND', 6, 0.3, plotQ]\n",
    "    \n",
    "    G, s_v, t_v = bnc.get_maximalFlowAlg_benchmark(params_lst)\n",
    "\n",
    "    \n",
    "    # Save to file\n",
    "    if saveQ:\n",
    "        nx.write_graphml(G, './Data')\n",
    "    \n",
    "    return G, s_v, t_v\n",
    "        \n",
    "# Run main\n",
    "main()"
   ]
  },
  {
   "cell_type": "code",
   "execution_count": null,
   "metadata": {},
   "outputs": [],
   "source": []
  }
 ],
 "metadata": {
  "celltoolbar": "Slideshow",
  "kernelspec": {
   "display_name": "Python 3 (ipykernel)",
   "language": "python",
   "name": "python3"
  },
  "language_info": {
   "codemirror_mode": {
    "name": "ipython",
    "version": 3
   },
   "file_extension": ".py",
   "mimetype": "text/x-python",
   "name": "python",
   "nbconvert_exporter": "python",
   "pygments_lexer": "ipython3",
   "version": "3.9.7"
  }
 },
 "nbformat": 4,
 "nbformat_minor": 2
}
