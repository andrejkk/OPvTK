{
 "cells": [
  {
   "cell_type": "markdown",
   "metadata": {
    "slideshow": {
     "slide_type": "slide"
    }
   },
   "source": [
    "<div style=\"display:flex;font-weight:bold;font-size:0.9em;\">\n",
    "</div>\n",
    "\n",
    "\n",
    "## Shortest path algorithm\n",
    "\n",
    "### Basics\n",
    "\n",
    "Shortest path algorithm finds the shortest (cheapest if distances are costs) path in a directed graph $G=(V,E)$ from the starting node $s\\in V$ to the termination node $t\\in V$ with respect to distances of edges $d: E \\to \\mathbf{R}_+$. \n",
    "\n",
    "Excelent reference to the shortest path problem and algorithm is Wikipedia page https://en.wikipedia.org/wiki/Shortest_path_problem. \n",
    "\n",
    "The reference to the Python library Networkx containg the algorithm implementation is https://networkx.org/.\n",
    "<img src=\"./NetworkX.png\" width=\"300\"/>\n",
    "\n",
    "\n",
    "\n",
    "### How to run\n",
    "\n",
    "1. Run next cell where you select benchmark (input data) to the algorithm\n",
    "    - set plotQ to False if you do not want to plot results\n",
    "    - uncomment the benchmark option and configure it (see below)\n",
    "2. How to select benchmark - supported options are:\n",
    "    + Custom_5: Simple custom graph to test the algorithm\n",
    "        - key: 'Custom_5'\n",
    "        - configuration: none\n",
    "        - list of parameters: example params_lst = ['Custom_5', plotQ]\n",
    "    + Full graph $K_n$:\n",
    "        - key: 'K_n'\n",
    "        - configuration: number of points n\n",
    "        - list of parameters: params_lst = ['K_n', n, plotQ]\n",
    "        - example params_lst = ['K_n', 4, plotQ]\n",
    "\n",
    "    \n",
    "\n",
    "\n",
    "### Notes\n",
    "\n",
    "1. The development can be done in Jupyter or any Python environment. The only adaptation is to build the Notebook cell with main function as given bellow\n",
    "2. Questions at _andrej.kosir@fe.uni-lj.si_\n",
    "\n",
    "\n",
    "\n",
    "<p style=\"margin-bottom:1cm;\"></p>\n",
    "<div style=\"width:100%;text-align:right;font-weight:bold;font-size:1.2em;\"> 2 </div>\n",
    "<img src=\"https://raw.githubusercontent.com/andrejkk/ORvTK_SlidesImgs/master/footer_full.jpg\">"
   ]
  },
  {
   "cell_type": "code",
   "execution_count": 6,
   "metadata": {},
   "outputs": [
    {
     "name": "stdout",
     "output_type": "stream",
     "text": [
      "Correct:  True\n"
     ]
    },
    {
     "data": {
      "text/plain": [
       "True"
      ]
     },
     "execution_count": 6,
     "metadata": {},
     "output_type": "execute_result"
    }
   ],
   "source": [
    "# Code Luncher\n",
    "\n",
    "import numpy as np\n",
    "import pandas as pd\n",
    "import networkx as nx\n",
    "\n",
    "import algorithm as alg\n",
    "import benchmark as bnc\n",
    "\n",
    "# Main function\n",
    "def main():\n",
    "    \n",
    "    \n",
    "    # Get benchmark - test graph\n",
    "    plotQ = False\n",
    "    #params_lst = ['Custom_5', plotQ]\n",
    "    params_lst = ['K_n', 8, plotQ]\n",
    "    \n",
    "    \n",
    "    G, s_v, t_v = bnc.get_shortestPathAlg_benchmark(params_lst)\n",
    "\n",
    "    \n",
    "    # Run algorithm: get shortest path\n",
    "    algorithm = 'bellman-ford' #'dijkstra'\n",
    "    shortest_p = alg.get_ShortestPath(G, s_v, t_v, algorithm)\n",
    "    \n",
    "    \n",
    "    # Plot plot solution\n",
    "    if plotQ:\n",
    "        pos=nx.planar_layout(G)\n",
    "        path_edges = list(zip(shortest_p,shortest_p[1:]))\n",
    "        nx.draw_networkx_edges(G,pos,edgelist=path_edges,edge_color='r',width=3)\n",
    "    \n",
    "    \n",
    "    # Check if correct\n",
    "    correctQ = alg.is_correctQ(G, s_v, t_v, shortest_p)\n",
    "        \n",
    "    print ('Correct: ',  correctQ)   \n",
    "        \n",
    "    \n",
    "    return correctQ\n",
    "        \n",
    "# Run main\n",
    "main()"
   ]
  },
  {
   "cell_type": "code",
   "execution_count": null,
   "metadata": {},
   "outputs": [],
   "source": []
  }
 ],
 "metadata": {
  "celltoolbar": "Slideshow",
  "kernelspec": {
   "display_name": "Python 3 (ipykernel)",
   "language": "python",
   "name": "python3"
  },
  "language_info": {
   "codemirror_mode": {
    "name": "ipython",
    "version": 3
   },
   "file_extension": ".py",
   "mimetype": "text/x-python",
   "name": "python",
   "nbconvert_exporter": "python",
   "pygments_lexer": "ipython3",
   "version": "3.9.7"
  }
 },
 "nbformat": 4,
 "nbformat_minor": 2
}
