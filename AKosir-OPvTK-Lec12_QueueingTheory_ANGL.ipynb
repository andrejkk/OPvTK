{
 "cells": [
  {
   "cell_type": "markdown",
   "metadata": {
    "collapsed": true,
    "slideshow": {
     "slide_type": "slide"
    }
   },
   "source": [
    "<img style=\"float: center; width: 100%\" src=\"https://raw.githubusercontent.com/andrejkk/TalksImgs/master/FrontSlideUpperBan.png\">\n",
    "<p style=\"margin-bottom:2cm;\"></p>\n",
    "\n",
    "<center>\n",
    "    <H1> 12. Theory and application of Queuing theory </H1>\n",
    "   \n",
    "\n",
    "\n",
    "<br><br>\n",
    "    <H3> Andrej Košir, Lucami, FE </H3>\n",
    "    <H4> Kontakt: prof. dr. Andrej Košir, andrej.kosir@lucami.fe.uni-lj.si, skype=akosir_sid </H4>\n",
    "</center>\n",
    "\n",
    "\n",
    "<p style=\"margin-bottom:2cm;\"></p>\n",
    "<div style=\"width:100%;text-align:right;font-weight:bold;font-size:1.2em;\"> 1 </div>\n",
    "<img src=\"https://raw.githubusercontent.com/andrejkk/ORvTK_SlidesImgs/master/footer_full.jpg\">"
   ]
  },
  {
   "cell_type": "markdown",
   "metadata": {
    "collapsed": true,
    "slideshow": {
     "slide_type": "slide"
    }
   },
   "source": [
    "## ■ Content, goals\n",
    "\n",
    "\n",
    "- Goals:\n",
    "    - Getting to know queuing theory \n",
    "    - Kendall‘s notation\n",
    "    - Basic analysis\n",
    "\n",
    "\n",
    "- Applications in TC\n",
    "    - Queuing network is a model for a series of buffers\n",
    "    - TC Services and waiting times \n",
    "    - Managing queuing network \n",
    "\n",
    "\n",
    "- Outside TC\n",
    "    - Computer architecture networks (HD, processor, ...)\n",
    "    - Traffic\n",
    "    - Public services (health, …)\n",
    "\n",
    "\n",
    "\n",
    "<p style=\"margin-bottom:2cm;\"></p>\n",
    "<div style=\"width:100%;text-align:right;font-weight:bold;font-size:1.2em;\"> 2 </div>\n",
    "<img src=\"https://raw.githubusercontent.com/andrejkk/ORvTK_SlidesImgs/master/footer_full.jpg\">"
   ]
  },
  {
   "cell_type": "markdown",
   "metadata": {
    "collapsed": true,
    "slideshow": {
     "slide_type": "slide"
    }
   },
   "source": [
    "## 12. Theory and application of Queuing theory\n",
    "\n",
    "\n",
    "12.1. Introduction\n",
    "\n",
    "■ What is Queuing theory\n",
    "\n",
    "■ History\n",
    "\n",
    "■ Use of queues in ICT\n",
    "\n",
    "■ Important probability distributions\n",
    "\n",
    "\n",
    "12.2. Model and Kendall's notation\n",
    "\n",
    "■ Single queue model $\\large{*}$\n",
    "\n",
    "■ Event sequence in a queuing system\n",
    "\n",
    "■ Standard description : Kendall's notation $\\large{*}$\n",
    "\n",
    "■ Kendall's notation of multiple queues\n",
    "\n",
    "■ Arrival / Serving time distribution $\\large{*}$\n",
    "\n",
    "■ Serving time sequence\n",
    "\n",
    "■ Examples of queuing systems\n",
    "\n",
    "■ Analysis M/M/1 $\\large{*}$\n",
    "\n",
    "■ Example M/M/1: packet data transfer\n",
    "\n",
    "■ Example M/M/1: web server\n",
    "\n",
    "■ Queuing system M/G/1\n",
    "\n",
    "■ Selecting queuing model in a realistic example $\\large{*}$\n",
    "\n",
    "\n",
    "12.3. Server system algorithms\n",
    "\n",
    "■ Optimal algorithms for multiple queues \n",
    "\n",
    "■ Example: Weighted Round Robin algorithm $\\large{*}$\n",
    "\n",
    "■ Queue management algorithms\n",
    "\n",
    "■ Example: Random early detection algorithm $\\large{*}$\n",
    "\n",
    "\n",
    "\n",
    "\n",
    "<p style=\"margin-bottom:2cm;\"></p>\n",
    "<div style=\"width:100%;text-align:right;font-weight:bold;font-size:1.2em;\"> 3 </div>\n",
    "<img src=\"https://raw.githubusercontent.com/andrejkk/ORvTK_SlidesImgs/master/footer_full.jpg\">"
   ]
  },
  {
   "cell_type": "markdown",
   "metadata": {
    "collapsed": true,
    "slideshow": {
     "slide_type": "slide"
    }
   },
   "source": [
    "<div style=\"display:flex;font-weight:bold;font-size:0.9em;\">\n",
    "<div style=\"flex:1;width:50%;\"> 12. Theory and application of Queuing theory  </div>\n",
    "<div style=\"flex:1;width:50%;text-align:right;\"> 12.1. Introduction </div>\n",
    "</div>\n",
    "\n",
    "## ■ What is Queuing theory\n",
    "\n",
    "\n",
    "- Several aspects of description:\n",
    "    - TC: „We study the phenomena of standing, waiting, and serving, and we call this study Queuing Theory“;\n",
    "    - System theory. „The basic phenomenon of queuing arises whenever a shared facility needs to be accessed for service by a large number of jobs or customers“;\n",
    "    - Math – prob. Theory: „The study of the waiting times, lengths, and other properties of queues.“\n",
    "\n",
    "\n",
    "- We need basic tools for description, analysis and prediction regarding real systems in order to manage it: \n",
    "    - Mathematical model\n",
    "    - Parametrization $\\to$ configuration of real systems\n",
    "\n",
    "\n",
    "<p style=\"margin-bottom:2cm;\"></p>\n",
    "<div style=\"width:100%;text-align:right;font-weight:bold;font-size:1.2em;\"> 4 </div>\n",
    "<img src=\"https://raw.githubusercontent.com/andrejkk/ORvTK_SlidesImgs/master/footer_full.jpg\">"
   ]
  },
  {
   "cell_type": "markdown",
   "metadata": {
    "collapsed": true,
    "slideshow": {
     "slide_type": "slide"
    }
   },
   "source": [
    "<div style=\"display:flex;font-weight:bold;font-size:0.9em;\">\n",
    "<div style=\"flex:1;width:50%;\"> 12. Theory and application of Queuing theory  </div>\n",
    "<div style=\"flex:1;width:50%;text-align:right;\"> 12.1. Introduction </div>\n",
    "</div>\n",
    "\n",
    "## ■ History\n",
    "\n",
    "\n",
    "- 1909: A. K. Erlang: telephony\n",
    "- 1931: Andrey Kolmogorov: Probability theory and queuing systems\n",
    "- 1932: Alexander Khinchin: Probability theory and queuing systems\n",
    "- 1951: David G. Kendall: Paper \"Some Problems in the Theory of Queues\n",
    "- 1961: John Little: Expected serving time\n",
    "- 1981: Marcel Netus: Matrix methods\n",
    "\n",
    "\n",
    "\n",
    "<p style=\"margin-bottom:2cm;\"></p>\n",
    "<div style=\"width:100%;text-align:right;font-weight:bold;font-size:1.2em;\"> 5 </div>\n",
    "<img src=\"https://raw.githubusercontent.com/andrejkk/ORvTK_SlidesImgs/master/footer_full.jpg\">"
   ]
  },
  {
   "cell_type": "markdown",
   "metadata": {
    "collapsed": true,
    "slideshow": {
     "slide_type": "slide"
    }
   },
   "source": [
    "<div style=\"display:flex;font-weight:bold;font-size:0.9em;\">\n",
    "<div style=\"flex:1;width:50%;\"> 12. Theory and application of Queuing theory  </div>\n",
    "<div style=\"flex:1;width:50%;text-align:right;\"> 12.1. Introduction </div>\n",
    "</div>\n",
    "\n",
    "## ■ Use of queuing systems in ICT\n",
    "\n",
    "\n",
    "- TC network is a series of channels and queues\n",
    "\n",
    "\n",
    "- Queuing theory offers:\n",
    "    - Estimation of waiting times \n",
    "    - Required queue size\n",
    "    - Long term expected system status\n",
    "    - Probability of packet loss\n",
    "    - Internal protocol mechanisms: RED\n",
    "    - Estimation of TC system capacity\n",
    "\n",
    "\n",
    "- Terminology:\n",
    "    - Packet= IP packet, job, …\n",
    "    - Queue\n",
    "    - Queuing system: queue + server\n",
    "\n",
    "\n",
    "<p style=\"margin-bottom:2cm;\"></p>\n",
    "<div style=\"width:100%;text-align:right;font-weight:bold;font-size:1.2em;\"> 6 </div>\n",
    "<img src=\"https://raw.githubusercontent.com/andrejkk/ORvTK_SlidesImgs/master/footer_full.jpg\">"
   ]
  },
  {
   "cell_type": "markdown",
   "metadata": {
    "collapsed": true,
    "slideshow": {
     "slide_type": "slide"
    }
   },
   "source": [
    "<div style=\"display:flex;font-weight:bold;font-size:0.9em;\">\n",
    "<div style=\"flex:1;width:50%;\"> 12. Theory and application of Queuing theory  </div>\n",
    "<div style=\"flex:1;width:50%;text-align:right;\"> 12.1. Introduction </div>\n",
    "</div>\n",
    "\n",
    "## ■ Important probability distributions\n",
    "\n",
    "\n",
    "- Poisson distribution:\n",
    "    - Number of packets $𝑘$ at a given time interval when an average number of packets is $\\lambda$\n",
    "    - Distribution\n",
    "    $$ p(k; \\lambda) = \\frac{\\lambda^k}{k!} e^{-\\lambda} $$\n",
    "\n",
    "\n",
    "- Exponential distribution: \n",
    "    - Inter arrival times are exponential: \n",
    "    - Distrib. density:\n",
    "    $$ p(t; \\lambda) = \\left\\{\\matrix{\\lambda e^{-\\lambda t}, & t \\geq 0 \\cr\n",
    " 0, \\hfill & t < 0.}\\right. $$\n",
    "\n",
    "\n",
    "- Erlang distribution:\n",
    "    - Distribution of service times for 𝑘 servers where 𝑅=𝑘𝜆;\n",
    "    - Distrib. density.: \n",
    "    $$ p(t; k, R) = \\left\\{\\matrix{\\frac{R(R t)^{k-1}}{(k-1)!} e^{-R t}, & t \\geq 0 \\cr\n",
    " 0, \\hfill & t < 0.}\\right. $$\n",
    "\n",
    "\n",
    "<img style=\"float: right; width: 300px; margin: 0px 20px 20px 0px;\" src=\"https://raw.githubusercontent.com/andrejkk/ORvTK_SlidesImgs/master/Queuing_ExpDistr.png\">\n",
    "\n",
    "\n",
    "<p style=\"margin-bottom:8cm;\"></p>\n",
    "<div style=\"width:100%;text-align:right;font-weight:bold;font-size:1.2em;\"> 7 </div>\n",
    "<img src=\"https://raw.githubusercontent.com/andrejkk/ORvTK_SlidesImgs/master/footer_full.jpg\">"
   ]
  },
  {
   "cell_type": "markdown",
   "metadata": {
    "collapsed": true,
    "slideshow": {
     "slide_type": "slide"
    }
   },
   "source": [
    "<div style=\"display:flex;font-weight:bold;font-size:0.9em;\">\n",
    "<div style=\"flex:1;width:50%;\"> 12. Theory and application of Queuing theory  </div>\n",
    "<div style=\"flex:1;width:50%;text-align:right;\"> 12.2. Model and Kendall's notation </div>\n",
    "</div>\n",
    "\n",
    "## 12.2. Model and Kendall's notation\n",
    "\n",
    "\n",
    "■ Single queue model\n",
    "\n",
    "■ Event sequence in a queuing system\n",
    "\n",
    "■ Standard description : Kendall's notation\n",
    "\n",
    "■ Kendall's notation of multiple queues\n",
    "\n",
    "■ Arrival / Serving time distribution\n",
    "\n",
    "■ Serving time sequence\n",
    "\n",
    "■ Examples of queuing systems\n",
    "\n",
    "■ Analysis M/M/1\n",
    "\n",
    "■ Example M/M/1: packet data transfer\n",
    "\n",
    "■ Example M/M/1: web server\n",
    "\n",
    "■ Queuing system M/G/1\n",
    "\n",
    "■ Selecting queuing model in a realistic example\n",
    "\n",
    "\n",
    "\n",
    "<p style=\"margin-bottom:2cm;\"></p>\n",
    "<div style=\"width:100%;text-align:right;font-weight:bold;font-size:1.2em;\"> 8 </div>\n",
    "<img src=\"https://raw.githubusercontent.com/andrejkk/ORvTK_SlidesImgs/master/footer_full.jpg\">"
   ]
  },
  {
   "cell_type": "markdown",
   "metadata": {
    "collapsed": true,
    "slideshow": {
     "slide_type": "slide"
    }
   },
   "source": [
    "<div style=\"display:flex;font-weight:bold;font-size:0.9em;\">\n",
    "<div style=\"flex:1;width:50%;\"> 12. Theory and application of Queuing theory  </div>\n",
    "<div style=\"flex:1;width:50%;text-align:right;\"> 12.2. Model and Kendall's notation </div>\n",
    "</div>\n",
    "\n",
    "## ■ Single queue model\n",
    "\n",
    "\n",
    "<br><br>\n",
    "\n",
    "<img style=\"float: right; width: 400px; margin: 0px 20px 20px 0px;\" src=\"https://raw.githubusercontent.com/andrejkk/ORvTK_SlidesImgs/master/Queuing_QueueingSystemSingle_ang.png\">\n",
    "\n",
    "\n",
    "\n",
    "<p style=\"margin-bottom:5cm;\"></p>\n",
    "<div style=\"width:100%;text-align:right;font-weight:bold;font-size:1.2em;\"> 9 </div>\n",
    "<img src=\"https://raw.githubusercontent.com/andrejkk/ORvTK_SlidesImgs/master/footer_full.jpg\">"
   ]
  },
  {
   "cell_type": "markdown",
   "metadata": {
    "collapsed": true,
    "slideshow": {
     "slide_type": "slide"
    }
   },
   "source": [
    "<div style=\"display:flex;font-weight:bold;font-size:0.9em;\">\n",
    "<div style=\"flex:1;width:50%;\"> 12. Theory and application of Queuing theory  </div>\n",
    "<div style=\"flex:1;width:50%;text-align:right;\"> 12.2. Model and Kendall's notation </div>\n",
    "</div>\n",
    "\n",
    "## ■ Event sequence in a queuing system\n",
    "\n",
    "\n",
    "<br><br>\n",
    "\n",
    "<img style=\"float: right; width: 500px; margin: 0px 20px 20px 0px;\" src=\"https://raw.githubusercontent.com/andrejkk/ORvTK_SlidesImgs/master/Queuing_EventSchedule_eng.png\">\n",
    "\n",
    "\n",
    "\n",
    "<p style=\"margin-bottom:10cm;\"></p>\n",
    "<div style=\"width:100%;text-align:right;font-weight:bold;font-size:1.2em;\"> 10 </div>\n",
    "<img src=\"https://raw.githubusercontent.com/andrejkk/ORvTK_SlidesImgs/master/footer_full.jpg\">"
   ]
  },
  {
   "cell_type": "markdown",
   "metadata": {
    "collapsed": true,
    "slideshow": {
     "slide_type": "slide"
    }
   },
   "source": [
    "<div style=\"display:flex;font-weight:bold;font-size:0.9em;\">\n",
    "<div style=\"flex:1;width:50%;\"> 12. Theory and application of Queuing theory  </div>\n",
    "<div style=\"flex:1;width:50%;text-align:right;\"> 12.2. Model and Kendall's notation </div>\n",
    "</div>\n",
    "\n",
    "## ■ Standard description : Kendall's notation\n",
    "\n",
    "\n",
    "- Notation A/B/C(/D/E/F)\n",
    "    - A: distribution arrival times;\n",
    "    - B: distribution service times;\n",
    "    - C: Number of servers\n",
    "    - D: Total memory available (∞ if not given)\n",
    "    - E: Population size (∞ if not given)\n",
    "    - F: Serving time sequence (FCFS if not given)\n",
    "\n",
    "\n",
    "- Figure\n",
    "\n",
    "\n",
    "<img style=\"float: right; width: 300px; margin: 0px 20px 20px 0px;\" src=\"https://raw.githubusercontent.com/andrejkk/ORvTK_SlidesImgs/master/Queuing_QueuingMutipleServs.png\">\n",
    "\n",
    "\n",
    "<p style=\"margin-bottom:10cm;\"></p>\n",
    "<div style=\"width:100%;text-align:right;font-weight:bold;font-size:1.2em;\"> 11 </div>\n",
    "<img src=\"https://raw.githubusercontent.com/andrejkk/ORvTK_SlidesImgs/master/footer_full.jpg\">"
   ]
  },
  {
   "cell_type": "markdown",
   "metadata": {
    "collapsed": true,
    "slideshow": {
     "slide_type": "slide"
    }
   },
   "source": [
    "<div style=\"display:flex;font-weight:bold;font-size:0.9em;\">\n",
    "<div style=\"flex:1;width:50%;\"> 12. Theory and application of Queuing theory  </div>\n",
    "<div style=\"flex:1;width:50%;text-align:right;\"> 12.2. Model and Kendall's notation </div>\n",
    "</div>\n",
    "\n",
    "## ■ Kendall's notation of multiple queues\n",
    "\n",
    "\n",
    "- Several queues or several servers? \n",
    "\n",
    "\n",
    "- Generalization of theory, for example 5 A/B/C(/D/E/F)\n",
    "    - Complicated theory\n",
    "    - Basics can be concluded from single server system\n",
    "\n",
    "\n",
    "\n",
    "<img style=\"float: right; width: 300px; margin: 0px 20px 20px 0px;\" src=\"https://raw.githubusercontent.com/andrejkk/ORvTK_SlidesImgs/master/Queuing_QueuingMultipleQuServs.png\">\n",
    "\n",
    "\n",
    "\n",
    "<p style=\"margin-bottom:6cm;\"></p>\n",
    "<div style=\"width:100%;text-align:right;font-weight:bold;font-size:1.2em;\"> 12 </div>\n",
    "<img src=\"https://raw.githubusercontent.com/andrejkk/ORvTK_SlidesImgs/master/footer_full.jpg\">"
   ]
  },
  {
   "cell_type": "markdown",
   "metadata": {
    "collapsed": true,
    "slideshow": {
     "slide_type": "slide"
    }
   },
   "source": [
    "<div style=\"display:flex;font-weight:bold;font-size:0.9em;\">\n",
    "<div style=\"flex:1;width:50%;\"> 12. Theory and application of Queuing theory  </div>\n",
    "<div style=\"flex:1;width:50%;text-align:right;\"> 12.2. Model and Kendall's notation </div>\n",
    "</div>\n",
    "\n",
    "## ■ Arrival / Serving time distribution\n",
    "\n",
    "- Arrival time distribution \n",
    "    - $D$: Deterministic\n",
    "    - $M$: Exponential distribution (Poisson traffic)\n",
    "    - $E_k$: Erlang of shape 𝑘\n",
    "    - $H_k$: Hypherexponential of type 𝑘\n",
    "    - $Gl$: General (unknown or not listed above)\n",
    "\n",
    "\n",
    "- Serving time distribution \n",
    "    - $D$: Deterministic\n",
    "    - $N$: Normal (Gauss)\n",
    "    - $M$: Exponential distribution\n",
    "    - $E_k$: Erlang of shape 𝑘\n",
    "    - $H_k$: Hypherexponential of type 𝑘\n",
    "    - $Gl$: General (unknown or not listed above)\n",
    "\n",
    "\n",
    "<p style=\"margin-bottom:2cm;\"></p>\n",
    "<div style=\"width:100%;text-align:right;font-weight:bold;font-size:1.2em;\"> 13 </div>\n",
    "<img src=\"https://raw.githubusercontent.com/andrejkk/ORvTK_SlidesImgs/master/footer_full.jpg\">"
   ]
  },
  {
   "cell_type": "markdown",
   "metadata": {
    "collapsed": true,
    "slideshow": {
     "slide_type": "slide"
    }
   },
   "source": [
    "<div style=\"display:flex;font-weight:bold;font-size:0.9em;\">\n",
    "<div style=\"flex:1;width:50%;\"> 12. Theory and application of Queuing theory  </div>\n",
    "<div style=\"flex:1;width:50%;text-align:right;\"> 12.2. Model and Kendall's notation </div>\n",
    "</div>\n",
    "\n",
    "## ■ Serving strategies\n",
    "\n",
    "\n",
    "- FIFO: First In - First Out\n",
    "- LIFO: Last In – First Out\n",
    "- SIRO: Service In Random Order\n",
    "- TS: time sharing: users are sharing server time\n",
    "- PIR: Priority in selection: according to Service level agreement, SLA\n",
    "- GD: General: anything else \n",
    "\n",
    "\n",
    "<p style=\"margin-bottom:2cm;\"></p>\n",
    "<div style=\"width:100%;text-align:right;font-weight:bold;font-size:1.2em;\"> 14 </div>\n",
    "<img src=\"https://raw.githubusercontent.com/andrejkk/ORvTK_SlidesImgs/master/footer_full.jpg\">"
   ]
  },
  {
   "cell_type": "markdown",
   "metadata": {
    "collapsed": true,
    "slideshow": {
     "slide_type": "slide"
    }
   },
   "source": [
    "<div style=\"display:flex;font-weight:bold;font-size:0.9em;\">\n",
    "<div style=\"flex:1;width:50%;\"> 12. Theory and application of Queuing theory  </div>\n",
    "<div style=\"flex:1;width:50%;text-align:right;\"> 12.2. Model and Kendall's notation </div>\n",
    "</div>\n",
    "\n",
    "## ■ Examples of queuing systems\n",
    "\n",
    "\n",
    "- M/M/1: - simplest realistic case \n",
    "    - Poisson distribution of packet arrivals\n",
    "    - Exponential distribution of service times\n",
    "    - Single server\n",
    "\n",
    "\n",
    "- M/D/m: classic telephony\n",
    "    - Poisson distribution of packet arrivals\n",
    "    - Deterministic serving times\n",
    "    - $m$ servers\n",
    "\n",
    "\n",
    "- M/G/1: Hard disk\n",
    "\n",
    "\n",
    "- G/G/m: real web server:  \n",
    "    - A network of waiting queues is required\n",
    "    - Model parameters: Network Arrival Rate (A), Average File Size (F), Buffer Size (B),  Initialization Time (I), Static Server Time (Y), Dynamic Server Rate (R), Server Network Bandwidth (S), Client Network Bandwidth (C)\n",
    "\n",
    "\n",
    "\n",
    "<p style=\"margin-bottom:2cm;\"></p>\n",
    "<div style=\"width:100%;text-align:right;font-weight:bold;font-size:1.2em;\"> 15 </div>\n",
    "<img src=\"https://raw.githubusercontent.com/andrejkk/ORvTK_SlidesImgs/master/footer_full.jpg\">"
   ]
  },
  {
   "cell_type": "markdown",
   "metadata": {
    "collapsed": true,
    "slideshow": {
     "slide_type": "slide"
    }
   },
   "source": [
    "<div style=\"display:flex;font-weight:bold;font-size:0.9em;\">\n",
    "<div style=\"flex:1;width:50%;\"> 12. Theory and application of Queuing theory  </div>\n",
    "<div style=\"flex:1;width:50%;text-align:right;\"> 12.2. Model and Kendall's notation </div>\n",
    "</div>\n",
    "\n",
    "## ■ Analysis M/M/1   (1)\n",
    "\n",
    "- Known (measured):\n",
    "    - $\\lambda$: average number of  arrived packets per time interval\n",
    "    - $\\mu$: average number of services per time interval\n",
    "    - $N$: size of a waiting queue\n",
    "\n",
    "\n",
    "- To be estimated:\n",
    "    - $L$: Expected number of packets in the system\n",
    "    - $L_q$: Expected number of packets in a waiting queue \n",
    "    - $W$: Expected waiting time in the system\n",
    "    - $W_q$: Expected waiting time in the waiting queue\n",
    "    - $P_n$: probability there are 𝑛 packets in the system\n",
    "    - $P(\\#p>n)$: probability there are more than 𝑛 packets in the system\n",
    "    - $N(p_0)$: required queue length to assure the probability of dropping is les than $p_0$\n",
    "\n",
    "\n",
    "\n",
    "<p style=\"margin-bottom:2cm;\"></p>\n",
    "<div style=\"width:100%;text-align:right;font-weight:bold;font-size:1.2em;\"> 16 </div>\n",
    "<img src=\"https://raw.githubusercontent.com/andrejkk/ORvTK_SlidesImgs/master/footer_full.jpg\">"
   ]
  },
  {
   "cell_type": "markdown",
   "metadata": {
    "collapsed": true,
    "slideshow": {
     "slide_type": "slide"
    }
   },
   "source": [
    "<div style=\"display:flex;font-weight:bold;font-size:0.9em;\">\n",
    "<div style=\"flex:1;width:50%;\"> 12. Theory and application of Queuing theory  </div>\n",
    "<div style=\"flex:1;width:50%;text-align:right;\"> 12.2. Model and Kendall's notation </div>\n",
    "</div>\n",
    "\n",
    "## ■ Analysis M/M/1   (2)\n",
    "\n",
    "- Solution:\n",
    "    - Define utility: $\\rho=\\frac{\\lambda}{\\mu}$ (stability!)\n",
    "    - Using Markov chains we get:\n",
    "    $$ \\matrix{\n",
    "    L_q &=& \\frac{\\rho^2}{1-\\rho}, & L = \\frac{\\rho^2}{1-\\rho} \\hfill\\cr\n",
    "    W_q &=& \\frac{\\rho}{\\mu(1-\\rho)}, & W = \\frac{1}{\\mu(1-\\rho)} = \\frac{1}{\\mu.\\lambda}  \\hfill\\cr\n",
    "    P_n &=& (1-\\rho)\\rho^n \\hfill\\cr\n",
    "    P[\\#p > n] &=& \\rho^n \\hfill\\cr\n",
    "    N &\\geq& \\frac{\\log(p_0)}{\\log(\\rho)} \\hfill\\cr\n",
    "    } $$\n",
    "    \n",
    "    - Distribution of waiting times and percentiles are\n",
    "    $$ \\matrix{\n",
    "    p_W(t) &=& (\\mu - \\lambda) e^{-(\\mu-\\lambda) t} \\cr\n",
    "    \\alpha_W(r) &=& W \\ln\\left(\\frac{100}{100-r}\\right) \\cr \n",
    "    } $$\n",
    "\n",
    "\n",
    "\n",
    "<p style=\"margin-bottom:2cm;\"></p>\n",
    "<div style=\"width:100%;text-align:right;font-weight:bold;font-size:1.2em;\"> 17 </div>\n",
    "<img src=\"https://raw.githubusercontent.com/andrejkk/ORvTK_SlidesImgs/master/footer_full.jpg\">"
   ]
  },
  {
   "cell_type": "code",
   "execution_count": 1,
   "metadata": {},
   "outputs": [],
   "source": [
    "import numpy as np\n",
    "\n",
    "# Basic queuing system functions\n",
    "\n",
    "\n",
    "# Utility\n",
    "def util(la, mu):\n",
    "    return la/mu\n",
    "\n",
    "\n",
    "# expected number of packets in the system\n",
    "def exp_num_of_packets_que(la, mu):\n",
    "    rho = la/mu\n",
    "    return rho**2/(1-rho)\n",
    "\n",
    "\n",
    "# expected number of packets in a waiting queue\n",
    "def exp_num_of_packets_sys(la, mu):\n",
    "    rho = la/mu\n",
    "    return rho/(1-rho)\n",
    "\n",
    "\n",
    "# expected waiting time in the system\n",
    "def exp_wait_time_que(la, mu):\n",
    "    rho = la/mu\n",
    "    return rho/(mu*(1-rho))\n",
    "\n",
    "\n",
    "# expected waiting time in rho in the system\n",
    "def exp_wait_time_que_rho(rho, mu):\n",
    "    return 1/(mu*(1-rho))\n",
    "\n",
    "\n",
    "# expected waiting time in the waiting queue\n",
    "def exp_wait_time_sys(la, mu):\n",
    "    return 1.0/(mu - la)\n",
    "\n",
    "\n",
    "# probability there are 15 packets in the system\n",
    "def prob_num_packets_sys(la, mu, n):\n",
    "    rho = la/mu\n",
    "    return (1-rho)*(rho**n)\n",
    "\n",
    "# probability there are more than n packets in the system\n",
    "def prob_more_num_packets_sys(la, mu, n):\n",
    "    rho = la/mu\n",
    "    return rho**n\n",
    "\n",
    "\n",
    "# required queue size to have probability of dropping les than $p_0$\n",
    "def req_que_len(la, mu, p0):\n",
    "    rho = la/mu\n",
    "    return np.log(p0)/np.log(rho)"
   ]
  },
  {
   "cell_type": "markdown",
   "metadata": {
    "collapsed": true,
    "slideshow": {
     "slide_type": "slide"
    }
   },
   "source": [
    "<div style=\"display:flex;font-weight:bold;font-size:0.9em;\">\n",
    "<div style=\"flex:1;width:50%;\"> 12. Theory and application of Queuing theory  </div>\n",
    "<div style=\"flex:1;width:50%;text-align:right;\"> 12.2. Model and Kendall's notation </div>\n",
    "</div>\n",
    "\n",
    "## ■ Example M/M/1: packet data transfer (1)\n",
    "\n",
    "\n",
    "- Measured:\n",
    "    - $\\lambda=620$ (average number of  arrived packets per time interval)\n",
    "    - $\\mu=800$ (average number of  services per time interval)\n",
    "    - $N=20$  (waiting queue size)\n",
    "    - $p_0=10^{-9}$ (probability of packet dropping)\n",
    "\n",
    "\n",
    "- Estimated:\n",
    "    - $\\rho=0,775$: (utility)\n",
    "    - $L=3,444$: (expected number of packets in the system)\n",
    "    - $L_q=2,669$: (expected number of packets in a waiting time)\n",
    "    - $W=0,0056$: (expected waiting time in the system)\n",
    "    - $W_q=0,0043$: (expected waiting time in the waiting queue)\n",
    "    - $P_{15}=0,0049$: (probability there are $15$ packets in the system)\n",
    "    - $P(\\#p > 15)=0,0061$: probability there are more than 15 packets in the system\n",
    "    - $N(10^{−9})=81,3021$: required queue size to have probability of dropping les than $10^{−9}$.\n",
    "\n",
    "\n",
    "\n",
    "<p style=\"margin-bottom:2cm;\"></p>\n",
    "<div style=\"width:100%;text-align:right;font-weight:bold;font-size:1.2em;\"> 18 </div>\n",
    "<img src=\"https://raw.githubusercontent.com/andrejkk/ORvTK_SlidesImgs/master/footer_full.jpg\">"
   ]
  },
  {
   "cell_type": "code",
   "execution_count": 3,
   "metadata": {},
   "outputs": [
    {
     "name": "stdout",
     "output_type": "stream",
     "text": [
      "rho =  0.775\n",
      "L =   3.444\n",
      "L_q =   2.669\n",
      "W =   0.006\n",
      "W_q =   0.004\n",
      "P_{15} =   0.005\n",
      "P(#P>15) =   0.022\n",
      "N(10^{-9}) =   81.302\n"
     ]
    }
   ],
   "source": [
    "la = 620.0\n",
    "mu = 800.0\n",
    "N = 20\n",
    "n = 15\n",
    "p0 = 10**(-9)\n",
    "\n",
    "print (r'rho =', '% .3f' % util(la, mu))\n",
    "print (r'L = ', '% .3f' % exp_num_of_packets_sys(la, mu))\n",
    "print (r'L_q = ', '% .3f' % exp_num_of_packets_que(la, mu))\n",
    "print (r'W = ', '% .3f' % exp_wait_time_sys(la, mu))\n",
    "print (r'W_q = ', '% .3f' % exp_wait_time_que(la, mu))\n",
    "print (r'P_{15} = ', '% .3f' % prob_num_packets_sys(la, mu, n))\n",
    "print (r'P(#P>15) = ', '% .3f' % prob_more_num_packets_sys(la, mu, n))\n",
    "print (r'N(10^{-9}) = ', '% .3f' % req_que_len(la, mu, p0))"
   ]
  },
  {
   "cell_type": "markdown",
   "metadata": {
    "collapsed": true,
    "slideshow": {
     "slide_type": "slide"
    }
   },
   "source": [
    "<div style=\"display:flex;font-weight:bold;font-size:0.9em;\">\n",
    "<div style=\"flex:1;width:50%;\"> 12. Theory and application of Queuing theory  </div>\n",
    "<div style=\"flex:1;width:50%;text-align:right;\"> 12.2. Model and Kendall's notation </div>\n",
    "</div>\n",
    "\n",
    "## ■ Primer M/M/1:  packet data transfer (2)\n",
    "\n",
    "\n",
    "Glejte spodaj.\n",
    "\n",
    "\n",
    "<p style=\"margin-bottom:2cm;\"></p>\n",
    "<div style=\"width:100%;text-align:right;font-weight:bold;font-size:1.2em;\"> 19 </div>\n",
    "<img src=\"https://raw.githubusercontent.com/andrejkk/ORvTK_SlidesImgs/master/footer_full.jpg\">"
   ]
  },
  {
   "cell_type": "code",
   "execution_count": 11,
   "metadata": {},
   "outputs": [
    {
     "data": {
      "image/png": "[encoded data removed]",
      "text/plain": [
       "<Figure size 576x360 with 1 Axes>"
      ]
     },
     "metadata": {
      "needs_background": "light"
     },
     "output_type": "display_data"
    }
   ],
   "source": [
    "import numpy as np\n",
    "import matplotlib.pylab as plt\n",
    "\n",
    "mu = 10\n",
    "rho = np.arange(0, 0.99, 0.01)\n",
    "wt = exp_wait_time_que_rho(rho, mu)\n",
    "\n",
    "# Plot it\n",
    "plt.figure(figsize=(8,5))\n",
    "plt.plot(rho, wt)\n",
    "plt.show()\n"
   ]
  },
  {
   "cell_type": "markdown",
   "metadata": {
    "collapsed": true,
    "slideshow": {
     "slide_type": "slide"
    }
   },
   "source": [
    "<div style=\"display:flex;font-weight:bold;font-size:0.9em;\">\n",
    "<div style=\"flex:1;width:50%;\"> 12. Theory and application of Queuing theory  </div>\n",
    "<div style=\"flex:1;width:50%;text-align:right;\"> 12.2. Model and Kendall's notation </div>\n",
    "</div>\n",
    "\n",
    "## ■ Example M/M/1: web server \n",
    "\n",
    "\n",
    "- Problem:\n",
    "    - $1$ server, $200$ clients;\n",
    "    - Average serving time: $0.4 s$;\n",
    "    - What is an average response time at $35$ requests per minute? \n",
    "    - What is the acceptable utility to have waiting time limited to $1.8 s$?\n",
    "\n",
    "\n",
    "- Solution:\n",
    "    - Average number of requests: $\\lambda=35/60$;\n",
    "    - Average number of services: $\\mu=1/0,4$;\n",
    "    - Utility: $\\rho=\\lambda/\\mu=0,2333$;\n",
    "    - Average response time $W=0,52 s$;\n",
    "    - The upper bound at $95\\%$ (no upper bound otherwise)? We derive\n",
    "    $$ 1,8 = 1/(\\mu(1−\\rho)) \\ln⁡\\left(\\frac{100}{100−95}\\right) \\Rightarrow \\rho = 0,33. $$\n",
    "\n",
    "\n",
    "\n",
    "<p style=\"margin-bottom:2cm;\"></p>\n",
    "<div style=\"width:100%;text-align:right;font-weight:bold;font-size:1.2em;\"> 20 </div>\n",
    "<img src=\"https://raw.githubusercontent.com/andrejkk/ORvTK_SlidesImgs/master/footer_full.jpg\">"
   ]
  },
  {
   "cell_type": "markdown",
   "metadata": {
    "collapsed": true,
    "slideshow": {
     "slide_type": "slide"
    }
   },
   "source": [
    "<div style=\"display:flex;font-weight:bold;font-size:0.9em;\">\n",
    "<div style=\"flex:1;width:50%;\"> 12. Theory and application of Queuing theory  </div>\n",
    "<div style=\"flex:1;width:50%;text-align:right;\"> 12.2. Model and Kendall's notation </div>\n",
    "</div>\n",
    "\n",
    "## ■ Queuing system M/G/1\n",
    "\n",
    "\n",
    "- Distribution in he queue is Poisson / exponential (M), distribution of service is arbitrary.\n",
    "- For service distribution we assume to know the expected value $\\mu_s$ and its standard deviation $\\sigma_s$.\n",
    "- Introduce a constant $C_b=\\frac{\\sigma_s}{\\mu_s}$ \n",
    "- Expected number of packets in the system is (Pollaczek-Khinchine)\n",
    "$$ N = \\rho + \\rho^2\\frac{1+C_b^2}{2(1-\\rho)}.  $$\n",
    "\n",
    "\n",
    "- This analysis is much more complex!\n",
    "\n",
    "\n",
    "\n",
    "<p style=\"margin-bottom:2cm;\"></p>\n",
    "<div style=\"width:100%;text-align:right;font-weight:bold;font-size:1.2em;\"> 21 </div>\n",
    "<img src=\"https://raw.githubusercontent.com/andrejkk/ORvTK_SlidesImgs/master/footer_full.jpg\">"
   ]
  },
  {
   "cell_type": "markdown",
   "metadata": {
    "collapsed": true,
    "slideshow": {
     "slide_type": "slide"
    }
   },
   "source": [
    "<div style=\"display:flex;font-weight:bold;font-size:0.9em;\">\n",
    "<div style=\"flex:1;width:50%;\"> 12. Theory and application of Queuing theory  </div>\n",
    "<div style=\"flex:1;width:50%;text-align:right;\"> 12.2. Model and Kendall's notation </div>\n",
    "</div>\n",
    "\n",
    "## ■ How to choose the distribution - traffic model?\n",
    "\n",
    "\n",
    "- Real cases are well approximated with theoretical models and we nned to \n",
    "    - Find the right model\n",
    "    - Fit the data \n",
    "\n",
    "\n",
    "- The decision: are arrival times exponential? \n",
    "    - Statistical hypotheses testing: adapted $\\chi^2$ test\n",
    "    - We estimate parameter $\\lambda=\\overline{\\Delta_{t_i}}$, where $\\Delta_{t_i}$ are real arrival time differences\n",
    "    - We divide times into $M$ intervals $I_1, \\ldots, I_M$;\n",
    "    - Determine expected number of times $R(I_i)=e_i$\n",
    "    - Read actual number of times in $I_i$ denoted by $o_i$\n",
    "    - Experimental statistics \n",
    "    $$ \\chi_e^2 = \\sum_{i=1}^M \\frac{(o_i-e_i)^2}{e_i} $$   \n",
    "    is distributed as $\\chi^2(M-1)$ when null hypotheses \n",
    "    $$ H_0=[\\mbox{arrival times are exponential}]. $$  \n",
    "    Read p value and decide. \n",
    "\n",
    "\n",
    "- Case:\n",
    "    - Number of intervals $M=60$;\n",
    "    - Statistics $\\chi^2=80.172$, $p$ value is $p=0.0285 < \\alpha=0.05$.\n",
    "    - Conclusion: times are not exponential!\n",
    "\n",
    "\n",
    "\n",
    "<img style=\"float: right; width: 400px; margin: 0px 20px 20px 0px;\" src=\"https://raw.githubusercontent.com/andrejkk/ORvTK_SlidesImgs/master/Queuing_TrafficTimeDistr_ang.png\">\n",
    "\n",
    "\n",
    "\n",
    "<p style=\"margin-bottom:10cm;\"></p>\n",
    "<div style=\"width:100%;text-align:right;font-weight:bold;font-size:1.2em;\"> 22 </div>\n",
    "<img src=\"https://raw.githubusercontent.com/andrejkk/ORvTK_SlidesImgs/master/footer_full.jpg\">"
   ]
  },
  {
   "cell_type": "markdown",
   "metadata": {
    "collapsed": true,
    "slideshow": {
     "slide_type": "slide"
    }
   },
   "source": [
    "<div style=\"display:flex;font-weight:bold;font-size:0.9em;\">\n",
    "<div style=\"flex:1;width:50%;\"> 12. Theory and application of Queuing theory  </div>\n",
    "<div style=\"flex:1;width:50%;text-align:right;\"> 12.3. Server system algorithms </div>\n",
    "</div>\n",
    "\n",
    "## 12.3. Server system algorithms\n",
    "\n",
    "\n",
    "■ Optimal algorithms for multiple queues\n",
    "\n",
    "■ Example: Weighted Round Robin algorithm\n",
    "\n",
    "■ Queue management algorithms\n",
    "\n",
    "■ Example: Random early detection algorithm\n",
    " \n",
    "\n",
    "\n",
    "\n",
    "<p style=\"margin-bottom:2cm;\"></p>\n",
    "<div style=\"width:100%;text-align:right;font-weight:bold;font-size:1.2em;\"> 23 </div>\n",
    "<img src=\"https://raw.githubusercontent.com/andrejkk/ORvTK_SlidesImgs/master/footer_full.jpg\">"
   ]
  },
  {
   "cell_type": "markdown",
   "metadata": {
    "collapsed": true,
    "slideshow": {
     "slide_type": "slide"
    }
   },
   "source": [
    "<div style=\"display:flex;font-weight:bold;font-size:0.9em;\">\n",
    "<div style=\"flex:1;width:50%;\"> 12. Theory and application of Queuing theory  </div>\n",
    "<div style=\"flex:1;width:50%;text-align:right;\"> 12.3. Server system algorithms </div>\n",
    "</div>\n",
    "\n",
    "\n",
    "## ■ Optimal algorithms for multiple queues\n",
    "\n",
    "\n",
    "- This is classification and task assignment\n",
    "\n",
    "\n",
    "- Algorithms:\n",
    "    - **Round robin (RR)**: each queue receives equal amount of time\n",
    "    - **Weighted round robin (WRR)**: each queue receives weighted amount of time\n",
    "    - **Deficit round robin (DRR)**: WRR without knowing packet sizes;\n",
    "    - **Fair queuing (FQ)**: packets with the least expected end of service time is next;\n",
    "    - **Weighted fair queuing (WFQ)**: queuing with priorities;\n",
    "    - **Weighted fair queuing +(WFQ+)**: queuing with priorities where long term behavior reaches preassigned values\n",
    "    - **Differentiated service (DiffServ)**: architecture (topology) assuring given QoS\n",
    " \n",
    "\n",
    "\n",
    "<img style=\"float: right; width: 350px; margin: 0px 20px 20px 0px;\" src=\"https://raw.githubusercontent.com/andrejkk/ORvTK_SlidesImgs/master/Queueing_MultipQueuesSingleServ.png\">\n",
    "\n",
    "\n",
    "\n",
    "<p style=\"margin-bottom:8cm;\"></p>\n",
    "<div style=\"width:100%;text-align:right;font-weight:bold;font-size:1.2em;\"> 24 </div>\n",
    "<img src=\"https://raw.githubusercontent.com/andrejkk/ORvTK_SlidesImgs/master/footer_full.jpg\">"
   ]
  },
  {
   "cell_type": "markdown",
   "metadata": {
    "collapsed": true,
    "slideshow": {
     "slide_type": "slide"
    }
   },
   "source": [
    "<div style=\"display:flex;font-weight:bold;font-size:0.9em;\">\n",
    "<div style=\"flex:1;width:50%;\"> 12. Theory and application of Queuing theory  </div>\n",
    "<div style=\"flex:1;width:50%;text-align:right;\"> 12.3. Server system algorithms </div>\n",
    "</div>\n",
    "\n",
    "\n",
    "## ■ Queue management algorithms\n",
    "\n",
    "\n",
    "- How to prevent packet dropping when overloaded? \n",
    "\n",
    "\n",
    "- Algorithms\n",
    "    - **Tail drop (TD)**: drop all packets that exceeds queue size;\n",
    "    - **Random early detection (RED)**: estimate expected number of packets in and drop packets randomly (not the tail only);\n",
    "    - **Weighted random early detection (WRED)**: RED with priorities in terms of quality of service (QoS);\n",
    "    - **Active random early detection (ARED)**: mitigate the issue of WRED, when with small number of packets it starts to drop them too soon\n",
    "    - **Robust random early detection (RRED)**: mitigate consequences of certain attacks such as „denial of service“;\n",
    "\n",
    "    - **Leacky bucket (LB)**: bandwidth control and traffic bursts control\n",
    "\n",
    "\n",
    "\n",
    "<img style=\"float: right; width: 400px; margin: 0px 20px 20px 0px;\" src=\"https://raw.githubusercontent.com/andrejkk/ORvTK_SlidesImgs/master/Queuing_QueueingSystemSingle_ang.png\">\n",
    "\n",
    "\n",
    "<p style=\"margin-bottom:2cm;\"></p>\n",
    "<div style=\"width:100%;text-align:right;font-weight:bold;font-size:1.2em;\"> 25 </div>\n",
    "<img src=\"https://raw.githubusercontent.com/andrejkk/ORvTK_SlidesImgs/master/footer_full.jpg\">"
   ]
  },
  {
   "cell_type": "markdown",
   "metadata": {
    "collapsed": true,
    "slideshow": {
     "slide_type": "slide"
    }
   },
   "source": [
    "<div style=\"display:flex;font-weight:bold;font-size:0.9em;\">\n",
    "<div style=\"flex:1;width:50%;\"> 12. Theory and application of Queuing theory  </div>\n",
    "<div style=\"flex:1;width:50%;text-align:right;\"> 12.3. Server system algorithms </div>\n",
    "</div>\n",
    "\n",
    "\n",
    "\n",
    "## ■ Conclusion\n",
    "\n",
    "\n",
    "- Networks and users are queuing systems connected with communication channels. \n",
    "- Basic mathematical models of queuing systems are simple and useful. Models close to real situations might be very complex;\n",
    "\n",
    "\n",
    "- Usage:\n",
    "    - Configuration of real systems\n",
    "    - Prediction in real systems\n",
    "\n",
    "\n",
    "- Have Cisco, Juniper and others configure it all ? \n",
    "\n",
    "\n",
    "\n",
    "<p style=\"margin-bottom:2cm;\"></p>\n",
    "<div style=\"width:100%;text-align:right;font-weight:bold;font-size:1.2em;\"> 26 </div>\n",
    "<img src=\"https://raw.githubusercontent.com/andrejkk/ORvTK_SlidesImgs/master/footer_full.jpg\">"
   ]
  },
  {
   "cell_type": "code",
   "execution_count": null,
   "metadata": {},
   "outputs": [],
   "source": []
  }
 ],
 "metadata": {
  "celltoolbar": "Slideshow",
  "kernelspec": {
   "display_name": "Python 3",
   "language": "python",
   "name": "python3"
  },
  "language_info": {
   "codemirror_mode": {
    "name": "ipython",
    "version": 3
   },
   "file_extension": ".py",
   "mimetype": "text/x-python",
   "name": "python",
   "nbconvert_exporter": "python",
   "pygments_lexer": "ipython3",
   "version": "3.7.6"
  }
 },
 "nbformat": 4,
 "nbformat_minor": 2
}
