{
 "cells": [
  {
   "cell_type": "markdown",
   "metadata": {
    "collapsed": true,
    "slideshow": {
     "slide_type": "slide"
    }
   },
   "source": [
    "<img style=\"float: center; width: 100%\" src=\"https://raw.githubusercontent.com/andrejkk/TalksImgs/master/FrontSlideUpperBan.png\">\n",
    "<p style=\"margin-bottom:2cm;\"></p>\n",
    "\n",
    "<center>\n",
    "    <H1> 1. Uvod v Optimizacijo (OP) v telekomunikacijah (TK) OP v TK </H1>\n",
    "   \n",
    "\n",
    "\n",
    "<br><br>\n",
    "    <H3> Andrej Košir, Lucami, FE </H3>\n",
    "    <H4> Kontakt: prof. dr. Andrej Košir, andrej.kosir@fe.uni-lj.si, </H4>\n",
    "    <H4> ZOOM https://uni-lj-si.zoom.us/j/97654707084 </H4>\n",
    "</center>\n",
    "\n",
    "\n",
    "<p style=\"margin-bottom:2cm;\"></p>\n",
    "<div style=\"width:100%;text-align:right;font-weight:bold;font-size:1.2em;\"> 1 </div>\n",
    "<img src=\"https://raw.githubusercontent.com/andrejkk/ORvTK_SlidesImgs/master/footer_full.jpg\">"
   ]
  },
  {
   "cell_type": "markdown",
   "metadata": {
    "slideshow": {
     "slide_type": "slide"
    }
   },
   "source": [
    "<div style=\"display:flex;font-weight:bold;font-size:0.9em;\">\n",
    "<div style=\"flex:1;width:50%;\"> 1. Uvod v Optimizacijo v telekomunikacijah </div>\n",
    "<div style=\"flex:1;width:50%;text-align:right;\"> Cilji, ponudba </div>\n",
    "</div>\n",
    "\n",
    "\n",
    "## Cilji, ponudba, izpiti\n",
    "\n",
    "- Cilji predmeta: Prepoznati probleme optimizacije v realni praksi in skrajšati čas do njihove rešitve:\n",
    "    - seznaniti s postopki optimizacije \n",
    "    - usposobiti za samostojne preproste analize, uporaba računalnika\n",
    "    - usposobiti za sodelovanje s strokovnjaki pri zahtevnejših analizah \n",
    "    - seznaniti z možnostmi optimizacije \n",
    "\n",
    "- Spletna ponudba\n",
    "    - Spletna stran EFE\n",
    "\n",
    "- Izpitni red\n",
    "    - Projekti  vaj (30%)+ projekti (30%)+ ustni izpit (40%), udeležba vseh treh prispevkov je obvezna\n",
    "    - Izpitni red FE\n",
    "\n",
    "\n",
    "\n",
    "\n",
    "<p style=\"margin-bottom:1cm;\"></p>\n",
    "<div style=\"width:100%;text-align:right;font-weight:bold;font-size:1.2em;\"> 2 </div>\n",
    "<img src=\"https://raw.githubusercontent.com/andrejkk/ORvTK_SlidesImgs/master/footer_full.jpg\">"
   ]
  },
  {
   "cell_type": "markdown",
   "metadata": {
    "slideshow": {
     "slide_type": "slide"
    }
   },
   "source": [
    "<div style=\"display:flex;font-weight:bold;font-size:0.9em;\">\n",
    "<div style=\"flex:1;width:50%;\"> Uvod v Optimizacijo v telekomunikacijah </div>\n",
    "<div style=\"flex:1;width:50%;text-align:right;\"> 1. 1. Umestitev optimizacije v TK </div>\n",
    "</div>\n",
    "\n",
    "\n",
    "# 1.1. Umestitev optimizacije v TK\n",
    "\n",
    "■ Osnovni pojmi in primeri\n",
    "\n",
    "■ Sodobne telekomunikacije in optimizacija\n",
    "\n",
    "\n",
    "<p style=\"margin-bottom:1cm;\"></p>\n",
    "<div style=\"width:100%;text-align:right;font-weight:bold;font-size:1.2em;\"> 3 </div>\n",
    "<img src=\"https://raw.githubusercontent.com/andrejkk/ORvTK_SlidesImgs/master/footer_full.jpg\">"
   ]
  },
  {
   "cell_type": "markdown",
   "metadata": {
    "slideshow": {
     "slide_type": "slide"
    }
   },
   "source": [
    "<div style=\"display:flex;font-weight:bold;font-size:0.9em;\">\n",
    "<div style=\"flex:1;width:50%;\"> Uvod v Optimizacijo v telekomunikacijah </div>\n",
    "<div style=\"flex:1;width:50%;text-align:right;\"> 1. 1. Umestitev optimizacije v TK </div>\n",
    "</div>\n",
    "\n",
    "## ■ Osnovni pojmi in primeri\n",
    "\n",
    "\n",
    "- Izvor pojma?\n",
    "- Kaj so operacijske raziskave\n",
    "    - Uporaba v logistiki, prometu, industrijski procesi, ...\n",
    "    \n",
    "    \n",
    "- Kaj je optimizacija\n",
    "    - Optimizacijska naloga\n",
    "    - Primer optimizacije: \n",
    "        1. optimalna oblika posode\n",
    "        2. Problem najkrajše (najcenejše) poti;\n",
    "\n",
    "\n",
    "- Pomembni pojmi\n",
    "    - Optimizacijski problemi\n",
    "    - Optimizacijska naloga\n",
    "    - Algoritem \n",
    "    - Podatkoven strukture (graf, vrsta, sklad)\n",
    "    - Problemi: optimalno razvrščanje, optimalna alokacija virov, ...  \n",
    "\n",
    "<p style=\"margin-bottom:1cm;\"></p>\n",
    "<div style=\"width:100%;text-align:right;font-weight:bold;font-size:1.2em;\"> 4 </div>\n",
    "<img src=\"https://raw.githubusercontent.com/andrejkk/ORvTK_SlidesImgs/master/footer_full.jpg\">"
   ]
  },
  {
   "cell_type": "markdown",
   "metadata": {},
   "source": [
    "<div style=\"display:flex;font-weight:bold;font-size:0.9em;\">\n",
    "<div style=\"flex:1;width:50%;\"> Uvod v Optimizacijo v telekomunikacijah </div>\n",
    "<div style=\"flex:1;width:50%;text-align:right;\"> 1. 1. Umestitev optimizacije v TK </div>\n",
    "</div>\n",
    "\n",
    "## ■ Uporabnost študijskega procesa\n",
    "\n",
    "Komponente znanja:\n",
    "- poznavanje razredov optimizacijskih problemov\n",
    "- poznavanje teoretičnih podlag: algoritmi, kriterijske funkcije, ...\n",
    "- spoznavanje orodij za reševanje optimizacijskih problemov\n",
    "- optimizacija z uporabniki\n",
    "- spoznavanje realnih problemov, zato:\n",
    "    - izzivi\n",
    "    - obrnjeno učenje\n",
    "\n",
    "\n",
    "\n",
    "\n",
    "\n",
    "<p style=\"margin-bottom:1cm;\"></p>\n",
    "<div style=\"width:100%;text-align:right;font-weight:bold;font-size:1.2em;\"> 4 </div>\n",
    "<img src=\"https://raw.githubusercontent.com/andrejkk/ORvTK_SlidesImgs/master/footer_full.jpg\">"
   ]
  },
  {
   "attachments": {},
   "cell_type": "markdown",
   "metadata": {
    "slideshow": {
     "slide_type": "slide"
    }
   },
   "source": [
    "<div style=\"display:flex;font-weight:bold;font-size:0.9em;\">\n",
    "<div style=\"flex:1;width:50%;\"> Uvod v Optimizacijo v telekomunikacijah </div>\n",
    "<div style=\"flex:1;width:50%;text-align:right;\"> 1. 1. Umestitev optimizacije v TK </div>\n",
    "</div>\n",
    "\n",
    "## ■ Sodobne telekomunikacije in optimizacija\n",
    "\n",
    "- Optimizacija na OSI nivojih? Ne - uporabnik daje kriterijski funkcijo\n",
    "- TEDx Ljubljana govor o Socialni Inteligenci https://www.youtube.com/watch?v=YtmAcupMYK8&t=235s\n",
    "\n",
    "<img style=\"float: right; width: 400px;\" src=\"https://raw.githubusercontent.com/andrejkk/ORvTK_SlidesImgs/master/OSI_slo.png\">\n",
    "<img style=\"float: left; width: 300px;\" src=\"https://raw.githubusercontent.com/andrejkk/ORvTK_SlidesImgs/master/ORinTC_slo.png\">\n",
    "\n",
    "\n",
    "<br>\n",
    "<p style=\"margin-bottom:12cm;\"></p>\n",
    "<div style=\"width:100%;text-align:right;font-weight:bold;font-size:1.2em;\"> 5 </div>\n",
    "<img src=\"https://raw.githubusercontent.com/andrejkk/ORvTK_SlidesImgs/master/footer_full.jpg\">"
   ]
  },
  {
   "cell_type": "markdown",
   "metadata": {
    "slideshow": {
     "slide_type": "slide"
    }
   },
   "source": [
    "<div style=\"display:flex;font-weight:bold;font-size:0.9em;\">\n",
    "<div style=\"flex:1;width:50%;\"> Uvod v Optimizacijo v telekomunikacijah </div>\n",
    "<div style=\"flex:1;width:50%;text-align:right;\"> 1. 1. Umestitev optimizacije v TK </div>\n",
    "</div>\n",
    "\n",
    "\n",
    "## ■ Sodobne telekomunikacije in optimizacija\n",
    "\n",
    "- Uporabnik je v središču: upravljalski vidik\n",
    "    - Vodstva velikih TK podjetij: „ne upravlja več uprava, ampak uporabniki“:\n",
    "        - Izbor storitev\n",
    "        - Neposreden vpliv na uspešnost podjetij\n",
    "        - Odvisnost od socialnih omrežij\n",
    "\n",
    "    - Danes ne plačujemo več “impulzov in Kb”, ampak pakete, znotraj katerih uporabniki sami določamo uporabo\n",
    "\n",
    "    - Skupni moto gurujev: „User data is the oil of the future“\n",
    "\n",
    "\n",
    "\n",
    "<p style=\"margin-bottom:1cm;\"></p>\n",
    "<div style=\"width:100%;text-align:right;font-weight:bold;font-size:1.2em;\"> 6 </div>\n",
    "<img src=\"https://raw.githubusercontent.com/andrejkk/ORvTK_SlidesImgs/master/footer_full.jpg\">"
   ]
  },
  {
   "cell_type": "markdown",
   "metadata": {
    "slideshow": {
     "slide_type": "slide"
    }
   },
   "source": [
    "<div style=\"display:flex;font-weight:bold;font-size:0.9em;\">\n",
    "<div style=\"flex:1;width:50%;\"> Uvod v Optimizacijo v telekomunikacijah </div>\n",
    "<div style=\"flex:1;width:50%;text-align:right;\"> 1. 1. Umestitev optimizacije v TK </div>\n",
    "</div>\n",
    "\n",
    "\n",
    "## ■ Kaj so telekomunikacije, zgodovina (1)\n",
    "\n",
    "\n",
    "- Hitro spreminjajoča se definicija\n",
    "    - Komunikacija: prenos informacij s simboli\n",
    "    - Tele - : s pomočjo električnih sistemov\n",
    "    - Spreminjajo civilizacijo \n",
    "\n",
    "- Zgodovina – komunikacijska tehnologija:\n",
    "    - -4. stoletje: grški hidravlični sistemi semafor;\n",
    "    - 1792: Claude Chappe, zgradil prvi stalni vizualni radiotelegraf; \n",
    "    - 1839: komercialni električni telegraf;\n",
    "    - 1858: telegrafski kabel Atlantik\n",
    "    - 1878: telefon\n",
    "    - 1900: začetek telegrafije , radiokomunikacij\n",
    "    - 1920: začetek radiokomunikacij\n",
    "    - 1940: frekvenčno multipleksiranje\n",
    "    - 1960: satelitske komunikacije\n",
    "    - 1980: optično vlakno\n",
    "    - 2000: Gigabiten prenos po vlaknu\n",
    "\n",
    "\n",
    "<p style=\"margin-bottom:1cm;\"></p>\n",
    "<div style=\"width:100%;text-align:right;font-weight:bold;font-size:1.2em;\"> 7 </div>\n",
    "<img src=\"https://raw.githubusercontent.com/andrejkk/ORvTK_SlidesImgs/master/footer_full.jpg\">"
   ]
  },
  {
   "cell_type": "markdown",
   "metadata": {
    "slideshow": {
     "slide_type": "slide"
    }
   },
   "source": [
    "<div style=\"display:flex;font-weight:bold;font-size:0.9em;\">\n",
    "<div style=\"flex:1;width:50%;\"> Uvod v Optimizacijo v telekomunikacijah </div>\n",
    "<div style=\"flex:1;width:50%;text-align:right;\"> 1. 1. Umestitev optimizacije v TK </div>\n",
    "</div>\n",
    "\n",
    "\n",
    "## ■ Kaj so telekomunikacije, zgodovina (2)\n",
    "\n",
    "- Zgodovina – komunikacijska tehnologija (nad.):\n",
    "   - Eneida, Didona, Kartagina, volovska koža, poskusi s pasom, krog\n",
    "   - Platon (Republika) – osnovna delitev dela – človek, ki počne le en posel mora postati v tem izvrsten\n",
    "   - Tiran v Sirakuzi poveri obrambo Arhimedu\n",
    "   - Leonardo Da Vinci\n",
    "   - 17 stol Fermat, Pascal, Bernoulli; verjetnost\n",
    "   - 1758 Francois Quesnay - ekonomske tablice\n",
    "   - 1764 James Watt - parni stroj\n",
    "   - 1776 Monge - problem vpliva vzdrževanja poti na ceno prevozov\n",
    "   - 1776 Adam Smith (Wealth of Nations) - o prednostih delitve dela\n",
    "   - 1802 Ampere - začetki teorije iger\n",
    "   - 1824 Fourier - sistemi linearnih neenačb - LP\n",
    "   - 1832 Charles Babbage (On Economy of Machines and Manufactures)\n",
    "\n",
    "\n",
    "<p style=\"margin-bottom:1cm;\"></p>\n",
    "<div style=\"width:100%;text-align:right;font-weight:bold;font-size:1.2em;\"> 8 </div>\n",
    "<img src=\"https://raw.githubusercontent.com/andrejkk/ORvTK_SlidesImgs/master/footer_full.jpg\">"
   ]
  },
  {
   "cell_type": "markdown",
   "metadata": {
    "slideshow": {
     "slide_type": "slide"
    }
   },
   "source": [
    "<div style=\"display:flex;font-weight:bold;font-size:0.9em;\">\n",
    "<div style=\"flex:1;width:50%;\"> Uvod v Optimizacijo v telekomunikacijah </div>\n",
    "<div style=\"flex:1;width:50%;text-align:right;\"> 1. 1. Umestitev optimizacije v TK </div>\n",
    "</div>\n",
    "\n",
    "\n",
    "## ■ Kaj so telekomunikacije, zgodovina (3)\n",
    "\n",
    "Zgodovina z OR povezanih dogodkov\n",
    "\n",
    "- 18?? Hamilton - hamiltonov problem v teoriji grafov\n",
    "- bencinski motor\n",
    "- elektromotor\n",
    "- 1874 Walras - ravnotežje v ekonomiki\n",
    "- 18-- Pareto – večkriterijalnost\n",
    "- 18-- Kirchoff - vezja\n",
    "- 1911 Frederick Taylor - znanstveno upravljanje proizvodnje (usposabljanje, časovne analize, standardi);\n",
    "- Standardizacijo so uporabljali že v beneških ladjedelnicah\n",
    "- 1913 Henry Gantt - razporejanje poslov po strojih, Henry Ford - tekoči trak\n",
    "- 1914 Frederick W. Lanchaster, enačbe za napovedovanje izhoda bitk glede na števičnost in ognjeno moč nasprotnikov\n",
    "- 1915 F.W. Harris, osnovni obrazec za velikost naročila v teoriji zalog\n",
    "\n",
    "\n",
    "\n",
    "<p style=\"margin-bottom:1cm;\"></p>\n",
    "<div style=\"width:100%;text-align:right;font-weight:bold;font-size:1.2em;\"> 9 </div>\n",
    "<img src=\"https://raw.githubusercontent.com/andrejkk/ORvTK_SlidesImgs/master/footer_full.jpg\">"
   ]
  },
  {
   "cell_type": "markdown",
   "metadata": {
    "slideshow": {
     "slide_type": "slide"
    }
   },
   "source": [
    "<div style=\"display:flex;font-weight:bold;font-size:0.9em;\">\n",
    "<div style=\"flex:1;width:50%;\"> Uvod v Optimizacijo v telekomunikacijah </div>\n",
    "<div style=\"flex:1;width:50%;text-align:right;\"> 1. 1. Umestitev optimizacije v TK </div>\n",
    "</div>\n",
    "\n",
    "\n",
    "## ■ Kaj so telekomunikacije, zgodovina (4)\n",
    "\n",
    "- 19-- A.K. Erlang, Markov\n",
    "- 1925 Leontijev - ravnotežje narodnega gospodarstva SZ\n",
    "- 1921-27 Borel - teorija iger\n",
    "- 1928 Janos (John) von Neumann - osnovni izrek teorije iger izrek o minimaksu\n",
    "- 1930 Horace C. Levinson, povezanost reklame in prodaje ter dohodka in prebivališča kupcev\n",
    "- 193- Elton Mayo, poudarek na človeških dejavnikih, ublažitev tehničnega pristopa\n",
    "- 1936 Konig - teorija grafov\n",
    "- 1938 prva skupina OR v Angliji pri RAFu\n",
    "- 1939 P.M.S. Blackettova skupina\n",
    "- 1939 Kantorovič - metoda za reševanje LP\n",
    "\n",
    "\n",
    "\n",
    "\n",
    "<p style=\"margin-bottom:1cm;\"></p>\n",
    "<div style=\"width:100%;text-align:right;font-weight:bold;font-size:1.2em;\"> 10 </div>\n",
    "<img src=\"https://raw.githubusercontent.com/andrejkk/ORvTK_SlidesImgs/master/footer_full.jpg\">"
   ]
  },
  {
   "cell_type": "markdown",
   "metadata": {
    "slideshow": {
     "slide_type": "slide"
    }
   },
   "source": [
    "<div style=\"display:flex;font-weight:bold;font-size:0.9em;\">\n",
    "<div style=\"flex:1;width:50%;\"> Uvod v Optimizacijo v telekomunikacijah </div>\n",
    "<div style=\"flex:1;width:50%;text-align:right;\"> 1. 1. Umestitev optimizacije v TK </div>\n",
    "</div>\n",
    "\n",
    "\n",
    "## ■ Kaj so telekomunikacije, zgodovina (5)\n",
    "\n",
    "- 1939-45 von Neumann, O. Morgenstern - teorija\n",
    "- ok. 1940 Tolstoj, Kantorovič, Hitchcock - transportni problem; računalniki\n",
    "- 194- Metropolis, Ulam - Monte Carlo\n",
    "- 1947 George Dantzig - LP\n",
    "- 195- Ford, Fulkerson - omrežja\n",
    "- 195- Karush, Kuhn, Tucker - nelinearno programiranje\n",
    "- 195- Mc Cormick - kazenske metode\n",
    "- 195- Bellman - dinamično programiranje\n",
    "- 195- POLARIS - CPM, PERT\n",
    "- 1950 dalje: statistične/verjetnostne metode za nadzor kakovosti, modeliranje – računalniki\n",
    "- 1950 ustanovljeno (British) Operational Research Society\n",
    "- 1952 ustanovljeno Operations Research Society of America\n",
    "\n",
    "\n",
    "<p style=\"margin-bottom:1cm;\"></p>\n",
    "<div style=\"width:100%;text-align:right;font-weight:bold;font-size:1.2em;\"> 11 </div>\n",
    "<img src=\"https://raw.githubusercontent.com/andrejkk/ORvTK_SlidesImgs/master/footer_full.jpg\">"
   ]
  },
  {
   "cell_type": "markdown",
   "metadata": {
    "slideshow": {
     "slide_type": "slide"
    }
   },
   "source": [
    "<div style=\"display:flex;font-weight:bold;font-size:0.9em;\">\n",
    "<div style=\"flex:1;width:50%;\"> Uvod v Optimizacijo v telekomunikacijah </div>\n",
    "<div style=\"flex:1;width:50%;text-align:right;\"> 1. 1. Umestitev optimizacije v TK </div>\n",
    "</div>\n",
    "\n",
    "\n",
    "## ■ Kaj so telekomunikacije, zgodovina (6)\n",
    "\n",
    "- 1953 ustanovljen The institute of Management Science\n",
    "- 1959 ustanovljeno International Federation of ORS\n",
    "- 1960 univerzitetni študij\n",
    "- od 1960 teorija odločanja, ciljno programiranje, večkriterijska optimizacija\n",
    "- od 1970 povezave z informacijskimi sistemi – sistemi za podporo odločanja;\n",
    "- umetna inteligenca\n",
    "\n",
    "\n",
    "<p style=\"margin-bottom:1cm;\"></p>\n",
    "<div style=\"width:100%;text-align:right;font-weight:bold;font-size:1.2em;\"> 12 </div>\n",
    "<img src=\"https://raw.githubusercontent.com/andrejkk/ORvTK_SlidesImgs/master/footer_full.jpg\">"
   ]
  },
  {
   "cell_type": "markdown",
   "metadata": {
    "slideshow": {
     "slide_type": "slide"
    }
   },
   "source": [
    "<div style=\"display:flex;font-weight:bold;font-size:0.9em;\">\n",
    "<div style=\"flex:1;width:50%;\"> Uvod v Optimizacijo v telekomunikacijah </div>\n",
    "<div style=\"flex:1;width:50%;text-align:right;\"> 1.2. Primeri in posebnosti OR v TK </div>\n",
    "</div>\n",
    "\n",
    "\n",
    "# 1.2. Primeri in posebnosti OR v TK\n",
    "\n",
    "■ Logistični primeri\n",
    "\n",
    "■ Specifike OP v TK (1): Specifika prometa\n",
    "\n",
    "■ Specifike OP v TK (2): Kompleksnost sistemov\n",
    "\n",
    "■ Specifike OP v TK (3): Kriterijska funkcija in merjenje uporabnikov\n",
    "\n",
    "■ Značilen potek reševanja problema\n",
    "\n",
    "\n",
    "\n",
    "<p style=\"margin-bottom:1cm;\"></p>\n",
    "<div style=\"width:100%;text-align:right;font-weight:bold;font-size:1.2em;\"> 13 </div>\n",
    "<img src=\"https://raw.githubusercontent.com/andrejkk/ORvTK_SlidesImgs/master/footer_full.jpg\">"
   ]
  },
  {
   "cell_type": "markdown",
   "metadata": {
    "slideshow": {
     "slide_type": "slide"
    }
   },
   "source": [
    "<div style=\"display:flex;font-weight:bold;font-size:0.9em;\">\n",
    "<div style=\"flex:1;width:50%;\"> Uvod v Optimizacijo v telekomunikacijah </div>\n",
    "<div style=\"flex:1;width:50%;text-align:right;\"> 1.2. Primeri in posebnosti OR v TK </div>\n",
    "</div>\n",
    "\n",
    "\n",
    "\n",
    "## ■ Logistični primeri\n",
    "\n",
    "- Problem: minimalni stroški prevozov hitre pošte\n",
    "- Optimizacijski prostor: model cestnega omrežja področja, ki ga pokrivamo\n",
    "- Kriterijska funkcija: stroški, ki so sestavljeni iz\n",
    "    - Amortizacija vozil, servis\n",
    "    - Stroški dela\n",
    "    - Poraba goriva\n",
    "- Omejitve:\n",
    "    - Fizične omejitve vozil in mreže\n",
    "    - Zakonske omejitve\n",
    "- Ali je rešljivo?\n",
    "\n",
    "\n",
    "<img style=\"float:right; width:300px; margin:-200px 0 0 0;\" src=\"https://raw.githubusercontent.com/andrejkk/ORvTK_SlidesImgs/master/CityMap.jpg\">\n",
    "\n",
    "\n",
    "\n",
    "<p style=\"margin-bottom:1cm;\"></p><br><br><br>\n",
    "<div style=\"width:100%;text-align:right;font-weight:bold;font-size:1.2em;\"> 14 </div>\n",
    "<img src=\"https://raw.githubusercontent.com/andrejkk/ORvTK_SlidesImgs/master/footer_full.jpg\">"
   ]
  },
  {
   "cell_type": "markdown",
   "metadata": {
    "slideshow": {
     "slide_type": "slide"
    }
   },
   "source": [
    "<div style=\"display:flex;font-weight:bold;font-size:0.9em;\">\n",
    "<div style=\"flex:1;width:50%;\"> Uvod v Optimizacijo v telekomunikacijah </div>\n",
    "<div style=\"flex:1;width:50%;text-align:right;\"> 1.2. Primeri in posebnosti OR v TK </div>\n",
    "</div>\n",
    "\n",
    "\n",
    "\n",
    "## ■ Specifike OP v TK (1): specifika prometa\n",
    "\n",
    "- Statistične lastnosti prometa\n",
    "    - Poissonov model ne velja\n",
    "    - Samopodobnost\n",
    "    - Hurstov parameter\n",
    "\n",
    "<p>\n",
    "- Kdaj in zakaj?\n",
    "    - Ko imamo večje število uporabnikov, ki brska po spletnih straneh  \n",
    "\n",
    "\n",
    "\n",
    "<img style=\"float: right; width: 300px; margin:-150px 0 0 0;\" src=\"https://raw.githubusercontent.com/andrejkk/ORvTK_SlidesImgs/master/SelfSimilarTr_slo.png\">\n",
    "\n",
    "\n",
    "\n",
    "<p style=\"margin-bottom:1cm;\"><br><br><br><br><br><br><br><br><br><br></p>\n",
    "<div style=\"width:100%;text-align:right;font-weight:bold;font-size:1.2em;\"> 15 </div>\n",
    "</div><img src=\"https://raw.githubusercontent.com/andrejkk/ORvTK_SlidesImgs/master/footer_full.jpg\">"
   ]
  },
  {
   "cell_type": "markdown",
   "metadata": {
    "slideshow": {
     "slide_type": "slide"
    }
   },
   "source": [
    "<div style=\"display:flex;font-weight:bold;font-size:0.9em;\">\n",
    "<div style=\"flex:1;width:50%;\"> Uvod v Optimizacijo v telekomunikacijah </div>\n",
    "<div style=\"flex:1;width:50%;text-align:right;\"> 1.2. Primeri in posebnosti OR v TK </div>\n",
    "</div>\n",
    "\n",
    "\n",
    "## ■ Specifike OP v TK (2): Kompleksnost sistemov\n",
    "\n",
    "- Uporabnik je človek\n",
    "    - QoE\n",
    "    - MOS: srednja vrednost mnenja\n",
    "    - Statistična evalvacija vprašalnikov\n",
    "    \n",
    "<p>\n",
    "- Sistem s povratno vezavo\n",
    "    - Odmetavanje paketov\n",
    "\n",
    "<img style=\"float: right; width: 500px; margin:-80px 20px 10px 0;\" src=\"https://raw.githubusercontent.com/andrejkk/ORvTK_SlidesImgs/master/ComplexNetSys_ang.png\">\n",
    "\n",
    "\n",
    "<p style=\"margin-bottom:1cm;\"></p><br><br><br><br><br>\n",
    "<div style=\"width:100%;text-align:right;font-weight:bold;font-size:1.2em;\"> 16 </div>\n",
    "<img src=\"https://raw.githubusercontent.com/andrejkk/ORvTK_SlidesImgs/master/footer_full.jpg\">"
   ]
  },
  {
   "cell_type": "markdown",
   "metadata": {
    "slideshow": {
     "slide_type": "slide"
    }
   },
   "source": [
    "<div style=\"display:flex;font-weight:bold;font-size:0.9em;\">\n",
    "<div style=\"flex:1;width:50%;\"> Uvod v Optimizacijo v telekomunikacijah </div>\n",
    "<div style=\"flex:1;width:50%;text-align:right;\"> 1.2. Primeri in posebnosti OR v TK </div>\n",
    "</div>\n",
    "\n",
    "\n",
    "## ■ Specifike OP v TK (3): Kriterijska funkcija in merjenje uporabnikov\n",
    "\n",
    "\n",
    "- Kriterijska funkcija ni matematična funkcija, ampak učinek storitve iz stališča uporabnika\n",
    "- učinkovitost in učinki storitve so\n",
    "  - slabo definirani\n",
    "  - težko merljivi\n",
    "  - zahtevajo zapleten uporabniške eksperimente\n",
    "\n",
    "\n",
    "- posebno poglavje \n",
    "\n",
    "\n",
    "<p style=\"margin-bottom:1cm;\"></p><br><br><br><br><br>\n",
    "<div style=\"width:100%;text-align:right;font-weight:bold;font-size:1.2em;\"> 17</div>\n",
    "<img src=\"https://raw.githubusercontent.com/andrejkk/ORvTK_SlidesImgs/master/footer_full.jpg\">"
   ]
  },
  {
   "cell_type": "markdown",
   "metadata": {
    "slideshow": {
     "slide_type": "slide"
    }
   },
   "source": [
    "<div style=\"display:flex;font-weight:bold;font-size:0.9em;\">\n",
    "<div style=\"flex:1;width:50%;\"> Uvod v Optimizacijo v telekomunikacijah </div>\n",
    "<div style=\"flex:1;width:50%;text-align:right;\"> 1.2. Primeri in posebnosti OR v TK </div>\n",
    "</div>\n",
    "\n",
    "\n",
    "## ■ Značilen potek reševanja problema\n",
    "\n",
    "- Bistveno je poznavanje področja <p> \n",
    "    (ang. domain knowledge)\n",
    "- Več iteracij\n",
    "- Človeški vidik: implementacija <p> \n",
    "    rezultatov optimizacije je izredno naporna \n",
    "\n",
    "<img style=\"float: right; width: 250px; margin:-160px 20px 10px 0;\" \n",
    "src=\"https://raw.githubusercontent.com/andrejkk/ORvTK_SlidesImgs/master/OptimizProc_slo.png\">\n",
    "\n",
    "\n",
    "<p style=\"margin-bottom:1cm;\"><br><br><br><br><br></p><br><br><br><br><br><br><br><br><br><br>\n",
    "<div style=\"width:100%;text-align:right;font-weight:bold;font-size:1.2em;\"> 18 </div>\n",
    "<img src=\"https://raw.githubusercontent.com/andrejkk/ORvTK_SlidesImgs/master/footer_full.jpg\">"
   ]
  },
  {
   "cell_type": "markdown",
   "metadata": {
    "slideshow": {
     "slide_type": "slide"
    }
   },
   "source": [
    "<div style=\"display:flex;font-weight:bold;font-size:0.9em;\">\n",
    "<div style=\"flex:1;width:50%;\"> Uvod v Optimizacijo v telekomunikacijah </div>\n",
    "<div style=\"flex:1;width:50%;text-align:right;\"> 1.2. Primeri in posebnosti OR v TK </div>\n",
    "</div>\n",
    "\n",
    "\n",
    "## ■ Wikipedia povezave (1)\n",
    "\n",
    "<table style=\"width:70%\" align=\"left\">\n",
    "  <tr>\n",
    "    <th>The algorithm and the computational complexity (algorithm, computational complexity).\n",
    "    </th>\n",
    "    <th>\n",
    "http://en.wikipedia.org/wiki/Algorithm \n",
    "http://en.wikipedia.org/wiki/Computational_complexity\n",
    "http://en.wikipedia.org/wiki/Analysis_of_algorithms\n",
    "http://en.wikipedia.org/wiki/Numerical_error </th> \n",
    "  </tr>\n",
    "  <tr>\n",
    "    <td>Graph theory (description, operations on graphs, basic graph algorithms, selected properties of graphs) and data structures.\n",
    "    </td>\n",
    "    <td>\n",
    "http://en.wikipedia.org/wiki/Graph_theory\n",
    "http://en.wikipedia.org/wiki/Data_structures        \n",
    "    </td> \n",
    "  </tr>\n",
    "  <tr>\n",
    "    <td>Introduction to operations research and optimization. Optimization task (formulation, objective function, types of solutions).\n",
    "    </td>\n",
    "    <td>http://en.wikipedia.org/wiki/Operations_research\n",
    "http://en.wikipedia.org/wiki/Optimization </td> \n",
    "  </tr>\n",
    "  <tr>\n",
    "    <td>Combinatorial optimization, linear programming and integer programming (simplex method, travel salesman problem and a knapsack problem).\n",
    "    </td>\n",
    "    <td>http://en.wikipedia.org/wiki/Combinatorial_optimization\n",
    "http://en.wikipedia.org/wiki/Linear_programming\n",
    "http://en.wikipedia.org/wiki/Simplex_algorithm \n",
    "http://en.wikipedia.org/wiki/Traveling_salesman_problem \n",
    "  </tr>\n",
    "  <tr>\n",
    "    <td>Network analysis (maximal flow, minimum cost, shortest path, optimal labeling).\n",
    "    </td>\n",
    "    <td>http://en.wikipedia.org/wiki/Maximal_flow \n",
    "http://en.wikipedia.org/wiki/Minimum_cost_flow_problem\n",
    "http://en.wikipedia.org/wiki/Shortest_path \n",
    "  </tr>\n",
    "</table>\n",
    "\n",
    "\n",
    "\n",
    "<p style=\"margin-bottom:1cm;\"></p>\n",
    "<div style=\"width:100%;text-align:right;font-weight:bold;font-size:1.2em;\"> 19 </div>\n",
    "<img src=\"https://raw.githubusercontent.com/andrejkk/ORvTK_SlidesImgs/master/footer_full.jpg\">"
   ]
  },
  {
   "cell_type": "markdown",
   "metadata": {
    "slideshow": {
     "slide_type": "slide"
    }
   },
   "source": [
    "<div style=\"display:flex;font-weight:bold;font-size:0.9em;\">\n",
    "<div style=\"flex:1;width:50%;\"> Uvod v Optimizacijo v telekomunikacijah </div>\n",
    "<div style=\"flex:1;width:50%;text-align:right;\"> 1.2. Primeri in posebnosti OR v TK </div>\n",
    "</div>\n",
    "\n",
    "\n",
    "## ■ Wikipedia povezave (2)\n",
    "\n",
    "\n",
    "<table style=\"width:70%\" align=\"left\">\n",
    "  <tr>\n",
    "    <th>  \n",
    "Nonlinear optimization (gradient and Newton methods,  constrained optimization).\n",
    "    </th>\n",
    "    <th>\n",
    "http://en.wikipedia.org/wiki/Nonlinear_programming\n",
    "http://en.wikipedia.org/wiki/Constraint_optimization \n",
    "http://en.wikipedia.org/wiki/Nonlinear_conjugate_gradient_method \n",
    "    </th> \n",
    "  </tr>\n",
    "  <tr>\n",
    "    <th>  \n",
    "Dynamic programming and game theory.\n",
    "    </th>\n",
    "    <th>\n",
    "http://en.wikipedia.org/wiki/Dynamic_programming\n",
    "http://en.wikipedia.org/wiki/Game_theory \n",
    "    </th> \n",
    "  </tr>\n",
    "  <tr>\n",
    "    <th>  \n",
    "Markov chains (classification of states, ergodicity).\n",
    "    </th>\n",
    "    <th>\n",
    "http://en.wikipedia.org/wiki/Markov_chain \n",
    "    </th> \n",
    "  </tr>\n",
    "  <tr>\n",
    "    <th>  \n",
    "Time series \n",
    "    </th>\n",
    "    <th>\n",
    "http://en.wikipedia.org/wiki/Time_series\n",
    "http://en.wikipedia.org/wiki/Traffic_generation_model \n",
    "http://en.wikipedia.org/wiki/Autoregressive_fractionally_integrated_moving_average\n",
    "http://en.wikipedia.org/wiki/Self-similar_process \n",
    "    </th> \n",
    "  </tr>\n",
    "  <tr>\n",
    "    <th>\n",
    "Decission theory.\n",
    "    </th>\n",
    "    <th>\n",
    "http://en.wikipedia.org/wiki/Decision_theory \n",
    "    </th> \n",
    "  </tr>\n",
    "  <tr>\n",
    "    <th> \n",
    "Heuristic optimization methods\n",
    "    </th>\n",
    "    <th>\n",
    "http://en.wikipedia.org/wiki/Heuristic_algorithm \n",
    "    </th> \n",
    "  </tr>\n",
    "  <tr>\n",
    "    <th>  \n",
    "Important applications in telecommunications (topology control, optimal resource allocation, optimal routing, optimal recovery after an error).\n",
    "    </th>\n",
    "    <th>\n",
    "http://en.wikipedia.org/wiki/Routing\n",
    "http://en.wikipedia.org/wiki/Scheduling \n",
    "    </th> \n",
    "  </tr>\n",
    "</table>\n",
    "\n",
    "\n",
    "\n",
    "<p style=\"margin-bottom:1cm;\"></p>\n",
    "<div style=\"width:100%;text-align:right;font-weight:bold;font-size:1.2em;\"> 20 </div>\n",
    "<img src=\"https://raw.githubusercontent.com/andrejkk/ORvTK_SlidesImgs/master/footer_full.jpg\">"
   ]
  },
  {
   "cell_type": "code",
   "execution_count": null,
   "metadata": {},
   "outputs": [],
   "source": []
  }
 ],
 "metadata": {
  "celltoolbar": "Slideshow",
  "kernelspec": {
   "display_name": "Python 3",
   "language": "python",
   "name": "python3"
  },
  "language_info": {
   "codemirror_mode": {
    "name": "ipython",
    "version": 3
   },
   "file_extension": ".py",
   "mimetype": "text/x-python",
   "name": "python",
   "nbconvert_exporter": "python",
   "pygments_lexer": "ipython3",
   "version": "3.10.5 (tags/v3.10.5:f377153, Jun  6 2022, 16:14:13) [MSC v.1929 64 bit (AMD64)]"
  },
  "vscode": {
   "interpreter": {
    "hash": "66d245bc0aa345411577de3f292b9e6a6906f0558af2a59212c3c2455e5d14f2"
   }
  }
 },
 "nbformat": 4,
 "nbformat_minor": 2
}
